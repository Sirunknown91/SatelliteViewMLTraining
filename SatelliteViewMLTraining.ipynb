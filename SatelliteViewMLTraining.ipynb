{
 "cells": [
  {
   "cell_type": "code",
   "execution_count": 560,
   "metadata": {
    "editable": true,
    "slideshow": {
     "slide_type": ""
    },
    "tags": []
   },
   "outputs": [],
   "source": [
    "import ultralytics\n",
    "from ultralytics import YOLO\n",
    "\n",
    "model = YOLO(\"yolov8m.pt\")"
   ]
  },
  {
   "cell_type": "markdown",
   "metadata": {},
   "source": [
    "# Creating the data frames \n",
    "### (run everything here before anything that works with the data frames)"
   ]
  },
  {
   "cell_type": "code",
   "execution_count": null,
   "metadata": {},
   "outputs": [
    {
     "name": "stdout",
     "output_type": "stream",
     "text": [
      "      ID                    Address SatelliteImageName StreetviewImageName     Status   Pool\n",
      "0      1     13143 S Carondolet Ave              s1001               v1001  Abandoned  FALSE\n",
      "1      2          7222 S Euclid Ave              s1002               v1002  Abandoned  FALSE\n",
      "2      3          7236 S Euclid Ave              s1003               v1003      Owned  FALSE\n",
      "3      4     1344 S Springfield Ave              s1004               v1004  Abandoned  FALSE\n",
      "4      5             3853 W 14th St              s1005               v1005      Owned  FALSE\n",
      "..   ...                        ...                ...                 ...        ...    ...\n",
      "495  496  6531 S Eberhart Ave 60637             s10496              v10496      Owned  FALSE\n",
      "496  497     4342 W Wilcox St 60624             s10497              v10497      Owned  FALSE\n",
      "497  498     5331 S Honore St 60609             s10498              v10498  Abandoned  FALSE\n",
      "498  499  3641 W Douglas Blvd 60623             s10499              v10499  Abandoned  FALSE\n",
      "499  500   1438 S Millard Ave 60623             s10500              v10500      Owned  FALSE\n",
      "\n",
      "[500 rows x 6 columns]\n",
      "      ID                     Address SatelliteImageName StreetviewImageName     Status   Pool\n",
      "0      1       3319 ST PAUL ST 46237              s2001               v2001  Abandoned  FALSE\n",
      "1      2    1126 N Dearborn St 46201              s2002               v2002      Owned  FALSE\n",
      "2      3     2709 N RITTER AVE 46218              s2003               v2003  Abandoned  FALSE\n",
      "3      4      23 S Bradley Ave 46201              s2004               v2004  Abandoned  FALSE\n",
      "4      5      58 S BRADLEY AVE 46201              s2005               v2005      Owned  FALSE\n",
      "..   ...                         ...                ...                 ...        ...    ...\n",
      "286  287        4224 S Post Rd 46239             s20287              v20287      Owned  FALSE\n",
      "287  288  4366 N ARLINGTON AVE 46226             s20288              v20288  Abandoned  FALSE\n",
      "288  289        1010 W 27TH ST 46208             s20289              v20289  Abandoned  FALSE\n",
      "289  290         933 W 27th St 46208             s20290              v20290      Owned  FALSE\n",
      "290  291      948 N Holmes Ave 46222             s20291              v20291      Owned  FALSE\n",
      "\n",
      "[291 rows x 6 columns]\n"
     ]
    }
   ],
   "source": [
    "import numpy as np\n",
    "import pandas as pd\n",
    "from IPython.display import Image, display\n",
    "import os\n",
    "from pathlib import Path\n",
    "\n",
    "#expands table for printing/debug purposes\n",
    "pd.set_option('display.width', 160)\n",
    "\n",
    "file = open(\"NASA_Datasets - Sheet1.csv\")\n",
    "\n",
    "#discards first few lines of no data\n",
    "for i in range(4):\n",
    "    file.readline()\n",
    "\n",
    "chicagoData = []\n",
    "indianapolisData = []\n",
    "\n",
    "#read every line of file\n",
    "while not file.closed:\n",
    "    dataRow = file.readline()\n",
    "    if(dataRow == ''):\n",
    "        file.close()\n",
    "    else:\n",
    "        dataRowArray = dataRow.split(',')\n",
    "        dataRowArray = [string.strip() for string in dataRowArray]\n",
    "        chicagoData.append(dataRowArray[0 : 6])\n",
    "        indianapolisData.append(dataRowArray[7 : 13])\n",
    "\n",
    "#cleaning up indianapolis data\n",
    "while(indianapolisData[-1][0] == ''):\n",
    "    #cleaning up empty rows from end caused by larger chicago data\n",
    "    indianapolisData.pop(-1)\n",
    "\n",
    "for row in indianapolisData:\n",
    "    row[5] = row[5].replace('\\n', '')\n",
    "\n",
    "    \n",
    "#paths to folders of image data\n",
    "satelliteImageFilePathHeader = \"satellite_images/\"\n",
    "streetviewImageFilePathHeader = \"streetview_images/\"\n",
    "\n",
    "#set up data frames\n",
    "chicagoDataFrame = pd.DataFrame(chicagoData)\n",
    "chicagoDataFrame = chicagoDataFrame.rename(columns={0 : \"ID\", 1 : \"Address\", 2 : \"SatelliteImageName\", 3 : \"StreetviewImageName\", 4 : \"Status\", 5 : \"Pool\"})\n",
    "\n",
    "indianapolisDataFrame = pd.DataFrame(indianapolisData)\n",
    "indianapolisDataFrame = indianapolisDataFrame.rename(columns={0 : \"ID\", 1 : \"Address\", 2 : \"SatelliteImageName\", 3 : \"StreetviewImageName\", 4 : \"Status\", 5 : \"Pool\"})\n",
    "\n",
    "#displaying all the stuff\n",
    "print(chicagoDataFrame)\n",
    "print(indianapolisDataFrame)\n",
    "        \n"
   ]
  },
  {
   "cell_type": "code",
   "execution_count": 566,
   "metadata": {},
   "outputs": [
    {
     "name": "stdout",
     "output_type": "stream",
     "text": [
      "      ID                    Address SatelliteImageName StreetviewImageName     Status   Pool\n",
      "0      1     13143 S Carondolet Ave              s1001              v10001  Abandoned  FALSE\n",
      "1      2          7222 S Euclid Ave              s1002              v10002  Abandoned  FALSE\n",
      "2      3          7236 S Euclid Ave              s1003              v10003      Owned  FALSE\n",
      "3      4     1344 S Springfield Ave              s1004              v10004  Abandoned  FALSE\n",
      "4      5             3853 W 14th St              s1005              v10005      Owned  FALSE\n",
      "..   ...                        ...                ...                 ...        ...    ...\n",
      "495  496  6531 S Eberhart Ave 60637             s10496              v10496      Owned  FALSE\n",
      "496  497     4342 W Wilcox St 60624             s10497              v10497      Owned  FALSE\n",
      "497  498     5331 S Honore St 60609             s10498              v10498  Abandoned  FALSE\n",
      "498  499  3641 W Douglas Blvd 60623             s10499              v10499  Abandoned  FALSE\n",
      "499  500   1438 S Millard Ave 60623             s10500              v10500      Owned  FALSE\n",
      "\n",
      "[500 rows x 6 columns]\n",
      "      ID                     Address SatelliteImageName StreetviewImageName     Status   Pool\n",
      "0      1       3319 ST PAUL ST 46237              s2001              v20001  Abandoned  FALSE\n",
      "1      2    1126 N Dearborn St 46201              s2002              v20002      Owned  FALSE\n",
      "2      3     2709 N RITTER AVE 46218              s2003              v20003  Abandoned  FALSE\n",
      "3      4      23 S Bradley Ave 46201              s2004              v20004  Abandoned  FALSE\n",
      "4      5      58 S BRADLEY AVE 46201              s2005              v20005      Owned  FALSE\n",
      "..   ...                         ...                ...                 ...        ...    ...\n",
      "286  287        4224 S Post Rd 46239             s20287              v20287      Owned  FALSE\n",
      "287  288  4366 N ARLINGTON AVE 46226             s20288              v20288  Abandoned  FALSE\n",
      "288  289        1010 W 27TH ST 46208             s20289              v20289  Abandoned  FALSE\n",
      "289  290         933 W 27th St 46208             s20290              v20290      Owned  FALSE\n",
      "290  291      948 N Holmes Ave 46222             s20291              v20291      Owned  FALSE\n",
      "\n",
      "[291 rows x 6 columns]\n"
     ]
    }
   ],
   "source": [
    "#fixing street view image formatting\n",
    "def fixStreetImage(dataFrame):\n",
    "    for i in range(dataFrame.shape[0]):\n",
    "        streetviewImageName = dataFrame.at[i, 'StreetviewImageName']\n",
    "        if(len(streetviewImageName) < 6):\n",
    "            streetviewImageName = streetviewImageName.replace('v10','v100')\n",
    "            streetviewImageName = streetviewImageName.replace('v20','v200')\n",
    "            dataFrame.at[i, 'StreetviewImageName'] = streetviewImageName\n",
    "\n",
    "    return dataFrame\n",
    "\n",
    "chicagoDataFrame = fixStreetImage(chicagoDataFrame)\n",
    "indianapolisDataFrame = fixStreetImage(indianapolisDataFrame)\n",
    "\n",
    "#displaying all the stuff\n",
    "print(chicagoDataFrame)\n",
    "print(indianapolisDataFrame)\n"
   ]
  },
  {
   "cell_type": "code",
   "execution_count": 567,
   "metadata": {},
   "outputs": [
    {
     "name": "stdout",
     "output_type": "stream",
     "text": [
      "      ID                     Address SatelliteImageName StreetviewImageName     Status   Pool\n",
      "0      1      13143 S Carondolet Ave              s1001              v10001  Abandoned  FALSE\n",
      "1      2           7222 S Euclid Ave              s1002              v10002  Abandoned  FALSE\n",
      "2      3           7236 S Euclid Ave              s1003              v10003      Owned  FALSE\n",
      "3      4      1344 S Springfield Ave              s1004              v10004  Abandoned  FALSE\n",
      "4      5              3853 W 14th St              s1005              v10005      Owned  FALSE\n",
      "..   ...                         ...                ...                 ...        ...    ...\n",
      "286  287        4224 S Post Rd 46239             s20287              v20287      Owned  FALSE\n",
      "287  288  4366 N ARLINGTON AVE 46226             s20288              v20288  Abandoned  FALSE\n",
      "288  289        1010 W 27TH ST 46208             s20289              v20289  Abandoned  FALSE\n",
      "289  290         933 W 27th St 46208             s20290              v20290      Owned  FALSE\n",
      "290  291      948 N Holmes Ave 46222             s20291              v20291      Owned  FALSE\n",
      "\n",
      "[791 rows x 6 columns]\n"
     ]
    }
   ],
   "source": [
    "#concatenates the data\n",
    "combinedDataFrame = pd.concat([chicagoDataFrame, indianapolisDataFrame])\n",
    "print(combinedDataFrame)"
   ]
  },
  {
   "cell_type": "markdown",
   "metadata": {},
   "source": [
    "# Creating classification data sets\n",
    "### (creates the folders of training/testing/validation data)"
   ]
  },
  {
   "cell_type": "code",
   "execution_count": null,
   "metadata": {},
   "outputs": [
    {
     "name": "stdout",
     "output_type": "stream",
     "text": [
      "helper functions created\n"
     ]
    }
   ],
   "source": [
    "\n",
    "import random, os.path\n",
    "import shutil\n",
    "from pathlib import Path\n",
    "\n",
    "def createNewTrainingFileDirectory(dataFolder, datagroupFolder, classifyFolder):\n",
    "    \"\"\"\n",
    "    helper function for creating the data set directories\n",
    "\n",
    "    Parameters\n",
    "    ----------\n",
    "    dataFolder : what data set this should belong to\n",
    "    datagroupFolder : train/val/test\n",
    "    classifyFolder : what classification this belongs to\n",
    "\n",
    "    Returns\n",
    "    -------\n",
    "    string : path to the directory of the file\n",
    "        \n",
    "    \"\"\"\n",
    "    path = \"classifications/\"\n",
    "    path += dataFolder + \"/\" + datagroupFolder + \"/\" + classifyFolder\n",
    "    \n",
    "    return path\n",
    "\n",
    "def createNewTrainingFilePath(name, dataFolder, datagroupFolder, classifyFolder, customFooter = \"\"):\n",
    "    \"\"\"\n",
    "    helper function for creating the data set paths\n",
    "\n",
    "    Parameters\n",
    "    ----------\n",
    "    name : name of file\n",
    "    dataFolder : what data set this should belong to\n",
    "    datagroupFolder : train/val/test\n",
    "    classifyFolder : what classification this belongs to\n",
    "\n",
    "    Returns\n",
    "    -------\n",
    "    string : path the copied file should have\n",
    "        \n",
    "    \"\"\"\n",
    "    path = createNewTrainingFileDirectory(dataFolder, datagroupFolder, classifyFolder) + \"/\" + name + \"_\" + classifyFolder + customFooter + \".png\"\n",
    "    \n",
    "    return path\n",
    "    \n",
    "#helper function that generates what set of data something should be in\n",
    "def generateRandomDataGroup(val_odds = 0.1, test_odds = 0.1):\n",
    "    dataGroupInt = random.uniform(0,1)\n",
    "    dataGroup = \"\"\n",
    "    if(dataGroupInt < val_odds):\n",
    "        dataGroup = \"val\"\n",
    "    elif(dataGroupInt < val_odds + test_odds):\n",
    "        dataGroup = \"test\"\n",
    "    else:\n",
    "        dataGroup = \"train\"\n",
    "    return dataGroup\n",
    "\n",
    "\n",
    "#paths to folders of image data\n",
    "satelliteImageFilePathHeader = \"satellite_images/\"\n",
    "streetviewImageFilePathHeader = \"streetview_images/\"\n",
    "\n",
    "print(\"helper functions created\")"
   ]
  },
  {
   "cell_type": "code",
   "execution_count": null,
   "metadata": {},
   "outputs": [],
   "source": [
    "#abandonned vs owned streetview dataset creation\n",
    "\n",
    "\n",
    "random.seed(42) #consistent results when generating training data\n",
    "\n",
    "#turning the streetview image data into classification training data\n",
    "for index,row in combinedDataFrame.iterrows():\n",
    "    streetviewImageName = row['StreetviewImageName']\n",
    "    path = streetviewImageFilePathHeader + streetviewImageName + \".png\"\n",
    "\n",
    "    abandoned = row['Status'].strip().lower()\n",
    "    \n",
    "    datagroupFolder = generateRandomDataGroup()\n",
    "    \n",
    "    newPath = createNewTrainingFilePath(streetviewImageName, \"streetview_abandonedness\", datagroupFolder, abandoned)\n",
    "    newDirectory = createNewTrainingFileDirectory(\"streetview_abandonedness\", datagroupFolder, abandoned)\n",
    "\n",
    "    if(os.path.isfile(path)):\n",
    "        Path(newDirectory).mkdir(parents=True, exist_ok=True)\n",
    "        shutil.copyfile(path, newPath)\n",
    "\n",
    "\n",
    "#same as above but the mirrored street view images\n",
    "for index,row in combinedDataFrame.iterrows():\n",
    "    streetviewImageName = row['StreetviewImageName']\n",
    "    path = \"streetview_images_mirrored/\" + streetviewImageName + \".png\"\n",
    "\n",
    "    abandoned = row['Status'].strip().lower()\n",
    "    \n",
    "    datagroupFolder = generateRandomDataGroup()\n",
    "    \n",
    "    newPath = createNewTrainingFilePath(streetviewImageName, \"streetview_abandonedness\", datagroupFolder, abandoned, \"_m\")\n",
    "    newDirectory = createNewTrainingFileDirectory(\"streetview_abandonedness\", datagroupFolder, abandoned)\n",
    "\n",
    "    if(os.path.isfile(path)):\n",
    "        Path(newDirectory).mkdir(parents=True, exist_ok=True)\n",
    "        shutil.copyfile(path, newPath)"
   ]
  },
  {
   "cell_type": "code",
   "execution_count": 327,
   "metadata": {},
   "outputs": [],
   "source": [
    "#abandonned vs owned streetview dataset creation (clean, no mirrored images\n",
    "\n",
    "\n",
    "random.seed(42) #consistent results when generating training data\n",
    "\n",
    "#turning the streetview image data into classification training data\n",
    "for index,row in combinedDataFrame.iterrows():\n",
    "    streetviewImageName = row['StreetviewImageName']\n",
    "    path = streetviewImageFilePathHeader + streetviewImageName + \".png\"\n",
    "\n",
    "    abandoned = row['Status'].strip().lower()\n",
    "    \n",
    "    datagroupFolder = generateRandomDataGroup()\n",
    "    \n",
    "    newPath = createNewTrainingFilePath(streetviewImageName, \"streetview_abandonedness_clean\", datagroupFolder, abandoned)\n",
    "    newDirectory = createNewTrainingFileDirectory(\"streetview_abandonedness_clean\", datagroupFolder, abandoned)\n",
    "\n",
    "    if(os.path.isfile(path)):\n",
    "        Path(newDirectory).mkdir(parents=True, exist_ok=True)\n",
    "        shutil.copyfile(path, newPath)\n",
    "\n"
   ]
  },
  {
   "cell_type": "code",
   "execution_count": null,
   "metadata": {},
   "outputs": [],
   "source": [
    "#abandonned vs owned satelliteview dataset creation\n",
    "\n",
    "random.seed(43) #consistent results when generating training data\n",
    "\n",
    "#turning the streetview image data into classification training data\n",
    "for index,row in combinedDataFrame.iterrows():\n",
    "    imageName = row['SatelliteImageName']\n",
    "    path = satelliteImageFilePathHeader + imageName + \".png\"\n",
    "\n",
    "    abandoned = row['Status'].strip().lower()\n",
    "    \n",
    "    datagroupFolder = generateRandomDataGroup()\n",
    "    \n",
    "    newPath = createNewTrainingFilePath(imageName, \"satellite_abandonedness\", datagroupFolder, abandoned)\n",
    "    newDirectory = createNewTrainingFileDirectory(\"satellite_abandonedness\", datagroupFolder, abandoned)\n",
    "\n",
    "    if(os.path.isfile(path)):\n",
    "        Path(newDirectory).mkdir(parents=True, exist_ok=True)\n",
    "        shutil.copyfile(path, newPath)\n",
    "\n",
    "\n",
    "#same as above but for mirrored images\n",
    "for index,row in combinedDataFrame.iterrows():\n",
    "    imageName = row['SatelliteImageName']\n",
    "    path = \"satellite_images_mirrored/\" + imageName + \".png\"\n",
    "\n",
    "    abandoned = row['Status'].strip().lower()\n",
    "    \n",
    "    datagroupFolder = generateRandomDataGroup()\n",
    "    \n",
    "    newPath = createNewTrainingFilePath(imageName, \"satellite_abandonedness\", datagroupFolder, abandoned, \"_m\")\n",
    "    newDirectory = createNewTrainingFileDirectory(\"satellite_abandonedness\", datagroupFolder, abandoned)\n",
    "\n",
    "    if(os.path.isfile(path)):\n",
    "        Path(newDirectory).mkdir(parents=True, exist_ok=True)\n",
    "        shutil.copyfile(path, newPath)\n"
   ]
  },
  {
   "cell_type": "code",
   "execution_count": null,
   "metadata": {},
   "outputs": [],
   "source": [
    "#abandonned vs owned stitched dataset creation\n",
    "\n",
    "random.seed(44) #consistent results when generating training data\n",
    "\n",
    "#turning the streetview image data into classification training data\n",
    "for index,row in combinedDataFrame.iterrows():\n",
    "    streetviewImageName = row['StreetviewImageName']\n",
    "    satelliteImageName = row['SatelliteImageName']\n",
    "    imageName = f\"{streetviewImageName}_{satelliteImageName}\"\n",
    "    path = f\"streetsatellitestiched/{imageName}.png\"\n",
    "\n",
    "    abandoned = row['Status'].strip().lower()\n",
    "    \n",
    "    datagroupFolder = generateRandomDataGroup()\n",
    "    \n",
    "    newPath = createNewTrainingFilePath(imageName, \"stitched_abandonedness\", datagroupFolder, abandoned)\n",
    "    newDirectory = createNewTrainingFileDirectory(\"stitched_abandonedness\", datagroupFolder, abandoned)\n",
    "\n",
    "    if(os.path.isfile(path)):\n",
    "        Path(newDirectory).mkdir(parents=True, exist_ok=True)\n",
    "        shutil.copyfile(path, newPath)\n",
    "\n",
    "\n",
    "#above but mirrored\n",
    "for index,row in combinedDataFrame.iterrows():\n",
    "    streetviewImageName = row['StreetviewImageName']\n",
    "    satelliteImageName = row['SatelliteImageName']\n",
    "    imageName = f\"{streetviewImageName}_{satelliteImageName}\"\n",
    "    path = f\"streetsatellitestiched_mirrored/{imageName}.png\"\n",
    "\n",
    "    abandoned = row['Status'].strip().lower()\n",
    "    \n",
    "    datagroupFolder = generateRandomDataGroup()\n",
    "    \n",
    "    newPath = createNewTrainingFilePath(imageName, \"stitched_abandonedness\", datagroupFolder, abandoned, \"_m\")\n",
    "    newDirectory = createNewTrainingFileDirectory(\"stitched_abandonedness\", datagroupFolder, abandoned)\n",
    "\n",
    "    if(os.path.isfile(path)):\n",
    "        Path(newDirectory).mkdir(parents=True, exist_ok=True)\n",
    "        shutil.copyfile(path, newPath)\n",
    "\n"
   ]
  },
  {
   "cell_type": "code",
   "execution_count": null,
   "metadata": {},
   "outputs": [],
   "source": [
    "#abandonned vs owned stitched dataset creation (Clean, meaning no mirrored or flipped images)\n",
    "\n",
    "random.seed(44) #consistent results when generating training data\n",
    "\n",
    "#turning the streetview image data into classification training data\n",
    "for index,row in combinedDataFrame.iterrows():\n",
    "    streetviewImageName = row['StreetviewImageName']\n",
    "    satelliteImageName = row['SatelliteImageName']\n",
    "    imageName = f\"{streetviewImageName}_{satelliteImageName}\"\n",
    "    path = f\"streetsatellitestiched/{imageName}.png\"\n",
    "\n",
    "    abandoned = row['Status'].strip().lower()\n",
    "    \n",
    "    datagroupFolder = generateRandomDataGroup()\n",
    "    \n",
    "    newPath = createNewTrainingFilePath(imageName, \"stitched_abandonedness_clean\", datagroupFolder, abandoned)\n",
    "    newDirectory = createNewTrainingFileDirectory(\"stitched_abandonedness_clean\", datagroupFolder, abandoned)\n",
    "\n",
    "    if(os.path.isfile(path)):\n",
    "        Path(newDirectory).mkdir(parents=True, exist_ok=True)\n",
    "        shutil.copyfile(path, newPath)\n"
   ]
  },
  {
   "cell_type": "code",
   "execution_count": null,
   "metadata": {},
   "outputs": [],
   "source": [
    "#abandonned vs owned overlay dataset creation (Clean, meaning no mirrored or flipped images)\n",
    "\n",
    "random.seed(45) #consistent results when generating training data\n",
    "\n",
    "#turning the streetview image data into classification training data\n",
    "for index,row in combinedDataFrame.iterrows():\n",
    "    streetviewImageName = row['StreetviewImageName']\n",
    "    satelliteImageName = row['SatelliteImageName']\n",
    "    imageName = f\"{streetviewImageName}_{satelliteImageName}\"\n",
    "    path = f\"streetsatelliteoverlayed/{imageName}.png\"\n",
    "\n",
    "    abandoned = row['Status'].strip().lower()\n",
    "    \n",
    "    datagroupFolder = generateRandomDataGroup()\n",
    "    \n",
    "    newPath = createNewTrainingFilePath(imageName, \"overlay_abandonedness\", datagroupFolder, abandoned)\n",
    "    newDirectory = createNewTrainingFileDirectory(\"overlay_abandonedness\", datagroupFolder, abandoned)\n",
    "\n",
    "    if(os.path.isfile(path)):\n",
    "        Path(newDirectory).mkdir(parents=True, exist_ok=True)\n",
    "        shutil.copyfile(path, newPath)\n"
   ]
  },
  {
   "cell_type": "code",
   "execution_count": null,
   "metadata": {
    "editable": true,
    "slideshow": {
     "slide_type": ""
    },
    "tags": []
   },
   "outputs": [],
   "source": [
    "#chicago vs indianapolis streetview dataset creation\n",
    "import random, os.path\n",
    "import shutil\n",
    "\n",
    "random.seed(13)#consistent results when generating training data\n",
    "\n",
    "#turning the streetview image data into classification training data\n",
    "for i in range(chicagoDataFrame.shape[0]):\n",
    "    streetviewImageName = chicagoDataFrame.at[i, 'StreetviewImageName']\n",
    "    path = streetviewImageFilePathHeader + streetviewImageName + \".png\"\n",
    "\n",
    "    dataGroup = generateRandomDataGroup()\n",
    "    \n",
    "    newPath = createNewTrainingFilePath(streetviewImageName, \"chi_vs_ind\", dataGroup, 'chicago')\n",
    "    \n",
    "    shutil.copyfile(path, newPath)\n",
    "\n",
    "for i in range(indianapolisDataFrame.shape[0]):\n",
    "    streetviewImageName = indianapolisDataFrame.at[i, 'StreetviewImageName']\n",
    "    path = streetviewImageFilePathHeader + streetviewImageName + \".png\"\n",
    "\n",
    "    dataGroup = generateRandomDataGroup()\n",
    "    \n",
    "    newPath = createNewTrainingFilePath(streetviewImageName, \"chi_vs_ind\", dataGroup, 'indianapolis')\n",
    "\n",
    "    if(os.path.isfile(path)):\n",
    "        shutil.copyfile(path, newPath)\n"
   ]
  },
  {
   "cell_type": "code",
   "execution_count": null,
   "metadata": {
    "editable": true,
    "slideshow": {
     "slide_type": ""
    },
    "tags": []
   },
   "outputs": [],
   "source": [
    "#street view vs satellite view dataset creation\n",
    "import random\n",
    "from pathlib import Path\n",
    "import shutil\n",
    "\n",
    "\n",
    "#turning the streetview and satellite image data into classification training data\n",
    "for i in range(chicagoDataFrame.shape[0]):\n",
    "    satelliteviewImageName = chicagoDataFrame.at[i, 'SatelliteImageName']\n",
    "    path = satelliteImageFilePathHeader + satelliteviewImageName + \".png\"\n",
    "    \n",
    "    validating = random.randint(1, 8) == 1\n",
    "    newPath = createNewTrainingFilePath(satelliteviewImageName, \"satellite_vs_street\", True, validating)\n",
    "    \n",
    "    shutil.copyfile(path, newPath)\n",
    "    \n",
    "    streetviewImageName = chicagoDataFrame.at[i, 'StreetviewImageName']\n",
    "    path = streetviewImageFilePathHeader + streetviewImageName + \".png\"\n",
    "    \n",
    "    validating = random.randint(1, 8) == 1\n",
    "    newPath = createNewTrainingFilePath(streetviewImageName, \"satellite_vs_street\", False, validating)\n",
    "    \n",
    "    shutil.copyfile(path, newPath)"
   ]
  },
  {
   "cell_type": "code",
   "execution_count": 232,
   "metadata": {
    "editable": true,
    "slideshow": {
     "slide_type": ""
    },
    "tags": []
   },
   "outputs": [],
   "source": [
    "#pool vs no pool dataset creation\n",
    "import random\n",
    "from pathlib import Path\n",
    "import shutil\n",
    "\n",
    "def createPoolDataFromFolder(folderPath, footer = ''):\n",
    "    for index,row in combinedDataFrame.iterrows():\n",
    "        satelliteviewImageName = row['SatelliteImageName']\n",
    "        path = folderPath + satelliteviewImageName + \".png\"\n",
    "    \n",
    "        hasPool = row['Pool'] == 'TRUE'\n",
    "        if(hasPool):\n",
    "            poolStatus = \"pool\"\n",
    "            dataGroup = generateRandomDataGroup(val_odds = .15, test_odds = .1)\n",
    "        else:\n",
    "            poolStatus = \"no_pool\"\n",
    "            #intentionally put most of the no_pool data stuff into testing so the training and validation data is more balanced\n",
    "            dataGroup = generateRandomDataGroup(val_odds = .02, test_odds = .90)\n",
    "            \n",
    "        newPath = createNewTrainingFilePath(satelliteviewImageName, \"satellite_poolhaving\", dataGroup, poolStatus, footer)\n",
    "        newDirectory = createNewTrainingFileDirectory(\"satellite_poolhaving\", dataGroup, poolStatus)\n",
    "        \n",
    "        if(os.path.isfile(path)):\n",
    "            Path(newDirectory).mkdir(parents=True, exist_ok=True)\n",
    "            shutil.copyfile(path, newPath)\n",
    "\n",
    "random.seed(101) #consistent test data generation\n",
    "\n",
    "#turning the satellite image data into classification training data\n",
    "createPoolDataFromFolder(\"satellite_images/\")\n",
    "\n",
    "#same as above but for mirrored data\n",
    "createPoolDataFromFolder(\"satellite_images_mirrored/\", '_m')\n",
    "\n",
    "#same as above and above but for mirrored vertically data\n",
    "createPoolDataFromFolder(\"satellite_images_mirrored_vert/\", '_mv')\n",
    "\n",
    "#same as above and above and above but for flipped data\n",
    "createPoolDataFromFolder(\"satellite_images_flipped/\", '_f')\n",
    "    "
   ]
  },
  {
   "cell_type": "code",
   "execution_count": 366,
   "metadata": {
    "editable": true,
    "slideshow": {
     "slide_type": ""
    },
    "tags": []
   },
   "outputs": [],
   "source": [
    "#pool vs no pool dataset creation (Clean, no flipped or mirror images)\n",
    "import random\n",
    "from pathlib import Path\n",
    "import shutil\n",
    "\n",
    "random.seed(101) #consistent test data generation\n",
    "#turning the satellite image data into classification training data\n",
    "for index,row in combinedDataFrame.iterrows():\n",
    "    satelliteviewImageName = row['SatelliteImageName']\n",
    "    path = satelliteImageFilePathHeader + satelliteviewImageName + \".png\"\n",
    "\n",
    "    hasPool = row['Pool'] == 'TRUE'\n",
    "    if(hasPool):\n",
    "        poolStatus = \"pool\"\n",
    "        dataGroup = generateRandomDataGroup(val_odds = .3, test_odds = .15)\n",
    "    else:\n",
    "        poolStatus = \"no_pool\"\n",
    "        #intentionally put most of the no_pool data stuff into testing so the training and validation data is more balanced\n",
    "        dataGroup = generateRandomDataGroup(val_odds = .05, test_odds = .9)\n",
    "        \n",
    "    newPath = createNewTrainingFilePath(satelliteviewImageName, \"satellite_poolhaving_clean\", dataGroup, poolStatus)\n",
    "    newDirectory = createNewTrainingFileDirectory(\"satellite_poolhaving_clean\", dataGroup, poolStatus)\n",
    "    \n",
    "    if(os.path.isfile(path)):\n",
    "        Path(newDirectory).mkdir(parents=True, exist_ok=True)\n",
    "        shutil.copyfile(path, newPath)\n",
    "    "
   ]
  },
  {
   "cell_type": "markdown",
   "metadata": {},
   "source": [
    "# Abadonness Classification Model"
   ]
  },
  {
   "cell_type": "markdown",
   "metadata": {},
   "source": [
    "## Street View"
   ]
  },
  {
   "cell_type": "code",
   "execution_count": 493,
   "metadata": {
    "editable": true,
    "scrolled": true,
    "slideshow": {
     "slide_type": ""
    },
    "tags": []
   },
   "outputs": [
    {
     "name": "stdout",
     "output_type": "stream",
     "text": [
      "New https://pypi.org/project/ultralytics/8.3.78 available 😃 Update with 'pip install -U ultralytics'\n",
      "Ultralytics 8.3.73 🚀 Python-3.10.12 torch-2.6.0+cu124 CUDA:0 (NVIDIA GeForce RTX 4090, 24210MiB)\n",
      "\u001b[34m\u001b[1mengine/trainer: \u001b[0mtask=classify, mode=train, model=runs/classify/train138/weights/last.pt, data=classifications/streetview_abandonedness, epochs=100, time=None, patience=100, batch=16, imgsz=224, save=True, save_period=-1, cache=False, device=None, workers=8, project=None, name=train139, exist_ok=False, pretrained=True, optimizer=auto, verbose=True, seed=0, deterministic=True, single_cls=False, rect=False, cos_lr=False, close_mosaic=10, resume=False, amp=True, fraction=1.0, profile=False, freeze=None, multi_scale=False, overlap_mask=True, mask_ratio=4, dropout=0.0, val=True, split=val, save_json=False, save_hybrid=False, conf=None, iou=0.7, max_det=300, half=False, dnn=False, plots=True, source=None, vid_stride=1, stream_buffer=False, visualize=False, augment=False, agnostic_nms=False, classes=None, retina_masks=False, embed=None, show=False, save_frames=False, save_txt=False, save_conf=False, save_crop=False, show_labels=True, show_conf=True, show_boxes=True, line_width=None, format=torchscript, keras=False, optimize=False, int8=False, dynamic=False, simplify=True, opset=None, workspace=None, nms=False, lr0=0.01, lrf=0.01, momentum=0.937, weight_decay=0.0005, warmup_epochs=3.0, warmup_momentum=0.8, warmup_bias_lr=0.1, box=7.5, cls=0.5, dfl=1.5, pose=12.0, kobj=1.0, nbs=64, hsv_h=0.015, hsv_s=0.7, hsv_v=0.4, degrees=0.0, translate=0.1, scale=0.5, shear=10, perspective=0.0, flipud=0.0, fliplr=0, bgr=0.0, mosaic=1.0, mixup=0.0, copy_paste=0.0, copy_paste_mode=flip, auto_augment=randaugment, erasing=0.4, crop_fraction=1.0, cfg=None, tracker=botsort.yaml, save_dir=runs/classify/train139\n",
      "\u001b[34m\u001b[1mtrain:\u001b[0m /home/jupyter/classifications/streetview_abandonedness/train... found 1234 images in 2 classes ✅ \n",
      "\u001b[34m\u001b[1mval:\u001b[0m /home/jupyter/classifications/streetview_abandonedness/val... found 150 images in 2 classes ✅ \n",
      "\u001b[34m\u001b[1mtest:\u001b[0m /home/jupyter/classifications/streetview_abandonedness/test... found 136 images in 2 classes ✅ \n",
      "\n",
      "                   from  n    params  module                                       arguments                     \n",
      "  0                  -1  1      1392  ultralytics.nn.modules.conv.Conv             [3, 48, 3, 2]                 \n",
      "  1                  -1  1     41664  ultralytics.nn.modules.conv.Conv             [48, 96, 3, 2]                \n",
      "  2                  -1  2    111360  ultralytics.nn.modules.block.C2f             [96, 96, 2, True]             \n",
      "  3                  -1  1    166272  ultralytics.nn.modules.conv.Conv             [96, 192, 3, 2]               \n",
      "  4                  -1  4    813312  ultralytics.nn.modules.block.C2f             [192, 192, 4, True]           \n",
      "  5                  -1  1    664320  ultralytics.nn.modules.conv.Conv             [192, 384, 3, 2]              \n",
      "  6                  -1  4   3248640  ultralytics.nn.modules.block.C2f             [384, 384, 4, True]           \n",
      "  7                  -1  1   2655744  ultralytics.nn.modules.conv.Conv             [384, 768, 3, 2]              \n",
      "  8                  -1  2   7084032  ultralytics.nn.modules.block.C2f             [768, 768, 2, True]           \n",
      "  9                  -1  1    988162  ultralytics.nn.modules.head.Classify         [768, 2]                      \n",
      "YOLOv8m-cls summary: 141 layers, 15,774,898 parameters, 15,774,898 gradients, 41.9 GFLOPs\n",
      "Transferred 40/230 items from pretrained weights\n",
      "\u001b[34m\u001b[1mAMP: \u001b[0mrunning Automatic Mixed Precision (AMP) checks...\n",
      "\u001b[34m\u001b[1mAMP: \u001b[0mchecks passed ✅\n"
     ]
    },
    {
     "name": "stderr",
     "output_type": "stream",
     "text": [
      "\u001b[34m\u001b[1mtrain: \u001b[0mScanning /home/jupyter/classifications/streetview_abandonedness/train... 1234 images, 0 corrupt: 100%|██████████|\u001b[0m\n",
      "\u001b[34m\u001b[1mval: \u001b[0mScanning /home/jupyter/classifications/streetview_abandonedness/val... 150 images, 0 corrupt: 100%|██████████| 150/\u001b[0m\n"
     ]
    },
    {
     "name": "stdout",
     "output_type": "stream",
     "text": [
      "\u001b[34m\u001b[1moptimizer:\u001b[0m 'optimizer=auto' found, ignoring 'lr0=0.01' and 'momentum=0.937' and determining best 'optimizer', 'lr0' and 'momentum' automatically... \n",
      "\u001b[34m\u001b[1moptimizer:\u001b[0m AdamW(lr=0.001667, momentum=0.9) with parameter groups 38 weight(decay=0.0), 39 weight(decay=0.0005), 39 bias(decay=0.0)\n",
      "Image sizes 224 train, 224 val\n",
      "Using 8 dataloader workers\n",
      "Logging results to \u001b[1mruns/classify/train139\u001b[0m\n",
      "Starting training for 100 epochs...\n",
      "\n",
      "      Epoch    GPU_mem       loss  Instances       Size\n"
     ]
    },
    {
     "name": "stderr",
     "output_type": "stream",
     "text": [
      "      1/100      2.45G     0.2894          2        224: 100%|██████████| 78/78 [00:03<00:00, 25.00it/s]\n",
      "               classes   top1_acc   top5_acc: 100%|██████████| 5/5 [00:00<00:00, 93.24it/s]"
     ]
    },
    {
     "name": "stdout",
     "output_type": "stream",
     "text": [
      "                   all      0.753          1\n"
     ]
    },
    {
     "name": "stderr",
     "output_type": "stream",
     "text": [
      "\n"
     ]
    },
    {
     "name": "stdout",
     "output_type": "stream",
     "text": [
      "\n",
      "      Epoch    GPU_mem       loss  Instances       Size\n"
     ]
    },
    {
     "name": "stderr",
     "output_type": "stream",
     "text": [
      "      2/100      2.15G     0.4066          2        224: 100%|██████████| 78/78 [00:02<00:00, 29.37it/s]\n",
      "               classes   top1_acc   top5_acc: 100%|██████████| 5/5 [00:00<00:00, 80.90it/s]"
     ]
    },
    {
     "name": "stdout",
     "output_type": "stream",
     "text": [
      "                   all      0.707          1\n"
     ]
    },
    {
     "name": "stderr",
     "output_type": "stream",
     "text": [
      "\n"
     ]
    },
    {
     "name": "stdout",
     "output_type": "stream",
     "text": [
      "\n",
      "      Epoch    GPU_mem       loss  Instances       Size\n"
     ]
    },
    {
     "name": "stderr",
     "output_type": "stream",
     "text": [
      "      3/100       2.1G     0.4374          2        224: 100%|██████████| 78/78 [00:02<00:00, 30.45it/s]\n",
      "               classes   top1_acc   top5_acc: 100%|██████████| 5/5 [00:00<00:00, 97.20it/s]"
     ]
    },
    {
     "name": "stdout",
     "output_type": "stream",
     "text": [
      "                   all       0.72          1\n"
     ]
    },
    {
     "name": "stderr",
     "output_type": "stream",
     "text": [
      "\n"
     ]
    },
    {
     "name": "stdout",
     "output_type": "stream",
     "text": [
      "\n",
      "      Epoch    GPU_mem       loss  Instances       Size\n"
     ]
    },
    {
     "name": "stderr",
     "output_type": "stream",
     "text": [
      "      4/100       2.1G      0.528          2        224: 100%|██████████| 78/78 [00:02<00:00, 31.95it/s]\n",
      "               classes   top1_acc   top5_acc: 100%|██████████| 5/5 [00:00<00:00, 95.90it/s]"
     ]
    },
    {
     "name": "stdout",
     "output_type": "stream",
     "text": [
      "                   all      0.687          1\n"
     ]
    },
    {
     "name": "stderr",
     "output_type": "stream",
     "text": [
      "\n"
     ]
    },
    {
     "name": "stdout",
     "output_type": "stream",
     "text": [
      "\n",
      "      Epoch    GPU_mem       loss  Instances       Size\n"
     ]
    },
    {
     "name": "stderr",
     "output_type": "stream",
     "text": [
      "      5/100      2.14G     0.4519          2        224: 100%|██████████| 78/78 [00:02<00:00, 33.27it/s]\n",
      "               classes   top1_acc   top5_acc: 100%|██████████| 5/5 [00:00<00:00, 98.04it/s]"
     ]
    },
    {
     "name": "stdout",
     "output_type": "stream",
     "text": [
      "                   all      0.767          1\n"
     ]
    },
    {
     "name": "stderr",
     "output_type": "stream",
     "text": [
      "\n"
     ]
    },
    {
     "name": "stdout",
     "output_type": "stream",
     "text": [
      "\n",
      "      Epoch    GPU_mem       loss  Instances       Size\n"
     ]
    },
    {
     "name": "stderr",
     "output_type": "stream",
     "text": [
      "      6/100       2.1G       0.48          2        224: 100%|██████████| 78/78 [00:02<00:00, 32.66it/s]\n",
      "               classes   top1_acc   top5_acc: 100%|██████████| 5/5 [00:00<00:00, 95.71it/s]"
     ]
    },
    {
     "name": "stdout",
     "output_type": "stream",
     "text": [
      "                   all      0.733          1\n"
     ]
    },
    {
     "name": "stderr",
     "output_type": "stream",
     "text": [
      "\n"
     ]
    },
    {
     "name": "stdout",
     "output_type": "stream",
     "text": [
      "\n",
      "      Epoch    GPU_mem       loss  Instances       Size\n"
     ]
    },
    {
     "name": "stderr",
     "output_type": "stream",
     "text": [
      "      7/100      2.14G     0.4291          2        224: 100%|██████████| 78/78 [00:02<00:00, 32.80it/s]\n",
      "               classes   top1_acc   top5_acc: 100%|██████████| 5/5 [00:00<00:00, 93.29it/s]"
     ]
    },
    {
     "name": "stdout",
     "output_type": "stream",
     "text": [
      "                   all       0.68          1\n"
     ]
    },
    {
     "name": "stderr",
     "output_type": "stream",
     "text": [
      "\n"
     ]
    },
    {
     "name": "stdout",
     "output_type": "stream",
     "text": [
      "\n",
      "      Epoch    GPU_mem       loss  Instances       Size\n"
     ]
    },
    {
     "name": "stderr",
     "output_type": "stream",
     "text": [
      "      8/100       2.1G     0.3984          2        224: 100%|██████████| 78/78 [00:02<00:00, 32.15it/s]\n",
      "               classes   top1_acc   top5_acc: 100%|██████████| 5/5 [00:00<00:00, 96.34it/s]"
     ]
    },
    {
     "name": "stdout",
     "output_type": "stream",
     "text": [
      "                   all       0.82          1\n"
     ]
    },
    {
     "name": "stderr",
     "output_type": "stream",
     "text": [
      "\n"
     ]
    },
    {
     "name": "stdout",
     "output_type": "stream",
     "text": [
      "\n",
      "      Epoch    GPU_mem       loss  Instances       Size\n"
     ]
    },
    {
     "name": "stderr",
     "output_type": "stream",
     "text": [
      "      9/100      2.14G     0.3877          2        224: 100%|██████████| 78/78 [00:02<00:00, 32.32it/s]\n",
      "               classes   top1_acc   top5_acc: 100%|██████████| 5/5 [00:00<00:00, 96.05it/s]"
     ]
    },
    {
     "name": "stdout",
     "output_type": "stream",
     "text": [
      "                   all      0.733          1\n"
     ]
    },
    {
     "name": "stderr",
     "output_type": "stream",
     "text": [
      "\n"
     ]
    },
    {
     "name": "stdout",
     "output_type": "stream",
     "text": [
      "\n",
      "      Epoch    GPU_mem       loss  Instances       Size\n"
     ]
    },
    {
     "name": "stderr",
     "output_type": "stream",
     "text": [
      "     10/100       2.1G     0.4497          2        224: 100%|██████████| 78/78 [00:02<00:00, 31.87it/s]\n",
      "               classes   top1_acc   top5_acc: 100%|██████████| 5/5 [00:00<00:00, 94.74it/s]"
     ]
    },
    {
     "name": "stdout",
     "output_type": "stream",
     "text": [
      "                   all        0.7          1\n"
     ]
    },
    {
     "name": "stderr",
     "output_type": "stream",
     "text": [
      "\n"
     ]
    },
    {
     "name": "stdout",
     "output_type": "stream",
     "text": [
      "\n",
      "      Epoch    GPU_mem       loss  Instances       Size\n"
     ]
    },
    {
     "name": "stderr",
     "output_type": "stream",
     "text": [
      "     11/100      2.14G     0.4086          2        224: 100%|██████████| 78/78 [00:02<00:00, 31.56it/s]\n",
      "               classes   top1_acc   top5_acc: 100%|██████████| 5/5 [00:00<00:00, 94.48it/s]"
     ]
    },
    {
     "name": "stdout",
     "output_type": "stream",
     "text": [
      "                   all      0.647          1\n"
     ]
    },
    {
     "name": "stderr",
     "output_type": "stream",
     "text": [
      "\n"
     ]
    },
    {
     "name": "stdout",
     "output_type": "stream",
     "text": [
      "\n",
      "      Epoch    GPU_mem       loss  Instances       Size\n"
     ]
    },
    {
     "name": "stderr",
     "output_type": "stream",
     "text": [
      "     12/100       2.1G      0.349          2        224: 100%|██████████| 78/78 [00:02<00:00, 31.82it/s]\n",
      "               classes   top1_acc   top5_acc: 100%|██████████| 5/5 [00:00<00:00, 94.52it/s]"
     ]
    },
    {
     "name": "stdout",
     "output_type": "stream",
     "text": [
      "                   all      0.787          1\n"
     ]
    },
    {
     "name": "stderr",
     "output_type": "stream",
     "text": [
      "\n"
     ]
    },
    {
     "name": "stdout",
     "output_type": "stream",
     "text": [
      "\n",
      "      Epoch    GPU_mem       loss  Instances       Size\n"
     ]
    },
    {
     "name": "stderr",
     "output_type": "stream",
     "text": [
      "     13/100      2.14G     0.4016          2        224: 100%|██████████| 78/78 [00:02<00:00, 31.47it/s]\n",
      "               classes   top1_acc   top5_acc: 100%|██████████| 5/5 [00:00<00:00, 94.57it/s]"
     ]
    },
    {
     "name": "stdout",
     "output_type": "stream",
     "text": [
      "                   all      0.787          1\n"
     ]
    },
    {
     "name": "stderr",
     "output_type": "stream",
     "text": [
      "\n"
     ]
    },
    {
     "name": "stdout",
     "output_type": "stream",
     "text": [
      "\n",
      "      Epoch    GPU_mem       loss  Instances       Size\n"
     ]
    },
    {
     "name": "stderr",
     "output_type": "stream",
     "text": [
      "     14/100       2.1G     0.4217          2        224: 100%|██████████| 78/78 [00:02<00:00, 31.42it/s]\n",
      "               classes   top1_acc   top5_acc: 100%|██████████| 5/5 [00:00<00:00, 95.68it/s]"
     ]
    },
    {
     "name": "stdout",
     "output_type": "stream",
     "text": [
      "                   all        0.8          1\n"
     ]
    },
    {
     "name": "stderr",
     "output_type": "stream",
     "text": [
      "\n"
     ]
    },
    {
     "name": "stdout",
     "output_type": "stream",
     "text": [
      "\n",
      "      Epoch    GPU_mem       loss  Instances       Size\n"
     ]
    },
    {
     "name": "stderr",
     "output_type": "stream",
     "text": [
      "     15/100      2.14G     0.4018          2        224: 100%|██████████| 78/78 [00:02<00:00, 33.37it/s]\n",
      "               classes   top1_acc   top5_acc: 100%|██████████| 5/5 [00:00<00:00, 100.47it/s]"
     ]
    },
    {
     "name": "stdout",
     "output_type": "stream",
     "text": [
      "                   all       0.76          1\n"
     ]
    },
    {
     "name": "stderr",
     "output_type": "stream",
     "text": [
      "\n"
     ]
    },
    {
     "name": "stdout",
     "output_type": "stream",
     "text": [
      "\n",
      "      Epoch    GPU_mem       loss  Instances       Size\n"
     ]
    },
    {
     "name": "stderr",
     "output_type": "stream",
     "text": [
      "     16/100       2.1G     0.4239          2        224: 100%|██████████| 78/78 [00:02<00:00, 32.62it/s]\n",
      "               classes   top1_acc   top5_acc: 100%|██████████| 5/5 [00:00<00:00, 95.40it/s]"
     ]
    },
    {
     "name": "stdout",
     "output_type": "stream",
     "text": [
      "                   all      0.793          1\n"
     ]
    },
    {
     "name": "stderr",
     "output_type": "stream",
     "text": [
      "\n"
     ]
    },
    {
     "name": "stdout",
     "output_type": "stream",
     "text": [
      "\n",
      "      Epoch    GPU_mem       loss  Instances       Size\n"
     ]
    },
    {
     "name": "stderr",
     "output_type": "stream",
     "text": [
      "     17/100      2.14G     0.3638          2        224: 100%|██████████| 78/78 [00:02<00:00, 33.04it/s]\n",
      "               classes   top1_acc   top5_acc: 100%|██████████| 5/5 [00:00<00:00, 96.22it/s]"
     ]
    },
    {
     "name": "stdout",
     "output_type": "stream",
     "text": [
      "                   all      0.767          1\n"
     ]
    },
    {
     "name": "stderr",
     "output_type": "stream",
     "text": [
      "\n"
     ]
    },
    {
     "name": "stdout",
     "output_type": "stream",
     "text": [
      "\n",
      "      Epoch    GPU_mem       loss  Instances       Size\n"
     ]
    },
    {
     "name": "stderr",
     "output_type": "stream",
     "text": [
      "     18/100       2.1G     0.3405          2        224: 100%|██████████| 78/78 [00:02<00:00, 32.82it/s]\n",
      "               classes   top1_acc   top5_acc: 100%|██████████| 5/5 [00:00<00:00, 81.68it/s]"
     ]
    },
    {
     "name": "stdout",
     "output_type": "stream",
     "text": [
      "                   all      0.773          1\n"
     ]
    },
    {
     "name": "stderr",
     "output_type": "stream",
     "text": [
      "\n"
     ]
    },
    {
     "name": "stdout",
     "output_type": "stream",
     "text": [
      "\n",
      "      Epoch    GPU_mem       loss  Instances       Size\n"
     ]
    },
    {
     "name": "stderr",
     "output_type": "stream",
     "text": [
      "     19/100      2.14G     0.3832          2        224: 100%|██████████| 78/78 [00:02<00:00, 32.98it/s]\n",
      "               classes   top1_acc   top5_acc: 100%|██████████| 5/5 [00:00<00:00, 95.38it/s]"
     ]
    },
    {
     "name": "stdout",
     "output_type": "stream",
     "text": [
      "                   all      0.793          1\n"
     ]
    },
    {
     "name": "stderr",
     "output_type": "stream",
     "text": [
      "\n"
     ]
    },
    {
     "name": "stdout",
     "output_type": "stream",
     "text": [
      "\n",
      "      Epoch    GPU_mem       loss  Instances       Size\n"
     ]
    },
    {
     "name": "stderr",
     "output_type": "stream",
     "text": [
      "     20/100       2.1G     0.3271          2        224: 100%|██████████| 78/78 [00:02<00:00, 33.17it/s]\n",
      "               classes   top1_acc   top5_acc: 100%|██████████| 5/5 [00:00<00:00, 95.57it/s]"
     ]
    },
    {
     "name": "stdout",
     "output_type": "stream",
     "text": [
      "                   all       0.76          1\n"
     ]
    },
    {
     "name": "stderr",
     "output_type": "stream",
     "text": [
      "\n"
     ]
    },
    {
     "name": "stdout",
     "output_type": "stream",
     "text": [
      "\n",
      "      Epoch    GPU_mem       loss  Instances       Size\n"
     ]
    },
    {
     "name": "stderr",
     "output_type": "stream",
     "text": [
      "     21/100      2.14G     0.3231          2        224: 100%|██████████| 78/78 [00:02<00:00, 31.32it/s]\n",
      "               classes   top1_acc   top5_acc: 100%|██████████| 5/5 [00:00<00:00, 95.40it/s]"
     ]
    },
    {
     "name": "stdout",
     "output_type": "stream",
     "text": [
      "                   all      0.813          1\n"
     ]
    },
    {
     "name": "stderr",
     "output_type": "stream",
     "text": [
      "\n"
     ]
    },
    {
     "name": "stdout",
     "output_type": "stream",
     "text": [
      "\n",
      "      Epoch    GPU_mem       loss  Instances       Size\n"
     ]
    },
    {
     "name": "stderr",
     "output_type": "stream",
     "text": [
      "     22/100       2.1G     0.3147          2        224: 100%|██████████| 78/78 [00:02<00:00, 30.71it/s]\n",
      "               classes   top1_acc   top5_acc: 100%|██████████| 5/5 [00:00<00:00, 97.66it/s]"
     ]
    },
    {
     "name": "stdout",
     "output_type": "stream",
     "text": [
      "                   all        0.8          1\n"
     ]
    },
    {
     "name": "stderr",
     "output_type": "stream",
     "text": [
      "\n"
     ]
    },
    {
     "name": "stdout",
     "output_type": "stream",
     "text": [
      "\n",
      "      Epoch    GPU_mem       loss  Instances       Size\n"
     ]
    },
    {
     "name": "stderr",
     "output_type": "stream",
     "text": [
      "     23/100      2.14G     0.3054          2        224: 100%|██████████| 78/78 [00:02<00:00, 32.49it/s]\n",
      "               classes   top1_acc   top5_acc: 100%|██████████| 5/5 [00:00<00:00, 97.41it/s]"
     ]
    },
    {
     "name": "stdout",
     "output_type": "stream",
     "text": [
      "                   all      0.827          1\n"
     ]
    },
    {
     "name": "stderr",
     "output_type": "stream",
     "text": [
      "\n"
     ]
    },
    {
     "name": "stdout",
     "output_type": "stream",
     "text": [
      "\n",
      "      Epoch    GPU_mem       loss  Instances       Size\n"
     ]
    },
    {
     "name": "stderr",
     "output_type": "stream",
     "text": [
      "     24/100       2.1G     0.3086          2        224: 100%|██████████| 78/78 [00:02<00:00, 31.85it/s]\n",
      "               classes   top1_acc   top5_acc: 100%|██████████| 5/5 [00:00<00:00, 87.32it/s]"
     ]
    },
    {
     "name": "stdout",
     "output_type": "stream",
     "text": [
      "                   all       0.82          1\n"
     ]
    },
    {
     "name": "stderr",
     "output_type": "stream",
     "text": [
      "\n"
     ]
    },
    {
     "name": "stdout",
     "output_type": "stream",
     "text": [
      "\n",
      "      Epoch    GPU_mem       loss  Instances       Size\n"
     ]
    },
    {
     "name": "stderr",
     "output_type": "stream",
     "text": [
      "     25/100      2.14G     0.3385          2        224: 100%|██████████| 78/78 [00:02<00:00, 32.15it/s]\n",
      "               classes   top1_acc   top5_acc: 100%|██████████| 5/5 [00:00<00:00, 88.85it/s]"
     ]
    },
    {
     "name": "stdout",
     "output_type": "stream",
     "text": [
      "                   all      0.807          1\n"
     ]
    },
    {
     "name": "stderr",
     "output_type": "stream",
     "text": [
      "\n"
     ]
    },
    {
     "name": "stdout",
     "output_type": "stream",
     "text": [
      "\n",
      "      Epoch    GPU_mem       loss  Instances       Size\n"
     ]
    },
    {
     "name": "stderr",
     "output_type": "stream",
     "text": [
      "     26/100       2.1G     0.3051          2        224: 100%|██████████| 78/78 [00:02<00:00, 32.90it/s]\n",
      "               classes   top1_acc   top5_acc: 100%|██████████| 5/5 [00:00<00:00, 96.01it/s]"
     ]
    },
    {
     "name": "stdout",
     "output_type": "stream",
     "text": [
      "                   all      0.787          1\n"
     ]
    },
    {
     "name": "stderr",
     "output_type": "stream",
     "text": [
      "\n"
     ]
    },
    {
     "name": "stdout",
     "output_type": "stream",
     "text": [
      "\n",
      "      Epoch    GPU_mem       loss  Instances       Size\n"
     ]
    },
    {
     "name": "stderr",
     "output_type": "stream",
     "text": [
      "     27/100      2.14G     0.2807          2        224: 100%|██████████| 78/78 [00:02<00:00, 32.50it/s]\n",
      "               classes   top1_acc   top5_acc: 100%|██████████| 5/5 [00:00<00:00, 92.89it/s]"
     ]
    },
    {
     "name": "stdout",
     "output_type": "stream",
     "text": [
      "                   all      0.807          1\n"
     ]
    },
    {
     "name": "stderr",
     "output_type": "stream",
     "text": [
      "\n"
     ]
    },
    {
     "name": "stdout",
     "output_type": "stream",
     "text": [
      "\n",
      "      Epoch    GPU_mem       loss  Instances       Size\n"
     ]
    },
    {
     "name": "stderr",
     "output_type": "stream",
     "text": [
      "     28/100       2.1G     0.3027          2        224: 100%|██████████| 78/78 [00:02<00:00, 32.64it/s]\n",
      "               classes   top1_acc   top5_acc: 100%|██████████| 5/5 [00:00<00:00, 95.60it/s]"
     ]
    },
    {
     "name": "stdout",
     "output_type": "stream",
     "text": [
      "                   all       0.72          1\n"
     ]
    },
    {
     "name": "stderr",
     "output_type": "stream",
     "text": [
      "\n"
     ]
    },
    {
     "name": "stdout",
     "output_type": "stream",
     "text": [
      "\n",
      "      Epoch    GPU_mem       loss  Instances       Size\n"
     ]
    },
    {
     "name": "stderr",
     "output_type": "stream",
     "text": [
      "     29/100      2.14G     0.3294          2        224: 100%|██████████| 78/78 [00:02<00:00, 32.79it/s]\n",
      "               classes   top1_acc   top5_acc: 100%|██████████| 5/5 [00:00<00:00, 82.45it/s]"
     ]
    },
    {
     "name": "stdout",
     "output_type": "stream",
     "text": [
      "                   all        0.8          1\n"
     ]
    },
    {
     "name": "stderr",
     "output_type": "stream",
     "text": [
      "\n"
     ]
    },
    {
     "name": "stdout",
     "output_type": "stream",
     "text": [
      "\n",
      "      Epoch    GPU_mem       loss  Instances       Size\n"
     ]
    },
    {
     "name": "stderr",
     "output_type": "stream",
     "text": [
      "     30/100       2.1G     0.2775          2        224: 100%|██████████| 78/78 [00:02<00:00, 31.76it/s]\n",
      "               classes   top1_acc   top5_acc: 100%|██████████| 5/5 [00:00<00:00, 94.73it/s]"
     ]
    },
    {
     "name": "stdout",
     "output_type": "stream",
     "text": [
      "                   all       0.84          1\n"
     ]
    },
    {
     "name": "stderr",
     "output_type": "stream",
     "text": [
      "\n"
     ]
    },
    {
     "name": "stdout",
     "output_type": "stream",
     "text": [
      "\n",
      "      Epoch    GPU_mem       loss  Instances       Size\n"
     ]
    },
    {
     "name": "stderr",
     "output_type": "stream",
     "text": [
      "     31/100      2.14G     0.2423          2        224: 100%|██████████| 78/78 [00:02<00:00, 32.43it/s]\n",
      "               classes   top1_acc   top5_acc: 100%|██████████| 5/5 [00:00<00:00, 95.08it/s]"
     ]
    },
    {
     "name": "stdout",
     "output_type": "stream",
     "text": [
      "                   all      0.787          1\n"
     ]
    },
    {
     "name": "stderr",
     "output_type": "stream",
     "text": [
      "\n"
     ]
    },
    {
     "name": "stdout",
     "output_type": "stream",
     "text": [
      "\n",
      "      Epoch    GPU_mem       loss  Instances       Size\n"
     ]
    },
    {
     "name": "stderr",
     "output_type": "stream",
     "text": [
      "     32/100       2.1G     0.2808          2        224: 100%|██████████| 78/78 [00:02<00:00, 31.94it/s]\n",
      "               classes   top1_acc   top5_acc: 100%|██████████| 5/5 [00:00<00:00, 94.10it/s]"
     ]
    },
    {
     "name": "stdout",
     "output_type": "stream",
     "text": [
      "                   all      0.827          1\n"
     ]
    },
    {
     "name": "stderr",
     "output_type": "stream",
     "text": [
      "\n"
     ]
    },
    {
     "name": "stdout",
     "output_type": "stream",
     "text": [
      "\n",
      "      Epoch    GPU_mem       loss  Instances       Size\n"
     ]
    },
    {
     "name": "stderr",
     "output_type": "stream",
     "text": [
      "     33/100      2.14G     0.2988          2        224: 100%|██████████| 78/78 [00:02<00:00, 32.44it/s]\n",
      "               classes   top1_acc   top5_acc: 100%|██████████| 5/5 [00:00<00:00, 95.34it/s]"
     ]
    },
    {
     "name": "stdout",
     "output_type": "stream",
     "text": [
      "                   all      0.807          1\n"
     ]
    },
    {
     "name": "stderr",
     "output_type": "stream",
     "text": [
      "\n"
     ]
    },
    {
     "name": "stdout",
     "output_type": "stream",
     "text": [
      "\n",
      "      Epoch    GPU_mem       loss  Instances       Size\n"
     ]
    },
    {
     "name": "stderr",
     "output_type": "stream",
     "text": [
      "     34/100       2.1G     0.2755          2        224: 100%|██████████| 78/78 [00:02<00:00, 32.34it/s]\n",
      "               classes   top1_acc   top5_acc: 100%|██████████| 5/5 [00:00<00:00, 96.72it/s]"
     ]
    },
    {
     "name": "stdout",
     "output_type": "stream",
     "text": [
      "                   all      0.813          1\n"
     ]
    },
    {
     "name": "stderr",
     "output_type": "stream",
     "text": [
      "\n"
     ]
    },
    {
     "name": "stdout",
     "output_type": "stream",
     "text": [
      "\n",
      "      Epoch    GPU_mem       loss  Instances       Size\n"
     ]
    },
    {
     "name": "stderr",
     "output_type": "stream",
     "text": [
      "     35/100      2.14G     0.2377          2        224: 100%|██████████| 78/78 [00:02<00:00, 32.26it/s]\n",
      "               classes   top1_acc   top5_acc: 100%|██████████| 5/5 [00:00<00:00, 92.94it/s]"
     ]
    },
    {
     "name": "stdout",
     "output_type": "stream",
     "text": [
      "                   all      0.793          1\n"
     ]
    },
    {
     "name": "stderr",
     "output_type": "stream",
     "text": [
      "\n"
     ]
    },
    {
     "name": "stdout",
     "output_type": "stream",
     "text": [
      "\n",
      "      Epoch    GPU_mem       loss  Instances       Size\n"
     ]
    },
    {
     "name": "stderr",
     "output_type": "stream",
     "text": [
      "     36/100       2.1G     0.2419          2        224: 100%|██████████| 78/78 [00:02<00:00, 31.46it/s]\n",
      "               classes   top1_acc   top5_acc: 100%|██████████| 5/5 [00:00<00:00, 100.20it/s]"
     ]
    },
    {
     "name": "stdout",
     "output_type": "stream",
     "text": [
      "                   all      0.807          1\n"
     ]
    },
    {
     "name": "stderr",
     "output_type": "stream",
     "text": [
      "\n"
     ]
    },
    {
     "name": "stdout",
     "output_type": "stream",
     "text": [
      "\n",
      "      Epoch    GPU_mem       loss  Instances       Size\n"
     ]
    },
    {
     "name": "stderr",
     "output_type": "stream",
     "text": [
      "     37/100      2.14G     0.3065          2        224: 100%|██████████| 78/78 [00:02<00:00, 33.40it/s]\n",
      "               classes   top1_acc   top5_acc: 100%|██████████| 5/5 [00:00<00:00, 95.51it/s]"
     ]
    },
    {
     "name": "stdout",
     "output_type": "stream",
     "text": [
      "                   all      0.833          1\n"
     ]
    },
    {
     "name": "stderr",
     "output_type": "stream",
     "text": [
      "\n"
     ]
    },
    {
     "name": "stdout",
     "output_type": "stream",
     "text": [
      "\n",
      "      Epoch    GPU_mem       loss  Instances       Size\n"
     ]
    },
    {
     "name": "stderr",
     "output_type": "stream",
     "text": [
      "     38/100       2.1G     0.2931          2        224: 100%|██████████| 78/78 [00:02<00:00, 33.20it/s]\n",
      "               classes   top1_acc   top5_acc: 100%|██████████| 5/5 [00:00<00:00, 96.99it/s]"
     ]
    },
    {
     "name": "stdout",
     "output_type": "stream",
     "text": [
      "                   all       0.86          1\n"
     ]
    },
    {
     "name": "stderr",
     "output_type": "stream",
     "text": [
      "\n"
     ]
    },
    {
     "name": "stdout",
     "output_type": "stream",
     "text": [
      "\n",
      "      Epoch    GPU_mem       loss  Instances       Size\n"
     ]
    },
    {
     "name": "stderr",
     "output_type": "stream",
     "text": [
      "     39/100      2.14G     0.2632          2        224: 100%|██████████| 78/78 [00:02<00:00, 33.19it/s]\n",
      "               classes   top1_acc   top5_acc: 100%|██████████| 5/5 [00:00<00:00, 91.64it/s]"
     ]
    },
    {
     "name": "stdout",
     "output_type": "stream",
     "text": [
      "                   all       0.82          1\n"
     ]
    },
    {
     "name": "stderr",
     "output_type": "stream",
     "text": [
      "\n"
     ]
    },
    {
     "name": "stdout",
     "output_type": "stream",
     "text": [
      "\n",
      "      Epoch    GPU_mem       loss  Instances       Size\n"
     ]
    },
    {
     "name": "stderr",
     "output_type": "stream",
     "text": [
      "     40/100       2.1G     0.2471          2        224: 100%|██████████| 78/78 [00:02<00:00, 31.65it/s]\n",
      "               classes   top1_acc   top5_acc: 100%|██████████| 5/5 [00:00<00:00, 95.31it/s]"
     ]
    },
    {
     "name": "stdout",
     "output_type": "stream",
     "text": [
      "                   all      0.847          1\n"
     ]
    },
    {
     "name": "stderr",
     "output_type": "stream",
     "text": [
      "\n"
     ]
    },
    {
     "name": "stdout",
     "output_type": "stream",
     "text": [
      "\n",
      "      Epoch    GPU_mem       loss  Instances       Size\n"
     ]
    },
    {
     "name": "stderr",
     "output_type": "stream",
     "text": [
      "     41/100      2.14G     0.2187          2        224: 100%|██████████| 78/78 [00:02<00:00, 32.30it/s]\n",
      "               classes   top1_acc   top5_acc: 100%|██████████| 5/5 [00:00<00:00, 96.69it/s]"
     ]
    },
    {
     "name": "stdout",
     "output_type": "stream",
     "text": [
      "                   all      0.787          1\n"
     ]
    },
    {
     "name": "stderr",
     "output_type": "stream",
     "text": [
      "\n"
     ]
    },
    {
     "name": "stdout",
     "output_type": "stream",
     "text": [
      "\n",
      "      Epoch    GPU_mem       loss  Instances       Size\n"
     ]
    },
    {
     "name": "stderr",
     "output_type": "stream",
     "text": [
      "     42/100       2.1G     0.2369          2        224: 100%|██████████| 78/78 [00:02<00:00, 32.78it/s]\n",
      "               classes   top1_acc   top5_acc: 100%|██████████| 5/5 [00:00<00:00, 85.78it/s]"
     ]
    },
    {
     "name": "stdout",
     "output_type": "stream",
     "text": [
      "                   all      0.847          1\n"
     ]
    },
    {
     "name": "stderr",
     "output_type": "stream",
     "text": [
      "\n"
     ]
    },
    {
     "name": "stdout",
     "output_type": "stream",
     "text": [
      "\n",
      "      Epoch    GPU_mem       loss  Instances       Size\n"
     ]
    },
    {
     "name": "stderr",
     "output_type": "stream",
     "text": [
      "     43/100      2.14G     0.2168          2        224: 100%|██████████| 78/78 [00:02<00:00, 32.56it/s]\n",
      "               classes   top1_acc   top5_acc: 100%|██████████| 5/5 [00:00<00:00, 97.50it/s]"
     ]
    },
    {
     "name": "stdout",
     "output_type": "stream",
     "text": [
      "                   all      0.833          1\n"
     ]
    },
    {
     "name": "stderr",
     "output_type": "stream",
     "text": [
      "\n"
     ]
    },
    {
     "name": "stdout",
     "output_type": "stream",
     "text": [
      "\n",
      "      Epoch    GPU_mem       loss  Instances       Size\n"
     ]
    },
    {
     "name": "stderr",
     "output_type": "stream",
     "text": [
      "     44/100       2.1G     0.1914          2        224: 100%|██████████| 78/78 [00:02<00:00, 32.43it/s]\n",
      "               classes   top1_acc   top5_acc: 100%|██████████| 5/5 [00:00<00:00, 94.65it/s]"
     ]
    },
    {
     "name": "stdout",
     "output_type": "stream",
     "text": [
      "                   all      0.833          1\n"
     ]
    },
    {
     "name": "stderr",
     "output_type": "stream",
     "text": [
      "\n"
     ]
    },
    {
     "name": "stdout",
     "output_type": "stream",
     "text": [
      "\n",
      "      Epoch    GPU_mem       loss  Instances       Size\n"
     ]
    },
    {
     "name": "stderr",
     "output_type": "stream",
     "text": [
      "     45/100      2.14G     0.2232          2        224: 100%|██████████| 78/78 [00:02<00:00, 32.48it/s]\n",
      "               classes   top1_acc   top5_acc: 100%|██████████| 5/5 [00:00<00:00, 94.17it/s]"
     ]
    },
    {
     "name": "stdout",
     "output_type": "stream",
     "text": [
      "                   all      0.873          1\n"
     ]
    },
    {
     "name": "stderr",
     "output_type": "stream",
     "text": [
      "\n"
     ]
    },
    {
     "name": "stdout",
     "output_type": "stream",
     "text": [
      "\n",
      "      Epoch    GPU_mem       loss  Instances       Size\n"
     ]
    },
    {
     "name": "stderr",
     "output_type": "stream",
     "text": [
      "     46/100       2.1G      0.208          2        224: 100%|██████████| 78/78 [00:02<00:00, 31.94it/s]\n",
      "               classes   top1_acc   top5_acc: 100%|██████████| 5/5 [00:00<00:00, 98.02it/s]"
     ]
    },
    {
     "name": "stdout",
     "output_type": "stream",
     "text": [
      "                   all       0.82          1\n"
     ]
    },
    {
     "name": "stderr",
     "output_type": "stream",
     "text": [
      "\n"
     ]
    },
    {
     "name": "stdout",
     "output_type": "stream",
     "text": [
      "\n",
      "      Epoch    GPU_mem       loss  Instances       Size\n"
     ]
    },
    {
     "name": "stderr",
     "output_type": "stream",
     "text": [
      "     47/100      2.14G     0.2131          2        224: 100%|██████████| 78/78 [00:02<00:00, 32.81it/s]\n",
      "               classes   top1_acc   top5_acc: 100%|██████████| 5/5 [00:00<00:00, 95.20it/s]"
     ]
    },
    {
     "name": "stdout",
     "output_type": "stream",
     "text": [
      "                   all      0.813          1\n"
     ]
    },
    {
     "name": "stderr",
     "output_type": "stream",
     "text": [
      "\n"
     ]
    },
    {
     "name": "stdout",
     "output_type": "stream",
     "text": [
      "\n",
      "      Epoch    GPU_mem       loss  Instances       Size\n"
     ]
    },
    {
     "name": "stderr",
     "output_type": "stream",
     "text": [
      "     48/100       2.1G     0.2588          2        224: 100%|██████████| 78/78 [00:02<00:00, 32.35it/s]\n",
      "               classes   top1_acc   top5_acc: 100%|██████████| 5/5 [00:00<00:00, 92.92it/s]"
     ]
    },
    {
     "name": "stdout",
     "output_type": "stream",
     "text": [
      "                   all      0.847          1\n"
     ]
    },
    {
     "name": "stderr",
     "output_type": "stream",
     "text": [
      "\n"
     ]
    },
    {
     "name": "stdout",
     "output_type": "stream",
     "text": [
      "\n",
      "      Epoch    GPU_mem       loss  Instances       Size\n"
     ]
    },
    {
     "name": "stderr",
     "output_type": "stream",
     "text": [
      "     49/100      2.14G     0.2028          2        224: 100%|██████████| 78/78 [00:02<00:00, 31.95it/s]\n",
      "               classes   top1_acc   top5_acc: 100%|██████████| 5/5 [00:00<00:00, 86.57it/s]"
     ]
    },
    {
     "name": "stdout",
     "output_type": "stream",
     "text": [
      "                   all      0.833          1\n"
     ]
    },
    {
     "name": "stderr",
     "output_type": "stream",
     "text": [
      "\n"
     ]
    },
    {
     "name": "stdout",
     "output_type": "stream",
     "text": [
      "\n",
      "      Epoch    GPU_mem       loss  Instances       Size\n"
     ]
    },
    {
     "name": "stderr",
     "output_type": "stream",
     "text": [
      "     50/100       2.1G     0.2056          2        224: 100%|██████████| 78/78 [00:02<00:00, 32.95it/s]\n",
      "               classes   top1_acc   top5_acc: 100%|██████████| 5/5 [00:00<00:00, 96.10it/s]"
     ]
    },
    {
     "name": "stdout",
     "output_type": "stream",
     "text": [
      "                   all      0.873          1\n"
     ]
    },
    {
     "name": "stderr",
     "output_type": "stream",
     "text": [
      "\n"
     ]
    },
    {
     "name": "stdout",
     "output_type": "stream",
     "text": [
      "\n",
      "      Epoch    GPU_mem       loss  Instances       Size\n"
     ]
    },
    {
     "name": "stderr",
     "output_type": "stream",
     "text": [
      "     51/100      2.14G     0.1961          2        224: 100%|██████████| 78/78 [00:02<00:00, 32.89it/s]\n",
      "               classes   top1_acc   top5_acc: 100%|██████████| 5/5 [00:00<00:00, 94.47it/s]"
     ]
    },
    {
     "name": "stdout",
     "output_type": "stream",
     "text": [
      "                   all      0.833          1\n"
     ]
    },
    {
     "name": "stderr",
     "output_type": "stream",
     "text": [
      "\n"
     ]
    },
    {
     "name": "stdout",
     "output_type": "stream",
     "text": [
      "\n",
      "      Epoch    GPU_mem       loss  Instances       Size\n"
     ]
    },
    {
     "name": "stderr",
     "output_type": "stream",
     "text": [
      "     52/100       2.1G      0.169          2        224: 100%|██████████| 78/78 [00:02<00:00, 32.41it/s]\n",
      "               classes   top1_acc   top5_acc: 100%|██████████| 5/5 [00:00<00:00, 83.07it/s]"
     ]
    },
    {
     "name": "stdout",
     "output_type": "stream",
     "text": [
      "                   all      0.827          1\n"
     ]
    },
    {
     "name": "stderr",
     "output_type": "stream",
     "text": [
      "\n"
     ]
    },
    {
     "name": "stdout",
     "output_type": "stream",
     "text": [
      "\n",
      "      Epoch    GPU_mem       loss  Instances       Size\n"
     ]
    },
    {
     "name": "stderr",
     "output_type": "stream",
     "text": [
      "     53/100      2.14G     0.1772          2        224: 100%|██████████| 78/78 [00:02<00:00, 32.11it/s]\n",
      "               classes   top1_acc   top5_acc: 100%|██████████| 5/5 [00:00<00:00, 93.91it/s]"
     ]
    },
    {
     "name": "stdout",
     "output_type": "stream",
     "text": [
      "                   all      0.873          1\n"
     ]
    },
    {
     "name": "stderr",
     "output_type": "stream",
     "text": [
      "\n"
     ]
    },
    {
     "name": "stdout",
     "output_type": "stream",
     "text": [
      "\n",
      "      Epoch    GPU_mem       loss  Instances       Size\n"
     ]
    },
    {
     "name": "stderr",
     "output_type": "stream",
     "text": [
      "     54/100       2.1G      0.188          2        224: 100%|██████████| 78/78 [00:02<00:00, 32.20it/s]\n",
      "               classes   top1_acc   top5_acc: 100%|██████████| 5/5 [00:00<00:00, 94.44it/s]"
     ]
    },
    {
     "name": "stdout",
     "output_type": "stream",
     "text": [
      "                   all       0.86          1\n"
     ]
    },
    {
     "name": "stderr",
     "output_type": "stream",
     "text": [
      "\n"
     ]
    },
    {
     "name": "stdout",
     "output_type": "stream",
     "text": [
      "\n",
      "      Epoch    GPU_mem       loss  Instances       Size\n"
     ]
    },
    {
     "name": "stderr",
     "output_type": "stream",
     "text": [
      "     55/100      2.14G      0.186          2        224: 100%|██████████| 78/78 [00:02<00:00, 32.69it/s]\n",
      "               classes   top1_acc   top5_acc: 100%|██████████| 5/5 [00:00<00:00, 93.77it/s]"
     ]
    },
    {
     "name": "stdout",
     "output_type": "stream",
     "text": [
      "                   all      0.887          1\n"
     ]
    },
    {
     "name": "stderr",
     "output_type": "stream",
     "text": [
      "\n"
     ]
    },
    {
     "name": "stdout",
     "output_type": "stream",
     "text": [
      "\n",
      "      Epoch    GPU_mem       loss  Instances       Size\n"
     ]
    },
    {
     "name": "stderr",
     "output_type": "stream",
     "text": [
      "     56/100       2.1G     0.2282          2        224: 100%|██████████| 78/78 [00:02<00:00, 32.17it/s]\n",
      "               classes   top1_acc   top5_acc: 100%|██████████| 5/5 [00:00<00:00, 95.15it/s]"
     ]
    },
    {
     "name": "stdout",
     "output_type": "stream",
     "text": [
      "                   all       0.84          1\n"
     ]
    },
    {
     "name": "stderr",
     "output_type": "stream",
     "text": [
      "\n"
     ]
    },
    {
     "name": "stdout",
     "output_type": "stream",
     "text": [
      "\n",
      "      Epoch    GPU_mem       loss  Instances       Size\n"
     ]
    },
    {
     "name": "stderr",
     "output_type": "stream",
     "text": [
      "     57/100      2.14G     0.1832          2        224: 100%|██████████| 78/78 [00:02<00:00, 32.45it/s]\n",
      "               classes   top1_acc   top5_acc: 100%|██████████| 5/5 [00:00<00:00, 92.90it/s]"
     ]
    },
    {
     "name": "stdout",
     "output_type": "stream",
     "text": [
      "                   all      0.833          1\n"
     ]
    },
    {
     "name": "stderr",
     "output_type": "stream",
     "text": [
      "\n"
     ]
    },
    {
     "name": "stdout",
     "output_type": "stream",
     "text": [
      "\n",
      "      Epoch    GPU_mem       loss  Instances       Size\n"
     ]
    },
    {
     "name": "stderr",
     "output_type": "stream",
     "text": [
      "     58/100       2.1G     0.1679          2        224: 100%|██████████| 78/78 [00:02<00:00, 32.75it/s]\n",
      "               classes   top1_acc   top5_acc: 100%|██████████| 5/5 [00:00<00:00, 96.66it/s]"
     ]
    },
    {
     "name": "stdout",
     "output_type": "stream",
     "text": [
      "                   all      0.813          1\n"
     ]
    },
    {
     "name": "stderr",
     "output_type": "stream",
     "text": [
      "\n"
     ]
    },
    {
     "name": "stdout",
     "output_type": "stream",
     "text": [
      "\n",
      "      Epoch    GPU_mem       loss  Instances       Size\n"
     ]
    },
    {
     "name": "stderr",
     "output_type": "stream",
     "text": [
      "     59/100      2.14G     0.1653          2        224: 100%|██████████| 78/78 [00:02<00:00, 33.02it/s]\n",
      "               classes   top1_acc   top5_acc: 100%|██████████| 5/5 [00:00<00:00, 93.50it/s]"
     ]
    },
    {
     "name": "stdout",
     "output_type": "stream",
     "text": [
      "                   all      0.827          1\n"
     ]
    },
    {
     "name": "stderr",
     "output_type": "stream",
     "text": [
      "\n"
     ]
    },
    {
     "name": "stdout",
     "output_type": "stream",
     "text": [
      "\n",
      "      Epoch    GPU_mem       loss  Instances       Size\n"
     ]
    },
    {
     "name": "stderr",
     "output_type": "stream",
     "text": [
      "     60/100       2.1G     0.1372          2        224: 100%|██████████| 78/78 [00:02<00:00, 32.63it/s]\n",
      "               classes   top1_acc   top5_acc: 100%|██████████| 5/5 [00:00<00:00, 98.25it/s]"
     ]
    },
    {
     "name": "stdout",
     "output_type": "stream",
     "text": [
      "                   all       0.84          1\n"
     ]
    },
    {
     "name": "stderr",
     "output_type": "stream",
     "text": [
      "\n"
     ]
    },
    {
     "name": "stdout",
     "output_type": "stream",
     "text": [
      "\n",
      "      Epoch    GPU_mem       loss  Instances       Size\n"
     ]
    },
    {
     "name": "stderr",
     "output_type": "stream",
     "text": [
      "     61/100      2.14G     0.2336          2        224: 100%|██████████| 78/78 [00:02<00:00, 32.38it/s]\n",
      "               classes   top1_acc   top5_acc: 100%|██████████| 5/5 [00:00<00:00, 97.50it/s]"
     ]
    },
    {
     "name": "stdout",
     "output_type": "stream",
     "text": [
      "                   all       0.88          1\n"
     ]
    },
    {
     "name": "stderr",
     "output_type": "stream",
     "text": [
      "\n"
     ]
    },
    {
     "name": "stdout",
     "output_type": "stream",
     "text": [
      "\n",
      "      Epoch    GPU_mem       loss  Instances       Size\n"
     ]
    },
    {
     "name": "stderr",
     "output_type": "stream",
     "text": [
      "     62/100       2.1G     0.1675          2        224: 100%|██████████| 78/78 [00:02<00:00, 33.41it/s]\n",
      "               classes   top1_acc   top5_acc: 100%|██████████| 5/5 [00:00<00:00, 84.44it/s]"
     ]
    },
    {
     "name": "stdout",
     "output_type": "stream",
     "text": [
      "                   all      0.893          1\n"
     ]
    },
    {
     "name": "stderr",
     "output_type": "stream",
     "text": [
      "\n"
     ]
    },
    {
     "name": "stdout",
     "output_type": "stream",
     "text": [
      "\n",
      "      Epoch    GPU_mem       loss  Instances       Size\n"
     ]
    },
    {
     "name": "stderr",
     "output_type": "stream",
     "text": [
      "     63/100      2.14G     0.1876          2        224: 100%|██████████| 78/78 [00:02<00:00, 33.52it/s]\n",
      "               classes   top1_acc   top5_acc: 100%|██████████| 5/5 [00:00<00:00, 93.20it/s]"
     ]
    },
    {
     "name": "stdout",
     "output_type": "stream",
     "text": [
      "                   all      0.853          1\n"
     ]
    },
    {
     "name": "stderr",
     "output_type": "stream",
     "text": [
      "\n"
     ]
    },
    {
     "name": "stdout",
     "output_type": "stream",
     "text": [
      "\n",
      "      Epoch    GPU_mem       loss  Instances       Size\n"
     ]
    },
    {
     "name": "stderr",
     "output_type": "stream",
     "text": [
      "     64/100       2.1G     0.1535          2        224: 100%|██████████| 78/78 [00:02<00:00, 33.13it/s]\n",
      "               classes   top1_acc   top5_acc: 100%|██████████| 5/5 [00:00<00:00, 99.13it/s]"
     ]
    },
    {
     "name": "stdout",
     "output_type": "stream",
     "text": [
      "                   all      0.873          1\n"
     ]
    },
    {
     "name": "stderr",
     "output_type": "stream",
     "text": [
      "\n"
     ]
    },
    {
     "name": "stdout",
     "output_type": "stream",
     "text": [
      "\n",
      "      Epoch    GPU_mem       loss  Instances       Size\n"
     ]
    },
    {
     "name": "stderr",
     "output_type": "stream",
     "text": [
      "     65/100      2.14G     0.1473          2        224: 100%|██████████| 78/78 [00:02<00:00, 33.31it/s]\n",
      "               classes   top1_acc   top5_acc: 100%|██████████| 5/5 [00:00<00:00, 97.74it/s]"
     ]
    },
    {
     "name": "stdout",
     "output_type": "stream",
     "text": [
      "                   all      0.913          1\n"
     ]
    },
    {
     "name": "stderr",
     "output_type": "stream",
     "text": [
      "\n"
     ]
    },
    {
     "name": "stdout",
     "output_type": "stream",
     "text": [
      "\n",
      "      Epoch    GPU_mem       loss  Instances       Size\n"
     ]
    },
    {
     "name": "stderr",
     "output_type": "stream",
     "text": [
      "     66/100       2.1G     0.1433          2        224: 100%|██████████| 78/78 [00:02<00:00, 33.03it/s]\n",
      "               classes   top1_acc   top5_acc: 100%|██████████| 5/5 [00:00<00:00, 94.91it/s]"
     ]
    },
    {
     "name": "stdout",
     "output_type": "stream",
     "text": [
      "                   all       0.86          1\n"
     ]
    },
    {
     "name": "stderr",
     "output_type": "stream",
     "text": [
      "\n"
     ]
    },
    {
     "name": "stdout",
     "output_type": "stream",
     "text": [
      "\n",
      "      Epoch    GPU_mem       loss  Instances       Size\n"
     ]
    },
    {
     "name": "stderr",
     "output_type": "stream",
     "text": [
      "     67/100      2.14G     0.1931          2        224: 100%|██████████| 78/78 [00:02<00:00, 33.06it/s]\n",
      "               classes   top1_acc   top5_acc: 100%|██████████| 5/5 [00:00<00:00, 96.18it/s]"
     ]
    },
    {
     "name": "stdout",
     "output_type": "stream",
     "text": [
      "                   all      0.847          1\n"
     ]
    },
    {
     "name": "stderr",
     "output_type": "stream",
     "text": [
      "\n"
     ]
    },
    {
     "name": "stdout",
     "output_type": "stream",
     "text": [
      "\n",
      "      Epoch    GPU_mem       loss  Instances       Size\n"
     ]
    },
    {
     "name": "stderr",
     "output_type": "stream",
     "text": [
      "     68/100       2.1G     0.1594          2        224: 100%|██████████| 78/78 [00:02<00:00, 31.56it/s]\n",
      "               classes   top1_acc   top5_acc: 100%|██████████| 5/5 [00:00<00:00, 93.51it/s]"
     ]
    },
    {
     "name": "stdout",
     "output_type": "stream",
     "text": [
      "                   all      0.873          1\n"
     ]
    },
    {
     "name": "stderr",
     "output_type": "stream",
     "text": [
      "\n"
     ]
    },
    {
     "name": "stdout",
     "output_type": "stream",
     "text": [
      "\n",
      "      Epoch    GPU_mem       loss  Instances       Size\n"
     ]
    },
    {
     "name": "stderr",
     "output_type": "stream",
     "text": [
      "     69/100      2.14G     0.1503          2        224: 100%|██████████| 78/78 [00:02<00:00, 33.07it/s]\n",
      "               classes   top1_acc   top5_acc: 100%|██████████| 5/5 [00:00<00:00, 96.35it/s]"
     ]
    },
    {
     "name": "stdout",
     "output_type": "stream",
     "text": [
      "                   all       0.88          1\n"
     ]
    },
    {
     "name": "stderr",
     "output_type": "stream",
     "text": [
      "\n"
     ]
    },
    {
     "name": "stdout",
     "output_type": "stream",
     "text": [
      "\n",
      "      Epoch    GPU_mem       loss  Instances       Size\n"
     ]
    },
    {
     "name": "stderr",
     "output_type": "stream",
     "text": [
      "     70/100       2.1G     0.1413          2        224: 100%|██████████| 78/78 [00:02<00:00, 33.20it/s]\n",
      "               classes   top1_acc   top5_acc: 100%|██████████| 5/5 [00:00<00:00, 84.02it/s]"
     ]
    },
    {
     "name": "stdout",
     "output_type": "stream",
     "text": [
      "                   all      0.853          1\n"
     ]
    },
    {
     "name": "stderr",
     "output_type": "stream",
     "text": [
      "\n"
     ]
    },
    {
     "name": "stdout",
     "output_type": "stream",
     "text": [
      "\n",
      "      Epoch    GPU_mem       loss  Instances       Size\n"
     ]
    },
    {
     "name": "stderr",
     "output_type": "stream",
     "text": [
      "     71/100      2.14G     0.1776          2        224: 100%|██████████| 78/78 [00:02<00:00, 32.48it/s]\n",
      "               classes   top1_acc   top5_acc: 100%|██████████| 5/5 [00:00<00:00, 79.42it/s]"
     ]
    },
    {
     "name": "stdout",
     "output_type": "stream",
     "text": [
      "                   all      0.853          1\n"
     ]
    },
    {
     "name": "stderr",
     "output_type": "stream",
     "text": [
      "\n"
     ]
    },
    {
     "name": "stdout",
     "output_type": "stream",
     "text": [
      "\n",
      "      Epoch    GPU_mem       loss  Instances       Size\n"
     ]
    },
    {
     "name": "stderr",
     "output_type": "stream",
     "text": [
      "     72/100       2.1G     0.1364          2        224: 100%|██████████| 78/78 [00:02<00:00, 31.12it/s]\n",
      "               classes   top1_acc   top5_acc: 100%|██████████| 5/5 [00:00<00:00, 94.27it/s]"
     ]
    },
    {
     "name": "stdout",
     "output_type": "stream",
     "text": [
      "                   all      0.867          1\n"
     ]
    },
    {
     "name": "stderr",
     "output_type": "stream",
     "text": [
      "\n"
     ]
    },
    {
     "name": "stdout",
     "output_type": "stream",
     "text": [
      "\n",
      "      Epoch    GPU_mem       loss  Instances       Size\n"
     ]
    },
    {
     "name": "stderr",
     "output_type": "stream",
     "text": [
      "     73/100      2.14G     0.1146          2        224: 100%|██████████| 78/78 [00:02<00:00, 32.23it/s]\n",
      "               classes   top1_acc   top5_acc: 100%|██████████| 5/5 [00:00<00:00, 95.59it/s]"
     ]
    },
    {
     "name": "stdout",
     "output_type": "stream",
     "text": [
      "                   all      0.867          1\n"
     ]
    },
    {
     "name": "stderr",
     "output_type": "stream",
     "text": [
      "\n"
     ]
    },
    {
     "name": "stdout",
     "output_type": "stream",
     "text": [
      "\n",
      "      Epoch    GPU_mem       loss  Instances       Size\n"
     ]
    },
    {
     "name": "stderr",
     "output_type": "stream",
     "text": [
      "     74/100       2.1G     0.1025          2        224: 100%|██████████| 78/78 [00:02<00:00, 32.42it/s]\n",
      "               classes   top1_acc   top5_acc: 100%|██████████| 5/5 [00:00<00:00, 82.10it/s]"
     ]
    },
    {
     "name": "stdout",
     "output_type": "stream",
     "text": [
      "                   all       0.86          1\n"
     ]
    },
    {
     "name": "stderr",
     "output_type": "stream",
     "text": [
      "\n"
     ]
    },
    {
     "name": "stdout",
     "output_type": "stream",
     "text": [
      "\n",
      "      Epoch    GPU_mem       loss  Instances       Size\n"
     ]
    },
    {
     "name": "stderr",
     "output_type": "stream",
     "text": [
      "     75/100      2.14G     0.1279          2        224: 100%|██████████| 78/78 [00:02<00:00, 32.56it/s]\n",
      "               classes   top1_acc   top5_acc: 100%|██████████| 5/5 [00:00<00:00, 92.99it/s]"
     ]
    },
    {
     "name": "stdout",
     "output_type": "stream",
     "text": [
      "                   all      0.867          1\n"
     ]
    },
    {
     "name": "stderr",
     "output_type": "stream",
     "text": [
      "\n"
     ]
    },
    {
     "name": "stdout",
     "output_type": "stream",
     "text": [
      "\n",
      "      Epoch    GPU_mem       loss  Instances       Size\n"
     ]
    },
    {
     "name": "stderr",
     "output_type": "stream",
     "text": [
      "     76/100       2.1G     0.1529          2        224: 100%|██████████| 78/78 [00:02<00:00, 30.91it/s]\n",
      "               classes   top1_acc   top5_acc: 100%|██████████| 5/5 [00:00<00:00, 95.07it/s]"
     ]
    },
    {
     "name": "stdout",
     "output_type": "stream",
     "text": [
      "                   all      0.893          1\n"
     ]
    },
    {
     "name": "stderr",
     "output_type": "stream",
     "text": [
      "\n"
     ]
    },
    {
     "name": "stdout",
     "output_type": "stream",
     "text": [
      "\n",
      "      Epoch    GPU_mem       loss  Instances       Size\n"
     ]
    },
    {
     "name": "stderr",
     "output_type": "stream",
     "text": [
      "     77/100      2.14G     0.1349          2        224: 100%|██████████| 78/78 [00:02<00:00, 30.81it/s]\n",
      "               classes   top1_acc   top5_acc: 100%|██████████| 5/5 [00:00<00:00, 95.50it/s]"
     ]
    },
    {
     "name": "stdout",
     "output_type": "stream",
     "text": [
      "                   all      0.873          1\n"
     ]
    },
    {
     "name": "stderr",
     "output_type": "stream",
     "text": [
      "\n"
     ]
    },
    {
     "name": "stdout",
     "output_type": "stream",
     "text": [
      "\n",
      "      Epoch    GPU_mem       loss  Instances       Size\n"
     ]
    },
    {
     "name": "stderr",
     "output_type": "stream",
     "text": [
      "     78/100       2.1G     0.1248          2        224: 100%|██████████| 78/78 [00:02<00:00, 31.31it/s]\n",
      "               classes   top1_acc   top5_acc: 100%|██████████| 5/5 [00:00<00:00, 89.33it/s]"
     ]
    },
    {
     "name": "stdout",
     "output_type": "stream",
     "text": [
      "                   all      0.887          1\n"
     ]
    },
    {
     "name": "stderr",
     "output_type": "stream",
     "text": [
      "\n"
     ]
    },
    {
     "name": "stdout",
     "output_type": "stream",
     "text": [
      "\n",
      "      Epoch    GPU_mem       loss  Instances       Size\n"
     ]
    },
    {
     "name": "stderr",
     "output_type": "stream",
     "text": [
      "     79/100      2.14G     0.1209          2        224: 100%|██████████| 78/78 [00:02<00:00, 31.73it/s]\n",
      "               classes   top1_acc   top5_acc: 100%|██████████| 5/5 [00:00<00:00, 96.57it/s]"
     ]
    },
    {
     "name": "stdout",
     "output_type": "stream",
     "text": [
      "                   all      0.907          1\n"
     ]
    },
    {
     "name": "stderr",
     "output_type": "stream",
     "text": [
      "\n"
     ]
    },
    {
     "name": "stdout",
     "output_type": "stream",
     "text": [
      "\n",
      "      Epoch    GPU_mem       loss  Instances       Size\n"
     ]
    },
    {
     "name": "stderr",
     "output_type": "stream",
     "text": [
      "     80/100       2.1G    0.08604          2        224: 100%|██████████| 78/78 [00:02<00:00, 31.68it/s]\n",
      "               classes   top1_acc   top5_acc: 100%|██████████| 5/5 [00:00<00:00, 96.09it/s]"
     ]
    },
    {
     "name": "stdout",
     "output_type": "stream",
     "text": [
      "                   all        0.9          1\n"
     ]
    },
    {
     "name": "stderr",
     "output_type": "stream",
     "text": [
      "\n"
     ]
    },
    {
     "name": "stdout",
     "output_type": "stream",
     "text": [
      "\n",
      "      Epoch    GPU_mem       loss  Instances       Size\n"
     ]
    },
    {
     "name": "stderr",
     "output_type": "stream",
     "text": [
      "     81/100      2.14G     0.1307          2        224: 100%|██████████| 78/78 [00:02<00:00, 32.33it/s]\n",
      "               classes   top1_acc   top5_acc: 100%|██████████| 5/5 [00:00<00:00, 93.85it/s]"
     ]
    },
    {
     "name": "stdout",
     "output_type": "stream",
     "text": [
      "                   all       0.88          1\n"
     ]
    },
    {
     "name": "stderr",
     "output_type": "stream",
     "text": [
      "\n"
     ]
    },
    {
     "name": "stdout",
     "output_type": "stream",
     "text": [
      "\n",
      "      Epoch    GPU_mem       loss  Instances       Size\n"
     ]
    },
    {
     "name": "stderr",
     "output_type": "stream",
     "text": [
      "     82/100       2.1G    0.09875          2        224: 100%|██████████| 78/78 [00:02<00:00, 32.46it/s]\n",
      "               classes   top1_acc   top5_acc: 100%|██████████| 5/5 [00:00<00:00, 91.18it/s]"
     ]
    },
    {
     "name": "stdout",
     "output_type": "stream",
     "text": [
      "                   all      0.887          1\n"
     ]
    },
    {
     "name": "stderr",
     "output_type": "stream",
     "text": [
      "\n"
     ]
    },
    {
     "name": "stdout",
     "output_type": "stream",
     "text": [
      "\n",
      "      Epoch    GPU_mem       loss  Instances       Size\n"
     ]
    },
    {
     "name": "stderr",
     "output_type": "stream",
     "text": [
      "     83/100      2.14G      0.103          2        224: 100%|██████████| 78/78 [00:02<00:00, 32.83it/s]\n",
      "               classes   top1_acc   top5_acc: 100%|██████████| 5/5 [00:00<00:00, 95.08it/s]"
     ]
    },
    {
     "name": "stdout",
     "output_type": "stream",
     "text": [
      "                   all      0.873          1\n"
     ]
    },
    {
     "name": "stderr",
     "output_type": "stream",
     "text": [
      "\n"
     ]
    },
    {
     "name": "stdout",
     "output_type": "stream",
     "text": [
      "\n",
      "      Epoch    GPU_mem       loss  Instances       Size\n"
     ]
    },
    {
     "name": "stderr",
     "output_type": "stream",
     "text": [
      "     84/100       2.1G     0.1212          2        224: 100%|██████████| 78/78 [00:02<00:00, 32.56it/s]\n",
      "               classes   top1_acc   top5_acc: 100%|██████████| 5/5 [00:00<00:00, 94.80it/s]"
     ]
    },
    {
     "name": "stdout",
     "output_type": "stream",
     "text": [
      "                   all      0.893          1\n"
     ]
    },
    {
     "name": "stderr",
     "output_type": "stream",
     "text": [
      "\n"
     ]
    },
    {
     "name": "stdout",
     "output_type": "stream",
     "text": [
      "\n",
      "      Epoch    GPU_mem       loss  Instances       Size\n"
     ]
    },
    {
     "name": "stderr",
     "output_type": "stream",
     "text": [
      "     85/100      2.14G    0.09063          2        224: 100%|██████████| 78/78 [00:02<00:00, 31.94it/s]\n",
      "               classes   top1_acc   top5_acc: 100%|██████████| 5/5 [00:00<00:00, 101.27it/s]"
     ]
    },
    {
     "name": "stdout",
     "output_type": "stream",
     "text": [
      "                   all      0.893          1\n"
     ]
    },
    {
     "name": "stderr",
     "output_type": "stream",
     "text": [
      "\n"
     ]
    },
    {
     "name": "stdout",
     "output_type": "stream",
     "text": [
      "\n",
      "      Epoch    GPU_mem       loss  Instances       Size\n"
     ]
    },
    {
     "name": "stderr",
     "output_type": "stream",
     "text": [
      "     86/100       2.1G     0.1235          2        224: 100%|██████████| 78/78 [00:02<00:00, 33.02it/s]\n",
      "               classes   top1_acc   top5_acc: 100%|██████████| 5/5 [00:00<00:00, 99.78it/s]"
     ]
    },
    {
     "name": "stdout",
     "output_type": "stream",
     "text": [
      "                   all      0.907          1\n"
     ]
    },
    {
     "name": "stderr",
     "output_type": "stream",
     "text": [
      "\n"
     ]
    },
    {
     "name": "stdout",
     "output_type": "stream",
     "text": [
      "\n",
      "      Epoch    GPU_mem       loss  Instances       Size\n"
     ]
    },
    {
     "name": "stderr",
     "output_type": "stream",
     "text": [
      "     87/100      2.14G     0.1193          2        224: 100%|██████████| 78/78 [00:02<00:00, 33.12it/s]\n",
      "               classes   top1_acc   top5_acc: 100%|██████████| 5/5 [00:00<00:00, 95.38it/s]"
     ]
    },
    {
     "name": "stdout",
     "output_type": "stream",
     "text": [
      "                   all        0.9          1\n"
     ]
    },
    {
     "name": "stderr",
     "output_type": "stream",
     "text": [
      "\n"
     ]
    },
    {
     "name": "stdout",
     "output_type": "stream",
     "text": [
      "\n",
      "      Epoch    GPU_mem       loss  Instances       Size\n"
     ]
    },
    {
     "name": "stderr",
     "output_type": "stream",
     "text": [
      "     88/100       2.1G    0.07649          2        224: 100%|██████████| 78/78 [00:02<00:00, 31.63it/s]\n",
      "               classes   top1_acc   top5_acc: 100%|██████████| 5/5 [00:00<00:00, 78.91it/s]"
     ]
    },
    {
     "name": "stdout",
     "output_type": "stream",
     "text": [
      "                   all      0.893          1\n"
     ]
    },
    {
     "name": "stderr",
     "output_type": "stream",
     "text": [
      "\n"
     ]
    },
    {
     "name": "stdout",
     "output_type": "stream",
     "text": [
      "\n",
      "      Epoch    GPU_mem       loss  Instances       Size\n"
     ]
    },
    {
     "name": "stderr",
     "output_type": "stream",
     "text": [
      "     89/100      2.14G    0.07295          2        224: 100%|██████████| 78/78 [00:02<00:00, 33.11it/s]\n",
      "               classes   top1_acc   top5_acc: 100%|██████████| 5/5 [00:00<00:00, 98.09it/s]"
     ]
    },
    {
     "name": "stdout",
     "output_type": "stream",
     "text": [
      "                   all      0.913          1\n"
     ]
    },
    {
     "name": "stderr",
     "output_type": "stream",
     "text": [
      "\n"
     ]
    },
    {
     "name": "stdout",
     "output_type": "stream",
     "text": [
      "\n",
      "      Epoch    GPU_mem       loss  Instances       Size\n"
     ]
    },
    {
     "name": "stderr",
     "output_type": "stream",
     "text": [
      "     90/100       2.1G     0.1046          2        224: 100%|██████████| 78/78 [00:02<00:00, 32.18it/s]\n",
      "               classes   top1_acc   top5_acc: 100%|██████████| 5/5 [00:00<00:00, 99.08it/s]"
     ]
    },
    {
     "name": "stdout",
     "output_type": "stream",
     "text": [
      "                   all      0.907          1\n"
     ]
    },
    {
     "name": "stderr",
     "output_type": "stream",
     "text": [
      "\n"
     ]
    },
    {
     "name": "stdout",
     "output_type": "stream",
     "text": [
      "\n",
      "      Epoch    GPU_mem       loss  Instances       Size\n"
     ]
    },
    {
     "name": "stderr",
     "output_type": "stream",
     "text": [
      "     91/100      2.14G    0.09487          2        224: 100%|██████████| 78/78 [00:02<00:00, 28.87it/s]\n",
      "               classes   top1_acc   top5_acc: 100%|██████████| 5/5 [00:00<00:00, 93.82it/s]"
     ]
    },
    {
     "name": "stdout",
     "output_type": "stream",
     "text": [
      "                   all      0.893          1\n"
     ]
    },
    {
     "name": "stderr",
     "output_type": "stream",
     "text": [
      "\n"
     ]
    },
    {
     "name": "stdout",
     "output_type": "stream",
     "text": [
      "\n",
      "      Epoch    GPU_mem       loss  Instances       Size\n"
     ]
    },
    {
     "name": "stderr",
     "output_type": "stream",
     "text": [
      "     92/100       2.1G    0.06661          2        224: 100%|██████████| 78/78 [00:02<00:00, 32.97it/s]\n",
      "               classes   top1_acc   top5_acc: 100%|██████████| 5/5 [00:00<00:00, 93.21it/s]"
     ]
    },
    {
     "name": "stdout",
     "output_type": "stream",
     "text": [
      "                   all      0.907          1\n"
     ]
    },
    {
     "name": "stderr",
     "output_type": "stream",
     "text": [
      "\n"
     ]
    },
    {
     "name": "stdout",
     "output_type": "stream",
     "text": [
      "\n",
      "      Epoch    GPU_mem       loss  Instances       Size\n"
     ]
    },
    {
     "name": "stderr",
     "output_type": "stream",
     "text": [
      "     93/100      2.14G    0.07599          2        224: 100%|██████████| 78/78 [00:02<00:00, 33.62it/s]\n",
      "               classes   top1_acc   top5_acc: 100%|██████████| 5/5 [00:00<00:00, 94.59it/s]"
     ]
    },
    {
     "name": "stdout",
     "output_type": "stream",
     "text": [
      "                   all      0.907          1\n"
     ]
    },
    {
     "name": "stderr",
     "output_type": "stream",
     "text": [
      "\n"
     ]
    },
    {
     "name": "stdout",
     "output_type": "stream",
     "text": [
      "\n",
      "      Epoch    GPU_mem       loss  Instances       Size\n"
     ]
    },
    {
     "name": "stderr",
     "output_type": "stream",
     "text": [
      "     94/100       2.1G     0.1166          2        224: 100%|██████████| 78/78 [00:02<00:00, 31.80it/s]\n",
      "               classes   top1_acc   top5_acc: 100%|██████████| 5/5 [00:00<00:00, 95.58it/s]"
     ]
    },
    {
     "name": "stdout",
     "output_type": "stream",
     "text": [
      "                   all      0.887          1\n"
     ]
    },
    {
     "name": "stderr",
     "output_type": "stream",
     "text": [
      "\n"
     ]
    },
    {
     "name": "stdout",
     "output_type": "stream",
     "text": [
      "\n",
      "      Epoch    GPU_mem       loss  Instances       Size\n"
     ]
    },
    {
     "name": "stderr",
     "output_type": "stream",
     "text": [
      "     95/100      2.14G     0.1093          2        224: 100%|██████████| 78/78 [00:02<00:00, 32.74it/s]\n",
      "               classes   top1_acc   top5_acc: 100%|██████████| 5/5 [00:00<00:00, 94.30it/s]"
     ]
    },
    {
     "name": "stdout",
     "output_type": "stream",
     "text": [
      "                   all        0.9          1\n"
     ]
    },
    {
     "name": "stderr",
     "output_type": "stream",
     "text": [
      "\n"
     ]
    },
    {
     "name": "stdout",
     "output_type": "stream",
     "text": [
      "\n",
      "      Epoch    GPU_mem       loss  Instances       Size\n"
     ]
    },
    {
     "name": "stderr",
     "output_type": "stream",
     "text": [
      "     96/100       2.1G    0.08962          2        224: 100%|██████████| 78/78 [00:02<00:00, 31.99it/s]\n",
      "               classes   top1_acc   top5_acc: 100%|██████████| 5/5 [00:00<00:00, 82.77it/s]"
     ]
    },
    {
     "name": "stdout",
     "output_type": "stream",
     "text": [
      "                   all      0.887          1\n"
     ]
    },
    {
     "name": "stderr",
     "output_type": "stream",
     "text": [
      "\n"
     ]
    },
    {
     "name": "stdout",
     "output_type": "stream",
     "text": [
      "\n",
      "      Epoch    GPU_mem       loss  Instances       Size\n"
     ]
    },
    {
     "name": "stderr",
     "output_type": "stream",
     "text": [
      "     97/100      2.14G    0.06641          2        224: 100%|██████████| 78/78 [00:02<00:00, 33.17it/s]\n",
      "               classes   top1_acc   top5_acc: 100%|██████████| 5/5 [00:00<00:00, 93.60it/s]"
     ]
    },
    {
     "name": "stdout",
     "output_type": "stream",
     "text": [
      "                   all        0.9          1\n"
     ]
    },
    {
     "name": "stderr",
     "output_type": "stream",
     "text": [
      "\n"
     ]
    },
    {
     "name": "stdout",
     "output_type": "stream",
     "text": [
      "\n",
      "      Epoch    GPU_mem       loss  Instances       Size\n"
     ]
    },
    {
     "name": "stderr",
     "output_type": "stream",
     "text": [
      "     98/100       2.1G    0.07592          2        224: 100%|██████████| 78/78 [00:02<00:00, 32.36it/s]\n",
      "               classes   top1_acc   top5_acc: 100%|██████████| 5/5 [00:00<00:00, 93.53it/s]"
     ]
    },
    {
     "name": "stdout",
     "output_type": "stream",
     "text": [
      "                   all        0.9          1\n"
     ]
    },
    {
     "name": "stderr",
     "output_type": "stream",
     "text": [
      "\n"
     ]
    },
    {
     "name": "stdout",
     "output_type": "stream",
     "text": [
      "\n",
      "      Epoch    GPU_mem       loss  Instances       Size\n"
     ]
    },
    {
     "name": "stderr",
     "output_type": "stream",
     "text": [
      "     99/100      2.14G    0.08775          2        224: 100%|██████████| 78/78 [00:02<00:00, 32.71it/s]\n",
      "               classes   top1_acc   top5_acc: 100%|██████████| 5/5 [00:00<00:00, 96.59it/s]"
     ]
    },
    {
     "name": "stdout",
     "output_type": "stream",
     "text": [
      "                   all      0.913          1\n"
     ]
    },
    {
     "name": "stderr",
     "output_type": "stream",
     "text": [
      "\n"
     ]
    },
    {
     "name": "stdout",
     "output_type": "stream",
     "text": [
      "\n",
      "      Epoch    GPU_mem       loss  Instances       Size\n"
     ]
    },
    {
     "name": "stderr",
     "output_type": "stream",
     "text": [
      "    100/100       2.1G     0.0899          2        224: 100%|██████████| 78/78 [00:02<00:00, 32.13it/s]\n",
      "               classes   top1_acc   top5_acc: 100%|██████████| 5/5 [00:00<00:00, 93.15it/s]"
     ]
    },
    {
     "name": "stdout",
     "output_type": "stream",
     "text": [
      "                   all      0.907          1\n"
     ]
    },
    {
     "name": "stderr",
     "output_type": "stream",
     "text": [
      "\n"
     ]
    },
    {
     "name": "stdout",
     "output_type": "stream",
     "text": [
      "\n",
      "100 epochs completed in 0.083 hours.\n",
      "Optimizer stripped from runs/classify/train139/weights/last.pt, 31.7MB\n",
      "Optimizer stripped from runs/classify/train139/weights/best.pt, 31.7MB\n",
      "\n",
      "Validating runs/classify/train139/weights/best.pt...\n",
      "Ultralytics 8.3.73 🚀 Python-3.10.12 torch-2.6.0+cu124 CUDA:0 (NVIDIA GeForce RTX 4090, 24210MiB)\n",
      "YOLOv8m-cls summary (fused): 103 layers, 15,765,218 parameters, 0 gradients, 41.6 GFLOPs\n",
      "\u001b[34m\u001b[1mtrain:\u001b[0m /home/jupyter/classifications/streetview_abandonedness/train... found 1234 images in 2 classes ✅ \n",
      "\u001b[34m\u001b[1mval:\u001b[0m /home/jupyter/classifications/streetview_abandonedness/val... found 150 images in 2 classes ✅ \n",
      "\u001b[34m\u001b[1mtest:\u001b[0m /home/jupyter/classifications/streetview_abandonedness/test... found 136 images in 2 classes ✅ \n"
     ]
    },
    {
     "name": "stderr",
     "output_type": "stream",
     "text": [
      "               classes   top1_acc   top5_acc: 100%|██████████| 5/5 [00:00<00:00, 48.42it/s]\n"
     ]
    },
    {
     "name": "stdout",
     "output_type": "stream",
     "text": [
      "                   all      0.913          1\n",
      "Speed: 0.0ms preprocess, 0.6ms inference, 0.0ms loss, 0.0ms postprocess per image\n",
      "Results saved to \u001b[1mruns/classify/train139\u001b[0m\n"
     ]
    },
    {
     "data": {
      "text/plain": [
       "ultralytics.utils.metrics.ClassifyMetrics object with attributes:\n",
       "\n",
       "confusion_matrix: <ultralytics.utils.metrics.ConfusionMatrix object at 0x7d73ac6e2710>\n",
       "curves: []\n",
       "curves_results: []\n",
       "fitness: 0.9566666781902313\n",
       "keys: ['metrics/accuracy_top1', 'metrics/accuracy_top5']\n",
       "results_dict: {'metrics/accuracy_top1': 0.9133333563804626, 'metrics/accuracy_top5': 1.0, 'fitness': 0.9566666781902313}\n",
       "save_dir: PosixPath('runs/classify/train139')\n",
       "speed: {'preprocess': 0.04946549733479818, 'inference': 0.6072473526000977, 'loss': 0.00025272369384765625, 'postprocess': 0.00038623809814453125}\n",
       "task: 'classify'\n",
       "top1: 0.9133333563804626\n",
       "top5: 1.0"
      ]
     },
     "execution_count": 493,
     "metadata": {},
     "output_type": "execute_result"
    }
   ],
   "source": [
    "#training abandonnessModel for street view\n",
    "\n",
    "#modelPath = \"yolov8m-cls.pt\"  #uncomment to restart training from scratch\n",
    "#abandonnessModel = YOLO(modelPath)\n",
    "abandonnessModel.train(data=\"classifications/streetview_abandonedness\", epochs = 100, fliplr = 0, shear=10)"
   ]
  },
  {
   "cell_type": "code",
   "execution_count": 494,
   "metadata": {
    "editable": true,
    "slideshow": {
     "slide_type": ""
    },
    "tags": []
   },
   "outputs": [],
   "source": [
    "#getting pretrained model\n",
    "modelPath = \"runs/classify/train139/weights/last.pt\"\n",
    "abandonnessModel = YOLO(modelPath) # street view model"
   ]
  },
  {
   "cell_type": "code",
   "execution_count": 495,
   "metadata": {
    "editable": true,
    "scrolled": true,
    "slideshow": {
     "slide_type": ""
    },
    "tags": []
   },
   "outputs": [
    {
     "name": "stdout",
     "output_type": "stream",
     "text": [
      "\n",
      "image 1/60 /home/jupyter/classifications/streetview_abandonedness/test/abandoned/v10015_abandoned_m.png: 224x224 owned 0.97, abandoned 0.03, 3.8ms\n",
      "image 2/60 /home/jupyter/classifications/streetview_abandonedness/test/abandoned/v10078_abandoned_m.png: 224x224 abandoned 0.98, owned 0.02, 3.7ms\n",
      "image 3/60 /home/jupyter/classifications/streetview_abandonedness/test/abandoned/v10082_abandoned_m.png: 224x224 owned 0.78, abandoned 0.22, 3.7ms\n",
      "image 4/60 /home/jupyter/classifications/streetview_abandonedness/test/abandoned/v10088_abandoned_m.png: 224x224 abandoned 1.00, owned 0.00, 3.8ms\n",
      "image 5/60 /home/jupyter/classifications/streetview_abandonedness/test/abandoned/v10091_abandoned.png: 224x224 abandoned 0.98, owned 0.02, 3.7ms\n",
      "image 6/60 /home/jupyter/classifications/streetview_abandonedness/test/abandoned/v10120_abandoned.png: 224x224 abandoned 1.00, owned 0.00, 3.7ms\n",
      "image 7/60 /home/jupyter/classifications/streetview_abandonedness/test/abandoned/v10143_abandoned_m.png: 224x224 abandoned 0.98, owned 0.02, 3.7ms\n",
      "image 8/60 /home/jupyter/classifications/streetview_abandonedness/test/abandoned/v10155_abandoned.png: 224x224 abandoned 0.90, owned 0.10, 3.8ms\n",
      "image 9/60 /home/jupyter/classifications/streetview_abandonedness/test/abandoned/v10155_abandoned_m.png: 224x224 abandoned 0.95, owned 0.05, 3.7ms\n",
      "image 10/60 /home/jupyter/classifications/streetview_abandonedness/test/abandoned/v10157_abandoned_m.png: 224x224 abandoned 1.00, owned 0.00, 3.8ms\n",
      "image 11/60 /home/jupyter/classifications/streetview_abandonedness/test/abandoned/v10174_abandoned_m.png: 224x224 owned 0.53, abandoned 0.47, 3.7ms\n",
      "image 12/60 /home/jupyter/classifications/streetview_abandonedness/test/abandoned/v10176_abandoned.png: 224x224 owned 0.58, abandoned 0.42, 3.7ms\n",
      "image 13/60 /home/jupyter/classifications/streetview_abandonedness/test/abandoned/v10186_abandoned_m.png: 224x224 abandoned 1.00, owned 0.00, 3.7ms\n",
      "image 14/60 /home/jupyter/classifications/streetview_abandonedness/test/abandoned/v10189_abandoned.png: 224x224 abandoned 1.00, owned 0.00, 3.7ms\n",
      "image 15/60 /home/jupyter/classifications/streetview_abandonedness/test/abandoned/v10192_abandoned_m.png: 224x224 abandoned 0.99, owned 0.01, 3.7ms\n",
      "image 16/60 /home/jupyter/classifications/streetview_abandonedness/test/abandoned/v10199_abandoned_m.png: 224x224 abandoned 1.00, owned 0.00, 3.7ms\n",
      "image 17/60 /home/jupyter/classifications/streetview_abandonedness/test/abandoned/v10204_abandoned.png: 224x224 abandoned 1.00, owned 0.00, 3.8ms\n",
      "image 18/60 /home/jupyter/classifications/streetview_abandonedness/test/abandoned/v10216_abandoned_m.png: 224x224 abandoned 1.00, owned 0.00, 3.7ms\n",
      "image 19/60 /home/jupyter/classifications/streetview_abandonedness/test/abandoned/v10219_abandoned.png: 224x224 abandoned 0.90, owned 0.10, 3.8ms\n",
      "image 20/60 /home/jupyter/classifications/streetview_abandonedness/test/abandoned/v10232_abandoned.png: 224x224 abandoned 0.99, owned 0.01, 3.7ms\n",
      "image 21/60 /home/jupyter/classifications/streetview_abandonedness/test/abandoned/v10234_abandoned_m.png: 224x224 abandoned 1.00, owned 0.00, 3.7ms\n",
      "image 22/60 /home/jupyter/classifications/streetview_abandonedness/test/abandoned/v10239_abandoned_m.png: 224x224 abandoned 0.99, owned 0.01, 3.7ms\n",
      "image 23/60 /home/jupyter/classifications/streetview_abandonedness/test/abandoned/v10241_abandoned_m.png: 224x224 owned 0.96, abandoned 0.04, 3.7ms\n",
      "image 24/60 /home/jupyter/classifications/streetview_abandonedness/test/abandoned/v10248_abandoned_m.png: 224x224 abandoned 1.00, owned 0.00, 3.7ms\n",
      "image 25/60 /home/jupyter/classifications/streetview_abandonedness/test/abandoned/v10275_abandoned.png: 224x224 abandoned 0.98, owned 0.02, 3.7ms\n",
      "image 26/60 /home/jupyter/classifications/streetview_abandonedness/test/abandoned/v10277_abandoned.png: 224x224 abandoned 1.00, owned 0.00, 3.7ms\n",
      "image 27/60 /home/jupyter/classifications/streetview_abandonedness/test/abandoned/v10299_abandoned_m.png: 224x224 abandoned 1.00, owned 0.00, 3.7ms\n",
      "image 28/60 /home/jupyter/classifications/streetview_abandonedness/test/abandoned/v10305_abandoned.png: 224x224 abandoned 1.00, owned 0.00, 3.7ms\n",
      "image 29/60 /home/jupyter/classifications/streetview_abandonedness/test/abandoned/v10311_abandoned_m.png: 224x224 abandoned 0.97, owned 0.03, 3.7ms\n",
      "image 30/60 /home/jupyter/classifications/streetview_abandonedness/test/abandoned/v10344_abandoned.png: 224x224 abandoned 1.00, owned 0.00, 3.8ms\n",
      "image 31/60 /home/jupyter/classifications/streetview_abandonedness/test/abandoned/v10354_abandoned.png: 224x224 abandoned 1.00, owned 0.00, 3.7ms\n",
      "image 32/60 /home/jupyter/classifications/streetview_abandonedness/test/abandoned/v10360_abandoned_m.png: 224x224 abandoned 1.00, owned 0.00, 3.7ms\n",
      "image 33/60 /home/jupyter/classifications/streetview_abandonedness/test/abandoned/v10386_abandoned_m.png: 224x224 abandoned 0.86, owned 0.14, 3.7ms\n",
      "image 34/60 /home/jupyter/classifications/streetview_abandonedness/test/abandoned/v10406_abandoned.png: 224x224 abandoned 1.00, owned 0.00, 3.7ms\n",
      "image 35/60 /home/jupyter/classifications/streetview_abandonedness/test/abandoned/v10415_abandoned.png: 224x224 abandoned 1.00, owned 0.00, 3.7ms\n",
      "image 36/60 /home/jupyter/classifications/streetview_abandonedness/test/abandoned/v10428_abandoned_m.png: 224x224 abandoned 1.00, owned 0.00, 3.7ms\n",
      "image 37/60 /home/jupyter/classifications/streetview_abandonedness/test/abandoned/v10433_abandoned.png: 224x224 abandoned 1.00, owned 0.00, 3.8ms\n",
      "image 38/60 /home/jupyter/classifications/streetview_abandonedness/test/abandoned/v10433_abandoned_m.png: 224x224 abandoned 1.00, owned 0.00, 3.7ms\n",
      "image 39/60 /home/jupyter/classifications/streetview_abandonedness/test/abandoned/v10466_abandoned.png: 224x224 abandoned 0.80, owned 0.20, 3.7ms\n",
      "image 40/60 /home/jupyter/classifications/streetview_abandonedness/test/abandoned/v10472_abandoned_m.png: 224x224 abandoned 0.85, owned 0.15, 3.7ms\n",
      "image 41/60 /home/jupyter/classifications/streetview_abandonedness/test/abandoned/v10498_abandoned.png: 224x224 abandoned 0.58, owned 0.42, 3.7ms\n",
      "image 42/60 /home/jupyter/classifications/streetview_abandonedness/test/abandoned/v20007_abandoned.png: 224x224 abandoned 1.00, owned 0.00, 3.7ms\n",
      "image 43/60 /home/jupyter/classifications/streetview_abandonedness/test/abandoned/v20028_abandoned.png: 224x224 owned 1.00, abandoned 0.00, 3.7ms\n",
      "image 44/60 /home/jupyter/classifications/streetview_abandonedness/test/abandoned/v20028_abandoned_m.png: 224x224 owned 1.00, abandoned 0.00, 3.7ms\n",
      "image 45/60 /home/jupyter/classifications/streetview_abandonedness/test/abandoned/v20031_abandoned.png: 224x224 abandoned 0.95, owned 0.05, 3.7ms\n",
      "image 46/60 /home/jupyter/classifications/streetview_abandonedness/test/abandoned/v20043_abandoned.png: 224x224 abandoned 1.00, owned 0.00, 3.7ms\n",
      "image 47/60 /home/jupyter/classifications/streetview_abandonedness/test/abandoned/v20067_abandoned.png: 224x224 abandoned 1.00, owned 0.00, 3.7ms\n",
      "image 48/60 /home/jupyter/classifications/streetview_abandonedness/test/abandoned/v20094_abandoned_m.png: 224x224 abandoned 1.00, owned 0.00, 3.7ms\n",
      "image 49/60 /home/jupyter/classifications/streetview_abandonedness/test/abandoned/v20098_abandoned_m.png: 224x224 abandoned 1.00, owned 0.00, 3.7ms\n",
      "image 50/60 /home/jupyter/classifications/streetview_abandonedness/test/abandoned/v20115_abandoned_m.png: 224x224 abandoned 0.95, owned 0.05, 3.7ms\n",
      "image 51/60 /home/jupyter/classifications/streetview_abandonedness/test/abandoned/v20121_abandoned_m.png: 224x224 abandoned 1.00, owned 0.00, 3.8ms\n",
      "image 52/60 /home/jupyter/classifications/streetview_abandonedness/test/abandoned/v20124_abandoned.png: 224x224 abandoned 0.83, owned 0.17, 3.7ms\n",
      "image 53/60 /home/jupyter/classifications/streetview_abandonedness/test/abandoned/v20134_abandoned.png: 224x224 abandoned 0.99, owned 0.01, 4.3ms\n",
      "image 54/60 /home/jupyter/classifications/streetview_abandonedness/test/abandoned/v20135_abandoned.png: 224x224 abandoned 0.99, owned 0.01, 3.7ms\n",
      "image 55/60 /home/jupyter/classifications/streetview_abandonedness/test/abandoned/v20144_abandoned.png: 224x224 abandoned 1.00, owned 0.00, 3.7ms\n",
      "image 56/60 /home/jupyter/classifications/streetview_abandonedness/test/abandoned/v20182_abandoned.png: 224x224 abandoned 1.00, owned 0.00, 3.7ms\n",
      "image 57/60 /home/jupyter/classifications/streetview_abandonedness/test/abandoned/v20205_abandoned.png: 224x224 abandoned 1.00, owned 0.00, 3.7ms\n",
      "image 58/60 /home/jupyter/classifications/streetview_abandonedness/test/abandoned/v20210_abandoned.png: 224x224 abandoned 1.00, owned 0.00, 3.7ms\n",
      "image 59/60 /home/jupyter/classifications/streetview_abandonedness/test/abandoned/v20231_abandoned_m.png: 224x224 abandoned 0.99, owned 0.01, 3.8ms\n",
      "image 60/60 /home/jupyter/classifications/streetview_abandonedness/test/abandoned/v20243_abandoned_m.png: 224x224 abandoned 0.98, owned 0.02, 3.7ms\n",
      "Speed: 3.1ms preprocess, 3.7ms inference, 0.0ms postprocess per image at shape (1, 3, 224, 224)\n",
      "\n",
      "image 1/76 /home/jupyter/classifications/streetview_abandonedness/test/owned/v10014_owned.png: 224x224 owned 0.72, abandoned 0.28, 3.8ms\n",
      "image 2/76 /home/jupyter/classifications/streetview_abandonedness/test/owned/v10022_owned_m.png: 224x224 owned 0.71, abandoned 0.29, 3.7ms\n",
      "image 3/76 /home/jupyter/classifications/streetview_abandonedness/test/owned/v10024_owned.png: 224x224 owned 0.92, abandoned 0.08, 3.8ms\n",
      "image 4/76 /home/jupyter/classifications/streetview_abandonedness/test/owned/v10047_owned.png: 224x224 abandoned 0.79, owned 0.21, 3.7ms\n",
      "image 5/76 /home/jupyter/classifications/streetview_abandonedness/test/owned/v10047_owned_m.png: 224x224 abandoned 0.95, owned 0.05, 3.7ms\n",
      "image 6/76 /home/jupyter/classifications/streetview_abandonedness/test/owned/v10057_owned.png: 224x224 owned 0.97, abandoned 0.03, 3.7ms\n",
      "image 7/76 /home/jupyter/classifications/streetview_abandonedness/test/owned/v10059_owned.png: 224x224 owned 0.99, abandoned 0.01, 3.8ms\n",
      "image 8/76 /home/jupyter/classifications/streetview_abandonedness/test/owned/v10096_owned_m.png: 224x224 owned 0.91, abandoned 0.09, 3.7ms\n",
      "image 9/76 /home/jupyter/classifications/streetview_abandonedness/test/owned/v10104_owned_m.png: 224x224 owned 1.00, abandoned 0.00, 3.7ms\n",
      "image 10/76 /home/jupyter/classifications/streetview_abandonedness/test/owned/v10107_owned.png: 224x224 owned 0.66, abandoned 0.34, 3.7ms\n",
      "image 11/76 /home/jupyter/classifications/streetview_abandonedness/test/owned/v10114_owned.png: 224x224 owned 1.00, abandoned 0.00, 3.7ms\n",
      "image 12/76 /home/jupyter/classifications/streetview_abandonedness/test/owned/v10140_owned.png: 224x224 owned 0.73, abandoned 0.27, 3.7ms\n",
      "image 13/76 /home/jupyter/classifications/streetview_abandonedness/test/owned/v10142_owned_m.png: 224x224 owned 1.00, abandoned 0.00, 3.7ms\n",
      "image 14/76 /home/jupyter/classifications/streetview_abandonedness/test/owned/v10170_owned.png: 224x224 owned 1.00, abandoned 0.00, 3.7ms\n",
      "image 15/76 /home/jupyter/classifications/streetview_abandonedness/test/owned/v10217_owned_m.png: 224x224 owned 1.00, abandoned 0.00, 3.7ms\n",
      "image 16/76 /home/jupyter/classifications/streetview_abandonedness/test/owned/v10226_owned_m.png: 224x224 owned 0.99, abandoned 0.01, 3.7ms\n",
      "image 17/76 /home/jupyter/classifications/streetview_abandonedness/test/owned/v10229_owned.png: 224x224 owned 0.87, abandoned 0.13, 3.7ms\n",
      "image 18/76 /home/jupyter/classifications/streetview_abandonedness/test/owned/v10236_owned.png: 224x224 abandoned 1.00, owned 0.00, 3.7ms\n",
      "image 19/76 /home/jupyter/classifications/streetview_abandonedness/test/owned/v10238_owned_m.png: 224x224 owned 1.00, abandoned 0.00, 3.7ms\n",
      "image 20/76 /home/jupyter/classifications/streetview_abandonedness/test/owned/v10256_owned_m.png: 224x224 owned 1.00, abandoned 0.00, 3.7ms\n",
      "image 21/76 /home/jupyter/classifications/streetview_abandonedness/test/owned/v10264_owned.png: 224x224 owned 0.61, abandoned 0.39, 3.7ms\n",
      "image 22/76 /home/jupyter/classifications/streetview_abandonedness/test/owned/v10276_owned.png: 224x224 owned 0.91, abandoned 0.09, 3.7ms\n",
      "image 23/76 /home/jupyter/classifications/streetview_abandonedness/test/owned/v10306_owned.png: 224x224 owned 1.00, abandoned 0.00, 3.7ms\n",
      "image 24/76 /home/jupyter/classifications/streetview_abandonedness/test/owned/v10314_owned.png: 224x224 owned 0.63, abandoned 0.37, 3.7ms\n",
      "image 25/76 /home/jupyter/classifications/streetview_abandonedness/test/owned/v10319_owned.png: 224x224 owned 1.00, abandoned 0.00, 3.7ms\n",
      "image 26/76 /home/jupyter/classifications/streetview_abandonedness/test/owned/v10324_owned_m.png: 224x224 owned 1.00, abandoned 0.00, 3.7ms\n",
      "image 27/76 /home/jupyter/classifications/streetview_abandonedness/test/owned/v10334_owned.png: 224x224 owned 0.99, abandoned 0.01, 3.7ms\n",
      "image 28/76 /home/jupyter/classifications/streetview_abandonedness/test/owned/v10339_owned_m.png: 224x224 owned 1.00, abandoned 0.00, 3.7ms\n",
      "image 29/76 /home/jupyter/classifications/streetview_abandonedness/test/owned/v10347_owned_m.png: 224x224 owned 0.98, abandoned 0.02, 3.7ms\n",
      "image 30/76 /home/jupyter/classifications/streetview_abandonedness/test/owned/v10356_owned.png: 224x224 owned 0.56, abandoned 0.44, 3.7ms\n",
      "image 31/76 /home/jupyter/classifications/streetview_abandonedness/test/owned/v10359_owned.png: 224x224 owned 0.98, abandoned 0.02, 3.7ms\n",
      "image 32/76 /home/jupyter/classifications/streetview_abandonedness/test/owned/v10369_owned_m.png: 224x224 abandoned 0.51, owned 0.49, 3.7ms\n",
      "image 33/76 /home/jupyter/classifications/streetview_abandonedness/test/owned/v10381_owned_m.png: 224x224 owned 0.98, abandoned 0.02, 3.7ms\n",
      "image 34/76 /home/jupyter/classifications/streetview_abandonedness/test/owned/v10387_owned.png: 224x224 owned 0.89, abandoned 0.11, 3.7ms\n",
      "image 35/76 /home/jupyter/classifications/streetview_abandonedness/test/owned/v10402_owned_m.png: 224x224 owned 0.97, abandoned 0.03, 3.7ms\n",
      "image 36/76 /home/jupyter/classifications/streetview_abandonedness/test/owned/v10418_owned_m.png: 224x224 owned 0.75, abandoned 0.25, 3.7ms\n",
      "image 37/76 /home/jupyter/classifications/streetview_abandonedness/test/owned/v10420_owned_m.png: 224x224 owned 1.00, abandoned 0.00, 3.7ms\n",
      "image 38/76 /home/jupyter/classifications/streetview_abandonedness/test/owned/v10423_owned.png: 224x224 owned 1.00, abandoned 0.00, 3.7ms\n",
      "image 39/76 /home/jupyter/classifications/streetview_abandonedness/test/owned/v10429_owned_m.png: 224x224 owned 0.63, abandoned 0.37, 3.7ms\n",
      "image 40/76 /home/jupyter/classifications/streetview_abandonedness/test/owned/v10431_owned.png: 224x224 owned 1.00, abandoned 0.00, 3.7ms\n",
      "image 41/76 /home/jupyter/classifications/streetview_abandonedness/test/owned/v10445_owned_m.png: 224x224 owned 1.00, abandoned 0.00, 3.7ms\n",
      "image 42/76 /home/jupyter/classifications/streetview_abandonedness/test/owned/v10470_owned_m.png: 224x224 owned 0.87, abandoned 0.13, 3.7ms\n",
      "image 43/76 /home/jupyter/classifications/streetview_abandonedness/test/owned/v10477_owned_m.png: 224x224 owned 1.00, abandoned 0.00, 3.7ms\n",
      "image 44/76 /home/jupyter/classifications/streetview_abandonedness/test/owned/v10482_owned_m.png: 224x224 owned 1.00, abandoned 0.00, 3.8ms\n",
      "image 45/76 /home/jupyter/classifications/streetview_abandonedness/test/owned/v10500_owned.png: 224x224 abandoned 0.73, owned 0.27, 4.5ms\n",
      "image 46/76 /home/jupyter/classifications/streetview_abandonedness/test/owned/v10500_owned_m.png: 224x224 abandoned 0.89, owned 0.11, 3.8ms\n",
      "image 47/76 /home/jupyter/classifications/streetview_abandonedness/test/owned/v20020_owned_m.png: 224x224 owned 1.00, abandoned 0.00, 3.7ms\n",
      "image 48/76 /home/jupyter/classifications/streetview_abandonedness/test/owned/v20025_owned_m.png: 224x224 owned 1.00, abandoned 0.00, 3.7ms\n",
      "image 49/76 /home/jupyter/classifications/streetview_abandonedness/test/owned/v20030_owned.png: 224x224 owned 1.00, abandoned 0.00, 3.7ms\n",
      "image 50/76 /home/jupyter/classifications/streetview_abandonedness/test/owned/v20035_owned_m.png: 224x224 owned 1.00, abandoned 0.00, 3.7ms\n",
      "image 51/76 /home/jupyter/classifications/streetview_abandonedness/test/owned/v20037_owned.png: 224x224 owned 0.97, abandoned 0.03, 3.7ms\n",
      "image 52/76 /home/jupyter/classifications/streetview_abandonedness/test/owned/v20037_owned_m.png: 224x224 owned 1.00, abandoned 0.00, 3.7ms\n",
      "image 53/76 /home/jupyter/classifications/streetview_abandonedness/test/owned/v20040_owned.png: 224x224 owned 1.00, abandoned 0.00, 3.7ms\n",
      "image 54/76 /home/jupyter/classifications/streetview_abandonedness/test/owned/v20041_owned_m.png: 224x224 owned 1.00, abandoned 0.00, 3.7ms\n",
      "image 55/76 /home/jupyter/classifications/streetview_abandonedness/test/owned/v20053_owned.png: 224x224 owned 1.00, abandoned 0.00, 3.7ms\n",
      "image 56/76 /home/jupyter/classifications/streetview_abandonedness/test/owned/v20057_owned.png: 224x224 owned 0.98, abandoned 0.02, 3.7ms\n",
      "image 57/76 /home/jupyter/classifications/streetview_abandonedness/test/owned/v20065_owned_m.png: 224x224 owned 1.00, abandoned 0.00, 3.7ms\n",
      "image 58/76 /home/jupyter/classifications/streetview_abandonedness/test/owned/v20070_owned_m.png: 224x224 owned 0.98, abandoned 0.02, 3.7ms\n",
      "image 59/76 /home/jupyter/classifications/streetview_abandonedness/test/owned/v20077_owned_m.png: 224x224 owned 1.00, abandoned 0.00, 3.7ms\n",
      "image 60/76 /home/jupyter/classifications/streetview_abandonedness/test/owned/v20092_owned.png: 224x224 owned 1.00, abandoned 0.00, 3.7ms\n",
      "image 61/76 /home/jupyter/classifications/streetview_abandonedness/test/owned/v20108_owned_m.png: 224x224 owned 0.95, abandoned 0.05, 3.7ms\n",
      "image 62/76 /home/jupyter/classifications/streetview_abandonedness/test/owned/v20122_owned.png: 224x224 abandoned 0.95, owned 0.05, 3.7ms\n",
      "image 63/76 /home/jupyter/classifications/streetview_abandonedness/test/owned/v20123_owned.png: 224x224 owned 1.00, abandoned 0.00, 3.7ms\n",
      "image 64/76 /home/jupyter/classifications/streetview_abandonedness/test/owned/v20127_owned.png: 224x224 owned 1.00, abandoned 0.00, 3.7ms\n",
      "image 65/76 /home/jupyter/classifications/streetview_abandonedness/test/owned/v20137_owned.png: 224x224 abandoned 0.96, owned 0.04, 3.7ms\n",
      "image 66/76 /home/jupyter/classifications/streetview_abandonedness/test/owned/v20150_owned_m.png: 224x224 owned 0.73, abandoned 0.27, 3.7ms\n",
      "image 67/76 /home/jupyter/classifications/streetview_abandonedness/test/owned/v20151_owned.png: 224x224 owned 1.00, abandoned 0.00, 3.7ms\n",
      "image 68/76 /home/jupyter/classifications/streetview_abandonedness/test/owned/v20160_owned.png: 224x224 owned 1.00, abandoned 0.00, 3.7ms\n",
      "image 69/76 /home/jupyter/classifications/streetview_abandonedness/test/owned/v20161_owned_m.png: 224x224 owned 1.00, abandoned 0.00, 3.7ms\n",
      "image 70/76 /home/jupyter/classifications/streetview_abandonedness/test/owned/v20164_owned.png: 224x224 owned 1.00, abandoned 0.00, 3.7ms\n",
      "image 71/76 /home/jupyter/classifications/streetview_abandonedness/test/owned/v20169_owned_m.png: 224x224 owned 1.00, abandoned 0.00, 3.7ms\n",
      "image 72/76 /home/jupyter/classifications/streetview_abandonedness/test/owned/v20174_owned_m.png: 224x224 owned 1.00, abandoned 0.00, 3.7ms\n",
      "image 73/76 /home/jupyter/classifications/streetview_abandonedness/test/owned/v20183_owned.png: 224x224 owned 1.00, abandoned 0.00, 3.7ms\n",
      "image 74/76 /home/jupyter/classifications/streetview_abandonedness/test/owned/v20212_owned_m.png: 224x224 owned 1.00, abandoned 0.00, 3.7ms\n",
      "image 75/76 /home/jupyter/classifications/streetview_abandonedness/test/owned/v20234_owned.png: 224x224 owned 0.98, abandoned 0.02, 3.7ms\n",
      "image 76/76 /home/jupyter/classifications/streetview_abandonedness/test/owned/v20259_owned.png: 224x224 owned 1.00, abandoned 0.00, 3.7ms\n",
      "Speed: 3.0ms preprocess, 3.7ms inference, 0.0ms postprocess per image at shape (1, 3, 224, 224)\n"
     ]
    }
   ],
   "source": [
    "#predicting from test data (street view)\n",
    "testFolderPath = \"classifications/streetview_abandonedness/test/abandoned\"\n",
    "abandonedTestResults = abandonnessModel.predict(testFolderPath)\n",
    "testFolderPath = \"classifications/streetview_abandonedness/test/owned\"\n",
    "ownedTestResults = abandonnessModel.predict(testFolderPath)"
   ]
  },
  {
   "cell_type": "code",
   "execution_count": 496,
   "metadata": {},
   "outputs": [
    {
     "name": "stdout",
     "output_type": "stream",
     "text": [
      "Accuracy:  121 / 136  =  0.89\n",
      "\n",
      "Abandonness precision:  0.869\n",
      "Owned precision:  0.907\n",
      "Abandonness recall:  0.883\n",
      "Owned recall:  0.895\n",
      "\n",
      "Abandonness f1 score:  0.876\n",
      "Owned f1 score:  0.901\n"
     ]
    }
   ],
   "source": [
    "analyzeAbandonedTestData(abandonedTestResults, ownedTestResults)"
   ]
  },
  {
   "cell_type": "markdown",
   "metadata": {},
   "source": [
    "## Satellite View"
   ]
  },
  {
   "cell_type": "code",
   "execution_count": 545,
   "metadata": {
    "editable": true,
    "scrolled": true,
    "slideshow": {
     "slide_type": ""
    },
    "tags": []
   },
   "outputs": [
    {
     "name": "stdout",
     "output_type": "stream",
     "text": [
      "New https://pypi.org/project/ultralytics/8.3.78 available 😃 Update with 'pip install -U ultralytics'\n",
      "Ultralytics 8.3.73 🚀 Python-3.10.12 torch-2.6.0+cu124 CUDA:0 (NVIDIA GeForce RTX 4090, 24210MiB)\n",
      "\u001b[34m\u001b[1mengine/trainer: \u001b[0mtask=classify, mode=train, model=runs/classify/train148/weights/best.pt, data=classifications/satellite_abandonedness, epochs=100, time=None, patience=100, batch=16, imgsz=224, save=True, save_period=-1, cache=False, device=None, workers=8, project=None, name=train149, exist_ok=False, pretrained=True, optimizer=auto, verbose=True, seed=0, deterministic=True, single_cls=False, rect=False, cos_lr=False, close_mosaic=10, resume=False, amp=True, fraction=1.0, profile=False, freeze=None, multi_scale=False, overlap_mask=True, mask_ratio=4, dropout=0.0, val=True, split=val, save_json=False, save_hybrid=False, conf=None, iou=0.7, max_det=300, half=False, dnn=False, plots=True, source=None, vid_stride=1, stream_buffer=False, visualize=False, augment=False, agnostic_nms=False, classes=None, retina_masks=False, embed=None, show=False, save_frames=False, save_txt=False, save_conf=False, save_crop=False, show_labels=True, show_conf=True, show_boxes=True, line_width=None, format=torchscript, keras=False, optimize=False, int8=False, dynamic=False, simplify=True, opset=None, workspace=None, nms=False, lr0=0.01, lrf=0.01, momentum=0.937, weight_decay=0.0005, warmup_epochs=3.0, warmup_momentum=0.8, warmup_bias_lr=0.1, box=7.5, cls=0.5, dfl=1.5, pose=12.0, kobj=1.0, nbs=64, hsv_h=0.015, hsv_s=0.7, hsv_v=0.4, degrees=0.0, translate=0.3, scale=0.2, shear=0.0, perspective=0.0, flipud=0, fliplr=0, bgr=0.0, mosaic=1.0, mixup=0.0, copy_paste=0.0, copy_paste_mode=flip, auto_augment=randaugment, erasing=0.4, crop_fraction=1.0, cfg=None, tracker=botsort.yaml, save_dir=runs/classify/train149\n",
      "\u001b[34m\u001b[1mtrain:\u001b[0m /home/jupyter/classifications/satellite_abandonedness/train... found 1284 images in 3 classes: ERROR ❌️ requires 2 classes, not 3\n",
      "\u001b[34m\u001b[1mval:\u001b[0m /home/jupyter/classifications/satellite_abandonedness/val... found 159 images in 2 classes ✅ \n",
      "\u001b[34m\u001b[1mtest:\u001b[0m /home/jupyter/classifications/satellite_abandonedness/test... found 141 images in 2 classes ✅ \n",
      "\n",
      "                   from  n    params  module                                       arguments                     \n",
      "  0                  -1  1      1392  ultralytics.nn.modules.conv.Conv             [3, 48, 3, 2]                 \n",
      "  1                  -1  1     41664  ultralytics.nn.modules.conv.Conv             [48, 96, 3, 2]                \n",
      "  2                  -1  2    111360  ultralytics.nn.modules.block.C2f             [96, 96, 2, True]             \n",
      "  3                  -1  1    166272  ultralytics.nn.modules.conv.Conv             [96, 192, 3, 2]               \n",
      "  4                  -1  4    813312  ultralytics.nn.modules.block.C2f             [192, 192, 4, True]           \n",
      "  5                  -1  1    664320  ultralytics.nn.modules.conv.Conv             [192, 384, 3, 2]              \n",
      "  6                  -1  4   3248640  ultralytics.nn.modules.block.C2f             [384, 384, 4, True]           \n",
      "  7                  -1  1   2655744  ultralytics.nn.modules.conv.Conv             [384, 768, 3, 2]              \n",
      "  8                  -1  2   7084032  ultralytics.nn.modules.block.C2f             [768, 768, 2, True]           \n",
      "  9                  -1  1    988162  ultralytics.nn.modules.head.Classify         [768, 2]                      \n",
      "YOLOv8m-cls summary: 141 layers, 15,774,898 parameters, 15,774,898 gradients, 41.9 GFLOPs\n",
      "Transferred 40/230 items from pretrained weights\n",
      "\u001b[34m\u001b[1mAMP: \u001b[0mrunning Automatic Mixed Precision (AMP) checks...\n",
      "\u001b[34m\u001b[1mAMP: \u001b[0mchecks passed ✅\n"
     ]
    },
    {
     "name": "stderr",
     "output_type": "stream",
     "text": [
      "\u001b[34m\u001b[1mtrain: \u001b[0mScanning /home/jupyter/classifications/satellite_abandonedness/train... 1284 images, 0 corrupt: 100%|██████████| \u001b[0m\n",
      "\u001b[34m\u001b[1mval: \u001b[0mScanning /home/jupyter/classifications/satellite_abandonedness/val... 159 images, 0 corrupt: 100%|██████████| 159/1\u001b[0m\n"
     ]
    },
    {
     "name": "stdout",
     "output_type": "stream",
     "text": [
      "\u001b[34m\u001b[1moptimizer:\u001b[0m 'optimizer=auto' found, ignoring 'lr0=0.01' and 'momentum=0.937' and determining best 'optimizer', 'lr0' and 'momentum' automatically... \n",
      "\u001b[34m\u001b[1moptimizer:\u001b[0m AdamW(lr=0.001667, momentum=0.9) with parameter groups 38 weight(decay=0.0), 39 weight(decay=0.0005), 39 bias(decay=0.0)\n",
      "Image sizes 224 train, 224 val\n",
      "Using 8 dataloader workers\n",
      "Logging results to \u001b[1mruns/classify/train149\u001b[0m\n",
      "Starting training for 100 epochs...\n",
      "\n",
      "      Epoch    GPU_mem       loss  Instances       Size\n"
     ]
    },
    {
     "name": "stderr",
     "output_type": "stream",
     "text": [
      "      1/100      2.28G     0.6878          4        224: 100%|██████████| 81/81 [00:02<00:00, 27.82it/s]\n",
      "               classes   top1_acc   top5_acc: 100%|██████████| 5/5 [00:00<00:00, 98.39it/s]"
     ]
    },
    {
     "name": "stdout",
     "output_type": "stream",
     "text": [
      "                   all      0.591          1\n"
     ]
    },
    {
     "name": "stderr",
     "output_type": "stream",
     "text": [
      "\n"
     ]
    },
    {
     "name": "stdout",
     "output_type": "stream",
     "text": [
      "\n",
      "      Epoch    GPU_mem       loss  Instances       Size\n"
     ]
    },
    {
     "name": "stderr",
     "output_type": "stream",
     "text": [
      "      2/100      2.01G     0.6312          4        224: 100%|██████████| 81/81 [00:02<00:00, 31.80it/s]\n",
      "               classes   top1_acc   top5_acc: 100%|██████████| 5/5 [00:00<00:00, 100.25it/s]"
     ]
    },
    {
     "name": "stdout",
     "output_type": "stream",
     "text": [
      "                   all      0.623          1\n"
     ]
    },
    {
     "name": "stderr",
     "output_type": "stream",
     "text": [
      "\n"
     ]
    },
    {
     "name": "stdout",
     "output_type": "stream",
     "text": [
      "\n",
      "      Epoch    GPU_mem       loss  Instances       Size\n"
     ]
    },
    {
     "name": "stderr",
     "output_type": "stream",
     "text": [
      "      3/100      2.04G     0.6292          4        224: 100%|██████████| 81/81 [00:02<00:00, 33.18it/s]\n",
      "               classes   top1_acc   top5_acc: 100%|██████████| 5/5 [00:00<00:00, 98.07it/s]"
     ]
    },
    {
     "name": "stdout",
     "output_type": "stream",
     "text": [
      "                   all      0.667          1\n"
     ]
    },
    {
     "name": "stderr",
     "output_type": "stream",
     "text": [
      "\n"
     ]
    },
    {
     "name": "stdout",
     "output_type": "stream",
     "text": [
      "\n",
      "      Epoch    GPU_mem       loss  Instances       Size\n"
     ]
    },
    {
     "name": "stderr",
     "output_type": "stream",
     "text": [
      "      4/100      2.01G     0.6072          4        224: 100%|██████████| 81/81 [00:02<00:00, 33.40it/s]\n",
      "               classes   top1_acc   top5_acc: 100%|██████████| 5/5 [00:00<00:00, 93.03it/s]\n"
     ]
    },
    {
     "name": "stdout",
     "output_type": "stream",
     "text": [
      "                   all      0.541          1\n",
      "\n",
      "      Epoch    GPU_mem       loss  Instances       Size\n"
     ]
    },
    {
     "name": "stderr",
     "output_type": "stream",
     "text": [
      "      5/100      2.03G     0.6168          4        224: 100%|██████████| 81/81 [00:02<00:00, 34.42it/s]\n",
      "               classes   top1_acc   top5_acc: 100%|██████████| 5/5 [00:00<00:00, 92.75it/s]"
     ]
    },
    {
     "name": "stdout",
     "output_type": "stream",
     "text": [
      "                   all      0.635          1\n"
     ]
    },
    {
     "name": "stderr",
     "output_type": "stream",
     "text": [
      "\n"
     ]
    },
    {
     "name": "stdout",
     "output_type": "stream",
     "text": [
      "\n",
      "      Epoch    GPU_mem       loss  Instances       Size\n"
     ]
    },
    {
     "name": "stderr",
     "output_type": "stream",
     "text": [
      "      6/100      2.03G     0.5819          4        224: 100%|██████████| 81/81 [00:02<00:00, 33.48it/s]\n",
      "               classes   top1_acc   top5_acc: 100%|██████████| 5/5 [00:00<00:00, 94.91it/s]"
     ]
    },
    {
     "name": "stdout",
     "output_type": "stream",
     "text": [
      "                   all      0.642          1\n"
     ]
    },
    {
     "name": "stderr",
     "output_type": "stream",
     "text": [
      "\n"
     ]
    },
    {
     "name": "stdout",
     "output_type": "stream",
     "text": [
      "\n",
      "      Epoch    GPU_mem       loss  Instances       Size\n"
     ]
    },
    {
     "name": "stderr",
     "output_type": "stream",
     "text": [
      "      7/100      2.01G     0.5641          4        224: 100%|██████████| 81/81 [00:02<00:00, 33.34it/s]\n",
      "               classes   top1_acc   top5_acc: 100%|██████████| 5/5 [00:00<00:00, 95.22it/s]"
     ]
    },
    {
     "name": "stdout",
     "output_type": "stream",
     "text": [
      "                   all      0.629          1\n"
     ]
    },
    {
     "name": "stderr",
     "output_type": "stream",
     "text": [
      "\n"
     ]
    },
    {
     "name": "stdout",
     "output_type": "stream",
     "text": [
      "\n",
      "      Epoch    GPU_mem       loss  Instances       Size\n"
     ]
    },
    {
     "name": "stderr",
     "output_type": "stream",
     "text": [
      "      8/100      2.01G     0.5897          4        224: 100%|██████████| 81/81 [00:02<00:00, 33.35it/s]\n",
      "               classes   top1_acc   top5_acc: 100%|██████████| 5/5 [00:00<00:00, 89.74it/s]"
     ]
    },
    {
     "name": "stdout",
     "output_type": "stream",
     "text": [
      "                   all      0.648          1\n"
     ]
    },
    {
     "name": "stderr",
     "output_type": "stream",
     "text": [
      "\n"
     ]
    },
    {
     "name": "stdout",
     "output_type": "stream",
     "text": [
      "\n",
      "      Epoch    GPU_mem       loss  Instances       Size\n"
     ]
    },
    {
     "name": "stderr",
     "output_type": "stream",
     "text": [
      "      9/100      2.01G     0.5436          4        224: 100%|██████████| 81/81 [00:02<00:00, 32.90it/s]\n",
      "               classes   top1_acc   top5_acc: 100%|██████████| 5/5 [00:00<00:00, 92.96it/s]"
     ]
    },
    {
     "name": "stdout",
     "output_type": "stream",
     "text": [
      "                   all      0.667          1\n"
     ]
    },
    {
     "name": "stderr",
     "output_type": "stream",
     "text": [
      "\n"
     ]
    },
    {
     "name": "stdout",
     "output_type": "stream",
     "text": [
      "\n",
      "      Epoch    GPU_mem       loss  Instances       Size\n"
     ]
    },
    {
     "name": "stderr",
     "output_type": "stream",
     "text": [
      "     10/100      2.03G     0.5311          4        224: 100%|██████████| 81/81 [00:02<00:00, 32.79it/s]\n",
      "               classes   top1_acc   top5_acc: 100%|██████████| 5/5 [00:00<00:00, 96.32it/s]"
     ]
    },
    {
     "name": "stdout",
     "output_type": "stream",
     "text": [
      "                   all       0.73          1\n"
     ]
    },
    {
     "name": "stderr",
     "output_type": "stream",
     "text": [
      "\n"
     ]
    },
    {
     "name": "stdout",
     "output_type": "stream",
     "text": [
      "\n",
      "      Epoch    GPU_mem       loss  Instances       Size\n"
     ]
    },
    {
     "name": "stderr",
     "output_type": "stream",
     "text": [
      "     11/100      2.01G     0.5278          4        224: 100%|██████████| 81/81 [00:02<00:00, 33.90it/s]\n",
      "               classes   top1_acc   top5_acc: 100%|██████████| 5/5 [00:00<00:00, 94.17it/s]"
     ]
    },
    {
     "name": "stdout",
     "output_type": "stream",
     "text": [
      "                   all      0.667          1\n"
     ]
    },
    {
     "name": "stderr",
     "output_type": "stream",
     "text": [
      "\n"
     ]
    },
    {
     "name": "stdout",
     "output_type": "stream",
     "text": [
      "\n",
      "      Epoch    GPU_mem       loss  Instances       Size\n"
     ]
    },
    {
     "name": "stderr",
     "output_type": "stream",
     "text": [
      "     12/100      2.01G     0.5199          4        224: 100%|██████████| 81/81 [00:02<00:00, 32.77it/s]\n",
      "               classes   top1_acc   top5_acc: 100%|██████████| 5/5 [00:00<00:00, 97.97it/s]"
     ]
    },
    {
     "name": "stdout",
     "output_type": "stream",
     "text": [
      "                   all       0.56          1\n"
     ]
    },
    {
     "name": "stderr",
     "output_type": "stream",
     "text": [
      "\n"
     ]
    },
    {
     "name": "stdout",
     "output_type": "stream",
     "text": [
      "\n",
      "      Epoch    GPU_mem       loss  Instances       Size\n"
     ]
    },
    {
     "name": "stderr",
     "output_type": "stream",
     "text": [
      "     13/100      2.01G      0.463          4        224: 100%|██████████| 81/81 [00:02<00:00, 32.49it/s]\n",
      "               classes   top1_acc   top5_acc: 100%|██████████| 5/5 [00:00<00:00, 99.62it/s]"
     ]
    },
    {
     "name": "stdout",
     "output_type": "stream",
     "text": [
      "                   all      0.704          1\n"
     ]
    },
    {
     "name": "stderr",
     "output_type": "stream",
     "text": [
      "\n"
     ]
    },
    {
     "name": "stdout",
     "output_type": "stream",
     "text": [
      "\n",
      "      Epoch    GPU_mem       loss  Instances       Size\n"
     ]
    },
    {
     "name": "stderr",
     "output_type": "stream",
     "text": [
      "     14/100      2.03G     0.4579          4        224: 100%|██████████| 81/81 [00:02<00:00, 32.48it/s]\n",
      "               classes   top1_acc   top5_acc: 100%|██████████| 5/5 [00:00<00:00, 98.43it/s]"
     ]
    },
    {
     "name": "stdout",
     "output_type": "stream",
     "text": [
      "                   all      0.736          1\n"
     ]
    },
    {
     "name": "stderr",
     "output_type": "stream",
     "text": [
      "\n"
     ]
    },
    {
     "name": "stdout",
     "output_type": "stream",
     "text": [
      "\n",
      "      Epoch    GPU_mem       loss  Instances       Size\n"
     ]
    },
    {
     "name": "stderr",
     "output_type": "stream",
     "text": [
      "     15/100      2.01G     0.4561          4        224: 100%|██████████| 81/81 [00:02<00:00, 32.77it/s]\n",
      "               classes   top1_acc   top5_acc: 100%|██████████| 5/5 [00:00<00:00, 83.96it/s]"
     ]
    },
    {
     "name": "stdout",
     "output_type": "stream",
     "text": [
      "                   all      0.717          1\n"
     ]
    },
    {
     "name": "stderr",
     "output_type": "stream",
     "text": [
      "\n"
     ]
    },
    {
     "name": "stdout",
     "output_type": "stream",
     "text": [
      "\n",
      "      Epoch    GPU_mem       loss  Instances       Size\n"
     ]
    },
    {
     "name": "stderr",
     "output_type": "stream",
     "text": [
      "     16/100      2.01G     0.4138          4        224: 100%|██████████| 81/81 [00:02<00:00, 33.79it/s]\n",
      "               classes   top1_acc   top5_acc: 100%|██████████| 5/5 [00:00<00:00, 95.36it/s]"
     ]
    },
    {
     "name": "stdout",
     "output_type": "stream",
     "text": [
      "                   all      0.704          1\n"
     ]
    },
    {
     "name": "stderr",
     "output_type": "stream",
     "text": [
      "\n"
     ]
    },
    {
     "name": "stdout",
     "output_type": "stream",
     "text": [
      "\n",
      "      Epoch    GPU_mem       loss  Instances       Size\n"
     ]
    },
    {
     "name": "stderr",
     "output_type": "stream",
     "text": [
      "     17/100      2.01G     0.4488          4        224: 100%|██████████| 81/81 [00:02<00:00, 33.30it/s]\n",
      "               classes   top1_acc   top5_acc: 100%|██████████| 5/5 [00:00<00:00, 94.04it/s]"
     ]
    },
    {
     "name": "stdout",
     "output_type": "stream",
     "text": [
      "                   all      0.673          1\n"
     ]
    },
    {
     "name": "stderr",
     "output_type": "stream",
     "text": [
      "\n"
     ]
    },
    {
     "name": "stdout",
     "output_type": "stream",
     "text": [
      "\n",
      "      Epoch    GPU_mem       loss  Instances       Size\n"
     ]
    },
    {
     "name": "stderr",
     "output_type": "stream",
     "text": [
      "     18/100      2.03G      0.431          4        224: 100%|██████████| 81/81 [00:02<00:00, 33.52it/s]\n",
      "               classes   top1_acc   top5_acc: 100%|██████████| 5/5 [00:00<00:00, 87.68it/s]"
     ]
    },
    {
     "name": "stdout",
     "output_type": "stream",
     "text": [
      "                   all      0.679          1\n"
     ]
    },
    {
     "name": "stderr",
     "output_type": "stream",
     "text": [
      "\n"
     ]
    },
    {
     "name": "stdout",
     "output_type": "stream",
     "text": [
      "\n",
      "      Epoch    GPU_mem       loss  Instances       Size\n"
     ]
    },
    {
     "name": "stderr",
     "output_type": "stream",
     "text": [
      "     19/100      2.01G     0.3887          4        224: 100%|██████████| 81/81 [00:02<00:00, 32.89it/s]\n",
      "               classes   top1_acc   top5_acc: 100%|██████████| 5/5 [00:00<00:00, 94.00it/s]"
     ]
    },
    {
     "name": "stdout",
     "output_type": "stream",
     "text": [
      "                   all      0.717          1\n"
     ]
    },
    {
     "name": "stderr",
     "output_type": "stream",
     "text": [
      "\n"
     ]
    },
    {
     "name": "stdout",
     "output_type": "stream",
     "text": [
      "\n",
      "      Epoch    GPU_mem       loss  Instances       Size\n"
     ]
    },
    {
     "name": "stderr",
     "output_type": "stream",
     "text": [
      "     20/100      2.01G     0.3976          4        224: 100%|██████████| 81/81 [00:02<00:00, 34.22it/s]\n",
      "               classes   top1_acc   top5_acc: 100%|██████████| 5/5 [00:00<00:00, 99.62it/s]"
     ]
    },
    {
     "name": "stdout",
     "output_type": "stream",
     "text": [
      "                   all      0.736          1\n"
     ]
    },
    {
     "name": "stderr",
     "output_type": "stream",
     "text": [
      "\n"
     ]
    },
    {
     "name": "stdout",
     "output_type": "stream",
     "text": [
      "\n",
      "      Epoch    GPU_mem       loss  Instances       Size\n"
     ]
    },
    {
     "name": "stderr",
     "output_type": "stream",
     "text": [
      "     21/100      2.01G     0.3929          4        224: 100%|██████████| 81/81 [00:02<00:00, 34.16it/s]\n",
      "               classes   top1_acc   top5_acc: 100%|██████████| 5/5 [00:00<00:00, 89.54it/s]"
     ]
    },
    {
     "name": "stdout",
     "output_type": "stream",
     "text": [
      "                   all      0.748          1\n"
     ]
    },
    {
     "name": "stderr",
     "output_type": "stream",
     "text": [
      "\n"
     ]
    },
    {
     "name": "stdout",
     "output_type": "stream",
     "text": [
      "\n",
      "      Epoch    GPU_mem       loss  Instances       Size\n"
     ]
    },
    {
     "name": "stderr",
     "output_type": "stream",
     "text": [
      "     22/100      2.03G     0.3549          4        224: 100%|██████████| 81/81 [00:02<00:00, 33.58it/s]\n",
      "               classes   top1_acc   top5_acc: 100%|██████████| 5/5 [00:00<00:00, 100.91it/s]"
     ]
    },
    {
     "name": "stdout",
     "output_type": "stream",
     "text": [
      "                   all       0.78          1\n"
     ]
    },
    {
     "name": "stderr",
     "output_type": "stream",
     "text": [
      "\n"
     ]
    },
    {
     "name": "stdout",
     "output_type": "stream",
     "text": [
      "\n",
      "      Epoch    GPU_mem       loss  Instances       Size\n"
     ]
    },
    {
     "name": "stderr",
     "output_type": "stream",
     "text": [
      "     23/100      2.01G     0.3476          4        224: 100%|██████████| 81/81 [00:02<00:00, 32.98it/s]\n",
      "               classes   top1_acc   top5_acc: 100%|██████████| 5/5 [00:00<00:00, 95.45it/s]"
     ]
    },
    {
     "name": "stdout",
     "output_type": "stream",
     "text": [
      "                   all      0.755          1\n"
     ]
    },
    {
     "name": "stderr",
     "output_type": "stream",
     "text": [
      "\n"
     ]
    },
    {
     "name": "stdout",
     "output_type": "stream",
     "text": [
      "\n",
      "      Epoch    GPU_mem       loss  Instances       Size\n"
     ]
    },
    {
     "name": "stderr",
     "output_type": "stream",
     "text": [
      "     24/100      2.01G     0.3448          4        224: 100%|██████████| 81/81 [00:02<00:00, 32.71it/s]\n",
      "               classes   top1_acc   top5_acc: 100%|██████████| 5/5 [00:00<00:00, 92.63it/s]"
     ]
    },
    {
     "name": "stdout",
     "output_type": "stream",
     "text": [
      "                   all      0.742          1\n"
     ]
    },
    {
     "name": "stderr",
     "output_type": "stream",
     "text": [
      "\n"
     ]
    },
    {
     "name": "stdout",
     "output_type": "stream",
     "text": [
      "\n",
      "      Epoch    GPU_mem       loss  Instances       Size\n"
     ]
    },
    {
     "name": "stderr",
     "output_type": "stream",
     "text": [
      "     25/100      2.01G     0.3065          4        224: 100%|██████████| 81/81 [00:02<00:00, 33.87it/s]\n",
      "               classes   top1_acc   top5_acc: 100%|██████████| 5/5 [00:00<00:00, 83.18it/s]"
     ]
    },
    {
     "name": "stdout",
     "output_type": "stream",
     "text": [
      "                   all      0.742          1\n"
     ]
    },
    {
     "name": "stderr",
     "output_type": "stream",
     "text": [
      "\n"
     ]
    },
    {
     "name": "stdout",
     "output_type": "stream",
     "text": [
      "\n",
      "      Epoch    GPU_mem       loss  Instances       Size\n"
     ]
    },
    {
     "name": "stderr",
     "output_type": "stream",
     "text": [
      "     26/100      2.03G     0.3383          4        224: 100%|██████████| 81/81 [00:02<00:00, 32.51it/s]\n",
      "               classes   top1_acc   top5_acc: 100%|██████████| 5/5 [00:00<00:00, 90.77it/s]"
     ]
    },
    {
     "name": "stdout",
     "output_type": "stream",
     "text": [
      "                   all      0.767          1\n"
     ]
    },
    {
     "name": "stderr",
     "output_type": "stream",
     "text": [
      "\n"
     ]
    },
    {
     "name": "stdout",
     "output_type": "stream",
     "text": [
      "\n",
      "      Epoch    GPU_mem       loss  Instances       Size\n"
     ]
    },
    {
     "name": "stderr",
     "output_type": "stream",
     "text": [
      "     27/100      2.01G     0.2881          4        224: 100%|██████████| 81/81 [00:02<00:00, 33.49it/s]\n",
      "               classes   top1_acc   top5_acc: 100%|██████████| 5/5 [00:00<00:00, 96.57it/s]"
     ]
    },
    {
     "name": "stdout",
     "output_type": "stream",
     "text": [
      "                   all      0.786          1\n"
     ]
    },
    {
     "name": "stderr",
     "output_type": "stream",
     "text": [
      "\n"
     ]
    },
    {
     "name": "stdout",
     "output_type": "stream",
     "text": [
      "\n",
      "      Epoch    GPU_mem       loss  Instances       Size\n"
     ]
    },
    {
     "name": "stderr",
     "output_type": "stream",
     "text": [
      "     28/100      2.01G      0.284          4        224: 100%|██████████| 81/81 [00:02<00:00, 33.73it/s]\n",
      "               classes   top1_acc   top5_acc: 100%|██████████| 5/5 [00:00<00:00, 93.88it/s]"
     ]
    },
    {
     "name": "stdout",
     "output_type": "stream",
     "text": [
      "                   all      0.717          1\n"
     ]
    },
    {
     "name": "stderr",
     "output_type": "stream",
     "text": [
      "\n"
     ]
    },
    {
     "name": "stdout",
     "output_type": "stream",
     "text": [
      "\n",
      "      Epoch    GPU_mem       loss  Instances       Size\n"
     ]
    },
    {
     "name": "stderr",
     "output_type": "stream",
     "text": [
      "     29/100      2.01G      0.314          4        224: 100%|██████████| 81/81 [00:02<00:00, 33.92it/s]\n",
      "               classes   top1_acc   top5_acc: 100%|██████████| 5/5 [00:00<00:00, 85.96it/s]"
     ]
    },
    {
     "name": "stdout",
     "output_type": "stream",
     "text": [
      "                   all       0.78          1\n"
     ]
    },
    {
     "name": "stderr",
     "output_type": "stream",
     "text": [
      "\n"
     ]
    },
    {
     "name": "stdout",
     "output_type": "stream",
     "text": [
      "\n",
      "      Epoch    GPU_mem       loss  Instances       Size\n"
     ]
    },
    {
     "name": "stderr",
     "output_type": "stream",
     "text": [
      "     30/100      2.03G     0.2873          4        224: 100%|██████████| 81/81 [00:02<00:00, 32.06it/s]\n",
      "               classes   top1_acc   top5_acc: 100%|██████████| 5/5 [00:00<00:00, 99.73it/s]"
     ]
    },
    {
     "name": "stdout",
     "output_type": "stream",
     "text": [
      "                   all      0.761          1\n"
     ]
    },
    {
     "name": "stderr",
     "output_type": "stream",
     "text": [
      "\n"
     ]
    },
    {
     "name": "stdout",
     "output_type": "stream",
     "text": [
      "\n",
      "      Epoch    GPU_mem       loss  Instances       Size\n"
     ]
    },
    {
     "name": "stderr",
     "output_type": "stream",
     "text": [
      "     31/100      2.01G     0.2867          4        224: 100%|██████████| 81/81 [00:02<00:00, 31.90it/s]\n",
      "               classes   top1_acc   top5_acc: 100%|██████████| 5/5 [00:00<00:00, 96.30it/s]"
     ]
    },
    {
     "name": "stdout",
     "output_type": "stream",
     "text": [
      "                   all      0.792          1\n"
     ]
    },
    {
     "name": "stderr",
     "output_type": "stream",
     "text": [
      "\n"
     ]
    },
    {
     "name": "stdout",
     "output_type": "stream",
     "text": [
      "\n",
      "      Epoch    GPU_mem       loss  Instances       Size\n"
     ]
    },
    {
     "name": "stderr",
     "output_type": "stream",
     "text": [
      "     32/100      2.01G     0.2703          4        224: 100%|██████████| 81/81 [00:02<00:00, 32.63it/s]\n",
      "               classes   top1_acc   top5_acc: 100%|██████████| 5/5 [00:00<00:00, 94.71it/s]"
     ]
    },
    {
     "name": "stdout",
     "output_type": "stream",
     "text": [
      "                   all      0.811          1\n"
     ]
    },
    {
     "name": "stderr",
     "output_type": "stream",
     "text": [
      "\n"
     ]
    },
    {
     "name": "stdout",
     "output_type": "stream",
     "text": [
      "\n",
      "      Epoch    GPU_mem       loss  Instances       Size\n"
     ]
    },
    {
     "name": "stderr",
     "output_type": "stream",
     "text": [
      "     33/100      2.01G      0.269          4        224: 100%|██████████| 81/81 [00:02<00:00, 32.59it/s]\n",
      "               classes   top1_acc   top5_acc: 100%|██████████| 5/5 [00:00<00:00, 95.17it/s]"
     ]
    },
    {
     "name": "stdout",
     "output_type": "stream",
     "text": [
      "                   all      0.792          1\n"
     ]
    },
    {
     "name": "stderr",
     "output_type": "stream",
     "text": [
      "\n"
     ]
    },
    {
     "name": "stdout",
     "output_type": "stream",
     "text": [
      "\n",
      "      Epoch    GPU_mem       loss  Instances       Size\n"
     ]
    },
    {
     "name": "stderr",
     "output_type": "stream",
     "text": [
      "     34/100      2.03G     0.2515          4        224: 100%|██████████| 81/81 [00:02<00:00, 33.89it/s]\n",
      "               classes   top1_acc   top5_acc: 100%|██████████| 5/5 [00:00<00:00, 89.89it/s]"
     ]
    },
    {
     "name": "stdout",
     "output_type": "stream",
     "text": [
      "                   all      0.818          1\n"
     ]
    },
    {
     "name": "stderr",
     "output_type": "stream",
     "text": [
      "\n"
     ]
    },
    {
     "name": "stdout",
     "output_type": "stream",
     "text": [
      "\n",
      "      Epoch    GPU_mem       loss  Instances       Size\n"
     ]
    },
    {
     "name": "stderr",
     "output_type": "stream",
     "text": [
      "     35/100      2.01G     0.2207          4        224: 100%|██████████| 81/81 [00:02<00:00, 32.67it/s]\n",
      "               classes   top1_acc   top5_acc: 100%|██████████| 5/5 [00:00<00:00, 94.41it/s]"
     ]
    },
    {
     "name": "stdout",
     "output_type": "stream",
     "text": [
      "                   all      0.711          1\n"
     ]
    },
    {
     "name": "stderr",
     "output_type": "stream",
     "text": [
      "\n"
     ]
    },
    {
     "name": "stdout",
     "output_type": "stream",
     "text": [
      "\n",
      "      Epoch    GPU_mem       loss  Instances       Size\n"
     ]
    },
    {
     "name": "stderr",
     "output_type": "stream",
     "text": [
      "     36/100      2.01G     0.2251          4        224: 100%|██████████| 81/81 [00:02<00:00, 32.62it/s]\n",
      "               classes   top1_acc   top5_acc: 100%|██████████| 5/5 [00:00<00:00, 93.04it/s]"
     ]
    },
    {
     "name": "stdout",
     "output_type": "stream",
     "text": [
      "                   all       0.78          1\n"
     ]
    },
    {
     "name": "stderr",
     "output_type": "stream",
     "text": [
      "\n"
     ]
    },
    {
     "name": "stdout",
     "output_type": "stream",
     "text": [
      "\n",
      "      Epoch    GPU_mem       loss  Instances       Size\n"
     ]
    },
    {
     "name": "stderr",
     "output_type": "stream",
     "text": [
      "     37/100      2.01G     0.2222          4        224: 100%|██████████| 81/81 [00:02<00:00, 32.86it/s]\n",
      "               classes   top1_acc   top5_acc: 100%|██████████| 5/5 [00:00<00:00, 91.41it/s]"
     ]
    },
    {
     "name": "stdout",
     "output_type": "stream",
     "text": [
      "                   all      0.767          1\n"
     ]
    },
    {
     "name": "stderr",
     "output_type": "stream",
     "text": [
      "\n"
     ]
    },
    {
     "name": "stdout",
     "output_type": "stream",
     "text": [
      "\n",
      "      Epoch    GPU_mem       loss  Instances       Size\n"
     ]
    },
    {
     "name": "stderr",
     "output_type": "stream",
     "text": [
      "     38/100      2.03G     0.2206          4        224: 100%|██████████| 81/81 [00:02<00:00, 32.77it/s]\n",
      "               classes   top1_acc   top5_acc: 100%|██████████| 5/5 [00:00<00:00, 92.04it/s]"
     ]
    },
    {
     "name": "stdout",
     "output_type": "stream",
     "text": [
      "                   all      0.792          1\n"
     ]
    },
    {
     "name": "stderr",
     "output_type": "stream",
     "text": [
      "\n"
     ]
    },
    {
     "name": "stdout",
     "output_type": "stream",
     "text": [
      "\n",
      "      Epoch    GPU_mem       loss  Instances       Size\n"
     ]
    },
    {
     "name": "stderr",
     "output_type": "stream",
     "text": [
      "     39/100      2.01G     0.1973          4        224: 100%|██████████| 81/81 [00:02<00:00, 32.64it/s]\n",
      "               classes   top1_acc   top5_acc: 100%|██████████| 5/5 [00:00<00:00, 95.79it/s]"
     ]
    },
    {
     "name": "stdout",
     "output_type": "stream",
     "text": [
      "                   all      0.799          1\n"
     ]
    },
    {
     "name": "stderr",
     "output_type": "stream",
     "text": [
      "\n"
     ]
    },
    {
     "name": "stdout",
     "output_type": "stream",
     "text": [
      "\n",
      "      Epoch    GPU_mem       loss  Instances       Size\n"
     ]
    },
    {
     "name": "stderr",
     "output_type": "stream",
     "text": [
      "     40/100      2.01G     0.2246          4        224: 100%|██████████| 81/81 [00:02<00:00, 32.23it/s]\n",
      "               classes   top1_acc   top5_acc: 100%|██████████| 5/5 [00:00<00:00, 95.43it/s]"
     ]
    },
    {
     "name": "stdout",
     "output_type": "stream",
     "text": [
      "                   all      0.774          1\n"
     ]
    },
    {
     "name": "stderr",
     "output_type": "stream",
     "text": [
      "\n"
     ]
    },
    {
     "name": "stdout",
     "output_type": "stream",
     "text": [
      "\n",
      "      Epoch    GPU_mem       loss  Instances       Size\n"
     ]
    },
    {
     "name": "stderr",
     "output_type": "stream",
     "text": [
      "     41/100      2.01G     0.2135          4        224: 100%|██████████| 81/81 [00:02<00:00, 32.41it/s]\n",
      "               classes   top1_acc   top5_acc: 100%|██████████| 5/5 [00:00<00:00, 80.77it/s]"
     ]
    },
    {
     "name": "stdout",
     "output_type": "stream",
     "text": [
      "                   all      0.811          1\n"
     ]
    },
    {
     "name": "stderr",
     "output_type": "stream",
     "text": [
      "\n"
     ]
    },
    {
     "name": "stdout",
     "output_type": "stream",
     "text": [
      "\n",
      "      Epoch    GPU_mem       loss  Instances       Size\n"
     ]
    },
    {
     "name": "stderr",
     "output_type": "stream",
     "text": [
      "     42/100      2.03G     0.1705          4        224: 100%|██████████| 81/81 [00:02<00:00, 32.54it/s]\n",
      "               classes   top1_acc   top5_acc: 100%|██████████| 5/5 [00:00<00:00, 96.31it/s]"
     ]
    },
    {
     "name": "stdout",
     "output_type": "stream",
     "text": [
      "                   all      0.811          1\n"
     ]
    },
    {
     "name": "stderr",
     "output_type": "stream",
     "text": [
      "\n"
     ]
    },
    {
     "name": "stdout",
     "output_type": "stream",
     "text": [
      "\n",
      "      Epoch    GPU_mem       loss  Instances       Size\n"
     ]
    },
    {
     "name": "stderr",
     "output_type": "stream",
     "text": [
      "     43/100      2.01G     0.1938          4        224: 100%|██████████| 81/81 [00:02<00:00, 34.31it/s]\n",
      "               classes   top1_acc   top5_acc: 100%|██████████| 5/5 [00:00<00:00, 98.49it/s]"
     ]
    },
    {
     "name": "stdout",
     "output_type": "stream",
     "text": [
      "                   all      0.818          1\n"
     ]
    },
    {
     "name": "stderr",
     "output_type": "stream",
     "text": [
      "\n"
     ]
    },
    {
     "name": "stdout",
     "output_type": "stream",
     "text": [
      "\n",
      "      Epoch    GPU_mem       loss  Instances       Size\n"
     ]
    },
    {
     "name": "stderr",
     "output_type": "stream",
     "text": [
      "     44/100      2.01G     0.1901          4        224: 100%|██████████| 81/81 [00:02<00:00, 34.10it/s]\n",
      "               classes   top1_acc   top5_acc: 100%|██████████| 5/5 [00:00<00:00, 98.56it/s]"
     ]
    },
    {
     "name": "stdout",
     "output_type": "stream",
     "text": [
      "                   all      0.818          1\n"
     ]
    },
    {
     "name": "stderr",
     "output_type": "stream",
     "text": [
      "\n"
     ]
    },
    {
     "name": "stdout",
     "output_type": "stream",
     "text": [
      "\n",
      "      Epoch    GPU_mem       loss  Instances       Size\n"
     ]
    },
    {
     "name": "stderr",
     "output_type": "stream",
     "text": [
      "     45/100      2.01G     0.1791          4        224: 100%|██████████| 81/81 [00:02<00:00, 32.95it/s]\n",
      "               classes   top1_acc   top5_acc: 100%|██████████| 5/5 [00:00<00:00, 87.53it/s]"
     ]
    },
    {
     "name": "stdout",
     "output_type": "stream",
     "text": [
      "                   all      0.843          1\n"
     ]
    },
    {
     "name": "stderr",
     "output_type": "stream",
     "text": [
      "\n"
     ]
    },
    {
     "name": "stdout",
     "output_type": "stream",
     "text": [
      "\n",
      "      Epoch    GPU_mem       loss  Instances       Size\n"
     ]
    },
    {
     "name": "stderr",
     "output_type": "stream",
     "text": [
      "     46/100      2.03G     0.1748          4        224: 100%|██████████| 81/81 [00:02<00:00, 32.83it/s]\n",
      "               classes   top1_acc   top5_acc: 100%|██████████| 5/5 [00:00<00:00, 93.53it/s]"
     ]
    },
    {
     "name": "stdout",
     "output_type": "stream",
     "text": [
      "                   all      0.818          1\n"
     ]
    },
    {
     "name": "stderr",
     "output_type": "stream",
     "text": [
      "\n"
     ]
    },
    {
     "name": "stdout",
     "output_type": "stream",
     "text": [
      "\n",
      "      Epoch    GPU_mem       loss  Instances       Size\n"
     ]
    },
    {
     "name": "stderr",
     "output_type": "stream",
     "text": [
      "     47/100      2.01G     0.1954          4        224: 100%|██████████| 81/81 [00:02<00:00, 31.56it/s]\n",
      "               classes   top1_acc   top5_acc: 100%|██████████| 5/5 [00:00<00:00, 85.31it/s]"
     ]
    },
    {
     "name": "stdout",
     "output_type": "stream",
     "text": [
      "                   all      0.792          1\n"
     ]
    },
    {
     "name": "stderr",
     "output_type": "stream",
     "text": [
      "\n"
     ]
    },
    {
     "name": "stdout",
     "output_type": "stream",
     "text": [
      "\n",
      "      Epoch    GPU_mem       loss  Instances       Size\n"
     ]
    },
    {
     "name": "stderr",
     "output_type": "stream",
     "text": [
      "     48/100      2.01G     0.1661          4        224: 100%|██████████| 81/81 [00:02<00:00, 32.94it/s]\n",
      "               classes   top1_acc   top5_acc: 100%|██████████| 5/5 [00:00<00:00, 95.45it/s]"
     ]
    },
    {
     "name": "stdout",
     "output_type": "stream",
     "text": [
      "                   all      0.792          1\n"
     ]
    },
    {
     "name": "stderr",
     "output_type": "stream",
     "text": [
      "\n"
     ]
    },
    {
     "name": "stdout",
     "output_type": "stream",
     "text": [
      "\n",
      "      Epoch    GPU_mem       loss  Instances       Size\n"
     ]
    },
    {
     "name": "stderr",
     "output_type": "stream",
     "text": [
      "     49/100      2.01G     0.1502          4        224: 100%|██████████| 81/81 [00:02<00:00, 33.43it/s]\n",
      "               classes   top1_acc   top5_acc: 100%|██████████| 5/5 [00:00<00:00, 92.49it/s]"
     ]
    },
    {
     "name": "stdout",
     "output_type": "stream",
     "text": [
      "                   all      0.799          1\n"
     ]
    },
    {
     "name": "stderr",
     "output_type": "stream",
     "text": [
      "\n"
     ]
    },
    {
     "name": "stdout",
     "output_type": "stream",
     "text": [
      "\n",
      "      Epoch    GPU_mem       loss  Instances       Size\n"
     ]
    },
    {
     "name": "stderr",
     "output_type": "stream",
     "text": [
      "     50/100      2.03G     0.1349          4        224: 100%|██████████| 81/81 [00:02<00:00, 32.87it/s]\n",
      "               classes   top1_acc   top5_acc: 100%|██████████| 5/5 [00:00<00:00, 87.30it/s]"
     ]
    },
    {
     "name": "stdout",
     "output_type": "stream",
     "text": [
      "                   all      0.805          1\n"
     ]
    },
    {
     "name": "stderr",
     "output_type": "stream",
     "text": [
      "\n"
     ]
    },
    {
     "name": "stdout",
     "output_type": "stream",
     "text": [
      "\n",
      "      Epoch    GPU_mem       loss  Instances       Size\n"
     ]
    },
    {
     "name": "stderr",
     "output_type": "stream",
     "text": [
      "     51/100      2.01G     0.1585          4        224: 100%|██████████| 81/81 [00:02<00:00, 32.74it/s]\n",
      "               classes   top1_acc   top5_acc: 100%|██████████| 5/5 [00:00<00:00, 100.36it/s]"
     ]
    },
    {
     "name": "stdout",
     "output_type": "stream",
     "text": [
      "                   all       0.83          1\n"
     ]
    },
    {
     "name": "stderr",
     "output_type": "stream",
     "text": [
      "\n"
     ]
    },
    {
     "name": "stdout",
     "output_type": "stream",
     "text": [
      "\n",
      "      Epoch    GPU_mem       loss  Instances       Size\n"
     ]
    },
    {
     "name": "stderr",
     "output_type": "stream",
     "text": [
      "     52/100      2.01G     0.1759          4        224: 100%|██████████| 81/81 [00:02<00:00, 34.37it/s]\n",
      "               classes   top1_acc   top5_acc: 100%|██████████| 5/5 [00:00<00:00, 100.20it/s]"
     ]
    },
    {
     "name": "stdout",
     "output_type": "stream",
     "text": [
      "                   all      0.799          1\n"
     ]
    },
    {
     "name": "stderr",
     "output_type": "stream",
     "text": [
      "\n"
     ]
    },
    {
     "name": "stdout",
     "output_type": "stream",
     "text": [
      "\n",
      "      Epoch    GPU_mem       loss  Instances       Size\n"
     ]
    },
    {
     "name": "stderr",
     "output_type": "stream",
     "text": [
      "     53/100      2.01G     0.1297          4        224: 100%|██████████| 81/81 [00:02<00:00, 34.01it/s]\n",
      "               classes   top1_acc   top5_acc: 100%|██████████| 5/5 [00:00<00:00, 99.27it/s]\n"
     ]
    },
    {
     "name": "stdout",
     "output_type": "stream",
     "text": [
      "                   all      0.761          1\n",
      "\n",
      "      Epoch    GPU_mem       loss  Instances       Size\n"
     ]
    },
    {
     "name": "stderr",
     "output_type": "stream",
     "text": [
      "     54/100      2.03G     0.1749          4        224: 100%|██████████| 81/81 [00:02<00:00, 32.51it/s]\n",
      "               classes   top1_acc   top5_acc: 100%|██████████| 5/5 [00:00<00:00, 94.68it/s]"
     ]
    },
    {
     "name": "stdout",
     "output_type": "stream",
     "text": [
      "                   all      0.843          1\n"
     ]
    },
    {
     "name": "stderr",
     "output_type": "stream",
     "text": [
      "\n"
     ]
    },
    {
     "name": "stdout",
     "output_type": "stream",
     "text": [
      "\n",
      "      Epoch    GPU_mem       loss  Instances       Size\n"
     ]
    },
    {
     "name": "stderr",
     "output_type": "stream",
     "text": [
      "     55/100      2.01G     0.1497          4        224: 100%|██████████| 81/81 [00:02<00:00, 33.47it/s]\n",
      "               classes   top1_acc   top5_acc: 100%|██████████| 5/5 [00:00<00:00, 97.74it/s]"
     ]
    },
    {
     "name": "stdout",
     "output_type": "stream",
     "text": [
      "                   all      0.805          1\n"
     ]
    },
    {
     "name": "stderr",
     "output_type": "stream",
     "text": [
      "\n"
     ]
    },
    {
     "name": "stdout",
     "output_type": "stream",
     "text": [
      "\n",
      "      Epoch    GPU_mem       loss  Instances       Size\n"
     ]
    },
    {
     "name": "stderr",
     "output_type": "stream",
     "text": [
      "     56/100      2.01G      0.153          4        224: 100%|██████████| 81/81 [00:02<00:00, 32.44it/s]\n",
      "               classes   top1_acc   top5_acc: 100%|██████████| 5/5 [00:00<00:00, 92.64it/s]"
     ]
    },
    {
     "name": "stdout",
     "output_type": "stream",
     "text": [
      "                   all      0.811          1\n"
     ]
    },
    {
     "name": "stderr",
     "output_type": "stream",
     "text": [
      "\n"
     ]
    },
    {
     "name": "stdout",
     "output_type": "stream",
     "text": [
      "\n",
      "      Epoch    GPU_mem       loss  Instances       Size\n"
     ]
    },
    {
     "name": "stderr",
     "output_type": "stream",
     "text": [
      "     57/100      2.01G     0.1239          4        224: 100%|██████████| 81/81 [00:02<00:00, 32.51it/s]\n",
      "               classes   top1_acc   top5_acc: 100%|██████████| 5/5 [00:00<00:00, 90.30it/s]"
     ]
    },
    {
     "name": "stdout",
     "output_type": "stream",
     "text": [
      "                   all      0.811          1\n"
     ]
    },
    {
     "name": "stderr",
     "output_type": "stream",
     "text": [
      "\n"
     ]
    },
    {
     "name": "stdout",
     "output_type": "stream",
     "text": [
      "\n",
      "      Epoch    GPU_mem       loss  Instances       Size\n"
     ]
    },
    {
     "name": "stderr",
     "output_type": "stream",
     "text": [
      "     58/100      2.03G      0.138          4        224: 100%|██████████| 81/81 [00:02<00:00, 33.86it/s]\n",
      "               classes   top1_acc   top5_acc: 100%|██████████| 5/5 [00:00<00:00, 97.10it/s]"
     ]
    },
    {
     "name": "stdout",
     "output_type": "stream",
     "text": [
      "                   all       0.83          1\n"
     ]
    },
    {
     "name": "stderr",
     "output_type": "stream",
     "text": [
      "\n"
     ]
    },
    {
     "name": "stdout",
     "output_type": "stream",
     "text": [
      "\n",
      "      Epoch    GPU_mem       loss  Instances       Size\n"
     ]
    },
    {
     "name": "stderr",
     "output_type": "stream",
     "text": [
      "     59/100      2.01G      0.114          4        224: 100%|██████████| 81/81 [00:02<00:00, 32.61it/s]\n",
      "               classes   top1_acc   top5_acc: 100%|██████████| 5/5 [00:00<00:00, 92.75it/s]"
     ]
    },
    {
     "name": "stdout",
     "output_type": "stream",
     "text": [
      "                   all      0.792          1\n"
     ]
    },
    {
     "name": "stderr",
     "output_type": "stream",
     "text": [
      "\n"
     ]
    },
    {
     "name": "stdout",
     "output_type": "stream",
     "text": [
      "\n",
      "      Epoch    GPU_mem       loss  Instances       Size\n"
     ]
    },
    {
     "name": "stderr",
     "output_type": "stream",
     "text": [
      "     60/100      2.01G    0.09444          4        224: 100%|██████████| 81/81 [00:02<00:00, 32.69it/s]\n",
      "               classes   top1_acc   top5_acc: 100%|██████████| 5/5 [00:00<00:00, 83.30it/s]"
     ]
    },
    {
     "name": "stdout",
     "output_type": "stream",
     "text": [
      "                   all      0.761          1\n"
     ]
    },
    {
     "name": "stderr",
     "output_type": "stream",
     "text": [
      "\n"
     ]
    },
    {
     "name": "stdout",
     "output_type": "stream",
     "text": [
      "\n",
      "      Epoch    GPU_mem       loss  Instances       Size\n"
     ]
    },
    {
     "name": "stderr",
     "output_type": "stream",
     "text": [
      "     61/100      2.01G     0.1056          4        224: 100%|██████████| 81/81 [00:02<00:00, 32.90it/s]\n",
      "               classes   top1_acc   top5_acc: 100%|██████████| 5/5 [00:00<00:00, 92.91it/s]"
     ]
    },
    {
     "name": "stdout",
     "output_type": "stream",
     "text": [
      "                   all      0.805          1\n"
     ]
    },
    {
     "name": "stderr",
     "output_type": "stream",
     "text": [
      "\n"
     ]
    },
    {
     "name": "stdout",
     "output_type": "stream",
     "text": [
      "\n",
      "      Epoch    GPU_mem       loss  Instances       Size\n"
     ]
    },
    {
     "name": "stderr",
     "output_type": "stream",
     "text": [
      "     62/100      2.03G     0.1217          4        224: 100%|██████████| 81/81 [00:02<00:00, 31.32it/s]\n",
      "               classes   top1_acc   top5_acc: 100%|██████████| 5/5 [00:00<00:00, 94.66it/s]"
     ]
    },
    {
     "name": "stdout",
     "output_type": "stream",
     "text": [
      "                   all      0.855          1\n"
     ]
    },
    {
     "name": "stderr",
     "output_type": "stream",
     "text": [
      "\n"
     ]
    },
    {
     "name": "stdout",
     "output_type": "stream",
     "text": [
      "\n",
      "      Epoch    GPU_mem       loss  Instances       Size\n"
     ]
    },
    {
     "name": "stderr",
     "output_type": "stream",
     "text": [
      "     63/100      2.01G     0.1516          4        224: 100%|██████████| 81/81 [00:02<00:00, 33.59it/s]\n",
      "               classes   top1_acc   top5_acc: 100%|██████████| 5/5 [00:00<00:00, 94.07it/s]"
     ]
    },
    {
     "name": "stdout",
     "output_type": "stream",
     "text": [
      "                   all      0.818          1\n"
     ]
    },
    {
     "name": "stderr",
     "output_type": "stream",
     "text": [
      "\n"
     ]
    },
    {
     "name": "stdout",
     "output_type": "stream",
     "text": [
      "\n",
      "      Epoch    GPU_mem       loss  Instances       Size\n"
     ]
    },
    {
     "name": "stderr",
     "output_type": "stream",
     "text": [
      "     64/100      2.01G    0.09883          4        224: 100%|██████████| 81/81 [00:02<00:00, 32.67it/s]\n",
      "               classes   top1_acc   top5_acc: 100%|██████████| 5/5 [00:00<00:00, 79.10it/s]"
     ]
    },
    {
     "name": "stdout",
     "output_type": "stream",
     "text": [
      "                   all      0.843          1\n"
     ]
    },
    {
     "name": "stderr",
     "output_type": "stream",
     "text": [
      "\n"
     ]
    },
    {
     "name": "stdout",
     "output_type": "stream",
     "text": [
      "\n",
      "      Epoch    GPU_mem       loss  Instances       Size\n"
     ]
    },
    {
     "name": "stderr",
     "output_type": "stream",
     "text": [
      "     65/100      2.01G      0.113          4        224: 100%|██████████| 81/81 [00:02<00:00, 34.45it/s]\n",
      "               classes   top1_acc   top5_acc: 100%|██████████| 5/5 [00:00<00:00, 96.06it/s]"
     ]
    },
    {
     "name": "stdout",
     "output_type": "stream",
     "text": [
      "                   all      0.805          1\n"
     ]
    },
    {
     "name": "stderr",
     "output_type": "stream",
     "text": [
      "\n"
     ]
    },
    {
     "name": "stdout",
     "output_type": "stream",
     "text": [
      "\n",
      "      Epoch    GPU_mem       loss  Instances       Size\n"
     ]
    },
    {
     "name": "stderr",
     "output_type": "stream",
     "text": [
      "     66/100      2.03G     0.1065          4        224: 100%|██████████| 81/81 [00:02<00:00, 33.97it/s]\n",
      "               classes   top1_acc   top5_acc: 100%|██████████| 5/5 [00:00<00:00, 96.66it/s]"
     ]
    },
    {
     "name": "stdout",
     "output_type": "stream",
     "text": [
      "                   all       0.83          1\n"
     ]
    },
    {
     "name": "stderr",
     "output_type": "stream",
     "text": [
      "\n"
     ]
    },
    {
     "name": "stdout",
     "output_type": "stream",
     "text": [
      "\n",
      "      Epoch    GPU_mem       loss  Instances       Size\n"
     ]
    },
    {
     "name": "stderr",
     "output_type": "stream",
     "text": [
      "     67/100      2.01G    0.09459          4        224: 100%|██████████| 81/81 [00:02<00:00, 33.94it/s]\n",
      "               classes   top1_acc   top5_acc: 100%|██████████| 5/5 [00:00<00:00, 99.57it/s]"
     ]
    },
    {
     "name": "stdout",
     "output_type": "stream",
     "text": [
      "                   all      0.805          1\n"
     ]
    },
    {
     "name": "stderr",
     "output_type": "stream",
     "text": [
      "\n"
     ]
    },
    {
     "name": "stdout",
     "output_type": "stream",
     "text": [
      "\n",
      "      Epoch    GPU_mem       loss  Instances       Size\n"
     ]
    },
    {
     "name": "stderr",
     "output_type": "stream",
     "text": [
      "     68/100      2.01G    0.09895          4        224: 100%|██████████| 81/81 [00:02<00:00, 34.50it/s]\n",
      "               classes   top1_acc   top5_acc: 100%|██████████| 5/5 [00:00<00:00, 99.72it/s]"
     ]
    },
    {
     "name": "stdout",
     "output_type": "stream",
     "text": [
      "                   all      0.805          1\n"
     ]
    },
    {
     "name": "stderr",
     "output_type": "stream",
     "text": [
      "\n"
     ]
    },
    {
     "name": "stdout",
     "output_type": "stream",
     "text": [
      "\n",
      "      Epoch    GPU_mem       loss  Instances       Size\n"
     ]
    },
    {
     "name": "stderr",
     "output_type": "stream",
     "text": [
      "     69/100      2.01G    0.08953          4        224: 100%|██████████| 81/81 [00:02<00:00, 33.67it/s]\n",
      "               classes   top1_acc   top5_acc: 100%|██████████| 5/5 [00:00<00:00, 98.54it/s]"
     ]
    },
    {
     "name": "stdout",
     "output_type": "stream",
     "text": [
      "                   all      0.862          1\n"
     ]
    },
    {
     "name": "stderr",
     "output_type": "stream",
     "text": [
      "\n"
     ]
    },
    {
     "name": "stdout",
     "output_type": "stream",
     "text": [
      "\n",
      "      Epoch    GPU_mem       loss  Instances       Size\n"
     ]
    },
    {
     "name": "stderr",
     "output_type": "stream",
     "text": [
      "     70/100      2.03G    0.08824          4        224: 100%|██████████| 81/81 [00:02<00:00, 32.60it/s]\n",
      "               classes   top1_acc   top5_acc: 100%|██████████| 5/5 [00:00<00:00, 94.17it/s]"
     ]
    },
    {
     "name": "stdout",
     "output_type": "stream",
     "text": [
      "                   all      0.843          1\n"
     ]
    },
    {
     "name": "stderr",
     "output_type": "stream",
     "text": [
      "\n"
     ]
    },
    {
     "name": "stdout",
     "output_type": "stream",
     "text": [
      "\n",
      "      Epoch    GPU_mem       loss  Instances       Size\n"
     ]
    },
    {
     "name": "stderr",
     "output_type": "stream",
     "text": [
      "     71/100      2.01G    0.08079          4        224: 100%|██████████| 81/81 [00:02<00:00, 35.21it/s]\n",
      "               classes   top1_acc   top5_acc: 100%|██████████| 5/5 [00:00<00:00, 84.55it/s]"
     ]
    },
    {
     "name": "stdout",
     "output_type": "stream",
     "text": [
      "                   all      0.862          1\n"
     ]
    },
    {
     "name": "stderr",
     "output_type": "stream",
     "text": [
      "\n"
     ]
    },
    {
     "name": "stdout",
     "output_type": "stream",
     "text": [
      "\n",
      "      Epoch    GPU_mem       loss  Instances       Size\n"
     ]
    },
    {
     "name": "stderr",
     "output_type": "stream",
     "text": [
      "     72/100      2.01G    0.09165          4        224: 100%|██████████| 81/81 [00:02<00:00, 35.12it/s]\n",
      "               classes   top1_acc   top5_acc: 100%|██████████| 5/5 [00:00<00:00, 96.47it/s]"
     ]
    },
    {
     "name": "stdout",
     "output_type": "stream",
     "text": [
      "                   all      0.855          1\n"
     ]
    },
    {
     "name": "stderr",
     "output_type": "stream",
     "text": [
      "\n"
     ]
    },
    {
     "name": "stdout",
     "output_type": "stream",
     "text": [
      "\n",
      "      Epoch    GPU_mem       loss  Instances       Size\n"
     ]
    },
    {
     "name": "stderr",
     "output_type": "stream",
     "text": [
      "     73/100      2.01G     0.0921          4        224: 100%|██████████| 81/81 [00:02<00:00, 35.03it/s]\n",
      "               classes   top1_acc   top5_acc: 100%|██████████| 5/5 [00:00<00:00, 96.22it/s]"
     ]
    },
    {
     "name": "stdout",
     "output_type": "stream",
     "text": [
      "                   all      0.849          1\n"
     ]
    },
    {
     "name": "stderr",
     "output_type": "stream",
     "text": [
      "\n"
     ]
    },
    {
     "name": "stdout",
     "output_type": "stream",
     "text": [
      "\n",
      "      Epoch    GPU_mem       loss  Instances       Size\n"
     ]
    },
    {
     "name": "stderr",
     "output_type": "stream",
     "text": [
      "     74/100      2.03G     0.1049          4        224: 100%|██████████| 81/81 [00:02<00:00, 34.87it/s]\n",
      "               classes   top1_acc   top5_acc: 100%|██████████| 5/5 [00:00<00:00, 96.63it/s]"
     ]
    },
    {
     "name": "stdout",
     "output_type": "stream",
     "text": [
      "                   all      0.843          1\n"
     ]
    },
    {
     "name": "stderr",
     "output_type": "stream",
     "text": [
      "\n"
     ]
    },
    {
     "name": "stdout",
     "output_type": "stream",
     "text": [
      "\n",
      "      Epoch    GPU_mem       loss  Instances       Size\n"
     ]
    },
    {
     "name": "stderr",
     "output_type": "stream",
     "text": [
      "     75/100      2.01G    0.09741          4        224: 100%|██████████| 81/81 [00:02<00:00, 35.16it/s]\n",
      "               classes   top1_acc   top5_acc: 100%|██████████| 5/5 [00:00<00:00, 93.48it/s]"
     ]
    },
    {
     "name": "stdout",
     "output_type": "stream",
     "text": [
      "                   all      0.855          1\n"
     ]
    },
    {
     "name": "stderr",
     "output_type": "stream",
     "text": [
      "\n"
     ]
    },
    {
     "name": "stdout",
     "output_type": "stream",
     "text": [
      "\n",
      "      Epoch    GPU_mem       loss  Instances       Size\n"
     ]
    },
    {
     "name": "stderr",
     "output_type": "stream",
     "text": [
      "     76/100      2.01G    0.09682          4        224: 100%|██████████| 81/81 [00:02<00:00, 34.37it/s]\n",
      "               classes   top1_acc   top5_acc: 100%|██████████| 5/5 [00:00<00:00, 95.17it/s]\n"
     ]
    },
    {
     "name": "stdout",
     "output_type": "stream",
     "text": [
      "                   all      0.849          1\n",
      "\n",
      "      Epoch    GPU_mem       loss  Instances       Size\n"
     ]
    },
    {
     "name": "stderr",
     "output_type": "stream",
     "text": [
      "     77/100      2.01G    0.06693          4        224: 100%|██████████| 81/81 [00:02<00:00, 32.25it/s]\n",
      "               classes   top1_acc   top5_acc: 100%|██████████| 5/5 [00:00<00:00, 86.82it/s]"
     ]
    },
    {
     "name": "stdout",
     "output_type": "stream",
     "text": [
      "                   all      0.843          1\n"
     ]
    },
    {
     "name": "stderr",
     "output_type": "stream",
     "text": [
      "\n"
     ]
    },
    {
     "name": "stdout",
     "output_type": "stream",
     "text": [
      "\n",
      "      Epoch    GPU_mem       loss  Instances       Size\n"
     ]
    },
    {
     "name": "stderr",
     "output_type": "stream",
     "text": [
      "     78/100      2.03G    0.07355          4        224: 100%|██████████| 81/81 [00:02<00:00, 33.88it/s]\n",
      "               classes   top1_acc   top5_acc: 100%|██████████| 5/5 [00:00<00:00, 94.09it/s]"
     ]
    },
    {
     "name": "stdout",
     "output_type": "stream",
     "text": [
      "                   all      0.868          1\n"
     ]
    },
    {
     "name": "stderr",
     "output_type": "stream",
     "text": [
      "\n"
     ]
    },
    {
     "name": "stdout",
     "output_type": "stream",
     "text": [
      "\n",
      "      Epoch    GPU_mem       loss  Instances       Size\n"
     ]
    },
    {
     "name": "stderr",
     "output_type": "stream",
     "text": [
      "     79/100      2.01G     0.0842          4        224: 100%|██████████| 81/81 [00:02<00:00, 33.94it/s]\n",
      "               classes   top1_acc   top5_acc: 100%|██████████| 5/5 [00:00<00:00, 91.36it/s]\n"
     ]
    },
    {
     "name": "stdout",
     "output_type": "stream",
     "text": [
      "                   all      0.799          1\n",
      "\n",
      "      Epoch    GPU_mem       loss  Instances       Size\n"
     ]
    },
    {
     "name": "stderr",
     "output_type": "stream",
     "text": [
      "     80/100      2.01G    0.07123          4        224: 100%|██████████| 81/81 [00:02<00:00, 31.61it/s]\n",
      "               classes   top1_acc   top5_acc: 100%|██████████| 5/5 [00:00<00:00, 79.18it/s]"
     ]
    },
    {
     "name": "stdout",
     "output_type": "stream",
     "text": [
      "                   all      0.855          1\n"
     ]
    },
    {
     "name": "stderr",
     "output_type": "stream",
     "text": [
      "\n"
     ]
    },
    {
     "name": "stdout",
     "output_type": "stream",
     "text": [
      "\n",
      "      Epoch    GPU_mem       loss  Instances       Size\n"
     ]
    },
    {
     "name": "stderr",
     "output_type": "stream",
     "text": [
      "     81/100      2.01G    0.07503          4        224: 100%|██████████| 81/81 [00:02<00:00, 32.66it/s]\n",
      "               classes   top1_acc   top5_acc: 100%|██████████| 5/5 [00:00<00:00, 93.25it/s]"
     ]
    },
    {
     "name": "stdout",
     "output_type": "stream",
     "text": [
      "                   all       0.83          1\n"
     ]
    },
    {
     "name": "stderr",
     "output_type": "stream",
     "text": [
      "\n"
     ]
    },
    {
     "name": "stdout",
     "output_type": "stream",
     "text": [
      "\n",
      "      Epoch    GPU_mem       loss  Instances       Size\n"
     ]
    },
    {
     "name": "stderr",
     "output_type": "stream",
     "text": [
      "     82/100      2.03G    0.07067          4        224: 100%|██████████| 81/81 [00:02<00:00, 32.53it/s]\n",
      "               classes   top1_acc   top5_acc: 100%|██████████| 5/5 [00:00<00:00, 93.46it/s]"
     ]
    },
    {
     "name": "stdout",
     "output_type": "stream",
     "text": [
      "                   all      0.818          1\n"
     ]
    },
    {
     "name": "stderr",
     "output_type": "stream",
     "text": [
      "\n"
     ]
    },
    {
     "name": "stdout",
     "output_type": "stream",
     "text": [
      "\n",
      "      Epoch    GPU_mem       loss  Instances       Size\n"
     ]
    },
    {
     "name": "stderr",
     "output_type": "stream",
     "text": [
      "     83/100      2.01G    0.08353          4        224: 100%|██████████| 81/81 [00:02<00:00, 32.43it/s]\n",
      "               classes   top1_acc   top5_acc: 100%|██████████| 5/5 [00:00<00:00, 96.77it/s]"
     ]
    },
    {
     "name": "stdout",
     "output_type": "stream",
     "text": [
      "                   all      0.849          1\n"
     ]
    },
    {
     "name": "stderr",
     "output_type": "stream",
     "text": [
      "\n"
     ]
    },
    {
     "name": "stdout",
     "output_type": "stream",
     "text": [
      "\n",
      "      Epoch    GPU_mem       loss  Instances       Size\n"
     ]
    },
    {
     "name": "stderr",
     "output_type": "stream",
     "text": [
      "     84/100      2.01G    0.07102          4        224: 100%|██████████| 81/81 [00:02<00:00, 32.78it/s]\n",
      "               classes   top1_acc   top5_acc: 100%|██████████| 5/5 [00:00<00:00, 95.89it/s]"
     ]
    },
    {
     "name": "stdout",
     "output_type": "stream",
     "text": [
      "                   all      0.818          1\n"
     ]
    },
    {
     "name": "stderr",
     "output_type": "stream",
     "text": [
      "\n"
     ]
    },
    {
     "name": "stdout",
     "output_type": "stream",
     "text": [
      "\n",
      "      Epoch    GPU_mem       loss  Instances       Size\n"
     ]
    },
    {
     "name": "stderr",
     "output_type": "stream",
     "text": [
      "     85/100      2.01G    0.09146          4        224: 100%|██████████| 81/81 [00:02<00:00, 33.45it/s]\n",
      "               classes   top1_acc   top5_acc: 100%|██████████| 5/5 [00:00<00:00, 90.70it/s]"
     ]
    },
    {
     "name": "stdout",
     "output_type": "stream",
     "text": [
      "                   all       0.83          1\n"
     ]
    },
    {
     "name": "stderr",
     "output_type": "stream",
     "text": [
      "\n"
     ]
    },
    {
     "name": "stdout",
     "output_type": "stream",
     "text": [
      "\n",
      "      Epoch    GPU_mem       loss  Instances       Size\n"
     ]
    },
    {
     "name": "stderr",
     "output_type": "stream",
     "text": [
      "     86/100      2.03G    0.05646          4        224: 100%|██████████| 81/81 [00:02<00:00, 33.28it/s]\n",
      "               classes   top1_acc   top5_acc: 100%|██████████| 5/5 [00:00<00:00, 94.90it/s]"
     ]
    },
    {
     "name": "stdout",
     "output_type": "stream",
     "text": [
      "                   all      0.843          1\n"
     ]
    },
    {
     "name": "stderr",
     "output_type": "stream",
     "text": [
      "\n"
     ]
    },
    {
     "name": "stdout",
     "output_type": "stream",
     "text": [
      "\n",
      "      Epoch    GPU_mem       loss  Instances       Size\n"
     ]
    },
    {
     "name": "stderr",
     "output_type": "stream",
     "text": [
      "     87/100      2.01G    0.05764          4        224: 100%|██████████| 81/81 [00:02<00:00, 33.80it/s]\n",
      "               classes   top1_acc   top5_acc: 100%|██████████| 5/5 [00:00<00:00, 88.06it/s]"
     ]
    },
    {
     "name": "stdout",
     "output_type": "stream",
     "text": [
      "                   all      0.843          1\n"
     ]
    },
    {
     "name": "stderr",
     "output_type": "stream",
     "text": [
      "\n"
     ]
    },
    {
     "name": "stdout",
     "output_type": "stream",
     "text": [
      "\n",
      "      Epoch    GPU_mem       loss  Instances       Size\n"
     ]
    },
    {
     "name": "stderr",
     "output_type": "stream",
     "text": [
      "     88/100      2.01G    0.08788          4        224: 100%|██████████| 81/81 [00:02<00:00, 32.91it/s]\n",
      "               classes   top1_acc   top5_acc: 100%|██████████| 5/5 [00:00<00:00, 91.80it/s]"
     ]
    },
    {
     "name": "stdout",
     "output_type": "stream",
     "text": [
      "                   all      0.836          1\n"
     ]
    },
    {
     "name": "stderr",
     "output_type": "stream",
     "text": [
      "\n"
     ]
    },
    {
     "name": "stdout",
     "output_type": "stream",
     "text": [
      "\n",
      "      Epoch    GPU_mem       loss  Instances       Size\n"
     ]
    },
    {
     "name": "stderr",
     "output_type": "stream",
     "text": [
      "     89/100      2.01G      0.074          4        224: 100%|██████████| 81/81 [00:02<00:00, 32.69it/s]\n",
      "               classes   top1_acc   top5_acc: 100%|██████████| 5/5 [00:00<00:00, 90.93it/s]"
     ]
    },
    {
     "name": "stdout",
     "output_type": "stream",
     "text": [
      "                   all      0.843          1\n"
     ]
    },
    {
     "name": "stderr",
     "output_type": "stream",
     "text": [
      "\n"
     ]
    },
    {
     "name": "stdout",
     "output_type": "stream",
     "text": [
      "\n",
      "      Epoch    GPU_mem       loss  Instances       Size\n"
     ]
    },
    {
     "name": "stderr",
     "output_type": "stream",
     "text": [
      "     90/100      2.03G    0.07371          4        224: 100%|██████████| 81/81 [00:02<00:00, 32.47it/s]\n",
      "               classes   top1_acc   top5_acc: 100%|██████████| 5/5 [00:00<00:00, 90.83it/s]"
     ]
    },
    {
     "name": "stdout",
     "output_type": "stream",
     "text": [
      "                   all      0.874          1\n"
     ]
    },
    {
     "name": "stderr",
     "output_type": "stream",
     "text": [
      "\n"
     ]
    },
    {
     "name": "stdout",
     "output_type": "stream",
     "text": [
      "\n",
      "      Epoch    GPU_mem       loss  Instances       Size\n"
     ]
    },
    {
     "name": "stderr",
     "output_type": "stream",
     "text": [
      "     91/100      2.01G     0.0708          4        224: 100%|██████████| 81/81 [00:02<00:00, 32.17it/s]\n",
      "               classes   top1_acc   top5_acc: 100%|██████████| 5/5 [00:00<00:00, 97.13it/s]"
     ]
    },
    {
     "name": "stdout",
     "output_type": "stream",
     "text": [
      "                   all       0.83          1\n"
     ]
    },
    {
     "name": "stderr",
     "output_type": "stream",
     "text": [
      "\n"
     ]
    },
    {
     "name": "stdout",
     "output_type": "stream",
     "text": [
      "\n",
      "      Epoch    GPU_mem       loss  Instances       Size\n"
     ]
    },
    {
     "name": "stderr",
     "output_type": "stream",
     "text": [
      "     92/100      2.01G    0.05992          4        224: 100%|██████████| 81/81 [00:02<00:00, 31.78it/s]\n",
      "               classes   top1_acc   top5_acc: 100%|██████████| 5/5 [00:00<00:00, 99.85it/s]"
     ]
    },
    {
     "name": "stdout",
     "output_type": "stream",
     "text": [
      "                   all      0.836          1\n"
     ]
    },
    {
     "name": "stderr",
     "output_type": "stream",
     "text": [
      "\n"
     ]
    },
    {
     "name": "stdout",
     "output_type": "stream",
     "text": [
      "\n",
      "      Epoch    GPU_mem       loss  Instances       Size\n"
     ]
    },
    {
     "name": "stderr",
     "output_type": "stream",
     "text": [
      "     93/100      2.01G    0.04784          4        224: 100%|██████████| 81/81 [00:02<00:00, 32.11it/s]\n",
      "               classes   top1_acc   top5_acc: 100%|██████████| 5/5 [00:00<00:00, 95.91it/s]"
     ]
    },
    {
     "name": "stdout",
     "output_type": "stream",
     "text": [
      "                   all      0.849          1\n"
     ]
    },
    {
     "name": "stderr",
     "output_type": "stream",
     "text": [
      "\n"
     ]
    },
    {
     "name": "stdout",
     "output_type": "stream",
     "text": [
      "\n",
      "      Epoch    GPU_mem       loss  Instances       Size\n"
     ]
    },
    {
     "name": "stderr",
     "output_type": "stream",
     "text": [
      "     94/100      2.03G     0.0673          4        224: 100%|██████████| 81/81 [00:02<00:00, 31.97it/s]\n",
      "               classes   top1_acc   top5_acc: 100%|██████████| 5/5 [00:00<00:00, 96.21it/s]"
     ]
    },
    {
     "name": "stdout",
     "output_type": "stream",
     "text": [
      "                   all      0.836          1\n"
     ]
    },
    {
     "name": "stderr",
     "output_type": "stream",
     "text": [
      "\n"
     ]
    },
    {
     "name": "stdout",
     "output_type": "stream",
     "text": [
      "\n",
      "      Epoch    GPU_mem       loss  Instances       Size\n"
     ]
    },
    {
     "name": "stderr",
     "output_type": "stream",
     "text": [
      "     95/100      2.01G    0.06602          4        224: 100%|██████████| 81/81 [00:02<00:00, 32.40it/s]\n",
      "               classes   top1_acc   top5_acc: 100%|██████████| 5/5 [00:00<00:00, 96.44it/s]"
     ]
    },
    {
     "name": "stdout",
     "output_type": "stream",
     "text": [
      "                   all      0.855          1\n"
     ]
    },
    {
     "name": "stderr",
     "output_type": "stream",
     "text": [
      "\n"
     ]
    },
    {
     "name": "stdout",
     "output_type": "stream",
     "text": [
      "\n",
      "      Epoch    GPU_mem       loss  Instances       Size\n"
     ]
    },
    {
     "name": "stderr",
     "output_type": "stream",
     "text": [
      "     96/100      2.01G    0.04149          4        224: 100%|██████████| 81/81 [00:02<00:00, 32.34it/s]\n",
      "               classes   top1_acc   top5_acc: 100%|██████████| 5/5 [00:00<00:00, 82.55it/s]"
     ]
    },
    {
     "name": "stdout",
     "output_type": "stream",
     "text": [
      "                   all      0.855          1\n"
     ]
    },
    {
     "name": "stderr",
     "output_type": "stream",
     "text": [
      "\n"
     ]
    },
    {
     "name": "stdout",
     "output_type": "stream",
     "text": [
      "\n",
      "      Epoch    GPU_mem       loss  Instances       Size\n"
     ]
    },
    {
     "name": "stderr",
     "output_type": "stream",
     "text": [
      "     97/100      2.01G    0.07307          4        224: 100%|██████████| 81/81 [00:02<00:00, 30.74it/s]\n",
      "               classes   top1_acc   top5_acc: 100%|██████████| 5/5 [00:00<00:00, 95.74it/s]"
     ]
    },
    {
     "name": "stdout",
     "output_type": "stream",
     "text": [
      "                   all      0.855          1\n"
     ]
    },
    {
     "name": "stderr",
     "output_type": "stream",
     "text": [
      "\n"
     ]
    },
    {
     "name": "stdout",
     "output_type": "stream",
     "text": [
      "\n",
      "      Epoch    GPU_mem       loss  Instances       Size\n"
     ]
    },
    {
     "name": "stderr",
     "output_type": "stream",
     "text": [
      "     98/100      2.03G    0.05399          4        224: 100%|██████████| 81/81 [00:02<00:00, 31.80it/s]\n",
      "               classes   top1_acc   top5_acc: 100%|██████████| 5/5 [00:00<00:00, 95.95it/s]"
     ]
    },
    {
     "name": "stdout",
     "output_type": "stream",
     "text": [
      "                   all      0.868          1\n"
     ]
    },
    {
     "name": "stderr",
     "output_type": "stream",
     "text": [
      "\n"
     ]
    },
    {
     "name": "stdout",
     "output_type": "stream",
     "text": [
      "\n",
      "      Epoch    GPU_mem       loss  Instances       Size\n"
     ]
    },
    {
     "name": "stderr",
     "output_type": "stream",
     "text": [
      "     99/100      2.01G    0.07443          4        224: 100%|██████████| 81/81 [00:02<00:00, 32.93it/s]\n",
      "               classes   top1_acc   top5_acc: 100%|██████████| 5/5 [00:00<00:00, 81.15it/s]"
     ]
    },
    {
     "name": "stdout",
     "output_type": "stream",
     "text": [
      "                   all      0.868          1\n"
     ]
    },
    {
     "name": "stderr",
     "output_type": "stream",
     "text": [
      "\n"
     ]
    },
    {
     "name": "stdout",
     "output_type": "stream",
     "text": [
      "\n",
      "      Epoch    GPU_mem       loss  Instances       Size\n"
     ]
    },
    {
     "name": "stderr",
     "output_type": "stream",
     "text": [
      "    100/100      2.01G    0.04767          4        224: 100%|██████████| 81/81 [00:02<00:00, 33.98it/s]\n",
      "               classes   top1_acc   top5_acc: 100%|██████████| 5/5 [00:00<00:00, 94.14it/s]"
     ]
    },
    {
     "name": "stdout",
     "output_type": "stream",
     "text": [
      "                   all      0.862          1\n"
     ]
    },
    {
     "name": "stderr",
     "output_type": "stream",
     "text": [
      "\n"
     ]
    },
    {
     "name": "stdout",
     "output_type": "stream",
     "text": [
      "\n",
      "100 epochs completed in 0.084 hours.\n",
      "Optimizer stripped from runs/classify/train149/weights/last.pt, 31.7MB\n",
      "Optimizer stripped from runs/classify/train149/weights/best.pt, 31.7MB\n",
      "\n",
      "Validating runs/classify/train149/weights/best.pt...\n",
      "Ultralytics 8.3.73 🚀 Python-3.10.12 torch-2.6.0+cu124 CUDA:0 (NVIDIA GeForce RTX 4090, 24210MiB)\n",
      "YOLOv8m-cls summary (fused): 103 layers, 15,765,218 parameters, 0 gradients, 41.6 GFLOPs\n",
      "\u001b[34m\u001b[1mtrain:\u001b[0m /home/jupyter/classifications/satellite_abandonedness/train... found 1284 images in 3 classes: ERROR ❌️ requires 2 classes, not 3\n",
      "\u001b[34m\u001b[1mval:\u001b[0m /home/jupyter/classifications/satellite_abandonedness/val... found 159 images in 2 classes ✅ \n",
      "\u001b[34m\u001b[1mtest:\u001b[0m /home/jupyter/classifications/satellite_abandonedness/test... found 141 images in 2 classes ✅ \n"
     ]
    },
    {
     "name": "stderr",
     "output_type": "stream",
     "text": [
      "               classes   top1_acc   top5_acc: 100%|██████████| 5/5 [00:00<00:00, 47.66it/s]\n"
     ]
    },
    {
     "name": "stdout",
     "output_type": "stream",
     "text": [
      "                   all      0.874          1\n",
      "Speed: 0.1ms preprocess, 0.5ms inference, 0.0ms loss, 0.0ms postprocess per image\n",
      "Results saved to \u001b[1mruns/classify/train149\u001b[0m\n"
     ]
    },
    {
     "data": {
      "text/plain": [
       "ultralytics.utils.metrics.ClassifyMetrics object with attributes:\n",
       "\n",
       "confusion_matrix: <ultralytics.utils.metrics.ConfusionMatrix object at 0x7d7390b8b6a0>\n",
       "curves: []\n",
       "curves_results: []\n",
       "fitness: 0.9371069073677063\n",
       "keys: ['metrics/accuracy_top1', 'metrics/accuracy_top5']\n",
       "results_dict: {'metrics/accuracy_top1': 0.8742138147354126, 'metrics/accuracy_top5': 1.0, 'fitness': 0.9371069073677063}\n",
       "save_dir: PosixPath('runs/classify/train149')\n",
       "speed: {'preprocess': 0.06009647681278253, 'inference': 0.5296821114402148, 'loss': 0.0004123591776913817, 'postprocess': 0.005716047946761989}\n",
       "task: 'classify'\n",
       "top1: 0.8742138147354126\n",
       "top5: 1.0"
      ]
     },
     "execution_count": 545,
     "metadata": {},
     "output_type": "execute_result"
    }
   ],
   "source": [
    "#training abandonnessModel for satellite view\n",
    "\n",
    "#abandonnessSatelliteModel = YOLO(\"yolov8m-cls.pt\") #uncomment to restart training from scratch\n",
    "abandonnessSatelliteModel.train(data=\"classifications/satellite_abandonedness\", epochs = 100, flipud=0, fliplr=0,translate = 0.3, scale = 0.2)"
   ]
  },
  {
   "cell_type": "code",
   "execution_count": 546,
   "metadata": {
    "editable": true,
    "slideshow": {
     "slide_type": ""
    },
    "tags": []
   },
   "outputs": [],
   "source": [
    "#getting pretrained model\n",
    "modelPath = \"runs/classify/train149/weights/best.pt\"\n",
    "abandonnessSatelliteModel = YOLO(modelPath) # satellite view"
   ]
  },
  {
   "cell_type": "code",
   "execution_count": 547,
   "metadata": {
    "editable": true,
    "scrolled": true,
    "slideshow": {
     "slide_type": ""
    },
    "tags": []
   },
   "outputs": [
    {
     "name": "stdout",
     "output_type": "stream",
     "text": [
      "\n",
      "image 1/65 /home/jupyter/classifications/satellite_abandonedness/test/abandoned/s1006_abandoned_m.png: 224x224 abandoned 0.72, owned 0.28, 3.8ms\n",
      "image 2/65 /home/jupyter/classifications/satellite_abandonedness/test/abandoned/s10103_abandoned.png: 224x224 abandoned 0.90, owned 0.10, 3.7ms\n",
      "image 3/65 /home/jupyter/classifications/satellite_abandonedness/test/abandoned/s10113_abandoned_m.png: 224x224 abandoned 1.00, owned 0.00, 3.8ms\n",
      "image 4/65 /home/jupyter/classifications/satellite_abandonedness/test/abandoned/s10132_abandoned.png: 224x224 owned 0.51, abandoned 0.49, 3.7ms\n",
      "image 5/65 /home/jupyter/classifications/satellite_abandonedness/test/abandoned/s10143_abandoned.png: 224x224 abandoned 0.98, owned 0.02, 3.9ms\n",
      "image 6/65 /home/jupyter/classifications/satellite_abandonedness/test/abandoned/s10151_abandoned.png: 224x224 owned 0.62, abandoned 0.38, 3.7ms\n",
      "image 7/65 /home/jupyter/classifications/satellite_abandonedness/test/abandoned/s10162_abandoned_m.png: 224x224 abandoned 1.00, owned 0.00, 3.9ms\n",
      "image 8/65 /home/jupyter/classifications/satellite_abandonedness/test/abandoned/s10174_abandoned_m.png: 224x224 abandoned 1.00, owned 0.00, 3.7ms\n",
      "image 9/65 /home/jupyter/classifications/satellite_abandonedness/test/abandoned/s10192_abandoned.png: 224x224 abandoned 1.00, owned 0.00, 3.7ms\n",
      "image 10/65 /home/jupyter/classifications/satellite_abandonedness/test/abandoned/s10208_abandoned_m.png: 224x224 abandoned 1.00, owned 0.00, 3.7ms\n",
      "image 11/65 /home/jupyter/classifications/satellite_abandonedness/test/abandoned/s10213_abandoned.png: 224x224 abandoned 1.00, owned 0.00, 3.7ms\n",
      "image 12/65 /home/jupyter/classifications/satellite_abandonedness/test/abandoned/s10227_abandoned_m.png: 224x224 abandoned 1.00, owned 0.00, 3.7ms\n",
      "image 13/65 /home/jupyter/classifications/satellite_abandonedness/test/abandoned/s10239_abandoned.png: 224x224 abandoned 0.82, owned 0.18, 3.7ms\n",
      "image 14/65 /home/jupyter/classifications/satellite_abandonedness/test/abandoned/s10257_abandoned.png: 224x224 abandoned 0.97, owned 0.03, 3.7ms\n",
      "image 15/65 /home/jupyter/classifications/satellite_abandonedness/test/abandoned/s10261_abandoned_m.png: 224x224 abandoned 1.00, owned 0.00, 3.7ms\n",
      "image 16/65 /home/jupyter/classifications/satellite_abandonedness/test/abandoned/s10271_abandoned.png: 224x224 abandoned 1.00, owned 0.00, 3.7ms\n",
      "image 17/65 /home/jupyter/classifications/satellite_abandonedness/test/abandoned/s10275_abandoned_m.png: 224x224 abandoned 0.99, owned 0.01, 3.7ms\n",
      "image 18/65 /home/jupyter/classifications/satellite_abandonedness/test/abandoned/s1027_abandoned_m.png: 224x224 abandoned 1.00, owned 0.00, 3.7ms\n",
      "image 19/65 /home/jupyter/classifications/satellite_abandonedness/test/abandoned/s10281_abandoned_m.png: 224x224 abandoned 1.00, owned 0.00, 3.7ms\n",
      "image 20/65 /home/jupyter/classifications/satellite_abandonedness/test/abandoned/s10297_abandoned.png: 224x224 abandoned 0.90, owned 0.10, 3.7ms\n",
      "image 21/65 /home/jupyter/classifications/satellite_abandonedness/test/abandoned/s10301_abandoned.png: 224x224 abandoned 1.00, owned 0.00, 3.7ms\n",
      "image 22/65 /home/jupyter/classifications/satellite_abandonedness/test/abandoned/s10331_abandoned_m.png: 224x224 abandoned 0.97, owned 0.03, 3.7ms\n",
      "image 23/65 /home/jupyter/classifications/satellite_abandonedness/test/abandoned/s10340_abandoned_m.png: 224x224 owned 0.73, abandoned 0.27, 3.7ms\n",
      "image 24/65 /home/jupyter/classifications/satellite_abandonedness/test/abandoned/s10344_abandoned.png: 224x224 abandoned 0.99, owned 0.01, 3.7ms\n",
      "image 25/65 /home/jupyter/classifications/satellite_abandonedness/test/abandoned/s10344_abandoned_m.png: 224x224 abandoned 0.93, owned 0.07, 3.7ms\n",
      "image 26/65 /home/jupyter/classifications/satellite_abandonedness/test/abandoned/s10352_abandoned.png: 224x224 abandoned 0.93, owned 0.07, 3.7ms\n",
      "image 27/65 /home/jupyter/classifications/satellite_abandonedness/test/abandoned/s10352_abandoned_m.png: 224x224 abandoned 0.93, owned 0.07, 3.7ms\n",
      "image 28/65 /home/jupyter/classifications/satellite_abandonedness/test/abandoned/s10362_abandoned.png: 224x224 owned 0.99, abandoned 0.01, 3.8ms\n",
      "image 29/65 /home/jupyter/classifications/satellite_abandonedness/test/abandoned/s10367_abandoned.png: 224x224 owned 0.93, abandoned 0.07, 3.7ms\n",
      "image 30/65 /home/jupyter/classifications/satellite_abandonedness/test/abandoned/s10384_abandoned.png: 224x224 abandoned 0.90, owned 0.10, 3.7ms\n",
      "image 31/65 /home/jupyter/classifications/satellite_abandonedness/test/abandoned/s10390_abandoned_m.png: 224x224 abandoned 1.00, owned 0.00, 3.7ms\n",
      "image 32/65 /home/jupyter/classifications/satellite_abandonedness/test/abandoned/s10406_abandoned_m.png: 224x224 abandoned 1.00, owned 0.00, 3.7ms\n",
      "image 33/65 /home/jupyter/classifications/satellite_abandonedness/test/abandoned/s10412_abandoned.png: 224x224 owned 0.97, abandoned 0.03, 3.7ms\n",
      "image 34/65 /home/jupyter/classifications/satellite_abandonedness/test/abandoned/s10433_abandoned_m.png: 224x224 abandoned 1.00, owned 0.00, 3.7ms\n",
      "image 35/65 /home/jupyter/classifications/satellite_abandonedness/test/abandoned/s1044_abandoned_m.png: 224x224 abandoned 0.80, owned 0.20, 3.7ms\n",
      "image 36/65 /home/jupyter/classifications/satellite_abandonedness/test/abandoned/s10461_abandoned_m.png: 224x224 abandoned 1.00, owned 0.00, 3.7ms\n",
      "image 37/65 /home/jupyter/classifications/satellite_abandonedness/test/abandoned/s10462_abandoned_m.png: 224x224 abandoned 1.00, owned 0.00, 3.7ms\n",
      "image 38/65 /home/jupyter/classifications/satellite_abandonedness/test/abandoned/s10472_abandoned_m.png: 224x224 abandoned 1.00, owned 0.00, 3.7ms\n",
      "image 39/65 /home/jupyter/classifications/satellite_abandonedness/test/abandoned/s10478_abandoned_m.png: 224x224 owned 0.95, abandoned 0.05, 3.7ms\n",
      "image 40/65 /home/jupyter/classifications/satellite_abandonedness/test/abandoned/s10485_abandoned.png: 224x224 abandoned 0.99, owned 0.01, 3.7ms\n",
      "image 41/65 /home/jupyter/classifications/satellite_abandonedness/test/abandoned/s1053_abandoned.png: 224x224 abandoned 1.00, owned 0.00, 3.7ms\n",
      "image 42/65 /home/jupyter/classifications/satellite_abandonedness/test/abandoned/s1066_abandoned.png: 224x224 abandoned 1.00, owned 0.00, 3.7ms\n",
      "image 43/65 /home/jupyter/classifications/satellite_abandonedness/test/abandoned/s1078_abandoned.png: 224x224 abandoned 1.00, owned 0.00, 3.7ms\n",
      "image 44/65 /home/jupyter/classifications/satellite_abandonedness/test/abandoned/s1095_abandoned_m.png: 224x224 abandoned 0.78, owned 0.22, 3.7ms\n",
      "image 45/65 /home/jupyter/classifications/satellite_abandonedness/test/abandoned/s20131_abandoned.png: 224x224 abandoned 0.53, owned 0.47, 3.7ms\n",
      "image 46/65 /home/jupyter/classifications/satellite_abandonedness/test/abandoned/s20145_abandoned.png: 224x224 abandoned 1.00, owned 0.00, 3.7ms\n",
      "image 47/65 /home/jupyter/classifications/satellite_abandonedness/test/abandoned/s20146_abandoned_m.png: 224x224 abandoned 1.00, owned 0.00, 3.7ms\n",
      "image 48/65 /home/jupyter/classifications/satellite_abandonedness/test/abandoned/s20149_abandoned_m.png: 224x224 abandoned 1.00, owned 0.00, 3.7ms\n",
      "image 49/65 /home/jupyter/classifications/satellite_abandonedness/test/abandoned/s20159_abandoned_m.png: 224x224 abandoned 0.88, owned 0.12, 3.7ms\n",
      "image 50/65 /home/jupyter/classifications/satellite_abandonedness/test/abandoned/s20166_abandoned_m.png: 224x224 abandoned 1.00, owned 0.00, 3.7ms\n",
      "image 51/65 /home/jupyter/classifications/satellite_abandonedness/test/abandoned/s20170_abandoned_m.png: 224x224 abandoned 1.00, owned 0.00, 3.7ms\n",
      "image 52/65 /home/jupyter/classifications/satellite_abandonedness/test/abandoned/s20185_abandoned.png: 224x224 abandoned 1.00, owned 0.00, 3.7ms\n",
      "image 53/65 /home/jupyter/classifications/satellite_abandonedness/test/abandoned/s20194_abandoned.png: 224x224 abandoned 1.00, owned 0.00, 3.7ms\n",
      "image 54/65 /home/jupyter/classifications/satellite_abandonedness/test/abandoned/s20198_abandoned_m.png: 224x224 abandoned 0.99, owned 0.01, 3.7ms\n",
      "image 55/65 /home/jupyter/classifications/satellite_abandonedness/test/abandoned/s20223_abandoned.png: 224x224 abandoned 1.00, owned 0.00, 3.8ms\n",
      "image 56/65 /home/jupyter/classifications/satellite_abandonedness/test/abandoned/s20233_abandoned.png: 224x224 abandoned 1.00, owned 0.00, 3.7ms\n",
      "image 57/65 /home/jupyter/classifications/satellite_abandonedness/test/abandoned/s20241_abandoned_m.png: 224x224 abandoned 0.97, owned 0.03, 3.7ms\n",
      "image 58/65 /home/jupyter/classifications/satellite_abandonedness/test/abandoned/s20280_abandoned.png: 224x224 abandoned 0.99, owned 0.01, 3.7ms\n",
      "image 59/65 /home/jupyter/classifications/satellite_abandonedness/test/abandoned/s20288_abandoned_m.png: 224x224 abandoned 0.99, owned 0.01, 3.7ms\n",
      "image 60/65 /home/jupyter/classifications/satellite_abandonedness/test/abandoned/s20289_abandoned_m.png: 224x224 owned 0.93, abandoned 0.07, 3.7ms\n",
      "image 61/65 /home/jupyter/classifications/satellite_abandonedness/test/abandoned/s2036_abandoned.png: 224x224 abandoned 1.00, owned 0.00, 3.7ms\n",
      "image 62/65 /home/jupyter/classifications/satellite_abandonedness/test/abandoned/s2060_abandoned.png: 224x224 abandoned 0.59, owned 0.41, 3.7ms\n",
      "image 63/65 /home/jupyter/classifications/satellite_abandonedness/test/abandoned/s2084_abandoned_m.png: 224x224 owned 0.84, abandoned 0.16, 3.7ms\n",
      "image 64/65 /home/jupyter/classifications/satellite_abandonedness/test/abandoned/s2094_abandoned.png: 224x224 abandoned 1.00, owned 0.00, 3.7ms\n",
      "image 65/65 /home/jupyter/classifications/satellite_abandonedness/test/abandoned/s2094_abandoned_m.png: 224x224 abandoned 0.99, owned 0.01, 3.7ms\n",
      "Speed: 2.1ms preprocess, 3.7ms inference, 0.0ms postprocess per image at shape (1, 3, 224, 224)\n",
      "\n",
      "image 1/76 /home/jupyter/classifications/satellite_abandonedness/test/owned/s1003_owned.png: 224x224 abandoned 0.97, owned 0.03, 3.7ms\n",
      "image 2/76 /home/jupyter/classifications/satellite_abandonedness/test/owned/s1003_owned_m.png: 224x224 abandoned 1.00, owned 0.00, 3.7ms\n",
      "image 3/76 /home/jupyter/classifications/satellite_abandonedness/test/owned/s10104_owned.png: 224x224 owned 0.72, abandoned 0.28, 3.7ms\n",
      "image 4/76 /home/jupyter/classifications/satellite_abandonedness/test/owned/s10111_owned.png: 224x224 owned 0.76, abandoned 0.24, 3.7ms\n",
      "image 5/76 /home/jupyter/classifications/satellite_abandonedness/test/owned/s10127_owned.png: 224x224 owned 0.92, abandoned 0.08, 3.7ms\n",
      "image 6/76 /home/jupyter/classifications/satellite_abandonedness/test/owned/s10129_owned.png: 224x224 owned 1.00, abandoned 0.00, 3.7ms\n",
      "image 7/76 /home/jupyter/classifications/satellite_abandonedness/test/owned/s10140_owned.png: 224x224 owned 1.00, abandoned 0.00, 3.7ms\n",
      "image 8/76 /home/jupyter/classifications/satellite_abandonedness/test/owned/s10152_owned_m.png: 224x224 owned 0.96, abandoned 0.04, 3.7ms\n",
      "image 9/76 /home/jupyter/classifications/satellite_abandonedness/test/owned/s1016_owned.png: 224x224 owned 1.00, abandoned 0.00, 3.7ms\n",
      "image 10/76 /home/jupyter/classifications/satellite_abandonedness/test/owned/s10175_owned.png: 224x224 owned 1.00, abandoned 0.00, 3.7ms\n",
      "image 11/76 /home/jupyter/classifications/satellite_abandonedness/test/owned/s10183_owned_m.png: 224x224 abandoned 0.69, owned 0.31, 3.7ms\n",
      "image 12/76 /home/jupyter/classifications/satellite_abandonedness/test/owned/s1018_owned_m.png: 224x224 abandoned 0.72, owned 0.28, 3.7ms\n",
      "image 13/76 /home/jupyter/classifications/satellite_abandonedness/test/owned/s10209_owned.png: 224x224 owned 1.00, abandoned 0.00, 3.7ms\n",
      "image 14/76 /home/jupyter/classifications/satellite_abandonedness/test/owned/s10220_owned_m.png: 224x224 owned 1.00, abandoned 0.00, 3.7ms\n",
      "image 15/76 /home/jupyter/classifications/satellite_abandonedness/test/owned/s10221_owned.png: 224x224 owned 0.99, abandoned 0.01, 3.7ms\n",
      "image 16/76 /home/jupyter/classifications/satellite_abandonedness/test/owned/s10226_owned.png: 224x224 abandoned 0.97, owned 0.03, 3.7ms\n",
      "image 17/76 /home/jupyter/classifications/satellite_abandonedness/test/owned/s10231_owned.png: 224x224 owned 1.00, abandoned 0.00, 3.7ms\n",
      "image 18/76 /home/jupyter/classifications/satellite_abandonedness/test/owned/s10233_owned_m.png: 224x224 owned 1.00, abandoned 0.00, 3.7ms\n",
      "image 19/76 /home/jupyter/classifications/satellite_abandonedness/test/owned/s1028_owned_m.png: 224x224 owned 1.00, abandoned 0.00, 3.7ms\n",
      "image 20/76 /home/jupyter/classifications/satellite_abandonedness/test/owned/s10293_owned_m.png: 224x224 owned 0.99, abandoned 0.01, 3.7ms\n",
      "image 21/76 /home/jupyter/classifications/satellite_abandonedness/test/owned/s10300_owned_m.png: 224x224 owned 1.00, abandoned 0.00, 3.7ms\n",
      "image 22/76 /home/jupyter/classifications/satellite_abandonedness/test/owned/s10304_owned.png: 224x224 owned 1.00, abandoned 0.00, 3.7ms\n",
      "image 23/76 /home/jupyter/classifications/satellite_abandonedness/test/owned/s10314_owned.png: 224x224 owned 1.00, abandoned 0.00, 3.7ms\n",
      "image 24/76 /home/jupyter/classifications/satellite_abandonedness/test/owned/s10317_owned_m.png: 224x224 owned 0.99, abandoned 0.01, 3.7ms\n",
      "image 25/76 /home/jupyter/classifications/satellite_abandonedness/test/owned/s10319_owned.png: 224x224 owned 1.00, abandoned 0.00, 3.7ms\n",
      "image 26/76 /home/jupyter/classifications/satellite_abandonedness/test/owned/s10332_owned_m.png: 224x224 owned 0.58, abandoned 0.42, 3.7ms\n",
      "image 27/76 /home/jupyter/classifications/satellite_abandonedness/test/owned/s10336_owned_m.png: 224x224 owned 0.65, abandoned 0.35, 3.7ms\n",
      "image 28/76 /home/jupyter/classifications/satellite_abandonedness/test/owned/s10356_owned.png: 224x224 owned 0.95, abandoned 0.05, 3.7ms\n",
      "image 29/76 /home/jupyter/classifications/satellite_abandonedness/test/owned/s1035_owned.png: 224x224 owned 1.00, abandoned 0.00, 3.7ms\n",
      "image 30/76 /home/jupyter/classifications/satellite_abandonedness/test/owned/s10385_owned.png: 224x224 owned 0.99, abandoned 0.01, 3.7ms\n",
      "image 31/76 /home/jupyter/classifications/satellite_abandonedness/test/owned/s10403_owned.png: 224x224 owned 1.00, abandoned 0.00, 3.7ms\n",
      "image 32/76 /home/jupyter/classifications/satellite_abandonedness/test/owned/s10410_owned_m.png: 224x224 owned 0.99, abandoned 0.01, 3.7ms\n",
      "image 33/76 /home/jupyter/classifications/satellite_abandonedness/test/owned/s10413_owned_m.png: 224x224 abandoned 0.56, owned 0.44, 3.7ms\n",
      "image 34/76 /home/jupyter/classifications/satellite_abandonedness/test/owned/s10416_owned.png: 224x224 owned 1.00, abandoned 0.00, 3.7ms\n",
      "image 35/76 /home/jupyter/classifications/satellite_abandonedness/test/owned/s10420_owned.png: 224x224 owned 0.92, abandoned 0.08, 3.7ms\n",
      "image 36/76 /home/jupyter/classifications/satellite_abandonedness/test/owned/s10429_owned_m.png: 224x224 abandoned 1.00, owned 0.00, 3.7ms\n",
      "image 37/76 /home/jupyter/classifications/satellite_abandonedness/test/owned/s10431_owned.png: 224x224 owned 0.90, abandoned 0.10, 3.7ms\n",
      "image 38/76 /home/jupyter/classifications/satellite_abandonedness/test/owned/s10445_owned_m.png: 224x224 abandoned 0.51, owned 0.49, 3.7ms\n",
      "image 39/76 /home/jupyter/classifications/satellite_abandonedness/test/owned/s10469_owned.png: 224x224 owned 1.00, abandoned 0.00, 3.7ms\n",
      "image 40/76 /home/jupyter/classifications/satellite_abandonedness/test/owned/s10470_owned_m.png: 224x224 owned 1.00, abandoned 0.00, 3.7ms\n",
      "image 41/76 /home/jupyter/classifications/satellite_abandonedness/test/owned/s1047_owned.png: 224x224 abandoned 0.58, owned 0.42, 3.7ms\n",
      "image 42/76 /home/jupyter/classifications/satellite_abandonedness/test/owned/s10484_owned_m.png: 224x224 owned 0.80, abandoned 0.20, 3.7ms\n",
      "image 43/76 /home/jupyter/classifications/satellite_abandonedness/test/owned/s1057_owned.png: 224x224 owned 1.00, abandoned 0.00, 3.7ms\n",
      "image 44/76 /home/jupyter/classifications/satellite_abandonedness/test/owned/s1069_owned.png: 224x224 owned 1.00, abandoned 0.00, 3.7ms\n",
      "image 45/76 /home/jupyter/classifications/satellite_abandonedness/test/owned/s1071_owned.png: 224x224 owned 1.00, abandoned 0.00, 3.7ms\n",
      "image 46/76 /home/jupyter/classifications/satellite_abandonedness/test/owned/s1083_owned_m.png: 224x224 owned 1.00, abandoned 0.00, 3.7ms\n",
      "image 47/76 /home/jupyter/classifications/satellite_abandonedness/test/owned/s2009_owned_m.png: 224x224 owned 0.91, abandoned 0.09, 3.7ms\n",
      "image 48/76 /home/jupyter/classifications/satellite_abandonedness/test/owned/s20108_owned_m.png: 224x224 owned 0.96, abandoned 0.04, 3.7ms\n",
      "image 49/76 /home/jupyter/classifications/satellite_abandonedness/test/owned/s20111_owned.png: 224x224 owned 0.92, abandoned 0.08, 3.7ms\n",
      "image 50/76 /home/jupyter/classifications/satellite_abandonedness/test/owned/s20114_owned_m.png: 224x224 owned 0.71, abandoned 0.29, 3.7ms\n",
      "image 51/76 /home/jupyter/classifications/satellite_abandonedness/test/owned/s20118_owned_m.png: 224x224 owned 0.69, abandoned 0.31, 3.7ms\n",
      "image 52/76 /home/jupyter/classifications/satellite_abandonedness/test/owned/s20122_owned_m.png: 224x224 owned 1.00, abandoned 0.00, 3.7ms\n",
      "image 53/76 /home/jupyter/classifications/satellite_abandonedness/test/owned/s20127_owned.png: 224x224 abandoned 0.94, owned 0.06, 3.7ms\n",
      "image 54/76 /home/jupyter/classifications/satellite_abandonedness/test/owned/s20142_owned.png: 224x224 owned 0.69, abandoned 0.31, 3.7ms\n",
      "image 55/76 /home/jupyter/classifications/satellite_abandonedness/test/owned/s20151_owned_m.png: 224x224 owned 0.99, abandoned 0.01, 3.7ms\n",
      "image 56/76 /home/jupyter/classifications/satellite_abandonedness/test/owned/s20156_owned.png: 224x224 abandoned 0.94, owned 0.06, 3.7ms\n",
      "image 57/76 /home/jupyter/classifications/satellite_abandonedness/test/owned/s20157_owned_m.png: 224x224 owned 1.00, abandoned 0.00, 3.7ms\n",
      "image 58/76 /home/jupyter/classifications/satellite_abandonedness/test/owned/s20169_owned.png: 224x224 owned 1.00, abandoned 0.00, 3.7ms\n",
      "image 59/76 /home/jupyter/classifications/satellite_abandonedness/test/owned/s20174_owned_m.png: 224x224 abandoned 0.97, owned 0.03, 3.7ms\n",
      "image 60/76 /home/jupyter/classifications/satellite_abandonedness/test/owned/s20188_owned_m.png: 224x224 owned 0.92, abandoned 0.08, 3.7ms\n",
      "image 61/76 /home/jupyter/classifications/satellite_abandonedness/test/owned/s20189_owned_m.png: 224x224 owned 1.00, abandoned 0.00, 3.7ms\n",
      "image 62/76 /home/jupyter/classifications/satellite_abandonedness/test/owned/s20193_owned_m.png: 224x224 abandoned 0.96, owned 0.04, 3.7ms\n",
      "image 63/76 /home/jupyter/classifications/satellite_abandonedness/test/owned/s20195_owned_m.png: 224x224 owned 1.00, abandoned 0.00, 3.7ms\n",
      "image 64/76 /home/jupyter/classifications/satellite_abandonedness/test/owned/s20204_owned_m.png: 224x224 owned 0.98, abandoned 0.02, 3.7ms\n",
      "image 65/76 /home/jupyter/classifications/satellite_abandonedness/test/owned/s20225_owned.png: 224x224 owned 0.88, abandoned 0.12, 3.7ms\n",
      "image 66/76 /home/jupyter/classifications/satellite_abandonedness/test/owned/s2024_owned_m.png: 224x224 owned 1.00, abandoned 0.00, 3.7ms\n",
      "image 67/76 /home/jupyter/classifications/satellite_abandonedness/test/owned/s20260_owned.png: 224x224 owned 0.97, abandoned 0.03, 3.7ms\n",
      "image 68/76 /home/jupyter/classifications/satellite_abandonedness/test/owned/s20263_owned_m.png: 224x224 abandoned 0.93, owned 0.07, 3.7ms\n",
      "image 69/76 /home/jupyter/classifications/satellite_abandonedness/test/owned/s20269_owned.png: 224x224 owned 0.99, abandoned 0.01, 3.7ms\n",
      "image 70/76 /home/jupyter/classifications/satellite_abandonedness/test/owned/s20271_owned.png: 224x224 abandoned 0.88, owned 0.12, 3.7ms\n",
      "image 71/76 /home/jupyter/classifications/satellite_abandonedness/test/owned/s20291_owned_m.png: 224x224 owned 1.00, abandoned 0.00, 3.7ms\n",
      "image 72/76 /home/jupyter/classifications/satellite_abandonedness/test/owned/s2034_owned.png: 224x224 owned 1.00, abandoned 0.00, 3.7ms\n",
      "image 73/76 /home/jupyter/classifications/satellite_abandonedness/test/owned/s2045_owned.png: 224x224 owned 0.97, abandoned 0.03, 3.7ms\n",
      "image 74/76 /home/jupyter/classifications/satellite_abandonedness/test/owned/s2078_owned.png: 224x224 owned 0.98, abandoned 0.02, 3.7ms\n",
      "image 75/76 /home/jupyter/classifications/satellite_abandonedness/test/owned/s2092_owned_m.png: 224x224 owned 0.91, abandoned 0.09, 3.7ms\n",
      "image 76/76 /home/jupyter/classifications/satellite_abandonedness/test/owned/s2095_owned_m.png: 224x224 abandoned 0.94, owned 0.06, 3.7ms\n",
      "Speed: 2.1ms preprocess, 3.7ms inference, 0.0ms postprocess per image at shape (1, 3, 224, 224)\n"
     ]
    }
   ],
   "source": [
    "#predicting from test data (Satellite)\n",
    "testFolderPath = \"classifications/satellite_abandonedness/test/abandoned\"\n",
    "abandonedTestResults = abandonnessSatelliteModel.predict(testFolderPath)\n",
    "testFolderPath = \"classifications/satellite_abandonedness/test/owned\"\n",
    "ownedTestResults = abandonnessSatelliteModel.predict(testFolderPath)"
   ]
  },
  {
   "cell_type": "code",
   "execution_count": 548,
   "metadata": {},
   "outputs": [
    {
     "name": "stdout",
     "output_type": "stream",
     "text": [
      "Accuracy:  116 / 141  =  0.823\n",
      "\n",
      "Abandonness precision:  0.778\n",
      "Owned precision:  0.87\n",
      "Abandonness recall:  0.862\n",
      "Owned recall:  0.789\n",
      "\n",
      "Abandonness f1 score:  0.818\n",
      "Owned f1 score:  0.828\n"
     ]
    }
   ],
   "source": [
    "analyzeAbandonedTestData(abandonedTestResults, ownedTestResults)"
   ]
  },
  {
   "cell_type": "markdown",
   "metadata": {},
   "source": [
    "## Stitched View"
   ]
  },
  {
   "cell_type": "code",
   "execution_count": 549,
   "metadata": {
    "scrolled": true
   },
   "outputs": [
    {
     "name": "stdout",
     "output_type": "stream",
     "text": [
      "New https://pypi.org/project/ultralytics/8.3.78 available 😃 Update with 'pip install -U ultralytics'\n",
      "Ultralytics 8.3.73 🚀 Python-3.10.12 torch-2.6.0+cu124 CUDA:0 (NVIDIA GeForce RTX 4090, 24210MiB)\n",
      "\u001b[34m\u001b[1mengine/trainer: \u001b[0mtask=classify, mode=train, model=yolov8m-cls.pt, data=classifications/stitched_abandonedness, epochs=200, time=None, patience=100, batch=16, imgsz=224, save=True, save_period=-1, cache=False, device=None, workers=8, project=None, name=train150, exist_ok=False, pretrained=True, optimizer=auto, verbose=True, seed=0, deterministic=True, single_cls=False, rect=False, cos_lr=False, close_mosaic=10, resume=False, amp=True, fraction=1.0, profile=False, freeze=None, multi_scale=False, overlap_mask=True, mask_ratio=4, dropout=0.0, val=True, split=val, save_json=False, save_hybrid=False, conf=None, iou=0.7, max_det=300, half=False, dnn=False, plots=True, source=None, vid_stride=1, stream_buffer=False, visualize=False, augment=False, agnostic_nms=False, classes=None, retina_masks=False, embed=None, show=False, save_frames=False, save_txt=False, save_conf=False, save_crop=False, show_labels=True, show_conf=True, show_boxes=True, line_width=None, format=torchscript, keras=False, optimize=False, int8=False, dynamic=False, simplify=True, opset=None, workspace=None, nms=False, lr0=0.01, lrf=0.01, momentum=0.937, weight_decay=0.0005, warmup_epochs=3.0, warmup_momentum=0.8, warmup_bias_lr=0.1, box=7.5, cls=0.5, dfl=1.5, pose=12.0, kobj=1.0, nbs=64, hsv_h=0.015, hsv_s=0.7, hsv_v=0.4, degrees=0.0, translate=0.1, scale=0.5, shear=0.0, perspective=0.0, flipud=0.0, fliplr=0, bgr=0.0, mosaic=0, mixup=0.0, copy_paste=0.0, copy_paste_mode=flip, auto_augment=randaugment, erasing=0.4, crop_fraction=1.0, cfg=None, tracker=botsort.yaml, save_dir=runs/classify/train150\n",
      "\u001b[34m\u001b[1mtrain:\u001b[0m /home/jupyter/classifications/stitched_abandonedness/train... found 1194 images in 2 classes ✅ \n",
      "\u001b[34m\u001b[1mval:\u001b[0m /home/jupyter/classifications/stitched_abandonedness/val... found 171 images in 2 classes ✅ \n",
      "\u001b[34m\u001b[1mtest:\u001b[0m /home/jupyter/classifications/stitched_abandonedness/test... found 155 images in 2 classes ✅ \n",
      "Overriding model.yaml nc=1000 with nc=2\n",
      "\n",
      "                   from  n    params  module                                       arguments                     \n",
      "  0                  -1  1      1392  ultralytics.nn.modules.conv.Conv             [3, 48, 3, 2]                 \n",
      "  1                  -1  1     41664  ultralytics.nn.modules.conv.Conv             [48, 96, 3, 2]                \n",
      "  2                  -1  2    111360  ultralytics.nn.modules.block.C2f             [96, 96, 2, True]             \n",
      "  3                  -1  1    166272  ultralytics.nn.modules.conv.Conv             [96, 192, 3, 2]               \n",
      "  4                  -1  4    813312  ultralytics.nn.modules.block.C2f             [192, 192, 4, True]           \n",
      "  5                  -1  1    664320  ultralytics.nn.modules.conv.Conv             [192, 384, 3, 2]              \n",
      "  6                  -1  4   3248640  ultralytics.nn.modules.block.C2f             [384, 384, 4, True]           \n",
      "  7                  -1  1   2655744  ultralytics.nn.modules.conv.Conv             [384, 768, 3, 2]              \n",
      "  8                  -1  2   7084032  ultralytics.nn.modules.block.C2f             [768, 768, 2, True]           \n",
      "  9                  -1  1    988162  ultralytics.nn.modules.head.Classify         [768, 2]                      \n",
      "YOLOv8m-cls summary: 141 layers, 15,774,898 parameters, 15,774,898 gradients, 41.9 GFLOPs\n",
      "Transferred 228/230 items from pretrained weights\n",
      "\u001b[34m\u001b[1mAMP: \u001b[0mrunning Automatic Mixed Precision (AMP) checks...\n",
      "\u001b[34m\u001b[1mAMP: \u001b[0mchecks passed ✅\n"
     ]
    },
    {
     "name": "stderr",
     "output_type": "stream",
     "text": [
      "\u001b[34m\u001b[1mtrain: \u001b[0mScanning /home/jupyter/classifications/stitched_abandonedness/train... 1194 images, 0 corrupt: 100%|██████████| 1\u001b[0m\n",
      "\u001b[34m\u001b[1mval: \u001b[0mScanning /home/jupyter/classifications/stitched_abandonedness/val... 171 images, 0 corrupt: 100%|██████████| 171/17\u001b[0m\n"
     ]
    },
    {
     "name": "stdout",
     "output_type": "stream",
     "text": [
      "\u001b[34m\u001b[1moptimizer:\u001b[0m 'optimizer=auto' found, ignoring 'lr0=0.01' and 'momentum=0.937' and determining best 'optimizer', 'lr0' and 'momentum' automatically... \n",
      "\u001b[34m\u001b[1moptimizer:\u001b[0m AdamW(lr=0.001667, momentum=0.9) with parameter groups 38 weight(decay=0.0), 39 weight(decay=0.0005), 39 bias(decay=0.0)\n",
      "Image sizes 224 train, 224 val\n",
      "Using 8 dataloader workers\n",
      "Logging results to \u001b[1mruns/classify/train150\u001b[0m\n",
      "Starting training for 200 epochs...\n",
      "\n",
      "      Epoch    GPU_mem       loss  Instances       Size\n"
     ]
    },
    {
     "name": "stderr",
     "output_type": "stream",
     "text": [
      "      1/200      2.34G     0.6345         10        224: 100%|██████████| 75/75 [00:03<00:00, 24.94it/s]\n",
      "               classes   top1_acc   top5_acc: 100%|██████████| 6/6 [00:00<00:00, 93.32it/s]"
     ]
    },
    {
     "name": "stdout",
     "output_type": "stream",
     "text": [
      "                   all      0.749          1\n"
     ]
    },
    {
     "name": "stderr",
     "output_type": "stream",
     "text": [
      "\n"
     ]
    },
    {
     "name": "stdout",
     "output_type": "stream",
     "text": [
      "\n",
      "      Epoch    GPU_mem       loss  Instances       Size\n"
     ]
    },
    {
     "name": "stderr",
     "output_type": "stream",
     "text": [
      "      2/200       2.1G     0.5212         10        224: 100%|██████████| 75/75 [00:02<00:00, 29.21it/s]\n",
      "               classes   top1_acc   top5_acc: 100%|██████████| 6/6 [00:00<00:00, 95.26it/s]"
     ]
    },
    {
     "name": "stdout",
     "output_type": "stream",
     "text": [
      "                   all      0.678          1\n"
     ]
    },
    {
     "name": "stderr",
     "output_type": "stream",
     "text": [
      "\n"
     ]
    },
    {
     "name": "stdout",
     "output_type": "stream",
     "text": [
      "\n",
      "      Epoch    GPU_mem       loss  Instances       Size\n"
     ]
    },
    {
     "name": "stderr",
     "output_type": "stream",
     "text": [
      "      3/200      1.99G     0.4704         10        224: 100%|██████████| 75/75 [00:02<00:00, 29.88it/s]\n",
      "               classes   top1_acc   top5_acc: 100%|██████████| 6/6 [00:00<00:00, 89.97it/s]"
     ]
    },
    {
     "name": "stdout",
     "output_type": "stream",
     "text": [
      "                   all      0.754          1\n"
     ]
    },
    {
     "name": "stderr",
     "output_type": "stream",
     "text": [
      "\n"
     ]
    },
    {
     "name": "stdout",
     "output_type": "stream",
     "text": [
      "\n",
      "      Epoch    GPU_mem       loss  Instances       Size\n"
     ]
    },
    {
     "name": "stderr",
     "output_type": "stream",
     "text": [
      "      4/200      1.97G     0.5173         10        224: 100%|██████████| 75/75 [00:02<00:00, 31.07it/s]\n",
      "               classes   top1_acc   top5_acc: 100%|██████████| 6/6 [00:00<00:00, 94.55it/s]\n"
     ]
    },
    {
     "name": "stdout",
     "output_type": "stream",
     "text": [
      "                   all      0.696          1\n",
      "\n",
      "      Epoch    GPU_mem       loss  Instances       Size\n"
     ]
    },
    {
     "name": "stderr",
     "output_type": "stream",
     "text": [
      "      5/200      1.95G     0.4746         10        224: 100%|██████████| 75/75 [00:02<00:00, 29.82it/s]\n",
      "               classes   top1_acc   top5_acc: 100%|██████████| 6/6 [00:00<00:00, 81.36it/s]"
     ]
    },
    {
     "name": "stdout",
     "output_type": "stream",
     "text": [
      "                   all      0.737          1\n"
     ]
    },
    {
     "name": "stderr",
     "output_type": "stream",
     "text": [
      "\n"
     ]
    },
    {
     "name": "stdout",
     "output_type": "stream",
     "text": [
      "\n",
      "      Epoch    GPU_mem       loss  Instances       Size\n"
     ]
    },
    {
     "name": "stderr",
     "output_type": "stream",
     "text": [
      "      6/200      1.95G     0.4292         10        224: 100%|██████████| 75/75 [00:02<00:00, 30.57it/s]\n",
      "               classes   top1_acc   top5_acc: 100%|██████████| 6/6 [00:00<00:00, 95.06it/s]"
     ]
    },
    {
     "name": "stdout",
     "output_type": "stream",
     "text": [
      "                   all      0.684          1\n"
     ]
    },
    {
     "name": "stderr",
     "output_type": "stream",
     "text": [
      "\n"
     ]
    },
    {
     "name": "stdout",
     "output_type": "stream",
     "text": [
      "\n",
      "      Epoch    GPU_mem       loss  Instances       Size\n"
     ]
    },
    {
     "name": "stderr",
     "output_type": "stream",
     "text": [
      "      7/200      1.97G     0.4168         10        224: 100%|██████████| 75/75 [00:02<00:00, 30.95it/s]\n",
      "               classes   top1_acc   top5_acc: 100%|██████████| 6/6 [00:00<00:00, 93.99it/s]"
     ]
    },
    {
     "name": "stdout",
     "output_type": "stream",
     "text": [
      "                   all       0.83          1\n"
     ]
    },
    {
     "name": "stderr",
     "output_type": "stream",
     "text": [
      "\n"
     ]
    },
    {
     "name": "stdout",
     "output_type": "stream",
     "text": [
      "\n",
      "      Epoch    GPU_mem       loss  Instances       Size\n"
     ]
    },
    {
     "name": "stderr",
     "output_type": "stream",
     "text": [
      "      8/200      1.99G     0.3737         10        224: 100%|██████████| 75/75 [00:02<00:00, 31.07it/s]\n",
      "               classes   top1_acc   top5_acc: 100%|██████████| 6/6 [00:00<00:00, 89.72it/s]"
     ]
    },
    {
     "name": "stdout",
     "output_type": "stream",
     "text": [
      "                   all      0.737          1\n"
     ]
    },
    {
     "name": "stderr",
     "output_type": "stream",
     "text": [
      "\n"
     ]
    },
    {
     "name": "stdout",
     "output_type": "stream",
     "text": [
      "\n",
      "      Epoch    GPU_mem       loss  Instances       Size\n"
     ]
    },
    {
     "name": "stderr",
     "output_type": "stream",
     "text": [
      "      9/200      1.95G     0.3088         10        224: 100%|██████████| 75/75 [00:02<00:00, 30.43it/s]\n",
      "               classes   top1_acc   top5_acc: 100%|██████████| 6/6 [00:00<00:00, 90.40it/s]"
     ]
    },
    {
     "name": "stdout",
     "output_type": "stream",
     "text": [
      "                   all      0.719          1\n"
     ]
    },
    {
     "name": "stderr",
     "output_type": "stream",
     "text": [
      "\n"
     ]
    },
    {
     "name": "stdout",
     "output_type": "stream",
     "text": [
      "\n",
      "      Epoch    GPU_mem       loss  Instances       Size\n"
     ]
    },
    {
     "name": "stderr",
     "output_type": "stream",
     "text": [
      "     10/200      1.95G     0.2793         10        224: 100%|██████████| 75/75 [00:02<00:00, 30.03it/s]\n",
      "               classes   top1_acc   top5_acc: 100%|██████████| 6/6 [00:00<00:00, 89.50it/s]"
     ]
    },
    {
     "name": "stdout",
     "output_type": "stream",
     "text": [
      "                   all      0.772          1\n"
     ]
    },
    {
     "name": "stderr",
     "output_type": "stream",
     "text": [
      "\n"
     ]
    },
    {
     "name": "stdout",
     "output_type": "stream",
     "text": [
      "\n",
      "      Epoch    GPU_mem       loss  Instances       Size\n"
     ]
    },
    {
     "name": "stderr",
     "output_type": "stream",
     "text": [
      "     11/200      1.97G     0.2584         10        224: 100%|██████████| 75/75 [00:02<00:00, 31.16it/s]\n",
      "               classes   top1_acc   top5_acc: 100%|██████████| 6/6 [00:00<00:00, 93.86it/s]"
     ]
    },
    {
     "name": "stdout",
     "output_type": "stream",
     "text": [
      "                   all      0.819          1\n"
     ]
    },
    {
     "name": "stderr",
     "output_type": "stream",
     "text": [
      "\n"
     ]
    },
    {
     "name": "stdout",
     "output_type": "stream",
     "text": [
      "\n",
      "      Epoch    GPU_mem       loss  Instances       Size\n"
     ]
    },
    {
     "name": "stderr",
     "output_type": "stream",
     "text": [
      "     12/200      1.99G     0.2788         10        224: 100%|██████████| 75/75 [00:02<00:00, 30.94it/s]\n",
      "               classes   top1_acc   top5_acc: 100%|██████████| 6/6 [00:00<00:00, 92.69it/s]"
     ]
    },
    {
     "name": "stdout",
     "output_type": "stream",
     "text": [
      "                   all      0.789          1\n"
     ]
    },
    {
     "name": "stderr",
     "output_type": "stream",
     "text": [
      "\n"
     ]
    },
    {
     "name": "stdout",
     "output_type": "stream",
     "text": [
      "\n",
      "      Epoch    GPU_mem       loss  Instances       Size\n"
     ]
    },
    {
     "name": "stderr",
     "output_type": "stream",
     "text": [
      "     13/200      1.95G     0.2354         10        224: 100%|██████████| 75/75 [00:02<00:00, 31.04it/s]\n",
      "               classes   top1_acc   top5_acc: 100%|██████████| 6/6 [00:00<00:00, 93.74it/s]"
     ]
    },
    {
     "name": "stdout",
     "output_type": "stream",
     "text": [
      "                   all      0.801          1\n"
     ]
    },
    {
     "name": "stderr",
     "output_type": "stream",
     "text": [
      "\n"
     ]
    },
    {
     "name": "stdout",
     "output_type": "stream",
     "text": [
      "\n",
      "      Epoch    GPU_mem       loss  Instances       Size\n"
     ]
    },
    {
     "name": "stderr",
     "output_type": "stream",
     "text": [
      "     14/200      1.95G     0.2229         10        224: 100%|██████████| 75/75 [00:02<00:00, 30.84it/s]\n",
      "               classes   top1_acc   top5_acc: 100%|██████████| 6/6 [00:00<00:00, 84.15it/s]"
     ]
    },
    {
     "name": "stdout",
     "output_type": "stream",
     "text": [
      "                   all       0.83          1\n"
     ]
    },
    {
     "name": "stderr",
     "output_type": "stream",
     "text": [
      "\n"
     ]
    },
    {
     "name": "stdout",
     "output_type": "stream",
     "text": [
      "\n",
      "      Epoch    GPU_mem       loss  Instances       Size\n"
     ]
    },
    {
     "name": "stderr",
     "output_type": "stream",
     "text": [
      "     15/200      1.97G     0.2541         10        224: 100%|██████████| 75/75 [00:02<00:00, 31.00it/s]\n",
      "               classes   top1_acc   top5_acc: 100%|██████████| 6/6 [00:00<00:00, 94.14it/s]"
     ]
    },
    {
     "name": "stdout",
     "output_type": "stream",
     "text": [
      "                   all      0.813          1\n"
     ]
    },
    {
     "name": "stderr",
     "output_type": "stream",
     "text": [
      "\n"
     ]
    },
    {
     "name": "stdout",
     "output_type": "stream",
     "text": [
      "\n",
      "      Epoch    GPU_mem       loss  Instances       Size\n"
     ]
    },
    {
     "name": "stderr",
     "output_type": "stream",
     "text": [
      "     16/200      1.99G     0.2386         10        224: 100%|██████████| 75/75 [00:02<00:00, 30.82it/s]\n",
      "               classes   top1_acc   top5_acc: 100%|██████████| 6/6 [00:00<00:00, 95.76it/s]"
     ]
    },
    {
     "name": "stdout",
     "output_type": "stream",
     "text": [
      "                   all      0.754          1\n"
     ]
    },
    {
     "name": "stderr",
     "output_type": "stream",
     "text": [
      "\n"
     ]
    },
    {
     "name": "stdout",
     "output_type": "stream",
     "text": [
      "\n",
      "      Epoch    GPU_mem       loss  Instances       Size\n"
     ]
    },
    {
     "name": "stderr",
     "output_type": "stream",
     "text": [
      "     17/200      1.95G     0.1862         10        224: 100%|██████████| 75/75 [00:02<00:00, 33.34it/s]\n",
      "               classes   top1_acc   top5_acc: 100%|██████████| 6/6 [00:00<00:00, 98.21it/s]"
     ]
    },
    {
     "name": "stdout",
     "output_type": "stream",
     "text": [
      "                   all      0.795          1\n"
     ]
    },
    {
     "name": "stderr",
     "output_type": "stream",
     "text": [
      "\n"
     ]
    },
    {
     "name": "stdout",
     "output_type": "stream",
     "text": [
      "\n",
      "      Epoch    GPU_mem       loss  Instances       Size\n"
     ]
    },
    {
     "name": "stderr",
     "output_type": "stream",
     "text": [
      "     18/200      1.95G     0.2033         10        224: 100%|██████████| 75/75 [00:02<00:00, 32.58it/s]\n",
      "               classes   top1_acc   top5_acc: 100%|██████████| 6/6 [00:00<00:00, 101.26it/s]"
     ]
    },
    {
     "name": "stdout",
     "output_type": "stream",
     "text": [
      "                   all      0.772          1\n"
     ]
    },
    {
     "name": "stderr",
     "output_type": "stream",
     "text": [
      "\n"
     ]
    },
    {
     "name": "stdout",
     "output_type": "stream",
     "text": [
      "\n",
      "      Epoch    GPU_mem       loss  Instances       Size\n"
     ]
    },
    {
     "name": "stderr",
     "output_type": "stream",
     "text": [
      "     19/200      1.97G     0.1892         10        224: 100%|██████████| 75/75 [00:02<00:00, 30.88it/s]\n",
      "               classes   top1_acc   top5_acc: 100%|██████████| 6/6 [00:00<00:00, 96.05it/s]"
     ]
    },
    {
     "name": "stdout",
     "output_type": "stream",
     "text": [
      "                   all      0.813          1\n"
     ]
    },
    {
     "name": "stderr",
     "output_type": "stream",
     "text": [
      "\n"
     ]
    },
    {
     "name": "stdout",
     "output_type": "stream",
     "text": [
      "\n",
      "      Epoch    GPU_mem       loss  Instances       Size\n"
     ]
    },
    {
     "name": "stderr",
     "output_type": "stream",
     "text": [
      "     20/200      1.99G     0.2306         10        224: 100%|██████████| 75/75 [00:02<00:00, 31.83it/s]\n",
      "               classes   top1_acc   top5_acc: 100%|██████████| 6/6 [00:00<00:00, 89.34it/s]"
     ]
    },
    {
     "name": "stdout",
     "output_type": "stream",
     "text": [
      "                   all      0.795          1\n"
     ]
    },
    {
     "name": "stderr",
     "output_type": "stream",
     "text": [
      "\n"
     ]
    },
    {
     "name": "stdout",
     "output_type": "stream",
     "text": [
      "\n",
      "      Epoch    GPU_mem       loss  Instances       Size\n"
     ]
    },
    {
     "name": "stderr",
     "output_type": "stream",
     "text": [
      "     21/200      1.95G     0.1979         10        224: 100%|██████████| 75/75 [00:02<00:00, 31.56it/s]\n",
      "               classes   top1_acc   top5_acc: 100%|██████████| 6/6 [00:00<00:00, 97.27it/s]"
     ]
    },
    {
     "name": "stdout",
     "output_type": "stream",
     "text": [
      "                   all      0.772          1\n"
     ]
    },
    {
     "name": "stderr",
     "output_type": "stream",
     "text": [
      "\n"
     ]
    },
    {
     "name": "stdout",
     "output_type": "stream",
     "text": [
      "\n",
      "      Epoch    GPU_mem       loss  Instances       Size\n"
     ]
    },
    {
     "name": "stderr",
     "output_type": "stream",
     "text": [
      "     22/200      1.95G     0.1535         10        224: 100%|██████████| 75/75 [00:02<00:00, 31.98it/s]\n",
      "               classes   top1_acc   top5_acc: 100%|██████████| 6/6 [00:00<00:00, 95.66it/s]"
     ]
    },
    {
     "name": "stdout",
     "output_type": "stream",
     "text": [
      "                   all      0.789          1\n"
     ]
    },
    {
     "name": "stderr",
     "output_type": "stream",
     "text": [
      "\n"
     ]
    },
    {
     "name": "stdout",
     "output_type": "stream",
     "text": [
      "\n",
      "      Epoch    GPU_mem       loss  Instances       Size\n"
     ]
    },
    {
     "name": "stderr",
     "output_type": "stream",
     "text": [
      "     23/200      1.97G     0.1222         10        224: 100%|██████████| 75/75 [00:02<00:00, 32.11it/s]\n",
      "               classes   top1_acc   top5_acc: 100%|██████████| 6/6 [00:00<00:00, 98.65it/s]"
     ]
    },
    {
     "name": "stdout",
     "output_type": "stream",
     "text": [
      "                   all      0.842          1\n"
     ]
    },
    {
     "name": "stderr",
     "output_type": "stream",
     "text": [
      "\n"
     ]
    },
    {
     "name": "stdout",
     "output_type": "stream",
     "text": [
      "\n",
      "      Epoch    GPU_mem       loss  Instances       Size\n"
     ]
    },
    {
     "name": "stderr",
     "output_type": "stream",
     "text": [
      "     24/200      1.99G     0.1437         10        224: 100%|██████████| 75/75 [00:02<00:00, 31.61it/s]\n",
      "               classes   top1_acc   top5_acc: 100%|██████████| 6/6 [00:00<00:00, 95.47it/s]"
     ]
    },
    {
     "name": "stdout",
     "output_type": "stream",
     "text": [
      "                   all      0.807          1\n"
     ]
    },
    {
     "name": "stderr",
     "output_type": "stream",
     "text": [
      "\n"
     ]
    },
    {
     "name": "stdout",
     "output_type": "stream",
     "text": [
      "\n",
      "      Epoch    GPU_mem       loss  Instances       Size\n"
     ]
    },
    {
     "name": "stderr",
     "output_type": "stream",
     "text": [
      "     25/200      1.95G      0.154         10        224: 100%|██████████| 75/75 [00:02<00:00, 32.31it/s]\n",
      "               classes   top1_acc   top5_acc: 100%|██████████| 6/6 [00:00<00:00, 96.02it/s]"
     ]
    },
    {
     "name": "stdout",
     "output_type": "stream",
     "text": [
      "                   all      0.754          1\n"
     ]
    },
    {
     "name": "stderr",
     "output_type": "stream",
     "text": [
      "\n"
     ]
    },
    {
     "name": "stdout",
     "output_type": "stream",
     "text": [
      "\n",
      "      Epoch    GPU_mem       loss  Instances       Size\n"
     ]
    },
    {
     "name": "stderr",
     "output_type": "stream",
     "text": [
      "     26/200      1.95G     0.1971         10        224: 100%|██████████| 75/75 [00:02<00:00, 31.46it/s]\n",
      "               classes   top1_acc   top5_acc: 100%|██████████| 6/6 [00:00<00:00, 98.82it/s]"
     ]
    },
    {
     "name": "stdout",
     "output_type": "stream",
     "text": [
      "                   all      0.784          1\n"
     ]
    },
    {
     "name": "stderr",
     "output_type": "stream",
     "text": [
      "\n"
     ]
    },
    {
     "name": "stdout",
     "output_type": "stream",
     "text": [
      "\n",
      "      Epoch    GPU_mem       loss  Instances       Size\n"
     ]
    },
    {
     "name": "stderr",
     "output_type": "stream",
     "text": [
      "     27/200      1.97G     0.1318         10        224: 100%|██████████| 75/75 [00:02<00:00, 31.08it/s]\n",
      "               classes   top1_acc   top5_acc: 100%|██████████| 6/6 [00:00<00:00, 94.69it/s]"
     ]
    },
    {
     "name": "stdout",
     "output_type": "stream",
     "text": [
      "                   all      0.813          1\n"
     ]
    },
    {
     "name": "stderr",
     "output_type": "stream",
     "text": [
      "\n"
     ]
    },
    {
     "name": "stdout",
     "output_type": "stream",
     "text": [
      "\n",
      "      Epoch    GPU_mem       loss  Instances       Size\n"
     ]
    },
    {
     "name": "stderr",
     "output_type": "stream",
     "text": [
      "     28/200      1.99G    0.09369         10        224: 100%|██████████| 75/75 [00:02<00:00, 31.05it/s]\n",
      "               classes   top1_acc   top5_acc: 100%|██████████| 6/6 [00:00<00:00, 96.69it/s]"
     ]
    },
    {
     "name": "stdout",
     "output_type": "stream",
     "text": [
      "                   all       0.83          1\n"
     ]
    },
    {
     "name": "stderr",
     "output_type": "stream",
     "text": [
      "\n"
     ]
    },
    {
     "name": "stdout",
     "output_type": "stream",
     "text": [
      "\n",
      "      Epoch    GPU_mem       loss  Instances       Size\n"
     ]
    },
    {
     "name": "stderr",
     "output_type": "stream",
     "text": [
      "     29/200      1.95G     0.1074         10        224: 100%|██████████| 75/75 [00:02<00:00, 30.34it/s]\n",
      "               classes   top1_acc   top5_acc: 100%|██████████| 6/6 [00:00<00:00, 95.98it/s]"
     ]
    },
    {
     "name": "stdout",
     "output_type": "stream",
     "text": [
      "                   all      0.801          1\n"
     ]
    },
    {
     "name": "stderr",
     "output_type": "stream",
     "text": [
      "\n"
     ]
    },
    {
     "name": "stdout",
     "output_type": "stream",
     "text": [
      "\n",
      "      Epoch    GPU_mem       loss  Instances       Size\n"
     ]
    },
    {
     "name": "stderr",
     "output_type": "stream",
     "text": [
      "     30/200      1.95G     0.1107         10        224: 100%|██████████| 75/75 [00:02<00:00, 31.20it/s]\n",
      "               classes   top1_acc   top5_acc: 100%|██████████| 6/6 [00:00<00:00, 95.74it/s]"
     ]
    },
    {
     "name": "stdout",
     "output_type": "stream",
     "text": [
      "                   all      0.813          1\n"
     ]
    },
    {
     "name": "stderr",
     "output_type": "stream",
     "text": [
      "\n"
     ]
    },
    {
     "name": "stdout",
     "output_type": "stream",
     "text": [
      "\n",
      "      Epoch    GPU_mem       loss  Instances       Size\n"
     ]
    },
    {
     "name": "stderr",
     "output_type": "stream",
     "text": [
      "     31/200      1.97G     0.1681         10        224: 100%|██████████| 75/75 [00:02<00:00, 30.13it/s]\n",
      "               classes   top1_acc   top5_acc: 100%|██████████| 6/6 [00:00<00:00, 85.61it/s]"
     ]
    },
    {
     "name": "stdout",
     "output_type": "stream",
     "text": [
      "                   all      0.865          1\n"
     ]
    },
    {
     "name": "stderr",
     "output_type": "stream",
     "text": [
      "\n"
     ]
    },
    {
     "name": "stdout",
     "output_type": "stream",
     "text": [
      "\n",
      "      Epoch    GPU_mem       loss  Instances       Size\n"
     ]
    },
    {
     "name": "stderr",
     "output_type": "stream",
     "text": [
      "     32/200      1.99G     0.1206         10        224: 100%|██████████| 75/75 [00:02<00:00, 31.18it/s]\n",
      "               classes   top1_acc   top5_acc: 100%|██████████| 6/6 [00:00<00:00, 95.26it/s]"
     ]
    },
    {
     "name": "stdout",
     "output_type": "stream",
     "text": [
      "                   all      0.842          1\n"
     ]
    },
    {
     "name": "stderr",
     "output_type": "stream",
     "text": [
      "\n"
     ]
    },
    {
     "name": "stdout",
     "output_type": "stream",
     "text": [
      "\n",
      "      Epoch    GPU_mem       loss  Instances       Size\n"
     ]
    },
    {
     "name": "stderr",
     "output_type": "stream",
     "text": [
      "     33/200      1.95G     0.1408         10        224: 100%|██████████| 75/75 [00:02<00:00, 32.10it/s]\n",
      "               classes   top1_acc   top5_acc: 100%|██████████| 6/6 [00:00<00:00, 96.67it/s]"
     ]
    },
    {
     "name": "stdout",
     "output_type": "stream",
     "text": [
      "                   all      0.842          1\n"
     ]
    },
    {
     "name": "stderr",
     "output_type": "stream",
     "text": [
      "\n"
     ]
    },
    {
     "name": "stdout",
     "output_type": "stream",
     "text": [
      "\n",
      "      Epoch    GPU_mem       loss  Instances       Size\n"
     ]
    },
    {
     "name": "stderr",
     "output_type": "stream",
     "text": [
      "     34/200      1.95G     0.1253         10        224: 100%|██████████| 75/75 [00:02<00:00, 32.37it/s]\n",
      "               classes   top1_acc   top5_acc: 100%|██████████| 6/6 [00:00<00:00, 96.69it/s]"
     ]
    },
    {
     "name": "stdout",
     "output_type": "stream",
     "text": [
      "                   all      0.825          1\n"
     ]
    },
    {
     "name": "stderr",
     "output_type": "stream",
     "text": [
      "\n"
     ]
    },
    {
     "name": "stdout",
     "output_type": "stream",
     "text": [
      "\n",
      "      Epoch    GPU_mem       loss  Instances       Size\n"
     ]
    },
    {
     "name": "stderr",
     "output_type": "stream",
     "text": [
      "     35/200      1.97G     0.1113         10        224: 100%|██████████| 75/75 [00:02<00:00, 32.76it/s]\n",
      "               classes   top1_acc   top5_acc: 100%|██████████| 6/6 [00:00<00:00, 95.30it/s]"
     ]
    },
    {
     "name": "stdout",
     "output_type": "stream",
     "text": [
      "                   all      0.813          1\n"
     ]
    },
    {
     "name": "stderr",
     "output_type": "stream",
     "text": [
      "\n"
     ]
    },
    {
     "name": "stdout",
     "output_type": "stream",
     "text": [
      "\n",
      "      Epoch    GPU_mem       loss  Instances       Size\n"
     ]
    },
    {
     "name": "stderr",
     "output_type": "stream",
     "text": [
      "     36/200      1.99G    0.09932         10        224: 100%|██████████| 75/75 [00:02<00:00, 31.83it/s]\n",
      "               classes   top1_acc   top5_acc: 100%|██████████| 6/6 [00:00<00:00, 100.93it/s]"
     ]
    },
    {
     "name": "stdout",
     "output_type": "stream",
     "text": [
      "                   all       0.83          1\n"
     ]
    },
    {
     "name": "stderr",
     "output_type": "stream",
     "text": [
      "\n"
     ]
    },
    {
     "name": "stdout",
     "output_type": "stream",
     "text": [
      "\n",
      "      Epoch    GPU_mem       loss  Instances       Size\n"
     ]
    },
    {
     "name": "stderr",
     "output_type": "stream",
     "text": [
      "     37/200      1.95G    0.08963         10        224: 100%|██████████| 75/75 [00:02<00:00, 31.02it/s]\n",
      "               classes   top1_acc   top5_acc: 100%|██████████| 6/6 [00:00<00:00, 89.33it/s]"
     ]
    },
    {
     "name": "stdout",
     "output_type": "stream",
     "text": [
      "                   all      0.848          1\n"
     ]
    },
    {
     "name": "stderr",
     "output_type": "stream",
     "text": [
      "\n"
     ]
    },
    {
     "name": "stdout",
     "output_type": "stream",
     "text": [
      "\n",
      "      Epoch    GPU_mem       loss  Instances       Size\n"
     ]
    },
    {
     "name": "stderr",
     "output_type": "stream",
     "text": [
      "     38/200      1.95G     0.1092         10        224: 100%|██████████| 75/75 [00:02<00:00, 30.72it/s]\n",
      "               classes   top1_acc   top5_acc: 100%|██████████| 6/6 [00:00<00:00, 84.49it/s]"
     ]
    },
    {
     "name": "stdout",
     "output_type": "stream",
     "text": [
      "                   all      0.784          1\n"
     ]
    },
    {
     "name": "stderr",
     "output_type": "stream",
     "text": [
      "\n"
     ]
    },
    {
     "name": "stdout",
     "output_type": "stream",
     "text": [
      "\n",
      "      Epoch    GPU_mem       loss  Instances       Size\n"
     ]
    },
    {
     "name": "stderr",
     "output_type": "stream",
     "text": [
      "     39/200      1.97G     0.1123         10        224: 100%|██████████| 75/75 [00:02<00:00, 30.79it/s]\n",
      "               classes   top1_acc   top5_acc: 100%|██████████| 6/6 [00:00<00:00, 93.33it/s]"
     ]
    },
    {
     "name": "stdout",
     "output_type": "stream",
     "text": [
      "                   all      0.795          1\n"
     ]
    },
    {
     "name": "stderr",
     "output_type": "stream",
     "text": [
      "\n"
     ]
    },
    {
     "name": "stdout",
     "output_type": "stream",
     "text": [
      "\n",
      "      Epoch    GPU_mem       loss  Instances       Size\n"
     ]
    },
    {
     "name": "stderr",
     "output_type": "stream",
     "text": [
      "     40/200      1.99G    0.08039         10        224: 100%|██████████| 75/75 [00:02<00:00, 29.83it/s]\n",
      "               classes   top1_acc   top5_acc: 100%|██████████| 6/6 [00:00<00:00, 93.21it/s]"
     ]
    },
    {
     "name": "stdout",
     "output_type": "stream",
     "text": [
      "                   all       0.86          1\n"
     ]
    },
    {
     "name": "stderr",
     "output_type": "stream",
     "text": [
      "\n"
     ]
    },
    {
     "name": "stdout",
     "output_type": "stream",
     "text": [
      "\n",
      "      Epoch    GPU_mem       loss  Instances       Size\n"
     ]
    },
    {
     "name": "stderr",
     "output_type": "stream",
     "text": [
      "     41/200      1.95G      0.103         10        224: 100%|██████████| 75/75 [00:02<00:00, 29.66it/s]\n",
      "               classes   top1_acc   top5_acc: 100%|██████████| 6/6 [00:00<00:00, 94.33it/s]"
     ]
    },
    {
     "name": "stdout",
     "output_type": "stream",
     "text": [
      "                   all      0.825          1\n"
     ]
    },
    {
     "name": "stderr",
     "output_type": "stream",
     "text": [
      "\n"
     ]
    },
    {
     "name": "stdout",
     "output_type": "stream",
     "text": [
      "\n",
      "      Epoch    GPU_mem       loss  Instances       Size\n"
     ]
    },
    {
     "name": "stderr",
     "output_type": "stream",
     "text": [
      "     42/200      1.95G     0.1023         10        224: 100%|██████████| 75/75 [00:02<00:00, 30.85it/s]\n",
      "               classes   top1_acc   top5_acc: 100%|██████████| 6/6 [00:00<00:00, 80.12it/s]"
     ]
    },
    {
     "name": "stdout",
     "output_type": "stream",
     "text": [
      "                   all      0.842          1\n"
     ]
    },
    {
     "name": "stderr",
     "output_type": "stream",
     "text": [
      "\n"
     ]
    },
    {
     "name": "stdout",
     "output_type": "stream",
     "text": [
      "\n",
      "      Epoch    GPU_mem       loss  Instances       Size\n"
     ]
    },
    {
     "name": "stderr",
     "output_type": "stream",
     "text": [
      "     43/200      1.97G    0.08055         10        224: 100%|██████████| 75/75 [00:02<00:00, 31.88it/s]\n",
      "               classes   top1_acc   top5_acc: 100%|██████████| 6/6 [00:00<00:00, 98.71it/s]"
     ]
    },
    {
     "name": "stdout",
     "output_type": "stream",
     "text": [
      "                   all       0.83          1\n"
     ]
    },
    {
     "name": "stderr",
     "output_type": "stream",
     "text": [
      "\n"
     ]
    },
    {
     "name": "stdout",
     "output_type": "stream",
     "text": [
      "\n",
      "      Epoch    GPU_mem       loss  Instances       Size\n"
     ]
    },
    {
     "name": "stderr",
     "output_type": "stream",
     "text": [
      "     44/200      1.99G    0.09259         10        224: 100%|██████████| 75/75 [00:02<00:00, 31.91it/s]\n",
      "               classes   top1_acc   top5_acc: 100%|██████████| 6/6 [00:00<00:00, 96.39it/s]"
     ]
    },
    {
     "name": "stdout",
     "output_type": "stream",
     "text": [
      "                   all      0.871          1\n"
     ]
    },
    {
     "name": "stderr",
     "output_type": "stream",
     "text": [
      "\n"
     ]
    },
    {
     "name": "stdout",
     "output_type": "stream",
     "text": [
      "\n",
      "      Epoch    GPU_mem       loss  Instances       Size\n"
     ]
    },
    {
     "name": "stderr",
     "output_type": "stream",
     "text": [
      "     45/200      1.95G    0.08356         10        224: 100%|██████████| 75/75 [00:02<00:00, 32.57it/s]\n",
      "               classes   top1_acc   top5_acc: 100%|██████████| 6/6 [00:00<00:00, 96.67it/s]"
     ]
    },
    {
     "name": "stdout",
     "output_type": "stream",
     "text": [
      "                   all      0.871          1\n"
     ]
    },
    {
     "name": "stderr",
     "output_type": "stream",
     "text": [
      "\n"
     ]
    },
    {
     "name": "stdout",
     "output_type": "stream",
     "text": [
      "\n",
      "      Epoch    GPU_mem       loss  Instances       Size\n"
     ]
    },
    {
     "name": "stderr",
     "output_type": "stream",
     "text": [
      "     46/200      1.95G     0.1042         10        224: 100%|██████████| 75/75 [00:02<00:00, 31.13it/s]\n",
      "               classes   top1_acc   top5_acc: 100%|██████████| 6/6 [00:00<00:00, 95.66it/s]"
     ]
    },
    {
     "name": "stdout",
     "output_type": "stream",
     "text": [
      "                   all      0.836          1\n"
     ]
    },
    {
     "name": "stderr",
     "output_type": "stream",
     "text": [
      "\n"
     ]
    },
    {
     "name": "stdout",
     "output_type": "stream",
     "text": [
      "\n",
      "      Epoch    GPU_mem       loss  Instances       Size\n"
     ]
    },
    {
     "name": "stderr",
     "output_type": "stream",
     "text": [
      "     47/200      1.97G    0.07638         10        224: 100%|██████████| 75/75 [00:02<00:00, 31.43it/s]\n",
      "               classes   top1_acc   top5_acc: 100%|██████████| 6/6 [00:00<00:00, 95.30it/s]"
     ]
    },
    {
     "name": "stdout",
     "output_type": "stream",
     "text": [
      "                   all       0.86          1\n"
     ]
    },
    {
     "name": "stderr",
     "output_type": "stream",
     "text": [
      "\n"
     ]
    },
    {
     "name": "stdout",
     "output_type": "stream",
     "text": [
      "\n",
      "      Epoch    GPU_mem       loss  Instances       Size\n"
     ]
    },
    {
     "name": "stderr",
     "output_type": "stream",
     "text": [
      "     48/200      1.99G    0.07732         10        224: 100%|██████████| 75/75 [00:02<00:00, 30.51it/s]\n",
      "               classes   top1_acc   top5_acc: 100%|██████████| 6/6 [00:00<00:00, 97.27it/s]"
     ]
    },
    {
     "name": "stdout",
     "output_type": "stream",
     "text": [
      "                   all      0.895          1\n"
     ]
    },
    {
     "name": "stderr",
     "output_type": "stream",
     "text": [
      "\n"
     ]
    },
    {
     "name": "stdout",
     "output_type": "stream",
     "text": [
      "\n",
      "      Epoch    GPU_mem       loss  Instances       Size\n"
     ]
    },
    {
     "name": "stderr",
     "output_type": "stream",
     "text": [
      "     49/200      1.95G    0.06695         10        224: 100%|██████████| 75/75 [00:02<00:00, 30.89it/s]\n",
      "               classes   top1_acc   top5_acc: 100%|██████████| 6/6 [00:00<00:00, 91.19it/s]"
     ]
    },
    {
     "name": "stdout",
     "output_type": "stream",
     "text": [
      "                   all      0.865          1\n"
     ]
    },
    {
     "name": "stderr",
     "output_type": "stream",
     "text": [
      "\n"
     ]
    },
    {
     "name": "stdout",
     "output_type": "stream",
     "text": [
      "\n",
      "      Epoch    GPU_mem       loss  Instances       Size\n"
     ]
    },
    {
     "name": "stderr",
     "output_type": "stream",
     "text": [
      "     50/200      1.95G    0.06634         10        224: 100%|██████████| 75/75 [00:02<00:00, 31.40it/s]\n",
      "               classes   top1_acc   top5_acc: 100%|██████████| 6/6 [00:00<00:00, 95.68it/s]"
     ]
    },
    {
     "name": "stdout",
     "output_type": "stream",
     "text": [
      "                   all      0.883          1\n"
     ]
    },
    {
     "name": "stderr",
     "output_type": "stream",
     "text": [
      "\n"
     ]
    },
    {
     "name": "stdout",
     "output_type": "stream",
     "text": [
      "\n",
      "      Epoch    GPU_mem       loss  Instances       Size\n"
     ]
    },
    {
     "name": "stderr",
     "output_type": "stream",
     "text": [
      "     51/200      1.97G     0.0859         10        224: 100%|██████████| 75/75 [00:02<00:00, 31.26it/s]\n",
      "               classes   top1_acc   top5_acc: 100%|██████████| 6/6 [00:00<00:00, 87.71it/s]"
     ]
    },
    {
     "name": "stdout",
     "output_type": "stream",
     "text": [
      "                   all      0.871          1\n"
     ]
    },
    {
     "name": "stderr",
     "output_type": "stream",
     "text": [
      "\n"
     ]
    },
    {
     "name": "stdout",
     "output_type": "stream",
     "text": [
      "\n",
      "      Epoch    GPU_mem       loss  Instances       Size\n"
     ]
    },
    {
     "name": "stderr",
     "output_type": "stream",
     "text": [
      "     52/200      1.99G    0.06988         10        224: 100%|██████████| 75/75 [00:02<00:00, 31.11it/s]\n",
      "               classes   top1_acc   top5_acc: 100%|██████████| 6/6 [00:00<00:00, 97.28it/s]"
     ]
    },
    {
     "name": "stdout",
     "output_type": "stream",
     "text": [
      "                   all      0.848          1\n"
     ]
    },
    {
     "name": "stderr",
     "output_type": "stream",
     "text": [
      "\n"
     ]
    },
    {
     "name": "stdout",
     "output_type": "stream",
     "text": [
      "\n",
      "      Epoch    GPU_mem       loss  Instances       Size\n"
     ]
    },
    {
     "name": "stderr",
     "output_type": "stream",
     "text": [
      "     53/200      1.95G    0.08021         10        224: 100%|██████████| 75/75 [00:02<00:00, 32.46it/s]\n",
      "               classes   top1_acc   top5_acc: 100%|██████████| 6/6 [00:00<00:00, 97.32it/s]"
     ]
    },
    {
     "name": "stdout",
     "output_type": "stream",
     "text": [
      "                   all      0.848          1\n"
     ]
    },
    {
     "name": "stderr",
     "output_type": "stream",
     "text": [
      "\n"
     ]
    },
    {
     "name": "stdout",
     "output_type": "stream",
     "text": [
      "\n",
      "      Epoch    GPU_mem       loss  Instances       Size\n"
     ]
    },
    {
     "name": "stderr",
     "output_type": "stream",
     "text": [
      "     54/200      1.95G    0.06729         10        224: 100%|██████████| 75/75 [00:02<00:00, 31.90it/s]\n",
      "               classes   top1_acc   top5_acc: 100%|██████████| 6/6 [00:00<00:00, 87.77it/s]"
     ]
    },
    {
     "name": "stdout",
     "output_type": "stream",
     "text": [
      "                   all      0.836          1\n"
     ]
    },
    {
     "name": "stderr",
     "output_type": "stream",
     "text": [
      "\n"
     ]
    },
    {
     "name": "stdout",
     "output_type": "stream",
     "text": [
      "\n",
      "      Epoch    GPU_mem       loss  Instances       Size\n"
     ]
    },
    {
     "name": "stderr",
     "output_type": "stream",
     "text": [
      "     55/200      1.97G    0.05048         10        224: 100%|██████████| 75/75 [00:02<00:00, 31.16it/s]\n",
      "               classes   top1_acc   top5_acc: 100%|██████████| 6/6 [00:00<00:00, 97.66it/s]"
     ]
    },
    {
     "name": "stdout",
     "output_type": "stream",
     "text": [
      "                   all      0.871          1\n"
     ]
    },
    {
     "name": "stderr",
     "output_type": "stream",
     "text": [
      "\n"
     ]
    },
    {
     "name": "stdout",
     "output_type": "stream",
     "text": [
      "\n",
      "      Epoch    GPU_mem       loss  Instances       Size\n"
     ]
    },
    {
     "name": "stderr",
     "output_type": "stream",
     "text": [
      "     56/200      1.99G    0.07878         10        224: 100%|██████████| 75/75 [00:02<00:00, 31.08it/s]\n",
      "               classes   top1_acc   top5_acc: 100%|██████████| 6/6 [00:00<00:00, 98.42it/s]"
     ]
    },
    {
     "name": "stdout",
     "output_type": "stream",
     "text": [
      "                   all      0.854          1\n"
     ]
    },
    {
     "name": "stderr",
     "output_type": "stream",
     "text": [
      "\n"
     ]
    },
    {
     "name": "stdout",
     "output_type": "stream",
     "text": [
      "\n",
      "      Epoch    GPU_mem       loss  Instances       Size\n"
     ]
    },
    {
     "name": "stderr",
     "output_type": "stream",
     "text": [
      "     57/200      1.95G    0.07236         10        224: 100%|██████████| 75/75 [00:02<00:00, 31.08it/s]\n",
      "               classes   top1_acc   top5_acc: 100%|██████████| 6/6 [00:00<00:00, 94.99it/s]"
     ]
    },
    {
     "name": "stdout",
     "output_type": "stream",
     "text": [
      "                   all      0.854          1\n"
     ]
    },
    {
     "name": "stderr",
     "output_type": "stream",
     "text": [
      "\n"
     ]
    },
    {
     "name": "stdout",
     "output_type": "stream",
     "text": [
      "\n",
      "      Epoch    GPU_mem       loss  Instances       Size\n"
     ]
    },
    {
     "name": "stderr",
     "output_type": "stream",
     "text": [
      "     58/200      1.95G    0.05855         10        224: 100%|██████████| 75/75 [00:02<00:00, 31.36it/s]\n",
      "               classes   top1_acc   top5_acc: 100%|██████████| 6/6 [00:00<00:00, 97.13it/s]"
     ]
    },
    {
     "name": "stdout",
     "output_type": "stream",
     "text": [
      "                   all       0.86          1\n"
     ]
    },
    {
     "name": "stderr",
     "output_type": "stream",
     "text": [
      "\n"
     ]
    },
    {
     "name": "stdout",
     "output_type": "stream",
     "text": [
      "\n",
      "      Epoch    GPU_mem       loss  Instances       Size\n"
     ]
    },
    {
     "name": "stderr",
     "output_type": "stream",
     "text": [
      "     59/200      1.97G    0.09358         10        224: 100%|██████████| 75/75 [00:02<00:00, 31.13it/s]\n",
      "               classes   top1_acc   top5_acc: 100%|██████████| 6/6 [00:00<00:00, 98.08it/s]"
     ]
    },
    {
     "name": "stdout",
     "output_type": "stream",
     "text": [
      "                   all      0.813          1\n"
     ]
    },
    {
     "name": "stderr",
     "output_type": "stream",
     "text": [
      "\n"
     ]
    },
    {
     "name": "stdout",
     "output_type": "stream",
     "text": [
      "\n",
      "      Epoch    GPU_mem       loss  Instances       Size\n"
     ]
    },
    {
     "name": "stderr",
     "output_type": "stream",
     "text": [
      "     60/200      1.99G    0.06582         10        224: 100%|██████████| 75/75 [00:02<00:00, 30.96it/s]\n",
      "               classes   top1_acc   top5_acc: 100%|██████████| 6/6 [00:00<00:00, 96.96it/s]"
     ]
    },
    {
     "name": "stdout",
     "output_type": "stream",
     "text": [
      "                   all       0.83          1\n"
     ]
    },
    {
     "name": "stderr",
     "output_type": "stream",
     "text": [
      "\n"
     ]
    },
    {
     "name": "stdout",
     "output_type": "stream",
     "text": [
      "\n",
      "      Epoch    GPU_mem       loss  Instances       Size\n"
     ]
    },
    {
     "name": "stderr",
     "output_type": "stream",
     "text": [
      "     61/200      1.95G    0.04689         10        224: 100%|██████████| 75/75 [00:02<00:00, 31.12it/s]\n",
      "               classes   top1_acc   top5_acc: 100%|██████████| 6/6 [00:00<00:00, 95.04it/s]"
     ]
    },
    {
     "name": "stdout",
     "output_type": "stream",
     "text": [
      "                   all      0.842          1\n"
     ]
    },
    {
     "name": "stderr",
     "output_type": "stream",
     "text": [
      "\n"
     ]
    },
    {
     "name": "stdout",
     "output_type": "stream",
     "text": [
      "\n",
      "      Epoch    GPU_mem       loss  Instances       Size\n"
     ]
    },
    {
     "name": "stderr",
     "output_type": "stream",
     "text": [
      "     62/200      1.95G    0.08461         10        224: 100%|██████████| 75/75 [00:02<00:00, 31.28it/s]\n",
      "               classes   top1_acc   top5_acc: 100%|██████████| 6/6 [00:00<00:00, 94.92it/s]"
     ]
    },
    {
     "name": "stdout",
     "output_type": "stream",
     "text": [
      "                   all      0.813          1\n"
     ]
    },
    {
     "name": "stderr",
     "output_type": "stream",
     "text": [
      "\n"
     ]
    },
    {
     "name": "stdout",
     "output_type": "stream",
     "text": [
      "\n",
      "      Epoch    GPU_mem       loss  Instances       Size\n"
     ]
    },
    {
     "name": "stderr",
     "output_type": "stream",
     "text": [
      "     63/200      1.97G    0.08446         10        224: 100%|██████████| 75/75 [00:02<00:00, 30.89it/s]\n",
      "               classes   top1_acc   top5_acc: 100%|██████████| 6/6 [00:00<00:00, 86.25it/s]"
     ]
    },
    {
     "name": "stdout",
     "output_type": "stream",
     "text": [
      "                   all      0.842          1\n"
     ]
    },
    {
     "name": "stderr",
     "output_type": "stream",
     "text": [
      "\n"
     ]
    },
    {
     "name": "stdout",
     "output_type": "stream",
     "text": [
      "\n",
      "      Epoch    GPU_mem       loss  Instances       Size\n"
     ]
    },
    {
     "name": "stderr",
     "output_type": "stream",
     "text": [
      "     64/200      1.99G    0.08955         10        224: 100%|██████████| 75/75 [00:02<00:00, 31.12it/s]\n",
      "               classes   top1_acc   top5_acc: 100%|██████████| 6/6 [00:00<00:00, 96.24it/s]"
     ]
    },
    {
     "name": "stdout",
     "output_type": "stream",
     "text": [
      "                   all      0.813          1\n"
     ]
    },
    {
     "name": "stderr",
     "output_type": "stream",
     "text": [
      "\n"
     ]
    },
    {
     "name": "stdout",
     "output_type": "stream",
     "text": [
      "\n",
      "      Epoch    GPU_mem       loss  Instances       Size\n"
     ]
    },
    {
     "name": "stderr",
     "output_type": "stream",
     "text": [
      "     65/200      1.95G    0.07642         10        224: 100%|██████████| 75/75 [00:02<00:00, 30.97it/s]\n",
      "               classes   top1_acc   top5_acc: 100%|██████████| 6/6 [00:00<00:00, 95.06it/s]\n"
     ]
    },
    {
     "name": "stdout",
     "output_type": "stream",
     "text": [
      "                   all      0.854          1\n",
      "\n",
      "      Epoch    GPU_mem       loss  Instances       Size\n"
     ]
    },
    {
     "name": "stderr",
     "output_type": "stream",
     "text": [
      "     66/200      1.95G    0.05114         10        224: 100%|██████████| 75/75 [00:02<00:00, 28.88it/s]\n",
      "               classes   top1_acc   top5_acc: 100%|██████████| 6/6 [00:00<00:00, 80.05it/s]"
     ]
    },
    {
     "name": "stdout",
     "output_type": "stream",
     "text": [
      "                   all       0.86          1\n"
     ]
    },
    {
     "name": "stderr",
     "output_type": "stream",
     "text": [
      "\n"
     ]
    },
    {
     "name": "stdout",
     "output_type": "stream",
     "text": [
      "\n",
      "      Epoch    GPU_mem       loss  Instances       Size\n"
     ]
    },
    {
     "name": "stderr",
     "output_type": "stream",
     "text": [
      "     67/200      1.97G     0.0542         10        224: 100%|██████████| 75/75 [00:02<00:00, 33.59it/s]\n",
      "               classes   top1_acc   top5_acc: 100%|██████████| 6/6 [00:00<00:00, 96.86it/s]"
     ]
    },
    {
     "name": "stdout",
     "output_type": "stream",
     "text": [
      "                   all       0.86          1\n"
     ]
    },
    {
     "name": "stderr",
     "output_type": "stream",
     "text": [
      "\n"
     ]
    },
    {
     "name": "stdout",
     "output_type": "stream",
     "text": [
      "\n",
      "      Epoch    GPU_mem       loss  Instances       Size\n"
     ]
    },
    {
     "name": "stderr",
     "output_type": "stream",
     "text": [
      "     68/200      1.99G    0.06736         10        224: 100%|██████████| 75/75 [00:02<00:00, 33.11it/s]\n",
      "               classes   top1_acc   top5_acc: 100%|██████████| 6/6 [00:00<00:00, 94.09it/s]"
     ]
    },
    {
     "name": "stdout",
     "output_type": "stream",
     "text": [
      "                   all      0.842          1\n"
     ]
    },
    {
     "name": "stderr",
     "output_type": "stream",
     "text": [
      "\n"
     ]
    },
    {
     "name": "stdout",
     "output_type": "stream",
     "text": [
      "\n",
      "      Epoch    GPU_mem       loss  Instances       Size\n"
     ]
    },
    {
     "name": "stderr",
     "output_type": "stream",
     "text": [
      "     69/200      1.95G    0.07959         10        224: 100%|██████████| 75/75 [00:02<00:00, 31.17it/s]\n",
      "               classes   top1_acc   top5_acc: 100%|██████████| 6/6 [00:00<00:00, 95.74it/s]"
     ]
    },
    {
     "name": "stdout",
     "output_type": "stream",
     "text": [
      "                   all      0.854          1\n"
     ]
    },
    {
     "name": "stderr",
     "output_type": "stream",
     "text": [
      "\n"
     ]
    },
    {
     "name": "stdout",
     "output_type": "stream",
     "text": [
      "\n",
      "      Epoch    GPU_mem       loss  Instances       Size\n"
     ]
    },
    {
     "name": "stderr",
     "output_type": "stream",
     "text": [
      "     70/200      1.95G    0.06161         10        224: 100%|██████████| 75/75 [00:02<00:00, 32.46it/s]\n",
      "               classes   top1_acc   top5_acc: 100%|██████████| 6/6 [00:00<00:00, 95.78it/s]"
     ]
    },
    {
     "name": "stdout",
     "output_type": "stream",
     "text": [
      "                   all      0.848          1\n"
     ]
    },
    {
     "name": "stderr",
     "output_type": "stream",
     "text": [
      "\n"
     ]
    },
    {
     "name": "stdout",
     "output_type": "stream",
     "text": [
      "\n",
      "      Epoch    GPU_mem       loss  Instances       Size\n"
     ]
    },
    {
     "name": "stderr",
     "output_type": "stream",
     "text": [
      "     71/200      1.97G    0.05772         10        224: 100%|██████████| 75/75 [00:02<00:00, 31.89it/s]\n",
      "               classes   top1_acc   top5_acc: 100%|██████████| 6/6 [00:00<00:00, 90.57it/s]"
     ]
    },
    {
     "name": "stdout",
     "output_type": "stream",
     "text": [
      "                   all      0.854          1\n"
     ]
    },
    {
     "name": "stderr",
     "output_type": "stream",
     "text": [
      "\n"
     ]
    },
    {
     "name": "stdout",
     "output_type": "stream",
     "text": [
      "\n",
      "      Epoch    GPU_mem       loss  Instances       Size\n"
     ]
    },
    {
     "name": "stderr",
     "output_type": "stream",
     "text": [
      "     72/200      1.99G    0.07072         10        224: 100%|██████████| 75/75 [00:02<00:00, 31.17it/s]\n",
      "               classes   top1_acc   top5_acc: 100%|██████████| 6/6 [00:00<00:00, 97.11it/s]"
     ]
    },
    {
     "name": "stdout",
     "output_type": "stream",
     "text": [
      "                   all      0.848          1\n"
     ]
    },
    {
     "name": "stderr",
     "output_type": "stream",
     "text": [
      "\n"
     ]
    },
    {
     "name": "stdout",
     "output_type": "stream",
     "text": [
      "\n",
      "      Epoch    GPU_mem       loss  Instances       Size\n"
     ]
    },
    {
     "name": "stderr",
     "output_type": "stream",
     "text": [
      "     73/200      1.95G    0.06732         10        224: 100%|██████████| 75/75 [00:02<00:00, 31.84it/s]\n",
      "               classes   top1_acc   top5_acc: 100%|██████████| 6/6 [00:00<00:00, 85.54it/s]"
     ]
    },
    {
     "name": "stdout",
     "output_type": "stream",
     "text": [
      "                   all      0.842          1\n"
     ]
    },
    {
     "name": "stderr",
     "output_type": "stream",
     "text": [
      "\n"
     ]
    },
    {
     "name": "stdout",
     "output_type": "stream",
     "text": [
      "\n",
      "      Epoch    GPU_mem       loss  Instances       Size\n"
     ]
    },
    {
     "name": "stderr",
     "output_type": "stream",
     "text": [
      "     74/200      1.95G    0.05017         10        224: 100%|██████████| 75/75 [00:02<00:00, 31.53it/s]\n",
      "               classes   top1_acc   top5_acc: 100%|██████████| 6/6 [00:00<00:00, 95.10it/s]"
     ]
    },
    {
     "name": "stdout",
     "output_type": "stream",
     "text": [
      "                   all      0.842          1\n"
     ]
    },
    {
     "name": "stderr",
     "output_type": "stream",
     "text": [
      "\n"
     ]
    },
    {
     "name": "stdout",
     "output_type": "stream",
     "text": [
      "\n",
      "      Epoch    GPU_mem       loss  Instances       Size\n"
     ]
    },
    {
     "name": "stderr",
     "output_type": "stream",
     "text": [
      "     75/200      1.97G    0.04699         10        224: 100%|██████████| 75/75 [00:02<00:00, 30.82it/s]\n",
      "               classes   top1_acc   top5_acc: 100%|██████████| 6/6 [00:00<00:00, 91.90it/s]"
     ]
    },
    {
     "name": "stdout",
     "output_type": "stream",
     "text": [
      "                   all      0.842          1\n"
     ]
    },
    {
     "name": "stderr",
     "output_type": "stream",
     "text": [
      "\n"
     ]
    },
    {
     "name": "stdout",
     "output_type": "stream",
     "text": [
      "\n",
      "      Epoch    GPU_mem       loss  Instances       Size\n"
     ]
    },
    {
     "name": "stderr",
     "output_type": "stream",
     "text": [
      "     76/200      1.99G    0.04886         10        224: 100%|██████████| 75/75 [00:02<00:00, 31.16it/s]\n",
      "               classes   top1_acc   top5_acc: 100%|██████████| 6/6 [00:00<00:00, 97.10it/s]"
     ]
    },
    {
     "name": "stdout",
     "output_type": "stream",
     "text": [
      "                   all      0.836          1\n"
     ]
    },
    {
     "name": "stderr",
     "output_type": "stream",
     "text": [
      "\n"
     ]
    },
    {
     "name": "stdout",
     "output_type": "stream",
     "text": [
      "\n",
      "      Epoch    GPU_mem       loss  Instances       Size\n"
     ]
    },
    {
     "name": "stderr",
     "output_type": "stream",
     "text": [
      "     77/200      1.95G     0.0484         10        224: 100%|██████████| 75/75 [00:02<00:00, 32.22it/s]\n",
      "               classes   top1_acc   top5_acc: 100%|██████████| 6/6 [00:00<00:00, 98.98it/s]"
     ]
    },
    {
     "name": "stdout",
     "output_type": "stream",
     "text": [
      "                   all      0.877          1\n"
     ]
    },
    {
     "name": "stderr",
     "output_type": "stream",
     "text": [
      "\n"
     ]
    },
    {
     "name": "stdout",
     "output_type": "stream",
     "text": [
      "\n",
      "      Epoch    GPU_mem       loss  Instances       Size\n"
     ]
    },
    {
     "name": "stderr",
     "output_type": "stream",
     "text": [
      "     78/200      1.95G    0.04705         10        224: 100%|██████████| 75/75 [00:02<00:00, 32.12it/s]\n",
      "               classes   top1_acc   top5_acc: 100%|██████████| 6/6 [00:00<00:00, 92.23it/s]"
     ]
    },
    {
     "name": "stdout",
     "output_type": "stream",
     "text": [
      "                   all      0.871          1\n"
     ]
    },
    {
     "name": "stderr",
     "output_type": "stream",
     "text": [
      "\n"
     ]
    },
    {
     "name": "stdout",
     "output_type": "stream",
     "text": [
      "\n",
      "      Epoch    GPU_mem       loss  Instances       Size\n"
     ]
    },
    {
     "name": "stderr",
     "output_type": "stream",
     "text": [
      "     79/200      1.97G    0.03765         10        224: 100%|██████████| 75/75 [00:02<00:00, 31.09it/s]\n",
      "               classes   top1_acc   top5_acc: 100%|██████████| 6/6 [00:00<00:00, 96.48it/s]"
     ]
    },
    {
     "name": "stdout",
     "output_type": "stream",
     "text": [
      "                   all      0.819          1\n"
     ]
    },
    {
     "name": "stderr",
     "output_type": "stream",
     "text": [
      "\n"
     ]
    },
    {
     "name": "stdout",
     "output_type": "stream",
     "text": [
      "\n",
      "      Epoch    GPU_mem       loss  Instances       Size\n"
     ]
    },
    {
     "name": "stderr",
     "output_type": "stream",
     "text": [
      "     80/200      1.99G    0.04732         10        224: 100%|██████████| 75/75 [00:02<00:00, 31.11it/s]\n",
      "               classes   top1_acc   top5_acc: 100%|██████████| 6/6 [00:00<00:00, 95.01it/s]"
     ]
    },
    {
     "name": "stdout",
     "output_type": "stream",
     "text": [
      "                   all      0.836          1\n"
     ]
    },
    {
     "name": "stderr",
     "output_type": "stream",
     "text": [
      "\n"
     ]
    },
    {
     "name": "stdout",
     "output_type": "stream",
     "text": [
      "\n",
      "      Epoch    GPU_mem       loss  Instances       Size\n"
     ]
    },
    {
     "name": "stderr",
     "output_type": "stream",
     "text": [
      "     81/200      1.95G    0.03029         10        224: 100%|██████████| 75/75 [00:02<00:00, 30.59it/s]\n",
      "               classes   top1_acc   top5_acc: 100%|██████████| 6/6 [00:00<00:00, 95.37it/s]"
     ]
    },
    {
     "name": "stdout",
     "output_type": "stream",
     "text": [
      "                   all       0.83          1\n"
     ]
    },
    {
     "name": "stderr",
     "output_type": "stream",
     "text": [
      "\n"
     ]
    },
    {
     "name": "stdout",
     "output_type": "stream",
     "text": [
      "\n",
      "      Epoch    GPU_mem       loss  Instances       Size\n"
     ]
    },
    {
     "name": "stderr",
     "output_type": "stream",
     "text": [
      "     82/200      1.95G    0.02793         10        224: 100%|██████████| 75/75 [00:02<00:00, 29.48it/s]\n",
      "               classes   top1_acc   top5_acc: 100%|██████████| 6/6 [00:00<00:00, 94.47it/s]"
     ]
    },
    {
     "name": "stdout",
     "output_type": "stream",
     "text": [
      "                   all       0.83          1\n"
     ]
    },
    {
     "name": "stderr",
     "output_type": "stream",
     "text": [
      "\n"
     ]
    },
    {
     "name": "stdout",
     "output_type": "stream",
     "text": [
      "\n",
      "      Epoch    GPU_mem       loss  Instances       Size\n"
     ]
    },
    {
     "name": "stderr",
     "output_type": "stream",
     "text": [
      "     83/200      1.97G    0.04322         10        224: 100%|██████████| 75/75 [00:02<00:00, 31.25it/s]\n",
      "               classes   top1_acc   top5_acc: 100%|██████████| 6/6 [00:00<00:00, 98.84it/s]"
     ]
    },
    {
     "name": "stdout",
     "output_type": "stream",
     "text": [
      "                   all      0.842          1\n"
     ]
    },
    {
     "name": "stderr",
     "output_type": "stream",
     "text": [
      "\n"
     ]
    },
    {
     "name": "stdout",
     "output_type": "stream",
     "text": [
      "\n",
      "      Epoch    GPU_mem       loss  Instances       Size\n"
     ]
    },
    {
     "name": "stderr",
     "output_type": "stream",
     "text": [
      "     84/200      1.99G    0.04319         10        224: 100%|██████████| 75/75 [00:02<00:00, 32.91it/s]\n",
      "               classes   top1_acc   top5_acc: 100%|██████████| 6/6 [00:00<00:00, 97.72it/s]"
     ]
    },
    {
     "name": "stdout",
     "output_type": "stream",
     "text": [
      "                   all      0.836          1\n"
     ]
    },
    {
     "name": "stderr",
     "output_type": "stream",
     "text": [
      "\n"
     ]
    },
    {
     "name": "stdout",
     "output_type": "stream",
     "text": [
      "\n",
      "      Epoch    GPU_mem       loss  Instances       Size\n"
     ]
    },
    {
     "name": "stderr",
     "output_type": "stream",
     "text": [
      "     85/200      1.95G    0.05081         10        224: 100%|██████████| 75/75 [00:02<00:00, 31.85it/s]\n",
      "               classes   top1_acc   top5_acc: 100%|██████████| 6/6 [00:00<00:00, 95.51it/s]"
     ]
    },
    {
     "name": "stdout",
     "output_type": "stream",
     "text": [
      "                   all      0.865          1\n"
     ]
    },
    {
     "name": "stderr",
     "output_type": "stream",
     "text": [
      "\n"
     ]
    },
    {
     "name": "stdout",
     "output_type": "stream",
     "text": [
      "\n",
      "      Epoch    GPU_mem       loss  Instances       Size\n"
     ]
    },
    {
     "name": "stderr",
     "output_type": "stream",
     "text": [
      "     86/200      1.95G    0.03947         10        224: 100%|██████████| 75/75 [00:02<00:00, 31.67it/s]\n",
      "               classes   top1_acc   top5_acc: 100%|██████████| 6/6 [00:00<00:00, 95.17it/s]"
     ]
    },
    {
     "name": "stdout",
     "output_type": "stream",
     "text": [
      "                   all      0.854          1\n"
     ]
    },
    {
     "name": "stderr",
     "output_type": "stream",
     "text": [
      "\n"
     ]
    },
    {
     "name": "stdout",
     "output_type": "stream",
     "text": [
      "\n",
      "      Epoch    GPU_mem       loss  Instances       Size\n"
     ]
    },
    {
     "name": "stderr",
     "output_type": "stream",
     "text": [
      "     87/200      1.97G    0.04025         10        224: 100%|██████████| 75/75 [00:02<00:00, 31.66it/s]\n",
      "               classes   top1_acc   top5_acc: 100%|██████████| 6/6 [00:00<00:00, 94.03it/s]"
     ]
    },
    {
     "name": "stdout",
     "output_type": "stream",
     "text": [
      "                   all      0.854          1\n"
     ]
    },
    {
     "name": "stderr",
     "output_type": "stream",
     "text": [
      "\n"
     ]
    },
    {
     "name": "stdout",
     "output_type": "stream",
     "text": [
      "\n",
      "      Epoch    GPU_mem       loss  Instances       Size\n"
     ]
    },
    {
     "name": "stderr",
     "output_type": "stream",
     "text": [
      "     88/200      1.99G    0.04398         10        224: 100%|██████████| 75/75 [00:02<00:00, 31.56it/s]\n",
      "               classes   top1_acc   top5_acc: 100%|██████████| 6/6 [00:00<00:00, 94.80it/s]"
     ]
    },
    {
     "name": "stdout",
     "output_type": "stream",
     "text": [
      "                   all      0.854          1\n"
     ]
    },
    {
     "name": "stderr",
     "output_type": "stream",
     "text": [
      "\n"
     ]
    },
    {
     "name": "stdout",
     "output_type": "stream",
     "text": [
      "\n",
      "      Epoch    GPU_mem       loss  Instances       Size\n"
     ]
    },
    {
     "name": "stderr",
     "output_type": "stream",
     "text": [
      "     89/200      1.95G    0.02667         10        224: 100%|██████████| 75/75 [00:02<00:00, 30.05it/s]\n",
      "               classes   top1_acc   top5_acc: 100%|██████████| 6/6 [00:00<00:00, 98.82it/s]"
     ]
    },
    {
     "name": "stdout",
     "output_type": "stream",
     "text": [
      "                   all      0.865          1\n"
     ]
    },
    {
     "name": "stderr",
     "output_type": "stream",
     "text": [
      "\n"
     ]
    },
    {
     "name": "stdout",
     "output_type": "stream",
     "text": [
      "\n",
      "      Epoch    GPU_mem       loss  Instances       Size\n"
     ]
    },
    {
     "name": "stderr",
     "output_type": "stream",
     "text": [
      "     90/200      1.95G    0.03472         10        224: 100%|██████████| 75/75 [00:02<00:00, 30.90it/s]\n",
      "               classes   top1_acc   top5_acc: 100%|██████████| 6/6 [00:00<00:00, 94.58it/s]"
     ]
    },
    {
     "name": "stdout",
     "output_type": "stream",
     "text": [
      "                   all       0.86          1\n"
     ]
    },
    {
     "name": "stderr",
     "output_type": "stream",
     "text": [
      "\n"
     ]
    },
    {
     "name": "stdout",
     "output_type": "stream",
     "text": [
      "\n",
      "      Epoch    GPU_mem       loss  Instances       Size\n"
     ]
    },
    {
     "name": "stderr",
     "output_type": "stream",
     "text": [
      "     91/200      1.97G    0.05345         10        224: 100%|██████████| 75/75 [00:02<00:00, 31.20it/s]\n",
      "               classes   top1_acc   top5_acc: 100%|██████████| 6/6 [00:00<00:00, 96.74it/s]"
     ]
    },
    {
     "name": "stdout",
     "output_type": "stream",
     "text": [
      "                   all       0.83          1\n"
     ]
    },
    {
     "name": "stderr",
     "output_type": "stream",
     "text": [
      "\n"
     ]
    },
    {
     "name": "stdout",
     "output_type": "stream",
     "text": [
      "\n",
      "      Epoch    GPU_mem       loss  Instances       Size\n"
     ]
    },
    {
     "name": "stderr",
     "output_type": "stream",
     "text": [
      "     92/200      1.99G    0.04548         10        224: 100%|██████████| 75/75 [00:02<00:00, 31.20it/s]\n",
      "               classes   top1_acc   top5_acc: 100%|██████████| 6/6 [00:00<00:00, 97.36it/s]"
     ]
    },
    {
     "name": "stdout",
     "output_type": "stream",
     "text": [
      "                   all      0.848          1\n"
     ]
    },
    {
     "name": "stderr",
     "output_type": "stream",
     "text": [
      "\n"
     ]
    },
    {
     "name": "stdout",
     "output_type": "stream",
     "text": [
      "\n",
      "      Epoch    GPU_mem       loss  Instances       Size\n"
     ]
    },
    {
     "name": "stderr",
     "output_type": "stream",
     "text": [
      "     93/200      1.95G    0.03511         10        224: 100%|██████████| 75/75 [00:02<00:00, 31.14it/s]\n",
      "               classes   top1_acc   top5_acc: 100%|██████████| 6/6 [00:00<00:00, 88.58it/s]"
     ]
    },
    {
     "name": "stdout",
     "output_type": "stream",
     "text": [
      "                   all      0.842          1\n"
     ]
    },
    {
     "name": "stderr",
     "output_type": "stream",
     "text": [
      "\n"
     ]
    },
    {
     "name": "stdout",
     "output_type": "stream",
     "text": [
      "\n",
      "      Epoch    GPU_mem       loss  Instances       Size\n"
     ]
    },
    {
     "name": "stderr",
     "output_type": "stream",
     "text": [
      "     94/200      1.95G    0.04009         10        224: 100%|██████████| 75/75 [00:02<00:00, 31.26it/s]\n",
      "               classes   top1_acc   top5_acc: 100%|██████████| 6/6 [00:00<00:00, 97.20it/s]"
     ]
    },
    {
     "name": "stdout",
     "output_type": "stream",
     "text": [
      "                   all      0.854          1\n"
     ]
    },
    {
     "name": "stderr",
     "output_type": "stream",
     "text": [
      "\n"
     ]
    },
    {
     "name": "stdout",
     "output_type": "stream",
     "text": [
      "\n",
      "      Epoch    GPU_mem       loss  Instances       Size\n"
     ]
    },
    {
     "name": "stderr",
     "output_type": "stream",
     "text": [
      "     95/200      1.97G    0.03851         10        224: 100%|██████████| 75/75 [00:02<00:00, 30.44it/s]\n",
      "               classes   top1_acc   top5_acc: 100%|██████████| 6/6 [00:00<00:00, 90.28it/s]"
     ]
    },
    {
     "name": "stdout",
     "output_type": "stream",
     "text": [
      "                   all      0.825          1\n"
     ]
    },
    {
     "name": "stderr",
     "output_type": "stream",
     "text": [
      "\n"
     ]
    },
    {
     "name": "stdout",
     "output_type": "stream",
     "text": [
      "\n",
      "      Epoch    GPU_mem       loss  Instances       Size\n"
     ]
    },
    {
     "name": "stderr",
     "output_type": "stream",
     "text": [
      "     96/200      1.99G    0.03753         10        224: 100%|██████████| 75/75 [00:02<00:00, 29.29it/s]\n",
      "               classes   top1_acc   top5_acc: 100%|██████████| 6/6 [00:00<00:00, 82.07it/s]"
     ]
    },
    {
     "name": "stdout",
     "output_type": "stream",
     "text": [
      "                   all      0.877          1\n"
     ]
    },
    {
     "name": "stderr",
     "output_type": "stream",
     "text": [
      "\n"
     ]
    },
    {
     "name": "stdout",
     "output_type": "stream",
     "text": [
      "\n",
      "      Epoch    GPU_mem       loss  Instances       Size\n"
     ]
    },
    {
     "name": "stderr",
     "output_type": "stream",
     "text": [
      "     97/200      1.95G    0.03329         10        224: 100%|██████████| 75/75 [00:02<00:00, 32.15it/s]\n",
      "               classes   top1_acc   top5_acc: 100%|██████████| 6/6 [00:00<00:00, 98.81it/s]"
     ]
    },
    {
     "name": "stdout",
     "output_type": "stream",
     "text": [
      "                   all      0.848          1\n"
     ]
    },
    {
     "name": "stderr",
     "output_type": "stream",
     "text": [
      "\n"
     ]
    },
    {
     "name": "stdout",
     "output_type": "stream",
     "text": [
      "\n",
      "      Epoch    GPU_mem       loss  Instances       Size\n"
     ]
    },
    {
     "name": "stderr",
     "output_type": "stream",
     "text": [
      "     98/200      1.95G     0.0392         10        224: 100%|██████████| 75/75 [00:02<00:00, 32.91it/s]\n",
      "               classes   top1_acc   top5_acc: 100%|██████████| 6/6 [00:00<00:00, 98.14it/s]"
     ]
    },
    {
     "name": "stdout",
     "output_type": "stream",
     "text": [
      "                   all       0.86          1\n"
     ]
    },
    {
     "name": "stderr",
     "output_type": "stream",
     "text": [
      "\n"
     ]
    },
    {
     "name": "stdout",
     "output_type": "stream",
     "text": [
      "\n",
      "      Epoch    GPU_mem       loss  Instances       Size\n"
     ]
    },
    {
     "name": "stderr",
     "output_type": "stream",
     "text": [
      "     99/200      1.97G    0.02563         10        224: 100%|██████████| 75/75 [00:02<00:00, 32.18it/s]\n",
      "               classes   top1_acc   top5_acc: 100%|██████████| 6/6 [00:00<00:00, 96.29it/s]"
     ]
    },
    {
     "name": "stdout",
     "output_type": "stream",
     "text": [
      "                   all      0.865          1\n"
     ]
    },
    {
     "name": "stderr",
     "output_type": "stream",
     "text": [
      "\n"
     ]
    },
    {
     "name": "stdout",
     "output_type": "stream",
     "text": [
      "\n",
      "      Epoch    GPU_mem       loss  Instances       Size\n"
     ]
    },
    {
     "name": "stderr",
     "output_type": "stream",
     "text": [
      "    100/200      1.99G    0.04736         10        224: 100%|██████████| 75/75 [00:02<00:00, 31.25it/s]\n",
      "               classes   top1_acc   top5_acc: 100%|██████████| 6/6 [00:00<00:00, 95.37it/s]"
     ]
    },
    {
     "name": "stdout",
     "output_type": "stream",
     "text": [
      "                   all      0.865          1\n"
     ]
    },
    {
     "name": "stderr",
     "output_type": "stream",
     "text": [
      "\n"
     ]
    },
    {
     "name": "stdout",
     "output_type": "stream",
     "text": [
      "\n",
      "      Epoch    GPU_mem       loss  Instances       Size\n"
     ]
    },
    {
     "name": "stderr",
     "output_type": "stream",
     "text": [
      "    101/200      1.95G     0.0701         10        224: 100%|██████████| 75/75 [00:02<00:00, 31.12it/s]\n",
      "               classes   top1_acc   top5_acc: 100%|██████████| 6/6 [00:00<00:00, 96.04it/s]"
     ]
    },
    {
     "name": "stdout",
     "output_type": "stream",
     "text": [
      "                   all      0.848          1\n"
     ]
    },
    {
     "name": "stderr",
     "output_type": "stream",
     "text": [
      "\n"
     ]
    },
    {
     "name": "stdout",
     "output_type": "stream",
     "text": [
      "\n",
      "      Epoch    GPU_mem       loss  Instances       Size\n"
     ]
    },
    {
     "name": "stderr",
     "output_type": "stream",
     "text": [
      "    102/200      1.95G    0.03157         10        224: 100%|██████████| 75/75 [00:02<00:00, 31.06it/s]\n",
      "               classes   top1_acc   top5_acc: 100%|██████████| 6/6 [00:00<00:00, 95.68it/s]"
     ]
    },
    {
     "name": "stdout",
     "output_type": "stream",
     "text": [
      "                   all      0.883          1\n"
     ]
    },
    {
     "name": "stderr",
     "output_type": "stream",
     "text": [
      "\n"
     ]
    },
    {
     "name": "stdout",
     "output_type": "stream",
     "text": [
      "\n",
      "      Epoch    GPU_mem       loss  Instances       Size\n"
     ]
    },
    {
     "name": "stderr",
     "output_type": "stream",
     "text": [
      "    103/200      1.97G    0.02972         10        224: 100%|██████████| 75/75 [00:02<00:00, 32.03it/s]\n",
      "               classes   top1_acc   top5_acc: 100%|██████████| 6/6 [00:00<00:00, 96.04it/s]"
     ]
    },
    {
     "name": "stdout",
     "output_type": "stream",
     "text": [
      "                   all      0.854          1\n"
     ]
    },
    {
     "name": "stderr",
     "output_type": "stream",
     "text": [
      "\n"
     ]
    },
    {
     "name": "stdout",
     "output_type": "stream",
     "text": [
      "\n",
      "      Epoch    GPU_mem       loss  Instances       Size\n"
     ]
    },
    {
     "name": "stderr",
     "output_type": "stream",
     "text": [
      "    104/200      1.99G    0.03614         10        224: 100%|██████████| 75/75 [00:02<00:00, 32.06it/s]\n",
      "               classes   top1_acc   top5_acc: 100%|██████████| 6/6 [00:00<00:00, 97.07it/s]"
     ]
    },
    {
     "name": "stdout",
     "output_type": "stream",
     "text": [
      "                   all      0.871          1\n"
     ]
    },
    {
     "name": "stderr",
     "output_type": "stream",
     "text": [
      "\n"
     ]
    },
    {
     "name": "stdout",
     "output_type": "stream",
     "text": [
      "\n",
      "      Epoch    GPU_mem       loss  Instances       Size\n"
     ]
    },
    {
     "name": "stderr",
     "output_type": "stream",
     "text": [
      "    105/200      1.95G    0.04959         10        224: 100%|██████████| 75/75 [00:02<00:00, 32.07it/s]\n",
      "               classes   top1_acc   top5_acc: 100%|██████████| 6/6 [00:00<00:00, 95.03it/s]"
     ]
    },
    {
     "name": "stdout",
     "output_type": "stream",
     "text": [
      "                   all      0.842          1\n"
     ]
    },
    {
     "name": "stderr",
     "output_type": "stream",
     "text": [
      "\n"
     ]
    },
    {
     "name": "stdout",
     "output_type": "stream",
     "text": [
      "\n",
      "      Epoch    GPU_mem       loss  Instances       Size\n"
     ]
    },
    {
     "name": "stderr",
     "output_type": "stream",
     "text": [
      "    106/200      1.95G    0.03589         10        224: 100%|██████████| 75/75 [00:02<00:00, 32.36it/s]\n",
      "               classes   top1_acc   top5_acc: 100%|██████████| 6/6 [00:00<00:00, 95.14it/s]"
     ]
    },
    {
     "name": "stdout",
     "output_type": "stream",
     "text": [
      "                   all      0.848          1\n"
     ]
    },
    {
     "name": "stderr",
     "output_type": "stream",
     "text": [
      "\n"
     ]
    },
    {
     "name": "stdout",
     "output_type": "stream",
     "text": [
      "\n",
      "      Epoch    GPU_mem       loss  Instances       Size\n"
     ]
    },
    {
     "name": "stderr",
     "output_type": "stream",
     "text": [
      "    107/200      1.97G    0.04568         10        224: 100%|██████████| 75/75 [00:02<00:00, 31.23it/s]\n",
      "               classes   top1_acc   top5_acc: 100%|██████████| 6/6 [00:00<00:00, 91.06it/s]"
     ]
    },
    {
     "name": "stdout",
     "output_type": "stream",
     "text": [
      "                   all       0.86          1\n"
     ]
    },
    {
     "name": "stderr",
     "output_type": "stream",
     "text": [
      "\n"
     ]
    },
    {
     "name": "stdout",
     "output_type": "stream",
     "text": [
      "\n",
      "      Epoch    GPU_mem       loss  Instances       Size\n"
     ]
    },
    {
     "name": "stderr",
     "output_type": "stream",
     "text": [
      "    108/200      1.99G    0.04411         10        224: 100%|██████████| 75/75 [00:02<00:00, 32.36it/s]\n",
      "               classes   top1_acc   top5_acc: 100%|██████████| 6/6 [00:00<00:00, 97.04it/s]"
     ]
    },
    {
     "name": "stdout",
     "output_type": "stream",
     "text": [
      "                   all      0.854          1\n"
     ]
    },
    {
     "name": "stderr",
     "output_type": "stream",
     "text": [
      "\n"
     ]
    },
    {
     "name": "stdout",
     "output_type": "stream",
     "text": [
      "\n",
      "      Epoch    GPU_mem       loss  Instances       Size\n"
     ]
    },
    {
     "name": "stderr",
     "output_type": "stream",
     "text": [
      "    109/200      1.95G     0.0259         10        224: 100%|██████████| 75/75 [00:02<00:00, 31.96it/s]\n",
      "               classes   top1_acc   top5_acc: 100%|██████████| 6/6 [00:00<00:00, 93.54it/s]"
     ]
    },
    {
     "name": "stdout",
     "output_type": "stream",
     "text": [
      "                   all      0.871          1\n"
     ]
    },
    {
     "name": "stderr",
     "output_type": "stream",
     "text": [
      "\n"
     ]
    },
    {
     "name": "stdout",
     "output_type": "stream",
     "text": [
      "\n",
      "      Epoch    GPU_mem       loss  Instances       Size\n"
     ]
    },
    {
     "name": "stderr",
     "output_type": "stream",
     "text": [
      "    110/200      1.95G    0.03324         10        224: 100%|██████████| 75/75 [00:02<00:00, 31.57it/s]\n",
      "               classes   top1_acc   top5_acc: 100%|██████████| 6/6 [00:00<00:00, 92.23it/s]"
     ]
    },
    {
     "name": "stdout",
     "output_type": "stream",
     "text": [
      "                   all      0.848          1\n"
     ]
    },
    {
     "name": "stderr",
     "output_type": "stream",
     "text": [
      "\n"
     ]
    },
    {
     "name": "stdout",
     "output_type": "stream",
     "text": [
      "\n",
      "      Epoch    GPU_mem       loss  Instances       Size\n"
     ]
    },
    {
     "name": "stderr",
     "output_type": "stream",
     "text": [
      "    111/200      1.97G    0.03649         10        224: 100%|██████████| 75/75 [00:02<00:00, 31.18it/s]\n",
      "               classes   top1_acc   top5_acc: 100%|██████████| 6/6 [00:00<00:00, 95.62it/s]"
     ]
    },
    {
     "name": "stdout",
     "output_type": "stream",
     "text": [
      "                   all      0.865          1\n"
     ]
    },
    {
     "name": "stderr",
     "output_type": "stream",
     "text": [
      "\n"
     ]
    },
    {
     "name": "stdout",
     "output_type": "stream",
     "text": [
      "\n",
      "      Epoch    GPU_mem       loss  Instances       Size\n"
     ]
    },
    {
     "name": "stderr",
     "output_type": "stream",
     "text": [
      "    112/200      1.99G    0.04797         10        224: 100%|██████████| 75/75 [00:02<00:00, 31.07it/s]\n",
      "               classes   top1_acc   top5_acc: 100%|██████████| 6/6 [00:00<00:00, 97.83it/s]"
     ]
    },
    {
     "name": "stdout",
     "output_type": "stream",
     "text": [
      "                   all       0.86          1\n"
     ]
    },
    {
     "name": "stderr",
     "output_type": "stream",
     "text": [
      "\n"
     ]
    },
    {
     "name": "stdout",
     "output_type": "stream",
     "text": [
      "\n",
      "      Epoch    GPU_mem       loss  Instances       Size\n"
     ]
    },
    {
     "name": "stderr",
     "output_type": "stream",
     "text": [
      "    113/200      1.95G    0.03887         10        224: 100%|██████████| 75/75 [00:02<00:00, 30.85it/s]\n",
      "               classes   top1_acc   top5_acc: 100%|██████████| 6/6 [00:00<00:00, 98.71it/s]"
     ]
    },
    {
     "name": "stdout",
     "output_type": "stream",
     "text": [
      "                   all       0.86          1\n"
     ]
    },
    {
     "name": "stderr",
     "output_type": "stream",
     "text": [
      "\n"
     ]
    },
    {
     "name": "stdout",
     "output_type": "stream",
     "text": [
      "\n",
      "      Epoch    GPU_mem       loss  Instances       Size\n"
     ]
    },
    {
     "name": "stderr",
     "output_type": "stream",
     "text": [
      "    114/200      1.95G    0.03116         10        224: 100%|██████████| 75/75 [00:02<00:00, 32.07it/s]\n",
      "               classes   top1_acc   top5_acc: 100%|██████████| 6/6 [00:00<00:00, 83.23it/s]"
     ]
    },
    {
     "name": "stdout",
     "output_type": "stream",
     "text": [
      "                   all      0.877          1\n"
     ]
    },
    {
     "name": "stderr",
     "output_type": "stream",
     "text": [
      "\n"
     ]
    },
    {
     "name": "stdout",
     "output_type": "stream",
     "text": [
      "\n",
      "      Epoch    GPU_mem       loss  Instances       Size\n"
     ]
    },
    {
     "name": "stderr",
     "output_type": "stream",
     "text": [
      "    115/200      1.97G    0.03095         10        224: 100%|██████████| 75/75 [00:02<00:00, 31.96it/s]\n",
      "               classes   top1_acc   top5_acc: 100%|██████████| 6/6 [00:00<00:00, 87.46it/s]"
     ]
    },
    {
     "name": "stdout",
     "output_type": "stream",
     "text": [
      "                   all      0.842          1\n"
     ]
    },
    {
     "name": "stderr",
     "output_type": "stream",
     "text": [
      "\n"
     ]
    },
    {
     "name": "stdout",
     "output_type": "stream",
     "text": [
      "\n",
      "      Epoch    GPU_mem       loss  Instances       Size\n"
     ]
    },
    {
     "name": "stderr",
     "output_type": "stream",
     "text": [
      "    116/200      1.99G     0.0261         10        224: 100%|██████████| 75/75 [00:02<00:00, 31.17it/s]\n",
      "               classes   top1_acc   top5_acc: 100%|██████████| 6/6 [00:00<00:00, 97.88it/s]"
     ]
    },
    {
     "name": "stdout",
     "output_type": "stream",
     "text": [
      "                   all      0.842          1\n"
     ]
    },
    {
     "name": "stderr",
     "output_type": "stream",
     "text": [
      "\n"
     ]
    },
    {
     "name": "stdout",
     "output_type": "stream",
     "text": [
      "\n",
      "      Epoch    GPU_mem       loss  Instances       Size\n"
     ]
    },
    {
     "name": "stderr",
     "output_type": "stream",
     "text": [
      "    117/200      1.95G    0.01945         10        224: 100%|██████████| 75/75 [00:02<00:00, 31.11it/s]\n",
      "               classes   top1_acc   top5_acc: 100%|██████████| 6/6 [00:00<00:00, 98.80it/s]"
     ]
    },
    {
     "name": "stdout",
     "output_type": "stream",
     "text": [
      "                   all      0.865          1\n"
     ]
    },
    {
     "name": "stderr",
     "output_type": "stream",
     "text": [
      "\n"
     ]
    },
    {
     "name": "stdout",
     "output_type": "stream",
     "text": [
      "\n",
      "      Epoch    GPU_mem       loss  Instances       Size\n"
     ]
    },
    {
     "name": "stderr",
     "output_type": "stream",
     "text": [
      "    118/200      1.95G    0.03187         10        224: 100%|██████████| 75/75 [00:02<00:00, 31.34it/s]\n",
      "               classes   top1_acc   top5_acc: 100%|██████████| 6/6 [00:00<00:00, 95.79it/s]"
     ]
    },
    {
     "name": "stdout",
     "output_type": "stream",
     "text": [
      "                   all      0.854          1\n"
     ]
    },
    {
     "name": "stderr",
     "output_type": "stream",
     "text": [
      "\n"
     ]
    },
    {
     "name": "stdout",
     "output_type": "stream",
     "text": [
      "\n",
      "      Epoch    GPU_mem       loss  Instances       Size\n"
     ]
    },
    {
     "name": "stderr",
     "output_type": "stream",
     "text": [
      "    119/200      1.97G    0.02864         10        224: 100%|██████████| 75/75 [00:02<00:00, 31.05it/s]\n",
      "               classes   top1_acc   top5_acc: 100%|██████████| 6/6 [00:00<00:00, 95.49it/s]"
     ]
    },
    {
     "name": "stdout",
     "output_type": "stream",
     "text": [
      "                   all      0.836          1\n"
     ]
    },
    {
     "name": "stderr",
     "output_type": "stream",
     "text": [
      "\n"
     ]
    },
    {
     "name": "stdout",
     "output_type": "stream",
     "text": [
      "\n",
      "      Epoch    GPU_mem       loss  Instances       Size\n"
     ]
    },
    {
     "name": "stderr",
     "output_type": "stream",
     "text": [
      "    120/200      1.99G    0.03105         10        224: 100%|██████████| 75/75 [00:02<00:00, 31.13it/s]\n",
      "               classes   top1_acc   top5_acc: 100%|██████████| 6/6 [00:00<00:00, 95.83it/s]"
     ]
    },
    {
     "name": "stdout",
     "output_type": "stream",
     "text": [
      "                   all      0.854          1\n"
     ]
    },
    {
     "name": "stderr",
     "output_type": "stream",
     "text": [
      "\n"
     ]
    },
    {
     "name": "stdout",
     "output_type": "stream",
     "text": [
      "\n",
      "      Epoch    GPU_mem       loss  Instances       Size\n"
     ]
    },
    {
     "name": "stderr",
     "output_type": "stream",
     "text": [
      "    121/200      1.95G    0.02814         10        224: 100%|██████████| 75/75 [00:02<00:00, 31.66it/s]\n",
      "               classes   top1_acc   top5_acc: 100%|██████████| 6/6 [00:00<00:00, 92.22it/s]\n"
     ]
    },
    {
     "name": "stdout",
     "output_type": "stream",
     "text": [
      "                   all      0.871          1\n",
      "\n",
      "      Epoch    GPU_mem       loss  Instances       Size\n"
     ]
    },
    {
     "name": "stderr",
     "output_type": "stream",
     "text": [
      "    122/200      1.95G     0.0179         10        224: 100%|██████████| 75/75 [00:02<00:00, 31.41it/s]\n",
      "               classes   top1_acc   top5_acc: 100%|██████████| 6/6 [00:00<00:00, 94.10it/s]"
     ]
    },
    {
     "name": "stdout",
     "output_type": "stream",
     "text": [
      "                   all      0.871          1\n"
     ]
    },
    {
     "name": "stderr",
     "output_type": "stream",
     "text": [
      "\n"
     ]
    },
    {
     "name": "stdout",
     "output_type": "stream",
     "text": [
      "\n",
      "      Epoch    GPU_mem       loss  Instances       Size\n"
     ]
    },
    {
     "name": "stderr",
     "output_type": "stream",
     "text": [
      "    123/200      1.97G    0.02195         10        224: 100%|██████████| 75/75 [00:02<00:00, 30.88it/s]\n",
      "               classes   top1_acc   top5_acc: 100%|██████████| 6/6 [00:00<00:00, 96.16it/s]"
     ]
    },
    {
     "name": "stdout",
     "output_type": "stream",
     "text": [
      "                   all      0.877          1\n"
     ]
    },
    {
     "name": "stderr",
     "output_type": "stream",
     "text": [
      "\n"
     ]
    },
    {
     "name": "stdout",
     "output_type": "stream",
     "text": [
      "\n",
      "      Epoch    GPU_mem       loss  Instances       Size\n"
     ]
    },
    {
     "name": "stderr",
     "output_type": "stream",
     "text": [
      "    124/200      1.99G    0.01485         10        224: 100%|██████████| 75/75 [00:02<00:00, 31.43it/s]\n",
      "               classes   top1_acc   top5_acc: 100%|██████████| 6/6 [00:00<00:00, 98.70it/s]"
     ]
    },
    {
     "name": "stdout",
     "output_type": "stream",
     "text": [
      "                   all      0.877          1\n"
     ]
    },
    {
     "name": "stderr",
     "output_type": "stream",
     "text": [
      "\n"
     ]
    },
    {
     "name": "stdout",
     "output_type": "stream",
     "text": [
      "\n",
      "      Epoch    GPU_mem       loss  Instances       Size\n"
     ]
    },
    {
     "name": "stderr",
     "output_type": "stream",
     "text": [
      "    125/200      1.95G    0.02825         10        224: 100%|██████████| 75/75 [00:02<00:00, 31.96it/s]\n",
      "               classes   top1_acc   top5_acc: 100%|██████████| 6/6 [00:00<00:00, 95.67it/s]"
     ]
    },
    {
     "name": "stdout",
     "output_type": "stream",
     "text": [
      "                   all      0.865          1\n"
     ]
    },
    {
     "name": "stderr",
     "output_type": "stream",
     "text": [
      "\n"
     ]
    },
    {
     "name": "stdout",
     "output_type": "stream",
     "text": [
      "\n",
      "      Epoch    GPU_mem       loss  Instances       Size\n"
     ]
    },
    {
     "name": "stderr",
     "output_type": "stream",
     "text": [
      "    126/200      1.95G    0.02211         10        224: 100%|██████████| 75/75 [00:02<00:00, 32.02it/s]\n",
      "               classes   top1_acc   top5_acc: 100%|██████████| 6/6 [00:00<00:00, 95.82it/s]"
     ]
    },
    {
     "name": "stdout",
     "output_type": "stream",
     "text": [
      "                   all      0.865          1\n"
     ]
    },
    {
     "name": "stderr",
     "output_type": "stream",
     "text": [
      "\n"
     ]
    },
    {
     "name": "stdout",
     "output_type": "stream",
     "text": [
      "\n",
      "      Epoch    GPU_mem       loss  Instances       Size\n"
     ]
    },
    {
     "name": "stderr",
     "output_type": "stream",
     "text": [
      "    127/200      1.97G    0.01357         10        224: 100%|██████████| 75/75 [00:02<00:00, 31.92it/s]\n",
      "               classes   top1_acc   top5_acc: 100%|██████████| 6/6 [00:00<00:00, 95.21it/s]"
     ]
    },
    {
     "name": "stdout",
     "output_type": "stream",
     "text": [
      "                   all      0.883          1\n"
     ]
    },
    {
     "name": "stderr",
     "output_type": "stream",
     "text": [
      "\n"
     ]
    },
    {
     "name": "stdout",
     "output_type": "stream",
     "text": [
      "\n",
      "      Epoch    GPU_mem       loss  Instances       Size\n"
     ]
    },
    {
     "name": "stderr",
     "output_type": "stream",
     "text": [
      "    128/200      1.99G     0.0188         10        224: 100%|██████████| 75/75 [00:02<00:00, 31.76it/s]\n",
      "               classes   top1_acc   top5_acc: 100%|██████████| 6/6 [00:00<00:00, 97.66it/s]"
     ]
    },
    {
     "name": "stdout",
     "output_type": "stream",
     "text": [
      "                   all      0.871          1\n"
     ]
    },
    {
     "name": "stderr",
     "output_type": "stream",
     "text": [
      "\n"
     ]
    },
    {
     "name": "stdout",
     "output_type": "stream",
     "text": [
      "\n",
      "      Epoch    GPU_mem       loss  Instances       Size\n"
     ]
    },
    {
     "name": "stderr",
     "output_type": "stream",
     "text": [
      "    129/200      1.95G    0.02438         10        224: 100%|██████████| 75/75 [00:02<00:00, 32.11it/s]\n",
      "               classes   top1_acc   top5_acc: 100%|██████████| 6/6 [00:00<00:00, 82.84it/s]"
     ]
    },
    {
     "name": "stdout",
     "output_type": "stream",
     "text": [
      "                   all      0.871          1\n"
     ]
    },
    {
     "name": "stderr",
     "output_type": "stream",
     "text": [
      "\n"
     ]
    },
    {
     "name": "stdout",
     "output_type": "stream",
     "text": [
      "\n",
      "      Epoch    GPU_mem       loss  Instances       Size\n"
     ]
    },
    {
     "name": "stderr",
     "output_type": "stream",
     "text": [
      "    130/200      1.95G    0.02767         10        224: 100%|██████████| 75/75 [00:02<00:00, 32.25it/s]\n",
      "               classes   top1_acc   top5_acc: 100%|██████████| 6/6 [00:00<00:00, 94.31it/s]"
     ]
    },
    {
     "name": "stdout",
     "output_type": "stream",
     "text": [
      "                   all      0.895          1\n"
     ]
    },
    {
     "name": "stderr",
     "output_type": "stream",
     "text": [
      "\n"
     ]
    },
    {
     "name": "stdout",
     "output_type": "stream",
     "text": [
      "\n",
      "      Epoch    GPU_mem       loss  Instances       Size\n"
     ]
    },
    {
     "name": "stderr",
     "output_type": "stream",
     "text": [
      "    131/200      1.97G    0.02332         10        224: 100%|██████████| 75/75 [00:02<00:00, 32.19it/s]\n",
      "               classes   top1_acc   top5_acc: 100%|██████████| 6/6 [00:00<00:00, 92.68it/s]"
     ]
    },
    {
     "name": "stdout",
     "output_type": "stream",
     "text": [
      "                   all       0.86          1\n"
     ]
    },
    {
     "name": "stderr",
     "output_type": "stream",
     "text": [
      "\n"
     ]
    },
    {
     "name": "stdout",
     "output_type": "stream",
     "text": [
      "\n",
      "      Epoch    GPU_mem       loss  Instances       Size\n"
     ]
    },
    {
     "name": "stderr",
     "output_type": "stream",
     "text": [
      "    132/200      1.99G    0.01688         10        224: 100%|██████████| 75/75 [00:02<00:00, 32.27it/s]\n",
      "               classes   top1_acc   top5_acc: 100%|██████████| 6/6 [00:00<00:00, 95.70it/s]"
     ]
    },
    {
     "name": "stdout",
     "output_type": "stream",
     "text": [
      "                   all      0.854          1\n"
     ]
    },
    {
     "name": "stderr",
     "output_type": "stream",
     "text": [
      "\n"
     ]
    },
    {
     "name": "stdout",
     "output_type": "stream",
     "text": [
      "\n",
      "      Epoch    GPU_mem       loss  Instances       Size\n"
     ]
    },
    {
     "name": "stderr",
     "output_type": "stream",
     "text": [
      "    133/200      1.95G    0.02015         10        224: 100%|██████████| 75/75 [00:02<00:00, 31.91it/s]\n",
      "               classes   top1_acc   top5_acc: 100%|██████████| 6/6 [00:00<00:00, 95.72it/s]"
     ]
    },
    {
     "name": "stdout",
     "output_type": "stream",
     "text": [
      "                   all       0.86          1\n"
     ]
    },
    {
     "name": "stderr",
     "output_type": "stream",
     "text": [
      "\n"
     ]
    },
    {
     "name": "stdout",
     "output_type": "stream",
     "text": [
      "\n",
      "      Epoch    GPU_mem       loss  Instances       Size\n"
     ]
    },
    {
     "name": "stderr",
     "output_type": "stream",
     "text": [
      "    134/200      1.95G    0.02646         10        224: 100%|██████████| 75/75 [00:02<00:00, 31.38it/s]\n",
      "               classes   top1_acc   top5_acc: 100%|██████████| 6/6 [00:00<00:00, 95.69it/s]"
     ]
    },
    {
     "name": "stdout",
     "output_type": "stream",
     "text": [
      "                   all      0.889          1\n"
     ]
    },
    {
     "name": "stderr",
     "output_type": "stream",
     "text": [
      "\n"
     ]
    },
    {
     "name": "stdout",
     "output_type": "stream",
     "text": [
      "\n",
      "      Epoch    GPU_mem       loss  Instances       Size\n"
     ]
    },
    {
     "name": "stderr",
     "output_type": "stream",
     "text": [
      "    135/200      1.97G    0.02302         10        224: 100%|██████████| 75/75 [00:02<00:00, 31.46it/s]\n",
      "               classes   top1_acc   top5_acc: 100%|██████████| 6/6 [00:00<00:00, 96.14it/s]"
     ]
    },
    {
     "name": "stdout",
     "output_type": "stream",
     "text": [
      "                   all      0.848          1\n"
     ]
    },
    {
     "name": "stderr",
     "output_type": "stream",
     "text": [
      "\n"
     ]
    },
    {
     "name": "stdout",
     "output_type": "stream",
     "text": [
      "\n",
      "      Epoch    GPU_mem       loss  Instances       Size\n"
     ]
    },
    {
     "name": "stderr",
     "output_type": "stream",
     "text": [
      "    136/200      1.99G     0.0289         10        224: 100%|██████████| 75/75 [00:02<00:00, 30.83it/s]\n",
      "               classes   top1_acc   top5_acc: 100%|██████████| 6/6 [00:00<00:00, 98.49it/s]"
     ]
    },
    {
     "name": "stdout",
     "output_type": "stream",
     "text": [
      "                   all      0.836          1\n"
     ]
    },
    {
     "name": "stderr",
     "output_type": "stream",
     "text": [
      "\n"
     ]
    },
    {
     "name": "stdout",
     "output_type": "stream",
     "text": [
      "\n",
      "      Epoch    GPU_mem       loss  Instances       Size\n"
     ]
    },
    {
     "name": "stderr",
     "output_type": "stream",
     "text": [
      "    137/200      1.95G    0.02247         10        224: 100%|██████████| 75/75 [00:02<00:00, 31.66it/s]\n",
      "               classes   top1_acc   top5_acc: 100%|██████████| 6/6 [00:00<00:00, 89.37it/s]"
     ]
    },
    {
     "name": "stdout",
     "output_type": "stream",
     "text": [
      "                   all      0.865          1\n"
     ]
    },
    {
     "name": "stderr",
     "output_type": "stream",
     "text": [
      "\n"
     ]
    },
    {
     "name": "stdout",
     "output_type": "stream",
     "text": [
      "\n",
      "      Epoch    GPU_mem       loss  Instances       Size\n"
     ]
    },
    {
     "name": "stderr",
     "output_type": "stream",
     "text": [
      "    138/200      1.95G    0.02383         10        224: 100%|██████████| 75/75 [00:02<00:00, 32.29it/s]\n",
      "               classes   top1_acc   top5_acc: 100%|██████████| 6/6 [00:00<00:00, 93.97it/s]"
     ]
    },
    {
     "name": "stdout",
     "output_type": "stream",
     "text": [
      "                   all       0.86          1\n"
     ]
    },
    {
     "name": "stderr",
     "output_type": "stream",
     "text": [
      "\n"
     ]
    },
    {
     "name": "stdout",
     "output_type": "stream",
     "text": [
      "\n",
      "      Epoch    GPU_mem       loss  Instances       Size\n"
     ]
    },
    {
     "name": "stderr",
     "output_type": "stream",
     "text": [
      "    139/200      1.97G    0.02413         10        224: 100%|██████████| 75/75 [00:02<00:00, 32.23it/s]\n",
      "               classes   top1_acc   top5_acc: 100%|██████████| 6/6 [00:00<00:00, 97.80it/s]"
     ]
    },
    {
     "name": "stdout",
     "output_type": "stream",
     "text": [
      "                   all      0.871          1\n"
     ]
    },
    {
     "name": "stderr",
     "output_type": "stream",
     "text": [
      "\n"
     ]
    },
    {
     "name": "stdout",
     "output_type": "stream",
     "text": [
      "\n",
      "      Epoch    GPU_mem       loss  Instances       Size\n"
     ]
    },
    {
     "name": "stderr",
     "output_type": "stream",
     "text": [
      "    140/200      1.99G    0.01704         10        224: 100%|██████████| 75/75 [00:02<00:00, 32.16it/s]\n",
      "               classes   top1_acc   top5_acc: 100%|██████████| 6/6 [00:00<00:00, 96.14it/s]"
     ]
    },
    {
     "name": "stdout",
     "output_type": "stream",
     "text": [
      "                   all      0.842          1\n"
     ]
    },
    {
     "name": "stderr",
     "output_type": "stream",
     "text": [
      "\n"
     ]
    },
    {
     "name": "stdout",
     "output_type": "stream",
     "text": [
      "\n",
      "      Epoch    GPU_mem       loss  Instances       Size\n"
     ]
    },
    {
     "name": "stderr",
     "output_type": "stream",
     "text": [
      "    141/200      1.95G    0.01447         10        224: 100%|██████████| 75/75 [00:02<00:00, 31.40it/s]\n",
      "               classes   top1_acc   top5_acc: 100%|██████████| 6/6 [00:00<00:00, 96.07it/s]"
     ]
    },
    {
     "name": "stdout",
     "output_type": "stream",
     "text": [
      "                   all       0.86          1\n"
     ]
    },
    {
     "name": "stderr",
     "output_type": "stream",
     "text": [
      "\n"
     ]
    },
    {
     "name": "stdout",
     "output_type": "stream",
     "text": [
      "\n",
      "      Epoch    GPU_mem       loss  Instances       Size\n"
     ]
    },
    {
     "name": "stderr",
     "output_type": "stream",
     "text": [
      "    142/200      1.95G    0.02018         10        224: 100%|██████████| 75/75 [00:02<00:00, 31.28it/s]\n",
      "               classes   top1_acc   top5_acc: 100%|██████████| 6/6 [00:00<00:00, 91.34it/s]"
     ]
    },
    {
     "name": "stdout",
     "output_type": "stream",
     "text": [
      "                   all      0.836          1\n"
     ]
    },
    {
     "name": "stderr",
     "output_type": "stream",
     "text": [
      "\n"
     ]
    },
    {
     "name": "stdout",
     "output_type": "stream",
     "text": [
      "\n",
      "      Epoch    GPU_mem       loss  Instances       Size\n"
     ]
    },
    {
     "name": "stderr",
     "output_type": "stream",
     "text": [
      "    143/200      1.97G    0.02251         10        224: 100%|██████████| 75/75 [00:02<00:00, 31.82it/s]\n",
      "               classes   top1_acc   top5_acc: 100%|██████████| 6/6 [00:00<00:00, 83.35it/s]"
     ]
    },
    {
     "name": "stdout",
     "output_type": "stream",
     "text": [
      "                   all       0.86          1\n"
     ]
    },
    {
     "name": "stderr",
     "output_type": "stream",
     "text": [
      "\n"
     ]
    },
    {
     "name": "stdout",
     "output_type": "stream",
     "text": [
      "\n",
      "      Epoch    GPU_mem       loss  Instances       Size\n"
     ]
    },
    {
     "name": "stderr",
     "output_type": "stream",
     "text": [
      "    144/200      1.99G    0.02409         10        224: 100%|██████████| 75/75 [00:02<00:00, 32.34it/s]\n",
      "               classes   top1_acc   top5_acc: 100%|██████████| 6/6 [00:00<00:00, 87.60it/s]"
     ]
    },
    {
     "name": "stdout",
     "output_type": "stream",
     "text": [
      "                   all      0.871          1\n"
     ]
    },
    {
     "name": "stderr",
     "output_type": "stream",
     "text": [
      "\n"
     ]
    },
    {
     "name": "stdout",
     "output_type": "stream",
     "text": [
      "\n",
      "      Epoch    GPU_mem       loss  Instances       Size\n"
     ]
    },
    {
     "name": "stderr",
     "output_type": "stream",
     "text": [
      "    145/200      1.95G    0.01259         10        224: 100%|██████████| 75/75 [00:02<00:00, 32.58it/s]\n",
      "               classes   top1_acc   top5_acc: 100%|██████████| 6/6 [00:00<00:00, 80.33it/s]"
     ]
    },
    {
     "name": "stdout",
     "output_type": "stream",
     "text": [
      "                   all      0.865          1\n"
     ]
    },
    {
     "name": "stderr",
     "output_type": "stream",
     "text": [
      "\n"
     ]
    },
    {
     "name": "stdout",
     "output_type": "stream",
     "text": [
      "\n",
      "      Epoch    GPU_mem       loss  Instances       Size\n"
     ]
    },
    {
     "name": "stderr",
     "output_type": "stream",
     "text": [
      "    146/200      1.95G    0.01605         10        224: 100%|██████████| 75/75 [00:02<00:00, 32.95it/s]\n",
      "               classes   top1_acc   top5_acc: 100%|██████████| 6/6 [00:00<00:00, 95.37it/s]"
     ]
    },
    {
     "name": "stdout",
     "output_type": "stream",
     "text": [
      "                   all      0.871          1\n"
     ]
    },
    {
     "name": "stderr",
     "output_type": "stream",
     "text": [
      "\n"
     ]
    },
    {
     "name": "stdout",
     "output_type": "stream",
     "text": [
      "\n",
      "      Epoch    GPU_mem       loss  Instances       Size\n"
     ]
    },
    {
     "name": "stderr",
     "output_type": "stream",
     "text": [
      "    147/200      1.97G    0.02372         10        224: 100%|██████████| 75/75 [00:02<00:00, 32.66it/s]\n",
      "               classes   top1_acc   top5_acc: 100%|██████████| 6/6 [00:00<00:00, 96.66it/s]"
     ]
    },
    {
     "name": "stdout",
     "output_type": "stream",
     "text": [
      "                   all      0.854          1\n"
     ]
    },
    {
     "name": "stderr",
     "output_type": "stream",
     "text": [
      "\n"
     ]
    },
    {
     "name": "stdout",
     "output_type": "stream",
     "text": [
      "\n",
      "      Epoch    GPU_mem       loss  Instances       Size\n"
     ]
    },
    {
     "name": "stderr",
     "output_type": "stream",
     "text": [
      "    148/200      1.99G    0.01952         10        224: 100%|██████████| 75/75 [00:02<00:00, 32.25it/s]\n",
      "               classes   top1_acc   top5_acc: 100%|██████████| 6/6 [00:00<00:00, 94.15it/s]"
     ]
    },
    {
     "name": "stdout",
     "output_type": "stream",
     "text": [
      "                   all      0.854          1\n"
     ]
    },
    {
     "name": "stderr",
     "output_type": "stream",
     "text": [
      "\n"
     ]
    },
    {
     "name": "stdout",
     "output_type": "stream",
     "text": [
      "\n",
      "      Epoch    GPU_mem       loss  Instances       Size\n"
     ]
    },
    {
     "name": "stderr",
     "output_type": "stream",
     "text": [
      "    149/200      1.95G   0.009225         10        224: 100%|██████████| 75/75 [00:02<00:00, 32.74it/s]\n",
      "               classes   top1_acc   top5_acc: 100%|██████████| 6/6 [00:00<00:00, 96.94it/s]"
     ]
    },
    {
     "name": "stdout",
     "output_type": "stream",
     "text": [
      "                   all      0.854          1\n"
     ]
    },
    {
     "name": "stderr",
     "output_type": "stream",
     "text": [
      "\n"
     ]
    },
    {
     "name": "stdout",
     "output_type": "stream",
     "text": [
      "\n",
      "      Epoch    GPU_mem       loss  Instances       Size\n"
     ]
    },
    {
     "name": "stderr",
     "output_type": "stream",
     "text": [
      "    150/200      1.95G    0.01723         10        224: 100%|██████████| 75/75 [00:02<00:00, 32.67it/s]\n",
      "               classes   top1_acc   top5_acc: 100%|██████████| 6/6 [00:00<00:00, 95.87it/s]"
     ]
    },
    {
     "name": "stdout",
     "output_type": "stream",
     "text": [
      "                   all      0.848          1\n"
     ]
    },
    {
     "name": "stderr",
     "output_type": "stream",
     "text": [
      "\n"
     ]
    },
    {
     "name": "stdout",
     "output_type": "stream",
     "text": [
      "\n",
      "      Epoch    GPU_mem       loss  Instances       Size\n"
     ]
    },
    {
     "name": "stderr",
     "output_type": "stream",
     "text": [
      "    151/200      1.97G    0.01864         10        224: 100%|██████████| 75/75 [00:02<00:00, 32.73it/s]\n",
      "               classes   top1_acc   top5_acc: 100%|██████████| 6/6 [00:00<00:00, 89.88it/s]"
     ]
    },
    {
     "name": "stdout",
     "output_type": "stream",
     "text": [
      "                   all      0.836          1\n"
     ]
    },
    {
     "name": "stderr",
     "output_type": "stream",
     "text": [
      "\n"
     ]
    },
    {
     "name": "stdout",
     "output_type": "stream",
     "text": [
      "\n",
      "      Epoch    GPU_mem       loss  Instances       Size\n"
     ]
    },
    {
     "name": "stderr",
     "output_type": "stream",
     "text": [
      "    152/200      1.99G    0.01287         10        224: 100%|██████████| 75/75 [00:02<00:00, 32.64it/s]\n",
      "               classes   top1_acc   top5_acc: 100%|██████████| 6/6 [00:00<00:00, 94.14it/s]"
     ]
    },
    {
     "name": "stdout",
     "output_type": "stream",
     "text": [
      "                   all      0.854          1\n"
     ]
    },
    {
     "name": "stderr",
     "output_type": "stream",
     "text": [
      "\n"
     ]
    },
    {
     "name": "stdout",
     "output_type": "stream",
     "text": [
      "\n",
      "      Epoch    GPU_mem       loss  Instances       Size\n"
     ]
    },
    {
     "name": "stderr",
     "output_type": "stream",
     "text": [
      "    153/200      1.95G    0.02123         10        224: 100%|██████████| 75/75 [00:02<00:00, 31.39it/s]\n",
      "               classes   top1_acc   top5_acc: 100%|██████████| 6/6 [00:00<00:00, 79.64it/s]"
     ]
    },
    {
     "name": "stdout",
     "output_type": "stream",
     "text": [
      "                   all      0.848          1\n"
     ]
    },
    {
     "name": "stderr",
     "output_type": "stream",
     "text": [
      "\n"
     ]
    },
    {
     "name": "stdout",
     "output_type": "stream",
     "text": [
      "\n",
      "      Epoch    GPU_mem       loss  Instances       Size\n"
     ]
    },
    {
     "name": "stderr",
     "output_type": "stream",
     "text": [
      "    154/200      1.95G    0.01444         10        224: 100%|██████████| 75/75 [00:02<00:00, 31.30it/s]\n",
      "               classes   top1_acc   top5_acc: 100%|██████████| 6/6 [00:00<00:00, 95.75it/s]"
     ]
    },
    {
     "name": "stdout",
     "output_type": "stream",
     "text": [
      "                   all      0.842          1\n"
     ]
    },
    {
     "name": "stderr",
     "output_type": "stream",
     "text": [
      "\n"
     ]
    },
    {
     "name": "stdout",
     "output_type": "stream",
     "text": [
      "\n",
      "      Epoch    GPU_mem       loss  Instances       Size\n"
     ]
    },
    {
     "name": "stderr",
     "output_type": "stream",
     "text": [
      "    155/200      1.97G    0.01171         10        224: 100%|██████████| 75/75 [00:02<00:00, 30.66it/s]\n",
      "               classes   top1_acc   top5_acc: 100%|██████████| 6/6 [00:00<00:00, 94.83it/s]"
     ]
    },
    {
     "name": "stdout",
     "output_type": "stream",
     "text": [
      "                   all      0.854          1\n"
     ]
    },
    {
     "name": "stderr",
     "output_type": "stream",
     "text": [
      "\n"
     ]
    },
    {
     "name": "stdout",
     "output_type": "stream",
     "text": [
      "\n",
      "      Epoch    GPU_mem       loss  Instances       Size\n"
     ]
    },
    {
     "name": "stderr",
     "output_type": "stream",
     "text": [
      "    156/200      1.99G   0.009182         10        224: 100%|██████████| 75/75 [00:02<00:00, 30.84it/s]\n",
      "               classes   top1_acc   top5_acc: 100%|██████████| 6/6 [00:00<00:00, 95.14it/s]"
     ]
    },
    {
     "name": "stdout",
     "output_type": "stream",
     "text": [
      "                   all      0.871          1\n"
     ]
    },
    {
     "name": "stderr",
     "output_type": "stream",
     "text": [
      "\n"
     ]
    },
    {
     "name": "stdout",
     "output_type": "stream",
     "text": [
      "\n",
      "      Epoch    GPU_mem       loss  Instances       Size\n"
     ]
    },
    {
     "name": "stderr",
     "output_type": "stream",
     "text": [
      "    157/200      1.95G    0.01511         10        224: 100%|██████████| 75/75 [00:02<00:00, 32.60it/s]\n",
      "               classes   top1_acc   top5_acc: 100%|██████████| 6/6 [00:00<00:00, 88.12it/s]"
     ]
    },
    {
     "name": "stdout",
     "output_type": "stream",
     "text": [
      "                   all      0.877          1\n"
     ]
    },
    {
     "name": "stderr",
     "output_type": "stream",
     "text": [
      "\n"
     ]
    },
    {
     "name": "stdout",
     "output_type": "stream",
     "text": [
      "\n",
      "      Epoch    GPU_mem       loss  Instances       Size\n"
     ]
    },
    {
     "name": "stderr",
     "output_type": "stream",
     "text": [
      "    158/200      1.95G    0.01596         10        224: 100%|██████████| 75/75 [00:02<00:00, 31.96it/s]\n",
      "               classes   top1_acc   top5_acc: 100%|██████████| 6/6 [00:00<00:00, 86.60it/s]"
     ]
    },
    {
     "name": "stdout",
     "output_type": "stream",
     "text": [
      "                   all      0.871          1\n"
     ]
    },
    {
     "name": "stderr",
     "output_type": "stream",
     "text": [
      "\n"
     ]
    },
    {
     "name": "stdout",
     "output_type": "stream",
     "text": [
      "\n",
      "      Epoch    GPU_mem       loss  Instances       Size\n"
     ]
    },
    {
     "name": "stderr",
     "output_type": "stream",
     "text": [
      "    159/200      1.97G    0.01181         10        224: 100%|██████████| 75/75 [00:02<00:00, 31.25it/s]\n",
      "               classes   top1_acc   top5_acc: 100%|██████████| 6/6 [00:00<00:00, 98.61it/s]"
     ]
    },
    {
     "name": "stdout",
     "output_type": "stream",
     "text": [
      "                   all       0.86          1\n"
     ]
    },
    {
     "name": "stderr",
     "output_type": "stream",
     "text": [
      "\n"
     ]
    },
    {
     "name": "stdout",
     "output_type": "stream",
     "text": [
      "\n",
      "      Epoch    GPU_mem       loss  Instances       Size\n"
     ]
    },
    {
     "name": "stderr",
     "output_type": "stream",
     "text": [
      "    160/200      1.99G    0.01464         10        224: 100%|██████████| 75/75 [00:02<00:00, 31.60it/s]\n",
      "               classes   top1_acc   top5_acc: 100%|██████████| 6/6 [00:00<00:00, 94.39it/s]"
     ]
    },
    {
     "name": "stdout",
     "output_type": "stream",
     "text": [
      "                   all      0.877          1\n"
     ]
    },
    {
     "name": "stderr",
     "output_type": "stream",
     "text": [
      "\n"
     ]
    },
    {
     "name": "stdout",
     "output_type": "stream",
     "text": [
      "\n",
      "      Epoch    GPU_mem       loss  Instances       Size\n"
     ]
    },
    {
     "name": "stderr",
     "output_type": "stream",
     "text": [
      "    161/200      1.95G    0.01219         10        224: 100%|██████████| 75/75 [00:02<00:00, 31.79it/s]\n",
      "               classes   top1_acc   top5_acc: 100%|██████████| 6/6 [00:00<00:00, 97.77it/s]"
     ]
    },
    {
     "name": "stdout",
     "output_type": "stream",
     "text": [
      "                   all       0.86          1\n"
     ]
    },
    {
     "name": "stderr",
     "output_type": "stream",
     "text": [
      "\n"
     ]
    },
    {
     "name": "stdout",
     "output_type": "stream",
     "text": [
      "\n",
      "      Epoch    GPU_mem       loss  Instances       Size\n"
     ]
    },
    {
     "name": "stderr",
     "output_type": "stream",
     "text": [
      "    162/200      1.95G    0.01753         10        224: 100%|██████████| 75/75 [00:02<00:00, 32.50it/s]\n",
      "               classes   top1_acc   top5_acc: 100%|██████████| 6/6 [00:00<00:00, 95.39it/s]"
     ]
    },
    {
     "name": "stdout",
     "output_type": "stream",
     "text": [
      "                   all      0.865          1\n"
     ]
    },
    {
     "name": "stderr",
     "output_type": "stream",
     "text": [
      "\n"
     ]
    },
    {
     "name": "stdout",
     "output_type": "stream",
     "text": [
      "\n",
      "      Epoch    GPU_mem       loss  Instances       Size\n"
     ]
    },
    {
     "name": "stderr",
     "output_type": "stream",
     "text": [
      "    163/200      1.97G    0.02808         10        224: 100%|██████████| 75/75 [00:02<00:00, 30.35it/s]\n",
      "               classes   top1_acc   top5_acc: 100%|██████████| 6/6 [00:00<00:00, 96.29it/s]"
     ]
    },
    {
     "name": "stdout",
     "output_type": "stream",
     "text": [
      "                   all      0.854          1\n"
     ]
    },
    {
     "name": "stderr",
     "output_type": "stream",
     "text": [
      "\n"
     ]
    },
    {
     "name": "stdout",
     "output_type": "stream",
     "text": [
      "\n",
      "      Epoch    GPU_mem       loss  Instances       Size\n"
     ]
    },
    {
     "name": "stderr",
     "output_type": "stream",
     "text": [
      "    164/200      1.99G    0.01266         10        224: 100%|██████████| 75/75 [00:02<00:00, 31.77it/s]\n",
      "               classes   top1_acc   top5_acc: 100%|██████████| 6/6 [00:00<00:00, 95.34it/s]"
     ]
    },
    {
     "name": "stdout",
     "output_type": "stream",
     "text": [
      "                   all      0.865          1\n"
     ]
    },
    {
     "name": "stderr",
     "output_type": "stream",
     "text": [
      "\n"
     ]
    },
    {
     "name": "stdout",
     "output_type": "stream",
     "text": [
      "\n",
      "      Epoch    GPU_mem       loss  Instances       Size\n"
     ]
    },
    {
     "name": "stderr",
     "output_type": "stream",
     "text": [
      "    165/200      1.95G   0.009266         10        224: 100%|██████████| 75/75 [00:02<00:00, 30.35it/s]\n",
      "               classes   top1_acc   top5_acc: 100%|██████████| 6/6 [00:00<00:00, 96.26it/s]"
     ]
    },
    {
     "name": "stdout",
     "output_type": "stream",
     "text": [
      "                   all      0.871          1\n"
     ]
    },
    {
     "name": "stderr",
     "output_type": "stream",
     "text": [
      "\n"
     ]
    },
    {
     "name": "stdout",
     "output_type": "stream",
     "text": [
      "\n",
      "      Epoch    GPU_mem       loss  Instances       Size\n"
     ]
    },
    {
     "name": "stderr",
     "output_type": "stream",
     "text": [
      "    166/200      1.95G    0.00915         10        224: 100%|██████████| 75/75 [00:02<00:00, 31.12it/s]\n",
      "               classes   top1_acc   top5_acc: 100%|██████████| 6/6 [00:00<00:00, 95.31it/s]"
     ]
    },
    {
     "name": "stdout",
     "output_type": "stream",
     "text": [
      "                   all      0.865          1\n"
     ]
    },
    {
     "name": "stderr",
     "output_type": "stream",
     "text": [
      "\n"
     ]
    },
    {
     "name": "stdout",
     "output_type": "stream",
     "text": [
      "\n",
      "      Epoch    GPU_mem       loss  Instances       Size\n"
     ]
    },
    {
     "name": "stderr",
     "output_type": "stream",
     "text": [
      "    167/200      1.97G   0.007967         10        224: 100%|██████████| 75/75 [00:02<00:00, 31.06it/s]\n",
      "               classes   top1_acc   top5_acc: 100%|██████████| 6/6 [00:00<00:00, 96.23it/s]"
     ]
    },
    {
     "name": "stdout",
     "output_type": "stream",
     "text": [
      "                   all      0.848          1\n"
     ]
    },
    {
     "name": "stderr",
     "output_type": "stream",
     "text": [
      "\n"
     ]
    },
    {
     "name": "stdout",
     "output_type": "stream",
     "text": [
      "\n",
      "      Epoch    GPU_mem       loss  Instances       Size\n"
     ]
    },
    {
     "name": "stderr",
     "output_type": "stream",
     "text": [
      "    168/200      1.99G   0.006351         10        224: 100%|██████████| 75/75 [00:02<00:00, 31.63it/s]\n",
      "               classes   top1_acc   top5_acc: 100%|██████████| 6/6 [00:00<00:00, 93.49it/s]"
     ]
    },
    {
     "name": "stdout",
     "output_type": "stream",
     "text": [
      "                   all      0.854          1\n"
     ]
    },
    {
     "name": "stderr",
     "output_type": "stream",
     "text": [
      "\n"
     ]
    },
    {
     "name": "stdout",
     "output_type": "stream",
     "text": [
      "\n",
      "      Epoch    GPU_mem       loss  Instances       Size\n"
     ]
    },
    {
     "name": "stderr",
     "output_type": "stream",
     "text": [
      "    169/200      1.95G    0.01605         10        224: 100%|██████████| 75/75 [00:02<00:00, 31.18it/s]\n",
      "               classes   top1_acc   top5_acc: 100%|██████████| 6/6 [00:00<00:00, 97.19it/s]"
     ]
    },
    {
     "name": "stdout",
     "output_type": "stream",
     "text": [
      "                   all       0.86          1\n"
     ]
    },
    {
     "name": "stderr",
     "output_type": "stream",
     "text": [
      "\n"
     ]
    },
    {
     "name": "stdout",
     "output_type": "stream",
     "text": [
      "\n",
      "      Epoch    GPU_mem       loss  Instances       Size\n"
     ]
    },
    {
     "name": "stderr",
     "output_type": "stream",
     "text": [
      "    170/200      1.95G    0.01611         10        224: 100%|██████████| 75/75 [00:02<00:00, 30.23it/s]\n",
      "               classes   top1_acc   top5_acc: 100%|██████████| 6/6 [00:00<00:00, 98.80it/s]"
     ]
    },
    {
     "name": "stdout",
     "output_type": "stream",
     "text": [
      "                   all      0.842          1\n"
     ]
    },
    {
     "name": "stderr",
     "output_type": "stream",
     "text": [
      "\n"
     ]
    },
    {
     "name": "stdout",
     "output_type": "stream",
     "text": [
      "\n",
      "      Epoch    GPU_mem       loss  Instances       Size\n"
     ]
    },
    {
     "name": "stderr",
     "output_type": "stream",
     "text": [
      "    171/200      1.97G    0.02031         10        224: 100%|██████████| 75/75 [00:02<00:00, 33.01it/s]\n",
      "               classes   top1_acc   top5_acc: 100%|██████████| 6/6 [00:00<00:00, 96.11it/s]"
     ]
    },
    {
     "name": "stdout",
     "output_type": "stream",
     "text": [
      "                   all      0.854          1\n"
     ]
    },
    {
     "name": "stderr",
     "output_type": "stream",
     "text": [
      "\n"
     ]
    },
    {
     "name": "stdout",
     "output_type": "stream",
     "text": [
      "\n",
      "      Epoch    GPU_mem       loss  Instances       Size\n"
     ]
    },
    {
     "name": "stderr",
     "output_type": "stream",
     "text": [
      "    172/200      1.99G   0.005318         10        224: 100%|██████████| 75/75 [00:02<00:00, 32.90it/s]\n",
      "               classes   top1_acc   top5_acc: 100%|██████████| 6/6 [00:00<00:00, 96.94it/s]"
     ]
    },
    {
     "name": "stdout",
     "output_type": "stream",
     "text": [
      "                   all      0.848          1\n"
     ]
    },
    {
     "name": "stderr",
     "output_type": "stream",
     "text": [
      "\n"
     ]
    },
    {
     "name": "stdout",
     "output_type": "stream",
     "text": [
      "\n",
      "      Epoch    GPU_mem       loss  Instances       Size\n"
     ]
    },
    {
     "name": "stderr",
     "output_type": "stream",
     "text": [
      "    173/200      1.95G   0.009202         10        224: 100%|██████████| 75/75 [00:02<00:00, 31.00it/s]\n",
      "               classes   top1_acc   top5_acc: 100%|██████████| 6/6 [00:00<00:00, 97.53it/s]"
     ]
    },
    {
     "name": "stdout",
     "output_type": "stream",
     "text": [
      "                   all      0.848          1\n"
     ]
    },
    {
     "name": "stderr",
     "output_type": "stream",
     "text": [
      "\n"
     ]
    },
    {
     "name": "stdout",
     "output_type": "stream",
     "text": [
      "\n",
      "      Epoch    GPU_mem       loss  Instances       Size\n"
     ]
    },
    {
     "name": "stderr",
     "output_type": "stream",
     "text": [
      "    174/200      1.95G    0.01377         10        224: 100%|██████████| 75/75 [00:02<00:00, 31.19it/s]\n",
      "               classes   top1_acc   top5_acc: 100%|██████████| 6/6 [00:00<00:00, 93.71it/s]"
     ]
    },
    {
     "name": "stdout",
     "output_type": "stream",
     "text": [
      "                   all       0.86          1\n"
     ]
    },
    {
     "name": "stderr",
     "output_type": "stream",
     "text": [
      "\n"
     ]
    },
    {
     "name": "stdout",
     "output_type": "stream",
     "text": [
      "\n",
      "      Epoch    GPU_mem       loss  Instances       Size\n"
     ]
    },
    {
     "name": "stderr",
     "output_type": "stream",
     "text": [
      "    175/200      1.97G      0.015         10        224: 100%|██████████| 75/75 [00:02<00:00, 32.25it/s]\n",
      "               classes   top1_acc   top5_acc: 100%|██████████| 6/6 [00:00<00:00, 94.36it/s]"
     ]
    },
    {
     "name": "stdout",
     "output_type": "stream",
     "text": [
      "                   all      0.848          1\n"
     ]
    },
    {
     "name": "stderr",
     "output_type": "stream",
     "text": [
      "\n"
     ]
    },
    {
     "name": "stdout",
     "output_type": "stream",
     "text": [
      "\n",
      "      Epoch    GPU_mem       loss  Instances       Size\n"
     ]
    },
    {
     "name": "stderr",
     "output_type": "stream",
     "text": [
      "    176/200      1.99G    0.01444         10        224: 100%|██████████| 75/75 [00:02<00:00, 32.51it/s]\n",
      "               classes   top1_acc   top5_acc: 100%|██████████| 6/6 [00:00<00:00, 97.15it/s]"
     ]
    },
    {
     "name": "stdout",
     "output_type": "stream",
     "text": [
      "                   all      0.854          1\n"
     ]
    },
    {
     "name": "stderr",
     "output_type": "stream",
     "text": [
      "\n"
     ]
    },
    {
     "name": "stdout",
     "output_type": "stream",
     "text": [
      "\n",
      "      Epoch    GPU_mem       loss  Instances       Size\n"
     ]
    },
    {
     "name": "stderr",
     "output_type": "stream",
     "text": [
      "    177/200      1.95G    0.01342         10        224: 100%|██████████| 75/75 [00:02<00:00, 32.26it/s]\n",
      "               classes   top1_acc   top5_acc: 100%|██████████| 6/6 [00:00<00:00, 97.62it/s]"
     ]
    },
    {
     "name": "stdout",
     "output_type": "stream",
     "text": [
      "                   all      0.854          1\n"
     ]
    },
    {
     "name": "stderr",
     "output_type": "stream",
     "text": [
      "\n"
     ]
    },
    {
     "name": "stdout",
     "output_type": "stream",
     "text": [
      "\n",
      "      Epoch    GPU_mem       loss  Instances       Size\n"
     ]
    },
    {
     "name": "stderr",
     "output_type": "stream",
     "text": [
      "    178/200      1.95G   0.006555         10        224: 100%|██████████| 75/75 [00:02<00:00, 32.71it/s]\n",
      "               classes   top1_acc   top5_acc: 100%|██████████| 6/6 [00:00<00:00, 94.33it/s]"
     ]
    },
    {
     "name": "stdout",
     "output_type": "stream",
     "text": [
      "                   all      0.854          1\n"
     ]
    },
    {
     "name": "stderr",
     "output_type": "stream",
     "text": [
      "\n"
     ]
    },
    {
     "name": "stdout",
     "output_type": "stream",
     "text": [
      "\n",
      "      Epoch    GPU_mem       loss  Instances       Size\n"
     ]
    },
    {
     "name": "stderr",
     "output_type": "stream",
     "text": [
      "    179/200      1.97G    0.01329         10        224: 100%|██████████| 75/75 [00:02<00:00, 31.33it/s]\n",
      "               classes   top1_acc   top5_acc: 100%|██████████| 6/6 [00:00<00:00, 96.67it/s]"
     ]
    },
    {
     "name": "stdout",
     "output_type": "stream",
     "text": [
      "                   all      0.854          1\n"
     ]
    },
    {
     "name": "stderr",
     "output_type": "stream",
     "text": [
      "\n"
     ]
    },
    {
     "name": "stdout",
     "output_type": "stream",
     "text": [
      "\n",
      "      Epoch    GPU_mem       loss  Instances       Size\n"
     ]
    },
    {
     "name": "stderr",
     "output_type": "stream",
     "text": [
      "    180/200      1.99G     0.0174         10        224: 100%|██████████| 75/75 [00:02<00:00, 32.01it/s]\n",
      "               classes   top1_acc   top5_acc: 100%|██████████| 6/6 [00:00<00:00, 94.46it/s]"
     ]
    },
    {
     "name": "stdout",
     "output_type": "stream",
     "text": [
      "                   all      0.854          1\n"
     ]
    },
    {
     "name": "stderr",
     "output_type": "stream",
     "text": [
      "\n"
     ]
    },
    {
     "name": "stdout",
     "output_type": "stream",
     "text": [
      "\n",
      "      Epoch    GPU_mem       loss  Instances       Size\n"
     ]
    },
    {
     "name": "stderr",
     "output_type": "stream",
     "text": [
      "    181/200      1.95G   0.006993         10        224: 100%|██████████| 75/75 [00:02<00:00, 32.51it/s]\n",
      "               classes   top1_acc   top5_acc: 100%|██████████| 6/6 [00:00<00:00, 95.38it/s]"
     ]
    },
    {
     "name": "stdout",
     "output_type": "stream",
     "text": [
      "                   all      0.854          1\n"
     ]
    },
    {
     "name": "stderr",
     "output_type": "stream",
     "text": [
      "\n"
     ]
    },
    {
     "name": "stdout",
     "output_type": "stream",
     "text": [
      "\n",
      "      Epoch    GPU_mem       loss  Instances       Size\n"
     ]
    },
    {
     "name": "stderr",
     "output_type": "stream",
     "text": [
      "    182/200      1.95G   0.007351         10        224: 100%|██████████| 75/75 [00:02<00:00, 32.07it/s]\n",
      "               classes   top1_acc   top5_acc: 100%|██████████| 6/6 [00:00<00:00, 96.29it/s]"
     ]
    },
    {
     "name": "stdout",
     "output_type": "stream",
     "text": [
      "                   all      0.854          1\n"
     ]
    },
    {
     "name": "stderr",
     "output_type": "stream",
     "text": [
      "\n"
     ]
    },
    {
     "name": "stdout",
     "output_type": "stream",
     "text": [
      "\n",
      "      Epoch    GPU_mem       loss  Instances       Size\n"
     ]
    },
    {
     "name": "stderr",
     "output_type": "stream",
     "text": [
      "    183/200      1.97G    0.01076         10        224: 100%|██████████| 75/75 [00:02<00:00, 32.08it/s]\n",
      "               classes   top1_acc   top5_acc: 100%|██████████| 6/6 [00:00<00:00, 88.48it/s]"
     ]
    },
    {
     "name": "stdout",
     "output_type": "stream",
     "text": [
      "                   all      0.854          1\n"
     ]
    },
    {
     "name": "stderr",
     "output_type": "stream",
     "text": [
      "\n"
     ]
    },
    {
     "name": "stdout",
     "output_type": "stream",
     "text": [
      "\n",
      "      Epoch    GPU_mem       loss  Instances       Size\n"
     ]
    },
    {
     "name": "stderr",
     "output_type": "stream",
     "text": [
      "    184/200      1.99G    0.01249         10        224: 100%|██████████| 75/75 [00:02<00:00, 32.64it/s]\n",
      "               classes   top1_acc   top5_acc: 100%|██████████| 6/6 [00:00<00:00, 97.20it/s]"
     ]
    },
    {
     "name": "stdout",
     "output_type": "stream",
     "text": [
      "                   all      0.842          1\n"
     ]
    },
    {
     "name": "stderr",
     "output_type": "stream",
     "text": [
      "\n"
     ]
    },
    {
     "name": "stdout",
     "output_type": "stream",
     "text": [
      "\n",
      "      Epoch    GPU_mem       loss  Instances       Size\n"
     ]
    },
    {
     "name": "stderr",
     "output_type": "stream",
     "text": [
      "    185/200      1.95G    0.00557         10        224: 100%|██████████| 75/75 [00:02<00:00, 32.57it/s]\n",
      "               classes   top1_acc   top5_acc: 100%|██████████| 6/6 [00:00<00:00, 95.23it/s]"
     ]
    },
    {
     "name": "stdout",
     "output_type": "stream",
     "text": [
      "                   all      0.842          1\n"
     ]
    },
    {
     "name": "stderr",
     "output_type": "stream",
     "text": [
      "\n"
     ]
    },
    {
     "name": "stdout",
     "output_type": "stream",
     "text": [
      "\n",
      "      Epoch    GPU_mem       loss  Instances       Size\n"
     ]
    },
    {
     "name": "stderr",
     "output_type": "stream",
     "text": [
      "    186/200      1.95G    0.01284         10        224: 100%|██████████| 75/75 [00:02<00:00, 32.78it/s]\n",
      "               classes   top1_acc   top5_acc: 100%|██████████| 6/6 [00:00<00:00, 94.05it/s]"
     ]
    },
    {
     "name": "stdout",
     "output_type": "stream",
     "text": [
      "                   all      0.842          1\n"
     ]
    },
    {
     "name": "stderr",
     "output_type": "stream",
     "text": [
      "\n"
     ]
    },
    {
     "name": "stdout",
     "output_type": "stream",
     "text": [
      "\n",
      "      Epoch    GPU_mem       loss  Instances       Size\n"
     ]
    },
    {
     "name": "stderr",
     "output_type": "stream",
     "text": [
      "    187/200      1.97G   0.004646         10        224: 100%|██████████| 75/75 [00:02<00:00, 31.00it/s]\n",
      "               classes   top1_acc   top5_acc: 100%|██████████| 6/6 [00:00<00:00, 95.86it/s]"
     ]
    },
    {
     "name": "stdout",
     "output_type": "stream",
     "text": [
      "                   all      0.848          1\n"
     ]
    },
    {
     "name": "stderr",
     "output_type": "stream",
     "text": [
      "\n"
     ]
    },
    {
     "name": "stdout",
     "output_type": "stream",
     "text": [
      "\n",
      "      Epoch    GPU_mem       loss  Instances       Size\n"
     ]
    },
    {
     "name": "stderr",
     "output_type": "stream",
     "text": [
      "    188/200      1.99G   0.009992         10        224: 100%|██████████| 75/75 [00:02<00:00, 31.04it/s]\n",
      "               classes   top1_acc   top5_acc: 100%|██████████| 6/6 [00:00<00:00, 95.11it/s]"
     ]
    },
    {
     "name": "stdout",
     "output_type": "stream",
     "text": [
      "                   all      0.848          1\n"
     ]
    },
    {
     "name": "stderr",
     "output_type": "stream",
     "text": [
      "\n"
     ]
    },
    {
     "name": "stdout",
     "output_type": "stream",
     "text": [
      "\n",
      "      Epoch    GPU_mem       loss  Instances       Size\n"
     ]
    },
    {
     "name": "stderr",
     "output_type": "stream",
     "text": [
      "    189/200      1.95G   0.009469         10        224: 100%|██████████| 75/75 [00:02<00:00, 32.34it/s]\n",
      "               classes   top1_acc   top5_acc: 100%|██████████| 6/6 [00:00<00:00, 86.64it/s]"
     ]
    },
    {
     "name": "stdout",
     "output_type": "stream",
     "text": [
      "                   all      0.854          1\n"
     ]
    },
    {
     "name": "stderr",
     "output_type": "stream",
     "text": [
      "\n"
     ]
    },
    {
     "name": "stdout",
     "output_type": "stream",
     "text": [
      "\n",
      "      Epoch    GPU_mem       loss  Instances       Size\n"
     ]
    },
    {
     "name": "stderr",
     "output_type": "stream",
     "text": [
      "    190/200      1.95G   0.007565         10        224: 100%|██████████| 75/75 [00:02<00:00, 32.08it/s]\n",
      "               classes   top1_acc   top5_acc: 100%|██████████| 6/6 [00:00<00:00, 82.56it/s]"
     ]
    },
    {
     "name": "stdout",
     "output_type": "stream",
     "text": [
      "                   all      0.848          1\n"
     ]
    },
    {
     "name": "stderr",
     "output_type": "stream",
     "text": [
      "\n"
     ]
    },
    {
     "name": "stdout",
     "output_type": "stream",
     "text": [
      "\n",
      "      Epoch    GPU_mem       loss  Instances       Size\n"
     ]
    },
    {
     "name": "stderr",
     "output_type": "stream",
     "text": [
      "    191/200      1.97G    0.01128         10        224: 100%|██████████| 75/75 [00:02<00:00, 30.13it/s]\n",
      "               classes   top1_acc   top5_acc: 100%|██████████| 6/6 [00:00<00:00, 96.07it/s]"
     ]
    },
    {
     "name": "stdout",
     "output_type": "stream",
     "text": [
      "                   all      0.854          1\n"
     ]
    },
    {
     "name": "stderr",
     "output_type": "stream",
     "text": [
      "\n"
     ]
    },
    {
     "name": "stdout",
     "output_type": "stream",
     "text": [
      "\n",
      "      Epoch    GPU_mem       loss  Instances       Size\n"
     ]
    },
    {
     "name": "stderr",
     "output_type": "stream",
     "text": [
      "    192/200      1.99G   0.009025         10        224: 100%|██████████| 75/75 [00:02<00:00, 31.39it/s]\n",
      "               classes   top1_acc   top5_acc: 100%|██████████| 6/6 [00:00<00:00, 96.23it/s]"
     ]
    },
    {
     "name": "stdout",
     "output_type": "stream",
     "text": [
      "                   all       0.86          1\n"
     ]
    },
    {
     "name": "stderr",
     "output_type": "stream",
     "text": [
      "\n"
     ]
    },
    {
     "name": "stdout",
     "output_type": "stream",
     "text": [
      "\n",
      "      Epoch    GPU_mem       loss  Instances       Size\n"
     ]
    },
    {
     "name": "stderr",
     "output_type": "stream",
     "text": [
      "    193/200      1.95G   0.006389         10        224: 100%|██████████| 75/75 [00:02<00:00, 30.83it/s]\n",
      "               classes   top1_acc   top5_acc: 100%|██████████| 6/6 [00:00<00:00, 97.28it/s]"
     ]
    },
    {
     "name": "stdout",
     "output_type": "stream",
     "text": [
      "                   all      0.854          1\n"
     ]
    },
    {
     "name": "stderr",
     "output_type": "stream",
     "text": [
      "\n"
     ]
    },
    {
     "name": "stdout",
     "output_type": "stream",
     "text": [
      "\n",
      "      Epoch    GPU_mem       loss  Instances       Size\n"
     ]
    },
    {
     "name": "stderr",
     "output_type": "stream",
     "text": [
      "    194/200      1.95G   0.007517         10        224: 100%|██████████| 75/75 [00:02<00:00, 30.96it/s]\n",
      "               classes   top1_acc   top5_acc: 100%|██████████| 6/6 [00:00<00:00, 93.97it/s]\n"
     ]
    },
    {
     "name": "stdout",
     "output_type": "stream",
     "text": [
      "                   all      0.854          1\n",
      "\n",
      "      Epoch    GPU_mem       loss  Instances       Size\n"
     ]
    },
    {
     "name": "stderr",
     "output_type": "stream",
     "text": [
      "    195/200      1.97G   0.007387         10        224: 100%|██████████| 75/75 [00:02<00:00, 30.77it/s]\n",
      "               classes   top1_acc   top5_acc: 100%|██████████| 6/6 [00:00<00:00, 96.44it/s]"
     ]
    },
    {
     "name": "stdout",
     "output_type": "stream",
     "text": [
      "                   all      0.854          1\n"
     ]
    },
    {
     "name": "stderr",
     "output_type": "stream",
     "text": [
      "\n"
     ]
    },
    {
     "name": "stdout",
     "output_type": "stream",
     "text": [
      "\n",
      "      Epoch    GPU_mem       loss  Instances       Size\n"
     ]
    },
    {
     "name": "stderr",
     "output_type": "stream",
     "text": [
      "    196/200      1.99G    0.01296         10        224: 100%|██████████| 75/75 [00:02<00:00, 31.42it/s]\n",
      "               classes   top1_acc   top5_acc: 100%|██████████| 6/6 [00:00<00:00, 96.51it/s]"
     ]
    },
    {
     "name": "stdout",
     "output_type": "stream",
     "text": [
      "                   all      0.854          1\n"
     ]
    },
    {
     "name": "stderr",
     "output_type": "stream",
     "text": [
      "\n"
     ]
    },
    {
     "name": "stdout",
     "output_type": "stream",
     "text": [
      "\n",
      "      Epoch    GPU_mem       loss  Instances       Size\n"
     ]
    },
    {
     "name": "stderr",
     "output_type": "stream",
     "text": [
      "    197/200      1.95G   0.009829         10        224: 100%|██████████| 75/75 [00:02<00:00, 30.55it/s]\n",
      "               classes   top1_acc   top5_acc: 100%|██████████| 6/6 [00:00<00:00, 95.50it/s]"
     ]
    },
    {
     "name": "stdout",
     "output_type": "stream",
     "text": [
      "                   all       0.86          1\n"
     ]
    },
    {
     "name": "stderr",
     "output_type": "stream",
     "text": [
      "\n"
     ]
    },
    {
     "name": "stdout",
     "output_type": "stream",
     "text": [
      "\n",
      "      Epoch    GPU_mem       loss  Instances       Size\n"
     ]
    },
    {
     "name": "stderr",
     "output_type": "stream",
     "text": [
      "    198/200      1.95G   0.005429         10        224: 100%|██████████| 75/75 [00:02<00:00, 30.89it/s]\n",
      "               classes   top1_acc   top5_acc: 100%|██████████| 6/6 [00:00<00:00, 95.55it/s]"
     ]
    },
    {
     "name": "stdout",
     "output_type": "stream",
     "text": [
      "                   all       0.86          1\n"
     ]
    },
    {
     "name": "stderr",
     "output_type": "stream",
     "text": [
      "\n"
     ]
    },
    {
     "name": "stdout",
     "output_type": "stream",
     "text": [
      "\n",
      "      Epoch    GPU_mem       loss  Instances       Size\n"
     ]
    },
    {
     "name": "stderr",
     "output_type": "stream",
     "text": [
      "    199/200      1.97G    0.01491         10        224: 100%|██████████| 75/75 [00:02<00:00, 31.65it/s]\n",
      "               classes   top1_acc   top5_acc: 100%|██████████| 6/6 [00:00<00:00, 96.65it/s]"
     ]
    },
    {
     "name": "stdout",
     "output_type": "stream",
     "text": [
      "                   all      0.854          1\n"
     ]
    },
    {
     "name": "stderr",
     "output_type": "stream",
     "text": [
      "\n"
     ]
    },
    {
     "name": "stdout",
     "output_type": "stream",
     "text": [
      "\n",
      "      Epoch    GPU_mem       loss  Instances       Size\n"
     ]
    },
    {
     "name": "stderr",
     "output_type": "stream",
     "text": [
      "    200/200      1.99G    0.01869         10        224: 100%|██████████| 75/75 [00:02<00:00, 32.17it/s]\n",
      "               classes   top1_acc   top5_acc: 100%|██████████| 6/6 [00:00<00:00, 93.74it/s]"
     ]
    },
    {
     "name": "stdout",
     "output_type": "stream",
     "text": [
      "                   all      0.854          1\n"
     ]
    },
    {
     "name": "stderr",
     "output_type": "stream",
     "text": [
      "\n"
     ]
    },
    {
     "name": "stdout",
     "output_type": "stream",
     "text": [
      "\n",
      "200 epochs completed in 0.164 hours.\n",
      "Optimizer stripped from runs/classify/train150/weights/last.pt, 31.7MB\n",
      "Optimizer stripped from runs/classify/train150/weights/best.pt, 31.7MB\n",
      "\n",
      "Validating runs/classify/train150/weights/best.pt...\n",
      "Ultralytics 8.3.73 🚀 Python-3.10.12 torch-2.6.0+cu124 CUDA:0 (NVIDIA GeForce RTX 4090, 24210MiB)\n",
      "YOLOv8m-cls summary (fused): 103 layers, 15,765,218 parameters, 0 gradients, 41.6 GFLOPs\n",
      "\u001b[34m\u001b[1mtrain:\u001b[0m /home/jupyter/classifications/stitched_abandonedness/train... found 1194 images in 2 classes ✅ \n",
      "\u001b[34m\u001b[1mval:\u001b[0m /home/jupyter/classifications/stitched_abandonedness/val... found 171 images in 2 classes ✅ \n",
      "\u001b[34m\u001b[1mtest:\u001b[0m /home/jupyter/classifications/stitched_abandonedness/test... found 155 images in 2 classes ✅ \n"
     ]
    },
    {
     "name": "stderr",
     "output_type": "stream",
     "text": [
      "               classes   top1_acc   top5_acc: 100%|██████████| 6/6 [00:00<00:00, 53.76it/s]\n"
     ]
    },
    {
     "name": "stdout",
     "output_type": "stream",
     "text": [
      "                   all      0.895          1\n",
      "Speed: 0.1ms preprocess, 0.5ms inference, 0.0ms loss, 0.0ms postprocess per image\n",
      "Results saved to \u001b[1mruns/classify/train150\u001b[0m\n"
     ]
    }
   ],
   "source": [
    "#training abandonnessModel for stitched view\n",
    "\n",
    "#abandonnessStitchedModel = YOLO(\"yolov8m-cls.pt\")#uncomment to restart training from scratch\n",
    "trainingResults = abandonnessStitchedModel.train(data=\"classifications/stitched_abandonedness\", epochs = 200, fliplr = 0, mosaic = 0)"
   ]
  },
  {
   "cell_type": "code",
   "execution_count": 556,
   "metadata": {
    "editable": true,
    "slideshow": {
     "slide_type": ""
    },
    "tags": []
   },
   "outputs": [],
   "source": [
    "#getting pretrained model\n",
    "modelPath = \"runs/classify/train150/weights/best.pt\"\n",
    "abandonnessStitchedModel = YOLO(modelPath) # stitched view"
   ]
  },
  {
   "cell_type": "code",
   "execution_count": 557,
   "metadata": {
    "editable": true,
    "scrolled": true,
    "slideshow": {
     "slide_type": ""
    },
    "tags": []
   },
   "outputs": [
    {
     "name": "stdout",
     "output_type": "stream",
     "text": [
      "\n",
      "image 1/85 /home/jupyter/classifications/stitched_abandonedness/test/abandoned/v10001_s1001_abandoned_m.png: 224x224 abandoned 1.00, owned 0.00, 4.0ms\n",
      "image 2/85 /home/jupyter/classifications/stitched_abandonedness/test/abandoned/v10004_s1004_abandoned.png: 224x224 abandoned 1.00, owned 0.00, 3.9ms\n",
      "image 3/85 /home/jupyter/classifications/stitched_abandonedness/test/abandoned/v10007_s1007_abandoned.png: 224x224 abandoned 0.98, owned 0.02, 3.9ms\n",
      "image 4/85 /home/jupyter/classifications/stitched_abandonedness/test/abandoned/v10009_s1009_abandoned.png: 224x224 abandoned 1.00, owned 0.00, 3.8ms\n",
      "image 5/85 /home/jupyter/classifications/stitched_abandonedness/test/abandoned/v10053_s1053_abandoned_m.png: 224x224 abandoned 1.00, owned 0.00, 3.9ms\n",
      "image 6/85 /home/jupyter/classifications/stitched_abandonedness/test/abandoned/v10060_s1060_abandoned_m.png: 224x224 abandoned 0.96, owned 0.04, 3.8ms\n",
      "image 7/85 /home/jupyter/classifications/stitched_abandonedness/test/abandoned/v10064_s1064_abandoned.png: 224x224 owned 0.62, abandoned 0.38, 3.9ms\n",
      "image 8/85 /home/jupyter/classifications/stitched_abandonedness/test/abandoned/v10064_s1064_abandoned_m.png: 224x224 abandoned 0.99, owned 0.01, 3.8ms\n",
      "image 9/85 /home/jupyter/classifications/stitched_abandonedness/test/abandoned/v10072_s1072_abandoned.png: 224x224 abandoned 0.97, owned 0.03, 3.8ms\n",
      "image 10/85 /home/jupyter/classifications/stitched_abandonedness/test/abandoned/v10073_s1073_abandoned.png: 224x224 abandoned 1.00, owned 0.00, 3.8ms\n",
      "image 11/85 /home/jupyter/classifications/stitched_abandonedness/test/abandoned/v10084_s1084_abandoned.png: 224x224 abandoned 1.00, owned 0.00, 3.9ms\n",
      "image 12/85 /home/jupyter/classifications/stitched_abandonedness/test/abandoned/v10102_s10102_abandoned_m.png: 224x224 abandoned 1.00, owned 0.00, 3.8ms\n",
      "image 13/85 /home/jupyter/classifications/stitched_abandonedness/test/abandoned/v10130_s10130_abandoned_m.png: 224x224 abandoned 0.99, owned 0.01, 3.9ms\n",
      "image 14/85 /home/jupyter/classifications/stitched_abandonedness/test/abandoned/v10149_s10149_abandoned.png: 224x224 owned 1.00, abandoned 0.00, 3.8ms\n",
      "image 15/85 /home/jupyter/classifications/stitched_abandonedness/test/abandoned/v10149_s10149_abandoned_m.png: 224x224 owned 0.99, abandoned 0.01, 3.8ms\n",
      "image 16/85 /home/jupyter/classifications/stitched_abandonedness/test/abandoned/v10151_s10151_abandoned.png: 224x224 abandoned 1.00, owned 0.00, 3.8ms\n",
      "image 17/85 /home/jupyter/classifications/stitched_abandonedness/test/abandoned/v10155_s10155_abandoned_m.png: 224x224 abandoned 1.00, owned 0.00, 3.8ms\n",
      "image 18/85 /home/jupyter/classifications/stitched_abandonedness/test/abandoned/v10158_s10158_abandoned_m.png: 224x224 abandoned 0.68, owned 0.32, 3.8ms\n",
      "image 19/85 /home/jupyter/classifications/stitched_abandonedness/test/abandoned/v10168_s10168_abandoned.png: 224x224 abandoned 1.00, owned 0.00, 3.8ms\n",
      "image 20/85 /home/jupyter/classifications/stitched_abandonedness/test/abandoned/v10171_s10171_abandoned_m.png: 224x224 abandoned 0.64, owned 0.36, 3.8ms\n",
      "image 21/85 /home/jupyter/classifications/stitched_abandonedness/test/abandoned/v10174_s10174_abandoned.png: 224x224 abandoned 0.94, owned 0.06, 3.8ms\n",
      "image 22/85 /home/jupyter/classifications/stitched_abandonedness/test/abandoned/v10174_s10174_abandoned_m.png: 224x224 owned 0.82, abandoned 0.18, 3.8ms\n",
      "image 23/85 /home/jupyter/classifications/stitched_abandonedness/test/abandoned/v10181_s10181_abandoned.png: 224x224 abandoned 1.00, owned 0.00, 3.8ms\n",
      "image 24/85 /home/jupyter/classifications/stitched_abandonedness/test/abandoned/v10186_s10186_abandoned.png: 224x224 owned 0.96, abandoned 0.04, 3.8ms\n",
      "image 25/85 /home/jupyter/classifications/stitched_abandonedness/test/abandoned/v10189_s10189_abandoned_m.png: 224x224 abandoned 0.99, owned 0.01, 3.7ms\n",
      "image 26/85 /home/jupyter/classifications/stitched_abandonedness/test/abandoned/v10199_s10199_abandoned.png: 224x224 abandoned 0.97, owned 0.03, 3.8ms\n",
      "image 27/85 /home/jupyter/classifications/stitched_abandonedness/test/abandoned/v10214_s10214_abandoned.png: 224x224 abandoned 1.00, owned 0.00, 3.8ms\n",
      "image 28/85 /home/jupyter/classifications/stitched_abandonedness/test/abandoned/v10219_s10219_abandoned_m.png: 224x224 abandoned 1.00, owned 0.00, 3.9ms\n",
      "image 29/85 /home/jupyter/classifications/stitched_abandonedness/test/abandoned/v10230_s10230_abandoned.png: 224x224 abandoned 1.00, owned 0.00, 3.8ms\n",
      "image 30/85 /home/jupyter/classifications/stitched_abandonedness/test/abandoned/v10279_s10279_abandoned_m.png: 224x224 abandoned 1.00, owned 0.00, 3.8ms\n",
      "image 31/85 /home/jupyter/classifications/stitched_abandonedness/test/abandoned/v10285_s10285_abandoned.png: 224x224 abandoned 1.00, owned 0.00, 3.8ms\n",
      "image 32/85 /home/jupyter/classifications/stitched_abandonedness/test/abandoned/v10299_s10299_abandoned_m.png: 224x224 abandoned 1.00, owned 0.00, 3.8ms\n",
      "image 33/85 /home/jupyter/classifications/stitched_abandonedness/test/abandoned/v10301_s10301_abandoned.png: 224x224 abandoned 1.00, owned 0.00, 3.7ms\n",
      "image 34/85 /home/jupyter/classifications/stitched_abandonedness/test/abandoned/v10311_s10311_abandoned_m.png: 224x224 abandoned 0.91, owned 0.09, 3.7ms\n",
      "image 35/85 /home/jupyter/classifications/stitched_abandonedness/test/abandoned/v10333_s10333_abandoned.png: 224x224 abandoned 0.97, owned 0.03, 3.7ms\n",
      "image 36/85 /home/jupyter/classifications/stitched_abandonedness/test/abandoned/v10333_s10333_abandoned_m.png: 224x224 abandoned 0.50, owned 0.50, 3.7ms\n",
      "image 37/85 /home/jupyter/classifications/stitched_abandonedness/test/abandoned/v10343_s10343_abandoned_m.png: 224x224 abandoned 1.00, owned 0.00, 3.8ms\n",
      "image 38/85 /home/jupyter/classifications/stitched_abandonedness/test/abandoned/v10354_s10354_abandoned.png: 224x224 abandoned 1.00, owned 0.00, 3.8ms\n",
      "image 39/85 /home/jupyter/classifications/stitched_abandonedness/test/abandoned/v10364_s10364_abandoned.png: 224x224 abandoned 1.00, owned 0.00, 3.7ms\n",
      "image 40/85 /home/jupyter/classifications/stitched_abandonedness/test/abandoned/v10376_s10376_abandoned_m.png: 224x224 abandoned 0.89, owned 0.11, 3.8ms\n",
      "image 41/85 /home/jupyter/classifications/stitched_abandonedness/test/abandoned/v10379_s10379_abandoned.png: 224x224 abandoned 0.89, owned 0.11, 3.7ms\n",
      "image 42/85 /home/jupyter/classifications/stitched_abandonedness/test/abandoned/v10384_s10384_abandoned.png: 224x224 abandoned 0.99, owned 0.01, 3.8ms\n",
      "image 43/85 /home/jupyter/classifications/stitched_abandonedness/test/abandoned/v10395_s10395_abandoned_m.png: 224x224 abandoned 1.00, owned 0.00, 3.8ms\n",
      "image 44/85 /home/jupyter/classifications/stitched_abandonedness/test/abandoned/v10401_s10401_abandoned.png: 224x224 abandoned 1.00, owned 0.00, 3.8ms\n",
      "image 45/85 /home/jupyter/classifications/stitched_abandonedness/test/abandoned/v10408_s10408_abandoned.png: 224x224 abandoned 1.00, owned 0.00, 3.8ms\n",
      "image 46/85 /home/jupyter/classifications/stitched_abandonedness/test/abandoned/v10412_s10412_abandoned.png: 224x224 abandoned 1.00, owned 0.00, 3.8ms\n",
      "image 47/85 /home/jupyter/classifications/stitched_abandonedness/test/abandoned/v10424_s10424_abandoned.png: 224x224 abandoned 1.00, owned 0.00, 3.8ms\n",
      "image 48/85 /home/jupyter/classifications/stitched_abandonedness/test/abandoned/v10432_s10432_abandoned_m.png: 224x224 abandoned 1.00, owned 0.00, 3.8ms\n",
      "image 49/85 /home/jupyter/classifications/stitched_abandonedness/test/abandoned/v10483_s10483_abandoned.png: 224x224 abandoned 1.00, owned 0.00, 3.8ms\n",
      "image 50/85 /home/jupyter/classifications/stitched_abandonedness/test/abandoned/v10483_s10483_abandoned_m.png: 224x224 abandoned 0.95, owned 0.05, 3.7ms\n",
      "image 51/85 /home/jupyter/classifications/stitched_abandonedness/test/abandoned/v10487_s10487_abandoned.png: 224x224 abandoned 0.91, owned 0.09, 3.7ms\n",
      "image 52/85 /home/jupyter/classifications/stitched_abandonedness/test/abandoned/v10487_s10487_abandoned_m.png: 224x224 abandoned 0.98, owned 0.02, 3.7ms\n",
      "image 53/85 /home/jupyter/classifications/stitched_abandonedness/test/abandoned/v10491_s10491_abandoned_m.png: 224x224 abandoned 1.00, owned 0.00, 3.7ms\n",
      "image 54/85 /home/jupyter/classifications/stitched_abandonedness/test/abandoned/v10493_s10493_abandoned.png: 224x224 abandoned 1.00, owned 0.00, 3.8ms\n",
      "image 55/85 /home/jupyter/classifications/stitched_abandonedness/test/abandoned/v10494_s10494_abandoned.png: 224x224 abandoned 1.00, owned 0.00, 3.7ms\n",
      "image 56/85 /home/jupyter/classifications/stitched_abandonedness/test/abandoned/v10498_s10498_abandoned.png: 224x224 abandoned 0.90, owned 0.10, 3.8ms\n",
      "image 57/85 /home/jupyter/classifications/stitched_abandonedness/test/abandoned/v20003_s2003_abandoned_m.png: 224x224 abandoned 0.81, owned 0.19, 3.7ms\n",
      "image 58/85 /home/jupyter/classifications/stitched_abandonedness/test/abandoned/v20011_s2011_abandoned_m.png: 224x224 abandoned 1.00, owned 0.00, 3.7ms\n",
      "image 59/85 /home/jupyter/classifications/stitched_abandonedness/test/abandoned/v20018_s2018_abandoned.png: 224x224 abandoned 1.00, owned 0.00, 3.8ms\n",
      "image 60/85 /home/jupyter/classifications/stitched_abandonedness/test/abandoned/v20021_s2021_abandoned_m.png: 224x224 abandoned 1.00, owned 0.00, 3.8ms\n",
      "image 61/85 /home/jupyter/classifications/stitched_abandonedness/test/abandoned/v20022_s2022_abandoned_m.png: 224x224 abandoned 1.00, owned 0.00, 3.8ms\n",
      "image 62/85 /home/jupyter/classifications/stitched_abandonedness/test/abandoned/v20046_s2046_abandoned_m.png: 224x224 owned 0.84, abandoned 0.16, 3.8ms\n",
      "image 63/85 /home/jupyter/classifications/stitched_abandonedness/test/abandoned/v20052_s2052_abandoned.png: 224x224 abandoned 1.00, owned 0.00, 3.8ms\n",
      "image 64/85 /home/jupyter/classifications/stitched_abandonedness/test/abandoned/v20052_s2052_abandoned_m.png: 224x224 owned 0.96, abandoned 0.04, 3.9ms\n",
      "image 65/85 /home/jupyter/classifications/stitched_abandonedness/test/abandoned/v20058_s2058_abandoned_m.png: 224x224 abandoned 1.00, owned 0.00, 3.8ms\n",
      "image 66/85 /home/jupyter/classifications/stitched_abandonedness/test/abandoned/v20062_s2062_abandoned_m.png: 224x224 abandoned 1.00, owned 0.00, 3.8ms\n",
      "image 67/85 /home/jupyter/classifications/stitched_abandonedness/test/abandoned/v20073_s2073_abandoned_m.png: 224x224 abandoned 1.00, owned 0.00, 3.7ms\n",
      "image 68/85 /home/jupyter/classifications/stitched_abandonedness/test/abandoned/v20076_s2076_abandoned_m.png: 224x224 abandoned 0.99, owned 0.01, 3.9ms\n",
      "image 69/85 /home/jupyter/classifications/stitched_abandonedness/test/abandoned/v20094_s2094_abandoned.png: 224x224 owned 1.00, abandoned 0.00, 3.8ms\n",
      "image 70/85 /home/jupyter/classifications/stitched_abandonedness/test/abandoned/v20094_s2094_abandoned_m.png: 224x224 owned 0.98, abandoned 0.02, 3.7ms\n",
      "image 71/85 /home/jupyter/classifications/stitched_abandonedness/test/abandoned/v20098_s2098_abandoned_m.png: 224x224 abandoned 1.00, owned 0.00, 3.8ms\n",
      "image 72/85 /home/jupyter/classifications/stitched_abandonedness/test/abandoned/v20101_s20101_abandoned.png: 224x224 abandoned 1.00, owned 0.00, 3.8ms\n",
      "image 73/85 /home/jupyter/classifications/stitched_abandonedness/test/abandoned/v20119_s20119_abandoned_m.png: 224x224 abandoned 0.99, owned 0.01, 3.7ms\n",
      "image 74/85 /home/jupyter/classifications/stitched_abandonedness/test/abandoned/v20121_s20121_abandoned.png: 224x224 abandoned 1.00, owned 0.00, 3.7ms\n",
      "image 75/85 /home/jupyter/classifications/stitched_abandonedness/test/abandoned/v20141_s20141_abandoned_m.png: 224x224 abandoned 0.99, owned 0.01, 3.7ms\n",
      "image 76/85 /home/jupyter/classifications/stitched_abandonedness/test/abandoned/v20149_s20149_abandoned.png: 224x224 abandoned 0.99, owned 0.01, 3.8ms\n",
      "image 77/85 /home/jupyter/classifications/stitched_abandonedness/test/abandoned/v20158_s20158_abandoned_m.png: 224x224 abandoned 1.00, owned 0.00, 3.8ms\n",
      "image 78/85 /home/jupyter/classifications/stitched_abandonedness/test/abandoned/v20170_s20170_abandoned.png: 224x224 abandoned 1.00, owned 0.00, 3.7ms\n",
      "image 79/85 /home/jupyter/classifications/stitched_abandonedness/test/abandoned/v20185_s20185_abandoned.png: 224x224 abandoned 0.89, owned 0.11, 3.8ms\n",
      "image 80/85 /home/jupyter/classifications/stitched_abandonedness/test/abandoned/v20196_s20196_abandoned.png: 224x224 abandoned 1.00, owned 0.00, 3.8ms\n",
      "image 81/85 /home/jupyter/classifications/stitched_abandonedness/test/abandoned/v20196_s20196_abandoned_m.png: 224x224 abandoned 1.00, owned 0.00, 3.8ms\n",
      "image 82/85 /home/jupyter/classifications/stitched_abandonedness/test/abandoned/v20222_s20222_abandoned_m.png: 224x224 abandoned 0.98, owned 0.02, 3.8ms\n",
      "image 83/85 /home/jupyter/classifications/stitched_abandonedness/test/abandoned/v20228_s20228_abandoned.png: 224x224 abandoned 0.98, owned 0.02, 3.8ms\n",
      "image 84/85 /home/jupyter/classifications/stitched_abandonedness/test/abandoned/v20233_s20233_abandoned_m.png: 224x224 abandoned 0.95, owned 0.05, 3.8ms\n",
      "image 85/85 /home/jupyter/classifications/stitched_abandonedness/test/abandoned/v20244_s20244_abandoned_m.png: 224x224 abandoned 0.91, owned 0.09, 3.8ms\n",
      "Speed: 3.9ms preprocess, 3.8ms inference, 0.0ms postprocess per image at shape (1, 3, 224, 224)\n",
      "\n",
      "image 1/70 /home/jupyter/classifications/stitched_abandonedness/test/owned/v10003_s1003_owned_m.png: 224x224 owned 1.00, abandoned 0.00, 3.9ms\n",
      "image 2/70 /home/jupyter/classifications/stitched_abandonedness/test/owned/v10020_s1020_owned.png: 224x224 owned 1.00, abandoned 0.00, 3.8ms\n",
      "image 3/70 /home/jupyter/classifications/stitched_abandonedness/test/owned/v10024_s1024_owned.png: 224x224 abandoned 0.72, owned 0.28, 3.9ms\n",
      "image 4/70 /home/jupyter/classifications/stitched_abandonedness/test/owned/v10031_s1031_owned.png: 224x224 abandoned 0.91, owned 0.09, 3.9ms\n",
      "image 5/70 /home/jupyter/classifications/stitched_abandonedness/test/owned/v10051_s1051_owned_m.png: 224x224 owned 1.00, abandoned 0.00, 3.9ms\n",
      "image 6/70 /home/jupyter/classifications/stitched_abandonedness/test/owned/v10055_s1055_owned.png: 224x224 owned 0.73, abandoned 0.27, 3.8ms\n",
      "image 7/70 /home/jupyter/classifications/stitched_abandonedness/test/owned/v10057_s1057_owned_m.png: 224x224 abandoned 1.00, owned 0.00, 3.8ms\n",
      "image 8/70 /home/jupyter/classifications/stitched_abandonedness/test/owned/v10059_s1059_owned_m.png: 224x224 owned 1.00, abandoned 0.00, 3.8ms\n",
      "image 9/70 /home/jupyter/classifications/stitched_abandonedness/test/owned/v10063_s1063_owned.png: 224x224 abandoned 0.85, owned 0.15, 3.9ms\n",
      "image 10/70 /home/jupyter/classifications/stitched_abandonedness/test/owned/v10080_s1080_owned_m.png: 224x224 owned 1.00, abandoned 0.00, 3.8ms\n",
      "image 11/70 /home/jupyter/classifications/stitched_abandonedness/test/owned/v10096_s1096_owned_m.png: 224x224 owned 0.82, abandoned 0.18, 3.8ms\n",
      "image 12/70 /home/jupyter/classifications/stitched_abandonedness/test/owned/v10101_s10101_owned_m.png: 224x224 abandoned 1.00, owned 0.00, 3.8ms\n",
      "image 13/70 /home/jupyter/classifications/stitched_abandonedness/test/owned/v10121_s10121_owned.png: 224x224 owned 1.00, abandoned 0.00, 3.8ms\n",
      "image 14/70 /home/jupyter/classifications/stitched_abandonedness/test/owned/v10131_s10131_owned_m.png: 224x224 owned 1.00, abandoned 0.00, 3.8ms\n",
      "image 15/70 /home/jupyter/classifications/stitched_abandonedness/test/owned/v10148_s10148_owned.png: 224x224 owned 1.00, abandoned 0.00, 3.8ms\n",
      "image 16/70 /home/jupyter/classifications/stitched_abandonedness/test/owned/v10156_s10156_owned.png: 224x224 owned 1.00, abandoned 0.00, 3.9ms\n",
      "image 17/70 /home/jupyter/classifications/stitched_abandonedness/test/owned/v10187_s10187_owned.png: 224x224 owned 1.00, abandoned 0.00, 3.9ms\n",
      "image 18/70 /home/jupyter/classifications/stitched_abandonedness/test/owned/v10203_s10203_owned.png: 224x224 owned 1.00, abandoned 0.00, 3.8ms\n",
      "image 19/70 /home/jupyter/classifications/stitched_abandonedness/test/owned/v10203_s10203_owned_m.png: 224x224 owned 1.00, abandoned 0.00, 3.7ms\n",
      "image 20/70 /home/jupyter/classifications/stitched_abandonedness/test/owned/v10215_s10215_owned_m.png: 224x224 abandoned 0.99, owned 0.01, 3.8ms\n",
      "image 21/70 /home/jupyter/classifications/stitched_abandonedness/test/owned/v10221_s10221_owned_m.png: 224x224 owned 0.92, abandoned 0.08, 3.8ms\n",
      "image 22/70 /home/jupyter/classifications/stitched_abandonedness/test/owned/v10236_s10236_owned.png: 224x224 abandoned 0.78, owned 0.22, 3.8ms\n",
      "image 23/70 /home/jupyter/classifications/stitched_abandonedness/test/owned/v10238_s10238_owned_m.png: 224x224 owned 1.00, abandoned 0.00, 3.8ms\n",
      "image 24/70 /home/jupyter/classifications/stitched_abandonedness/test/owned/v10253_s10253_owned_m.png: 224x224 owned 1.00, abandoned 0.00, 3.8ms\n",
      "image 25/70 /home/jupyter/classifications/stitched_abandonedness/test/owned/v10258_s10258_owned.png: 224x224 owned 1.00, abandoned 0.00, 3.8ms\n",
      "image 26/70 /home/jupyter/classifications/stitched_abandonedness/test/owned/v10272_s10272_owned.png: 224x224 owned 1.00, abandoned 0.00, 3.8ms\n",
      "image 27/70 /home/jupyter/classifications/stitched_abandonedness/test/owned/v10282_s10282_owned_m.png: 224x224 owned 1.00, abandoned 0.00, 3.8ms\n",
      "image 28/70 /home/jupyter/classifications/stitched_abandonedness/test/owned/v10291_s10291_owned.png: 224x224 owned 1.00, abandoned 0.00, 3.8ms\n",
      "image 29/70 /home/jupyter/classifications/stitched_abandonedness/test/owned/v10302_s10302_owned_m.png: 224x224 owned 0.52, abandoned 0.48, 3.7ms\n",
      "image 30/70 /home/jupyter/classifications/stitched_abandonedness/test/owned/v10308_s10308_owned_m.png: 224x224 owned 1.00, abandoned 0.00, 3.8ms\n",
      "image 31/70 /home/jupyter/classifications/stitched_abandonedness/test/owned/v10324_s10324_owned_m.png: 224x224 owned 0.68, abandoned 0.32, 3.8ms\n",
      "image 32/70 /home/jupyter/classifications/stitched_abandonedness/test/owned/v10334_s10334_owned_m.png: 224x224 owned 1.00, abandoned 0.00, 3.8ms\n",
      "image 33/70 /home/jupyter/classifications/stitched_abandonedness/test/owned/v10345_s10345_owned_m.png: 224x224 owned 1.00, abandoned 0.00, 3.9ms\n",
      "image 34/70 /home/jupyter/classifications/stitched_abandonedness/test/owned/v10371_s10371_owned.png: 224x224 abandoned 0.99, owned 0.01, 3.8ms\n",
      "image 35/70 /home/jupyter/classifications/stitched_abandonedness/test/owned/v10403_s10403_owned.png: 224x224 owned 1.00, abandoned 0.00, 3.7ms\n",
      "image 36/70 /home/jupyter/classifications/stitched_abandonedness/test/owned/v10416_s10416_owned_m.png: 224x224 owned 1.00, abandoned 0.00, 3.8ms\n",
      "image 37/70 /home/jupyter/classifications/stitched_abandonedness/test/owned/v10422_s10422_owned_m.png: 224x224 abandoned 0.68, owned 0.32, 3.8ms\n",
      "image 38/70 /home/jupyter/classifications/stitched_abandonedness/test/owned/v10423_s10423_owned_m.png: 224x224 abandoned 0.60, owned 0.40, 3.8ms\n",
      "image 39/70 /home/jupyter/classifications/stitched_abandonedness/test/owned/v10436_s10436_owned_m.png: 224x224 owned 0.96, abandoned 0.04, 3.8ms\n",
      "image 40/70 /home/jupyter/classifications/stitched_abandonedness/test/owned/v10443_s10443_owned_m.png: 224x224 owned 1.00, abandoned 0.00, 3.8ms\n",
      "image 41/70 /home/jupyter/classifications/stitched_abandonedness/test/owned/v10445_s10445_owned.png: 224x224 owned 1.00, abandoned 0.00, 3.7ms\n",
      "image 42/70 /home/jupyter/classifications/stitched_abandonedness/test/owned/v10470_s10470_owned_m.png: 224x224 owned 1.00, abandoned 0.00, 3.8ms\n",
      "image 43/70 /home/jupyter/classifications/stitched_abandonedness/test/owned/v10477_s10477_owned.png: 224x224 owned 1.00, abandoned 0.00, 3.8ms\n",
      "image 44/70 /home/jupyter/classifications/stitched_abandonedness/test/owned/v20005_s2005_owned_m.png: 224x224 abandoned 0.82, owned 0.18, 3.8ms\n",
      "image 45/70 /home/jupyter/classifications/stitched_abandonedness/test/owned/v20009_s2009_owned.png: 224x224 owned 1.00, abandoned 0.00, 3.8ms\n",
      "image 46/70 /home/jupyter/classifications/stitched_abandonedness/test/owned/v20016_s2016_owned_m.png: 224x224 owned 1.00, abandoned 0.00, 3.8ms\n",
      "image 47/70 /home/jupyter/classifications/stitched_abandonedness/test/owned/v20032_s2032_owned_m.png: 224x224 owned 1.00, abandoned 0.00, 3.8ms\n",
      "image 48/70 /home/jupyter/classifications/stitched_abandonedness/test/owned/v20034_s2034_owned_m.png: 224x224 owned 1.00, abandoned 0.00, 3.8ms\n",
      "image 49/70 /home/jupyter/classifications/stitched_abandonedness/test/owned/v20040_s2040_owned_m.png: 224x224 owned 1.00, abandoned 0.00, 3.8ms\n",
      "image 50/70 /home/jupyter/classifications/stitched_abandonedness/test/owned/v20047_s2047_owned.png: 224x224 owned 0.78, abandoned 0.22, 3.8ms\n",
      "image 51/70 /home/jupyter/classifications/stitched_abandonedness/test/owned/v20050_s2050_owned.png: 224x224 owned 1.00, abandoned 0.00, 3.8ms\n",
      "image 52/70 /home/jupyter/classifications/stitched_abandonedness/test/owned/v20053_s2053_owned.png: 224x224 owned 1.00, abandoned 0.00, 3.8ms\n",
      "image 53/70 /home/jupyter/classifications/stitched_abandonedness/test/owned/v20068_s2068_owned_m.png: 224x224 owned 1.00, abandoned 0.00, 3.8ms\n",
      "image 54/70 /home/jupyter/classifications/stitched_abandonedness/test/owned/v20074_s2074_owned.png: 224x224 abandoned 0.52, owned 0.48, 3.8ms\n",
      "image 55/70 /home/jupyter/classifications/stitched_abandonedness/test/owned/v20074_s2074_owned_m.png: 224x224 owned 0.94, abandoned 0.06, 3.8ms\n",
      "image 56/70 /home/jupyter/classifications/stitched_abandonedness/test/owned/v20078_s2078_owned_m.png: 224x224 abandoned 0.99, owned 0.01, 3.8ms\n",
      "image 57/70 /home/jupyter/classifications/stitched_abandonedness/test/owned/v20083_s2083_owned_m.png: 224x224 owned 1.00, abandoned 0.00, 3.8ms\n",
      "image 58/70 /home/jupyter/classifications/stitched_abandonedness/test/owned/v20089_s2089_owned.png: 224x224 owned 0.93, abandoned 0.07, 3.8ms\n",
      "image 59/70 /home/jupyter/classifications/stitched_abandonedness/test/owned/v20089_s2089_owned_m.png: 224x224 owned 0.95, abandoned 0.05, 3.8ms\n",
      "image 60/70 /home/jupyter/classifications/stitched_abandonedness/test/owned/v20099_s2099_owned.png: 224x224 owned 0.96, abandoned 0.04, 3.8ms\n",
      "image 61/70 /home/jupyter/classifications/stitched_abandonedness/test/owned/v20116_s20116_owned.png: 224x224 owned 1.00, abandoned 0.00, 3.7ms\n",
      "image 62/70 /home/jupyter/classifications/stitched_abandonedness/test/owned/v20125_s20125_owned_m.png: 224x224 owned 0.57, abandoned 0.43, 3.8ms\n",
      "image 63/70 /home/jupyter/classifications/stitched_abandonedness/test/owned/v20130_s20130_owned_m.png: 224x224 owned 0.83, abandoned 0.17, 3.8ms\n",
      "image 64/70 /home/jupyter/classifications/stitched_abandonedness/test/owned/v20132_s20132_owned_m.png: 224x224 owned 0.88, abandoned 0.12, 3.8ms\n",
      "image 65/70 /home/jupyter/classifications/stitched_abandonedness/test/owned/v20137_s20137_owned.png: 224x224 owned 0.88, abandoned 0.12, 3.7ms\n",
      "image 66/70 /home/jupyter/classifications/stitched_abandonedness/test/owned/v20171_s20171_owned_m.png: 224x224 owned 1.00, abandoned 0.00, 3.8ms\n",
      "image 67/70 /home/jupyter/classifications/stitched_abandonedness/test/owned/v20184_s20184_owned_m.png: 224x224 abandoned 1.00, owned 0.00, 3.8ms\n",
      "image 68/70 /home/jupyter/classifications/stitched_abandonedness/test/owned/v20202_s20202_owned.png: 224x224 owned 1.00, abandoned 0.00, 3.8ms\n",
      "image 69/70 /home/jupyter/classifications/stitched_abandonedness/test/owned/v20204_s20204_owned_m.png: 224x224 abandoned 0.95, owned 0.05, 3.7ms\n",
      "image 70/70 /home/jupyter/classifications/stitched_abandonedness/test/owned/v20221_s20221_owned.png: 224x224 owned 1.00, abandoned 0.00, 3.8ms\n",
      "Speed: 4.0ms preprocess, 3.8ms inference, 0.0ms postprocess per image at shape (1, 3, 224, 224)\n"
     ]
    }
   ],
   "source": [
    "#predicting from test data (stitched)\n",
    "testFolderPath = \"classifications/stitched_abandonedness/test/abandoned\"\n",
    "abandonedTestResults = abandonnessStitchedModel.predict(testFolderPath)\n",
    "testFolderPath = \"classifications/stitched_abandonedness/test/owned\"\n",
    "ownedTestResults = abandonnessStitchedModel.predict(testFolderPath)"
   ]
  },
  {
   "cell_type": "code",
   "execution_count": 558,
   "metadata": {},
   "outputs": [
    {
     "name": "stdout",
     "output_type": "stream",
     "text": [
      "Accuracy:  131 / 155  =  0.845\n",
      "\n",
      "Abandonness precision:  0.835\n",
      "Owned precision:  0.859\n",
      "Abandonness recall:  0.894\n",
      "Owned recall:  0.786\n",
      "\n",
      "Abandonness f1 score:  0.864\n",
      "Owned f1 score:  0.821\n"
     ]
    }
   ],
   "source": [
    "analyzeAbandonedTestData(abandonedTestResults, ownedTestResults)"
   ]
  },
  {
   "cell_type": "markdown",
   "metadata": {
    "jp-MarkdownHeadingCollapsed": true
   },
   "source": [
    "## Overlay s&s View "
   ]
  },
  {
   "cell_type": "code",
   "execution_count": 477,
   "metadata": {
    "scrolled": true
   },
   "outputs": [
    {
     "name": "stdout",
     "output_type": "stream",
     "text": [
      "New https://pypi.org/project/ultralytics/8.3.78 available 😃 Update with 'pip install -U ultralytics'\n",
      "Ultralytics 8.3.73 🚀 Python-3.10.12 torch-2.6.0+cu124 CUDA:0 (NVIDIA GeForce RTX 4090, 24210MiB)\n",
      "\u001b[34m\u001b[1mengine/trainer: \u001b[0mtask=classify, mode=train, model=yolov8m-cls.pt, data=classifications/overlay_abandonedness, epochs=200, time=None, patience=100, batch=16, imgsz=224, save=True, save_period=-1, cache=False, device=None, workers=8, project=None, name=train134, exist_ok=False, pretrained=True, optimizer=auto, verbose=True, seed=0, deterministic=True, single_cls=False, rect=False, cos_lr=False, close_mosaic=10, resume=False, amp=True, fraction=1.0, profile=False, freeze=None, multi_scale=False, overlap_mask=True, mask_ratio=4, dropout=0.0, val=True, split=val, save_json=False, save_hybrid=False, conf=None, iou=0.7, max_det=300, half=False, dnn=False, plots=True, source=None, vid_stride=1, stream_buffer=False, visualize=False, augment=False, agnostic_nms=False, classes=None, retina_masks=False, embed=None, show=False, save_frames=False, save_txt=False, save_conf=False, save_crop=False, show_labels=True, show_conf=True, show_boxes=True, line_width=None, format=torchscript, keras=False, optimize=False, int8=False, dynamic=False, simplify=True, opset=None, workspace=None, nms=False, lr0=0.01, lrf=0.01, momentum=0.937, weight_decay=0.0005, warmup_epochs=3.0, warmup_momentum=0.8, warmup_bias_lr=0.1, box=7.5, cls=0.5, dfl=1.5, pose=12.0, kobj=1.0, nbs=64, hsv_h=0.015, hsv_s=0.7, hsv_v=0.4, degrees=0.0, translate=0.1, scale=0.5, shear=0.0, perspective=0.0, flipud=0.0, fliplr=0.5, bgr=0.0, mosaic=1.0, mixup=0.0, copy_paste=0.0, copy_paste_mode=flip, auto_augment=randaugment, erasing=0.4, crop_fraction=1.0, cfg=None, tracker=botsort.yaml, save_dir=runs/classify/train134\n",
      "\u001b[34m\u001b[1mtrain:\u001b[0m /home/jupyter/classifications/overlay_abandonedness/train... found 609 images in 4 classes: ERROR ❌️ requires 2 classes, not 4\n",
      "\u001b[34m\u001b[1mval:\u001b[0m /home/jupyter/classifications/overlay_abandonedness/val... found 77 images in 2 classes ✅ \n",
      "\u001b[34m\u001b[1mtest:\u001b[0m /home/jupyter/classifications/overlay_abandonedness/test... found 76 images in 2 classes ✅ \n",
      "Overriding model.yaml nc=1000 with nc=2\n",
      "\n",
      "                   from  n    params  module                                       arguments                     \n",
      "  0                  -1  1      1392  ultralytics.nn.modules.conv.Conv             [3, 48, 3, 2]                 \n",
      "  1                  -1  1     41664  ultralytics.nn.modules.conv.Conv             [48, 96, 3, 2]                \n",
      "  2                  -1  2    111360  ultralytics.nn.modules.block.C2f             [96, 96, 2, True]             \n",
      "  3                  -1  1    166272  ultralytics.nn.modules.conv.Conv             [96, 192, 3, 2]               \n",
      "  4                  -1  4    813312  ultralytics.nn.modules.block.C2f             [192, 192, 4, True]           \n",
      "  5                  -1  1    664320  ultralytics.nn.modules.conv.Conv             [192, 384, 3, 2]              \n",
      "  6                  -1  4   3248640  ultralytics.nn.modules.block.C2f             [384, 384, 4, True]           \n",
      "  7                  -1  1   2655744  ultralytics.nn.modules.conv.Conv             [384, 768, 3, 2]              \n",
      "  8                  -1  2   7084032  ultralytics.nn.modules.block.C2f             [768, 768, 2, True]           \n",
      "  9                  -1  1    988162  ultralytics.nn.modules.head.Classify         [768, 2]                      \n",
      "YOLOv8m-cls summary: 141 layers, 15,774,898 parameters, 15,774,898 gradients, 41.9 GFLOPs\n",
      "Transferred 228/230 items from pretrained weights\n",
      "\u001b[34m\u001b[1mAMP: \u001b[0mrunning Automatic Mixed Precision (AMP) checks...\n",
      "\u001b[34m\u001b[1mAMP: \u001b[0mchecks passed ✅\n"
     ]
    },
    {
     "name": "stderr",
     "output_type": "stream",
     "text": [
      "\u001b[34m\u001b[1mtrain: \u001b[0mScanning /home/jupyter/classifications/overlay_abandonedness/train... 609 images, 0 corrupt: 100%|██████████| 609\u001b[0m\n",
      "\u001b[34m\u001b[1mval: \u001b[0mScanning /home/jupyter/classifications/overlay_abandonedness/val... 77 images, 0 corrupt: 100%|██████████| 77/77 [0\u001b[0m\n"
     ]
    },
    {
     "name": "stdout",
     "output_type": "stream",
     "text": [
      "\u001b[34m\u001b[1moptimizer:\u001b[0m 'optimizer=auto' found, ignoring 'lr0=0.01' and 'momentum=0.937' and determining best 'optimizer', 'lr0' and 'momentum' automatically... \n",
      "\u001b[34m\u001b[1moptimizer:\u001b[0m AdamW(lr=0.001667, momentum=0.9) with parameter groups 38 weight(decay=0.0), 39 weight(decay=0.0005), 39 bias(decay=0.0)\n",
      "Image sizes 224 train, 224 val\n",
      "Using 8 dataloader workers\n",
      "Logging results to \u001b[1mruns/classify/train134\u001b[0m\n",
      "Starting training for 200 epochs...\n",
      "\n",
      "      Epoch    GPU_mem       loss  Instances       Size\n"
     ]
    },
    {
     "name": "stderr",
     "output_type": "stream",
     "text": [
      "      1/200      2.06G     0.6538          1        224: 100%|██████████| 39/39 [00:01<00:00, 24.33it/s]\n",
      "               classes   top1_acc   top5_acc: 100%|██████████| 3/3 [00:00<00:00, 101.02it/s]"
     ]
    },
    {
     "name": "stdout",
     "output_type": "stream",
     "text": [
      "                   all      0.727          1\n"
     ]
    },
    {
     "name": "stderr",
     "output_type": "stream",
     "text": [
      "\n"
     ]
    },
    {
     "name": "stdout",
     "output_type": "stream",
     "text": [
      "\n",
      "      Epoch    GPU_mem       loss  Instances       Size\n"
     ]
    },
    {
     "name": "stderr",
     "output_type": "stream",
     "text": [
      "      2/200      1.81G      0.539          1        224: 100%|██████████| 39/39 [00:01<00:00, 28.29it/s]\n",
      "               classes   top1_acc   top5_acc: 100%|██████████| 3/3 [00:00<00:00, 97.09it/s]"
     ]
    },
    {
     "name": "stdout",
     "output_type": "stream",
     "text": [
      "                   all      0.662          1\n"
     ]
    },
    {
     "name": "stderr",
     "output_type": "stream",
     "text": [
      "\n"
     ]
    },
    {
     "name": "stdout",
     "output_type": "stream",
     "text": [
      "\n",
      "      Epoch    GPU_mem       loss  Instances       Size\n"
     ]
    },
    {
     "name": "stderr",
     "output_type": "stream",
     "text": [
      "      3/200       1.8G     0.4833          1        224: 100%|██████████| 39/39 [00:01<00:00, 30.88it/s]\n",
      "               classes   top1_acc   top5_acc: 100%|██████████| 3/3 [00:00<00:00, 93.41it/s]"
     ]
    },
    {
     "name": "stdout",
     "output_type": "stream",
     "text": [
      "                   all      0.688          1\n"
     ]
    },
    {
     "name": "stderr",
     "output_type": "stream",
     "text": [
      "\n"
     ]
    },
    {
     "name": "stdout",
     "output_type": "stream",
     "text": [
      "\n",
      "      Epoch    GPU_mem       loss  Instances       Size\n"
     ]
    },
    {
     "name": "stderr",
     "output_type": "stream",
     "text": [
      "      4/200      1.78G     0.4924          1        224: 100%|██████████| 39/39 [00:01<00:00, 31.30it/s]\n",
      "               classes   top1_acc   top5_acc: 100%|██████████| 3/3 [00:00<00:00, 100.22it/s]"
     ]
    },
    {
     "name": "stdout",
     "output_type": "stream",
     "text": [
      "                   all      0.714          1\n"
     ]
    },
    {
     "name": "stderr",
     "output_type": "stream",
     "text": [
      "\n"
     ]
    },
    {
     "name": "stdout",
     "output_type": "stream",
     "text": [
      "\n",
      "      Epoch    GPU_mem       loss  Instances       Size\n"
     ]
    },
    {
     "name": "stderr",
     "output_type": "stream",
     "text": [
      "      5/200      1.78G     0.5194          1        224: 100%|██████████| 39/39 [00:01<00:00, 32.00it/s]\n",
      "               classes   top1_acc   top5_acc: 100%|██████████| 3/3 [00:00<00:00, 102.58it/s]"
     ]
    },
    {
     "name": "stdout",
     "output_type": "stream",
     "text": [
      "                   all      0.688          1\n"
     ]
    },
    {
     "name": "stderr",
     "output_type": "stream",
     "text": [
      "\n"
     ]
    },
    {
     "name": "stdout",
     "output_type": "stream",
     "text": [
      "\n",
      "      Epoch    GPU_mem       loss  Instances       Size\n"
     ]
    },
    {
     "name": "stderr",
     "output_type": "stream",
     "text": [
      "      6/200      1.78G     0.4984          1        224: 100%|██████████| 39/39 [00:01<00:00, 32.62it/s]\n",
      "               classes   top1_acc   top5_acc: 100%|██████████| 3/3 [00:00<00:00, 96.71it/s]"
     ]
    },
    {
     "name": "stdout",
     "output_type": "stream",
     "text": [
      "                   all      0.688          1\n"
     ]
    },
    {
     "name": "stderr",
     "output_type": "stream",
     "text": [
      "\n"
     ]
    },
    {
     "name": "stdout",
     "output_type": "stream",
     "text": [
      "\n",
      "      Epoch    GPU_mem       loss  Instances       Size\n"
     ]
    },
    {
     "name": "stderr",
     "output_type": "stream",
     "text": [
      "      7/200      1.78G     0.3895          1        224: 100%|██████████| 39/39 [00:01<00:00, 32.72it/s]\n",
      "               classes   top1_acc   top5_acc: 100%|██████████| 3/3 [00:00<00:00, 96.74it/s]"
     ]
    },
    {
     "name": "stdout",
     "output_type": "stream",
     "text": [
      "                   all      0.688          1\n"
     ]
    },
    {
     "name": "stderr",
     "output_type": "stream",
     "text": [
      "\n"
     ]
    },
    {
     "name": "stdout",
     "output_type": "stream",
     "text": [
      "\n",
      "      Epoch    GPU_mem       loss  Instances       Size\n"
     ]
    },
    {
     "name": "stderr",
     "output_type": "stream",
     "text": [
      "      8/200      1.78G     0.4407          1        224: 100%|██████████| 39/39 [00:01<00:00, 32.59it/s]\n",
      "               classes   top1_acc   top5_acc: 100%|██████████| 3/3 [00:00<00:00, 99.04it/s]"
     ]
    },
    {
     "name": "stdout",
     "output_type": "stream",
     "text": [
      "                   all      0.636          1\n"
     ]
    },
    {
     "name": "stderr",
     "output_type": "stream",
     "text": [
      "\n"
     ]
    },
    {
     "name": "stdout",
     "output_type": "stream",
     "text": [
      "\n",
      "      Epoch    GPU_mem       loss  Instances       Size\n"
     ]
    },
    {
     "name": "stderr",
     "output_type": "stream",
     "text": [
      "      9/200      1.78G     0.4339          1        224: 100%|██████████| 39/39 [00:01<00:00, 32.19it/s]\n",
      "               classes   top1_acc   top5_acc: 100%|██████████| 3/3 [00:00<00:00, 91.78it/s]"
     ]
    },
    {
     "name": "stdout",
     "output_type": "stream",
     "text": [
      "                   all      0.571          1\n"
     ]
    },
    {
     "name": "stderr",
     "output_type": "stream",
     "text": [
      "\n"
     ]
    },
    {
     "name": "stdout",
     "output_type": "stream",
     "text": [
      "\n",
      "      Epoch    GPU_mem       loss  Instances       Size\n"
     ]
    },
    {
     "name": "stderr",
     "output_type": "stream",
     "text": [
      "     10/200      1.78G     0.3949          1        224: 100%|██████████| 39/39 [00:01<00:00, 31.52it/s]\n",
      "               classes   top1_acc   top5_acc: 100%|██████████| 3/3 [00:00<00:00, 88.86it/s]"
     ]
    },
    {
     "name": "stdout",
     "output_type": "stream",
     "text": [
      "                   all      0.701          1\n"
     ]
    },
    {
     "name": "stderr",
     "output_type": "stream",
     "text": [
      "\n"
     ]
    },
    {
     "name": "stdout",
     "output_type": "stream",
     "text": [
      "\n",
      "      Epoch    GPU_mem       loss  Instances       Size\n"
     ]
    },
    {
     "name": "stderr",
     "output_type": "stream",
     "text": [
      "     11/200      1.78G     0.4294          1        224: 100%|██████████| 39/39 [00:01<00:00, 30.74it/s]\n",
      "               classes   top1_acc   top5_acc: 100%|██████████| 3/3 [00:00<00:00, 102.09it/s]"
     ]
    },
    {
     "name": "stdout",
     "output_type": "stream",
     "text": [
      "                   all      0.753          1\n"
     ]
    },
    {
     "name": "stderr",
     "output_type": "stream",
     "text": [
      "\n"
     ]
    },
    {
     "name": "stdout",
     "output_type": "stream",
     "text": [
      "\n",
      "      Epoch    GPU_mem       loss  Instances       Size\n"
     ]
    },
    {
     "name": "stderr",
     "output_type": "stream",
     "text": [
      "     12/200      1.78G     0.3751          1        224: 100%|██████████| 39/39 [00:01<00:00, 31.93it/s]\n",
      "               classes   top1_acc   top5_acc: 100%|██████████| 3/3 [00:00<00:00, 99.34it/s]"
     ]
    },
    {
     "name": "stdout",
     "output_type": "stream",
     "text": [
      "                   all      0.753          1\n"
     ]
    },
    {
     "name": "stderr",
     "output_type": "stream",
     "text": [
      "\n"
     ]
    },
    {
     "name": "stdout",
     "output_type": "stream",
     "text": [
      "\n",
      "      Epoch    GPU_mem       loss  Instances       Size\n"
     ]
    },
    {
     "name": "stderr",
     "output_type": "stream",
     "text": [
      "     13/200      1.78G      0.331          1        224: 100%|██████████| 39/39 [00:01<00:00, 31.46it/s]\n",
      "               classes   top1_acc   top5_acc: 100%|██████████| 3/3 [00:00<00:00, 96.54it/s]"
     ]
    },
    {
     "name": "stdout",
     "output_type": "stream",
     "text": [
      "                   all      0.714          1\n"
     ]
    },
    {
     "name": "stderr",
     "output_type": "stream",
     "text": [
      "\n"
     ]
    },
    {
     "name": "stdout",
     "output_type": "stream",
     "text": [
      "\n",
      "      Epoch    GPU_mem       loss  Instances       Size\n"
     ]
    },
    {
     "name": "stderr",
     "output_type": "stream",
     "text": [
      "     14/200      1.78G     0.3664          1        224: 100%|██████████| 39/39 [00:01<00:00, 31.44it/s]\n",
      "               classes   top1_acc   top5_acc: 100%|██████████| 3/3 [00:00<00:00, 96.05it/s]"
     ]
    },
    {
     "name": "stdout",
     "output_type": "stream",
     "text": [
      "                   all      0.649          1\n"
     ]
    },
    {
     "name": "stderr",
     "output_type": "stream",
     "text": [
      "\n"
     ]
    },
    {
     "name": "stdout",
     "output_type": "stream",
     "text": [
      "\n",
      "      Epoch    GPU_mem       loss  Instances       Size\n"
     ]
    },
    {
     "name": "stderr",
     "output_type": "stream",
     "text": [
      "     15/200      1.78G     0.3087          1        224: 100%|██████████| 39/39 [00:01<00:00, 31.72it/s]\n",
      "               classes   top1_acc   top5_acc: 100%|██████████| 3/3 [00:00<00:00, 96.80it/s]"
     ]
    },
    {
     "name": "stdout",
     "output_type": "stream",
     "text": [
      "                   all      0.662          1\n"
     ]
    },
    {
     "name": "stderr",
     "output_type": "stream",
     "text": [
      "\n"
     ]
    },
    {
     "name": "stdout",
     "output_type": "stream",
     "text": [
      "\n",
      "      Epoch    GPU_mem       loss  Instances       Size\n"
     ]
    },
    {
     "name": "stderr",
     "output_type": "stream",
     "text": [
      "     16/200      1.78G     0.2753          1        224: 100%|██████████| 39/39 [00:01<00:00, 31.99it/s]\n",
      "               classes   top1_acc   top5_acc: 100%|██████████| 3/3 [00:00<00:00, 93.39it/s]"
     ]
    },
    {
     "name": "stdout",
     "output_type": "stream",
     "text": [
      "                   all      0.662          1\n"
     ]
    },
    {
     "name": "stderr",
     "output_type": "stream",
     "text": [
      "\n"
     ]
    },
    {
     "name": "stdout",
     "output_type": "stream",
     "text": [
      "\n",
      "      Epoch    GPU_mem       loss  Instances       Size\n"
     ]
    },
    {
     "name": "stderr",
     "output_type": "stream",
     "text": [
      "     17/200      1.78G     0.1922          1        224: 100%|██████████| 39/39 [00:01<00:00, 32.79it/s]\n",
      "               classes   top1_acc   top5_acc: 100%|██████████| 3/3 [00:00<00:00, 97.12it/s]"
     ]
    },
    {
     "name": "stdout",
     "output_type": "stream",
     "text": [
      "                   all       0.74          1\n"
     ]
    },
    {
     "name": "stderr",
     "output_type": "stream",
     "text": [
      "\n"
     ]
    },
    {
     "name": "stdout",
     "output_type": "stream",
     "text": [
      "\n",
      "      Epoch    GPU_mem       loss  Instances       Size\n"
     ]
    },
    {
     "name": "stderr",
     "output_type": "stream",
     "text": [
      "     18/200      1.78G     0.2358          1        224: 100%|██████████| 39/39 [00:01<00:00, 31.50it/s]\n",
      "               classes   top1_acc   top5_acc: 100%|██████████| 3/3 [00:00<00:00, 99.54it/s]"
     ]
    },
    {
     "name": "stdout",
     "output_type": "stream",
     "text": [
      "                   all      0.688          1\n"
     ]
    },
    {
     "name": "stderr",
     "output_type": "stream",
     "text": [
      "\n"
     ]
    },
    {
     "name": "stdout",
     "output_type": "stream",
     "text": [
      "\n",
      "      Epoch    GPU_mem       loss  Instances       Size\n"
     ]
    },
    {
     "name": "stderr",
     "output_type": "stream",
     "text": [
      "     19/200      1.78G     0.2564          1        224: 100%|██████████| 39/39 [00:01<00:00, 31.52it/s]\n",
      "               classes   top1_acc   top5_acc: 100%|██████████| 3/3 [00:00<00:00, 99.87it/s]"
     ]
    },
    {
     "name": "stdout",
     "output_type": "stream",
     "text": [
      "                   all      0.727          1\n"
     ]
    },
    {
     "name": "stderr",
     "output_type": "stream",
     "text": [
      "\n"
     ]
    },
    {
     "name": "stdout",
     "output_type": "stream",
     "text": [
      "\n",
      "      Epoch    GPU_mem       loss  Instances       Size\n"
     ]
    },
    {
     "name": "stderr",
     "output_type": "stream",
     "text": [
      "     20/200      1.78G     0.2991          1        224: 100%|██████████| 39/39 [00:01<00:00, 31.85it/s]\n",
      "               classes   top1_acc   top5_acc: 100%|██████████| 3/3 [00:00<00:00, 98.18it/s]"
     ]
    },
    {
     "name": "stdout",
     "output_type": "stream",
     "text": [
      "                   all      0.714          1\n"
     ]
    },
    {
     "name": "stderr",
     "output_type": "stream",
     "text": [
      "\n"
     ]
    },
    {
     "name": "stdout",
     "output_type": "stream",
     "text": [
      "\n",
      "      Epoch    GPU_mem       loss  Instances       Size\n"
     ]
    },
    {
     "name": "stderr",
     "output_type": "stream",
     "text": [
      "     21/200      1.78G     0.2838          1        224: 100%|██████████| 39/39 [00:01<00:00, 31.58it/s]\n",
      "               classes   top1_acc   top5_acc: 100%|██████████| 3/3 [00:00<00:00, 96.19it/s]"
     ]
    },
    {
     "name": "stdout",
     "output_type": "stream",
     "text": [
      "                   all      0.662          1\n"
     ]
    },
    {
     "name": "stderr",
     "output_type": "stream",
     "text": [
      "\n"
     ]
    },
    {
     "name": "stdout",
     "output_type": "stream",
     "text": [
      "\n",
      "      Epoch    GPU_mem       loss  Instances       Size\n"
     ]
    },
    {
     "name": "stderr",
     "output_type": "stream",
     "text": [
      "     22/200      1.78G     0.2275          1        224: 100%|██████████| 39/39 [00:01<00:00, 32.14it/s]\n",
      "               classes   top1_acc   top5_acc: 100%|██████████| 3/3 [00:00<00:00, 96.62it/s]"
     ]
    },
    {
     "name": "stdout",
     "output_type": "stream",
     "text": [
      "                   all      0.688          1\n"
     ]
    },
    {
     "name": "stderr",
     "output_type": "stream",
     "text": [
      "\n"
     ]
    },
    {
     "name": "stdout",
     "output_type": "stream",
     "text": [
      "\n",
      "      Epoch    GPU_mem       loss  Instances       Size\n"
     ]
    },
    {
     "name": "stderr",
     "output_type": "stream",
     "text": [
      "     23/200      1.78G      0.207          1        224: 100%|██████████| 39/39 [00:01<00:00, 32.88it/s]\n",
      "               classes   top1_acc   top5_acc: 100%|██████████| 3/3 [00:00<00:00, 100.93it/s]"
     ]
    },
    {
     "name": "stdout",
     "output_type": "stream",
     "text": [
      "                   all      0.675          1\n"
     ]
    },
    {
     "name": "stderr",
     "output_type": "stream",
     "text": [
      "\n"
     ]
    },
    {
     "name": "stdout",
     "output_type": "stream",
     "text": [
      "\n",
      "      Epoch    GPU_mem       loss  Instances       Size\n"
     ]
    },
    {
     "name": "stderr",
     "output_type": "stream",
     "text": [
      "     24/200      1.78G     0.2103          1        224: 100%|██████████| 39/39 [00:01<00:00, 32.91it/s]\n",
      "               classes   top1_acc   top5_acc: 100%|██████████| 3/3 [00:00<00:00, 100.95it/s]"
     ]
    },
    {
     "name": "stdout",
     "output_type": "stream",
     "text": [
      "                   all      0.636          1\n"
     ]
    },
    {
     "name": "stderr",
     "output_type": "stream",
     "text": [
      "\n"
     ]
    },
    {
     "name": "stdout",
     "output_type": "stream",
     "text": [
      "\n",
      "      Epoch    GPU_mem       loss  Instances       Size\n"
     ]
    },
    {
     "name": "stderr",
     "output_type": "stream",
     "text": [
      "     25/200      1.78G     0.2751          1        224: 100%|██████████| 39/39 [00:01<00:00, 32.91it/s]\n",
      "               classes   top1_acc   top5_acc: 100%|██████████| 3/3 [00:00<00:00, 97.40it/s]"
     ]
    },
    {
     "name": "stdout",
     "output_type": "stream",
     "text": [
      "                   all      0.688          1\n"
     ]
    },
    {
     "name": "stderr",
     "output_type": "stream",
     "text": [
      "\n"
     ]
    },
    {
     "name": "stdout",
     "output_type": "stream",
     "text": [
      "\n",
      "      Epoch    GPU_mem       loss  Instances       Size\n"
     ]
    },
    {
     "name": "stderr",
     "output_type": "stream",
     "text": [
      "     26/200      1.78G     0.2194          1        224: 100%|██████████| 39/39 [00:01<00:00, 32.87it/s]\n",
      "               classes   top1_acc   top5_acc: 100%|██████████| 3/3 [00:00<00:00, 96.53it/s]"
     ]
    },
    {
     "name": "stdout",
     "output_type": "stream",
     "text": [
      "                   all      0.675          1\n"
     ]
    },
    {
     "name": "stderr",
     "output_type": "stream",
     "text": [
      "\n"
     ]
    },
    {
     "name": "stdout",
     "output_type": "stream",
     "text": [
      "\n",
      "      Epoch    GPU_mem       loss  Instances       Size\n"
     ]
    },
    {
     "name": "stderr",
     "output_type": "stream",
     "text": [
      "     27/200      1.78G     0.1394          1        224: 100%|██████████| 39/39 [00:01<00:00, 33.04it/s]\n",
      "               classes   top1_acc   top5_acc: 100%|██████████| 3/3 [00:00<00:00, 95.90it/s]"
     ]
    },
    {
     "name": "stdout",
     "output_type": "stream",
     "text": [
      "                   all      0.675          1\n"
     ]
    },
    {
     "name": "stderr",
     "output_type": "stream",
     "text": [
      "\n"
     ]
    },
    {
     "name": "stdout",
     "output_type": "stream",
     "text": [
      "\n",
      "      Epoch    GPU_mem       loss  Instances       Size\n"
     ]
    },
    {
     "name": "stderr",
     "output_type": "stream",
     "text": [
      "     28/200      1.78G     0.1747          1        224: 100%|██████████| 39/39 [00:01<00:00, 33.43it/s]\n",
      "               classes   top1_acc   top5_acc: 100%|██████████| 3/3 [00:00<00:00, 99.40it/s]"
     ]
    },
    {
     "name": "stdout",
     "output_type": "stream",
     "text": [
      "                   all      0.701          1\n"
     ]
    },
    {
     "name": "stderr",
     "output_type": "stream",
     "text": [
      "\n"
     ]
    },
    {
     "name": "stdout",
     "output_type": "stream",
     "text": [
      "\n",
      "      Epoch    GPU_mem       loss  Instances       Size\n"
     ]
    },
    {
     "name": "stderr",
     "output_type": "stream",
     "text": [
      "     29/200      1.78G     0.2126          1        224: 100%|██████████| 39/39 [00:01<00:00, 30.60it/s]\n",
      "               classes   top1_acc   top5_acc: 100%|██████████| 3/3 [00:00<00:00, 96.06it/s]"
     ]
    },
    {
     "name": "stdout",
     "output_type": "stream",
     "text": [
      "                   all      0.727          1\n"
     ]
    },
    {
     "name": "stderr",
     "output_type": "stream",
     "text": [
      "\n"
     ]
    },
    {
     "name": "stdout",
     "output_type": "stream",
     "text": [
      "\n",
      "      Epoch    GPU_mem       loss  Instances       Size\n"
     ]
    },
    {
     "name": "stderr",
     "output_type": "stream",
     "text": [
      "     30/200      1.78G     0.1859          1        224: 100%|██████████| 39/39 [00:01<00:00, 32.81it/s]\n",
      "               classes   top1_acc   top5_acc: 100%|██████████| 3/3 [00:00<00:00, 94.98it/s]"
     ]
    },
    {
     "name": "stdout",
     "output_type": "stream",
     "text": [
      "                   all      0.662          1\n"
     ]
    },
    {
     "name": "stderr",
     "output_type": "stream",
     "text": [
      "\n"
     ]
    },
    {
     "name": "stdout",
     "output_type": "stream",
     "text": [
      "\n",
      "      Epoch    GPU_mem       loss  Instances       Size\n"
     ]
    },
    {
     "name": "stderr",
     "output_type": "stream",
     "text": [
      "     31/200      1.78G      0.184          1        224: 100%|██████████| 39/39 [00:01<00:00, 32.53it/s]\n",
      "               classes   top1_acc   top5_acc: 100%|██████████| 3/3 [00:00<00:00, 100.24it/s]\n"
     ]
    },
    {
     "name": "stdout",
     "output_type": "stream",
     "text": [
      "                   all      0.701          1\n",
      "\n",
      "      Epoch    GPU_mem       loss  Instances       Size\n"
     ]
    },
    {
     "name": "stderr",
     "output_type": "stream",
     "text": [
      "     32/200      1.78G      0.205          1        224: 100%|██████████| 39/39 [00:01<00:00, 33.19it/s]\n",
      "               classes   top1_acc   top5_acc: 100%|██████████| 3/3 [00:00<00:00, 100.02it/s]"
     ]
    },
    {
     "name": "stdout",
     "output_type": "stream",
     "text": [
      "                   all       0.74          1\n"
     ]
    },
    {
     "name": "stderr",
     "output_type": "stream",
     "text": [
      "\n"
     ]
    },
    {
     "name": "stdout",
     "output_type": "stream",
     "text": [
      "\n",
      "      Epoch    GPU_mem       loss  Instances       Size\n"
     ]
    },
    {
     "name": "stderr",
     "output_type": "stream",
     "text": [
      "     33/200      1.78G     0.1555          1        224: 100%|██████████| 39/39 [00:01<00:00, 32.74it/s]\n",
      "               classes   top1_acc   top5_acc: 100%|██████████| 3/3 [00:00<00:00, 96.29it/s]"
     ]
    },
    {
     "name": "stdout",
     "output_type": "stream",
     "text": [
      "                   all      0.688          1\n"
     ]
    },
    {
     "name": "stderr",
     "output_type": "stream",
     "text": [
      "\n"
     ]
    },
    {
     "name": "stdout",
     "output_type": "stream",
     "text": [
      "\n",
      "      Epoch    GPU_mem       loss  Instances       Size\n"
     ]
    },
    {
     "name": "stderr",
     "output_type": "stream",
     "text": [
      "     34/200      1.78G     0.1683          1        224: 100%|██████████| 39/39 [00:01<00:00, 32.85it/s]\n",
      "               classes   top1_acc   top5_acc: 100%|██████████| 3/3 [00:00<00:00, 83.02it/s]"
     ]
    },
    {
     "name": "stdout",
     "output_type": "stream",
     "text": [
      "                   all      0.701          1\n"
     ]
    },
    {
     "name": "stderr",
     "output_type": "stream",
     "text": [
      "\n"
     ]
    },
    {
     "name": "stdout",
     "output_type": "stream",
     "text": [
      "\n",
      "      Epoch    GPU_mem       loss  Instances       Size\n"
     ]
    },
    {
     "name": "stderr",
     "output_type": "stream",
     "text": [
      "     35/200      1.78G     0.1516          1        224: 100%|██████████| 39/39 [00:01<00:00, 32.91it/s]\n",
      "               classes   top1_acc   top5_acc: 100%|██████████| 3/3 [00:00<00:00, 96.82it/s]"
     ]
    },
    {
     "name": "stdout",
     "output_type": "stream",
     "text": [
      "                   all      0.701          1\n"
     ]
    },
    {
     "name": "stderr",
     "output_type": "stream",
     "text": [
      "\n"
     ]
    },
    {
     "name": "stdout",
     "output_type": "stream",
     "text": [
      "\n",
      "      Epoch    GPU_mem       loss  Instances       Size\n"
     ]
    },
    {
     "name": "stderr",
     "output_type": "stream",
     "text": [
      "     36/200      1.78G     0.2089          1        224: 100%|██████████| 39/39 [00:01<00:00, 31.99it/s]\n",
      "               classes   top1_acc   top5_acc: 100%|██████████| 3/3 [00:00<00:00, 96.09it/s]"
     ]
    },
    {
     "name": "stdout",
     "output_type": "stream",
     "text": [
      "                   all       0.74          1\n"
     ]
    },
    {
     "name": "stderr",
     "output_type": "stream",
     "text": [
      "\n"
     ]
    },
    {
     "name": "stdout",
     "output_type": "stream",
     "text": [
      "\n",
      "      Epoch    GPU_mem       loss  Instances       Size\n"
     ]
    },
    {
     "name": "stderr",
     "output_type": "stream",
     "text": [
      "     37/200      1.78G     0.1609          1        224: 100%|██████████| 39/39 [00:01<00:00, 31.86it/s]\n",
      "               classes   top1_acc   top5_acc: 100%|██████████| 3/3 [00:00<00:00, 99.49it/s]"
     ]
    },
    {
     "name": "stdout",
     "output_type": "stream",
     "text": [
      "                   all      0.636          1\n"
     ]
    },
    {
     "name": "stderr",
     "output_type": "stream",
     "text": [
      "\n"
     ]
    },
    {
     "name": "stdout",
     "output_type": "stream",
     "text": [
      "\n",
      "      Epoch    GPU_mem       loss  Instances       Size\n"
     ]
    },
    {
     "name": "stderr",
     "output_type": "stream",
     "text": [
      "     38/200      1.78G     0.1368          1        224: 100%|██████████| 39/39 [00:01<00:00, 31.64it/s]\n",
      "               classes   top1_acc   top5_acc: 100%|██████████| 3/3 [00:00<00:00, 97.01it/s]"
     ]
    },
    {
     "name": "stdout",
     "output_type": "stream",
     "text": [
      "                   all      0.714          1\n"
     ]
    },
    {
     "name": "stderr",
     "output_type": "stream",
     "text": [
      "\n"
     ]
    },
    {
     "name": "stdout",
     "output_type": "stream",
     "text": [
      "\n",
      "      Epoch    GPU_mem       loss  Instances       Size\n"
     ]
    },
    {
     "name": "stderr",
     "output_type": "stream",
     "text": [
      "     39/200      1.78G     0.1434          1        224: 100%|██████████| 39/39 [00:01<00:00, 31.55it/s]\n",
      "               classes   top1_acc   top5_acc: 100%|██████████| 3/3 [00:00<00:00, 95.87it/s]"
     ]
    },
    {
     "name": "stdout",
     "output_type": "stream",
     "text": [
      "                   all       0.61          1\n"
     ]
    },
    {
     "name": "stderr",
     "output_type": "stream",
     "text": [
      "\n"
     ]
    },
    {
     "name": "stdout",
     "output_type": "stream",
     "text": [
      "\n",
      "      Epoch    GPU_mem       loss  Instances       Size\n"
     ]
    },
    {
     "name": "stderr",
     "output_type": "stream",
     "text": [
      "     40/200      1.78G     0.1309          1        224: 100%|██████████| 39/39 [00:01<00:00, 32.27it/s]\n",
      "               classes   top1_acc   top5_acc: 100%|██████████| 3/3 [00:00<00:00, 97.60it/s]"
     ]
    },
    {
     "name": "stdout",
     "output_type": "stream",
     "text": [
      "                   all       0.61          1\n"
     ]
    },
    {
     "name": "stderr",
     "output_type": "stream",
     "text": [
      "\n"
     ]
    },
    {
     "name": "stdout",
     "output_type": "stream",
     "text": [
      "\n",
      "      Epoch    GPU_mem       loss  Instances       Size\n"
     ]
    },
    {
     "name": "stderr",
     "output_type": "stream",
     "text": [
      "     41/200      1.78G     0.1296          1        224: 100%|██████████| 39/39 [00:01<00:00, 31.63it/s]\n",
      "               classes   top1_acc   top5_acc: 100%|██████████| 3/3 [00:00<00:00, 98.48it/s]"
     ]
    },
    {
     "name": "stdout",
     "output_type": "stream",
     "text": [
      "                   all      0.675          1\n"
     ]
    },
    {
     "name": "stderr",
     "output_type": "stream",
     "text": [
      "\n"
     ]
    },
    {
     "name": "stdout",
     "output_type": "stream",
     "text": [
      "\n",
      "      Epoch    GPU_mem       loss  Instances       Size\n"
     ]
    },
    {
     "name": "stderr",
     "output_type": "stream",
     "text": [
      "     42/200      1.78G     0.1116          1        224: 100%|██████████| 39/39 [00:01<00:00, 31.75it/s]\n",
      "               classes   top1_acc   top5_acc: 100%|██████████| 3/3 [00:00<00:00, 97.65it/s]"
     ]
    },
    {
     "name": "stdout",
     "output_type": "stream",
     "text": [
      "                   all      0.714          1\n"
     ]
    },
    {
     "name": "stderr",
     "output_type": "stream",
     "text": [
      "\n"
     ]
    },
    {
     "name": "stdout",
     "output_type": "stream",
     "text": [
      "\n",
      "      Epoch    GPU_mem       loss  Instances       Size\n"
     ]
    },
    {
     "name": "stderr",
     "output_type": "stream",
     "text": [
      "     43/200      1.78G      0.194          1        224: 100%|██████████| 39/39 [00:01<00:00, 31.95it/s]\n",
      "               classes   top1_acc   top5_acc: 100%|██████████| 3/3 [00:00<00:00, 99.12it/s]"
     ]
    },
    {
     "name": "stdout",
     "output_type": "stream",
     "text": [
      "                   all      0.688          1\n"
     ]
    },
    {
     "name": "stderr",
     "output_type": "stream",
     "text": [
      "\n"
     ]
    },
    {
     "name": "stdout",
     "output_type": "stream",
     "text": [
      "\n",
      "      Epoch    GPU_mem       loss  Instances       Size\n"
     ]
    },
    {
     "name": "stderr",
     "output_type": "stream",
     "text": [
      "     44/200      1.78G      0.131          1        224: 100%|██████████| 39/39 [00:01<00:00, 32.41it/s]\n",
      "               classes   top1_acc   top5_acc: 100%|██████████| 3/3 [00:00<00:00, 97.86it/s]"
     ]
    },
    {
     "name": "stdout",
     "output_type": "stream",
     "text": [
      "                   all      0.701          1\n"
     ]
    },
    {
     "name": "stderr",
     "output_type": "stream",
     "text": [
      "\n"
     ]
    },
    {
     "name": "stdout",
     "output_type": "stream",
     "text": [
      "\n",
      "      Epoch    GPU_mem       loss  Instances       Size\n"
     ]
    },
    {
     "name": "stderr",
     "output_type": "stream",
     "text": [
      "     45/200      1.78G     0.1338          1        224: 100%|██████████| 39/39 [00:01<00:00, 31.74it/s]\n",
      "               classes   top1_acc   top5_acc: 100%|██████████| 3/3 [00:00<00:00, 96.75it/s]"
     ]
    },
    {
     "name": "stdout",
     "output_type": "stream",
     "text": [
      "                   all      0.675          1\n"
     ]
    },
    {
     "name": "stderr",
     "output_type": "stream",
     "text": [
      "\n"
     ]
    },
    {
     "name": "stdout",
     "output_type": "stream",
     "text": [
      "\n",
      "      Epoch    GPU_mem       loss  Instances       Size\n"
     ]
    },
    {
     "name": "stderr",
     "output_type": "stream",
     "text": [
      "     46/200      1.78G     0.1479          1        224: 100%|██████████| 39/39 [00:01<00:00, 31.20it/s]\n",
      "               classes   top1_acc   top5_acc: 100%|██████████| 3/3 [00:00<00:00, 98.02it/s]"
     ]
    },
    {
     "name": "stdout",
     "output_type": "stream",
     "text": [
      "                   all      0.714          1\n"
     ]
    },
    {
     "name": "stderr",
     "output_type": "stream",
     "text": [
      "\n"
     ]
    },
    {
     "name": "stdout",
     "output_type": "stream",
     "text": [
      "\n",
      "      Epoch    GPU_mem       loss  Instances       Size\n"
     ]
    },
    {
     "name": "stderr",
     "output_type": "stream",
     "text": [
      "     47/200      1.78G     0.1712          1        224: 100%|██████████| 39/39 [00:01<00:00, 31.23it/s]\n",
      "               classes   top1_acc   top5_acc: 100%|██████████| 3/3 [00:00<00:00, 102.35it/s]"
     ]
    },
    {
     "name": "stdout",
     "output_type": "stream",
     "text": [
      "                   all      0.649          1\n"
     ]
    },
    {
     "name": "stderr",
     "output_type": "stream",
     "text": [
      "\n"
     ]
    },
    {
     "name": "stdout",
     "output_type": "stream",
     "text": [
      "\n",
      "      Epoch    GPU_mem       loss  Instances       Size\n"
     ]
    },
    {
     "name": "stderr",
     "output_type": "stream",
     "text": [
      "     48/200      1.78G     0.1778          1        224: 100%|██████████| 39/39 [00:01<00:00, 33.12it/s]\n",
      "               classes   top1_acc   top5_acc: 100%|██████████| 3/3 [00:00<00:00, 98.41it/s]"
     ]
    },
    {
     "name": "stdout",
     "output_type": "stream",
     "text": [
      "                   all      0.662          1\n"
     ]
    },
    {
     "name": "stderr",
     "output_type": "stream",
     "text": [
      "\n"
     ]
    },
    {
     "name": "stdout",
     "output_type": "stream",
     "text": [
      "\n",
      "      Epoch    GPU_mem       loss  Instances       Size\n"
     ]
    },
    {
     "name": "stderr",
     "output_type": "stream",
     "text": [
      "     49/200      1.78G     0.1351          1        224: 100%|██████████| 39/39 [00:01<00:00, 32.38it/s]\n",
      "               classes   top1_acc   top5_acc: 100%|██████████| 3/3 [00:00<00:00, 100.36it/s]"
     ]
    },
    {
     "name": "stdout",
     "output_type": "stream",
     "text": [
      "                   all      0.662          1\n"
     ]
    },
    {
     "name": "stderr",
     "output_type": "stream",
     "text": [
      "\n"
     ]
    },
    {
     "name": "stdout",
     "output_type": "stream",
     "text": [
      "\n",
      "      Epoch    GPU_mem       loss  Instances       Size\n"
     ]
    },
    {
     "name": "stderr",
     "output_type": "stream",
     "text": [
      "     50/200      1.78G     0.1861          1        224: 100%|██████████| 39/39 [00:01<00:00, 31.74it/s]\n",
      "               classes   top1_acc   top5_acc: 100%|██████████| 3/3 [00:00<00:00, 95.67it/s]"
     ]
    },
    {
     "name": "stdout",
     "output_type": "stream",
     "text": [
      "                   all      0.688          1\n"
     ]
    },
    {
     "name": "stderr",
     "output_type": "stream",
     "text": [
      "\n"
     ]
    },
    {
     "name": "stdout",
     "output_type": "stream",
     "text": [
      "\n",
      "      Epoch    GPU_mem       loss  Instances       Size\n"
     ]
    },
    {
     "name": "stderr",
     "output_type": "stream",
     "text": [
      "     51/200      1.78G     0.1448          1        224: 100%|██████████| 39/39 [00:01<00:00, 32.46it/s]\n",
      "               classes   top1_acc   top5_acc: 100%|██████████| 3/3 [00:00<00:00, 99.70it/s]"
     ]
    },
    {
     "name": "stdout",
     "output_type": "stream",
     "text": [
      "                   all      0.688          1\n"
     ]
    },
    {
     "name": "stderr",
     "output_type": "stream",
     "text": [
      "\n"
     ]
    },
    {
     "name": "stdout",
     "output_type": "stream",
     "text": [
      "\n",
      "      Epoch    GPU_mem       loss  Instances       Size\n"
     ]
    },
    {
     "name": "stderr",
     "output_type": "stream",
     "text": [
      "     52/200      1.78G     0.1227          1        224: 100%|██████████| 39/39 [00:01<00:00, 32.22it/s]\n",
      "               classes   top1_acc   top5_acc: 100%|██████████| 3/3 [00:00<00:00, 96.47it/s]"
     ]
    },
    {
     "name": "stdout",
     "output_type": "stream",
     "text": [
      "                   all      0.714          1\n"
     ]
    },
    {
     "name": "stderr",
     "output_type": "stream",
     "text": [
      "\n"
     ]
    },
    {
     "name": "stdout",
     "output_type": "stream",
     "text": [
      "\n",
      "      Epoch    GPU_mem       loss  Instances       Size\n"
     ]
    },
    {
     "name": "stderr",
     "output_type": "stream",
     "text": [
      "     53/200      1.78G     0.1121          1        224: 100%|██████████| 39/39 [00:01<00:00, 31.76it/s]\n",
      "               classes   top1_acc   top5_acc: 100%|██████████| 3/3 [00:00<00:00, 97.30it/s]"
     ]
    },
    {
     "name": "stdout",
     "output_type": "stream",
     "text": [
      "                   all      0.636          1\n"
     ]
    },
    {
     "name": "stderr",
     "output_type": "stream",
     "text": [
      "\n"
     ]
    },
    {
     "name": "stdout",
     "output_type": "stream",
     "text": [
      "\n",
      "      Epoch    GPU_mem       loss  Instances       Size\n"
     ]
    },
    {
     "name": "stderr",
     "output_type": "stream",
     "text": [
      "     54/200      1.78G     0.1285          1        224: 100%|██████████| 39/39 [00:01<00:00, 32.28it/s]\n",
      "               classes   top1_acc   top5_acc: 100%|██████████| 3/3 [00:00<00:00, 96.61it/s]"
     ]
    },
    {
     "name": "stdout",
     "output_type": "stream",
     "text": [
      "                   all      0.649          1\n"
     ]
    },
    {
     "name": "stderr",
     "output_type": "stream",
     "text": [
      "\n"
     ]
    },
    {
     "name": "stdout",
     "output_type": "stream",
     "text": [
      "\n",
      "      Epoch    GPU_mem       loss  Instances       Size\n"
     ]
    },
    {
     "name": "stderr",
     "output_type": "stream",
     "text": [
      "     55/200      1.78G     0.1163          1        224: 100%|██████████| 39/39 [00:01<00:00, 31.64it/s]\n",
      "               classes   top1_acc   top5_acc: 100%|██████████| 3/3 [00:00<00:00, 99.68it/s]"
     ]
    },
    {
     "name": "stdout",
     "output_type": "stream",
     "text": [
      "                   all      0.753          1\n"
     ]
    },
    {
     "name": "stderr",
     "output_type": "stream",
     "text": [
      "\n"
     ]
    },
    {
     "name": "stdout",
     "output_type": "stream",
     "text": [
      "\n",
      "      Epoch    GPU_mem       loss  Instances       Size\n"
     ]
    },
    {
     "name": "stderr",
     "output_type": "stream",
     "text": [
      "     56/200      1.78G     0.1454          1        224: 100%|██████████| 39/39 [00:01<00:00, 32.23it/s]\n",
      "               classes   top1_acc   top5_acc: 100%|██████████| 3/3 [00:00<00:00, 83.73it/s]"
     ]
    },
    {
     "name": "stdout",
     "output_type": "stream",
     "text": [
      "                   all       0.61          1\n"
     ]
    },
    {
     "name": "stderr",
     "output_type": "stream",
     "text": [
      "\n"
     ]
    },
    {
     "name": "stdout",
     "output_type": "stream",
     "text": [
      "\n",
      "      Epoch    GPU_mem       loss  Instances       Size\n"
     ]
    },
    {
     "name": "stderr",
     "output_type": "stream",
     "text": [
      "     57/200      1.78G     0.1239          1        224: 100%|██████████| 39/39 [00:01<00:00, 32.04it/s]\n",
      "               classes   top1_acc   top5_acc: 100%|██████████| 3/3 [00:00<00:00, 97.42it/s]"
     ]
    },
    {
     "name": "stdout",
     "output_type": "stream",
     "text": [
      "                   all      0.662          1\n"
     ]
    },
    {
     "name": "stderr",
     "output_type": "stream",
     "text": [
      "\n"
     ]
    },
    {
     "name": "stdout",
     "output_type": "stream",
     "text": [
      "\n",
      "      Epoch    GPU_mem       loss  Instances       Size\n"
     ]
    },
    {
     "name": "stderr",
     "output_type": "stream",
     "text": [
      "     58/200      1.78G     0.1043          1        224: 100%|██████████| 39/39 [00:01<00:00, 31.67it/s]\n",
      "               classes   top1_acc   top5_acc: 100%|██████████| 3/3 [00:00<00:00, 97.35it/s]"
     ]
    },
    {
     "name": "stdout",
     "output_type": "stream",
     "text": [
      "                   all      0.649          1\n"
     ]
    },
    {
     "name": "stderr",
     "output_type": "stream",
     "text": [
      "\n"
     ]
    },
    {
     "name": "stdout",
     "output_type": "stream",
     "text": [
      "\n",
      "      Epoch    GPU_mem       loss  Instances       Size\n"
     ]
    },
    {
     "name": "stderr",
     "output_type": "stream",
     "text": [
      "     59/200      1.78G    0.09551          1        224: 100%|██████████| 39/39 [00:01<00:00, 30.68it/s]\n",
      "               classes   top1_acc   top5_acc: 100%|██████████| 3/3 [00:00<00:00, 92.49it/s]"
     ]
    },
    {
     "name": "stdout",
     "output_type": "stream",
     "text": [
      "                   all      0.662          1\n"
     ]
    },
    {
     "name": "stderr",
     "output_type": "stream",
     "text": [
      "\n"
     ]
    },
    {
     "name": "stdout",
     "output_type": "stream",
     "text": [
      "\n",
      "      Epoch    GPU_mem       loss  Instances       Size\n"
     ]
    },
    {
     "name": "stderr",
     "output_type": "stream",
     "text": [
      "     60/200      1.78G     0.1524          1        224: 100%|██████████| 39/39 [00:01<00:00, 30.81it/s]\n",
      "               classes   top1_acc   top5_acc: 100%|██████████| 3/3 [00:00<00:00, 93.88it/s]"
     ]
    },
    {
     "name": "stdout",
     "output_type": "stream",
     "text": [
      "                   all      0.623          1\n"
     ]
    },
    {
     "name": "stderr",
     "output_type": "stream",
     "text": [
      "\n"
     ]
    },
    {
     "name": "stdout",
     "output_type": "stream",
     "text": [
      "\n",
      "      Epoch    GPU_mem       loss  Instances       Size\n"
     ]
    },
    {
     "name": "stderr",
     "output_type": "stream",
     "text": [
      "     61/200      1.78G     0.1262          1        224: 100%|██████████| 39/39 [00:01<00:00, 31.81it/s]\n",
      "               classes   top1_acc   top5_acc: 100%|██████████| 3/3 [00:00<00:00, 94.58it/s]"
     ]
    },
    {
     "name": "stdout",
     "output_type": "stream",
     "text": [
      "                   all      0.688          1\n"
     ]
    },
    {
     "name": "stderr",
     "output_type": "stream",
     "text": [
      "\n"
     ]
    },
    {
     "name": "stdout",
     "output_type": "stream",
     "text": [
      "\n",
      "      Epoch    GPU_mem       loss  Instances       Size\n"
     ]
    },
    {
     "name": "stderr",
     "output_type": "stream",
     "text": [
      "     62/200      1.78G     0.1337          1        224: 100%|██████████| 39/39 [00:01<00:00, 31.35it/s]\n",
      "               classes   top1_acc   top5_acc: 100%|██████████| 3/3 [00:00<00:00, 94.73it/s]"
     ]
    },
    {
     "name": "stdout",
     "output_type": "stream",
     "text": [
      "                   all       0.74          1\n"
     ]
    },
    {
     "name": "stderr",
     "output_type": "stream",
     "text": [
      "\n"
     ]
    },
    {
     "name": "stdout",
     "output_type": "stream",
     "text": [
      "\n",
      "      Epoch    GPU_mem       loss  Instances       Size\n"
     ]
    },
    {
     "name": "stderr",
     "output_type": "stream",
     "text": [
      "     63/200      1.78G    0.08858          1        224: 100%|██████████| 39/39 [00:01<00:00, 31.58it/s]\n",
      "               classes   top1_acc   top5_acc: 100%|██████████| 3/3 [00:00<00:00, 98.24it/s]"
     ]
    },
    {
     "name": "stdout",
     "output_type": "stream",
     "text": [
      "                   all      0.727          1\n"
     ]
    },
    {
     "name": "stderr",
     "output_type": "stream",
     "text": [
      "\n"
     ]
    },
    {
     "name": "stdout",
     "output_type": "stream",
     "text": [
      "\n",
      "      Epoch    GPU_mem       loss  Instances       Size\n"
     ]
    },
    {
     "name": "stderr",
     "output_type": "stream",
     "text": [
      "     64/200      1.78G    0.09695          1        224: 100%|██████████| 39/39 [00:01<00:00, 31.79it/s]\n",
      "               classes   top1_acc   top5_acc: 100%|██████████| 3/3 [00:00<00:00, 96.73it/s]"
     ]
    },
    {
     "name": "stdout",
     "output_type": "stream",
     "text": [
      "                   all      0.727          1\n"
     ]
    },
    {
     "name": "stderr",
     "output_type": "stream",
     "text": [
      "\n"
     ]
    },
    {
     "name": "stdout",
     "output_type": "stream",
     "text": [
      "\n",
      "      Epoch    GPU_mem       loss  Instances       Size\n"
     ]
    },
    {
     "name": "stderr",
     "output_type": "stream",
     "text": [
      "     65/200      1.78G     0.1066          1        224: 100%|██████████| 39/39 [00:01<00:00, 31.57it/s]\n",
      "               classes   top1_acc   top5_acc: 100%|██████████| 3/3 [00:00<00:00, 96.92it/s]"
     ]
    },
    {
     "name": "stdout",
     "output_type": "stream",
     "text": [
      "                   all      0.675          1\n"
     ]
    },
    {
     "name": "stderr",
     "output_type": "stream",
     "text": [
      "\n"
     ]
    },
    {
     "name": "stdout",
     "output_type": "stream",
     "text": [
      "\n",
      "      Epoch    GPU_mem       loss  Instances       Size\n"
     ]
    },
    {
     "name": "stderr",
     "output_type": "stream",
     "text": [
      "     66/200      1.78G     0.1464          1        224: 100%|██████████| 39/39 [00:01<00:00, 30.40it/s]\n",
      "               classes   top1_acc   top5_acc: 100%|██████████| 3/3 [00:00<00:00, 97.99it/s]"
     ]
    },
    {
     "name": "stdout",
     "output_type": "stream",
     "text": [
      "                   all      0.688          1\n"
     ]
    },
    {
     "name": "stderr",
     "output_type": "stream",
     "text": [
      "\n"
     ]
    },
    {
     "name": "stdout",
     "output_type": "stream",
     "text": [
      "\n",
      "      Epoch    GPU_mem       loss  Instances       Size\n"
     ]
    },
    {
     "name": "stderr",
     "output_type": "stream",
     "text": [
      "     67/200      1.78G    0.08549          1        224: 100%|██████████| 39/39 [00:01<00:00, 31.19it/s]\n",
      "               classes   top1_acc   top5_acc: 100%|██████████| 3/3 [00:00<00:00, 94.61it/s]"
     ]
    },
    {
     "name": "stdout",
     "output_type": "stream",
     "text": [
      "                   all      0.688          1\n"
     ]
    },
    {
     "name": "stderr",
     "output_type": "stream",
     "text": [
      "\n"
     ]
    },
    {
     "name": "stdout",
     "output_type": "stream",
     "text": [
      "\n",
      "      Epoch    GPU_mem       loss  Instances       Size\n"
     ]
    },
    {
     "name": "stderr",
     "output_type": "stream",
     "text": [
      "     68/200      1.78G      0.107          1        224: 100%|██████████| 39/39 [00:01<00:00, 32.33it/s]\n",
      "               classes   top1_acc   top5_acc: 100%|██████████| 3/3 [00:00<00:00, 95.45it/s]"
     ]
    },
    {
     "name": "stdout",
     "output_type": "stream",
     "text": [
      "                   all      0.675          1\n"
     ]
    },
    {
     "name": "stderr",
     "output_type": "stream",
     "text": [
      "\n"
     ]
    },
    {
     "name": "stdout",
     "output_type": "stream",
     "text": [
      "\n",
      "      Epoch    GPU_mem       loss  Instances       Size\n"
     ]
    },
    {
     "name": "stderr",
     "output_type": "stream",
     "text": [
      "     69/200      1.78G     0.1169          1        224: 100%|██████████| 39/39 [00:01<00:00, 30.15it/s]\n",
      "               classes   top1_acc   top5_acc: 100%|██████████| 3/3 [00:00<00:00, 81.88it/s]"
     ]
    },
    {
     "name": "stdout",
     "output_type": "stream",
     "text": [
      "                   all      0.662          1\n"
     ]
    },
    {
     "name": "stderr",
     "output_type": "stream",
     "text": [
      "\n"
     ]
    },
    {
     "name": "stdout",
     "output_type": "stream",
     "text": [
      "\n",
      "      Epoch    GPU_mem       loss  Instances       Size\n"
     ]
    },
    {
     "name": "stderr",
     "output_type": "stream",
     "text": [
      "     70/200      1.78G     0.1172          1        224: 100%|██████████| 39/39 [00:01<00:00, 34.21it/s]\n",
      "               classes   top1_acc   top5_acc: 100%|██████████| 3/3 [00:00<00:00, 98.13it/s]"
     ]
    },
    {
     "name": "stdout",
     "output_type": "stream",
     "text": [
      "                   all      0.623          1\n"
     ]
    },
    {
     "name": "stderr",
     "output_type": "stream",
     "text": [
      "\n"
     ]
    },
    {
     "name": "stdout",
     "output_type": "stream",
     "text": [
      "\n",
      "      Epoch    GPU_mem       loss  Instances       Size\n"
     ]
    },
    {
     "name": "stderr",
     "output_type": "stream",
     "text": [
      "     71/200      1.78G     0.1083          1        224: 100%|██████████| 39/39 [00:01<00:00, 33.66it/s]\n",
      "               classes   top1_acc   top5_acc: 100%|██████████| 3/3 [00:00<00:00, 89.37it/s]"
     ]
    },
    {
     "name": "stdout",
     "output_type": "stream",
     "text": [
      "                   all      0.688          1\n"
     ]
    },
    {
     "name": "stderr",
     "output_type": "stream",
     "text": [
      "\n"
     ]
    },
    {
     "name": "stdout",
     "output_type": "stream",
     "text": [
      "\n",
      "      Epoch    GPU_mem       loss  Instances       Size\n"
     ]
    },
    {
     "name": "stderr",
     "output_type": "stream",
     "text": [
      "     72/200      1.78G     0.1189          1        224: 100%|██████████| 39/39 [00:01<00:00, 33.82it/s]\n",
      "               classes   top1_acc   top5_acc: 100%|██████████| 3/3 [00:00<00:00, 102.24it/s]"
     ]
    },
    {
     "name": "stdout",
     "output_type": "stream",
     "text": [
      "                   all      0.701          1\n"
     ]
    },
    {
     "name": "stderr",
     "output_type": "stream",
     "text": [
      "\n"
     ]
    },
    {
     "name": "stdout",
     "output_type": "stream",
     "text": [
      "\n",
      "      Epoch    GPU_mem       loss  Instances       Size\n"
     ]
    },
    {
     "name": "stderr",
     "output_type": "stream",
     "text": [
      "     73/200      1.78G    0.06638          1        224: 100%|██████████| 39/39 [00:01<00:00, 33.19it/s]\n",
      "               classes   top1_acc   top5_acc: 100%|██████████| 3/3 [00:00<00:00, 97.90it/s]"
     ]
    },
    {
     "name": "stdout",
     "output_type": "stream",
     "text": [
      "                   all      0.675          1\n"
     ]
    },
    {
     "name": "stderr",
     "output_type": "stream",
     "text": [
      "\n"
     ]
    },
    {
     "name": "stdout",
     "output_type": "stream",
     "text": [
      "\n",
      "      Epoch    GPU_mem       loss  Instances       Size\n"
     ]
    },
    {
     "name": "stderr",
     "output_type": "stream",
     "text": [
      "     74/200      1.78G    0.05984          1        224: 100%|██████████| 39/39 [00:01<00:00, 33.12it/s]\n",
      "               classes   top1_acc   top5_acc: 100%|██████████| 3/3 [00:00<00:00, 101.34it/s]"
     ]
    },
    {
     "name": "stdout",
     "output_type": "stream",
     "text": [
      "                   all      0.675          1\n"
     ]
    },
    {
     "name": "stderr",
     "output_type": "stream",
     "text": [
      "\n"
     ]
    },
    {
     "name": "stdout",
     "output_type": "stream",
     "text": [
      "\n",
      "      Epoch    GPU_mem       loss  Instances       Size\n"
     ]
    },
    {
     "name": "stderr",
     "output_type": "stream",
     "text": [
      "     75/200      1.78G    0.06783          1        224: 100%|██████████| 39/39 [00:01<00:00, 33.08it/s]\n",
      "               classes   top1_acc   top5_acc: 100%|██████████| 3/3 [00:00<00:00, 98.13it/s]"
     ]
    },
    {
     "name": "stdout",
     "output_type": "stream",
     "text": [
      "                   all      0.688          1\n"
     ]
    },
    {
     "name": "stderr",
     "output_type": "stream",
     "text": [
      "\n"
     ]
    },
    {
     "name": "stdout",
     "output_type": "stream",
     "text": [
      "\n",
      "      Epoch    GPU_mem       loss  Instances       Size\n"
     ]
    },
    {
     "name": "stderr",
     "output_type": "stream",
     "text": [
      "     76/200      1.78G     0.0892          1        224: 100%|██████████| 39/39 [00:01<00:00, 33.58it/s]\n",
      "               classes   top1_acc   top5_acc: 100%|██████████| 3/3 [00:00<00:00, 98.89it/s]"
     ]
    },
    {
     "name": "stdout",
     "output_type": "stream",
     "text": [
      "                   all      0.701          1\n"
     ]
    },
    {
     "name": "stderr",
     "output_type": "stream",
     "text": [
      "\n"
     ]
    },
    {
     "name": "stdout",
     "output_type": "stream",
     "text": [
      "\n",
      "      Epoch    GPU_mem       loss  Instances       Size\n"
     ]
    },
    {
     "name": "stderr",
     "output_type": "stream",
     "text": [
      "     77/200      1.78G     0.1282          1        224: 100%|██████████| 39/39 [00:01<00:00, 33.28it/s]\n",
      "               classes   top1_acc   top5_acc: 100%|██████████| 3/3 [00:00<00:00, 96.93it/s]"
     ]
    },
    {
     "name": "stdout",
     "output_type": "stream",
     "text": [
      "                   all      0.688          1\n"
     ]
    },
    {
     "name": "stderr",
     "output_type": "stream",
     "text": [
      "\n"
     ]
    },
    {
     "name": "stdout",
     "output_type": "stream",
     "text": [
      "\n",
      "      Epoch    GPU_mem       loss  Instances       Size\n"
     ]
    },
    {
     "name": "stderr",
     "output_type": "stream",
     "text": [
      "     78/200      1.78G    0.04741          1        224: 100%|██████████| 39/39 [00:01<00:00, 33.67it/s]\n",
      "               classes   top1_acc   top5_acc: 100%|██████████| 3/3 [00:00<00:00, 97.77it/s]"
     ]
    },
    {
     "name": "stdout",
     "output_type": "stream",
     "text": [
      "                   all      0.727          1\n"
     ]
    },
    {
     "name": "stderr",
     "output_type": "stream",
     "text": [
      "\n"
     ]
    },
    {
     "name": "stdout",
     "output_type": "stream",
     "text": [
      "\n",
      "      Epoch    GPU_mem       loss  Instances       Size\n"
     ]
    },
    {
     "name": "stderr",
     "output_type": "stream",
     "text": [
      "     79/200      1.78G    0.09595          1        224: 100%|██████████| 39/39 [00:01<00:00, 33.52it/s]\n",
      "               classes   top1_acc   top5_acc: 100%|██████████| 3/3 [00:00<00:00, 98.49it/s]"
     ]
    },
    {
     "name": "stdout",
     "output_type": "stream",
     "text": [
      "                   all       0.74          1\n"
     ]
    },
    {
     "name": "stderr",
     "output_type": "stream",
     "text": [
      "\n"
     ]
    },
    {
     "name": "stdout",
     "output_type": "stream",
     "text": [
      "\n",
      "      Epoch    GPU_mem       loss  Instances       Size\n"
     ]
    },
    {
     "name": "stderr",
     "output_type": "stream",
     "text": [
      "     80/200      1.78G    0.06913          1        224: 100%|██████████| 39/39 [00:01<00:00, 33.70it/s]\n",
      "               classes   top1_acc   top5_acc: 100%|██████████| 3/3 [00:00<00:00, 100.88it/s]"
     ]
    },
    {
     "name": "stdout",
     "output_type": "stream",
     "text": [
      "                   all      0.701          1\n"
     ]
    },
    {
     "name": "stderr",
     "output_type": "stream",
     "text": [
      "\n"
     ]
    },
    {
     "name": "stdout",
     "output_type": "stream",
     "text": [
      "\n",
      "      Epoch    GPU_mem       loss  Instances       Size\n"
     ]
    },
    {
     "name": "stderr",
     "output_type": "stream",
     "text": [
      "     81/200      1.78G     0.1549          1        224: 100%|██████████| 39/39 [00:01<00:00, 32.79it/s]\n",
      "               classes   top1_acc   top5_acc: 100%|██████████| 3/3 [00:00<00:00, 99.08it/s]"
     ]
    },
    {
     "name": "stdout",
     "output_type": "stream",
     "text": [
      "                   all      0.701          1\n"
     ]
    },
    {
     "name": "stderr",
     "output_type": "stream",
     "text": [
      "\n"
     ]
    },
    {
     "name": "stdout",
     "output_type": "stream",
     "text": [
      "\n",
      "      Epoch    GPU_mem       loss  Instances       Size\n"
     ]
    },
    {
     "name": "stderr",
     "output_type": "stream",
     "text": [
      "     82/200      1.78G     0.1047          1        224: 100%|██████████| 39/39 [00:01<00:00, 33.39it/s]\n",
      "               classes   top1_acc   top5_acc: 100%|██████████| 3/3 [00:00<00:00, 95.64it/s]"
     ]
    },
    {
     "name": "stdout",
     "output_type": "stream",
     "text": [
      "                   all      0.675          1\n"
     ]
    },
    {
     "name": "stderr",
     "output_type": "stream",
     "text": [
      "\n"
     ]
    },
    {
     "name": "stdout",
     "output_type": "stream",
     "text": [
      "\n",
      "      Epoch    GPU_mem       loss  Instances       Size\n"
     ]
    },
    {
     "name": "stderr",
     "output_type": "stream",
     "text": [
      "     83/200      1.78G    0.07599          1        224: 100%|██████████| 39/39 [00:01<00:00, 32.97it/s]\n",
      "               classes   top1_acc   top5_acc: 100%|██████████| 3/3 [00:00<00:00, 100.52it/s]"
     ]
    },
    {
     "name": "stdout",
     "output_type": "stream",
     "text": [
      "                   all      0.688          1\n"
     ]
    },
    {
     "name": "stderr",
     "output_type": "stream",
     "text": [
      "\n"
     ]
    },
    {
     "name": "stdout",
     "output_type": "stream",
     "text": [
      "\n",
      "      Epoch    GPU_mem       loss  Instances       Size\n"
     ]
    },
    {
     "name": "stderr",
     "output_type": "stream",
     "text": [
      "     84/200      1.78G    0.05747          1        224: 100%|██████████| 39/39 [00:01<00:00, 33.26it/s]\n",
      "               classes   top1_acc   top5_acc: 100%|██████████| 3/3 [00:00<00:00, 98.20it/s]"
     ]
    },
    {
     "name": "stdout",
     "output_type": "stream",
     "text": [
      "                   all      0.701          1\n"
     ]
    },
    {
     "name": "stderr",
     "output_type": "stream",
     "text": [
      "\n"
     ]
    },
    {
     "name": "stdout",
     "output_type": "stream",
     "text": [
      "\n",
      "      Epoch    GPU_mem       loss  Instances       Size\n"
     ]
    },
    {
     "name": "stderr",
     "output_type": "stream",
     "text": [
      "     85/200      1.78G    0.04459          1        224: 100%|██████████| 39/39 [00:01<00:00, 31.38it/s]\n",
      "               classes   top1_acc   top5_acc: 100%|██████████| 3/3 [00:00<00:00, 97.85it/s]"
     ]
    },
    {
     "name": "stdout",
     "output_type": "stream",
     "text": [
      "                   all      0.675          1\n"
     ]
    },
    {
     "name": "stderr",
     "output_type": "stream",
     "text": [
      "\n"
     ]
    },
    {
     "name": "stdout",
     "output_type": "stream",
     "text": [
      "\n",
      "      Epoch    GPU_mem       loss  Instances       Size\n"
     ]
    },
    {
     "name": "stderr",
     "output_type": "stream",
     "text": [
      "     86/200      1.78G    0.06094          1        224: 100%|██████████| 39/39 [00:01<00:00, 31.58it/s]\n",
      "               classes   top1_acc   top5_acc: 100%|██████████| 3/3 [00:00<00:00, 97.61it/s]"
     ]
    },
    {
     "name": "stdout",
     "output_type": "stream",
     "text": [
      "                   all      0.688          1\n"
     ]
    },
    {
     "name": "stderr",
     "output_type": "stream",
     "text": [
      "\n"
     ]
    },
    {
     "name": "stdout",
     "output_type": "stream",
     "text": [
      "\n",
      "      Epoch    GPU_mem       loss  Instances       Size\n"
     ]
    },
    {
     "name": "stderr",
     "output_type": "stream",
     "text": [
      "     87/200      1.78G    0.07972          1        224: 100%|██████████| 39/39 [00:01<00:00, 31.68it/s]\n",
      "               classes   top1_acc   top5_acc: 100%|██████████| 3/3 [00:00<00:00, 96.72it/s]"
     ]
    },
    {
     "name": "stdout",
     "output_type": "stream",
     "text": [
      "                   all      0.649          1\n"
     ]
    },
    {
     "name": "stderr",
     "output_type": "stream",
     "text": [
      "\n"
     ]
    },
    {
     "name": "stdout",
     "output_type": "stream",
     "text": [
      "\n",
      "      Epoch    GPU_mem       loss  Instances       Size\n"
     ]
    },
    {
     "name": "stderr",
     "output_type": "stream",
     "text": [
      "     88/200      1.78G    0.07433          1        224: 100%|██████████| 39/39 [00:01<00:00, 32.23it/s]\n",
      "               classes   top1_acc   top5_acc: 100%|██████████| 3/3 [00:00<00:00, 82.83it/s]"
     ]
    },
    {
     "name": "stdout",
     "output_type": "stream",
     "text": [
      "                   all      0.688          1\n"
     ]
    },
    {
     "name": "stderr",
     "output_type": "stream",
     "text": [
      "\n"
     ]
    },
    {
     "name": "stdout",
     "output_type": "stream",
     "text": [
      "\n",
      "      Epoch    GPU_mem       loss  Instances       Size\n"
     ]
    },
    {
     "name": "stderr",
     "output_type": "stream",
     "text": [
      "     89/200      1.78G     0.1081          1        224: 100%|██████████| 39/39 [00:01<00:00, 31.65it/s]\n",
      "               classes   top1_acc   top5_acc: 100%|██████████| 3/3 [00:00<00:00, 93.55it/s]"
     ]
    },
    {
     "name": "stdout",
     "output_type": "stream",
     "text": [
      "                   all      0.714          1\n"
     ]
    },
    {
     "name": "stderr",
     "output_type": "stream",
     "text": [
      "\n"
     ]
    },
    {
     "name": "stdout",
     "output_type": "stream",
     "text": [
      "\n",
      "      Epoch    GPU_mem       loss  Instances       Size\n"
     ]
    },
    {
     "name": "stderr",
     "output_type": "stream",
     "text": [
      "     90/200      1.78G    0.07191          1        224: 100%|██████████| 39/39 [00:01<00:00, 32.04it/s]\n",
      "               classes   top1_acc   top5_acc: 100%|██████████| 3/3 [00:00<00:00, 96.48it/s]"
     ]
    },
    {
     "name": "stdout",
     "output_type": "stream",
     "text": [
      "                   all      0.688          1\n"
     ]
    },
    {
     "name": "stderr",
     "output_type": "stream",
     "text": [
      "\n"
     ]
    },
    {
     "name": "stdout",
     "output_type": "stream",
     "text": [
      "\n",
      "      Epoch    GPU_mem       loss  Instances       Size\n"
     ]
    },
    {
     "name": "stderr",
     "output_type": "stream",
     "text": [
      "     91/200      1.78G    0.05654          1        224: 100%|██████████| 39/39 [00:01<00:00, 32.47it/s]\n",
      "               classes   top1_acc   top5_acc: 100%|██████████| 3/3 [00:00<00:00, 98.10it/s]"
     ]
    },
    {
     "name": "stdout",
     "output_type": "stream",
     "text": [
      "                   all      0.701          1\n"
     ]
    },
    {
     "name": "stderr",
     "output_type": "stream",
     "text": [
      "\n"
     ]
    },
    {
     "name": "stdout",
     "output_type": "stream",
     "text": [
      "\n",
      "      Epoch    GPU_mem       loss  Instances       Size\n"
     ]
    },
    {
     "name": "stderr",
     "output_type": "stream",
     "text": [
      "     92/200      1.78G    0.04821          1        224: 100%|██████████| 39/39 [00:01<00:00, 32.51it/s]\n",
      "               classes   top1_acc   top5_acc: 100%|██████████| 3/3 [00:00<00:00, 86.15it/s]"
     ]
    },
    {
     "name": "stdout",
     "output_type": "stream",
     "text": [
      "                   all      0.662          1\n"
     ]
    },
    {
     "name": "stderr",
     "output_type": "stream",
     "text": [
      "\n"
     ]
    },
    {
     "name": "stdout",
     "output_type": "stream",
     "text": [
      "\n",
      "      Epoch    GPU_mem       loss  Instances       Size\n"
     ]
    },
    {
     "name": "stderr",
     "output_type": "stream",
     "text": [
      "     93/200      1.78G    0.09881          1        224: 100%|██████████| 39/39 [00:01<00:00, 31.25it/s]\n",
      "               classes   top1_acc   top5_acc: 100%|██████████| 3/3 [00:00<00:00, 97.31it/s]"
     ]
    },
    {
     "name": "stdout",
     "output_type": "stream",
     "text": [
      "                   all      0.701          1\n"
     ]
    },
    {
     "name": "stderr",
     "output_type": "stream",
     "text": [
      "\n"
     ]
    },
    {
     "name": "stdout",
     "output_type": "stream",
     "text": [
      "\n",
      "      Epoch    GPU_mem       loss  Instances       Size\n"
     ]
    },
    {
     "name": "stderr",
     "output_type": "stream",
     "text": [
      "     94/200      1.78G    0.06377          1        224: 100%|██████████| 39/39 [00:01<00:00, 31.83it/s]\n",
      "               classes   top1_acc   top5_acc: 100%|██████████| 3/3 [00:00<00:00, 101.80it/s]"
     ]
    },
    {
     "name": "stdout",
     "output_type": "stream",
     "text": [
      "                   all      0.688          1\n"
     ]
    },
    {
     "name": "stderr",
     "output_type": "stream",
     "text": [
      "\n"
     ]
    },
    {
     "name": "stdout",
     "output_type": "stream",
     "text": [
      "\n",
      "      Epoch    GPU_mem       loss  Instances       Size\n"
     ]
    },
    {
     "name": "stderr",
     "output_type": "stream",
     "text": [
      "     95/200      1.78G    0.05007          1        224: 100%|██████████| 39/39 [00:01<00:00, 30.90it/s]\n",
      "               classes   top1_acc   top5_acc: 100%|██████████| 3/3 [00:00<00:00, 98.88it/s]"
     ]
    },
    {
     "name": "stdout",
     "output_type": "stream",
     "text": [
      "                   all      0.662          1\n"
     ]
    },
    {
     "name": "stderr",
     "output_type": "stream",
     "text": [
      "\n"
     ]
    },
    {
     "name": "stdout",
     "output_type": "stream",
     "text": [
      "\n",
      "      Epoch    GPU_mem       loss  Instances       Size\n"
     ]
    },
    {
     "name": "stderr",
     "output_type": "stream",
     "text": [
      "     96/200      1.78G    0.04464          1        224: 100%|██████████| 39/39 [00:01<00:00, 32.99it/s]\n",
      "               classes   top1_acc   top5_acc: 100%|██████████| 3/3 [00:00<00:00, 95.43it/s]"
     ]
    },
    {
     "name": "stdout",
     "output_type": "stream",
     "text": [
      "                   all      0.688          1\n"
     ]
    },
    {
     "name": "stderr",
     "output_type": "stream",
     "text": [
      "\n"
     ]
    },
    {
     "name": "stdout",
     "output_type": "stream",
     "text": [
      "\n",
      "      Epoch    GPU_mem       loss  Instances       Size\n"
     ]
    },
    {
     "name": "stderr",
     "output_type": "stream",
     "text": [
      "     97/200      1.78G    0.03983          1        224: 100%|██████████| 39/39 [00:01<00:00, 32.04it/s]\n",
      "               classes   top1_acc   top5_acc: 100%|██████████| 3/3 [00:00<00:00, 93.44it/s]"
     ]
    },
    {
     "name": "stdout",
     "output_type": "stream",
     "text": [
      "                   all      0.688          1\n"
     ]
    },
    {
     "name": "stderr",
     "output_type": "stream",
     "text": [
      "\n"
     ]
    },
    {
     "name": "stdout",
     "output_type": "stream",
     "text": [
      "\n",
      "      Epoch    GPU_mem       loss  Instances       Size\n"
     ]
    },
    {
     "name": "stderr",
     "output_type": "stream",
     "text": [
      "     98/200      1.78G    0.05541          1        224: 100%|██████████| 39/39 [00:01<00:00, 31.82it/s]\n",
      "               classes   top1_acc   top5_acc: 100%|██████████| 3/3 [00:00<00:00, 97.07it/s]"
     ]
    },
    {
     "name": "stdout",
     "output_type": "stream",
     "text": [
      "                   all      0.701          1\n"
     ]
    },
    {
     "name": "stderr",
     "output_type": "stream",
     "text": [
      "\n"
     ]
    },
    {
     "name": "stdout",
     "output_type": "stream",
     "text": [
      "\n",
      "      Epoch    GPU_mem       loss  Instances       Size\n"
     ]
    },
    {
     "name": "stderr",
     "output_type": "stream",
     "text": [
      "     99/200      1.78G    0.05613          1        224: 100%|██████████| 39/39 [00:01<00:00, 31.54it/s]\n",
      "               classes   top1_acc   top5_acc: 100%|██████████| 3/3 [00:00<00:00, 98.61it/s]"
     ]
    },
    {
     "name": "stdout",
     "output_type": "stream",
     "text": [
      "                   all      0.649          1\n"
     ]
    },
    {
     "name": "stderr",
     "output_type": "stream",
     "text": [
      "\n"
     ]
    },
    {
     "name": "stdout",
     "output_type": "stream",
     "text": [
      "\n",
      "      Epoch    GPU_mem       loss  Instances       Size\n"
     ]
    },
    {
     "name": "stderr",
     "output_type": "stream",
     "text": [
      "    100/200      1.78G    0.05312          1        224: 100%|██████████| 39/39 [00:01<00:00, 32.02it/s]\n",
      "               classes   top1_acc   top5_acc: 100%|██████████| 3/3 [00:00<00:00, 93.44it/s]"
     ]
    },
    {
     "name": "stdout",
     "output_type": "stream",
     "text": [
      "                   all      0.675          1\n"
     ]
    },
    {
     "name": "stderr",
     "output_type": "stream",
     "text": [
      "\n"
     ]
    },
    {
     "name": "stdout",
     "output_type": "stream",
     "text": [
      "\n",
      "      Epoch    GPU_mem       loss  Instances       Size\n"
     ]
    },
    {
     "name": "stderr",
     "output_type": "stream",
     "text": [
      "    101/200      1.78G     0.0552          1        224: 100%|██████████| 39/39 [00:01<00:00, 32.54it/s]\n",
      "               classes   top1_acc   top5_acc: 100%|██████████| 3/3 [00:00<00:00, 98.13it/s]"
     ]
    },
    {
     "name": "stdout",
     "output_type": "stream",
     "text": [
      "                   all      0.714          1\n"
     ]
    },
    {
     "name": "stderr",
     "output_type": "stream",
     "text": [
      "\n"
     ]
    },
    {
     "name": "stdout",
     "output_type": "stream",
     "text": [
      "\n",
      "      Epoch    GPU_mem       loss  Instances       Size\n"
     ]
    },
    {
     "name": "stderr",
     "output_type": "stream",
     "text": [
      "    102/200      1.78G     0.1026          1        224: 100%|██████████| 39/39 [00:01<00:00, 32.73it/s]\n",
      "               classes   top1_acc   top5_acc: 100%|██████████| 3/3 [00:00<00:00, 94.18it/s]"
     ]
    },
    {
     "name": "stdout",
     "output_type": "stream",
     "text": [
      "                   all      0.714          1\n"
     ]
    },
    {
     "name": "stderr",
     "output_type": "stream",
     "text": [
      "\n"
     ]
    },
    {
     "name": "stdout",
     "output_type": "stream",
     "text": [
      "\n",
      "      Epoch    GPU_mem       loss  Instances       Size\n"
     ]
    },
    {
     "name": "stderr",
     "output_type": "stream",
     "text": [
      "    103/200      1.78G    0.04437          1        224: 100%|██████████| 39/39 [00:01<00:00, 31.63it/s]\n",
      "               classes   top1_acc   top5_acc: 100%|██████████| 3/3 [00:00<00:00, 93.23it/s]"
     ]
    },
    {
     "name": "stdout",
     "output_type": "stream",
     "text": [
      "                   all      0.662          1\n"
     ]
    },
    {
     "name": "stderr",
     "output_type": "stream",
     "text": [
      "\n"
     ]
    },
    {
     "name": "stdout",
     "output_type": "stream",
     "text": [
      "\n",
      "      Epoch    GPU_mem       loss  Instances       Size\n"
     ]
    },
    {
     "name": "stderr",
     "output_type": "stream",
     "text": [
      "    104/200      1.78G     0.0432          1        224: 100%|██████████| 39/39 [00:01<00:00, 32.50it/s]\n",
      "               classes   top1_acc   top5_acc: 100%|██████████| 3/3 [00:00<00:00, 100.94it/s]"
     ]
    },
    {
     "name": "stdout",
     "output_type": "stream",
     "text": [
      "                   all      0.675          1\n"
     ]
    },
    {
     "name": "stderr",
     "output_type": "stream",
     "text": [
      "\n"
     ]
    },
    {
     "name": "stdout",
     "output_type": "stream",
     "text": [
      "\n",
      "      Epoch    GPU_mem       loss  Instances       Size\n"
     ]
    },
    {
     "name": "stderr",
     "output_type": "stream",
     "text": [
      "    105/200      1.78G    0.04622          1        224: 100%|██████████| 39/39 [00:01<00:00, 31.57it/s]\n",
      "               classes   top1_acc   top5_acc: 100%|██████████| 3/3 [00:00<00:00, 96.89it/s]"
     ]
    },
    {
     "name": "stdout",
     "output_type": "stream",
     "text": [
      "                   all      0.701          1\n"
     ]
    },
    {
     "name": "stderr",
     "output_type": "stream",
     "text": [
      "\n"
     ]
    },
    {
     "name": "stdout",
     "output_type": "stream",
     "text": [
      "\n",
      "      Epoch    GPU_mem       loss  Instances       Size\n"
     ]
    },
    {
     "name": "stderr",
     "output_type": "stream",
     "text": [
      "    106/200      1.78G    0.07449          1        224: 100%|██████████| 39/39 [00:01<00:00, 32.56it/s]\n",
      "               classes   top1_acc   top5_acc: 100%|██████████| 3/3 [00:00<00:00, 97.17it/s]"
     ]
    },
    {
     "name": "stdout",
     "output_type": "stream",
     "text": [
      "                   all      0.714          1\n"
     ]
    },
    {
     "name": "stderr",
     "output_type": "stream",
     "text": [
      "\n"
     ]
    },
    {
     "name": "stdout",
     "output_type": "stream",
     "text": [
      "\n",
      "      Epoch    GPU_mem       loss  Instances       Size\n"
     ]
    },
    {
     "name": "stderr",
     "output_type": "stream",
     "text": [
      "    107/200      1.78G    0.04154          1        224: 100%|██████████| 39/39 [00:01<00:00, 32.61it/s]\n",
      "               classes   top1_acc   top5_acc: 100%|██████████| 3/3 [00:00<00:00, 97.60it/s]"
     ]
    },
    {
     "name": "stdout",
     "output_type": "stream",
     "text": [
      "                   all      0.727          1\n"
     ]
    },
    {
     "name": "stderr",
     "output_type": "stream",
     "text": [
      "\n"
     ]
    },
    {
     "name": "stdout",
     "output_type": "stream",
     "text": [
      "\n",
      "      Epoch    GPU_mem       loss  Instances       Size\n"
     ]
    },
    {
     "name": "stderr",
     "output_type": "stream",
     "text": [
      "    108/200      1.78G    0.05033          1        224: 100%|██████████| 39/39 [00:01<00:00, 32.49it/s]\n",
      "               classes   top1_acc   top5_acc: 100%|██████████| 3/3 [00:00<00:00, 95.03it/s]"
     ]
    },
    {
     "name": "stdout",
     "output_type": "stream",
     "text": [
      "                   all      0.714          1\n"
     ]
    },
    {
     "name": "stderr",
     "output_type": "stream",
     "text": [
      "\n"
     ]
    },
    {
     "name": "stdout",
     "output_type": "stream",
     "text": [
      "\n",
      "      Epoch    GPU_mem       loss  Instances       Size\n"
     ]
    },
    {
     "name": "stderr",
     "output_type": "stream",
     "text": [
      "    109/200      1.78G    0.04285          1        224: 100%|██████████| 39/39 [00:01<00:00, 32.06it/s]\n",
      "               classes   top1_acc   top5_acc: 100%|██████████| 3/3 [00:00<00:00, 100.25it/s]"
     ]
    },
    {
     "name": "stdout",
     "output_type": "stream",
     "text": [
      "                   all       0.74          1\n"
     ]
    },
    {
     "name": "stderr",
     "output_type": "stream",
     "text": [
      "\n"
     ]
    },
    {
     "name": "stdout",
     "output_type": "stream",
     "text": [
      "\n",
      "      Epoch    GPU_mem       loss  Instances       Size\n"
     ]
    },
    {
     "name": "stderr",
     "output_type": "stream",
     "text": [
      "    110/200      1.78G     0.1231          1        224: 100%|██████████| 39/39 [00:01<00:00, 31.81it/s]\n",
      "               classes   top1_acc   top5_acc: 100%|██████████| 3/3 [00:00<00:00, 98.54it/s]"
     ]
    },
    {
     "name": "stdout",
     "output_type": "stream",
     "text": [
      "                   all      0.714          1\n"
     ]
    },
    {
     "name": "stderr",
     "output_type": "stream",
     "text": [
      "\n"
     ]
    },
    {
     "name": "stdout",
     "output_type": "stream",
     "text": [
      "\n",
      "      Epoch    GPU_mem       loss  Instances       Size\n"
     ]
    },
    {
     "name": "stderr",
     "output_type": "stream",
     "text": [
      "    111/200      1.78G    0.04222          1        224: 100%|██████████| 39/39 [00:01<00:00, 32.80it/s]\n",
      "               classes   top1_acc   top5_acc: 100%|██████████| 3/3 [00:00<00:00, 87.38it/s]"
     ]
    },
    {
     "name": "stdout",
     "output_type": "stream",
     "text": [
      "                   all      0.727          1\n"
     ]
    },
    {
     "name": "stderr",
     "output_type": "stream",
     "text": [
      "\n"
     ]
    },
    {
     "name": "stdout",
     "output_type": "stream",
     "text": [
      "\n",
      "      Epoch    GPU_mem       loss  Instances       Size\n"
     ]
    },
    {
     "name": "stderr",
     "output_type": "stream",
     "text": [
      "    112/200      1.78G     0.1207          1        224: 100%|██████████| 39/39 [00:01<00:00, 32.19it/s]\n",
      "               classes   top1_acc   top5_acc: 100%|██████████| 3/3 [00:00<00:00, 81.74it/s]"
     ]
    },
    {
     "name": "stdout",
     "output_type": "stream",
     "text": [
      "                   all      0.727          1\n"
     ]
    },
    {
     "name": "stderr",
     "output_type": "stream",
     "text": [
      "\n"
     ]
    },
    {
     "name": "stdout",
     "output_type": "stream",
     "text": [
      "\n",
      "      Epoch    GPU_mem       loss  Instances       Size\n"
     ]
    },
    {
     "name": "stderr",
     "output_type": "stream",
     "text": [
      "    113/200      1.78G    0.05204          1        224: 100%|██████████| 39/39 [00:01<00:00, 31.72it/s]\n",
      "               classes   top1_acc   top5_acc: 100%|██████████| 3/3 [00:00<00:00, 83.37it/s]"
     ]
    },
    {
     "name": "stdout",
     "output_type": "stream",
     "text": [
      "                   all      0.714          1\n"
     ]
    },
    {
     "name": "stderr",
     "output_type": "stream",
     "text": [
      "\n"
     ]
    },
    {
     "name": "stdout",
     "output_type": "stream",
     "text": [
      "\n",
      "      Epoch    GPU_mem       loss  Instances       Size\n"
     ]
    },
    {
     "name": "stderr",
     "output_type": "stream",
     "text": [
      "    114/200      1.78G    0.04139          1        224: 100%|██████████| 39/39 [00:01<00:00, 30.43it/s]\n",
      "               classes   top1_acc   top5_acc: 100%|██████████| 3/3 [00:00<00:00, 98.55it/s]"
     ]
    },
    {
     "name": "stdout",
     "output_type": "stream",
     "text": [
      "                   all      0.688          1\n"
     ]
    },
    {
     "name": "stderr",
     "output_type": "stream",
     "text": [
      "\n"
     ]
    },
    {
     "name": "stdout",
     "output_type": "stream",
     "text": [
      "\n",
      "      Epoch    GPU_mem       loss  Instances       Size\n"
     ]
    },
    {
     "name": "stderr",
     "output_type": "stream",
     "text": [
      "    115/200      1.78G     0.0623          1        224: 100%|██████████| 39/39 [00:01<00:00, 32.56it/s]\n",
      "               classes   top1_acc   top5_acc: 100%|██████████| 3/3 [00:00<00:00, 92.57it/s]"
     ]
    },
    {
     "name": "stdout",
     "output_type": "stream",
     "text": [
      "                   all      0.714          1\n"
     ]
    },
    {
     "name": "stderr",
     "output_type": "stream",
     "text": [
      "\n"
     ]
    },
    {
     "name": "stdout",
     "output_type": "stream",
     "text": [
      "\n",
      "      Epoch    GPU_mem       loss  Instances       Size\n"
     ]
    },
    {
     "name": "stderr",
     "output_type": "stream",
     "text": [
      "    116/200      1.78G    0.05126          1        224: 100%|██████████| 39/39 [00:01<00:00, 31.89it/s]\n",
      "               classes   top1_acc   top5_acc: 100%|██████████| 3/3 [00:00<00:00, 95.69it/s]"
     ]
    },
    {
     "name": "stdout",
     "output_type": "stream",
     "text": [
      "                   all      0.727          1\n"
     ]
    },
    {
     "name": "stderr",
     "output_type": "stream",
     "text": [
      "\n"
     ]
    },
    {
     "name": "stdout",
     "output_type": "stream",
     "text": [
      "\n",
      "      Epoch    GPU_mem       loss  Instances       Size\n"
     ]
    },
    {
     "name": "stderr",
     "output_type": "stream",
     "text": [
      "    117/200      1.78G    0.05062          1        224: 100%|██████████| 39/39 [00:01<00:00, 33.10it/s]\n",
      "               classes   top1_acc   top5_acc: 100%|██████████| 3/3 [00:00<00:00, 102.39it/s]"
     ]
    },
    {
     "name": "stdout",
     "output_type": "stream",
     "text": [
      "                   all      0.714          1\n"
     ]
    },
    {
     "name": "stderr",
     "output_type": "stream",
     "text": [
      "\n"
     ]
    },
    {
     "name": "stdout",
     "output_type": "stream",
     "text": [
      "\n",
      "      Epoch    GPU_mem       loss  Instances       Size\n"
     ]
    },
    {
     "name": "stderr",
     "output_type": "stream",
     "text": [
      "    118/200      1.78G    0.04383          1        224: 100%|██████████| 39/39 [00:01<00:00, 33.14it/s]\n",
      "               classes   top1_acc   top5_acc: 100%|██████████| 3/3 [00:00<00:00, 100.98it/s]"
     ]
    },
    {
     "name": "stdout",
     "output_type": "stream",
     "text": [
      "                   all      0.701          1\n"
     ]
    },
    {
     "name": "stderr",
     "output_type": "stream",
     "text": [
      "\n"
     ]
    },
    {
     "name": "stdout",
     "output_type": "stream",
     "text": [
      "\n",
      "      Epoch    GPU_mem       loss  Instances       Size\n"
     ]
    },
    {
     "name": "stderr",
     "output_type": "stream",
     "text": [
      "    119/200      1.78G      0.032          1        224: 100%|██████████| 39/39 [00:01<00:00, 31.37it/s]\n",
      "               classes   top1_acc   top5_acc: 100%|██████████| 3/3 [00:00<00:00, 96.33it/s]"
     ]
    },
    {
     "name": "stdout",
     "output_type": "stream",
     "text": [
      "                   all      0.714          1\n"
     ]
    },
    {
     "name": "stderr",
     "output_type": "stream",
     "text": [
      "\n"
     ]
    },
    {
     "name": "stdout",
     "output_type": "stream",
     "text": [
      "\n",
      "      Epoch    GPU_mem       loss  Instances       Size\n"
     ]
    },
    {
     "name": "stderr",
     "output_type": "stream",
     "text": [
      "    120/200      1.78G    0.04612          1        224: 100%|██████████| 39/39 [00:01<00:00, 31.96it/s]\n",
      "               classes   top1_acc   top5_acc: 100%|██████████| 3/3 [00:00<00:00, 94.34it/s]"
     ]
    },
    {
     "name": "stdout",
     "output_type": "stream",
     "text": [
      "                   all      0.688          1\n"
     ]
    },
    {
     "name": "stderr",
     "output_type": "stream",
     "text": [
      "\n"
     ]
    },
    {
     "name": "stdout",
     "output_type": "stream",
     "text": [
      "\n",
      "      Epoch    GPU_mem       loss  Instances       Size\n"
     ]
    },
    {
     "name": "stderr",
     "output_type": "stream",
     "text": [
      "    121/200      1.78G    0.08788          1        224: 100%|██████████| 39/39 [00:01<00:00, 31.21it/s]\n",
      "               classes   top1_acc   top5_acc: 100%|██████████| 3/3 [00:00<00:00, 99.33it/s]"
     ]
    },
    {
     "name": "stdout",
     "output_type": "stream",
     "text": [
      "                   all      0.675          1\n"
     ]
    },
    {
     "name": "stderr",
     "output_type": "stream",
     "text": [
      "\n"
     ]
    },
    {
     "name": "stdout",
     "output_type": "stream",
     "text": [
      "\n",
      "      Epoch    GPU_mem       loss  Instances       Size\n"
     ]
    },
    {
     "name": "stderr",
     "output_type": "stream",
     "text": [
      "    122/200      1.78G    0.04376          1        224: 100%|██████████| 39/39 [00:01<00:00, 31.18it/s]\n",
      "               classes   top1_acc   top5_acc: 100%|██████████| 3/3 [00:00<00:00, 94.47it/s]"
     ]
    },
    {
     "name": "stdout",
     "output_type": "stream",
     "text": [
      "                   all      0.662          1\n"
     ]
    },
    {
     "name": "stderr",
     "output_type": "stream",
     "text": [
      "\n"
     ]
    },
    {
     "name": "stdout",
     "output_type": "stream",
     "text": [
      "\n",
      "      Epoch    GPU_mem       loss  Instances       Size\n"
     ]
    },
    {
     "name": "stderr",
     "output_type": "stream",
     "text": [
      "    123/200      1.78G    0.04018          1        224: 100%|██████████| 39/39 [00:01<00:00, 30.52it/s]\n",
      "               classes   top1_acc   top5_acc: 100%|██████████| 3/3 [00:00<00:00, 95.77it/s]"
     ]
    },
    {
     "name": "stdout",
     "output_type": "stream",
     "text": [
      "                   all      0.701          1\n"
     ]
    },
    {
     "name": "stderr",
     "output_type": "stream",
     "text": [
      "\n"
     ]
    },
    {
     "name": "stdout",
     "output_type": "stream",
     "text": [
      "\n",
      "      Epoch    GPU_mem       loss  Instances       Size\n"
     ]
    },
    {
     "name": "stderr",
     "output_type": "stream",
     "text": [
      "    124/200      1.78G    0.02388          1        224: 100%|██████████| 39/39 [00:01<00:00, 32.04it/s]\n",
      "               classes   top1_acc   top5_acc: 100%|██████████| 3/3 [00:00<00:00, 96.75it/s]"
     ]
    },
    {
     "name": "stdout",
     "output_type": "stream",
     "text": [
      "                   all      0.714          1\n"
     ]
    },
    {
     "name": "stderr",
     "output_type": "stream",
     "text": [
      "\n"
     ]
    },
    {
     "name": "stdout",
     "output_type": "stream",
     "text": [
      "\n",
      "      Epoch    GPU_mem       loss  Instances       Size\n"
     ]
    },
    {
     "name": "stderr",
     "output_type": "stream",
     "text": [
      "    125/200      1.78G    0.08597          1        224: 100%|██████████| 39/39 [00:01<00:00, 31.56it/s]\n",
      "               classes   top1_acc   top5_acc: 100%|██████████| 3/3 [00:00<00:00, 96.71it/s]"
     ]
    },
    {
     "name": "stdout",
     "output_type": "stream",
     "text": [
      "                   all      0.662          1\n"
     ]
    },
    {
     "name": "stderr",
     "output_type": "stream",
     "text": [
      "\n"
     ]
    },
    {
     "name": "stdout",
     "output_type": "stream",
     "text": [
      "\n",
      "      Epoch    GPU_mem       loss  Instances       Size\n"
     ]
    },
    {
     "name": "stderr",
     "output_type": "stream",
     "text": [
      "    126/200      1.78G    0.02194          1        224: 100%|██████████| 39/39 [00:01<00:00, 32.47it/s]\n",
      "               classes   top1_acc   top5_acc: 100%|██████████| 3/3 [00:00<00:00, 99.63it/s]"
     ]
    },
    {
     "name": "stdout",
     "output_type": "stream",
     "text": [
      "                   all      0.714          1\n"
     ]
    },
    {
     "name": "stderr",
     "output_type": "stream",
     "text": [
      "\n"
     ]
    },
    {
     "name": "stdout",
     "output_type": "stream",
     "text": [
      "\n",
      "      Epoch    GPU_mem       loss  Instances       Size\n"
     ]
    },
    {
     "name": "stderr",
     "output_type": "stream",
     "text": [
      "    127/200      1.78G    0.01447          1        224: 100%|██████████| 39/39 [00:01<00:00, 32.25it/s]\n",
      "               classes   top1_acc   top5_acc: 100%|██████████| 3/3 [00:00<00:00, 97.18it/s]"
     ]
    },
    {
     "name": "stdout",
     "output_type": "stream",
     "text": [
      "                   all      0.701          1\n"
     ]
    },
    {
     "name": "stderr",
     "output_type": "stream",
     "text": [
      "\n"
     ]
    },
    {
     "name": "stdout",
     "output_type": "stream",
     "text": [
      "\n",
      "      Epoch    GPU_mem       loss  Instances       Size\n"
     ]
    },
    {
     "name": "stderr",
     "output_type": "stream",
     "text": [
      "    128/200      1.78G    0.04502          1        224: 100%|██████████| 39/39 [00:01<00:00, 33.48it/s]\n",
      "               classes   top1_acc   top5_acc: 100%|██████████| 3/3 [00:00<00:00, 96.52it/s]"
     ]
    },
    {
     "name": "stdout",
     "output_type": "stream",
     "text": [
      "                   all      0.688          1\n"
     ]
    },
    {
     "name": "stderr",
     "output_type": "stream",
     "text": [
      "\n"
     ]
    },
    {
     "name": "stdout",
     "output_type": "stream",
     "text": [
      "\n",
      "      Epoch    GPU_mem       loss  Instances       Size\n"
     ]
    },
    {
     "name": "stderr",
     "output_type": "stream",
     "text": [
      "    129/200      1.78G    0.03095          1        224: 100%|██████████| 39/39 [00:01<00:00, 32.91it/s]\n",
      "               classes   top1_acc   top5_acc: 100%|██████████| 3/3 [00:00<00:00, 104.71it/s]"
     ]
    },
    {
     "name": "stdout",
     "output_type": "stream",
     "text": [
      "                   all      0.688          1\n"
     ]
    },
    {
     "name": "stderr",
     "output_type": "stream",
     "text": [
      "\n"
     ]
    },
    {
     "name": "stdout",
     "output_type": "stream",
     "text": [
      "\n",
      "      Epoch    GPU_mem       loss  Instances       Size\n"
     ]
    },
    {
     "name": "stderr",
     "output_type": "stream",
     "text": [
      "    130/200      1.78G    0.03672          1        224: 100%|██████████| 39/39 [00:01<00:00, 33.65it/s]\n",
      "               classes   top1_acc   top5_acc: 100%|██████████| 3/3 [00:00<00:00, 99.25it/s]"
     ]
    },
    {
     "name": "stdout",
     "output_type": "stream",
     "text": [
      "                   all      0.727          1\n"
     ]
    },
    {
     "name": "stderr",
     "output_type": "stream",
     "text": [
      "\n"
     ]
    },
    {
     "name": "stdout",
     "output_type": "stream",
     "text": [
      "\n",
      "      Epoch    GPU_mem       loss  Instances       Size\n"
     ]
    },
    {
     "name": "stderr",
     "output_type": "stream",
     "text": [
      "    131/200      1.78G    0.02028          1        224: 100%|██████████| 39/39 [00:01<00:00, 33.26it/s]\n",
      "               classes   top1_acc   top5_acc: 100%|██████████| 3/3 [00:00<00:00, 100.83it/s]"
     ]
    },
    {
     "name": "stdout",
     "output_type": "stream",
     "text": [
      "                   all      0.753          1\n"
     ]
    },
    {
     "name": "stderr",
     "output_type": "stream",
     "text": [
      "\n"
     ]
    },
    {
     "name": "stdout",
     "output_type": "stream",
     "text": [
      "\n",
      "      Epoch    GPU_mem       loss  Instances       Size\n"
     ]
    },
    {
     "name": "stderr",
     "output_type": "stream",
     "text": [
      "    132/200      1.78G    0.01917          1        224: 100%|██████████| 39/39 [00:01<00:00, 33.36it/s]\n",
      "               classes   top1_acc   top5_acc: 100%|██████████| 3/3 [00:00<00:00, 100.09it/s]"
     ]
    },
    {
     "name": "stdout",
     "output_type": "stream",
     "text": [
      "                   all      0.727          1\n"
     ]
    },
    {
     "name": "stderr",
     "output_type": "stream",
     "text": [
      "\n"
     ]
    },
    {
     "name": "stdout",
     "output_type": "stream",
     "text": [
      "\n",
      "      Epoch    GPU_mem       loss  Instances       Size\n"
     ]
    },
    {
     "name": "stderr",
     "output_type": "stream",
     "text": [
      "    133/200      1.78G    0.01285          1        224: 100%|██████████| 39/39 [00:01<00:00, 32.60it/s]\n",
      "               classes   top1_acc   top5_acc: 100%|██████████| 3/3 [00:00<00:00, 94.44it/s]"
     ]
    },
    {
     "name": "stdout",
     "output_type": "stream",
     "text": [
      "                   all      0.714          1\n"
     ]
    },
    {
     "name": "stderr",
     "output_type": "stream",
     "text": [
      "\n"
     ]
    },
    {
     "name": "stdout",
     "output_type": "stream",
     "text": [
      "\n",
      "      Epoch    GPU_mem       loss  Instances       Size\n"
     ]
    },
    {
     "name": "stderr",
     "output_type": "stream",
     "text": [
      "    134/200      1.78G     0.0209          1        224: 100%|██████████| 39/39 [00:01<00:00, 31.78it/s]\n",
      "               classes   top1_acc   top5_acc: 100%|██████████| 3/3 [00:00<00:00, 99.84it/s]"
     ]
    },
    {
     "name": "stdout",
     "output_type": "stream",
     "text": [
      "                   all      0.701          1\n"
     ]
    },
    {
     "name": "stderr",
     "output_type": "stream",
     "text": [
      "\n"
     ]
    },
    {
     "name": "stdout",
     "output_type": "stream",
     "text": [
      "\n",
      "      Epoch    GPU_mem       loss  Instances       Size\n"
     ]
    },
    {
     "name": "stderr",
     "output_type": "stream",
     "text": [
      "    135/200      1.78G    0.01682          1        224: 100%|██████████| 39/39 [00:01<00:00, 32.63it/s]\n",
      "               classes   top1_acc   top5_acc: 100%|██████████| 3/3 [00:00<00:00, 94.41it/s]"
     ]
    },
    {
     "name": "stdout",
     "output_type": "stream",
     "text": [
      "                   all      0.701          1\n"
     ]
    },
    {
     "name": "stderr",
     "output_type": "stream",
     "text": [
      "\n"
     ]
    },
    {
     "name": "stdout",
     "output_type": "stream",
     "text": [
      "\n",
      "      Epoch    GPU_mem       loss  Instances       Size\n"
     ]
    },
    {
     "name": "stderr",
     "output_type": "stream",
     "text": [
      "    136/200      1.78G    0.02564          1        224: 100%|██████████| 39/39 [00:01<00:00, 32.04it/s]\n",
      "               classes   top1_acc   top5_acc: 100%|██████████| 3/3 [00:00<00:00, 89.28it/s]"
     ]
    },
    {
     "name": "stdout",
     "output_type": "stream",
     "text": [
      "                   all      0.714          1\n"
     ]
    },
    {
     "name": "stderr",
     "output_type": "stream",
     "text": [
      "\n"
     ]
    },
    {
     "name": "stdout",
     "output_type": "stream",
     "text": [
      "\n",
      "      Epoch    GPU_mem       loss  Instances       Size\n"
     ]
    },
    {
     "name": "stderr",
     "output_type": "stream",
     "text": [
      "    137/200      1.78G    0.04303          1        224: 100%|██████████| 39/39 [00:01<00:00, 31.48it/s]\n",
      "               classes   top1_acc   top5_acc: 100%|██████████| 3/3 [00:00<00:00, 98.57it/s]"
     ]
    },
    {
     "name": "stdout",
     "output_type": "stream",
     "text": [
      "                   all      0.714          1\n"
     ]
    },
    {
     "name": "stderr",
     "output_type": "stream",
     "text": [
      "\n"
     ]
    },
    {
     "name": "stdout",
     "output_type": "stream",
     "text": [
      "\n",
      "      Epoch    GPU_mem       loss  Instances       Size\n"
     ]
    },
    {
     "name": "stderr",
     "output_type": "stream",
     "text": [
      "    138/200      1.78G    0.01693          1        224: 100%|██████████| 39/39 [00:01<00:00, 30.32it/s]\n",
      "               classes   top1_acc   top5_acc: 100%|██████████| 3/3 [00:00<00:00, 95.69it/s]"
     ]
    },
    {
     "name": "stdout",
     "output_type": "stream",
     "text": [
      "                   all      0.701          1\n"
     ]
    },
    {
     "name": "stderr",
     "output_type": "stream",
     "text": [
      "\n"
     ]
    },
    {
     "name": "stdout",
     "output_type": "stream",
     "text": [
      "\n",
      "      Epoch    GPU_mem       loss  Instances       Size\n"
     ]
    },
    {
     "name": "stderr",
     "output_type": "stream",
     "text": [
      "    139/200      1.78G    0.02415          1        224: 100%|██████████| 39/39 [00:01<00:00, 31.45it/s]\n",
      "               classes   top1_acc   top5_acc: 100%|██████████| 3/3 [00:00<00:00, 93.28it/s]"
     ]
    },
    {
     "name": "stdout",
     "output_type": "stream",
     "text": [
      "                   all      0.688          1\n"
     ]
    },
    {
     "name": "stderr",
     "output_type": "stream",
     "text": [
      "\n"
     ]
    },
    {
     "name": "stdout",
     "output_type": "stream",
     "text": [
      "\n",
      "      Epoch    GPU_mem       loss  Instances       Size\n"
     ]
    },
    {
     "name": "stderr",
     "output_type": "stream",
     "text": [
      "    140/200      1.78G    0.04844          1        224: 100%|██████████| 39/39 [00:01<00:00, 33.47it/s]\n",
      "               classes   top1_acc   top5_acc: 100%|██████████| 3/3 [00:00<00:00, 100.25it/s]"
     ]
    },
    {
     "name": "stdout",
     "output_type": "stream",
     "text": [
      "                   all      0.688          1\n"
     ]
    },
    {
     "name": "stderr",
     "output_type": "stream",
     "text": [
      "\n"
     ]
    },
    {
     "name": "stdout",
     "output_type": "stream",
     "text": [
      "\n",
      "      Epoch    GPU_mem       loss  Instances       Size\n"
     ]
    },
    {
     "name": "stderr",
     "output_type": "stream",
     "text": [
      "    141/200      1.78G    0.02407          1        224: 100%|██████████| 39/39 [00:01<00:00, 31.98it/s]\n",
      "               classes   top1_acc   top5_acc: 100%|██████████| 3/3 [00:00<00:00, 98.16it/s]"
     ]
    },
    {
     "name": "stdout",
     "output_type": "stream",
     "text": [
      "                   all      0.675          1\n"
     ]
    },
    {
     "name": "stderr",
     "output_type": "stream",
     "text": [
      "\n"
     ]
    },
    {
     "name": "stdout",
     "output_type": "stream",
     "text": [
      "\n",
      "      Epoch    GPU_mem       loss  Instances       Size\n"
     ]
    },
    {
     "name": "stderr",
     "output_type": "stream",
     "text": [
      "    142/200      1.78G     0.0189          1        224: 100%|██████████| 39/39 [00:01<00:00, 31.84it/s]\n",
      "               classes   top1_acc   top5_acc: 100%|██████████| 3/3 [00:00<00:00, 98.43it/s]"
     ]
    },
    {
     "name": "stdout",
     "output_type": "stream",
     "text": [
      "                   all      0.688          1\n"
     ]
    },
    {
     "name": "stderr",
     "output_type": "stream",
     "text": [
      "\n"
     ]
    },
    {
     "name": "stdout",
     "output_type": "stream",
     "text": [
      "\n",
      "      Epoch    GPU_mem       loss  Instances       Size\n"
     ]
    },
    {
     "name": "stderr",
     "output_type": "stream",
     "text": [
      "    143/200      1.78G    0.01131          1        224: 100%|██████████| 39/39 [00:01<00:00, 32.37it/s]\n",
      "               classes   top1_acc   top5_acc: 100%|██████████| 3/3 [00:00<00:00, 94.82it/s]"
     ]
    },
    {
     "name": "stdout",
     "output_type": "stream",
     "text": [
      "                   all      0.688          1\n"
     ]
    },
    {
     "name": "stderr",
     "output_type": "stream",
     "text": [
      "\n"
     ]
    },
    {
     "name": "stdout",
     "output_type": "stream",
     "text": [
      "\n",
      "      Epoch    GPU_mem       loss  Instances       Size\n"
     ]
    },
    {
     "name": "stderr",
     "output_type": "stream",
     "text": [
      "    144/200      1.78G    0.02988          1        224: 100%|██████████| 39/39 [00:01<00:00, 31.80it/s]\n",
      "               classes   top1_acc   top5_acc: 100%|██████████| 3/3 [00:00<00:00, 92.42it/s]"
     ]
    },
    {
     "name": "stdout",
     "output_type": "stream",
     "text": [
      "                   all      0.701          1\n"
     ]
    },
    {
     "name": "stderr",
     "output_type": "stream",
     "text": [
      "\n"
     ]
    },
    {
     "name": "stdout",
     "output_type": "stream",
     "text": [
      "\n",
      "      Epoch    GPU_mem       loss  Instances       Size\n"
     ]
    },
    {
     "name": "stderr",
     "output_type": "stream",
     "text": [
      "    145/200      1.78G     0.0213          1        224: 100%|██████████| 39/39 [00:01<00:00, 32.33it/s]\n",
      "               classes   top1_acc   top5_acc: 100%|██████████| 3/3 [00:00<00:00, 97.28it/s]"
     ]
    },
    {
     "name": "stdout",
     "output_type": "stream",
     "text": [
      "                   all      0.636          1\n"
     ]
    },
    {
     "name": "stderr",
     "output_type": "stream",
     "text": [
      "\n"
     ]
    },
    {
     "name": "stdout",
     "output_type": "stream",
     "text": [
      "\n",
      "      Epoch    GPU_mem       loss  Instances       Size\n"
     ]
    },
    {
     "name": "stderr",
     "output_type": "stream",
     "text": [
      "    146/200      1.78G     0.0148          1        224: 100%|██████████| 39/39 [00:01<00:00, 33.17it/s]\n",
      "               classes   top1_acc   top5_acc: 100%|██████████| 3/3 [00:00<00:00, 99.13it/s]"
     ]
    },
    {
     "name": "stdout",
     "output_type": "stream",
     "text": [
      "                   all      0.649          1\n"
     ]
    },
    {
     "name": "stderr",
     "output_type": "stream",
     "text": [
      "\n"
     ]
    },
    {
     "name": "stdout",
     "output_type": "stream",
     "text": [
      "\n",
      "      Epoch    GPU_mem       loss  Instances       Size\n"
     ]
    },
    {
     "name": "stderr",
     "output_type": "stream",
     "text": [
      "    147/200      1.78G     0.0113          1        224: 100%|██████████| 39/39 [00:01<00:00, 33.35it/s]\n",
      "               classes   top1_acc   top5_acc: 100%|██████████| 3/3 [00:00<00:00, 96.01it/s]"
     ]
    },
    {
     "name": "stdout",
     "output_type": "stream",
     "text": [
      "                   all      0.688          1\n"
     ]
    },
    {
     "name": "stderr",
     "output_type": "stream",
     "text": [
      "\n"
     ]
    },
    {
     "name": "stdout",
     "output_type": "stream",
     "text": [
      "\n",
      "      Epoch    GPU_mem       loss  Instances       Size\n"
     ]
    },
    {
     "name": "stderr",
     "output_type": "stream",
     "text": [
      "    148/200      1.78G    0.02571          1        224: 100%|██████████| 39/39 [00:01<00:00, 33.17it/s]\n",
      "               classes   top1_acc   top5_acc: 100%|██████████| 3/3 [00:00<00:00, 87.52it/s]"
     ]
    },
    {
     "name": "stdout",
     "output_type": "stream",
     "text": [
      "                   all      0.675          1\n"
     ]
    },
    {
     "name": "stderr",
     "output_type": "stream",
     "text": [
      "\n"
     ]
    },
    {
     "name": "stdout",
     "output_type": "stream",
     "text": [
      "\n",
      "      Epoch    GPU_mem       loss  Instances       Size\n"
     ]
    },
    {
     "name": "stderr",
     "output_type": "stream",
     "text": [
      "    149/200      1.78G    0.01464          1        224: 100%|██████████| 39/39 [00:01<00:00, 32.89it/s]\n",
      "               classes   top1_acc   top5_acc: 100%|██████████| 3/3 [00:00<00:00, 97.01it/s]"
     ]
    },
    {
     "name": "stdout",
     "output_type": "stream",
     "text": [
      "                   all      0.662          1\n"
     ]
    },
    {
     "name": "stderr",
     "output_type": "stream",
     "text": [
      "\n"
     ]
    },
    {
     "name": "stdout",
     "output_type": "stream",
     "text": [
      "\n",
      "      Epoch    GPU_mem       loss  Instances       Size\n"
     ]
    },
    {
     "name": "stderr",
     "output_type": "stream",
     "text": [
      "    150/200      1.78G    0.01323          1        224: 100%|██████████| 39/39 [00:01<00:00, 32.94it/s]\n",
      "               classes   top1_acc   top5_acc: 100%|██████████| 3/3 [00:00<00:00, 96.56it/s]"
     ]
    },
    {
     "name": "stdout",
     "output_type": "stream",
     "text": [
      "                   all      0.675          1\n"
     ]
    },
    {
     "name": "stderr",
     "output_type": "stream",
     "text": [
      "\n"
     ]
    },
    {
     "name": "stdout",
     "output_type": "stream",
     "text": [
      "\n",
      "      Epoch    GPU_mem       loss  Instances       Size\n"
     ]
    },
    {
     "name": "stderr",
     "output_type": "stream",
     "text": [
      "    151/200      1.78G    0.03066          1        224: 100%|██████████| 39/39 [00:01<00:00, 32.04it/s]\n",
      "               classes   top1_acc   top5_acc: 100%|██████████| 3/3 [00:00<00:00, 100.92it/s]"
     ]
    },
    {
     "name": "stdout",
     "output_type": "stream",
     "text": [
      "                   all      0.675          1\n"
     ]
    },
    {
     "name": "stderr",
     "output_type": "stream",
     "text": [
      "\n"
     ]
    },
    {
     "name": "stdout",
     "output_type": "stream",
     "text": [
      "\n",
      "      Epoch    GPU_mem       loss  Instances       Size\n"
     ]
    },
    {
     "name": "stderr",
     "output_type": "stream",
     "text": [
      "    152/200      1.78G     0.0216          1        224: 100%|██████████| 39/39 [00:01<00:00, 31.89it/s]\n",
      "               classes   top1_acc   top5_acc: 100%|██████████| 3/3 [00:00<00:00, 99.18it/s]"
     ]
    },
    {
     "name": "stdout",
     "output_type": "stream",
     "text": [
      "                   all      0.688          1\n"
     ]
    },
    {
     "name": "stderr",
     "output_type": "stream",
     "text": [
      "\n"
     ]
    },
    {
     "name": "stdout",
     "output_type": "stream",
     "text": [
      "\n",
      "      Epoch    GPU_mem       loss  Instances       Size\n"
     ]
    },
    {
     "name": "stderr",
     "output_type": "stream",
     "text": [
      "    153/200      1.78G    0.01542          1        224: 100%|██████████| 39/39 [00:01<00:00, 31.48it/s]\n",
      "               classes   top1_acc   top5_acc: 100%|██████████| 3/3 [00:00<00:00, 99.81it/s]"
     ]
    },
    {
     "name": "stdout",
     "output_type": "stream",
     "text": [
      "                   all      0.675          1\n"
     ]
    },
    {
     "name": "stderr",
     "output_type": "stream",
     "text": [
      "\n"
     ]
    },
    {
     "name": "stdout",
     "output_type": "stream",
     "text": [
      "\n",
      "      Epoch    GPU_mem       loss  Instances       Size\n"
     ]
    },
    {
     "name": "stderr",
     "output_type": "stream",
     "text": [
      "    154/200      1.78G    0.01365          1        224: 100%|██████████| 39/39 [00:01<00:00, 31.66it/s]\n",
      "               classes   top1_acc   top5_acc: 100%|██████████| 3/3 [00:00<00:00, 94.50it/s]"
     ]
    },
    {
     "name": "stdout",
     "output_type": "stream",
     "text": [
      "                   all      0.662          1\n"
     ]
    },
    {
     "name": "stderr",
     "output_type": "stream",
     "text": [
      "\n"
     ]
    },
    {
     "name": "stdout",
     "output_type": "stream",
     "text": [
      "\n",
      "      Epoch    GPU_mem       loss  Instances       Size\n"
     ]
    },
    {
     "name": "stderr",
     "output_type": "stream",
     "text": [
      "    155/200      1.78G    0.03211          1        224: 100%|██████████| 39/39 [00:01<00:00, 32.06it/s]\n",
      "               classes   top1_acc   top5_acc: 100%|██████████| 3/3 [00:00<00:00, 94.35it/s]"
     ]
    },
    {
     "name": "stdout",
     "output_type": "stream",
     "text": [
      "                   all      0.662          1\n"
     ]
    },
    {
     "name": "stderr",
     "output_type": "stream",
     "text": [
      "\n"
     ]
    },
    {
     "name": "stdout",
     "output_type": "stream",
     "text": [
      "\n",
      "      Epoch    GPU_mem       loss  Instances       Size\n"
     ]
    },
    {
     "name": "stderr",
     "output_type": "stream",
     "text": [
      "    156/200      1.78G    0.02538          1        224: 100%|██████████| 39/39 [00:01<00:00, 32.65it/s]\n",
      "               classes   top1_acc   top5_acc: 100%|██████████| 3/3 [00:00<00:00, 91.93it/s]"
     ]
    },
    {
     "name": "stdout",
     "output_type": "stream",
     "text": [
      "                   all      0.714          1\n"
     ]
    },
    {
     "name": "stderr",
     "output_type": "stream",
     "text": [
      "\n"
     ]
    },
    {
     "name": "stdout",
     "output_type": "stream",
     "text": [
      "\n",
      "      Epoch    GPU_mem       loss  Instances       Size\n"
     ]
    },
    {
     "name": "stderr",
     "output_type": "stream",
     "text": [
      "    157/200      1.78G   0.009163          1        224: 100%|██████████| 39/39 [00:01<00:00, 32.15it/s]\n",
      "               classes   top1_acc   top5_acc: 100%|██████████| 3/3 [00:00<00:00, 95.00it/s]"
     ]
    },
    {
     "name": "stdout",
     "output_type": "stream",
     "text": [
      "                   all      0.675          1\n"
     ]
    },
    {
     "name": "stderr",
     "output_type": "stream",
     "text": [
      "\n"
     ]
    },
    {
     "name": "stdout",
     "output_type": "stream",
     "text": [
      "\n",
      "      Epoch    GPU_mem       loss  Instances       Size\n"
     ]
    },
    {
     "name": "stderr",
     "output_type": "stream",
     "text": [
      "    158/200      1.78G   0.005245          1        224: 100%|██████████| 39/39 [00:01<00:00, 32.47it/s]\n",
      "               classes   top1_acc   top5_acc: 100%|██████████| 3/3 [00:00<00:00, 97.30it/s]"
     ]
    },
    {
     "name": "stdout",
     "output_type": "stream",
     "text": [
      "                   all      0.662          1\n"
     ]
    },
    {
     "name": "stderr",
     "output_type": "stream",
     "text": [
      "\n"
     ]
    },
    {
     "name": "stdout",
     "output_type": "stream",
     "text": [
      "\n",
      "      Epoch    GPU_mem       loss  Instances       Size\n"
     ]
    },
    {
     "name": "stderr",
     "output_type": "stream",
     "text": [
      "    159/200      1.78G    0.01828          1        224: 100%|██████████| 39/39 [00:01<00:00, 32.89it/s]\n",
      "               classes   top1_acc   top5_acc: 100%|██████████| 3/3 [00:00<00:00, 100.28it/s]"
     ]
    },
    {
     "name": "stdout",
     "output_type": "stream",
     "text": [
      "                   all      0.675          1\n"
     ]
    },
    {
     "name": "stderr",
     "output_type": "stream",
     "text": [
      "\n"
     ]
    },
    {
     "name": "stdout",
     "output_type": "stream",
     "text": [
      "\n",
      "      Epoch    GPU_mem       loss  Instances       Size\n"
     ]
    },
    {
     "name": "stderr",
     "output_type": "stream",
     "text": [
      "    160/200      1.78G    0.01864          1        224: 100%|██████████| 39/39 [00:01<00:00, 32.09it/s]\n",
      "               classes   top1_acc   top5_acc: 100%|██████████| 3/3 [00:00<00:00, 101.71it/s]"
     ]
    },
    {
     "name": "stdout",
     "output_type": "stream",
     "text": [
      "                   all      0.662          1\n"
     ]
    },
    {
     "name": "stderr",
     "output_type": "stream",
     "text": [
      "\n"
     ]
    },
    {
     "name": "stdout",
     "output_type": "stream",
     "text": [
      "\n",
      "      Epoch    GPU_mem       loss  Instances       Size\n"
     ]
    },
    {
     "name": "stderr",
     "output_type": "stream",
     "text": [
      "    161/200      1.78G    0.01868          1        224: 100%|██████████| 39/39 [00:01<00:00, 31.58it/s]\n",
      "               classes   top1_acc   top5_acc: 100%|██████████| 3/3 [00:00<00:00, 99.90it/s]"
     ]
    },
    {
     "name": "stdout",
     "output_type": "stream",
     "text": [
      "                   all      0.701          1\n"
     ]
    },
    {
     "name": "stderr",
     "output_type": "stream",
     "text": [
      "\n"
     ]
    },
    {
     "name": "stdout",
     "output_type": "stream",
     "text": [
      "\n",
      "      Epoch    GPU_mem       loss  Instances       Size\n"
     ]
    },
    {
     "name": "stderr",
     "output_type": "stream",
     "text": [
      "    162/200      1.78G    0.01684          1        224: 100%|██████████| 39/39 [00:01<00:00, 31.61it/s]\n",
      "               classes   top1_acc   top5_acc: 100%|██████████| 3/3 [00:00<00:00, 95.68it/s]"
     ]
    },
    {
     "name": "stdout",
     "output_type": "stream",
     "text": [
      "                   all      0.701          1\n"
     ]
    },
    {
     "name": "stderr",
     "output_type": "stream",
     "text": [
      "\n"
     ]
    },
    {
     "name": "stdout",
     "output_type": "stream",
     "text": [
      "\n",
      "      Epoch    GPU_mem       loss  Instances       Size\n"
     ]
    },
    {
     "name": "stderr",
     "output_type": "stream",
     "text": [
      "    163/200      1.78G   0.009292          1        224: 100%|██████████| 39/39 [00:01<00:00, 32.75it/s]\n",
      "               classes   top1_acc   top5_acc: 100%|██████████| 3/3 [00:00<00:00, 102.64it/s]"
     ]
    },
    {
     "name": "stdout",
     "output_type": "stream",
     "text": [
      "                   all      0.714          1\n"
     ]
    },
    {
     "name": "stderr",
     "output_type": "stream",
     "text": [
      "\n"
     ]
    },
    {
     "name": "stdout",
     "output_type": "stream",
     "text": [
      "\n",
      "      Epoch    GPU_mem       loss  Instances       Size\n"
     ]
    },
    {
     "name": "stderr",
     "output_type": "stream",
     "text": [
      "    164/200      1.78G    0.01188          1        224: 100%|██████████| 39/39 [00:01<00:00, 31.97it/s]\n",
      "               classes   top1_acc   top5_acc: 100%|██████████| 3/3 [00:00<00:00, 85.53it/s]"
     ]
    },
    {
     "name": "stdout",
     "output_type": "stream",
     "text": [
      "                   all      0.701          1\n"
     ]
    },
    {
     "name": "stderr",
     "output_type": "stream",
     "text": [
      "\n"
     ]
    },
    {
     "name": "stdout",
     "output_type": "stream",
     "text": [
      "\n",
      "      Epoch    GPU_mem       loss  Instances       Size\n"
     ]
    },
    {
     "name": "stderr",
     "output_type": "stream",
     "text": [
      "    165/200      1.78G    0.01098          1        224: 100%|██████████| 39/39 [00:01<00:00, 32.34it/s]\n",
      "               classes   top1_acc   top5_acc: 100%|██████████| 3/3 [00:00<00:00, 83.98it/s]"
     ]
    },
    {
     "name": "stdout",
     "output_type": "stream",
     "text": [
      "                   all      0.662          1\n"
     ]
    },
    {
     "name": "stderr",
     "output_type": "stream",
     "text": [
      "\n"
     ]
    },
    {
     "name": "stdout",
     "output_type": "stream",
     "text": [
      "\n",
      "      Epoch    GPU_mem       loss  Instances       Size\n"
     ]
    },
    {
     "name": "stderr",
     "output_type": "stream",
     "text": [
      "    166/200      1.78G    0.01435          1        224: 100%|██████████| 39/39 [00:01<00:00, 32.57it/s]\n",
      "               classes   top1_acc   top5_acc: 100%|██████████| 3/3 [00:00<00:00, 99.11it/s]"
     ]
    },
    {
     "name": "stdout",
     "output_type": "stream",
     "text": [
      "                   all      0.714          1\n"
     ]
    },
    {
     "name": "stderr",
     "output_type": "stream",
     "text": [
      "\n"
     ]
    },
    {
     "name": "stdout",
     "output_type": "stream",
     "text": [
      "\n",
      "      Epoch    GPU_mem       loss  Instances       Size\n"
     ]
    },
    {
     "name": "stderr",
     "output_type": "stream",
     "text": [
      "    167/200      1.78G   0.007147          1        224: 100%|██████████| 39/39 [00:01<00:00, 32.67it/s]\n",
      "               classes   top1_acc   top5_acc: 100%|██████████| 3/3 [00:00<00:00, 95.53it/s]"
     ]
    },
    {
     "name": "stdout",
     "output_type": "stream",
     "text": [
      "                   all      0.714          1\n"
     ]
    },
    {
     "name": "stderr",
     "output_type": "stream",
     "text": [
      "\n"
     ]
    },
    {
     "name": "stdout",
     "output_type": "stream",
     "text": [
      "\n",
      "      Epoch    GPU_mem       loss  Instances       Size\n"
     ]
    },
    {
     "name": "stderr",
     "output_type": "stream",
     "text": [
      "    168/200      1.78G     0.0194          1        224: 100%|██████████| 39/39 [00:01<00:00, 33.38it/s]\n",
      "               classes   top1_acc   top5_acc: 100%|██████████| 3/3 [00:00<00:00, 79.85it/s]"
     ]
    },
    {
     "name": "stdout",
     "output_type": "stream",
     "text": [
      "                   all      0.714          1\n"
     ]
    },
    {
     "name": "stderr",
     "output_type": "stream",
     "text": [
      "\n"
     ]
    },
    {
     "name": "stdout",
     "output_type": "stream",
     "text": [
      "\n",
      "      Epoch    GPU_mem       loss  Instances       Size\n"
     ]
    },
    {
     "name": "stderr",
     "output_type": "stream",
     "text": [
      "    169/200      1.78G   0.007941          1        224: 100%|██████████| 39/39 [00:01<00:00, 31.59it/s]\n",
      "               classes   top1_acc   top5_acc: 100%|██████████| 3/3 [00:00<00:00, 94.06it/s]"
     ]
    },
    {
     "name": "stdout",
     "output_type": "stream",
     "text": [
      "                   all      0.714          1\n"
     ]
    },
    {
     "name": "stderr",
     "output_type": "stream",
     "text": [
      "\n"
     ]
    },
    {
     "name": "stdout",
     "output_type": "stream",
     "text": [
      "\n",
      "      Epoch    GPU_mem       loss  Instances       Size\n"
     ]
    },
    {
     "name": "stderr",
     "output_type": "stream",
     "text": [
      "    170/200      1.78G    0.03115          1        224: 100%|██████████| 39/39 [00:01<00:00, 32.89it/s]\n",
      "               classes   top1_acc   top5_acc: 100%|██████████| 3/3 [00:00<00:00, 99.31it/s]"
     ]
    },
    {
     "name": "stdout",
     "output_type": "stream",
     "text": [
      "                   all      0.688          1\n"
     ]
    },
    {
     "name": "stderr",
     "output_type": "stream",
     "text": [
      "\n"
     ]
    },
    {
     "name": "stdout",
     "output_type": "stream",
     "text": [
      "\n",
      "      Epoch    GPU_mem       loss  Instances       Size\n"
     ]
    },
    {
     "name": "stderr",
     "output_type": "stream",
     "text": [
      "    171/200      1.78G   0.009849          1        224: 100%|██████████| 39/39 [00:01<00:00, 33.11it/s]\n",
      "               classes   top1_acc   top5_acc: 100%|██████████| 3/3 [00:00<00:00, 103.96it/s]"
     ]
    },
    {
     "name": "stdout",
     "output_type": "stream",
     "text": [
      "                   all      0.701          1\n"
     ]
    },
    {
     "name": "stderr",
     "output_type": "stream",
     "text": [
      "\n"
     ]
    },
    {
     "name": "stdout",
     "output_type": "stream",
     "text": [
      "\n",
      "      Epoch    GPU_mem       loss  Instances       Size\n"
     ]
    },
    {
     "name": "stderr",
     "output_type": "stream",
     "text": [
      "    172/200      1.78G    0.06888          1        224: 100%|██████████| 39/39 [00:01<00:00, 33.50it/s]\n",
      "               classes   top1_acc   top5_acc: 100%|██████████| 3/3 [00:00<00:00, 91.95it/s]"
     ]
    },
    {
     "name": "stdout",
     "output_type": "stream",
     "text": [
      "                   all      0.714          1\n"
     ]
    },
    {
     "name": "stderr",
     "output_type": "stream",
     "text": [
      "\n"
     ]
    },
    {
     "name": "stdout",
     "output_type": "stream",
     "text": [
      "\n",
      "      Epoch    GPU_mem       loss  Instances       Size\n"
     ]
    },
    {
     "name": "stderr",
     "output_type": "stream",
     "text": [
      "    173/200      1.78G    0.02306          1        224: 100%|██████████| 39/39 [00:01<00:00, 31.70it/s]\n",
      "               classes   top1_acc   top5_acc: 100%|██████████| 3/3 [00:00<00:00, 98.80it/s]"
     ]
    },
    {
     "name": "stdout",
     "output_type": "stream",
     "text": [
      "                   all      0.701          1\n"
     ]
    },
    {
     "name": "stderr",
     "output_type": "stream",
     "text": [
      "\n"
     ]
    },
    {
     "name": "stdout",
     "output_type": "stream",
     "text": [
      "\n",
      "      Epoch    GPU_mem       loss  Instances       Size\n"
     ]
    },
    {
     "name": "stderr",
     "output_type": "stream",
     "text": [
      "    174/200      1.78G    0.01122          1        224: 100%|██████████| 39/39 [00:01<00:00, 32.77it/s]\n",
      "               classes   top1_acc   top5_acc: 100%|██████████| 3/3 [00:00<00:00, 98.20it/s]"
     ]
    },
    {
     "name": "stdout",
     "output_type": "stream",
     "text": [
      "                   all      0.688          1\n"
     ]
    },
    {
     "name": "stderr",
     "output_type": "stream",
     "text": [
      "\n"
     ]
    },
    {
     "name": "stdout",
     "output_type": "stream",
     "text": [
      "\n",
      "      Epoch    GPU_mem       loss  Instances       Size\n"
     ]
    },
    {
     "name": "stderr",
     "output_type": "stream",
     "text": [
      "    175/200      1.78G    0.01969          1        224: 100%|██████████| 39/39 [00:01<00:00, 31.81it/s]\n",
      "               classes   top1_acc   top5_acc: 100%|██████████| 3/3 [00:00<00:00, 98.29it/s]"
     ]
    },
    {
     "name": "stdout",
     "output_type": "stream",
     "text": [
      "                   all      0.688          1\n"
     ]
    },
    {
     "name": "stderr",
     "output_type": "stream",
     "text": [
      "\n"
     ]
    },
    {
     "name": "stdout",
     "output_type": "stream",
     "text": [
      "\n",
      "      Epoch    GPU_mem       loss  Instances       Size\n"
     ]
    },
    {
     "name": "stderr",
     "output_type": "stream",
     "text": [
      "    176/200      1.78G    0.06364          1        224: 100%|██████████| 39/39 [00:01<00:00, 32.08it/s]\n",
      "               classes   top1_acc   top5_acc: 100%|██████████| 3/3 [00:00<00:00, 93.60it/s]"
     ]
    },
    {
     "name": "stdout",
     "output_type": "stream",
     "text": [
      "                   all      0.714          1\n"
     ]
    },
    {
     "name": "stderr",
     "output_type": "stream",
     "text": [
      "\n"
     ]
    },
    {
     "name": "stdout",
     "output_type": "stream",
     "text": [
      "\n",
      "      Epoch    GPU_mem       loss  Instances       Size\n"
     ]
    },
    {
     "name": "stderr",
     "output_type": "stream",
     "text": [
      "    177/200      1.78G   0.006903          1        224: 100%|██████████| 39/39 [00:01<00:00, 31.65it/s]\n",
      "               classes   top1_acc   top5_acc: 100%|██████████| 3/3 [00:00<00:00, 98.21it/s]"
     ]
    },
    {
     "name": "stdout",
     "output_type": "stream",
     "text": [
      "                   all      0.714          1\n"
     ]
    },
    {
     "name": "stderr",
     "output_type": "stream",
     "text": [
      "\n"
     ]
    },
    {
     "name": "stdout",
     "output_type": "stream",
     "text": [
      "\n",
      "      Epoch    GPU_mem       loss  Instances       Size\n"
     ]
    },
    {
     "name": "stderr",
     "output_type": "stream",
     "text": [
      "    178/200      1.78G    0.02646          1        224: 100%|██████████| 39/39 [00:01<00:00, 31.76it/s]\n",
      "               classes   top1_acc   top5_acc: 100%|██████████| 3/3 [00:00<00:00, 97.59it/s]"
     ]
    },
    {
     "name": "stdout",
     "output_type": "stream",
     "text": [
      "                   all      0.727          1\n"
     ]
    },
    {
     "name": "stderr",
     "output_type": "stream",
     "text": [
      "\n"
     ]
    },
    {
     "name": "stdout",
     "output_type": "stream",
     "text": [
      "\n",
      "      Epoch    GPU_mem       loss  Instances       Size\n"
     ]
    },
    {
     "name": "stderr",
     "output_type": "stream",
     "text": [
      "    179/200      1.78G    0.01353          1        224: 100%|██████████| 39/39 [00:01<00:00, 32.84it/s]\n",
      "               classes   top1_acc   top5_acc: 100%|██████████| 3/3 [00:00<00:00, 100.50it/s]"
     ]
    },
    {
     "name": "stdout",
     "output_type": "stream",
     "text": [
      "                   all      0.701          1\n"
     ]
    },
    {
     "name": "stderr",
     "output_type": "stream",
     "text": [
      "\n"
     ]
    },
    {
     "name": "stdout",
     "output_type": "stream",
     "text": [
      "\n",
      "      Epoch    GPU_mem       loss  Instances       Size\n"
     ]
    },
    {
     "name": "stderr",
     "output_type": "stream",
     "text": [
      "    180/200      1.78G   0.005821          1        224: 100%|██████████| 39/39 [00:01<00:00, 33.10it/s]\n",
      "               classes   top1_acc   top5_acc: 100%|██████████| 3/3 [00:00<00:00, 101.26it/s]"
     ]
    },
    {
     "name": "stdout",
     "output_type": "stream",
     "text": [
      "                   all      0.688          1\n"
     ]
    },
    {
     "name": "stderr",
     "output_type": "stream",
     "text": [
      "\n"
     ]
    },
    {
     "name": "stdout",
     "output_type": "stream",
     "text": [
      "\n",
      "      Epoch    GPU_mem       loss  Instances       Size\n"
     ]
    },
    {
     "name": "stderr",
     "output_type": "stream",
     "text": [
      "    181/200      1.78G    0.04016          1        224: 100%|██████████| 39/39 [00:01<00:00, 32.32it/s]\n",
      "               classes   top1_acc   top5_acc: 100%|██████████| 3/3 [00:00<00:00, 101.14it/s]"
     ]
    },
    {
     "name": "stdout",
     "output_type": "stream",
     "text": [
      "                   all      0.714          1\n"
     ]
    },
    {
     "name": "stderr",
     "output_type": "stream",
     "text": [
      "\n"
     ]
    },
    {
     "name": "stdout",
     "output_type": "stream",
     "text": [
      "\n",
      "      Epoch    GPU_mem       loss  Instances       Size\n"
     ]
    },
    {
     "name": "stderr",
     "output_type": "stream",
     "text": [
      "    182/200      1.78G    0.02333          1        224: 100%|██████████| 39/39 [00:01<00:00, 32.95it/s]\n",
      "               classes   top1_acc   top5_acc: 100%|██████████| 3/3 [00:00<00:00, 97.35it/s]"
     ]
    },
    {
     "name": "stdout",
     "output_type": "stream",
     "text": [
      "                   all      0.688          1\n"
     ]
    },
    {
     "name": "stderr",
     "output_type": "stream",
     "text": [
      "\n"
     ]
    },
    {
     "name": "stdout",
     "output_type": "stream",
     "text": [
      "\n",
      "      Epoch    GPU_mem       loss  Instances       Size\n"
     ]
    },
    {
     "name": "stderr",
     "output_type": "stream",
     "text": [
      "    183/200      1.78G   0.009702          1        224: 100%|██████████| 39/39 [00:01<00:00, 33.06it/s]\n",
      "               classes   top1_acc   top5_acc: 100%|██████████| 3/3 [00:00<00:00, 97.88it/s]"
     ]
    },
    {
     "name": "stdout",
     "output_type": "stream",
     "text": [
      "                   all      0.714          1\n"
     ]
    },
    {
     "name": "stderr",
     "output_type": "stream",
     "text": [
      "\n"
     ]
    },
    {
     "name": "stdout",
     "output_type": "stream",
     "text": [
      "\n",
      "      Epoch    GPU_mem       loss  Instances       Size\n"
     ]
    },
    {
     "name": "stderr",
     "output_type": "stream",
     "text": [
      "    184/200      1.78G    0.01909          1        224: 100%|██████████| 39/39 [00:01<00:00, 31.91it/s]\n",
      "               classes   top1_acc   top5_acc: 100%|██████████| 3/3 [00:00<00:00, 96.73it/s]"
     ]
    },
    {
     "name": "stdout",
     "output_type": "stream",
     "text": [
      "                   all      0.714          1\n"
     ]
    },
    {
     "name": "stderr",
     "output_type": "stream",
     "text": [
      "\n"
     ]
    },
    {
     "name": "stdout",
     "output_type": "stream",
     "text": [
      "\n",
      "      Epoch    GPU_mem       loss  Instances       Size\n"
     ]
    },
    {
     "name": "stderr",
     "output_type": "stream",
     "text": [
      "    185/200      1.78G    0.01807          1        224: 100%|██████████| 39/39 [00:01<00:00, 33.19it/s]\n",
      "               classes   top1_acc   top5_acc: 100%|██████████| 3/3 [00:00<00:00, 98.07it/s]"
     ]
    },
    {
     "name": "stdout",
     "output_type": "stream",
     "text": [
      "                   all      0.701          1\n"
     ]
    },
    {
     "name": "stderr",
     "output_type": "stream",
     "text": [
      "\n"
     ]
    },
    {
     "name": "stdout",
     "output_type": "stream",
     "text": [
      "\n",
      "      Epoch    GPU_mem       loss  Instances       Size\n"
     ]
    },
    {
     "name": "stderr",
     "output_type": "stream",
     "text": [
      "    186/200      1.78G   0.009857          1        224: 100%|██████████| 39/39 [00:01<00:00, 33.03it/s]\n",
      "               classes   top1_acc   top5_acc: 100%|██████████| 3/3 [00:00<00:00, 96.74it/s]"
     ]
    },
    {
     "name": "stdout",
     "output_type": "stream",
     "text": [
      "                   all      0.701          1\n"
     ]
    },
    {
     "name": "stderr",
     "output_type": "stream",
     "text": [
      "\n"
     ]
    },
    {
     "name": "stdout",
     "output_type": "stream",
     "text": [
      "\n",
      "      Epoch    GPU_mem       loss  Instances       Size\n"
     ]
    },
    {
     "name": "stderr",
     "output_type": "stream",
     "text": [
      "    187/200      1.78G    0.01365          1        224: 100%|██████████| 39/39 [00:01<00:00, 32.66it/s]\n",
      "               classes   top1_acc   top5_acc: 100%|██████████| 3/3 [00:00<00:00, 97.46it/s]"
     ]
    },
    {
     "name": "stdout",
     "output_type": "stream",
     "text": [
      "                   all       0.74          1\n"
     ]
    },
    {
     "name": "stderr",
     "output_type": "stream",
     "text": [
      "\n"
     ]
    },
    {
     "name": "stdout",
     "output_type": "stream",
     "text": [
      "\n",
      "      Epoch    GPU_mem       loss  Instances       Size\n"
     ]
    },
    {
     "name": "stderr",
     "output_type": "stream",
     "text": [
      "    188/200      1.78G   0.007182          1        224: 100%|██████████| 39/39 [00:01<00:00, 33.01it/s]\n",
      "               classes   top1_acc   top5_acc: 100%|██████████| 3/3 [00:00<00:00, 98.78it/s]"
     ]
    },
    {
     "name": "stdout",
     "output_type": "stream",
     "text": [
      "                   all      0.727          1\n"
     ]
    },
    {
     "name": "stderr",
     "output_type": "stream",
     "text": [
      "\n"
     ]
    },
    {
     "name": "stdout",
     "output_type": "stream",
     "text": [
      "\n",
      "      Epoch    GPU_mem       loss  Instances       Size\n"
     ]
    },
    {
     "name": "stderr",
     "output_type": "stream",
     "text": [
      "    189/200      1.78G   0.005696          1        224: 100%|██████████| 39/39 [00:01<00:00, 32.15it/s]\n",
      "               classes   top1_acc   top5_acc: 100%|██████████| 3/3 [00:00<00:00, 96.37it/s]"
     ]
    },
    {
     "name": "stdout",
     "output_type": "stream",
     "text": [
      "                   all      0.727          1\n"
     ]
    },
    {
     "name": "stderr",
     "output_type": "stream",
     "text": [
      "\n"
     ]
    },
    {
     "name": "stdout",
     "output_type": "stream",
     "text": [
      "\n",
      "      Epoch    GPU_mem       loss  Instances       Size\n"
     ]
    },
    {
     "name": "stderr",
     "output_type": "stream",
     "text": [
      "    190/200      1.78G    0.02386          1        224: 100%|██████████| 39/39 [00:01<00:00, 32.82it/s]\n",
      "               classes   top1_acc   top5_acc: 100%|██████████| 3/3 [00:00<00:00, 101.40it/s]"
     ]
    },
    {
     "name": "stdout",
     "output_type": "stream",
     "text": [
      "                   all      0.714          1\n"
     ]
    },
    {
     "name": "stderr",
     "output_type": "stream",
     "text": [
      "\n"
     ]
    },
    {
     "name": "stdout",
     "output_type": "stream",
     "text": [
      "\n",
      "      Epoch    GPU_mem       loss  Instances       Size\n"
     ]
    },
    {
     "name": "stderr",
     "output_type": "stream",
     "text": [
      "    191/200      1.78G    0.03144          1        224: 100%|██████████| 39/39 [00:01<00:00, 31.59it/s]\n",
      "               classes   top1_acc   top5_acc: 100%|██████████| 3/3 [00:00<00:00, 99.06it/s]"
     ]
    },
    {
     "name": "stdout",
     "output_type": "stream",
     "text": [
      "                   all      0.701          1\n"
     ]
    },
    {
     "name": "stderr",
     "output_type": "stream",
     "text": [
      "\n"
     ]
    },
    {
     "name": "stdout",
     "output_type": "stream",
     "text": [
      "\n",
      "      Epoch    GPU_mem       loss  Instances       Size\n"
     ]
    },
    {
     "name": "stderr",
     "output_type": "stream",
     "text": [
      "    192/200      1.78G   0.003642          1        224: 100%|██████████| 39/39 [00:01<00:00, 33.53it/s]\n",
      "               classes   top1_acc   top5_acc: 100%|██████████| 3/3 [00:00<00:00, 101.30it/s]"
     ]
    },
    {
     "name": "stdout",
     "output_type": "stream",
     "text": [
      "                   all      0.701          1\n"
     ]
    },
    {
     "name": "stderr",
     "output_type": "stream",
     "text": [
      "\n"
     ]
    },
    {
     "name": "stdout",
     "output_type": "stream",
     "text": [
      "\n",
      "      Epoch    GPU_mem       loss  Instances       Size\n"
     ]
    },
    {
     "name": "stderr",
     "output_type": "stream",
     "text": [
      "    193/200      1.78G    0.00512          1        224: 100%|██████████| 39/39 [00:01<00:00, 32.89it/s]\n",
      "               classes   top1_acc   top5_acc: 100%|██████████| 3/3 [00:00<00:00, 101.13it/s]"
     ]
    },
    {
     "name": "stdout",
     "output_type": "stream",
     "text": [
      "                   all      0.701          1\n"
     ]
    },
    {
     "name": "stderr",
     "output_type": "stream",
     "text": [
      "\n"
     ]
    },
    {
     "name": "stdout",
     "output_type": "stream",
     "text": [
      "\n",
      "      Epoch    GPU_mem       loss  Instances       Size\n"
     ]
    },
    {
     "name": "stderr",
     "output_type": "stream",
     "text": [
      "    194/200      1.78G    0.01246          1        224: 100%|██████████| 39/39 [00:01<00:00, 32.13it/s]\n",
      "               classes   top1_acc   top5_acc: 100%|██████████| 3/3 [00:00<00:00, 97.01it/s]"
     ]
    },
    {
     "name": "stdout",
     "output_type": "stream",
     "text": [
      "                   all      0.688          1\n"
     ]
    },
    {
     "name": "stderr",
     "output_type": "stream",
     "text": [
      "\n"
     ]
    },
    {
     "name": "stdout",
     "output_type": "stream",
     "text": [
      "\n",
      "      Epoch    GPU_mem       loss  Instances       Size\n"
     ]
    },
    {
     "name": "stderr",
     "output_type": "stream",
     "text": [
      "    195/200      1.78G     0.0116          1        224: 100%|██████████| 39/39 [00:01<00:00, 32.37it/s]\n",
      "               classes   top1_acc   top5_acc: 100%|██████████| 3/3 [00:00<00:00, 99.15it/s]"
     ]
    },
    {
     "name": "stdout",
     "output_type": "stream",
     "text": [
      "                   all      0.701          1\n"
     ]
    },
    {
     "name": "stderr",
     "output_type": "stream",
     "text": [
      "\n"
     ]
    },
    {
     "name": "stdout",
     "output_type": "stream",
     "text": [
      "\n",
      "      Epoch    GPU_mem       loss  Instances       Size\n"
     ]
    },
    {
     "name": "stderr",
     "output_type": "stream",
     "text": [
      "    196/200      1.78G    0.01528          1        224: 100%|██████████| 39/39 [00:01<00:00, 32.57it/s]\n",
      "               classes   top1_acc   top5_acc: 100%|██████████| 3/3 [00:00<00:00, 90.87it/s]"
     ]
    },
    {
     "name": "stdout",
     "output_type": "stream",
     "text": [
      "                   all      0.701          1\n"
     ]
    },
    {
     "name": "stderr",
     "output_type": "stream",
     "text": [
      "\n"
     ]
    },
    {
     "name": "stdout",
     "output_type": "stream",
     "text": [
      "\n",
      "      Epoch    GPU_mem       loss  Instances       Size\n"
     ]
    },
    {
     "name": "stderr",
     "output_type": "stream",
     "text": [
      "    197/200      1.78G    0.01221          1        224: 100%|██████████| 39/39 [00:01<00:00, 32.90it/s]\n",
      "               classes   top1_acc   top5_acc: 100%|██████████| 3/3 [00:00<00:00, 97.88it/s]"
     ]
    },
    {
     "name": "stdout",
     "output_type": "stream",
     "text": [
      "                   all      0.701          1\n"
     ]
    },
    {
     "name": "stderr",
     "output_type": "stream",
     "text": [
      "\n"
     ]
    },
    {
     "name": "stdout",
     "output_type": "stream",
     "text": [
      "\n",
      "      Epoch    GPU_mem       loss  Instances       Size\n"
     ]
    },
    {
     "name": "stderr",
     "output_type": "stream",
     "text": [
      "    198/200      1.78G    0.01576          1        224: 100%|██████████| 39/39 [00:01<00:00, 32.22it/s]\n",
      "               classes   top1_acc   top5_acc: 100%|██████████| 3/3 [00:00<00:00, 97.60it/s]"
     ]
    },
    {
     "name": "stdout",
     "output_type": "stream",
     "text": [
      "                   all      0.701          1\n"
     ]
    },
    {
     "name": "stderr",
     "output_type": "stream",
     "text": [
      "\n"
     ]
    },
    {
     "name": "stdout",
     "output_type": "stream",
     "text": [
      "\n",
      "      Epoch    GPU_mem       loss  Instances       Size\n"
     ]
    },
    {
     "name": "stderr",
     "output_type": "stream",
     "text": [
      "    199/200      1.78G   0.007351          1        224: 100%|██████████| 39/39 [00:01<00:00, 32.15it/s]\n",
      "               classes   top1_acc   top5_acc: 100%|██████████| 3/3 [00:00<00:00, 89.26it/s]"
     ]
    },
    {
     "name": "stdout",
     "output_type": "stream",
     "text": [
      "                   all      0.701          1\n"
     ]
    },
    {
     "name": "stderr",
     "output_type": "stream",
     "text": [
      "\n"
     ]
    },
    {
     "name": "stdout",
     "output_type": "stream",
     "text": [
      "\n",
      "      Epoch    GPU_mem       loss  Instances       Size\n"
     ]
    },
    {
     "name": "stderr",
     "output_type": "stream",
     "text": [
      "    200/200      1.78G     0.1984          1        224: 100%|██████████| 39/39 [00:01<00:00, 32.67it/s]\n",
      "               classes   top1_acc   top5_acc: 100%|██████████| 3/3 [00:00<00:00, 95.54it/s]"
     ]
    },
    {
     "name": "stdout",
     "output_type": "stream",
     "text": [
      "                   all      0.701          1\n"
     ]
    },
    {
     "name": "stderr",
     "output_type": "stream",
     "text": [
      "\n"
     ]
    },
    {
     "name": "stdout",
     "output_type": "stream",
     "text": [
      "\n",
      "200 epochs completed in 0.096 hours.\n",
      "Optimizer stripped from runs/classify/train134/weights/last.pt, 31.7MB\n",
      "Optimizer stripped from runs/classify/train134/weights/best.pt, 31.7MB\n",
      "\n",
      "Validating runs/classify/train134/weights/best.pt...\n",
      "Ultralytics 8.3.73 🚀 Python-3.10.12 torch-2.6.0+cu124 CUDA:0 (NVIDIA GeForce RTX 4090, 24210MiB)\n",
      "YOLOv8m-cls summary (fused): 103 layers, 15,765,218 parameters, 0 gradients, 41.6 GFLOPs\n",
      "\u001b[34m\u001b[1mtrain:\u001b[0m /home/jupyter/classifications/overlay_abandonedness/train... found 609 images in 4 classes: ERROR ❌️ requires 2 classes, not 4\n",
      "\u001b[34m\u001b[1mval:\u001b[0m /home/jupyter/classifications/overlay_abandonedness/val... found 77 images in 2 classes ✅ \n",
      "\u001b[34m\u001b[1mtest:\u001b[0m /home/jupyter/classifications/overlay_abandonedness/test... found 76 images in 2 classes ✅ \n"
     ]
    },
    {
     "name": "stderr",
     "output_type": "stream",
     "text": [
      "               classes   top1_acc   top5_acc: 100%|██████████| 3/3 [00:00<00:00, 98.37it/s]\n"
     ]
    },
    {
     "name": "stdout",
     "output_type": "stream",
     "text": [
      "                   all      0.753          1\n",
      "Speed: 0.0ms preprocess, 0.3ms inference, 0.0ms loss, 0.0ms postprocess per image\n",
      "Results saved to \u001b[1mruns/classify/train134\u001b[0m\n"
     ]
    },
    {
     "data": {
      "text/plain": [
       "ultralytics.utils.metrics.ClassifyMetrics object with attributes:\n",
       "\n",
       "confusion_matrix: <ultralytics.utils.metrics.ConfusionMatrix object at 0x7d737a30b550>\n",
       "curves: []\n",
       "curves_results: []\n",
       "fitness: 0.8766233623027802\n",
       "keys: ['metrics/accuracy_top1', 'metrics/accuracy_top5']\n",
       "results_dict: {'metrics/accuracy_top1': 0.7532467246055603, 'metrics/accuracy_top5': 1.0, 'fitness': 0.8766233623027802}\n",
       "save_dir: PosixPath('runs/classify/train134')\n",
       "speed: {'preprocess': 0.04307945053298752, 'inference': 0.3042840338372565, 'loss': 0.00037775411234273543, 'postprocess': 0.0005047042648513596}\n",
       "task: 'classify'\n",
       "top1: 0.7532467246055603\n",
       "top5: 1.0"
      ]
     },
     "execution_count": 477,
     "metadata": {},
     "output_type": "execute_result"
    }
   ],
   "source": [
    "#training abandonnessModel for overlay view\n",
    "\n",
    "abandonnessOverlayModel = YOLO(\"yolov8m-cls.pt\")#uncomment to restart training from scratch\n",
    "abandonnessOverlayModel.train(data=\"classifications/overlay_abandonedness\", epochs = 200)"
   ]
  },
  {
   "cell_type": "markdown",
   "metadata": {
    "jp-MarkdownHeadingCollapsed": true
   },
   "source": [
    "## Analysis"
   ]
  },
  {
   "cell_type": "code",
   "execution_count": 106,
   "metadata": {},
   "outputs": [],
   "source": [
    "#analyzing test data\n",
    "def analyzeAbandonedTestData(abandonedTestResults, ownedTestResults):\n",
    "    correctAbandons = 0\n",
    "    correctOwneds = 0\n",
    "    falseAbandons = 0\n",
    "    falseOwneds = 0\n",
    "    totalTests = 0\n",
    "    \n",
    "    for result in abandonedTestResults:\n",
    "        if(result.names[result.probs.top1] == 'abandoned'):\n",
    "            correctAbandons += 1\n",
    "        else:\n",
    "            falseOwneds += 1\n",
    "        totalTests += 1\n",
    "    \n",
    "    \n",
    "    for result in ownedTestResults:\n",
    "        if(result.names[result.probs.top1] == 'owned'):\n",
    "            correctOwneds += 1\n",
    "        else:\n",
    "            falseAbandons += 1\n",
    "        totalTests += 1\n",
    "    \n",
    "    #calculating accuracy (how accurate the model is at getting the correct results)\n",
    "    correctTests = correctAbandons + correctOwneds\n",
    "    accuracy = correctTests/totalTests\n",
    "    \n",
    "    #calculating precision (how good the model is at only saying a thing's there if it is there)\n",
    "    abandonnessPrecision = correctAbandons / (correctAbandons + falseAbandons)\n",
    "    ownedPrecision = correctOwneds / (correctOwneds + falseOwneds)\n",
    "    \n",
    "    #calculating recall (how good the model is at recognizing a thing is there)\n",
    "    abandonnessRecall = correctAbandons / (correctAbandons + falseOwneds)\n",
    "    ownedRecall = correctOwneds / (correctOwneds + falseAbandons) \n",
    "    \n",
    "    #calculating f1 score \n",
    "    abandonnessF1 = 2 * (abandonnessRecall * abandonnessPrecision)/(abandonnessRecall + abandonnessPrecision)\n",
    "    ownedF1 = 2 * (ownedRecall * ownedPrecision)/(ownedRecall + ownedPrecision)\n",
    "    \n",
    "    print(\"Accuracy: \", correctTests, \"/\", totalTests, \" = \", round(accuracy, 3))\n",
    "    print()\n",
    "    print(\"Abandonness precision: \", round(abandonnessPrecision, 3))\n",
    "    print(\"Owned precision: \", round(ownedPrecision, 3))\n",
    "    print(\"Abandonness recall: \", round(abandonnessRecall, 3))\n",
    "    print(\"Owned recall: \", round(ownedRecall, 3))\n",
    "    print()\n",
    "    print(\"Abandonness f1 score: \", round(abandonnessF1, 3))\n",
    "    print(\"Owned f1 score: \", round(ownedF1, 3))"
   ]
  },
  {
   "cell_type": "code",
   "execution_count": 306,
   "metadata": {
    "scrolled": true
   },
   "outputs": [
    {
     "name": "stdout",
     "output_type": "stream",
     "text": [
      "\n",
      "image 1/1 /home/jupyter/streetview_images/v10001.png: 224x224 abandoned 1.00, owned 0.00, 4.7ms\n",
      "Speed: 6.3ms preprocess, 4.7ms inference, 0.0ms postprocess per image at shape (1, 3, 224, 224)\n",
      "\n",
      "image 1/1 /home/jupyter/satellite_images/s1001.png: 224x224 abandoned 0.97, owned 0.03, 4.8ms\n",
      "Speed: 3.2ms preprocess, 4.8ms inference, 0.0ms postprocess per image at shape (1, 3, 224, 224)\n",
      "abandoned\n",
      "\n",
      "image 1/1 /home/jupyter/streetview_images/v10002.png: 224x224 abandoned 1.00, owned 0.00, 3.7ms\n",
      "Speed: 2.0ms preprocess, 3.7ms inference, 0.0ms postprocess per image at shape (1, 3, 224, 224)\n",
      "\n",
      "image 1/1 /home/jupyter/satellite_images/s1002.png: 224x224 abandoned 1.00, owned 0.00, 3.7ms\n",
      "Speed: 2.0ms preprocess, 3.7ms inference, 0.0ms postprocess per image at shape (1, 3, 224, 224)\n",
      "abandoned\n",
      "\n",
      "image 1/1 /home/jupyter/streetview_images/v10003.png: 224x224 owned 1.00, abandoned 0.00, 3.7ms\n",
      "Speed: 3.2ms preprocess, 3.7ms inference, 0.0ms postprocess per image at shape (1, 3, 224, 224)\n",
      "\n",
      "image 1/1 /home/jupyter/satellite_images/s1003.png: 224x224 owned 0.93, abandoned 0.07, 3.7ms\n",
      "Speed: 2.0ms preprocess, 3.7ms inference, 0.0ms postprocess per image at shape (1, 3, 224, 224)\n",
      "owned\n",
      "\n",
      "image 1/1 /home/jupyter/streetview_images/v10004.png: 224x224 abandoned 1.00, owned 0.00, 3.7ms\n",
      "Speed: 2.8ms preprocess, 3.7ms inference, 0.0ms postprocess per image at shape (1, 3, 224, 224)\n",
      "\n",
      "image 1/1 /home/jupyter/satellite_images/s1004.png: 224x224 abandoned 1.00, owned 0.00, 3.7ms\n",
      "Speed: 1.7ms preprocess, 3.7ms inference, 0.0ms postprocess per image at shape (1, 3, 224, 224)\n",
      "abandoned\n",
      "\n",
      "image 1/1 /home/jupyter/streetview_images/v10005.png: 224x224 owned 1.00, abandoned 0.00, 3.7ms\n",
      "Speed: 2.8ms preprocess, 3.7ms inference, 0.0ms postprocess per image at shape (1, 3, 224, 224)\n",
      "\n",
      "image 1/1 /home/jupyter/satellite_images/s1005.png: 224x224 owned 1.00, abandoned 0.00, 3.7ms\n",
      "Speed: 1.9ms preprocess, 3.7ms inference, 0.0ms postprocess per image at shape (1, 3, 224, 224)\n",
      "owned\n",
      "\n",
      "image 1/1 /home/jupyter/streetview_images/v10006.png: 224x224 abandoned 1.00, owned 0.00, 3.7ms\n",
      "Speed: 2.6ms preprocess, 3.7ms inference, 0.0ms postprocess per image at shape (1, 3, 224, 224)\n",
      "\n",
      "image 1/1 /home/jupyter/satellite_images/s1006.png: 224x224 abandoned 0.99, owned 0.01, 3.7ms\n",
      "Speed: 1.8ms preprocess, 3.7ms inference, 0.0ms postprocess per image at shape (1, 3, 224, 224)\n",
      "abandoned\n",
      "\n",
      "image 1/1 /home/jupyter/streetview_images/v10007.png: 224x224 abandoned 1.00, owned 0.00, 3.7ms\n",
      "Speed: 2.9ms preprocess, 3.7ms inference, 0.0ms postprocess per image at shape (1, 3, 224, 224)\n",
      "\n",
      "image 1/1 /home/jupyter/satellite_images/s1007.png: 224x224 abandoned 1.00, owned 0.00, 3.7ms\n",
      "Speed: 1.9ms preprocess, 3.7ms inference, 0.0ms postprocess per image at shape (1, 3, 224, 224)\n",
      "abandoned\n",
      "\n",
      "image 1/1 /home/jupyter/streetview_images/v10008.png: 224x224 owned 1.00, abandoned 0.00, 3.7ms\n",
      "Speed: 2.7ms preprocess, 3.7ms inference, 0.0ms postprocess per image at shape (1, 3, 224, 224)\n",
      "\n",
      "image 1/1 /home/jupyter/satellite_images/s1008.png: 224x224 owned 1.00, abandoned 0.00, 3.7ms\n",
      "Speed: 1.8ms preprocess, 3.7ms inference, 0.0ms postprocess per image at shape (1, 3, 224, 224)\n",
      "owned\n",
      "\n",
      "image 1/1 /home/jupyter/streetview_images/v10009.png: 224x224 abandoned 1.00, owned 0.00, 3.7ms\n",
      "Speed: 3.0ms preprocess, 3.7ms inference, 0.0ms postprocess per image at shape (1, 3, 224, 224)\n",
      "\n",
      "image 1/1 /home/jupyter/satellite_images/s1009.png: 224x224 abandoned 0.92, owned 0.08, 3.7ms\n",
      "Speed: 1.7ms preprocess, 3.7ms inference, 0.0ms postprocess per image at shape (1, 3, 224, 224)\n",
      "abandoned\n",
      "\n",
      "image 1/1 /home/jupyter/streetview_images/v10010.png: 224x224 owned 1.00, abandoned 0.00, 3.7ms\n",
      "Speed: 3.1ms preprocess, 3.7ms inference, 0.0ms postprocess per image at shape (1, 3, 224, 224)\n",
      "\n",
      "image 1/1 /home/jupyter/satellite_images/s1010.png: 224x224 owned 1.00, abandoned 0.00, 3.7ms\n",
      "Speed: 1.9ms preprocess, 3.7ms inference, 0.0ms postprocess per image at shape (1, 3, 224, 224)\n",
      "owned\n",
      "\n",
      "image 1/1 /home/jupyter/streetview_images/v10011.png: 224x224 abandoned 1.00, owned 0.00, 3.7ms\n",
      "Speed: 3.1ms preprocess, 3.7ms inference, 0.0ms postprocess per image at shape (1, 3, 224, 224)\n",
      "\n",
      "image 1/1 /home/jupyter/satellite_images/s1011.png: 224x224 abandoned 1.00, owned 0.00, 3.7ms\n",
      "Speed: 1.9ms preprocess, 3.7ms inference, 0.0ms postprocess per image at shape (1, 3, 224, 224)\n",
      "abandoned\n",
      "\n",
      "image 1/1 /home/jupyter/streetview_images/v10012.png: 224x224 owned 1.00, abandoned 0.00, 3.7ms\n",
      "Speed: 2.7ms preprocess, 3.7ms inference, 0.0ms postprocess per image at shape (1, 3, 224, 224)\n",
      "\n",
      "image 1/1 /home/jupyter/satellite_images/s1012.png: 224x224 owned 1.00, abandoned 0.00, 3.7ms\n",
      "Speed: 1.9ms preprocess, 3.7ms inference, 0.0ms postprocess per image at shape (1, 3, 224, 224)\n",
      "owned\n",
      "\n",
      "image 1/1 /home/jupyter/streetview_images/v10013.png: 224x224 abandoned 1.00, owned 0.00, 3.7ms\n",
      "Speed: 2.9ms preprocess, 3.7ms inference, 0.0ms postprocess per image at shape (1, 3, 224, 224)\n",
      "\n",
      "image 1/1 /home/jupyter/satellite_images/s1013.png: 224x224 abandoned 1.00, owned 0.00, 3.7ms\n",
      "Speed: 1.6ms preprocess, 3.7ms inference, 0.0ms postprocess per image at shape (1, 3, 224, 224)\n",
      "abandoned\n",
      "\n",
      "image 1/1 /home/jupyter/streetview_images/v10014.png: 224x224 owned 1.00, abandoned 0.00, 3.8ms\n",
      "Speed: 3.7ms preprocess, 3.8ms inference, 0.0ms postprocess per image at shape (1, 3, 224, 224)\n",
      "\n",
      "image 1/1 /home/jupyter/satellite_images/s1014.png: 224x224 owned 0.99, abandoned 0.01, 3.7ms\n",
      "Speed: 1.7ms preprocess, 3.7ms inference, 0.0ms postprocess per image at shape (1, 3, 224, 224)\n",
      "owned\n",
      "\n",
      "image 1/1 /home/jupyter/streetview_images/v10015.png: 224x224 abandoned 1.00, owned 0.00, 3.7ms\n",
      "Speed: 3.0ms preprocess, 3.7ms inference, 0.0ms postprocess per image at shape (1, 3, 224, 224)\n",
      "\n",
      "image 1/1 /home/jupyter/satellite_images/s1015.png: 224x224 abandoned 1.00, owned 0.00, 3.7ms\n",
      "Speed: 1.8ms preprocess, 3.7ms inference, 0.0ms postprocess per image at shape (1, 3, 224, 224)\n",
      "abandoned\n",
      "\n",
      "image 1/1 /home/jupyter/streetview_images/v10016.png: 224x224 owned 1.00, abandoned 0.00, 3.7ms\n",
      "Speed: 3.3ms preprocess, 3.7ms inference, 0.0ms postprocess per image at shape (1, 3, 224, 224)\n",
      "\n",
      "image 1/1 /home/jupyter/satellite_images/s1016.png: 224x224 owned 1.00, abandoned 0.00, 3.7ms\n",
      "Speed: 1.8ms preprocess, 3.7ms inference, 0.0ms postprocess per image at shape (1, 3, 224, 224)\n",
      "owned\n",
      "\n",
      "image 1/1 /home/jupyter/streetview_images/v10017.png: 224x224 abandoned 1.00, owned 0.00, 3.8ms\n",
      "Speed: 4.6ms preprocess, 3.8ms inference, 0.0ms postprocess per image at shape (1, 3, 224, 224)\n",
      "\n",
      "image 1/1 /home/jupyter/satellite_images/s1017.png: 224x224 abandoned 1.00, owned 0.00, 3.7ms\n",
      "Speed: 1.7ms preprocess, 3.7ms inference, 0.0ms postprocess per image at shape (1, 3, 224, 224)\n",
      "abandoned\n",
      "\n",
      "image 1/1 /home/jupyter/streetview_images/v10018.png: 224x224 owned 1.00, abandoned 0.00, 3.7ms\n",
      "Speed: 2.4ms preprocess, 3.7ms inference, 0.0ms postprocess per image at shape (1, 3, 224, 224)\n",
      "\n",
      "image 1/1 /home/jupyter/satellite_images/s1018.png: 224x224 owned 0.54, abandoned 0.46, 3.7ms\n",
      "Speed: 1.9ms preprocess, 3.7ms inference, 0.0ms postprocess per image at shape (1, 3, 224, 224)\n",
      "owned\n",
      "\n",
      "image 1/1 /home/jupyter/streetview_images/v10019.png: 224x224 abandoned 1.00, owned 0.00, 3.7ms\n",
      "Speed: 3.2ms preprocess, 3.7ms inference, 0.0ms postprocess per image at shape (1, 3, 224, 224)\n",
      "\n",
      "image 1/1 /home/jupyter/satellite_images/s1019.png: 224x224 abandoned 1.00, owned 0.00, 3.7ms\n",
      "Speed: 0.8ms preprocess, 3.7ms inference, 0.0ms postprocess per image at shape (1, 3, 224, 224)\n",
      "abandoned\n",
      "\n",
      "image 1/1 /home/jupyter/streetview_images/v10020.png: 224x224 owned 1.00, abandoned 0.00, 3.7ms\n",
      "Speed: 3.2ms preprocess, 3.7ms inference, 0.0ms postprocess per image at shape (1, 3, 224, 224)\n",
      "\n",
      "image 1/1 /home/jupyter/satellite_images/s1020.png: 224x224 owned 1.00, abandoned 0.00, 3.7ms\n",
      "Speed: 1.9ms preprocess, 3.7ms inference, 0.0ms postprocess per image at shape (1, 3, 224, 224)\n",
      "owned\n",
      "\n",
      "image 1/1 /home/jupyter/streetview_images/v10021.png: 224x224 abandoned 1.00, owned 0.00, 3.7ms\n",
      "Speed: 3.1ms preprocess, 3.7ms inference, 0.0ms postprocess per image at shape (1, 3, 224, 224)\n",
      "\n",
      "image 1/1 /home/jupyter/satellite_images/s1021.png: 224x224 abandoned 0.99, owned 0.01, 3.7ms\n",
      "Speed: 1.7ms preprocess, 3.7ms inference, 0.0ms postprocess per image at shape (1, 3, 224, 224)\n",
      "abandoned\n",
      "\n",
      "image 1/1 /home/jupyter/streetview_images/v10022.png: 224x224 owned 1.00, abandoned 0.00, 3.7ms\n",
      "Speed: 2.7ms preprocess, 3.7ms inference, 0.0ms postprocess per image at shape (1, 3, 224, 224)\n",
      "\n",
      "image 1/1 /home/jupyter/satellite_images/s1022.png: 224x224 owned 1.00, abandoned 0.00, 3.7ms\n",
      "Speed: 1.8ms preprocess, 3.7ms inference, 0.0ms postprocess per image at shape (1, 3, 224, 224)\n",
      "owned\n"
     ]
    }
   ],
   "source": [
    "# analysis from multiple models at the same time\n",
    "\n",
    "for index,row in combinedDataFrame.iterrows():\n",
    "    streetviewImageName = row['StreetviewImageName']\n",
    "    satelliteImageName = row['SatelliteImageName']\n",
    "\n",
    "    streetviewImagePath = f\"streetview_images/{streetviewImageName}.png\"\n",
    "    satelliteImagePath = f\"satellite_images/{satelliteImageName}.png\"\n",
    "\n",
    "    streetResult = abandonnessModel.predict(streetviewImagePath)[0]\n",
    "    satResult = abandonnessSatelliteModel.predict(satelliteImagePath)[0]\n",
    "\n",
    "    if(streetResult.probs.top1 == satResult.probs.top1):\n",
    "        combinedDecision = streetResult.names[streetResult.probs.top1]\n",
    "        print(combinedDecision)\n",
    "    else:\n",
    "        print(\"!!!!!!!!!!!!!!!!!!!!!!\")\n",
    "    \n",
    "    if(index > 20):\n",
    "        break\n",
    "    \n",
    "\n",
    "    "
   ]
  },
  {
   "cell_type": "markdown",
   "metadata": {
    "jp-MarkdownHeadingCollapsed": true
   },
   "source": [
    "# Satellite vs Street view classification model"
   ]
  },
  {
   "cell_type": "code",
   "execution_count": 519,
   "metadata": {},
   "outputs": [
    {
     "name": "stdout",
     "output_type": "stream",
     "text": [
      "New https://pypi.org/project/ultralytics/8.3.78 available 😃 Update with 'pip install -U ultralytics'\n",
      "Ultralytics 8.3.73 🚀 Python-3.10.12 torch-2.6.0+cu124 CUDA:0 (NVIDIA GeForce RTX 4090, 24210MiB)\n",
      "\u001b[34m\u001b[1mengine/trainer: \u001b[0mtask=classify, mode=train, model=yolov8m-cls.pt, data=classifications/satellite_vs_street, epochs=5, time=None, patience=100, batch=16, imgsz=224, save=True, save_period=-1, cache=False, device=None, workers=8, project=None, name=train144, exist_ok=False, pretrained=True, optimizer=auto, verbose=True, seed=0, deterministic=True, single_cls=False, rect=False, cos_lr=False, close_mosaic=10, resume=False, amp=True, fraction=1.0, profile=False, freeze=None, multi_scale=False, overlap_mask=True, mask_ratio=4, dropout=0.0, val=True, split=val, save_json=False, save_hybrid=False, conf=None, iou=0.7, max_det=300, half=False, dnn=False, plots=True, source=None, vid_stride=1, stream_buffer=False, visualize=False, augment=False, agnostic_nms=False, classes=None, retina_masks=False, embed=None, show=False, save_frames=False, save_txt=False, save_conf=False, save_crop=False, show_labels=True, show_conf=True, show_boxes=True, line_width=None, format=torchscript, keras=False, optimize=False, int8=False, dynamic=False, simplify=True, opset=None, workspace=None, nms=False, lr0=0.01, lrf=0.01, momentum=0.937, weight_decay=0.0005, warmup_epochs=3.0, warmup_momentum=0.8, warmup_bias_lr=0.1, box=7.5, cls=0.5, dfl=1.5, pose=12.0, kobj=1.0, nbs=64, hsv_h=0.015, hsv_s=0.7, hsv_v=0.4, degrees=0.0, translate=0.1, scale=0.5, shear=0.0, perspective=0.0, flipud=0.0, fliplr=0.5, bgr=0.0, mosaic=1.0, mixup=0.0, copy_paste=0.0, copy_paste_mode=flip, auto_augment=randaugment, erasing=0.4, crop_fraction=1.0, cfg=None, tracker=botsort.yaml, save_dir=runs/classify/train144\n",
      "\u001b[34m\u001b[1mtrain:\u001b[0m /home/jupyter/classifications/satellite_vs_street/train... found 868 images in 4 classes: ERROR ❌️ requires 3 classes, not 4\n",
      "\u001b[34m\u001b[1mval:\u001b[0m /home/jupyter/classifications/satellite_vs_street/val... found 137 images in 4 classes: ERROR ❌️ requires 3 classes, not 4\n",
      "\u001b[34m\u001b[1mtest:\u001b[0m None...\n",
      "Overriding model.yaml nc=1000 with nc=3\n",
      "\n",
      "                   from  n    params  module                                       arguments                     \n",
      "  0                  -1  1      1392  ultralytics.nn.modules.conv.Conv             [3, 48, 3, 2]                 \n",
      "  1                  -1  1     41664  ultralytics.nn.modules.conv.Conv             [48, 96, 3, 2]                \n",
      "  2                  -1  2    111360  ultralytics.nn.modules.block.C2f             [96, 96, 2, True]             \n",
      "  3                  -1  1    166272  ultralytics.nn.modules.conv.Conv             [96, 192, 3, 2]               \n",
      "  4                  -1  4    813312  ultralytics.nn.modules.block.C2f             [192, 192, 4, True]           \n",
      "  5                  -1  1    664320  ultralytics.nn.modules.conv.Conv             [192, 384, 3, 2]              \n",
      "  6                  -1  4   3248640  ultralytics.nn.modules.block.C2f             [384, 384, 4, True]           \n",
      "  7                  -1  1   2655744  ultralytics.nn.modules.conv.Conv             [384, 768, 3, 2]              \n",
      "  8                  -1  2   7084032  ultralytics.nn.modules.block.C2f             [768, 768, 2, True]           \n",
      "  9                  -1  1    989443  ultralytics.nn.modules.head.Classify         [768, 3]                      \n",
      "YOLOv8m-cls summary: 141 layers, 15,776,179 parameters, 15,776,179 gradients, 41.9 GFLOPs\n",
      "Transferred 228/230 items from pretrained weights\n",
      "\u001b[34m\u001b[1mAMP: \u001b[0mrunning Automatic Mixed Precision (AMP) checks...\n",
      "\u001b[34m\u001b[1mAMP: \u001b[0mchecks passed ✅\n"
     ]
    },
    {
     "name": "stderr",
     "output_type": "stream",
     "text": [
      "\u001b[34m\u001b[1mtrain: \u001b[0mScanning /home/jupyter/classifications/satellite_vs_street/train... 868 images, 0 corrupt: 100%|██████████| 868/8\u001b[0m\n",
      "\u001b[34m\u001b[1mval: \u001b[0mScanning /home/jupyter/classifications/satellite_vs_street/val... 137 images, 0 corrupt: 100%|██████████| 137/137 [\u001b[0m"
     ]
    },
    {
     "name": "stdout",
     "output_type": "stream",
     "text": [
      "\u001b[34m\u001b[1mval: \u001b[0mNew cache created: /home/jupyter/classifications/satellite_vs_street/val.cache\n"
     ]
    },
    {
     "name": "stderr",
     "output_type": "stream",
     "text": [
      "\n"
     ]
    },
    {
     "name": "stdout",
     "output_type": "stream",
     "text": [
      "\u001b[34m\u001b[1moptimizer:\u001b[0m 'optimizer=auto' found, ignoring 'lr0=0.01' and 'momentum=0.937' and determining best 'optimizer', 'lr0' and 'momentum' automatically... \n",
      "\u001b[34m\u001b[1moptimizer:\u001b[0m AdamW(lr=0.001429, momentum=0.9) with parameter groups 38 weight(decay=0.0), 39 weight(decay=0.0005), 39 bias(decay=0.0)\n",
      "Image sizes 224 train, 224 val\n",
      "Using 8 dataloader workers\n",
      "Logging results to \u001b[1mruns/classify/train144\u001b[0m\n",
      "Starting training for 5 epochs...\n",
      "\n",
      "      Epoch    GPU_mem       loss  Instances       Size\n"
     ]
    },
    {
     "name": "stderr",
     "output_type": "stream",
     "text": [
      "        1/5      2.32G     0.3996          4        224: 100%|██████████| 55/55 [00:02<00:00, 26.02it/s]\n",
      "               classes   top1_acc   top5_acc: 100%|██████████| 5/5 [00:00<00:00, 95.84it/s]"
     ]
    },
    {
     "name": "stdout",
     "output_type": "stream",
     "text": [
      "                   all          0          1\n"
     ]
    },
    {
     "name": "stderr",
     "output_type": "stream",
     "text": [
      "\n"
     ]
    },
    {
     "name": "stdout",
     "output_type": "stream",
     "text": [
      "\n",
      "      Epoch    GPU_mem       loss  Instances       Size\n"
     ]
    },
    {
     "name": "stderr",
     "output_type": "stream",
     "text": [
      "        2/5      1.96G    0.02976          4        224: 100%|██████████| 55/55 [00:01<00:00, 29.61it/s]\n",
      "               classes   top1_acc   top5_acc: 100%|██████████| 5/5 [00:00<00:00, 98.39it/s]"
     ]
    },
    {
     "name": "stdout",
     "output_type": "stream",
     "text": [
      "                   all          0          1\n"
     ]
    },
    {
     "name": "stderr",
     "output_type": "stream",
     "text": [
      "\n"
     ]
    },
    {
     "name": "stdout",
     "output_type": "stream",
     "text": [
      "\n",
      "      Epoch    GPU_mem       loss  Instances       Size\n"
     ]
    },
    {
     "name": "stderr",
     "output_type": "stream",
     "text": [
      "        3/5      1.89G    0.01117          4        224: 100%|██████████| 55/55 [00:01<00:00, 31.35it/s]\n",
      "               classes   top1_acc   top5_acc: 100%|██████████| 5/5 [00:00<00:00, 100.43it/s]"
     ]
    },
    {
     "name": "stdout",
     "output_type": "stream",
     "text": [
      "                   all          0          1\n"
     ]
    },
    {
     "name": "stderr",
     "output_type": "stream",
     "text": [
      "\n"
     ]
    },
    {
     "name": "stdout",
     "output_type": "stream",
     "text": [
      "\n",
      "      Epoch    GPU_mem       loss  Instances       Size\n"
     ]
    },
    {
     "name": "stderr",
     "output_type": "stream",
     "text": [
      "        4/5      1.87G   0.007708          4        224: 100%|██████████| 55/55 [00:01<00:00, 33.05it/s]\n",
      "               classes   top1_acc   top5_acc: 100%|██████████| 5/5 [00:00<00:00, 99.26it/s]"
     ]
    },
    {
     "name": "stdout",
     "output_type": "stream",
     "text": [
      "                   all          0          1\n"
     ]
    },
    {
     "name": "stderr",
     "output_type": "stream",
     "text": [
      "\n"
     ]
    },
    {
     "name": "stdout",
     "output_type": "stream",
     "text": [
      "\n",
      "      Epoch    GPU_mem       loss  Instances       Size\n"
     ]
    },
    {
     "name": "stderr",
     "output_type": "stream",
     "text": [
      "        5/5      1.87G   0.003283          4        224: 100%|██████████| 55/55 [00:01<00:00, 33.27it/s]\n",
      "               classes   top1_acc   top5_acc: 100%|██████████| 5/5 [00:00<00:00, 95.88it/s]"
     ]
    },
    {
     "name": "stdout",
     "output_type": "stream",
     "text": [
      "                   all          0          1\n"
     ]
    },
    {
     "name": "stderr",
     "output_type": "stream",
     "text": [
      "\n"
     ]
    },
    {
     "name": "stdout",
     "output_type": "stream",
     "text": [
      "\n",
      "5 epochs completed in 0.004 hours.\n",
      "Optimizer stripped from runs/classify/train144/weights/last.pt, 31.7MB\n",
      "Optimizer stripped from runs/classify/train144/weights/best.pt, 31.7MB\n",
      "\n",
      "Validating runs/classify/train144/weights/best.pt...\n",
      "Ultralytics 8.3.73 🚀 Python-3.10.12 torch-2.6.0+cu124 CUDA:0 (NVIDIA GeForce RTX 4090, 24210MiB)\n",
      "YOLOv8m-cls summary (fused): 103 layers, 15,766,499 parameters, 0 gradients, 41.6 GFLOPs\n",
      "\u001b[34m\u001b[1mtrain:\u001b[0m /home/jupyter/classifications/satellite_vs_street/train... found 868 images in 4 classes: ERROR ❌️ requires 3 classes, not 4\n",
      "\u001b[34m\u001b[1mval:\u001b[0m /home/jupyter/classifications/satellite_vs_street/val... found 137 images in 4 classes: ERROR ❌️ requires 3 classes, not 4\n",
      "\u001b[34m\u001b[1mtest:\u001b[0m None...\n"
     ]
    },
    {
     "name": "stderr",
     "output_type": "stream",
     "text": [
      "               classes   top1_acc   top5_acc: 100%|██████████| 5/5 [00:00<00:00, 42.73it/s]\n"
     ]
    },
    {
     "name": "stdout",
     "output_type": "stream",
     "text": [
      "                   all          0          1\n",
      "Speed: 0.0ms preprocess, 0.6ms inference, 0.0ms loss, 0.0ms postprocess per image\n",
      "Results saved to \u001b[1mruns/classify/train144\u001b[0m\n",
      "ultralytics.utils.metrics.ClassifyMetrics object with attributes:\n",
      "\n",
      "confusion_matrix: <ultralytics.utils.metrics.ConfusionMatrix object at 0x7d7390e212d0>\n",
      "curves: []\n",
      "curves_results: []\n",
      "fitness: 0.5\n",
      "keys: ['metrics/accuracy_top1', 'metrics/accuracy_top5']\n",
      "results_dict: {'metrics/accuracy_top1': 0.0, 'metrics/accuracy_top5': 1.0, 'fitness': 0.5}\n",
      "save_dir: PosixPath('runs/classify/train144')\n",
      "speed: {'preprocess': 0.04110197081182995, 'inference': 0.5891897382527372, 'loss': 0.00043507039982036954, 'postprocess': 0.003497966014555771}\n",
      "task: 'classify'\n",
      "top1: 0.0\n",
      "top5: 1.0\n"
     ]
    }
   ],
   "source": [
    "\n",
    "satvsstrModel = YOLO(\"yolov8m-cls.pt\")\n",
    "trainingResults = satvsstrModel.train(data=\"classifications/satellite_vs_street\", epochs = 5)\n",
    "print(trainingResults)"
   ]
  },
  {
   "cell_type": "code",
   "execution_count": 520,
   "metadata": {},
   "outputs": [
    {
     "name": "stdout",
     "output_type": "stream",
     "text": [
      "\n",
      "0: 224x224 streetview 1.00, satellite 0.00, .ipynb_checkpoints 0.00, 0.3ms\n",
      "1: 224x224 streetview 1.00, .ipynb_checkpoints 0.00, satellite 0.00, 0.3ms\n",
      "2: 224x224 streetview 1.00, satellite 0.00, .ipynb_checkpoints 0.00, 0.3ms\n",
      "3: 224x224 streetview 1.00, .ipynb_checkpoints 0.00, satellite 0.00, 0.3ms\n",
      "4: 224x224 streetview 1.00, .ipynb_checkpoints 0.00, satellite 0.00, 0.3ms\n",
      "5: 224x224 streetview 1.00, satellite 0.00, .ipynb_checkpoints 0.00, 0.3ms\n",
      "6: 224x224 streetview 1.00, .ipynb_checkpoints 0.00, satellite 0.00, 0.3ms\n",
      "7: 224x224 streetview 1.00, satellite 0.00, .ipynb_checkpoints 0.00, 0.3ms\n",
      "8: 224x224 streetview 1.00, .ipynb_checkpoints 0.00, satellite 0.00, 0.3ms\n",
      "9: 224x224 streetview 1.00, .ipynb_checkpoints 0.00, satellite 0.00, 0.3ms\n",
      "10: 224x224 streetview 1.00, .ipynb_checkpoints 0.00, satellite 0.00, 0.3ms\n",
      "11: 224x224 streetview 1.00, .ipynb_checkpoints 0.00, satellite 0.00, 0.3ms\n",
      "12: 224x224 streetview 1.00, .ipynb_checkpoints 0.00, satellite 0.00, 0.3ms\n",
      "13: 224x224 streetview 1.00, .ipynb_checkpoints 0.00, satellite 0.00, 0.3ms\n",
      "14: 224x224 streetview 1.00, .ipynb_checkpoints 0.00, satellite 0.00, 0.3ms\n",
      "15: 224x224 streetview 1.00, .ipynb_checkpoints 0.00, satellite 0.00, 0.3ms\n",
      "16: 224x224 streetview 1.00, .ipynb_checkpoints 0.00, satellite 0.00, 0.3ms\n",
      "17: 224x224 streetview 1.00, .ipynb_checkpoints 0.00, satellite 0.00, 0.3ms\n",
      "18: 224x224 streetview 1.00, .ipynb_checkpoints 0.00, satellite 0.00, 0.3ms\n",
      "19: 224x224 streetview 1.00, .ipynb_checkpoints 0.00, satellite 0.00, 0.3ms\n",
      "20: 224x224 streetview 1.00, .ipynb_checkpoints 0.00, satellite 0.00, 0.3ms\n",
      "21: 224x224 streetview 1.00, .ipynb_checkpoints 0.00, satellite 0.00, 0.3ms\n",
      "22: 224x224 streetview 0.99, .ipynb_checkpoints 0.01, satellite 0.01, 0.3ms\n",
      "23: 224x224 streetview 1.00, .ipynb_checkpoints 0.00, satellite 0.00, 0.3ms\n",
      "24: 224x224 streetview 1.00, .ipynb_checkpoints 0.00, satellite 0.00, 0.3ms\n",
      "25: 224x224 streetview 1.00, .ipynb_checkpoints 0.00, satellite 0.00, 0.3ms\n",
      "26: 224x224 streetview 1.00, .ipynb_checkpoints 0.00, satellite 0.00, 0.3ms\n",
      "27: 224x224 streetview 1.00, .ipynb_checkpoints 0.00, satellite 0.00, 0.3ms\n",
      "28: 224x224 streetview 1.00, .ipynb_checkpoints 0.00, satellite 0.00, 0.3ms\n",
      "29: 224x224 streetview 1.00, .ipynb_checkpoints 0.00, satellite 0.00, 0.3ms\n",
      "30: 224x224 streetview 1.00, .ipynb_checkpoints 0.00, satellite 0.00, 0.3ms\n",
      "31: 224x224 streetview 1.00, .ipynb_checkpoints 0.00, satellite 0.00, 0.3ms\n",
      "32: 224x224 streetview 1.00, .ipynb_checkpoints 0.00, satellite 0.00, 0.3ms\n",
      "33: 224x224 streetview 1.00, .ipynb_checkpoints 0.00, satellite 0.00, 0.3ms\n",
      "34: 224x224 streetview 1.00, .ipynb_checkpoints 0.00, satellite 0.00, 0.3ms\n",
      "35: 224x224 streetview 1.00, .ipynb_checkpoints 0.00, satellite 0.00, 0.3ms\n",
      "36: 224x224 streetview 1.00, .ipynb_checkpoints 0.00, satellite 0.00, 0.3ms\n",
      "37: 224x224 streetview 1.00, .ipynb_checkpoints 0.00, satellite 0.00, 0.3ms\n",
      "38: 224x224 streetview 1.00, .ipynb_checkpoints 0.00, satellite 0.00, 0.3ms\n",
      "39: 224x224 streetview 1.00, .ipynb_checkpoints 0.00, satellite 0.00, 0.3ms\n",
      "40: 224x224 streetview 1.00, satellite 0.00, .ipynb_checkpoints 0.00, 0.3ms\n",
      "41: 224x224 streetview 1.00, .ipynb_checkpoints 0.00, satellite 0.00, 0.3ms\n",
      "42: 224x224 streetview 1.00, .ipynb_checkpoints 0.00, satellite 0.00, 0.3ms\n",
      "43: 224x224 streetview 1.00, .ipynb_checkpoints 0.00, satellite 0.00, 0.3ms\n",
      "44: 224x224 streetview 1.00, .ipynb_checkpoints 0.00, satellite 0.00, 0.3ms\n",
      "45: 224x224 streetview 1.00, .ipynb_checkpoints 0.00, satellite 0.00, 0.3ms\n",
      "46: 224x224 streetview 1.00, .ipynb_checkpoints 0.00, satellite 0.00, 0.3ms\n",
      "47: 224x224 streetview 1.00, .ipynb_checkpoints 0.00, satellite 0.00, 0.3ms\n",
      "48: 224x224 streetview 1.00, .ipynb_checkpoints 0.00, satellite 0.00, 0.3ms\n",
      "49: 224x224 streetview 1.00, .ipynb_checkpoints 0.00, satellite 0.00, 0.3ms\n",
      "50: 224x224 streetview 1.00, .ipynb_checkpoints 0.00, satellite 0.00, 0.3ms\n",
      "51: 224x224 streetview 1.00, .ipynb_checkpoints 0.00, satellite 0.00, 0.3ms\n",
      "52: 224x224 streetview 1.00, .ipynb_checkpoints 0.00, satellite 0.00, 0.3ms\n",
      "53: 224x224 streetview 1.00, .ipynb_checkpoints 0.00, satellite 0.00, 0.3ms\n",
      "54: 224x224 streetview 1.00, satellite 0.00, .ipynb_checkpoints 0.00, 0.3ms\n",
      "55: 224x224 streetview 1.00, .ipynb_checkpoints 0.00, satellite 0.00, 0.3ms\n",
      "56: 224x224 streetview 1.00, .ipynb_checkpoints 0.00, satellite 0.00, 0.3ms\n",
      "57: 224x224 streetview 1.00, .ipynb_checkpoints 0.00, satellite 0.00, 0.3ms\n",
      "58: 224x224 streetview 1.00, satellite 0.00, .ipynb_checkpoints 0.00, 0.3ms\n",
      "59: 224x224 streetview 1.00, satellite 0.00, .ipynb_checkpoints 0.00, 0.3ms\n",
      "60: 224x224 streetview 1.00, .ipynb_checkpoints 0.00, satellite 0.00, 0.3ms\n",
      "61: 224x224 streetview 1.00, satellite 0.00, .ipynb_checkpoints 0.00, 0.3ms\n",
      "62: 224x224 streetview 1.00, .ipynb_checkpoints 0.00, satellite 0.00, 0.3ms\n",
      "63: 224x224 streetview 1.00, .ipynb_checkpoints 0.00, satellite 0.00, 0.3ms\n",
      "64: 224x224 streetview 1.00, .ipynb_checkpoints 0.00, satellite 0.00, 0.3ms\n",
      "65: 224x224 streetview 1.00, .ipynb_checkpoints 0.00, satellite 0.00, 0.3ms\n",
      "66: 224x224 streetview 1.00, .ipynb_checkpoints 0.00, satellite 0.00, 0.3ms\n",
      "67: 224x224 streetview 1.00, .ipynb_checkpoints 0.00, satellite 0.00, 0.3ms\n",
      "68: 224x224 streetview 0.99, satellite 0.01, .ipynb_checkpoints 0.00, 0.3ms\n",
      "69: 224x224 streetview 1.00, .ipynb_checkpoints 0.00, satellite 0.00, 0.3ms\n",
      "70: 224x224 streetview 1.00, .ipynb_checkpoints 0.00, satellite 0.00, 0.3ms\n",
      "71: 224x224 streetview 1.00, satellite 0.00, .ipynb_checkpoints 0.00, 0.3ms\n",
      "72: 224x224 streetview 1.00, .ipynb_checkpoints 0.00, satellite 0.00, 0.3ms\n",
      "73: 224x224 streetview 1.00, .ipynb_checkpoints 0.00, satellite 0.00, 0.3ms\n",
      "74: 224x224 streetview 1.00, .ipynb_checkpoints 0.00, satellite 0.00, 0.3ms\n",
      "75: 224x224 streetview 1.00, .ipynb_checkpoints 0.00, satellite 0.00, 0.3ms\n",
      "76: 224x224 streetview 1.00, .ipynb_checkpoints 0.00, satellite 0.00, 0.3ms\n",
      "77: 224x224 streetview 1.00, .ipynb_checkpoints 0.00, satellite 0.00, 0.3ms\n",
      "78: 224x224 streetview 1.00, .ipynb_checkpoints 0.00, satellite 0.00, 0.3ms\n",
      "79: 224x224 streetview 1.00, .ipynb_checkpoints 0.00, satellite 0.00, 0.3ms\n",
      "80: 224x224 streetview 1.00, .ipynb_checkpoints 0.00, satellite 0.00, 0.3ms\n",
      "81: 224x224 streetview 1.00, .ipynb_checkpoints 0.00, satellite 0.00, 0.3ms\n",
      "82: 224x224 streetview 1.00, .ipynb_checkpoints 0.00, satellite 0.00, 0.3ms\n",
      "83: 224x224 streetview 1.00, .ipynb_checkpoints 0.00, satellite 0.00, 0.3ms\n",
      "84: 224x224 streetview 1.00, .ipynb_checkpoints 0.00, satellite 0.00, 0.3ms\n",
      "85: 224x224 streetview 1.00, .ipynb_checkpoints 0.00, satellite 0.00, 0.3ms\n",
      "86: 224x224 streetview 1.00, .ipynb_checkpoints 0.00, satellite 0.00, 0.3ms\n",
      "87: 224x224 streetview 1.00, .ipynb_checkpoints 0.00, satellite 0.00, 0.3ms\n",
      "88: 224x224 streetview 1.00, .ipynb_checkpoints 0.00, satellite 0.00, 0.3ms\n",
      "89: 224x224 streetview 1.00, .ipynb_checkpoints 0.00, satellite 0.00, 0.3ms\n",
      "90: 224x224 streetview 1.00, .ipynb_checkpoints 0.00, satellite 0.00, 0.3ms\n",
      "91: 224x224 streetview 1.00, .ipynb_checkpoints 0.00, satellite 0.00, 0.3ms\n",
      "92: 224x224 streetview 1.00, .ipynb_checkpoints 0.00, satellite 0.00, 0.3ms\n",
      "93: 224x224 streetview 1.00, .ipynb_checkpoints 0.00, satellite 0.00, 0.3ms\n",
      "94: 224x224 streetview 1.00, .ipynb_checkpoints 0.00, satellite 0.00, 0.3ms\n",
      "95: 224x224 streetview 1.00, .ipynb_checkpoints 0.00, satellite 0.00, 0.3ms\n",
      "96: 224x224 streetview 1.00, .ipynb_checkpoints 0.00, satellite 0.00, 0.3ms\n",
      "97: 224x224 streetview 1.00, .ipynb_checkpoints 0.00, satellite 0.00, 0.3ms\n",
      "98: 224x224 streetview 1.00, .ipynb_checkpoints 0.00, satellite 0.00, 0.3ms\n",
      "99: 224x224 streetview 1.00, .ipynb_checkpoints 0.00, satellite 0.00, 0.3ms\n",
      "100: 224x224 streetview 1.00, .ipynb_checkpoints 0.00, satellite 0.00, 0.3ms\n",
      "101: 224x224 satellite 0.97, streetview 0.03, .ipynb_checkpoints 0.00, 0.3ms\n",
      "102: 224x224 satellite 1.00, streetview 0.00, .ipynb_checkpoints 0.00, 0.3ms\n",
      "103: 224x224 satellite 1.00, streetview 0.00, .ipynb_checkpoints 0.00, 0.3ms\n",
      "104: 224x224 satellite 1.00, streetview 0.00, .ipynb_checkpoints 0.00, 0.3ms\n",
      "105: 224x224 satellite 1.00, streetview 0.00, .ipynb_checkpoints 0.00, 0.3ms\n",
      "106: 224x224 satellite 1.00, streetview 0.00, .ipynb_checkpoints 0.00, 0.3ms\n",
      "107: 224x224 satellite 1.00, streetview 0.00, .ipynb_checkpoints 0.00, 0.3ms\n",
      "108: 224x224 satellite 1.00, .ipynb_checkpoints 0.00, streetview 0.00, 0.3ms\n",
      "109: 224x224 satellite 1.00, .ipynb_checkpoints 0.00, streetview 0.00, 0.3ms\n",
      "110: 224x224 satellite 1.00, streetview 0.00, .ipynb_checkpoints 0.00, 0.3ms\n",
      "111: 224x224 satellite 1.00, streetview 0.00, .ipynb_checkpoints 0.00, 0.3ms\n",
      "112: 224x224 satellite 1.00, streetview 0.00, .ipynb_checkpoints 0.00, 0.3ms\n",
      "113: 224x224 satellite 1.00, streetview 0.00, .ipynb_checkpoints 0.00, 0.3ms\n",
      "114: 224x224 satellite 1.00, .ipynb_checkpoints 0.00, streetview 0.00, 0.3ms\n",
      "115: 224x224 satellite 1.00, .ipynb_checkpoints 0.00, streetview 0.00, 0.3ms\n",
      "116: 224x224 satellite 1.00, .ipynb_checkpoints 0.00, streetview 0.00, 0.3ms\n",
      "117: 224x224 satellite 1.00, .ipynb_checkpoints 0.00, streetview 0.00, 0.3ms\n",
      "118: 224x224 satellite 1.00, streetview 0.00, .ipynb_checkpoints 0.00, 0.3ms\n",
      "119: 224x224 satellite 1.00, streetview 0.00, .ipynb_checkpoints 0.00, 0.3ms\n",
      "120: 224x224 satellite 1.00, streetview 0.00, .ipynb_checkpoints 0.00, 0.3ms\n",
      "121: 224x224 satellite 1.00, streetview 0.00, .ipynb_checkpoints 0.00, 0.3ms\n",
      "122: 224x224 satellite 1.00, streetview 0.00, .ipynb_checkpoints 0.00, 0.3ms\n",
      "123: 224x224 satellite 1.00, .ipynb_checkpoints 0.00, streetview 0.00, 0.3ms\n",
      "124: 224x224 satellite 1.00, streetview 0.00, .ipynb_checkpoints 0.00, 0.3ms\n",
      "125: 224x224 satellite 1.00, .ipynb_checkpoints 0.00, streetview 0.00, 0.3ms\n",
      "126: 224x224 satellite 1.00, streetview 0.00, .ipynb_checkpoints 0.00, 0.3ms\n",
      "127: 224x224 satellite 1.00, streetview 0.00, .ipynb_checkpoints 0.00, 0.3ms\n",
      "128: 224x224 satellite 1.00, streetview 0.00, .ipynb_checkpoints 0.00, 0.3ms\n",
      "129: 224x224 satellite 1.00, streetview 0.00, .ipynb_checkpoints 0.00, 0.3ms\n",
      "130: 224x224 satellite 1.00, .ipynb_checkpoints 0.00, streetview 0.00, 0.3ms\n",
      "131: 224x224 satellite 1.00, streetview 0.00, .ipynb_checkpoints 0.00, 0.3ms\n",
      "132: 224x224 satellite 1.00, streetview 0.00, .ipynb_checkpoints 0.00, 0.3ms\n",
      "133: 224x224 satellite 1.00, .ipynb_checkpoints 0.00, streetview 0.00, 0.3ms\n",
      "134: 224x224 satellite 1.00, streetview 0.00, .ipynb_checkpoints 0.00, 0.3ms\n",
      "135: 224x224 satellite 1.00, streetview 0.00, .ipynb_checkpoints 0.00, 0.3ms\n",
      "136: 224x224 satellite 1.00, .ipynb_checkpoints 0.00, streetview 0.00, 0.3ms\n",
      "137: 224x224 satellite 1.00, streetview 0.00, .ipynb_checkpoints 0.00, 0.3ms\n",
      "138: 224x224 satellite 1.00, streetview 0.00, .ipynb_checkpoints 0.00, 0.3ms\n",
      "139: 224x224 satellite 1.00, streetview 0.00, .ipynb_checkpoints 0.00, 0.3ms\n",
      "140: 224x224 satellite 1.00, streetview 0.00, .ipynb_checkpoints 0.00, 0.3ms\n",
      "141: 224x224 satellite 1.00, streetview 0.00, .ipynb_checkpoints 0.00, 0.3ms\n",
      "142: 224x224 satellite 1.00, streetview 0.00, .ipynb_checkpoints 0.00, 0.3ms\n",
      "143: 224x224 satellite 1.00, streetview 0.00, .ipynb_checkpoints 0.00, 0.3ms\n",
      "144: 224x224 satellite 1.00, streetview 0.00, .ipynb_checkpoints 0.00, 0.3ms\n",
      "145: 224x224 satellite 1.00, streetview 0.00, .ipynb_checkpoints 0.00, 0.3ms\n",
      "146: 224x224 satellite 1.00, streetview 0.00, .ipynb_checkpoints 0.00, 0.3ms\n",
      "147: 224x224 satellite 1.00, .ipynb_checkpoints 0.00, streetview 0.00, 0.3ms\n",
      "148: 224x224 satellite 1.00, .ipynb_checkpoints 0.00, streetview 0.00, 0.3ms\n",
      "149: 224x224 satellite 1.00, streetview 0.00, .ipynb_checkpoints 0.00, 0.3ms\n",
      "150: 224x224 satellite 1.00, .ipynb_checkpoints 0.00, streetview 0.00, 0.3ms\n",
      "151: 224x224 satellite 1.00, .ipynb_checkpoints 0.00, streetview 0.00, 0.3ms\n",
      "152: 224x224 satellite 1.00, streetview 0.00, .ipynb_checkpoints 0.00, 0.3ms\n",
      "153: 224x224 satellite 1.00, streetview 0.00, .ipynb_checkpoints 0.00, 0.3ms\n",
      "154: 224x224 satellite 1.00, .ipynb_checkpoints 0.00, streetview 0.00, 0.3ms\n",
      "155: 224x224 satellite 1.00, streetview 0.00, .ipynb_checkpoints 0.00, 0.3ms\n",
      "156: 224x224 satellite 1.00, streetview 0.00, .ipynb_checkpoints 0.00, 0.3ms\n",
      "157: 224x224 satellite 1.00, streetview 0.00, .ipynb_checkpoints 0.00, 0.3ms\n",
      "158: 224x224 satellite 1.00, .ipynb_checkpoints 0.00, streetview 0.00, 0.3ms\n",
      "159: 224x224 satellite 1.00, .ipynb_checkpoints 0.00, streetview 0.00, 0.3ms\n",
      "160: 224x224 satellite 1.00, .ipynb_checkpoints 0.00, streetview 0.00, 0.3ms\n",
      "161: 224x224 satellite 1.00, streetview 0.00, .ipynb_checkpoints 0.00, 0.3ms\n",
      "162: 224x224 satellite 1.00, .ipynb_checkpoints 0.00, streetview 0.00, 0.3ms\n",
      "163: 224x224 satellite 1.00, streetview 0.00, .ipynb_checkpoints 0.00, 0.3ms\n",
      "164: 224x224 satellite 1.00, streetview 0.00, .ipynb_checkpoints 0.00, 0.3ms\n",
      "165: 224x224 satellite 1.00, streetview 0.00, .ipynb_checkpoints 0.00, 0.3ms\n",
      "166: 224x224 satellite 1.00, streetview 0.00, .ipynb_checkpoints 0.00, 0.3ms\n",
      "167: 224x224 satellite 1.00, streetview 0.00, .ipynb_checkpoints 0.00, 0.3ms\n",
      "168: 224x224 satellite 1.00, streetview 0.00, .ipynb_checkpoints 0.00, 0.3ms\n",
      "169: 224x224 satellite 1.00, streetview 0.00, .ipynb_checkpoints 0.00, 0.3ms\n",
      "170: 224x224 satellite 1.00, streetview 0.00, .ipynb_checkpoints 0.00, 0.3ms\n",
      "171: 224x224 satellite 1.00, .ipynb_checkpoints 0.00, streetview 0.00, 0.3ms\n",
      "172: 224x224 satellite 1.00, streetview 0.00, .ipynb_checkpoints 0.00, 0.3ms\n",
      "173: 224x224 satellite 1.00, streetview 0.00, .ipynb_checkpoints 0.00, 0.3ms\n",
      "174: 224x224 satellite 1.00, streetview 0.00, .ipynb_checkpoints 0.00, 0.3ms\n",
      "175: 224x224 satellite 1.00, .ipynb_checkpoints 0.00, streetview 0.00, 0.3ms\n",
      "176: 224x224 satellite 1.00, streetview 0.00, .ipynb_checkpoints 0.00, 0.3ms\n",
      "177: 224x224 satellite 1.00, streetview 0.00, .ipynb_checkpoints 0.00, 0.3ms\n",
      "178: 224x224 satellite 1.00, streetview 0.00, .ipynb_checkpoints 0.00, 0.3ms\n",
      "179: 224x224 satellite 1.00, streetview 0.00, .ipynb_checkpoints 0.00, 0.3ms\n",
      "180: 224x224 satellite 1.00, streetview 0.00, .ipynb_checkpoints 0.00, 0.3ms\n",
      "181: 224x224 satellite 1.00, streetview 0.00, .ipynb_checkpoints 0.00, 0.3ms\n",
      "182: 224x224 satellite 1.00, streetview 0.00, .ipynb_checkpoints 0.00, 0.3ms\n",
      "183: 224x224 satellite 1.00, streetview 0.00, .ipynb_checkpoints 0.00, 0.3ms\n",
      "184: 224x224 satellite 1.00, streetview 0.00, .ipynb_checkpoints 0.00, 0.3ms\n",
      "185: 224x224 satellite 1.00, .ipynb_checkpoints 0.00, streetview 0.00, 0.3ms\n",
      "186: 224x224 satellite 1.00, streetview 0.00, .ipynb_checkpoints 0.00, 0.3ms\n",
      "187: 224x224 satellite 1.00, streetview 0.00, .ipynb_checkpoints 0.00, 0.3ms\n",
      "188: 224x224 satellite 1.00, streetview 0.00, .ipynb_checkpoints 0.00, 0.3ms\n",
      "189: 224x224 satellite 1.00, streetview 0.00, .ipynb_checkpoints 0.00, 0.3ms\n",
      "190: 224x224 satellite 1.00, streetview 0.00, .ipynb_checkpoints 0.00, 0.3ms\n",
      "191: 224x224 satellite 1.00, streetview 0.00, .ipynb_checkpoints 0.00, 0.3ms\n",
      "192: 224x224 satellite 1.00, streetview 0.00, .ipynb_checkpoints 0.00, 0.3ms\n",
      "193: 224x224 satellite 1.00, streetview 0.00, .ipynb_checkpoints 0.00, 0.3ms\n",
      "194: 224x224 satellite 1.00, streetview 0.00, .ipynb_checkpoints 0.00, 0.3ms\n",
      "195: 224x224 satellite 1.00, streetview 0.00, .ipynb_checkpoints 0.00, 0.3ms\n",
      "196: 224x224 satellite 1.00, streetview 0.00, .ipynb_checkpoints 0.00, 0.3ms\n",
      "197: 224x224 satellite 1.00, .ipynb_checkpoints 0.00, streetview 0.00, 0.3ms\n",
      "198: 224x224 satellite 1.00, streetview 0.00, .ipynb_checkpoints 0.00, 0.3ms\n",
      "199: 224x224 satellite 1.00, .ipynb_checkpoints 0.00, streetview 0.00, 0.3ms\n",
      "200: 224x224 satellite 1.00, streetview 0.00, .ipynb_checkpoints 0.00, 0.3ms\n",
      "201: 224x224 satellite 1.00, streetview 0.00, .ipynb_checkpoints 0.00, 0.3ms\n",
      "Speed: 2.5ms preprocess, 0.3ms inference, 0.0ms postprocess per image at shape (1, 3, 224, 224)\n"
     ]
    }
   ],
   "source": [
    "\n",
    "streetViewPaths = [streetviewImageFilePathHeader + path + \".png\" for path in indianapolisDataFrame.loc[:100, 'StreetviewImageName']]\n",
    "satelliteViewPaths = [satelliteImageFilePathHeader + path + \".png\" for path in indianapolisDataFrame.loc[:100, 'SatelliteImageName']]\n",
    "\n",
    "results = satvsstrModel.predict(streetViewPaths + satelliteViewPaths)"
   ]
  },
  {
   "cell_type": "code",
   "execution_count": 522,
   "metadata": {},
   "outputs": [
    {
     "name": "stdout",
     "output_type": "stream",
     "text": [
      "ultralytics.utils.metrics.ClassifyMetrics object with attributes:\n",
      "\n",
      "confusion_matrix: <ultralytics.utils.metrics.ConfusionMatrix object at 0x7d7390e212d0>\n",
      "curves: []\n",
      "curves_results: []\n",
      "fitness: 0.5\n",
      "keys: ['metrics/accuracy_top1', 'metrics/accuracy_top5']\n",
      "results_dict: {'metrics/accuracy_top1': 0.0, 'metrics/accuracy_top5': 1.0, 'fitness': 0.5}\n",
      "save_dir: PosixPath('runs/classify/train144')\n",
      "speed: {'preprocess': 0.04110197081182995, 'inference': 0.5891897382527372, 'loss': 0.00043507039982036954, 'postprocess': 0.003497966014555771}\n",
      "task: 'classify'\n",
      "top1: 0.0\n",
      "top5: 1.0\n",
      "runs/classify/train144\n"
     ]
    }
   ],
   "source": [
    "print(trainingResults)\n",
    "print(trainingResults.save_dir)"
   ]
  },
  {
   "cell_type": "markdown",
   "metadata": {
    "jp-MarkdownHeadingCollapsed": true
   },
   "source": [
    "# Pool vs no pool classification model\n",
    "(not enough \"pool\" data for this one probably)"
   ]
  },
  {
   "cell_type": "code",
   "execution_count": 384,
   "metadata": {
    "editable": true,
    "scrolled": true,
    "slideshow": {
     "slide_type": ""
    },
    "tags": []
   },
   "outputs": [
    {
     "name": "stdout",
     "output_type": "stream",
     "text": [
      "New https://pypi.org/project/ultralytics/8.3.78 available 😃 Update with 'pip install -U ultralytics'\n",
      "Ultralytics 8.3.73 🚀 Python-3.10.12 torch-2.6.0+cu124 CUDA:0 (NVIDIA GeForce RTX 4090, 24210MiB)\n",
      "\u001b[34m\u001b[1mengine/trainer: \u001b[0mtask=classify, mode=train, model=runs/classify/train112/weights/last.pt, data=classifications/satellite_poolhaving, epochs=100, time=None, patience=100, batch=16, imgsz=224, save=True, save_period=-1, cache=False, device=None, workers=8, project=None, name=train113, exist_ok=False, pretrained=True, optimizer=auto, verbose=True, seed=0, deterministic=True, single_cls=False, rect=False, cos_lr=False, close_mosaic=10, resume=False, amp=True, fraction=1.0, profile=False, freeze=None, multi_scale=False, overlap_mask=True, mask_ratio=4, dropout=0.0, val=True, split=val, save_json=False, save_hybrid=False, conf=None, iou=0.7, max_det=300, half=False, dnn=False, plots=True, source=None, vid_stride=1, stream_buffer=False, visualize=False, augment=False, agnostic_nms=False, classes=None, retina_masks=False, embed=None, show=False, save_frames=False, save_txt=False, save_conf=False, save_crop=False, show_labels=True, show_conf=True, show_boxes=True, line_width=None, format=torchscript, keras=False, optimize=False, int8=False, dynamic=False, simplify=True, opset=None, workspace=None, nms=False, lr0=0.01, lrf=0.01, momentum=0.937, weight_decay=0.0005, warmup_epochs=3.0, warmup_momentum=0.8, warmup_bias_lr=0.1, box=7.5, cls=0.5, dfl=1.5, pose=12.0, kobj=1.0, nbs=64, hsv_h=0.015, hsv_s=0.7, hsv_v=0.5, degrees=90, translate=0.3, scale=0.5, shear=0.0, perspective=0.0, flipud=0.0, fliplr=0.0, bgr=0.0, mosaic=1.0, mixup=0.0, copy_paste=0.0, copy_paste_mode=flip, auto_augment=randaugment, erasing=0.4, crop_fraction=1.0, cfg=None, tracker=botsort.yaml, save_dir=runs/classify/train113\n",
      "\u001b[34m\u001b[1mtrain:\u001b[0m /home/jupyter/classifications/satellite_poolhaving/train... found 330 images in 2 classes ✅ \n",
      "\u001b[34m\u001b[1mval:\u001b[0m /home/jupyter/classifications/satellite_poolhaving/val... found 88 images in 2 classes ✅ \n",
      "\u001b[34m\u001b[1mtest:\u001b[0m /home/jupyter/classifications/satellite_poolhaving/test... found 2742 images in 2 classes ✅ \n",
      "\n",
      "                   from  n    params  module                                       arguments                     \n",
      "  0                  -1  1      1392  ultralytics.nn.modules.conv.Conv             [3, 48, 3, 2]                 \n",
      "  1                  -1  1     41664  ultralytics.nn.modules.conv.Conv             [48, 96, 3, 2]                \n",
      "  2                  -1  2    111360  ultralytics.nn.modules.block.C2f             [96, 96, 2, True]             \n",
      "  3                  -1  1    166272  ultralytics.nn.modules.conv.Conv             [96, 192, 3, 2]               \n",
      "  4                  -1  4    813312  ultralytics.nn.modules.block.C2f             [192, 192, 4, True]           \n",
      "  5                  -1  1    664320  ultralytics.nn.modules.conv.Conv             [192, 384, 3, 2]              \n",
      "  6                  -1  4   3248640  ultralytics.nn.modules.block.C2f             [384, 384, 4, True]           \n",
      "  7                  -1  1   2655744  ultralytics.nn.modules.conv.Conv             [384, 768, 3, 2]              \n",
      "  8                  -1  2   7084032  ultralytics.nn.modules.block.C2f             [768, 768, 2, True]           \n",
      "  9                  -1  1    988162  ultralytics.nn.modules.head.Classify         [768, 2]                      \n",
      "YOLOv8m-cls summary: 141 layers, 15,774,898 parameters, 15,774,898 gradients, 41.9 GFLOPs\n",
      "Transferred 40/230 items from pretrained weights\n",
      "\u001b[34m\u001b[1mAMP: \u001b[0mrunning Automatic Mixed Precision (AMP) checks...\n",
      "\u001b[34m\u001b[1mAMP: \u001b[0mchecks passed ✅\n"
     ]
    },
    {
     "name": "stderr",
     "output_type": "stream",
     "text": [
      "\u001b[34m\u001b[1mtrain: \u001b[0mScanning /home/jupyter/classifications/satellite_poolhaving/train... 330 images, 0 corrupt: 100%|██████████| 330/\u001b[0m\n",
      "\u001b[34m\u001b[1mval: \u001b[0mScanning /home/jupyter/classifications/satellite_poolhaving/val... 88 images, 0 corrupt: 100%|██████████| 88/88 [00\u001b[0m\n"
     ]
    },
    {
     "name": "stdout",
     "output_type": "stream",
     "text": [
      "\u001b[34m\u001b[1moptimizer:\u001b[0m 'optimizer=auto' found, ignoring 'lr0=0.01' and 'momentum=0.937' and determining best 'optimizer', 'lr0' and 'momentum' automatically... \n",
      "\u001b[34m\u001b[1moptimizer:\u001b[0m AdamW(lr=0.001667, momentum=0.9) with parameter groups 38 weight(decay=0.0), 39 weight(decay=0.0005), 39 bias(decay=0.0)\n",
      "Image sizes 224 train, 224 val\n",
      "Using 8 dataloader workers\n",
      "Logging results to \u001b[1mruns/classify/train113\u001b[0m\n",
      "Starting training for 100 epochs...\n",
      "\n",
      "      Epoch    GPU_mem       loss  Instances       Size\n"
     ]
    },
    {
     "name": "stderr",
     "output_type": "stream",
     "text": [
      "      1/100      2.15G    0.06077         10        224: 100%|██████████| 21/21 [00:00<00:00, 22.01it/s]\n",
      "               classes   top1_acc   top5_acc: 100%|██████████| 3/3 [00:00<00:00, 94.74it/s]"
     ]
    },
    {
     "name": "stdout",
     "output_type": "stream",
     "text": [
      "                   all      0.909          1\n"
     ]
    },
    {
     "name": "stderr",
     "output_type": "stream",
     "text": [
      "\n"
     ]
    },
    {
     "name": "stdout",
     "output_type": "stream",
     "text": [
      "\n",
      "      Epoch    GPU_mem       loss  Instances       Size\n"
     ]
    },
    {
     "name": "stderr",
     "output_type": "stream",
     "text": [
      "      2/100      1.89G    0.03485         10        224: 100%|██████████| 21/21 [00:00<00:00, 28.46it/s]\n",
      "               classes   top1_acc   top5_acc: 100%|██████████| 3/3 [00:00<00:00, 94.09it/s]"
     ]
    },
    {
     "name": "stdout",
     "output_type": "stream",
     "text": [
      "                   all      0.773          1\n"
     ]
    },
    {
     "name": "stderr",
     "output_type": "stream",
     "text": [
      "\n"
     ]
    },
    {
     "name": "stdout",
     "output_type": "stream",
     "text": [
      "\n",
      "      Epoch    GPU_mem       loss  Instances       Size\n"
     ]
    },
    {
     "name": "stderr",
     "output_type": "stream",
     "text": [
      "      3/100       1.9G     0.1519         10        224: 100%|██████████| 21/21 [00:00<00:00, 28.86it/s]\n",
      "               classes   top1_acc   top5_acc: 100%|██████████| 3/3 [00:00<00:00, 100.84it/s]"
     ]
    },
    {
     "name": "stdout",
     "output_type": "stream",
     "text": [
      "                   all      0.534          1\n"
     ]
    },
    {
     "name": "stderr",
     "output_type": "stream",
     "text": [
      "\n"
     ]
    },
    {
     "name": "stdout",
     "output_type": "stream",
     "text": [
      "\n",
      "      Epoch    GPU_mem       loss  Instances       Size\n"
     ]
    },
    {
     "name": "stderr",
     "output_type": "stream",
     "text": [
      "      4/100      1.88G     0.2369         10        224: 100%|██████████| 21/21 [00:00<00:00, 30.27it/s]\n",
      "               classes   top1_acc   top5_acc: 100%|██████████| 3/3 [00:00<00:00, 96.20it/s]"
     ]
    },
    {
     "name": "stdout",
     "output_type": "stream",
     "text": [
      "                   all      0.568          1\n"
     ]
    },
    {
     "name": "stderr",
     "output_type": "stream",
     "text": [
      "\n"
     ]
    },
    {
     "name": "stdout",
     "output_type": "stream",
     "text": [
      "\n",
      "      Epoch    GPU_mem       loss  Instances       Size\n"
     ]
    },
    {
     "name": "stderr",
     "output_type": "stream",
     "text": [
      "      5/100      1.88G     0.2409         10        224: 100%|██████████| 21/21 [00:00<00:00, 31.05it/s]\n",
      "               classes   top1_acc   top5_acc: 100%|██████████| 3/3 [00:00<00:00, 94.55it/s]"
     ]
    },
    {
     "name": "stdout",
     "output_type": "stream",
     "text": [
      "                   all      0.534          1\n"
     ]
    },
    {
     "name": "stderr",
     "output_type": "stream",
     "text": [
      "\n"
     ]
    },
    {
     "name": "stdout",
     "output_type": "stream",
     "text": [
      "\n",
      "      Epoch    GPU_mem       loss  Instances       Size\n"
     ]
    },
    {
     "name": "stderr",
     "output_type": "stream",
     "text": [
      "      6/100       1.9G     0.2203         10        224: 100%|██████████| 21/21 [00:00<00:00, 31.44it/s]\n",
      "               classes   top1_acc   top5_acc: 100%|██████████| 3/3 [00:00<00:00, 97.88it/s]"
     ]
    },
    {
     "name": "stdout",
     "output_type": "stream",
     "text": [
      "                   all      0.648          1\n"
     ]
    },
    {
     "name": "stderr",
     "output_type": "stream",
     "text": [
      "\n"
     ]
    },
    {
     "name": "stdout",
     "output_type": "stream",
     "text": [
      "\n",
      "      Epoch    GPU_mem       loss  Instances       Size\n"
     ]
    },
    {
     "name": "stderr",
     "output_type": "stream",
     "text": [
      "      7/100       1.9G      0.191         10        224: 100%|██████████| 21/21 [00:00<00:00, 32.12it/s]\n",
      "               classes   top1_acc   top5_acc: 100%|██████████| 3/3 [00:00<00:00, 92.95it/s]"
     ]
    },
    {
     "name": "stdout",
     "output_type": "stream",
     "text": [
      "                   all      0.807          1\n"
     ]
    },
    {
     "name": "stderr",
     "output_type": "stream",
     "text": [
      "\n"
     ]
    },
    {
     "name": "stdout",
     "output_type": "stream",
     "text": [
      "\n",
      "      Epoch    GPU_mem       loss  Instances       Size\n"
     ]
    },
    {
     "name": "stderr",
     "output_type": "stream",
     "text": [
      "      8/100       1.9G     0.1918         10        224: 100%|██████████| 21/21 [00:00<00:00, 31.97it/s]\n",
      "               classes   top1_acc   top5_acc: 100%|██████████| 3/3 [00:00<00:00, 99.78it/s]"
     ]
    },
    {
     "name": "stdout",
     "output_type": "stream",
     "text": [
      "                   all      0.602          1\n"
     ]
    },
    {
     "name": "stderr",
     "output_type": "stream",
     "text": [
      "\n"
     ]
    },
    {
     "name": "stdout",
     "output_type": "stream",
     "text": [
      "\n",
      "      Epoch    GPU_mem       loss  Instances       Size\n"
     ]
    },
    {
     "name": "stderr",
     "output_type": "stream",
     "text": [
      "      9/100      1.88G     0.1981         10        224: 100%|██████████| 21/21 [00:00<00:00, 32.74it/s]\n",
      "               classes   top1_acc   top5_acc: 100%|██████████| 3/3 [00:00<00:00, 98.64it/s]"
     ]
    },
    {
     "name": "stdout",
     "output_type": "stream",
     "text": [
      "                   all      0.739          1\n"
     ]
    },
    {
     "name": "stderr",
     "output_type": "stream",
     "text": [
      "\n"
     ]
    },
    {
     "name": "stdout",
     "output_type": "stream",
     "text": [
      "\n",
      "      Epoch    GPU_mem       loss  Instances       Size\n"
     ]
    },
    {
     "name": "stderr",
     "output_type": "stream",
     "text": [
      "     10/100       1.9G     0.1888         10        224: 100%|██████████| 21/21 [00:00<00:00, 33.56it/s]\n",
      "               classes   top1_acc   top5_acc: 100%|██████████| 3/3 [00:00<00:00, 94.65it/s]"
     ]
    },
    {
     "name": "stdout",
     "output_type": "stream",
     "text": [
      "                   all      0.795          1\n"
     ]
    },
    {
     "name": "stderr",
     "output_type": "stream",
     "text": [
      "\n"
     ]
    },
    {
     "name": "stdout",
     "output_type": "stream",
     "text": [
      "\n",
      "      Epoch    GPU_mem       loss  Instances       Size\n"
     ]
    },
    {
     "name": "stderr",
     "output_type": "stream",
     "text": [
      "     11/100       1.9G    0.09576         10        224: 100%|██████████| 21/21 [00:00<00:00, 32.43it/s]\n",
      "               classes   top1_acc   top5_acc: 100%|██████████| 3/3 [00:00<00:00, 94.67it/s]"
     ]
    },
    {
     "name": "stdout",
     "output_type": "stream",
     "text": [
      "                   all      0.807          1\n"
     ]
    },
    {
     "name": "stderr",
     "output_type": "stream",
     "text": [
      "\n"
     ]
    },
    {
     "name": "stdout",
     "output_type": "stream",
     "text": [
      "\n",
      "      Epoch    GPU_mem       loss  Instances       Size\n"
     ]
    },
    {
     "name": "stderr",
     "output_type": "stream",
     "text": [
      "     12/100       1.9G     0.1434         10        224: 100%|██████████| 21/21 [00:00<00:00, 30.41it/s]\n",
      "               classes   top1_acc   top5_acc: 100%|██████████| 3/3 [00:00<00:00, 97.82it/s]"
     ]
    },
    {
     "name": "stdout",
     "output_type": "stream",
     "text": [
      "                   all      0.932          1\n"
     ]
    },
    {
     "name": "stderr",
     "output_type": "stream",
     "text": [
      "\n"
     ]
    },
    {
     "name": "stdout",
     "output_type": "stream",
     "text": [
      "\n",
      "      Epoch    GPU_mem       loss  Instances       Size\n"
     ]
    },
    {
     "name": "stderr",
     "output_type": "stream",
     "text": [
      "     13/100      1.88G     0.1564         10        224: 100%|██████████| 21/21 [00:00<00:00, 32.43it/s]\n",
      "               classes   top1_acc   top5_acc: 100%|██████████| 3/3 [00:00<00:00, 99.15it/s]"
     ]
    },
    {
     "name": "stdout",
     "output_type": "stream",
     "text": [
      "                   all      0.898          1\n"
     ]
    },
    {
     "name": "stderr",
     "output_type": "stream",
     "text": [
      "\n"
     ]
    },
    {
     "name": "stdout",
     "output_type": "stream",
     "text": [
      "\n",
      "      Epoch    GPU_mem       loss  Instances       Size\n"
     ]
    },
    {
     "name": "stderr",
     "output_type": "stream",
     "text": [
      "     14/100       1.9G    0.09269         10        224: 100%|██████████| 21/21 [00:00<00:00, 34.73it/s]\n",
      "               classes   top1_acc   top5_acc: 100%|██████████| 3/3 [00:00<00:00, 97.29it/s]"
     ]
    },
    {
     "name": "stdout",
     "output_type": "stream",
     "text": [
      "                   all      0.841          1\n"
     ]
    },
    {
     "name": "stderr",
     "output_type": "stream",
     "text": [
      "\n"
     ]
    },
    {
     "name": "stdout",
     "output_type": "stream",
     "text": [
      "\n",
      "      Epoch    GPU_mem       loss  Instances       Size\n"
     ]
    },
    {
     "name": "stderr",
     "output_type": "stream",
     "text": [
      "     15/100       1.9G     0.1411         10        224: 100%|██████████| 21/21 [00:00<00:00, 34.42it/s]\n",
      "               classes   top1_acc   top5_acc: 100%|██████████| 3/3 [00:00<00:00, 103.12it/s]"
     ]
    },
    {
     "name": "stdout",
     "output_type": "stream",
     "text": [
      "                   all      0.716          1\n"
     ]
    },
    {
     "name": "stderr",
     "output_type": "stream",
     "text": [
      "\n"
     ]
    },
    {
     "name": "stdout",
     "output_type": "stream",
     "text": [
      "\n",
      "      Epoch    GPU_mem       loss  Instances       Size\n"
     ]
    },
    {
     "name": "stderr",
     "output_type": "stream",
     "text": [
      "     16/100       1.9G     0.2194         10        224: 100%|██████████| 21/21 [00:00<00:00, 33.79it/s]\n",
      "               classes   top1_acc   top5_acc: 100%|██████████| 3/3 [00:00<00:00, 98.13it/s]"
     ]
    },
    {
     "name": "stdout",
     "output_type": "stream",
     "text": [
      "                   all      0.886          1\n"
     ]
    },
    {
     "name": "stderr",
     "output_type": "stream",
     "text": [
      "\n"
     ]
    },
    {
     "name": "stdout",
     "output_type": "stream",
     "text": [
      "\n",
      "      Epoch    GPU_mem       loss  Instances       Size\n"
     ]
    },
    {
     "name": "stderr",
     "output_type": "stream",
     "text": [
      "     17/100      1.88G     0.1501         10        224: 100%|██████████| 21/21 [00:00<00:00, 33.67it/s]\n",
      "               classes   top1_acc   top5_acc: 100%|██████████| 3/3 [00:00<00:00, 99.54it/s]"
     ]
    },
    {
     "name": "stdout",
     "output_type": "stream",
     "text": [
      "                   all      0.818          1\n"
     ]
    },
    {
     "name": "stderr",
     "output_type": "stream",
     "text": [
      "\n"
     ]
    },
    {
     "name": "stdout",
     "output_type": "stream",
     "text": [
      "\n",
      "      Epoch    GPU_mem       loss  Instances       Size\n"
     ]
    },
    {
     "name": "stderr",
     "output_type": "stream",
     "text": [
      "     18/100       1.9G     0.1382         10        224: 100%|██████████| 21/21 [00:00<00:00, 34.18it/s]\n",
      "               classes   top1_acc   top5_acc: 100%|██████████| 3/3 [00:00<00:00, 102.43it/s]"
     ]
    },
    {
     "name": "stdout",
     "output_type": "stream",
     "text": [
      "                   all      0.864          1\n"
     ]
    },
    {
     "name": "stderr",
     "output_type": "stream",
     "text": [
      "\n"
     ]
    },
    {
     "name": "stdout",
     "output_type": "stream",
     "text": [
      "\n",
      "      Epoch    GPU_mem       loss  Instances       Size\n"
     ]
    },
    {
     "name": "stderr",
     "output_type": "stream",
     "text": [
      "     19/100       1.9G     0.1954         10        224: 100%|██████████| 21/21 [00:00<00:00, 34.67it/s]\n",
      "               classes   top1_acc   top5_acc: 100%|██████████| 3/3 [00:00<00:00, 92.36it/s]"
     ]
    },
    {
     "name": "stdout",
     "output_type": "stream",
     "text": [
      "                   all      0.909          1\n"
     ]
    },
    {
     "name": "stderr",
     "output_type": "stream",
     "text": [
      "\n"
     ]
    },
    {
     "name": "stdout",
     "output_type": "stream",
     "text": [
      "\n",
      "      Epoch    GPU_mem       loss  Instances       Size\n"
     ]
    },
    {
     "name": "stderr",
     "output_type": "stream",
     "text": [
      "     20/100       1.9G     0.1048         10        224: 100%|██████████| 21/21 [00:00<00:00, 33.91it/s]\n",
      "               classes   top1_acc   top5_acc: 100%|██████████| 3/3 [00:00<00:00, 99.76it/s]"
     ]
    },
    {
     "name": "stdout",
     "output_type": "stream",
     "text": [
      "                   all      0.932          1\n"
     ]
    },
    {
     "name": "stderr",
     "output_type": "stream",
     "text": [
      "\n"
     ]
    },
    {
     "name": "stdout",
     "output_type": "stream",
     "text": [
      "\n",
      "      Epoch    GPU_mem       loss  Instances       Size\n"
     ]
    },
    {
     "name": "stderr",
     "output_type": "stream",
     "text": [
      "     21/100      1.88G     0.1279         10        224: 100%|██████████| 21/21 [00:00<00:00, 34.27it/s]\n",
      "               classes   top1_acc   top5_acc: 100%|██████████| 3/3 [00:00<00:00, 100.27it/s]"
     ]
    },
    {
     "name": "stdout",
     "output_type": "stream",
     "text": [
      "                   all      0.932          1\n"
     ]
    },
    {
     "name": "stderr",
     "output_type": "stream",
     "text": [
      "\n"
     ]
    },
    {
     "name": "stdout",
     "output_type": "stream",
     "text": [
      "\n",
      "      Epoch    GPU_mem       loss  Instances       Size\n"
     ]
    },
    {
     "name": "stderr",
     "output_type": "stream",
     "text": [
      "     22/100       1.9G     0.1204         10        224: 100%|██████████| 21/21 [00:00<00:00, 34.69it/s]\n",
      "               classes   top1_acc   top5_acc: 100%|██████████| 3/3 [00:00<00:00, 98.55it/s]"
     ]
    },
    {
     "name": "stdout",
     "output_type": "stream",
     "text": [
      "                   all      0.886          1\n"
     ]
    },
    {
     "name": "stderr",
     "output_type": "stream",
     "text": [
      "\n"
     ]
    },
    {
     "name": "stdout",
     "output_type": "stream",
     "text": [
      "\n",
      "      Epoch    GPU_mem       loss  Instances       Size\n"
     ]
    },
    {
     "name": "stderr",
     "output_type": "stream",
     "text": [
      "     23/100       1.9G     0.1026         10        224: 100%|██████████| 21/21 [00:00<00:00, 34.31it/s]\n",
      "               classes   top1_acc   top5_acc: 100%|██████████| 3/3 [00:00<00:00, 103.06it/s]"
     ]
    },
    {
     "name": "stdout",
     "output_type": "stream",
     "text": [
      "                   all      0.864          1\n"
     ]
    },
    {
     "name": "stderr",
     "output_type": "stream",
     "text": [
      "\n"
     ]
    },
    {
     "name": "stdout",
     "output_type": "stream",
     "text": [
      "\n",
      "      Epoch    GPU_mem       loss  Instances       Size\n"
     ]
    },
    {
     "name": "stderr",
     "output_type": "stream",
     "text": [
      "     24/100       1.9G    0.09687         10        224: 100%|██████████| 21/21 [00:00<00:00, 33.77it/s]\n",
      "               classes   top1_acc   top5_acc: 100%|██████████| 3/3 [00:00<00:00, 96.78it/s]"
     ]
    },
    {
     "name": "stdout",
     "output_type": "stream",
     "text": [
      "                   all      0.886          1\n"
     ]
    },
    {
     "name": "stderr",
     "output_type": "stream",
     "text": [
      "\n"
     ]
    },
    {
     "name": "stdout",
     "output_type": "stream",
     "text": [
      "\n",
      "      Epoch    GPU_mem       loss  Instances       Size\n"
     ]
    },
    {
     "name": "stderr",
     "output_type": "stream",
     "text": [
      "     25/100      1.88G     0.1383         10        224: 100%|██████████| 21/21 [00:00<00:00, 34.84it/s]\n",
      "               classes   top1_acc   top5_acc: 100%|██████████| 3/3 [00:00<00:00, 97.27it/s]"
     ]
    },
    {
     "name": "stdout",
     "output_type": "stream",
     "text": [
      "                   all      0.898          1\n"
     ]
    },
    {
     "name": "stderr",
     "output_type": "stream",
     "text": [
      "\n"
     ]
    },
    {
     "name": "stdout",
     "output_type": "stream",
     "text": [
      "\n",
      "      Epoch    GPU_mem       loss  Instances       Size\n"
     ]
    },
    {
     "name": "stderr",
     "output_type": "stream",
     "text": [
      "     26/100       1.9G     0.1789         10        224: 100%|██████████| 21/21 [00:00<00:00, 34.27it/s]\n",
      "               classes   top1_acc   top5_acc: 100%|██████████| 3/3 [00:00<00:00, 102.35it/s]"
     ]
    },
    {
     "name": "stdout",
     "output_type": "stream",
     "text": [
      "                   all      0.886          1\n"
     ]
    },
    {
     "name": "stderr",
     "output_type": "stream",
     "text": [
      "\n"
     ]
    },
    {
     "name": "stdout",
     "output_type": "stream",
     "text": [
      "\n",
      "      Epoch    GPU_mem       loss  Instances       Size\n"
     ]
    },
    {
     "name": "stderr",
     "output_type": "stream",
     "text": [
      "     27/100       1.9G     0.1472         10        224: 100%|██████████| 21/21 [00:00<00:00, 34.95it/s]\n",
      "               classes   top1_acc   top5_acc: 100%|██████████| 3/3 [00:00<00:00, 93.98it/s]"
     ]
    },
    {
     "name": "stdout",
     "output_type": "stream",
     "text": [
      "                   all      0.852          1\n"
     ]
    },
    {
     "name": "stderr",
     "output_type": "stream",
     "text": [
      "\n"
     ]
    },
    {
     "name": "stdout",
     "output_type": "stream",
     "text": [
      "\n",
      "      Epoch    GPU_mem       loss  Instances       Size\n"
     ]
    },
    {
     "name": "stderr",
     "output_type": "stream",
     "text": [
      "     28/100       1.9G     0.1156         10        224: 100%|██████████| 21/21 [00:00<00:00, 31.90it/s]\n",
      "               classes   top1_acc   top5_acc: 100%|██████████| 3/3 [00:00<00:00, 96.47it/s]"
     ]
    },
    {
     "name": "stdout",
     "output_type": "stream",
     "text": [
      "                   all      0.875          1\n"
     ]
    },
    {
     "name": "stderr",
     "output_type": "stream",
     "text": [
      "\n"
     ]
    },
    {
     "name": "stdout",
     "output_type": "stream",
     "text": [
      "\n",
      "      Epoch    GPU_mem       loss  Instances       Size\n"
     ]
    },
    {
     "name": "stderr",
     "output_type": "stream",
     "text": [
      "     29/100      1.88G     0.1743         10        224: 100%|██████████| 21/21 [00:00<00:00, 33.33it/s]\n",
      "               classes   top1_acc   top5_acc: 100%|██████████| 3/3 [00:00<00:00, 100.05it/s]"
     ]
    },
    {
     "name": "stdout",
     "output_type": "stream",
     "text": [
      "                   all      0.852          1\n"
     ]
    },
    {
     "name": "stderr",
     "output_type": "stream",
     "text": [
      "\n"
     ]
    },
    {
     "name": "stdout",
     "output_type": "stream",
     "text": [
      "\n",
      "      Epoch    GPU_mem       loss  Instances       Size\n"
     ]
    },
    {
     "name": "stderr",
     "output_type": "stream",
     "text": [
      "     30/100       1.9G     0.1463         10        224: 100%|██████████| 21/21 [00:00<00:00, 34.87it/s]\n",
      "               classes   top1_acc   top5_acc: 100%|██████████| 3/3 [00:00<00:00, 97.34it/s]"
     ]
    },
    {
     "name": "stdout",
     "output_type": "stream",
     "text": [
      "                   all      0.841          1\n"
     ]
    },
    {
     "name": "stderr",
     "output_type": "stream",
     "text": [
      "\n"
     ]
    },
    {
     "name": "stdout",
     "output_type": "stream",
     "text": [
      "\n",
      "      Epoch    GPU_mem       loss  Instances       Size\n"
     ]
    },
    {
     "name": "stderr",
     "output_type": "stream",
     "text": [
      "     31/100       1.9G     0.1208         10        224: 100%|██████████| 21/21 [00:00<00:00, 32.12it/s]\n",
      "               classes   top1_acc   top5_acc: 100%|██████████| 3/3 [00:00<00:00, 103.45it/s]"
     ]
    },
    {
     "name": "stdout",
     "output_type": "stream",
     "text": [
      "                   all       0.92          1\n"
     ]
    },
    {
     "name": "stderr",
     "output_type": "stream",
     "text": [
      "\n"
     ]
    },
    {
     "name": "stdout",
     "output_type": "stream",
     "text": [
      "\n",
      "      Epoch    GPU_mem       loss  Instances       Size\n"
     ]
    },
    {
     "name": "stderr",
     "output_type": "stream",
     "text": [
      "     32/100       1.9G    0.09298         10        224: 100%|██████████| 21/21 [00:00<00:00, 33.87it/s]\n",
      "               classes   top1_acc   top5_acc: 100%|██████████| 3/3 [00:00<00:00, 95.49it/s]"
     ]
    },
    {
     "name": "stdout",
     "output_type": "stream",
     "text": [
      "                   all      0.898          1\n"
     ]
    },
    {
     "name": "stderr",
     "output_type": "stream",
     "text": [
      "\n"
     ]
    },
    {
     "name": "stdout",
     "output_type": "stream",
     "text": [
      "\n",
      "      Epoch    GPU_mem       loss  Instances       Size\n"
     ]
    },
    {
     "name": "stderr",
     "output_type": "stream",
     "text": [
      "     33/100      1.88G      0.109         10        224: 100%|██████████| 21/21 [00:00<00:00, 34.91it/s]\n",
      "               classes   top1_acc   top5_acc: 100%|██████████| 3/3 [00:00<00:00, 97.22it/s]"
     ]
    },
    {
     "name": "stdout",
     "output_type": "stream",
     "text": [
      "                   all      0.898          1\n"
     ]
    },
    {
     "name": "stderr",
     "output_type": "stream",
     "text": [
      "\n"
     ]
    },
    {
     "name": "stdout",
     "output_type": "stream",
     "text": [
      "\n",
      "      Epoch    GPU_mem       loss  Instances       Size\n"
     ]
    },
    {
     "name": "stderr",
     "output_type": "stream",
     "text": [
      "     34/100       1.9G     0.1205         10        224: 100%|██████████| 21/21 [00:00<00:00, 32.47it/s]\n",
      "               classes   top1_acc   top5_acc: 100%|██████████| 3/3 [00:00<00:00, 101.77it/s]"
     ]
    },
    {
     "name": "stdout",
     "output_type": "stream",
     "text": [
      "                   all      0.898          1\n"
     ]
    },
    {
     "name": "stderr",
     "output_type": "stream",
     "text": [
      "\n"
     ]
    },
    {
     "name": "stdout",
     "output_type": "stream",
     "text": [
      "\n",
      "      Epoch    GPU_mem       loss  Instances       Size\n"
     ]
    },
    {
     "name": "stderr",
     "output_type": "stream",
     "text": [
      "     35/100       1.9G    0.07402         10        224: 100%|██████████| 21/21 [00:00<00:00, 33.14it/s]\n",
      "               classes   top1_acc   top5_acc: 100%|██████████| 3/3 [00:00<00:00, 79.02it/s]"
     ]
    },
    {
     "name": "stdout",
     "output_type": "stream",
     "text": [
      "                   all       0.92          1\n"
     ]
    },
    {
     "name": "stderr",
     "output_type": "stream",
     "text": [
      "\n"
     ]
    },
    {
     "name": "stdout",
     "output_type": "stream",
     "text": [
      "\n",
      "      Epoch    GPU_mem       loss  Instances       Size\n"
     ]
    },
    {
     "name": "stderr",
     "output_type": "stream",
     "text": [
      "     36/100       1.9G     0.1157         10        224: 100%|██████████| 21/21 [00:00<00:00, 32.08it/s]\n",
      "               classes   top1_acc   top5_acc: 100%|██████████| 3/3 [00:00<00:00, 96.07it/s]"
     ]
    },
    {
     "name": "stdout",
     "output_type": "stream",
     "text": [
      "                   all       0.92          1\n"
     ]
    },
    {
     "name": "stderr",
     "output_type": "stream",
     "text": [
      "\n"
     ]
    },
    {
     "name": "stdout",
     "output_type": "stream",
     "text": [
      "\n",
      "      Epoch    GPU_mem       loss  Instances       Size\n"
     ]
    },
    {
     "name": "stderr",
     "output_type": "stream",
     "text": [
      "     37/100      1.88G    0.07658         10        224: 100%|██████████| 21/21 [00:00<00:00, 32.89it/s]\n",
      "               classes   top1_acc   top5_acc: 100%|██████████| 3/3 [00:00<00:00, 96.67it/s]"
     ]
    },
    {
     "name": "stdout",
     "output_type": "stream",
     "text": [
      "                   all      0.932          1\n"
     ]
    },
    {
     "name": "stderr",
     "output_type": "stream",
     "text": [
      "\n"
     ]
    },
    {
     "name": "stdout",
     "output_type": "stream",
     "text": [
      "\n",
      "      Epoch    GPU_mem       loss  Instances       Size\n"
     ]
    },
    {
     "name": "stderr",
     "output_type": "stream",
     "text": [
      "     38/100       1.9G    0.08046         10        224: 100%|██████████| 21/21 [00:00<00:00, 33.15it/s]\n",
      "               classes   top1_acc   top5_acc: 100%|██████████| 3/3 [00:00<00:00, 87.15it/s]"
     ]
    },
    {
     "name": "stdout",
     "output_type": "stream",
     "text": [
      "                   all      0.886          1\n"
     ]
    },
    {
     "name": "stderr",
     "output_type": "stream",
     "text": [
      "\n"
     ]
    },
    {
     "name": "stdout",
     "output_type": "stream",
     "text": [
      "\n",
      "      Epoch    GPU_mem       loss  Instances       Size\n"
     ]
    },
    {
     "name": "stderr",
     "output_type": "stream",
     "text": [
      "     39/100       1.9G     0.1083         10        224: 100%|██████████| 21/21 [00:00<00:00, 34.56it/s]\n",
      "               classes   top1_acc   top5_acc: 100%|██████████| 3/3 [00:00<00:00, 99.50it/s]"
     ]
    },
    {
     "name": "stdout",
     "output_type": "stream",
     "text": [
      "                   all      0.886          1\n"
     ]
    },
    {
     "name": "stderr",
     "output_type": "stream",
     "text": [
      "\n"
     ]
    },
    {
     "name": "stdout",
     "output_type": "stream",
     "text": [
      "\n",
      "      Epoch    GPU_mem       loss  Instances       Size\n"
     ]
    },
    {
     "name": "stderr",
     "output_type": "stream",
     "text": [
      "     40/100       1.9G    0.09722         10        224: 100%|██████████| 21/21 [00:00<00:00, 34.04it/s]\n",
      "               classes   top1_acc   top5_acc: 100%|██████████| 3/3 [00:00<00:00, 93.99it/s]"
     ]
    },
    {
     "name": "stdout",
     "output_type": "stream",
     "text": [
      "                   all      0.886          1\n"
     ]
    },
    {
     "name": "stderr",
     "output_type": "stream",
     "text": [
      "\n"
     ]
    },
    {
     "name": "stdout",
     "output_type": "stream",
     "text": [
      "\n",
      "      Epoch    GPU_mem       loss  Instances       Size\n"
     ]
    },
    {
     "name": "stderr",
     "output_type": "stream",
     "text": [
      "     41/100      1.88G    0.09452         10        224: 100%|██████████| 21/21 [00:00<00:00, 34.95it/s]\n",
      "               classes   top1_acc   top5_acc: 100%|██████████| 3/3 [00:00<00:00, 97.86it/s]"
     ]
    },
    {
     "name": "stdout",
     "output_type": "stream",
     "text": [
      "                   all      0.932          1\n"
     ]
    },
    {
     "name": "stderr",
     "output_type": "stream",
     "text": [
      "\n"
     ]
    },
    {
     "name": "stdout",
     "output_type": "stream",
     "text": [
      "\n",
      "      Epoch    GPU_mem       loss  Instances       Size\n"
     ]
    },
    {
     "name": "stderr",
     "output_type": "stream",
     "text": [
      "     42/100       1.9G    0.08658         10        224: 100%|██████████| 21/21 [00:00<00:00, 34.56it/s]\n",
      "               classes   top1_acc   top5_acc: 100%|██████████| 3/3 [00:00<00:00, 101.38it/s]"
     ]
    },
    {
     "name": "stdout",
     "output_type": "stream",
     "text": [
      "                   all      0.932          1\n"
     ]
    },
    {
     "name": "stderr",
     "output_type": "stream",
     "text": [
      "\n"
     ]
    },
    {
     "name": "stdout",
     "output_type": "stream",
     "text": [
      "\n",
      "      Epoch    GPU_mem       loss  Instances       Size\n"
     ]
    },
    {
     "name": "stderr",
     "output_type": "stream",
     "text": [
      "     43/100       1.9G     0.1053         10        224: 100%|██████████| 21/21 [00:00<00:00, 33.76it/s]\n",
      "               classes   top1_acc   top5_acc: 100%|██████████| 3/3 [00:00<00:00, 94.41it/s]"
     ]
    },
    {
     "name": "stdout",
     "output_type": "stream",
     "text": [
      "                   all      0.898          1\n"
     ]
    },
    {
     "name": "stderr",
     "output_type": "stream",
     "text": [
      "\n"
     ]
    },
    {
     "name": "stdout",
     "output_type": "stream",
     "text": [
      "\n",
      "      Epoch    GPU_mem       loss  Instances       Size\n"
     ]
    },
    {
     "name": "stderr",
     "output_type": "stream",
     "text": [
      "     44/100       1.9G    0.09546         10        224: 100%|██████████| 21/21 [00:00<00:00, 32.21it/s]\n",
      "               classes   top1_acc   top5_acc: 100%|██████████| 3/3 [00:00<00:00, 98.35it/s]"
     ]
    },
    {
     "name": "stdout",
     "output_type": "stream",
     "text": [
      "                   all      0.898          1\n"
     ]
    },
    {
     "name": "stderr",
     "output_type": "stream",
     "text": [
      "\n"
     ]
    },
    {
     "name": "stdout",
     "output_type": "stream",
     "text": [
      "\n",
      "      Epoch    GPU_mem       loss  Instances       Size\n"
     ]
    },
    {
     "name": "stderr",
     "output_type": "stream",
     "text": [
      "     45/100      1.88G    0.05657         10        224: 100%|██████████| 21/21 [00:00<00:00, 32.83it/s]\n",
      "               classes   top1_acc   top5_acc: 100%|██████████| 3/3 [00:00<00:00, 99.85it/s]"
     ]
    },
    {
     "name": "stdout",
     "output_type": "stream",
     "text": [
      "                   all      0.898          1\n"
     ]
    },
    {
     "name": "stderr",
     "output_type": "stream",
     "text": [
      "\n"
     ]
    },
    {
     "name": "stdout",
     "output_type": "stream",
     "text": [
      "\n",
      "      Epoch    GPU_mem       loss  Instances       Size\n"
     ]
    },
    {
     "name": "stderr",
     "output_type": "stream",
     "text": [
      "     46/100       1.9G    0.06493         10        224: 100%|██████████| 21/21 [00:00<00:00, 33.67it/s]\n",
      "               classes   top1_acc   top5_acc: 100%|██████████| 3/3 [00:00<00:00, 95.40it/s]"
     ]
    },
    {
     "name": "stdout",
     "output_type": "stream",
     "text": [
      "                   all      0.886          1\n"
     ]
    },
    {
     "name": "stderr",
     "output_type": "stream",
     "text": [
      "\n"
     ]
    },
    {
     "name": "stdout",
     "output_type": "stream",
     "text": [
      "\n",
      "      Epoch    GPU_mem       loss  Instances       Size\n"
     ]
    },
    {
     "name": "stderr",
     "output_type": "stream",
     "text": [
      "     47/100       1.9G    0.08736         10        224: 100%|██████████| 21/21 [00:00<00:00, 33.06it/s]\n",
      "               classes   top1_acc   top5_acc: 100%|██████████| 3/3 [00:00<00:00, 100.04it/s]"
     ]
    },
    {
     "name": "stdout",
     "output_type": "stream",
     "text": [
      "                   all      0.875          1\n"
     ]
    },
    {
     "name": "stderr",
     "output_type": "stream",
     "text": [
      "\n"
     ]
    },
    {
     "name": "stdout",
     "output_type": "stream",
     "text": [
      "\n",
      "      Epoch    GPU_mem       loss  Instances       Size\n"
     ]
    },
    {
     "name": "stderr",
     "output_type": "stream",
     "text": [
      "     48/100       1.9G    0.06942         10        224: 100%|██████████| 21/21 [00:00<00:00, 33.15it/s]\n",
      "               classes   top1_acc   top5_acc: 100%|██████████| 3/3 [00:00<00:00, 97.61it/s]"
     ]
    },
    {
     "name": "stdout",
     "output_type": "stream",
     "text": [
      "                   all      0.909          1\n"
     ]
    },
    {
     "name": "stderr",
     "output_type": "stream",
     "text": [
      "\n"
     ]
    },
    {
     "name": "stdout",
     "output_type": "stream",
     "text": [
      "\n",
      "      Epoch    GPU_mem       loss  Instances       Size\n"
     ]
    },
    {
     "name": "stderr",
     "output_type": "stream",
     "text": [
      "     49/100      1.88G    0.07218         10        224: 100%|██████████| 21/21 [00:00<00:00, 33.78it/s]\n",
      "               classes   top1_acc   top5_acc: 100%|██████████| 3/3 [00:00<00:00, 98.94it/s]"
     ]
    },
    {
     "name": "stdout",
     "output_type": "stream",
     "text": [
      "                   all      0.886          1\n"
     ]
    },
    {
     "name": "stderr",
     "output_type": "stream",
     "text": [
      "\n"
     ]
    },
    {
     "name": "stdout",
     "output_type": "stream",
     "text": [
      "\n",
      "      Epoch    GPU_mem       loss  Instances       Size\n"
     ]
    },
    {
     "name": "stderr",
     "output_type": "stream",
     "text": [
      "     50/100       1.9G     0.2022         10        224: 100%|██████████| 21/21 [00:00<00:00, 32.35it/s]\n",
      "               classes   top1_acc   top5_acc: 100%|██████████| 3/3 [00:00<00:00, 83.39it/s]"
     ]
    },
    {
     "name": "stdout",
     "output_type": "stream",
     "text": [
      "                   all      0.864          1\n"
     ]
    },
    {
     "name": "stderr",
     "output_type": "stream",
     "text": [
      "\n"
     ]
    },
    {
     "name": "stdout",
     "output_type": "stream",
     "text": [
      "\n",
      "      Epoch    GPU_mem       loss  Instances       Size\n"
     ]
    },
    {
     "name": "stderr",
     "output_type": "stream",
     "text": [
      "     51/100       1.9G    0.08788         10        224: 100%|██████████| 21/21 [00:00<00:00, 33.49it/s]\n",
      "               classes   top1_acc   top5_acc: 100%|██████████| 3/3 [00:00<00:00, 87.73it/s]"
     ]
    },
    {
     "name": "stdout",
     "output_type": "stream",
     "text": [
      "                   all      0.875          1\n"
     ]
    },
    {
     "name": "stderr",
     "output_type": "stream",
     "text": [
      "\n"
     ]
    },
    {
     "name": "stdout",
     "output_type": "stream",
     "text": [
      "\n",
      "      Epoch    GPU_mem       loss  Instances       Size\n"
     ]
    },
    {
     "name": "stderr",
     "output_type": "stream",
     "text": [
      "     52/100       1.9G     0.0296         10        224: 100%|██████████| 21/21 [00:00<00:00, 33.30it/s]\n",
      "               classes   top1_acc   top5_acc: 100%|██████████| 3/3 [00:00<00:00, 99.27it/s]"
     ]
    },
    {
     "name": "stdout",
     "output_type": "stream",
     "text": [
      "                   all      0.886          1\n"
     ]
    },
    {
     "name": "stderr",
     "output_type": "stream",
     "text": [
      "\n"
     ]
    },
    {
     "name": "stdout",
     "output_type": "stream",
     "text": [
      "\n",
      "      Epoch    GPU_mem       loss  Instances       Size\n"
     ]
    },
    {
     "name": "stderr",
     "output_type": "stream",
     "text": [
      "     53/100      1.88G    0.06908         10        224: 100%|██████████| 21/21 [00:00<00:00, 34.46it/s]\n",
      "               classes   top1_acc   top5_acc: 100%|██████████| 3/3 [00:00<00:00, 100.61it/s]"
     ]
    },
    {
     "name": "stdout",
     "output_type": "stream",
     "text": [
      "                   all      0.886          1\n"
     ]
    },
    {
     "name": "stderr",
     "output_type": "stream",
     "text": [
      "\n"
     ]
    },
    {
     "name": "stdout",
     "output_type": "stream",
     "text": [
      "\n",
      "      Epoch    GPU_mem       loss  Instances       Size\n"
     ]
    },
    {
     "name": "stderr",
     "output_type": "stream",
     "text": [
      "     54/100       1.9G    0.05255         10        224: 100%|██████████| 21/21 [00:00<00:00, 34.90it/s]\n",
      "               classes   top1_acc   top5_acc: 100%|██████████| 3/3 [00:00<00:00, 96.19it/s]"
     ]
    },
    {
     "name": "stdout",
     "output_type": "stream",
     "text": [
      "                   all      0.898          1\n"
     ]
    },
    {
     "name": "stderr",
     "output_type": "stream",
     "text": [
      "\n"
     ]
    },
    {
     "name": "stdout",
     "output_type": "stream",
     "text": [
      "\n",
      "      Epoch    GPU_mem       loss  Instances       Size\n"
     ]
    },
    {
     "name": "stderr",
     "output_type": "stream",
     "text": [
      "     55/100       1.9G    0.04012         10        224: 100%|██████████| 21/21 [00:00<00:00, 34.59it/s]\n",
      "               classes   top1_acc   top5_acc: 100%|██████████| 3/3 [00:00<00:00, 98.87it/s]"
     ]
    },
    {
     "name": "stdout",
     "output_type": "stream",
     "text": [
      "                   all      0.886          1\n"
     ]
    },
    {
     "name": "stderr",
     "output_type": "stream",
     "text": [
      "\n"
     ]
    },
    {
     "name": "stdout",
     "output_type": "stream",
     "text": [
      "\n",
      "      Epoch    GPU_mem       loss  Instances       Size\n"
     ]
    },
    {
     "name": "stderr",
     "output_type": "stream",
     "text": [
      "     56/100       1.9G    0.04036         10        224: 100%|██████████| 21/21 [00:00<00:00, 33.87it/s]\n",
      "               classes   top1_acc   top5_acc: 100%|██████████| 3/3 [00:00<00:00, 96.30it/s]"
     ]
    },
    {
     "name": "stdout",
     "output_type": "stream",
     "text": [
      "                   all      0.898          1\n"
     ]
    },
    {
     "name": "stderr",
     "output_type": "stream",
     "text": [
      "\n"
     ]
    },
    {
     "name": "stdout",
     "output_type": "stream",
     "text": [
      "\n",
      "      Epoch    GPU_mem       loss  Instances       Size\n"
     ]
    },
    {
     "name": "stderr",
     "output_type": "stream",
     "text": [
      "     57/100      1.88G    0.07389         10        224: 100%|██████████| 21/21 [00:00<00:00, 34.72it/s]\n",
      "               classes   top1_acc   top5_acc: 100%|██████████| 3/3 [00:00<00:00, 99.71it/s]"
     ]
    },
    {
     "name": "stdout",
     "output_type": "stream",
     "text": [
      "                   all      0.886          1\n"
     ]
    },
    {
     "name": "stderr",
     "output_type": "stream",
     "text": [
      "\n"
     ]
    },
    {
     "name": "stdout",
     "output_type": "stream",
     "text": [
      "\n",
      "      Epoch    GPU_mem       loss  Instances       Size\n"
     ]
    },
    {
     "name": "stderr",
     "output_type": "stream",
     "text": [
      "     58/100       1.9G     0.1063         10        224: 100%|██████████| 21/21 [00:00<00:00, 34.48it/s]\n",
      "               classes   top1_acc   top5_acc: 100%|██████████| 3/3 [00:00<00:00, 102.57it/s]"
     ]
    },
    {
     "name": "stdout",
     "output_type": "stream",
     "text": [
      "                   all      0.898          1\n"
     ]
    },
    {
     "name": "stderr",
     "output_type": "stream",
     "text": [
      "\n"
     ]
    },
    {
     "name": "stdout",
     "output_type": "stream",
     "text": [
      "\n",
      "      Epoch    GPU_mem       loss  Instances       Size\n"
     ]
    },
    {
     "name": "stderr",
     "output_type": "stream",
     "text": [
      "     59/100       1.9G     0.1191         10        224: 100%|██████████| 21/21 [00:00<00:00, 34.76it/s]\n",
      "               classes   top1_acc   top5_acc: 100%|██████████| 3/3 [00:00<00:00, 94.31it/s]"
     ]
    },
    {
     "name": "stdout",
     "output_type": "stream",
     "text": [
      "                   all      0.898          1\n"
     ]
    },
    {
     "name": "stderr",
     "output_type": "stream",
     "text": [
      "\n"
     ]
    },
    {
     "name": "stdout",
     "output_type": "stream",
     "text": [
      "\n",
      "      Epoch    GPU_mem       loss  Instances       Size\n"
     ]
    },
    {
     "name": "stderr",
     "output_type": "stream",
     "text": [
      "     60/100       1.9G     0.1211         10        224: 100%|██████████| 21/21 [00:00<00:00, 33.88it/s]\n",
      "               classes   top1_acc   top5_acc: 100%|██████████| 3/3 [00:00<00:00, 98.73it/s]"
     ]
    },
    {
     "name": "stdout",
     "output_type": "stream",
     "text": [
      "                   all       0.92          1\n"
     ]
    },
    {
     "name": "stderr",
     "output_type": "stream",
     "text": [
      "\n"
     ]
    },
    {
     "name": "stdout",
     "output_type": "stream",
     "text": [
      "\n",
      "      Epoch    GPU_mem       loss  Instances       Size\n"
     ]
    },
    {
     "name": "stderr",
     "output_type": "stream",
     "text": [
      "     61/100      1.88G      0.101         10        224: 100%|██████████| 21/21 [00:00<00:00, 32.73it/s]\n",
      "               classes   top1_acc   top5_acc: 100%|██████████| 3/3 [00:00<00:00, 97.01it/s]"
     ]
    },
    {
     "name": "stdout",
     "output_type": "stream",
     "text": [
      "                   all      0.909          1\n"
     ]
    },
    {
     "name": "stderr",
     "output_type": "stream",
     "text": [
      "\n"
     ]
    },
    {
     "name": "stdout",
     "output_type": "stream",
     "text": [
      "\n",
      "      Epoch    GPU_mem       loss  Instances       Size\n"
     ]
    },
    {
     "name": "stderr",
     "output_type": "stream",
     "text": [
      "     62/100       1.9G     0.0837         10        224: 100%|██████████| 21/21 [00:00<00:00, 32.47it/s]\n",
      "               classes   top1_acc   top5_acc: 100%|██████████| 3/3 [00:00<00:00, 98.34it/s]"
     ]
    },
    {
     "name": "stdout",
     "output_type": "stream",
     "text": [
      "                   all      0.909          1\n"
     ]
    },
    {
     "name": "stderr",
     "output_type": "stream",
     "text": [
      "\n"
     ]
    },
    {
     "name": "stdout",
     "output_type": "stream",
     "text": [
      "\n",
      "      Epoch    GPU_mem       loss  Instances       Size\n"
     ]
    },
    {
     "name": "stderr",
     "output_type": "stream",
     "text": [
      "     63/100       1.9G    0.08289         10        224: 100%|██████████| 21/21 [00:00<00:00, 33.81it/s]\n",
      "               classes   top1_acc   top5_acc: 100%|██████████| 3/3 [00:00<00:00, 99.61it/s]"
     ]
    },
    {
     "name": "stdout",
     "output_type": "stream",
     "text": [
      "                   all      0.875          1\n"
     ]
    },
    {
     "name": "stderr",
     "output_type": "stream",
     "text": [
      "\n"
     ]
    },
    {
     "name": "stdout",
     "output_type": "stream",
     "text": [
      "\n",
      "      Epoch    GPU_mem       loss  Instances       Size\n"
     ]
    },
    {
     "name": "stderr",
     "output_type": "stream",
     "text": [
      "     64/100       1.9G    0.06292         10        224: 100%|██████████| 21/21 [00:00<00:00, 33.91it/s]\n",
      "               classes   top1_acc   top5_acc: 100%|██████████| 3/3 [00:00<00:00, 97.40it/s]"
     ]
    },
    {
     "name": "stdout",
     "output_type": "stream",
     "text": [
      "                   all      0.864          1\n"
     ]
    },
    {
     "name": "stderr",
     "output_type": "stream",
     "text": [
      "\n"
     ]
    },
    {
     "name": "stdout",
     "output_type": "stream",
     "text": [
      "\n",
      "      Epoch    GPU_mem       loss  Instances       Size\n"
     ]
    },
    {
     "name": "stderr",
     "output_type": "stream",
     "text": [
      "     65/100      1.88G    0.06704         10        224: 100%|██████████| 21/21 [00:00<00:00, 33.16it/s]\n",
      "               classes   top1_acc   top5_acc: 100%|██████████| 3/3 [00:00<00:00, 100.33it/s]"
     ]
    },
    {
     "name": "stdout",
     "output_type": "stream",
     "text": [
      "                   all      0.875          1\n"
     ]
    },
    {
     "name": "stderr",
     "output_type": "stream",
     "text": [
      "\n"
     ]
    },
    {
     "name": "stdout",
     "output_type": "stream",
     "text": [
      "\n",
      "      Epoch    GPU_mem       loss  Instances       Size\n"
     ]
    },
    {
     "name": "stderr",
     "output_type": "stream",
     "text": [
      "     66/100       1.9G    0.04983         10        224: 100%|██████████| 21/21 [00:00<00:00, 32.87it/s]\n",
      "               classes   top1_acc   top5_acc: 100%|██████████| 3/3 [00:00<00:00, 83.52it/s]"
     ]
    },
    {
     "name": "stdout",
     "output_type": "stream",
     "text": [
      "                   all      0.875          1\n"
     ]
    },
    {
     "name": "stderr",
     "output_type": "stream",
     "text": [
      "\n"
     ]
    },
    {
     "name": "stdout",
     "output_type": "stream",
     "text": [
      "\n",
      "      Epoch    GPU_mem       loss  Instances       Size\n"
     ]
    },
    {
     "name": "stderr",
     "output_type": "stream",
     "text": [
      "     67/100       1.9G    0.05593         10        224: 100%|██████████| 21/21 [00:00<00:00, 34.73it/s]\n",
      "               classes   top1_acc   top5_acc: 100%|██████████| 3/3 [00:00<00:00, 93.55it/s]"
     ]
    },
    {
     "name": "stdout",
     "output_type": "stream",
     "text": [
      "                   all      0.898          1\n"
     ]
    },
    {
     "name": "stderr",
     "output_type": "stream",
     "text": [
      "\n"
     ]
    },
    {
     "name": "stdout",
     "output_type": "stream",
     "text": [
      "\n",
      "      Epoch    GPU_mem       loss  Instances       Size\n"
     ]
    },
    {
     "name": "stderr",
     "output_type": "stream",
     "text": [
      "     68/100       1.9G     0.0627         10        224: 100%|██████████| 21/21 [00:00<00:00, 33.02it/s]\n",
      "               classes   top1_acc   top5_acc: 100%|██████████| 3/3 [00:00<00:00, 100.52it/s]"
     ]
    },
    {
     "name": "stdout",
     "output_type": "stream",
     "text": [
      "                   all      0.909          1\n"
     ]
    },
    {
     "name": "stderr",
     "output_type": "stream",
     "text": [
      "\n"
     ]
    },
    {
     "name": "stdout",
     "output_type": "stream",
     "text": [
      "\n",
      "      Epoch    GPU_mem       loss  Instances       Size\n"
     ]
    },
    {
     "name": "stderr",
     "output_type": "stream",
     "text": [
      "     69/100      1.88G    0.06194         10        224: 100%|██████████| 21/21 [00:00<00:00, 34.27it/s]\n",
      "               classes   top1_acc   top5_acc: 100%|██████████| 3/3 [00:00<00:00, 100.65it/s]"
     ]
    },
    {
     "name": "stdout",
     "output_type": "stream",
     "text": [
      "                   all      0.909          1\n"
     ]
    },
    {
     "name": "stderr",
     "output_type": "stream",
     "text": [
      "\n"
     ]
    },
    {
     "name": "stdout",
     "output_type": "stream",
     "text": [
      "\n",
      "      Epoch    GPU_mem       loss  Instances       Size\n"
     ]
    },
    {
     "name": "stderr",
     "output_type": "stream",
     "text": [
      "     70/100       1.9G    0.07114         10        224: 100%|██████████| 21/21 [00:00<00:00, 34.67it/s]\n",
      "               classes   top1_acc   top5_acc: 100%|██████████| 3/3 [00:00<00:00, 95.46it/s]"
     ]
    },
    {
     "name": "stdout",
     "output_type": "stream",
     "text": [
      "                   all      0.886          1\n"
     ]
    },
    {
     "name": "stderr",
     "output_type": "stream",
     "text": [
      "\n"
     ]
    },
    {
     "name": "stdout",
     "output_type": "stream",
     "text": [
      "\n",
      "      Epoch    GPU_mem       loss  Instances       Size\n"
     ]
    },
    {
     "name": "stderr",
     "output_type": "stream",
     "text": [
      "     71/100       1.9G    0.06347         10        224: 100%|██████████| 21/21 [00:00<00:00, 33.76it/s]\n",
      "               classes   top1_acc   top5_acc: 100%|██████████| 3/3 [00:00<00:00, 97.73it/s]"
     ]
    },
    {
     "name": "stdout",
     "output_type": "stream",
     "text": [
      "                   all      0.875          1\n"
     ]
    },
    {
     "name": "stderr",
     "output_type": "stream",
     "text": [
      "\n"
     ]
    },
    {
     "name": "stdout",
     "output_type": "stream",
     "text": [
      "\n",
      "      Epoch    GPU_mem       loss  Instances       Size\n"
     ]
    },
    {
     "name": "stderr",
     "output_type": "stream",
     "text": [
      "     72/100       1.9G     0.0406         10        224: 100%|██████████| 21/21 [00:00<00:00, 33.43it/s]\n",
      "               classes   top1_acc   top5_acc: 100%|██████████| 3/3 [00:00<00:00, 95.50it/s]"
     ]
    },
    {
     "name": "stdout",
     "output_type": "stream",
     "text": [
      "                   all      0.841          1\n"
     ]
    },
    {
     "name": "stderr",
     "output_type": "stream",
     "text": [
      "\n"
     ]
    },
    {
     "name": "stdout",
     "output_type": "stream",
     "text": [
      "\n",
      "      Epoch    GPU_mem       loss  Instances       Size\n"
     ]
    },
    {
     "name": "stderr",
     "output_type": "stream",
     "text": [
      "     73/100      1.88G     0.0733         10        224: 100%|██████████| 21/21 [00:00<00:00, 33.82it/s]\n",
      "               classes   top1_acc   top5_acc: 100%|██████████| 3/3 [00:00<00:00, 99.83it/s]"
     ]
    },
    {
     "name": "stdout",
     "output_type": "stream",
     "text": [
      "                   all      0.852          1\n"
     ]
    },
    {
     "name": "stderr",
     "output_type": "stream",
     "text": [
      "\n"
     ]
    },
    {
     "name": "stdout",
     "output_type": "stream",
     "text": [
      "\n",
      "      Epoch    GPU_mem       loss  Instances       Size\n"
     ]
    },
    {
     "name": "stderr",
     "output_type": "stream",
     "text": [
      "     74/100       1.9G    0.08901         10        224: 100%|██████████| 21/21 [00:00<00:00, 34.31it/s]\n",
      "               classes   top1_acc   top5_acc: 100%|██████████| 3/3 [00:00<00:00, 102.76it/s]"
     ]
    },
    {
     "name": "stdout",
     "output_type": "stream",
     "text": [
      "                   all      0.875          1\n"
     ]
    },
    {
     "name": "stderr",
     "output_type": "stream",
     "text": [
      "\n"
     ]
    },
    {
     "name": "stdout",
     "output_type": "stream",
     "text": [
      "\n",
      "      Epoch    GPU_mem       loss  Instances       Size\n"
     ]
    },
    {
     "name": "stderr",
     "output_type": "stream",
     "text": [
      "     75/100       1.9G    0.04387         10        224: 100%|██████████| 21/21 [00:00<00:00, 34.75it/s]\n",
      "               classes   top1_acc   top5_acc: 100%|██████████| 3/3 [00:00<00:00, 94.03it/s]"
     ]
    },
    {
     "name": "stdout",
     "output_type": "stream",
     "text": [
      "                   all      0.886          1\n"
     ]
    },
    {
     "name": "stderr",
     "output_type": "stream",
     "text": [
      "\n"
     ]
    },
    {
     "name": "stdout",
     "output_type": "stream",
     "text": [
      "\n",
      "      Epoch    GPU_mem       loss  Instances       Size\n"
     ]
    },
    {
     "name": "stderr",
     "output_type": "stream",
     "text": [
      "     76/100       1.9G    0.06968         10        224: 100%|██████████| 21/21 [00:00<00:00, 33.89it/s]\n",
      "               classes   top1_acc   top5_acc: 100%|██████████| 3/3 [00:00<00:00, 98.76it/s]"
     ]
    },
    {
     "name": "stdout",
     "output_type": "stream",
     "text": [
      "                   all      0.909          1\n"
     ]
    },
    {
     "name": "stderr",
     "output_type": "stream",
     "text": [
      "\n"
     ]
    },
    {
     "name": "stdout",
     "output_type": "stream",
     "text": [
      "\n",
      "      Epoch    GPU_mem       loss  Instances       Size\n"
     ]
    },
    {
     "name": "stderr",
     "output_type": "stream",
     "text": [
      "     77/100      1.88G    0.07003         10        224: 100%|██████████| 21/21 [00:00<00:00, 34.35it/s]\n",
      "               classes   top1_acc   top5_acc: 100%|██████████| 3/3 [00:00<00:00, 99.83it/s]"
     ]
    },
    {
     "name": "stdout",
     "output_type": "stream",
     "text": [
      "                   all       0.92          1\n"
     ]
    },
    {
     "name": "stderr",
     "output_type": "stream",
     "text": [
      "\n"
     ]
    },
    {
     "name": "stdout",
     "output_type": "stream",
     "text": [
      "\n",
      "      Epoch    GPU_mem       loss  Instances       Size\n"
     ]
    },
    {
     "name": "stderr",
     "output_type": "stream",
     "text": [
      "     78/100       1.9G    0.09696         10        224: 100%|██████████| 21/21 [00:00<00:00, 34.81it/s]\n",
      "               classes   top1_acc   top5_acc: 100%|██████████| 3/3 [00:00<00:00, 96.01it/s]"
     ]
    },
    {
     "name": "stdout",
     "output_type": "stream",
     "text": [
      "                   all      0.864          1\n"
     ]
    },
    {
     "name": "stderr",
     "output_type": "stream",
     "text": [
      "\n"
     ]
    },
    {
     "name": "stdout",
     "output_type": "stream",
     "text": [
      "\n",
      "      Epoch    GPU_mem       loss  Instances       Size\n"
     ]
    },
    {
     "name": "stderr",
     "output_type": "stream",
     "text": [
      "     79/100       1.9G    0.03543         10        224: 100%|██████████| 21/21 [00:00<00:00, 33.54it/s]\n",
      "               classes   top1_acc   top5_acc: 100%|██████████| 3/3 [00:00<00:00, 100.15it/s]"
     ]
    },
    {
     "name": "stdout",
     "output_type": "stream",
     "text": [
      "                   all      0.864          1\n"
     ]
    },
    {
     "name": "stderr",
     "output_type": "stream",
     "text": [
      "\n"
     ]
    },
    {
     "name": "stdout",
     "output_type": "stream",
     "text": [
      "\n",
      "      Epoch    GPU_mem       loss  Instances       Size\n"
     ]
    },
    {
     "name": "stderr",
     "output_type": "stream",
     "text": [
      "     80/100       1.9G    0.06175         10        224: 100%|██████████| 21/21 [00:00<00:00, 33.80it/s]\n",
      "               classes   top1_acc   top5_acc: 100%|██████████| 3/3 [00:00<00:00, 95.63it/s]"
     ]
    },
    {
     "name": "stdout",
     "output_type": "stream",
     "text": [
      "                   all      0.852          1\n"
     ]
    },
    {
     "name": "stderr",
     "output_type": "stream",
     "text": [
      "\n"
     ]
    },
    {
     "name": "stdout",
     "output_type": "stream",
     "text": [
      "\n",
      "      Epoch    GPU_mem       loss  Instances       Size\n"
     ]
    },
    {
     "name": "stderr",
     "output_type": "stream",
     "text": [
      "     81/100      1.88G    0.04791         10        224: 100%|██████████| 21/21 [00:00<00:00, 32.83it/s]\n",
      "               classes   top1_acc   top5_acc: 100%|██████████| 3/3 [00:00<00:00, 98.04it/s]"
     ]
    },
    {
     "name": "stdout",
     "output_type": "stream",
     "text": [
      "                   all      0.886          1\n"
     ]
    },
    {
     "name": "stderr",
     "output_type": "stream",
     "text": [
      "\n"
     ]
    },
    {
     "name": "stdout",
     "output_type": "stream",
     "text": [
      "\n",
      "      Epoch    GPU_mem       loss  Instances       Size\n"
     ]
    },
    {
     "name": "stderr",
     "output_type": "stream",
     "text": [
      "     82/100       1.9G    0.04229         10        224: 100%|██████████| 21/21 [00:00<00:00, 33.63it/s]\n",
      "               classes   top1_acc   top5_acc: 100%|██████████| 3/3 [00:00<00:00, 101.63it/s]"
     ]
    },
    {
     "name": "stdout",
     "output_type": "stream",
     "text": [
      "                   all      0.875          1\n"
     ]
    },
    {
     "name": "stderr",
     "output_type": "stream",
     "text": [
      "\n"
     ]
    },
    {
     "name": "stdout",
     "output_type": "stream",
     "text": [
      "\n",
      "      Epoch    GPU_mem       loss  Instances       Size\n"
     ]
    },
    {
     "name": "stderr",
     "output_type": "stream",
     "text": [
      "     83/100       1.9G    0.03962         10        224: 100%|██████████| 21/21 [00:00<00:00, 34.80it/s]\n",
      "               classes   top1_acc   top5_acc: 100%|██████████| 3/3 [00:00<00:00, 93.65it/s]"
     ]
    },
    {
     "name": "stdout",
     "output_type": "stream",
     "text": [
      "                   all      0.909          1\n"
     ]
    },
    {
     "name": "stderr",
     "output_type": "stream",
     "text": [
      "\n"
     ]
    },
    {
     "name": "stdout",
     "output_type": "stream",
     "text": [
      "\n",
      "      Epoch    GPU_mem       loss  Instances       Size\n"
     ]
    },
    {
     "name": "stderr",
     "output_type": "stream",
     "text": [
      "     84/100       1.9G    0.08135         10        224: 100%|██████████| 21/21 [00:00<00:00, 32.70it/s]\n",
      "               classes   top1_acc   top5_acc: 100%|██████████| 3/3 [00:00<00:00, 99.37it/s]"
     ]
    },
    {
     "name": "stdout",
     "output_type": "stream",
     "text": [
      "                   all      0.886          1\n"
     ]
    },
    {
     "name": "stderr",
     "output_type": "stream",
     "text": [
      "\n"
     ]
    },
    {
     "name": "stdout",
     "output_type": "stream",
     "text": [
      "\n",
      "      Epoch    GPU_mem       loss  Instances       Size\n"
     ]
    },
    {
     "name": "stderr",
     "output_type": "stream",
     "text": [
      "     85/100      1.88G    0.03792         10        224: 100%|██████████| 21/21 [00:00<00:00, 34.32it/s]\n",
      "               classes   top1_acc   top5_acc: 100%|██████████| 3/3 [00:00<00:00, 101.31it/s]"
     ]
    },
    {
     "name": "stdout",
     "output_type": "stream",
     "text": [
      "                   all      0.886          1\n"
     ]
    },
    {
     "name": "stderr",
     "output_type": "stream",
     "text": [
      "\n"
     ]
    },
    {
     "name": "stdout",
     "output_type": "stream",
     "text": [
      "\n",
      "      Epoch    GPU_mem       loss  Instances       Size\n"
     ]
    },
    {
     "name": "stderr",
     "output_type": "stream",
     "text": [
      "     86/100       1.9G    0.09262         10        224: 100%|██████████| 21/21 [00:00<00:00, 34.84it/s]\n",
      "               classes   top1_acc   top5_acc: 100%|██████████| 3/3 [00:00<00:00, 97.23it/s]"
     ]
    },
    {
     "name": "stdout",
     "output_type": "stream",
     "text": [
      "                   all      0.886          1\n"
     ]
    },
    {
     "name": "stderr",
     "output_type": "stream",
     "text": [
      "\n"
     ]
    },
    {
     "name": "stdout",
     "output_type": "stream",
     "text": [
      "\n",
      "      Epoch    GPU_mem       loss  Instances       Size\n"
     ]
    },
    {
     "name": "stderr",
     "output_type": "stream",
     "text": [
      "     87/100       1.9G     0.1235         10        224: 100%|██████████| 21/21 [00:00<00:00, 33.83it/s]\n",
      "               classes   top1_acc   top5_acc: 100%|██████████| 3/3 [00:00<00:00, 100.74it/s]"
     ]
    },
    {
     "name": "stdout",
     "output_type": "stream",
     "text": [
      "                   all      0.875          1\n"
     ]
    },
    {
     "name": "stderr",
     "output_type": "stream",
     "text": [
      "\n"
     ]
    },
    {
     "name": "stdout",
     "output_type": "stream",
     "text": [
      "\n",
      "      Epoch    GPU_mem       loss  Instances       Size\n"
     ]
    },
    {
     "name": "stderr",
     "output_type": "stream",
     "text": [
      "     88/100       1.9G    0.05017         10        224: 100%|██████████| 21/21 [00:00<00:00, 33.82it/s]\n",
      "               classes   top1_acc   top5_acc: 100%|██████████| 3/3 [00:00<00:00, 97.64it/s]"
     ]
    },
    {
     "name": "stdout",
     "output_type": "stream",
     "text": [
      "                   all      0.886          1\n"
     ]
    },
    {
     "name": "stderr",
     "output_type": "stream",
     "text": [
      "\n"
     ]
    },
    {
     "name": "stdout",
     "output_type": "stream",
     "text": [
      "\n",
      "      Epoch    GPU_mem       loss  Instances       Size\n"
     ]
    },
    {
     "name": "stderr",
     "output_type": "stream",
     "text": [
      "     89/100      1.88G    0.02241         10        224: 100%|██████████| 21/21 [00:00<00:00, 32.34it/s]\n",
      "               classes   top1_acc   top5_acc: 100%|██████████| 3/3 [00:00<00:00, 100.33it/s]"
     ]
    },
    {
     "name": "stdout",
     "output_type": "stream",
     "text": [
      "                   all      0.875          1\n"
     ]
    },
    {
     "name": "stderr",
     "output_type": "stream",
     "text": [
      "\n"
     ]
    },
    {
     "name": "stdout",
     "output_type": "stream",
     "text": [
      "\n",
      "      Epoch    GPU_mem       loss  Instances       Size\n"
     ]
    },
    {
     "name": "stderr",
     "output_type": "stream",
     "text": [
      "     90/100       1.9G    0.04254         10        224: 100%|██████████| 21/21 [00:00<00:00, 33.06it/s]\n",
      "               classes   top1_acc   top5_acc: 100%|██████████| 3/3 [00:00<00:00, 102.07it/s]"
     ]
    },
    {
     "name": "stdout",
     "output_type": "stream",
     "text": [
      "                   all      0.864          1\n"
     ]
    },
    {
     "name": "stderr",
     "output_type": "stream",
     "text": [
      "\n"
     ]
    },
    {
     "name": "stdout",
     "output_type": "stream",
     "text": [
      "\n",
      "      Epoch    GPU_mem       loss  Instances       Size\n"
     ]
    },
    {
     "name": "stderr",
     "output_type": "stream",
     "text": [
      "     91/100       1.9G    0.06974         10        224: 100%|██████████| 21/21 [00:00<00:00, 31.22it/s]\n",
      "               classes   top1_acc   top5_acc: 100%|██████████| 3/3 [00:00<00:00, 92.20it/s]"
     ]
    },
    {
     "name": "stdout",
     "output_type": "stream",
     "text": [
      "                   all      0.898          1\n"
     ]
    },
    {
     "name": "stderr",
     "output_type": "stream",
     "text": [
      "\n"
     ]
    },
    {
     "name": "stdout",
     "output_type": "stream",
     "text": [
      "\n",
      "      Epoch    GPU_mem       loss  Instances       Size\n"
     ]
    },
    {
     "name": "stderr",
     "output_type": "stream",
     "text": [
      "     92/100       1.9G    0.06488         10        224: 100%|██████████| 21/21 [00:00<00:00, 32.26it/s]\n",
      "               classes   top1_acc   top5_acc: 100%|██████████| 3/3 [00:00<00:00, 98.02it/s]"
     ]
    },
    {
     "name": "stdout",
     "output_type": "stream",
     "text": [
      "                   all      0.898          1\n"
     ]
    },
    {
     "name": "stderr",
     "output_type": "stream",
     "text": [
      "\n"
     ]
    },
    {
     "name": "stdout",
     "output_type": "stream",
     "text": [
      "\n",
      "      Epoch    GPU_mem       loss  Instances       Size\n"
     ]
    },
    {
     "name": "stderr",
     "output_type": "stream",
     "text": [
      "     93/100      1.88G    0.08898         10        224: 100%|██████████| 21/21 [00:00<00:00, 33.02it/s]\n",
      "               classes   top1_acc   top5_acc: 100%|██████████| 3/3 [00:00<00:00, 98.57it/s]"
     ]
    },
    {
     "name": "stdout",
     "output_type": "stream",
     "text": [
      "                   all      0.909          1\n"
     ]
    },
    {
     "name": "stderr",
     "output_type": "stream",
     "text": [
      "\n"
     ]
    },
    {
     "name": "stdout",
     "output_type": "stream",
     "text": [
      "\n",
      "      Epoch    GPU_mem       loss  Instances       Size\n"
     ]
    },
    {
     "name": "stderr",
     "output_type": "stream",
     "text": [
      "     94/100       1.9G    0.03913         10        224: 100%|██████████| 21/21 [00:00<00:00, 31.83it/s]\n",
      "               classes   top1_acc   top5_acc: 100%|██████████| 3/3 [00:00<00:00, 97.66it/s]"
     ]
    },
    {
     "name": "stdout",
     "output_type": "stream",
     "text": [
      "                   all       0.92          1\n"
     ]
    },
    {
     "name": "stderr",
     "output_type": "stream",
     "text": [
      "\n"
     ]
    },
    {
     "name": "stdout",
     "output_type": "stream",
     "text": [
      "\n",
      "      Epoch    GPU_mem       loss  Instances       Size\n"
     ]
    },
    {
     "name": "stderr",
     "output_type": "stream",
     "text": [
      "     95/100       1.9G    0.05834         10        224: 100%|██████████| 21/21 [00:00<00:00, 32.53it/s]\n",
      "               classes   top1_acc   top5_acc: 100%|██████████| 3/3 [00:00<00:00, 96.68it/s]"
     ]
    },
    {
     "name": "stdout",
     "output_type": "stream",
     "text": [
      "                   all      0.909          1\n"
     ]
    },
    {
     "name": "stderr",
     "output_type": "stream",
     "text": [
      "\n"
     ]
    },
    {
     "name": "stdout",
     "output_type": "stream",
     "text": [
      "\n",
      "      Epoch    GPU_mem       loss  Instances       Size\n"
     ]
    },
    {
     "name": "stderr",
     "output_type": "stream",
     "text": [
      "     96/100       1.9G    0.05718         10        224: 100%|██████████| 21/21 [00:00<00:00, 31.90it/s]\n",
      "               classes   top1_acc   top5_acc: 100%|██████████| 3/3 [00:00<00:00, 98.06it/s]"
     ]
    },
    {
     "name": "stdout",
     "output_type": "stream",
     "text": [
      "                   all      0.909          1\n"
     ]
    },
    {
     "name": "stderr",
     "output_type": "stream",
     "text": [
      "\n"
     ]
    },
    {
     "name": "stdout",
     "output_type": "stream",
     "text": [
      "\n",
      "      Epoch    GPU_mem       loss  Instances       Size\n"
     ]
    },
    {
     "name": "stderr",
     "output_type": "stream",
     "text": [
      "     97/100      1.88G    0.05603         10        224: 100%|██████████| 21/21 [00:00<00:00, 32.54it/s]\n",
      "               classes   top1_acc   top5_acc: 100%|██████████| 3/3 [00:00<00:00, 97.74it/s]"
     ]
    },
    {
     "name": "stdout",
     "output_type": "stream",
     "text": [
      "                   all      0.909          1\n"
     ]
    },
    {
     "name": "stderr",
     "output_type": "stream",
     "text": [
      "\n"
     ]
    },
    {
     "name": "stdout",
     "output_type": "stream",
     "text": [
      "\n",
      "      Epoch    GPU_mem       loss  Instances       Size\n"
     ]
    },
    {
     "name": "stderr",
     "output_type": "stream",
     "text": [
      "     98/100       1.9G    0.04743         10        224: 100%|██████████| 21/21 [00:00<00:00, 32.76it/s]\n",
      "               classes   top1_acc   top5_acc: 100%|██████████| 3/3 [00:00<00:00, 97.60it/s]"
     ]
    },
    {
     "name": "stdout",
     "output_type": "stream",
     "text": [
      "                   all      0.875          1\n"
     ]
    },
    {
     "name": "stderr",
     "output_type": "stream",
     "text": [
      "\n"
     ]
    },
    {
     "name": "stdout",
     "output_type": "stream",
     "text": [
      "\n",
      "      Epoch    GPU_mem       loss  Instances       Size\n"
     ]
    },
    {
     "name": "stderr",
     "output_type": "stream",
     "text": [
      "     99/100       1.9G    0.05008         10        224: 100%|██████████| 21/21 [00:00<00:00, 31.24it/s]\n",
      "               classes   top1_acc   top5_acc: 100%|██████████| 3/3 [00:00<00:00, 82.11it/s]"
     ]
    },
    {
     "name": "stdout",
     "output_type": "stream",
     "text": [
      "                   all      0.898          1\n"
     ]
    },
    {
     "name": "stderr",
     "output_type": "stream",
     "text": [
      "\n"
     ]
    },
    {
     "name": "stdout",
     "output_type": "stream",
     "text": [
      "\n",
      "      Epoch    GPU_mem       loss  Instances       Size\n"
     ]
    },
    {
     "name": "stderr",
     "output_type": "stream",
     "text": [
      "    100/100       1.9G    0.03872         10        224: 100%|██████████| 21/21 [00:00<00:00, 32.10it/s]\n",
      "               classes   top1_acc   top5_acc: 100%|██████████| 3/3 [00:00<00:00, 94.54it/s]"
     ]
    },
    {
     "name": "stdout",
     "output_type": "stream",
     "text": [
      "                   all      0.909          1\n"
     ]
    },
    {
     "name": "stderr",
     "output_type": "stream",
     "text": [
      "\n"
     ]
    },
    {
     "name": "stdout",
     "output_type": "stream",
     "text": [
      "\n",
      "100 epochs completed in 0.031 hours.\n",
      "Optimizer stripped from runs/classify/train113/weights/last.pt, 31.7MB\n",
      "Optimizer stripped from runs/classify/train113/weights/best.pt, 31.7MB\n",
      "\n",
      "Validating runs/classify/train113/weights/best.pt...\n",
      "Ultralytics 8.3.73 🚀 Python-3.10.12 torch-2.6.0+cu124 CUDA:0 (NVIDIA GeForce RTX 4090, 24210MiB)\n",
      "YOLOv8m-cls summary (fused): 103 layers, 15,765,218 parameters, 0 gradients, 41.6 GFLOPs\n",
      "\u001b[34m\u001b[1mtrain:\u001b[0m /home/jupyter/classifications/satellite_poolhaving/train... found 330 images in 2 classes ✅ \n",
      "\u001b[34m\u001b[1mval:\u001b[0m /home/jupyter/classifications/satellite_poolhaving/val... found 88 images in 2 classes ✅ \n",
      "\u001b[34m\u001b[1mtest:\u001b[0m /home/jupyter/classifications/satellite_poolhaving/test... found 2742 images in 2 classes ✅ \n"
     ]
    },
    {
     "name": "stderr",
     "output_type": "stream",
     "text": [
      "               classes   top1_acc   top5_acc: 100%|██████████| 3/3 [00:00<00:00, 90.63it/s]\n"
     ]
    },
    {
     "name": "stdout",
     "output_type": "stream",
     "text": [
      "                   all      0.932          1\n",
      "Speed: 0.0ms preprocess, 0.3ms inference, 0.0ms loss, 0.0ms postprocess per image\n",
      "Results saved to \u001b[1mruns/classify/train113\u001b[0m\n"
     ]
    },
    {
     "data": {
      "text/plain": [
       "ultralytics.utils.metrics.ClassifyMetrics object with attributes:\n",
       "\n",
       "confusion_matrix: <ultralytics.utils.metrics.ConfusionMatrix object at 0x7d73ac8da470>\n",
       "curves: []\n",
       "curves_results: []\n",
       "fitness: 0.9659090936183929\n",
       "keys: ['metrics/accuracy_top1', 'metrics/accuracy_top5']\n",
       "results_dict: {'metrics/accuracy_top1': 0.9318181872367859, 'metrics/accuracy_top5': 1.0, 'fitness': 0.9659090936183929}\n",
       "save_dir: PosixPath('runs/classify/train113')\n",
       "speed: {'preprocess': 0.04405866969715465, 'inference': 0.28644908558238635, 'loss': 0.0003738836808638139, 'postprocess': 0.0004253604195334695}\n",
       "task: 'classify'\n",
       "top1: 0.9318181872367859\n",
       "top5: 1.0"
      ]
     },
     "execution_count": 384,
     "metadata": {},
     "output_type": "execute_result"
    }
   ],
   "source": [
    "#modelPath = \"runs/classify/train21/weights/best.pt\"\n",
    "\n",
    "#poolModel = YOLO(\"yolov8m-cls.pt\") #uncomment to restart training\n",
    "poolModel.train(data=\"classifications/satellite_poolhaving\", epochs = 100, degrees = 90, flipud = 0.0, fliplr = 0.0, translate = 0.3, hsv_v=0.5)"
   ]
  },
  {
   "cell_type": "code",
   "execution_count": 385,
   "metadata": {},
   "outputs": [],
   "source": [
    "modelPath = \"runs/classify/train113/weights/best.pt\"\n",
    "poolModel = YOLO(modelPath)"
   ]
  },
  {
   "cell_type": "code",
   "execution_count": 386,
   "metadata": {
    "scrolled": true
   },
   "outputs": [
    {
     "name": "stdout",
     "output_type": "stream",
     "text": [
      "done! analyzed 12 pool images and 2730 non pool images.\n"
     ]
    }
   ],
   "source": [
    "from IPython.display import clear_output\n",
    "\n",
    "poolTestResults = poolModel.predict(\"classifications/satellite_poolhaving/test/pool\")\n",
    "nopoolTestResults = poolModel.predict(\"classifications/satellite_poolhaving/test/no_pool\")\n",
    "\n",
    "clear_output(wait=True)\n",
    "print(f\"done! analyzed {len(poolTestResults)} pool images and {len(nopoolTestResults)} non pool images.\")\n"
   ]
  },
  {
   "cell_type": "code",
   "execution_count": 387,
   "metadata": {
    "scrolled": true
   },
   "outputs": [
    {
     "name": "stdout",
     "output_type": "stream",
     "text": [
      "Accuracy: 2599/2742 = 0.948\n",
      "Precision: 0.066\n",
      "Recall: 0.833\n",
      "F1 Score: 0.123\n",
      "---\n",
      "True Positives: 10, False Positives: 141, True Negatives: 2589, False Negatives: 2\n"
     ]
    }
   ],
   "source": [
    "analyzeTestData(poolTestResults, nopoolTestResults, 'pool', 'no_pool')"
   ]
  },
  {
   "cell_type": "code",
   "execution_count": 224,
   "metadata": {},
   "outputs": [],
   "source": [
    "def analyzeTestData(positiveTestResults, negativeTestResults, positiveCategory, negativeCategory):\n",
    "    truePositives = 0\n",
    "    falsePositives = 0\n",
    "    trueNegatives = 0\n",
    "    falseNegatives = 0\n",
    "    totalTests = 0\n",
    "    \n",
    "    for result in positiveTestResults:\n",
    "        if(result.names[result.probs.top1] == positiveCategory):\n",
    "            truePositives += 1\n",
    "        else:\n",
    "            falseNegatives += 1\n",
    "        totalTests += 1\n",
    "    \n",
    "    for result in negativeTestResults:\n",
    "        if(result.names[result.probs.top1] == negativeCategory):\n",
    "            trueNegatives += 1\n",
    "        else:\n",
    "            falsePositives += 1\n",
    "        totalTests += 1\n",
    "\n",
    "    correctTests = truePositives + trueNegatives\n",
    "    accuracy = correctTests/totalTests\n",
    "\n",
    "    precision = truePositives/(truePositives + falsePositives)\n",
    "\n",
    "    recall = truePositives/(truePositives + falseNegatives)\n",
    "\n",
    "    f1score = 2 * (precision * recall)/(precision + recall)\n",
    "\n",
    "    print(f\"Accuracy: {correctTests}/{totalTests} = {round(accuracy, 3)}\")\n",
    "    print(f\"Precision: {round(precision, 3)}\")\n",
    "    print(f\"Recall: {round(recall, 3)}\")\n",
    "    print(f\"F1 Score: {round(f1score, 3)}\")\n",
    "\n",
    "    print(f\"---\\nTrue Positives: {truePositives}, False Positives: {falsePositives}, True Negatives: {trueNegatives}, False Negatives: {falseNegatives}\")\n"
   ]
  },
  {
   "cell_type": "markdown",
   "metadata": {
    "jp-MarkdownHeadingCollapsed": true
   },
   "source": [
    "# City classification model"
   ]
  },
  {
   "cell_type": "code",
   "execution_count": null,
   "metadata": {
    "editable": true,
    "slideshow": {
     "slide_type": ""
    },
    "tags": []
   },
   "outputs": [],
   "source": [
    "#cityModel = YOLO(\"yolov8m-cls.pt\")\n",
    "cityModel.train(data=\"classifications/chi_vs_ind\", epochs = 5, device=[0, 1])"
   ]
  },
  {
   "cell_type": "code",
   "execution_count": 115,
   "metadata": {
    "editable": true,
    "slideshow": {
     "slide_type": ""
    },
    "tags": []
   },
   "outputs": [
    {
     "name": "stdout",
     "output_type": "stream",
     "text": [
      "\n",
      "image 1/46 /home/jupyter/classifications/chi_vs_ind/test/chicago/v10009_chicago.png: 224x224 chicago 1.00, indianapolis 0.00, .ipynb_checkpoints 0.00, 2.6ms\n",
      "image 2/46 /home/jupyter/classifications/chi_vs_ind/test/chicago/v10020_chicago.png: 224x224 chicago 1.00, indianapolis 0.00, .ipynb_checkpoints 0.00, 2.6ms\n",
      "image 3/46 /home/jupyter/classifications/chi_vs_ind/test/chicago/v10035_chicago.png: 224x224 chicago 1.00, indianapolis 0.00, .ipynb_checkpoints 0.00, 2.5ms\n",
      "image 4/46 /home/jupyter/classifications/chi_vs_ind/test/chicago/v10069_chicago.png: 224x224 chicago 1.00, indianapolis 0.00, .ipynb_checkpoints 0.00, 2.5ms\n",
      "image 5/46 /home/jupyter/classifications/chi_vs_ind/test/chicago/v10107_chicago.png: 224x224 chicago 1.00, indianapolis 0.00, .ipynb_checkpoints 0.00, 2.5ms\n",
      "image 6/46 /home/jupyter/classifications/chi_vs_ind/test/chicago/v10110_chicago.png: 224x224 chicago 1.00, indianapolis 0.00, .ipynb_checkpoints 0.00, 2.5ms\n",
      "image 7/46 /home/jupyter/classifications/chi_vs_ind/test/chicago/v10118_chicago.png: 224x224 chicago 0.99, indianapolis 0.01, .ipynb_checkpoints 0.00, 2.5ms\n",
      "image 8/46 /home/jupyter/classifications/chi_vs_ind/test/chicago/v10123_chicago.png: 224x224 chicago 1.00, indianapolis 0.00, .ipynb_checkpoints 0.00, 2.5ms\n",
      "image 9/46 /home/jupyter/classifications/chi_vs_ind/test/chicago/v10129_chicago.png: 224x224 chicago 1.00, indianapolis 0.00, .ipynb_checkpoints 0.00, 2.5ms\n",
      "image 10/46 /home/jupyter/classifications/chi_vs_ind/test/chicago/v10170_chicago.png: 224x224 chicago 1.00, indianapolis 0.00, .ipynb_checkpoints 0.00, 2.5ms\n",
      "image 11/46 /home/jupyter/classifications/chi_vs_ind/test/chicago/v10171_chicago.png: 224x224 chicago 1.00, indianapolis 0.00, .ipynb_checkpoints 0.00, 2.5ms\n",
      "image 12/46 /home/jupyter/classifications/chi_vs_ind/test/chicago/v10189_chicago.png: 224x224 chicago 1.00, indianapolis 0.00, .ipynb_checkpoints 0.00, 2.5ms\n",
      "image 13/46 /home/jupyter/classifications/chi_vs_ind/test/chicago/v10201_chicago.png: 224x224 chicago 1.00, indianapolis 0.00, .ipynb_checkpoints 0.00, 2.5ms\n",
      "image 14/46 /home/jupyter/classifications/chi_vs_ind/test/chicago/v10221_chicago.png: 224x224 chicago 1.00, indianapolis 0.00, .ipynb_checkpoints 0.00, 2.5ms\n",
      "image 15/46 /home/jupyter/classifications/chi_vs_ind/test/chicago/v10224_chicago.png: 224x224 chicago 0.95, indianapolis 0.05, .ipynb_checkpoints 0.00, 2.5ms\n",
      "image 16/46 /home/jupyter/classifications/chi_vs_ind/test/chicago/v10240_chicago.png: 224x224 chicago 1.00, indianapolis 0.00, .ipynb_checkpoints 0.00, 2.5ms\n",
      "image 17/46 /home/jupyter/classifications/chi_vs_ind/test/chicago/v10252_chicago.png: 224x224 chicago 1.00, indianapolis 0.00, .ipynb_checkpoints 0.00, 2.5ms\n",
      "image 18/46 /home/jupyter/classifications/chi_vs_ind/test/chicago/v10258_chicago.png: 224x224 chicago 1.00, indianapolis 0.00, .ipynb_checkpoints 0.00, 2.5ms\n",
      "image 19/46 /home/jupyter/classifications/chi_vs_ind/test/chicago/v10261_chicago.png: 224x224 indianapolis 0.99, chicago 0.01, .ipynb_checkpoints 0.00, 2.5ms\n",
      "image 20/46 /home/jupyter/classifications/chi_vs_ind/test/chicago/v10268_chicago.png: 224x224 chicago 1.00, indianapolis 0.00, .ipynb_checkpoints 0.00, 2.5ms\n",
      "image 21/46 /home/jupyter/classifications/chi_vs_ind/test/chicago/v10269_chicago.png: 224x224 chicago 1.00, indianapolis 0.00, .ipynb_checkpoints 0.00, 2.5ms\n",
      "image 22/46 /home/jupyter/classifications/chi_vs_ind/test/chicago/v10311_chicago.png: 224x224 chicago 1.00, indianapolis 0.00, .ipynb_checkpoints 0.00, 2.5ms\n",
      "image 23/46 /home/jupyter/classifications/chi_vs_ind/test/chicago/v10316_chicago.png: 224x224 chicago 1.00, indianapolis 0.00, .ipynb_checkpoints 0.00, 2.5ms\n",
      "image 24/46 /home/jupyter/classifications/chi_vs_ind/test/chicago/v10338_chicago.png: 224x224 chicago 0.96, indianapolis 0.04, .ipynb_checkpoints 0.00, 2.5ms\n",
      "image 25/46 /home/jupyter/classifications/chi_vs_ind/test/chicago/v10355_chicago.png: 224x224 chicago 1.00, indianapolis 0.00, .ipynb_checkpoints 0.00, 2.5ms\n",
      "image 26/46 /home/jupyter/classifications/chi_vs_ind/test/chicago/v10365_chicago.png: 224x224 chicago 1.00, indianapolis 0.00, .ipynb_checkpoints 0.00, 2.5ms\n",
      "image 27/46 /home/jupyter/classifications/chi_vs_ind/test/chicago/v10371_chicago.png: 224x224 chicago 1.00, indianapolis 0.00, .ipynb_checkpoints 0.00, 2.5ms\n",
      "image 28/46 /home/jupyter/classifications/chi_vs_ind/test/chicago/v10387_chicago.png: 224x224 chicago 1.00, indianapolis 0.00, .ipynb_checkpoints 0.00, 2.5ms\n",
      "image 29/46 /home/jupyter/classifications/chi_vs_ind/test/chicago/v10393_chicago.png: 224x224 chicago 1.00, indianapolis 0.00, .ipynb_checkpoints 0.00, 2.5ms\n",
      "image 30/46 /home/jupyter/classifications/chi_vs_ind/test/chicago/v10398_chicago.png: 224x224 chicago 1.00, .ipynb_checkpoints 0.00, indianapolis 0.00, 2.5ms\n",
      "image 31/46 /home/jupyter/classifications/chi_vs_ind/test/chicago/v10409_chicago.png: 224x224 chicago 1.00, indianapolis 0.00, .ipynb_checkpoints 0.00, 2.5ms\n",
      "image 32/46 /home/jupyter/classifications/chi_vs_ind/test/chicago/v10424_chicago.png: 224x224 chicago 1.00, indianapolis 0.00, .ipynb_checkpoints 0.00, 2.5ms\n",
      "image 33/46 /home/jupyter/classifications/chi_vs_ind/test/chicago/v10425_chicago.png: 224x224 chicago 0.98, indianapolis 0.02, .ipynb_checkpoints 0.00, 2.5ms\n",
      "image 34/46 /home/jupyter/classifications/chi_vs_ind/test/chicago/v10427_chicago.png: 224x224 chicago 1.00, indianapolis 0.00, .ipynb_checkpoints 0.00, 2.5ms\n",
      "image 35/46 /home/jupyter/classifications/chi_vs_ind/test/chicago/v10443_chicago.png: 224x224 chicago 1.00, indianapolis 0.00, .ipynb_checkpoints 0.00, 2.5ms\n",
      "image 36/46 /home/jupyter/classifications/chi_vs_ind/test/chicago/v10447_chicago.png: 224x224 chicago 0.97, indianapolis 0.03, .ipynb_checkpoints 0.00, 2.5ms\n",
      "image 37/46 /home/jupyter/classifications/chi_vs_ind/test/chicago/v10455_chicago.png: 224x224 chicago 1.00, indianapolis 0.00, .ipynb_checkpoints 0.00, 2.5ms\n",
      "image 38/46 /home/jupyter/classifications/chi_vs_ind/test/chicago/v10469_chicago.png: 224x224 chicago 0.97, indianapolis 0.03, .ipynb_checkpoints 0.00, 2.5ms\n",
      "image 39/46 /home/jupyter/classifications/chi_vs_ind/test/chicago/v10470_chicago.png: 224x224 chicago 1.00, indianapolis 0.00, .ipynb_checkpoints 0.00, 2.5ms\n",
      "image 40/46 /home/jupyter/classifications/chi_vs_ind/test/chicago/v10473_chicago.png: 224x224 chicago 1.00, indianapolis 0.00, .ipynb_checkpoints 0.00, 2.5ms\n",
      "image 41/46 /home/jupyter/classifications/chi_vs_ind/test/chicago/v10479_chicago.png: 224x224 indianapolis 0.98, chicago 0.02, .ipynb_checkpoints 0.00, 2.5ms\n",
      "image 42/46 /home/jupyter/classifications/chi_vs_ind/test/chicago/v10480_chicago.png: 224x224 chicago 1.00, indianapolis 0.00, .ipynb_checkpoints 0.00, 2.5ms\n",
      "image 43/46 /home/jupyter/classifications/chi_vs_ind/test/chicago/v10484_chicago.png: 224x224 chicago 1.00, indianapolis 0.00, .ipynb_checkpoints 0.00, 2.5ms\n",
      "image 44/46 /home/jupyter/classifications/chi_vs_ind/test/chicago/v10495_chicago.png: 224x224 chicago 1.00, indianapolis 0.00, .ipynb_checkpoints 0.00, 2.5ms\n",
      "image 45/46 /home/jupyter/classifications/chi_vs_ind/test/chicago/v10498_chicago.png: 224x224 chicago 1.00, indianapolis 0.00, .ipynb_checkpoints 0.00, 2.5ms\n",
      "image 46/46 /home/jupyter/classifications/chi_vs_ind/test/chicago/v10499_chicago.png: 224x224 chicago 1.00, .ipynb_checkpoints 0.00, indianapolis 0.00, 2.5ms\n",
      "Speed: 2.6ms preprocess, 2.5ms inference, 0.0ms postprocess per image at shape (1, 3, 224, 224)\n",
      "\n",
      "image 1/25 /home/jupyter/classifications/chi_vs_ind/test/indianapolis/v20019_indianapolis.png: 224x224 indianapolis 1.00, chicago 0.00, .ipynb_checkpoints 0.00, 2.5ms\n",
      "image 2/25 /home/jupyter/classifications/chi_vs_ind/test/indianapolis/v20028_indianapolis.png: 224x224 indianapolis 1.00, chicago 0.00, .ipynb_checkpoints 0.00, 2.5ms\n",
      "image 3/25 /home/jupyter/classifications/chi_vs_ind/test/indianapolis/v20043_indianapolis.png: 224x224 indianapolis 1.00, chicago 0.00, .ipynb_checkpoints 0.00, 2.5ms\n",
      "image 4/25 /home/jupyter/classifications/chi_vs_ind/test/indianapolis/v20053_indianapolis.png: 224x224 indianapolis 1.00, chicago 0.00, .ipynb_checkpoints 0.00, 2.5ms\n",
      "image 5/25 /home/jupyter/classifications/chi_vs_ind/test/indianapolis/v20100_indianapolis.png: 224x224 indianapolis 1.00, chicago 0.00, .ipynb_checkpoints 0.00, 2.5ms\n",
      "image 6/25 /home/jupyter/classifications/chi_vs_ind/test/indianapolis/v20105_indianapolis.png: 224x224 indianapolis 1.00, chicago 0.00, .ipynb_checkpoints 0.00, 2.5ms\n",
      "image 7/25 /home/jupyter/classifications/chi_vs_ind/test/indianapolis/v20114_indianapolis.png: 224x224 indianapolis 1.00, chicago 0.00, .ipynb_checkpoints 0.00, 2.5ms\n",
      "image 8/25 /home/jupyter/classifications/chi_vs_ind/test/indianapolis/v20134_indianapolis.png: 224x224 indianapolis 1.00, chicago 0.00, .ipynb_checkpoints 0.00, 2.5ms\n",
      "image 9/25 /home/jupyter/classifications/chi_vs_ind/test/indianapolis/v20143_indianapolis.png: 224x224 indianapolis 1.00, chicago 0.00, .ipynb_checkpoints 0.00, 2.5ms\n",
      "image 10/25 /home/jupyter/classifications/chi_vs_ind/test/indianapolis/v20145_indianapolis.png: 224x224 indianapolis 1.00, chicago 0.00, .ipynb_checkpoints 0.00, 2.5ms\n",
      "image 11/25 /home/jupyter/classifications/chi_vs_ind/test/indianapolis/v20146_indianapolis.png: 224x224 indianapolis 1.00, chicago 0.00, .ipynb_checkpoints 0.00, 2.5ms\n",
      "image 12/25 /home/jupyter/classifications/chi_vs_ind/test/indianapolis/v20148_indianapolis.png: 224x224 indianapolis 0.91, chicago 0.09, .ipynb_checkpoints 0.00, 2.5ms\n",
      "image 13/25 /home/jupyter/classifications/chi_vs_ind/test/indianapolis/v20170_indianapolis.png: 224x224 indianapolis 1.00, chicago 0.00, .ipynb_checkpoints 0.00, 2.5ms\n",
      "image 14/25 /home/jupyter/classifications/chi_vs_ind/test/indianapolis/v20183_indianapolis.png: 224x224 indianapolis 1.00, chicago 0.00, .ipynb_checkpoints 0.00, 2.5ms\n",
      "image 15/25 /home/jupyter/classifications/chi_vs_ind/test/indianapolis/v20207_indianapolis.png: 224x224 indianapolis 1.00, chicago 0.00, .ipynb_checkpoints 0.00, 2.5ms\n",
      "image 16/25 /home/jupyter/classifications/chi_vs_ind/test/indianapolis/v20213_indianapolis.png: 224x224 indianapolis 1.00, chicago 0.00, .ipynb_checkpoints 0.00, 2.5ms\n",
      "image 17/25 /home/jupyter/classifications/chi_vs_ind/test/indianapolis/v20214_indianapolis.png: 224x224 indianapolis 1.00, chicago 0.00, .ipynb_checkpoints 0.00, 2.5ms\n",
      "image 18/25 /home/jupyter/classifications/chi_vs_ind/test/indianapolis/v20215_indianapolis.png: 224x224 indianapolis 1.00, chicago 0.00, .ipynb_checkpoints 0.00, 2.5ms\n",
      "image 19/25 /home/jupyter/classifications/chi_vs_ind/test/indianapolis/v20217_indianapolis.png: 224x224 indianapolis 1.00, chicago 0.00, .ipynb_checkpoints 0.00, 2.5ms\n",
      "image 20/25 /home/jupyter/classifications/chi_vs_ind/test/indianapolis/v20233_indianapolis.png: 224x224 indianapolis 1.00, chicago 0.00, .ipynb_checkpoints 0.00, 2.5ms\n",
      "image 21/25 /home/jupyter/classifications/chi_vs_ind/test/indianapolis/v20236_indianapolis.png: 224x224 indianapolis 1.00, chicago 0.00, .ipynb_checkpoints 0.00, 2.5ms\n",
      "image 22/25 /home/jupyter/classifications/chi_vs_ind/test/indianapolis/v20241_indianapolis.png: 224x224 indianapolis 1.00, chicago 0.00, .ipynb_checkpoints 0.00, 2.5ms\n",
      "image 23/25 /home/jupyter/classifications/chi_vs_ind/test/indianapolis/v20244_indianapolis.png: 224x224 indianapolis 1.00, chicago 0.00, .ipynb_checkpoints 0.00, 2.5ms\n",
      "image 24/25 /home/jupyter/classifications/chi_vs_ind/test/indianapolis/v20254_indianapolis.png: 224x224 indianapolis 0.99, chicago 0.01, .ipynb_checkpoints 0.00, 2.5ms\n",
      "image 25/25 /home/jupyter/classifications/chi_vs_ind/test/indianapolis/v20260_indianapolis.png: 224x224 indianapolis 1.00, chicago 0.00, .ipynb_checkpoints 0.00, 2.5ms\n",
      "Speed: 3.1ms preprocess, 2.5ms inference, 0.0ms postprocess per image at shape (1, 3, 224, 224)\n"
     ]
    }
   ],
   "source": [
    "'''\n",
    "cityModel = YOLO('runs/classify/train62/weights/best.pt')\n",
    "\n",
    "paths =  [streetviewImageFilePathHeader + path + \".png\" for path in chicagoDataFrame.loc[60:80, 'StreetviewImageName']]\n",
    "paths += [streetviewImageFilePathHeader + path + \".png\" for path in indianapolisDataFrame.loc[60:80, 'StreetviewImageName']]\n",
    "\n",
    "results = cityModel.predict(paths)\n",
    "\n",
    "for i in range(len(paths)):\n",
    "    result = results[i]\n",
    "    print(\"for image \", paths[i], \" model predicted\", result.names[result.probs.top1], \" with confidence \", round(result.probs.top1conf.item(), 3))\n",
    "'''\n",
    "\n",
    "cityModel = YOLO('runs/classify/train16/weights/best.pt')\n",
    "\n",
    "results = cityModel.predict('classifications/chi_vs_ind/test/chicago')\n",
    "results += cityModel.predict('classifications/chi_vs_ind/test/indianapolis')\n"
   ]
  },
  {
   "cell_type": "markdown",
   "metadata": {
    "jp-MarkdownHeadingCollapsed": true
   },
   "source": [
    "# Untrained YOLO v8 detection"
   ]
  },
  {
   "cell_type": "code",
   "execution_count": null,
   "metadata": {
    "editable": true,
    "slideshow": {
     "slide_type": ""
    },
    "tags": []
   },
   "outputs": [],
   "source": [
    "detectionModel = YOLO(\"yolov8m.pt\")\n",
    "\n",
    "paths = [streetviewImageFilePathHeader + path + \".png\" for path in indianapolisDataFrame.loc[:100, 'StreetviewImageName']]\n",
    "results = model.predict(paths)\n",
    "for result in results:\n",
    "    if len(result.boxes) > 0:\n",
    "        print(\"---\")\n",
    "        print(\"Found in \", result.path)\n",
    "        for box in result.boxes:\n",
    "            print(\"---\")\n",
    "            cords = box.xyxy[0].tolist()\n",
    "            cords = [round(x, 1) for x in cords] # rounds each coordinate\n",
    "            class_id = result.names[box.cls[0].item()] # gets the name of identified object from dictionary of all objects YOLO can identify\n",
    "            conf = round(box.conf[0].item(), 2) # rounds to 2 digits\n",
    "            \n",
    "            print(\"Object type:\", class_id)\n",
    "            print(\"Coordinates:\", cords)\n",
    "            print(\"Probability:\", conf)\n",
    "            \n",
    "        result.save(\"object_detection_results/\" + result.path)\n",
    "            "
   ]
  },
  {
   "cell_type": "markdown",
   "metadata": {
    "jp-MarkdownHeadingCollapsed": true
   },
   "source": [
    "# Detection Model \n",
    "(old, data set too small and annoying to create)"
   ]
  },
  {
   "cell_type": "code",
   "execution_count": null,
   "metadata": {},
   "outputs": [],
   "source": [
    "#training detection model\n",
    "model = YOLO(\"yolov8m.pt\")\n",
    "model.train(data=r\"./detection_datasets/data.yaml\", epochs = 200)"
   ]
  },
  {
   "cell_type": "code",
   "execution_count": null,
   "metadata": {},
   "outputs": [],
   "source": [
    "abandonnessModel = YOLO(\"runs/detect/train15/weights/best.pt\")\n",
    "\n",
    "results = abandonnessModel.predict(\"streetview_images/v10070.png\")\n",
    "results[0]"
   ]
  },
  {
   "cell_type": "code",
   "execution_count": null,
   "metadata": {},
   "outputs": [],
   "source": [
    "paths = [streetviewImageFilePathHeader + path + \".png\" for path in chicagoDataFrame.loc[100:130, 'StreetviewImageName']]\n",
    "results = abandonnessModel.predict(paths)"
   ]
  },
  {
   "cell_type": "code",
   "execution_count": null,
   "metadata": {},
   "outputs": [],
   "source": [
    "\n",
    "for i in range(len(results)):\n",
    "    result = results[i]\n",
    "    for box in result.boxes:\n",
    "        print(\"---\")\n",
    "        cords = box.xyxy[0].tolist()\n",
    "        cords = [round(x, 1) for x in cords] # rounds each coordinate\n",
    "        class_id = result.names[box.cls[0].item()] # gets the name of identified object from dictionary of all objects YOLO can identify\n",
    "        conf = round(box.conf[0].item(), 2) # rounds to 2 digits\n",
    "        print(\"Said ID: \",(100 + i), \" was \", class_id, \". Actual status: \", chicagoDataFrame.at[100 + i, 'Status'])\n",
    "        "
   ]
  },
  {
   "cell_type": "code",
   "execution_count": null,
   "metadata": {},
   "outputs": [],
   "source": [
    "#extra training model\n",
    "abandonnessModel.train(data=\"datasets/data.yaml\", epochs = 5)"
   ]
  }
 ],
 "metadata": {
  "kernelspec": {
   "display_name": "Python 3",
   "language": "python",
   "name": "python3"
  },
  "language_info": {
   "codemirror_mode": {
    "name": "ipython",
    "version": 3
   },
   "file_extension": ".py",
   "mimetype": "text/x-python",
   "name": "python",
   "nbconvert_exporter": "python",
   "pygments_lexer": "ipython3",
   "version": "3.13.2"
  }
 },
 "nbformat": 4,
 "nbformat_minor": 4
}
