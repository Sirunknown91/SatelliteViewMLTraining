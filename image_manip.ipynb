{
 "cells": [
  {
   "cell_type": "markdown",
   "id": "e388588f-36a9-41e4-86ea-ead332ca56db",
   "metadata": {},
   "source": [
    "# Notebook for manipulating the provided data"
   ]
  },
  {
   "cell_type": "markdown",
   "id": "504151be-736a-4337-b74d-c5c111585281",
   "metadata": {
    "jp-MarkdownHeadingCollapsed": true
   },
   "source": [
    "## Dataframe stuff (copied from yolo.ipynb)"
   ]
  },
  {
   "cell_type": "code",
   "execution_count": 43,
   "id": "d6151670-a9cf-4692-a40a-a264da55d8c9",
   "metadata": {},
   "outputs": [
    {
     "name": "stdout",
     "output_type": "stream",
     "text": [
      "      ID                    Address SatelliteImageName StreetviewImageName     Status   Pool\n",
      "0      1     13143 S Carondolet Ave              s1001               v1001  Abandoned  FALSE\n",
      "1      2          7222 S Euclid Ave              s1002               v1002  Abandoned  FALSE\n",
      "2      3          7236 S Euclid Ave              s1003               v1003      Owned  FALSE\n",
      "3      4     1344 S Springfield Ave              s1004               v1004  Abandoned  FALSE\n",
      "4      5             3853 W 14th St              s1005               v1005      Owned  FALSE\n",
      "..   ...                        ...                ...                 ...        ...    ...\n",
      "495  496  6531 S Eberhart Ave 60637             s10496              v10496      Owned  FALSE\n",
      "496  497     4342 W Wilcox St 60624             s10497              v10497      Owned  FALSE\n",
      "497  498     5331 S Honore St 60609             s10498              v10498  Abandoned  FALSE\n",
      "498  499  3641 W Douglas Blvd 60623             s10499              v10499  Abandoned  FALSE\n",
      "499  500   1438 S Millard Ave 60623             s10500              v10500      Owned  FALSE\n",
      "\n",
      "[500 rows x 6 columns]\n",
      "      ID                     Address SatelliteImageName StreetviewImageName     Status   Pool\n",
      "0      1       3319 ST PAUL ST 46237              s2001               v2001  Abandoned  FALSE\n",
      "1      2    1126 N Dearborn St 46201              s2002               v2002      Owned  FALSE\n",
      "2      3     2709 N RITTER AVE 46218              s2003               v2003  Abandoned  FALSE\n",
      "3      4      23 S Bradley Ave 46201              s2004               v2004  Abandoned  FALSE\n",
      "4      5      58 S BRADLEY AVE 46201              s2005               v2005      Owned  FALSE\n",
      "..   ...                         ...                ...                 ...        ...    ...\n",
      "286  287        4224 S Post Rd 46239             s20287              v20287      Owned  FALSE\n",
      "287  288  4366 N ARLINGTON AVE 46226             s20288              v20288  Abandoned  FALSE\n",
      "288  289        1010 W 27TH ST 46208             s20289              v20289  Abandoned  FALSE\n",
      "289  290         933 W 27th St 46208             s20290              v20290      Owned  FALSE\n",
      "290  291      948 N Holmes Ave 46222             s20291              v20291      Owned  FALSE\n",
      "\n",
      "[291 rows x 6 columns]\n"
     ]
    }
   ],
   "source": [
    "import numpy as np\n",
    "import pandas as pd\n",
    "from IPython.display import Image, display\n",
    "import os\n",
    "\n",
    "#expands table for printing/debug purposes\n",
    "pd.set_option('display.width', 160)\n",
    "\n",
    "file = open(\"NASA_Datasets - Sheet1.csv\")\n",
    "\n",
    "#discards first few lines of no data\n",
    "for i in range(4):\n",
    "    file.readline()\n",
    "\n",
    "chicagoData = []\n",
    "indianapolisData = []\n",
    "\n",
    "#read every line of file\n",
    "while not file.closed:\n",
    "    dataRow = file.readline()\n",
    "    if(dataRow == ''):\n",
    "        file.close()\n",
    "    else:\n",
    "        dataRowArray = dataRow.split(',')\n",
    "        dataRowArray = [string.strip() for string in dataRowArray]\n",
    "        chicagoData.append(dataRowArray[0 : 6])\n",
    "        indianapolisData.append(dataRowArray[7 : 13])\n",
    "\n",
    "#cleaning up indianapolis data\n",
    "while(indianapolisData[-1][0] == ''):\n",
    "    #cleaning up empty rows from end caused by larger chicago data\n",
    "    indianapolisData.pop(-1)\n",
    "\n",
    "for row in indianapolisData:\n",
    "    row[5] = row[5].replace('\\n', '')\n",
    "\n",
    "    \n",
    "#paths to folders of image data\n",
    "satelliteImageFilePathHeader = \"satellite_images/\"\n",
    "streetviewImageFilePathHeader = \"streetview_images/\"\n",
    "\n",
    "#set up data frames\n",
    "chicagoDataFrame = pd.DataFrame(chicagoData)\n",
    "chicagoDataFrame = chicagoDataFrame.rename(columns={0 : \"ID\", 1 : \"Address\", 2 : \"SatelliteImageName\", 3 : \"StreetviewImageName\", 4 : \"Status\", 5 : \"Pool\"})\n",
    "\n",
    "indianapolisDataFrame = pd.DataFrame(indianapolisData)\n",
    "indianapolisDataFrame = indianapolisDataFrame.rename(columns={0 : \"ID\", 1 : \"Address\", 2 : \"SatelliteImageName\", 3 : \"StreetviewImageName\", 4 : \"Status\", 5 : \"Pool\"})\n",
    "\n",
    "#displaying all the stuff\n",
    "print(chicagoDataFrame)\n",
    "print(indianapolisDataFrame)\n",
    "        \n"
   ]
  },
  {
   "cell_type": "code",
   "execution_count": 44,
   "id": "7646b997-f9bc-4886-adcc-943cdc609d25",
   "metadata": {},
   "outputs": [
    {
     "name": "stdout",
     "output_type": "stream",
     "text": [
      "      ID                    Address SatelliteImageName StreetviewImageName     Status   Pool\n",
      "0      1     13143 S Carondolet Ave              s1001              v10001  Abandoned  FALSE\n",
      "1      2          7222 S Euclid Ave              s1002              v10002  Abandoned  FALSE\n",
      "2      3          7236 S Euclid Ave              s1003              v10003      Owned  FALSE\n",
      "3      4     1344 S Springfield Ave              s1004              v10004  Abandoned  FALSE\n",
      "4      5             3853 W 14th St              s1005              v10005      Owned  FALSE\n",
      "..   ...                        ...                ...                 ...        ...    ...\n",
      "495  496  6531 S Eberhart Ave 60637             s10496              v10496      Owned  FALSE\n",
      "496  497     4342 W Wilcox St 60624             s10497              v10497      Owned  FALSE\n",
      "497  498     5331 S Honore St 60609             s10498              v10498  Abandoned  FALSE\n",
      "498  499  3641 W Douglas Blvd 60623             s10499              v10499  Abandoned  FALSE\n",
      "499  500   1438 S Millard Ave 60623             s10500              v10500      Owned  FALSE\n",
      "\n",
      "[500 rows x 6 columns]\n",
      "      ID                     Address SatelliteImageName StreetviewImageName     Status   Pool\n",
      "0      1       3319 ST PAUL ST 46237              s2001              v20001  Abandoned  FALSE\n",
      "1      2    1126 N Dearborn St 46201              s2002              v20002      Owned  FALSE\n",
      "2      3     2709 N RITTER AVE 46218              s2003              v20003  Abandoned  FALSE\n",
      "3      4      23 S Bradley Ave 46201              s2004              v20004  Abandoned  FALSE\n",
      "4      5      58 S BRADLEY AVE 46201              s2005              v20005      Owned  FALSE\n",
      "..   ...                         ...                ...                 ...        ...    ...\n",
      "286  287        4224 S Post Rd 46239             s20287              v20287      Owned  FALSE\n",
      "287  288  4366 N ARLINGTON AVE 46226             s20288              v20288  Abandoned  FALSE\n",
      "288  289        1010 W 27TH ST 46208             s20289              v20289  Abandoned  FALSE\n",
      "289  290         933 W 27th St 46208             s20290              v20290      Owned  FALSE\n",
      "290  291      948 N Holmes Ave 46222             s20291              v20291      Owned  FALSE\n",
      "\n",
      "[291 rows x 6 columns]\n"
     ]
    }
   ],
   "source": [
    "#fixing street view image formatting\n",
    "def fixStreetImage(dataFrame):\n",
    "    for i in range(dataFrame.shape[0]):\n",
    "        streetviewImageName = dataFrame.at[i, 'StreetviewImageName']\n",
    "        if(len(streetviewImageName) < 6):\n",
    "            streetviewImageName = streetviewImageName.replace('v10','v100')\n",
    "            streetviewImageName = streetviewImageName.replace('v20','v200')\n",
    "            dataFrame.at[i, 'StreetviewImageName'] = streetviewImageName\n",
    "\n",
    "    return dataFrame\n",
    "\n",
    "chicagoDataFrame = fixStreetImage(chicagoDataFrame)\n",
    "indianapolisDataFrame = fixStreetImage(indianapolisDataFrame)\n",
    "\n",
    "#displaying all the stuff\n",
    "print(chicagoDataFrame)\n",
    "print(indianapolisDataFrame)\n"
   ]
  },
  {
   "cell_type": "code",
   "execution_count": 45,
   "id": "b265be1b-cdf9-4647-a477-e82351ac7ab5",
   "metadata": {},
   "outputs": [
    {
     "name": "stdout",
     "output_type": "stream",
     "text": [
      "      ID                     Address SatelliteImageName StreetviewImageName     Status   Pool\n",
      "0      1      13143 S Carondolet Ave              s1001              v10001  Abandoned  FALSE\n",
      "1      2           7222 S Euclid Ave              s1002              v10002  Abandoned  FALSE\n",
      "2      3           7236 S Euclid Ave              s1003              v10003      Owned  FALSE\n",
      "3      4      1344 S Springfield Ave              s1004              v10004  Abandoned  FALSE\n",
      "4      5              3853 W 14th St              s1005              v10005      Owned  FALSE\n",
      "..   ...                         ...                ...                 ...        ...    ...\n",
      "286  287        4224 S Post Rd 46239             s20287              v20287      Owned  FALSE\n",
      "287  288  4366 N ARLINGTON AVE 46226             s20288              v20288  Abandoned  FALSE\n",
      "288  289        1010 W 27TH ST 46208             s20289              v20289  Abandoned  FALSE\n",
      "289  290         933 W 27th St 46208             s20290              v20290      Owned  FALSE\n",
      "290  291      948 N Holmes Ave 46222             s20291              v20291      Owned  FALSE\n",
      "\n",
      "[791 rows x 6 columns]\n"
     ]
    }
   ],
   "source": [
    "#concatenates the data\n",
    "combinedDataFrame = pd.concat([chicagoDataFrame, indianapolisDataFrame])\n",
    "print(combinedDataFrame)"
   ]
  },
  {
   "cell_type": "markdown",
   "id": "881f0a47-2a09-43e2-8479-6cf8f35a0bb4",
   "metadata": {},
   "source": [
    "## Image Manipulation"
   ]
  },
  {
   "cell_type": "code",
   "execution_count": 4,
   "id": "a657fb58-d64b-41a6-bf33-de389458c6a8",
   "metadata": {},
   "outputs": [],
   "source": [
    "import cv2 as cv\n",
    "from pathlib import Path\n",
    "import shutil\n",
    "import os"
   ]
  },
  {
   "cell_type": "code",
   "execution_count": 15,
   "id": "447f74c3-9d78-431e-bf97-f3ba5c75df99",
   "metadata": {},
   "outputs": [],
   "source": [
    "# mirrors all images in provided input_folder and creates an output_folder to write them to\n",
    "# horiz and vert tell what axis to mirror along. setting both to true rotates image 180\n",
    "# and setting both to false just clones the image exactly\n",
    "# default is just horizontal mirroring \n",
    "def mirrorImageFiles(input_folder, output_folder, horiz=True, vert=False):\n",
    "    Path(output_folder).mkdir(parents=True, exist_ok=True)\n",
    "    \n",
    "    imageFiles = os.listdir(input_folder)\n",
    "    for imageFile in imageFiles:\n",
    "        if(not os.path.isfile(f\"{input_folder}/{imageFile}\")):\n",
    "            continue\n",
    "        image = cv.imread(f\"{input_folder}/{imageFile}\")\n",
    "        if(horiz):\n",
    "            image = image[:, ::-1]\n",
    "        if(vert):\n",
    "            image = image[::-1]\n",
    "        cv.imwrite(f\"{output_folder}/{imageFile}\", image)\n",
    "\n",
    "#mirrorImageFiles(\"satellite_images\", \"satellite_images_mirrored\")\n",
    "#mirrorImageFiles(\"satellite_images\", \"satellite_images_mirrored_vert\", horiz = False, vert = True)\n",
    "#mirrorImageFiles(\"satellite_images\", \"satellite_images_flipped\", horiz = True, vert = True)\n",
    "mirrorImageFiles(\"streetview_images\", \"streetview_images_mirrored\") #we can only really do horizontal mirroring on the streetview images since vertical mirroring would make the house upside-down"
   ]
  },
  {
   "cell_type": "code",
   "execution_count": 36,
   "id": "293b52fb-7040-4178-bba4-68073fad02c2",
   "metadata": {},
   "outputs": [
    {
     "name": "stderr",
     "output_type": "stream",
     "text": [
      "[ WARN:0@77300.385] global loadsave.cpp:268 findDecoder imread_('streetview_images/v20261.png'): can't open/read file: check file path/integrity\n"
     ]
    },
    {
     "ename": "AttributeError",
     "evalue": "'NoneType' object has no attribute 'shape'",
     "output_type": "error",
     "traceback": [
      "\u001b[0;31m---------------------------------------------------------------------------\u001b[0m",
      "\u001b[0;31mAttributeError\u001b[0m                            Traceback (most recent call last)",
      "\u001b[0;32m/tmp/ipykernel_21585/1061165610.py\u001b[0m in \u001b[0;36m<module>\u001b[0;34m\u001b[0m\n\u001b[1;32m     27\u001b[0m     \u001b[0msatelliteImage\u001b[0m \u001b[0;34m=\u001b[0m \u001b[0mcv\u001b[0m\u001b[0;34m.\u001b[0m\u001b[0mimread\u001b[0m\u001b[0;34m(\u001b[0m\u001b[0;34mf\"satellite_images_flipped/{satelliteImageName}.png\"\u001b[0m\u001b[0;34m)\u001b[0m\u001b[0;34m\u001b[0m\u001b[0;34m\u001b[0m\u001b[0m\n\u001b[1;32m     28\u001b[0m \u001b[0;34m\u001b[0m\u001b[0m\n\u001b[0;32m---> 29\u001b[0;31m     \u001b[0mstitchedImage\u001b[0m \u001b[0;34m=\u001b[0m \u001b[0mstitchImages\u001b[0m\u001b[0;34m(\u001b[0m\u001b[0mstreetviewImage\u001b[0m\u001b[0;34m,\u001b[0m \u001b[0msatelliteImage\u001b[0m\u001b[0;34m)\u001b[0m\u001b[0;34m\u001b[0m\u001b[0;34m\u001b[0m\u001b[0m\n\u001b[0m\u001b[1;32m     30\u001b[0m \u001b[0;34m\u001b[0m\u001b[0m\n\u001b[1;32m     31\u001b[0m     \u001b[0mcv\u001b[0m\u001b[0;34m.\u001b[0m\u001b[0mimwrite\u001b[0m\u001b[0;34m(\u001b[0m\u001b[0;34mf\"{outputFolder}/{streetviewImageName}_{satelliteImageName}.png\"\u001b[0m\u001b[0;34m,\u001b[0m \u001b[0mstitchedImage\u001b[0m\u001b[0;34m)\u001b[0m\u001b[0;34m\u001b[0m\u001b[0;34m\u001b[0m\u001b[0m\n",
      "\u001b[0;32m/tmp/ipykernel_21585/1061165610.py\u001b[0m in \u001b[0;36mstitchImages\u001b[0;34m(image1, image2)\u001b[0m\n\u001b[1;32m      3\u001b[0m \u001b[0;31m# takes two images (cv2 arrays) as image, outputs the concatenated images side by side\u001b[0m\u001b[0;34m\u001b[0m\u001b[0;34m\u001b[0m\u001b[0m\n\u001b[1;32m      4\u001b[0m \u001b[0;32mdef\u001b[0m \u001b[0mstitchImages\u001b[0m\u001b[0;34m(\u001b[0m\u001b[0mimage1\u001b[0m\u001b[0;34m,\u001b[0m \u001b[0mimage2\u001b[0m\u001b[0;34m)\u001b[0m\u001b[0;34m:\u001b[0m\u001b[0;34m\u001b[0m\u001b[0;34m\u001b[0m\u001b[0m\n\u001b[0;32m----> 5\u001b[0;31m     \u001b[0mimage1dims\u001b[0m \u001b[0;34m=\u001b[0m \u001b[0mimage1\u001b[0m\u001b[0;34m.\u001b[0m\u001b[0mshape\u001b[0m\u001b[0;34m\u001b[0m\u001b[0;34m\u001b[0m\u001b[0m\n\u001b[0m\u001b[1;32m      6\u001b[0m     \u001b[0mimage2dims\u001b[0m \u001b[0;34m=\u001b[0m \u001b[0mimage2\u001b[0m\u001b[0;34m.\u001b[0m\u001b[0mshape\u001b[0m\u001b[0;34m\u001b[0m\u001b[0;34m\u001b[0m\u001b[0m\n\u001b[1;32m      7\u001b[0m \u001b[0;34m\u001b[0m\u001b[0m\n",
      "\u001b[0;31mAttributeError\u001b[0m: 'NoneType' object has no attribute 'shape'"
     ]
    }
   ],
   "source": [
    "# stitching street view and satellite images together\n",
    "\n",
    "# takes two images (cv2 arrays) as image, outputs the concatenated images side by side\n",
    "def stitchImages(image1, image2):\n",
    "    image1dims = image1.shape\n",
    "    image2dims = image2.shape\n",
    "    \n",
    "    #pad bottoms of image so numpy can concatenate\n",
    "    if(image1dims[0] < image2dims[0]):\n",
    "        image1 = np.pad(image1, ((0, image2dims[0] - image1dims[0]), (0, 0), (0, 0)))\n",
    "    \n",
    "    if(image2dims[0] < image1dims[0]):\n",
    "        image2 = np.pad(image2, ((0, image1dims[0] - image2dims[0]), (0, 0), (0, 0)))\n",
    "\n",
    "    stitchedImage = np.concatenate((image1, image2), axis = 1)\n",
    "\n",
    "    return stitchedImage\n",
    "\n",
    "outputFolder = \"streetsatellitestiched_semi_flipped\"\n",
    "Path(outputFolder).mkdir(parents=True, exist_ok=True)\n",
    "\n",
    "for index,row in combinedDataFrame.iterrows():\n",
    "    streetviewImageName = row['StreetviewImageName']\n",
    "    satelliteImageName = row['SatelliteImageName']\n",
    "\n",
    "    streetviewImage = cv.imread(f\"streetview_images/{streetviewImageName}.png\")\n",
    "    satelliteImage = cv.imread(f\"satellite_images_flipped/{satelliteImageName}.png\")\n",
    "\n",
    "    stitchedImage = stitchImages(streetviewImage, satelliteImage)\n",
    "\n",
    "    cv.imwrite(f\"{outputFolder}/{streetviewImageName}_{satelliteImageName}.png\", stitchedImage)\n",
    "    \n",
    "    \n"
   ]
  },
  {
   "cell_type": "code",
   "execution_count": 54,
   "id": "7f669b0d-06eb-4ad1-b5ee-b92fcbce8720",
   "metadata": {},
   "outputs": [
    {
     "name": "stderr",
     "output_type": "stream",
     "text": [
      "[ WARN:0@253398.656] global loadsave.cpp:268 findDecoder imread_('streetview_images/v20261.png'): can't open/read file: check file path/integrity\n"
     ]
    },
    {
     "ename": "TypeError",
     "evalue": "unsupported operand type(s) for /: 'NoneType' and 'int'",
     "output_type": "error",
     "traceback": [
      "\u001b[0;31m---------------------------------------------------------------------------\u001b[0m",
      "\u001b[0;31mTypeError\u001b[0m                                 Traceback (most recent call last)",
      "\u001b[0;32m/tmp/ipykernel_21585/2216894058.py\u001b[0m in \u001b[0;36m<module>\u001b[0;34m\u001b[0m\n\u001b[1;32m     41\u001b[0m     \u001b[0msatelliteImage\u001b[0m \u001b[0;34m=\u001b[0m \u001b[0mcv\u001b[0m\u001b[0;34m.\u001b[0m\u001b[0mimread\u001b[0m\u001b[0;34m(\u001b[0m\u001b[0;34mf\"satellite_images/{satelliteImageName}.png\"\u001b[0m\u001b[0;34m)\u001b[0m\u001b[0;34m\u001b[0m\u001b[0;34m\u001b[0m\u001b[0m\n\u001b[1;32m     42\u001b[0m \u001b[0;34m\u001b[0m\u001b[0m\n\u001b[0;32m---> 43\u001b[0;31m     \u001b[0moverlayImage\u001b[0m \u001b[0;34m=\u001b[0m \u001b[0moverlayImages\u001b[0m\u001b[0;34m(\u001b[0m\u001b[0mstreetviewImage\u001b[0m\u001b[0;34m,\u001b[0m \u001b[0msatelliteImage\u001b[0m\u001b[0;34m)\u001b[0m\u001b[0;34m\u001b[0m\u001b[0;34m\u001b[0m\u001b[0m\n\u001b[0m\u001b[1;32m     44\u001b[0m \u001b[0;34m\u001b[0m\u001b[0m\n\u001b[1;32m     45\u001b[0m     \u001b[0mcv\u001b[0m\u001b[0;34m.\u001b[0m\u001b[0mimwrite\u001b[0m\u001b[0;34m(\u001b[0m\u001b[0;34mf\"{outputFolder}/{streetviewImageName}_{satelliteImageName}.png\"\u001b[0m\u001b[0;34m,\u001b[0m \u001b[0moverlayImage\u001b[0m\u001b[0;34m)\u001b[0m\u001b[0;34m\u001b[0m\u001b[0;34m\u001b[0m\u001b[0m\n",
      "\u001b[0;32m/tmp/ipykernel_21585/2216894058.py\u001b[0m in \u001b[0;36moverlayImages\u001b[0;34m(image1, image2)\u001b[0m\n\u001b[1;32m      3\u001b[0m \u001b[0;32mdef\u001b[0m \u001b[0moverlayImages\u001b[0m\u001b[0;34m(\u001b[0m\u001b[0mimage1\u001b[0m\u001b[0;34m,\u001b[0m \u001b[0mimage2\u001b[0m\u001b[0;34m)\u001b[0m\u001b[0;34m:\u001b[0m\u001b[0;34m\u001b[0m\u001b[0;34m\u001b[0m\u001b[0m\n\u001b[1;32m      4\u001b[0m \u001b[0;34m\u001b[0m\u001b[0m\n\u001b[0;32m----> 5\u001b[0;31m     \u001b[0mimage1\u001b[0m \u001b[0;34m=\u001b[0m \u001b[0mimage1\u001b[0m\u001b[0;34m/\u001b[0m\u001b[0;36m255\u001b[0m\u001b[0;34m\u001b[0m\u001b[0;34m\u001b[0m\u001b[0m\n\u001b[0m\u001b[1;32m      6\u001b[0m     \u001b[0mimage2\u001b[0m \u001b[0;34m=\u001b[0m \u001b[0mimage2\u001b[0m\u001b[0;34m/\u001b[0m\u001b[0;36m255\u001b[0m\u001b[0;34m\u001b[0m\u001b[0;34m\u001b[0m\u001b[0m\n\u001b[1;32m      7\u001b[0m \u001b[0;34m\u001b[0m\u001b[0m\n",
      "\u001b[0;31mTypeError\u001b[0m: unsupported operand type(s) for /: 'NoneType' and 'int'"
     ]
    }
   ],
   "source": [
    "# overlaying street and satellite images\n",
    "#TODO implement overlaying of images\n",
    "def overlayImages(image1, image2):\n",
    "\n",
    "    image1 = image1/255\n",
    "    image2 = image2/255\n",
    "    \n",
    "    image1dims = image1.shape\n",
    "    image2dims = image2.shape\n",
    "\n",
    "    #pad bottoms of image so numpy can concatenate\n",
    "    if(image1dims[0] < image2dims[0]):\n",
    "        image1 = np.pad(image1, ((0, image2dims[0] - image1dims[0]), (0, 0), (0, 0)))\n",
    "    \n",
    "    if(image2dims[0] < image1dims[0]):\n",
    "        image2 = np.pad(image2, ((0, image1dims[0] - image2dims[0]), (0, 0), (0, 0)))\n",
    "\n",
    "        \n",
    "    #pad right side of images so numpy can concatenate\n",
    "    if(image1dims[1] < image2dims[1]):\n",
    "        image1 = np.pad(image1, ((0, 0), (0, image2dims[1] - image1dims[1]), (0, 0)))\n",
    "    \n",
    "    if(image2dims[1] < image1dims[1]):\n",
    "        image2 = np.pad(image2, ((0, 0), (0, image1dims[1] - image2dims[1]), (0, 0)))\n",
    "\n",
    "    overlayImage = np.add(image1, image2) / 2\n",
    "\n",
    "    overlayImage *= 255\n",
    "    overlayImage = np.floor(overlayImage)\n",
    "\n",
    "    return overlayImage\n",
    "\n",
    "outputFolder = \"streetsatelliteoverlayed\"\n",
    "Path(outputFolder).mkdir(parents=True, exist_ok=True)\n",
    "\n",
    "for index,row in combinedDataFrame.iterrows():\n",
    "    streetviewImageName = row['StreetviewImageName']\n",
    "    satelliteImageName = row['SatelliteImageName']\n",
    "\n",
    "    streetviewImage = cv.imread(f\"streetview_images/{streetviewImageName}.png\")\n",
    "    satelliteImage = cv.imread(f\"satellite_images/{satelliteImageName}.png\")\n",
    "\n",
    "    overlayImage = overlayImages(streetviewImage, satelliteImage)\n",
    "\n",
    "    cv.imwrite(f\"{outputFolder}/{streetviewImageName}_{satelliteImageName}.png\", overlayImage)"
   ]
  },
  {
   "cell_type": "markdown",
   "id": "d470b5e3-f9bd-4223-8056-b6343573aeaf",
   "metadata": {},
   "source": [
    "## Miscellaneous data analysis"
   ]
  },
  {
   "cell_type": "code",
   "execution_count": 39,
   "id": "1dd42475-8ff6-4f1d-acd6-6b7ec23596fc",
   "metadata": {},
   "outputs": [
    {
     "name": "stdout",
     "output_type": "stream",
     "text": [
      "Out of 791 houses, 32 had pools, while 759 did not.\n",
      "4.0% of houses had pools\n"
     ]
    }
   ],
   "source": [
    "poolCount = 0\n",
    "noPoolCount = 0\n",
    "totalCount = 0\n",
    "\n",
    "for index,row in combinedDataFrame.iterrows():\n",
    "    hasPool = row['Pool'] == 'TRUE'\n",
    "\n",
    "    if(hasPool):\n",
    "        poolCount += 1\n",
    "    else:\n",
    "        noPoolCount += 1\n",
    "\n",
    "    totalCount += 1\n",
    "\n",
    "print(f\"Out of {totalCount} houses, {poolCount} had pools, while {noPoolCount} did not.\")\n",
    "print(f\"{round(poolCount/totalCount, 3) * 100}% of houses had pools\")\n"
   ]
  },
  {
   "cell_type": "code",
   "execution_count": 40,
   "id": "5c46b6c5-9ce9-4b8e-b2c6-1ff41e43ae6c",
   "metadata": {},
   "outputs": [
    {
     "name": "stdout",
     "output_type": "stream",
     "text": [
      "Out of 791 houses, 404 were abandoned, while 387 were owned.\n",
      "51.1% of houses are abandoned\n"
     ]
    }
   ],
   "source": [
    "abandonedCount = 0\n",
    "ownedCount = 0\n",
    "totalCount = 0\n",
    "\n",
    "for index,row in combinedDataFrame.iterrows():\n",
    "    isAbandoned = row['Status'] == 'Abandoned'\n",
    "\n",
    "    if(isAbandoned):\n",
    "        abandonedCount += 1\n",
    "    else:\n",
    "        ownedCount += 1\n",
    "\n",
    "    totalCount += 1\n",
    "\n",
    "print(f\"Out of {totalCount} houses, {abandonedCount} were abandoned, while {ownedCount} were owned.\")\n",
    "print(f\"{round(abandonedCount/totalCount, 3) * 100}% of houses are abandoned\")"
   ]
  },
  {
   "cell_type": "code",
   "execution_count": null,
   "id": "b01a4f6f-3b2c-49c7-ba6e-304824426953",
   "metadata": {},
   "outputs": [],
   "source": []
  }
 ],
 "metadata": {
  "kernelspec": {
   "display_name": "programming",
   "language": "python",
   "name": "programming"
  },
  "language_info": {
   "codemirror_mode": {
    "name": "ipython",
    "version": 3
   },
   "file_extension": ".py",
   "mimetype": "text/x-python",
   "name": "python",
   "nbconvert_exporter": "python",
   "pygments_lexer": "ipython3",
   "version": "3.10.12"
  }
 },
 "nbformat": 4,
 "nbformat_minor": 5
}
