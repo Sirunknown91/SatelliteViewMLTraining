{
 "cells": [
  {
   "cell_type": "code",
   "execution_count": 10,
   "metadata": {
    "editable": true,
    "slideshow": {
     "slide_type": ""
    },
    "tags": []
   },
   "outputs": [],
   "source": [
    "from ultralytics import YOLO\n",
    "\n",
    "model = YOLO(\"yolov8m.pt\")"
   ]
  },
  {
   "cell_type": "markdown",
   "metadata": {
    "jp-MarkdownHeadingCollapsed": true
   },
   "source": [
    "# Creating the data frames \n",
    "### (run everything here before anything that works with the data frames)"
   ]
  },
  {
   "cell_type": "code",
   "execution_count": 2,
   "metadata": {},
   "outputs": [
    {
     "name": "stdout",
     "output_type": "stream",
     "text": [
      "      ID                    Address SatelliteImageName StreetviewImageName     Status   Pool\n",
      "0      1     13143 S Carondolet Ave              s1001               v1001  Abandoned  FALSE\n",
      "1      2          7222 S Euclid Ave              s1002               v1002  Abandoned  FALSE\n",
      "2      3          7236 S Euclid Ave              s1003               v1003      Owned  FALSE\n",
      "3      4     1344 S Springfield Ave              s1004               v1004  Abandoned  FALSE\n",
      "4      5             3853 W 14th St              s1005               v1005      Owned  FALSE\n",
      "..   ...                        ...                ...                 ...        ...    ...\n",
      "495  496  6531 S Eberhart Ave 60637             s10496              v10496      Owned  FALSE\n",
      "496  497     4342 W Wilcox St 60624             s10497              v10497      Owned  FALSE\n",
      "497  498     5331 S Honore St 60609             s10498              v10498  Abandoned  FALSE\n",
      "498  499  3641 W Douglas Blvd 60623             s10499              v10499  Abandoned  FALSE\n",
      "499  500   1438 S Millard Ave 60623             s10500              v10500      Owned  FALSE\n",
      "\n",
      "[500 rows x 6 columns]\n",
      "      ID                     Address SatelliteImageName StreetviewImageName     Status   Pool\n",
      "0      1       3319 ST PAUL ST 46237              s2001               v2001  Abandoned  FALSE\n",
      "1      2    1126 N Dearborn St 46201              s2002               v2002      Owned  FALSE\n",
      "2      3     2709 N RITTER AVE 46218              s2003               v2003  Abandoned  FALSE\n",
      "3      4      23 S Bradley Ave 46201              s2004               v2004  Abandoned  FALSE\n",
      "4      5      58 S BRADLEY AVE 46201              s2005               v2005      Owned  FALSE\n",
      "..   ...                         ...                ...                 ...        ...    ...\n",
      "286  287        4224 S Post Rd 46239             s20287              v20287      Owned  FALSE\n",
      "287  288  4366 N ARLINGTON AVE 46226             s20288              v20288  Abandoned  FALSE\n",
      "288  289        1010 W 27TH ST 46208             s20289              v20289  Abandoned  FALSE\n",
      "289  290         933 W 27th St 46208             s20290              v20290      Owned  FALSE\n",
      "290  291      948 N Holmes Ave 46222             s20291              v20291      Owned  FALSE\n",
      "\n",
      "[291 rows x 6 columns]\n"
     ]
    }
   ],
   "source": [
    "import numpy as np\n",
    "import pandas as pd\n",
    "from IPython.display import Image, display\n",
    "import os\n",
    "\n",
    "#expands table for printing/debug purposes\n",
    "pd.set_option('display.width', 160)\n",
    "\n",
    "file = open(\"NASA_Datasets - Sheet1.csv\")\n",
    "\n",
    "#discards first few lines of no data\n",
    "for i in range(4):\n",
    "    file.readline()\n",
    "\n",
    "chicagoData = []\n",
    "indianapolisData = []\n",
    "\n",
    "#read every line of file\n",
    "while not file.closed:\n",
    "    dataRow = file.readline()\n",
    "    if(dataRow == ''):\n",
    "        file.close()\n",
    "    else:\n",
    "        dataRowArray = dataRow.split(',')\n",
    "        dataRowArray = [string.strip() for string in dataRowArray]\n",
    "        chicagoData.append(dataRowArray[0 : 6])\n",
    "        indianapolisData.append(dataRowArray[7 : 13])\n",
    "\n",
    "#cleaning up indianapolis data\n",
    "while(indianapolisData[-1][0] == ''):\n",
    "    #cleaning up empty rows from end caused by larger chicago data\n",
    "    indianapolisData.pop(-1)\n",
    "\n",
    "for row in indianapolisData:\n",
    "    row[5] = row[5].replace('\\n', '')\n",
    "\n",
    "    \n",
    "#paths to folders of image data\n",
    "satelliteImageFilePathHeader = \"satellite_images/\"\n",
    "streetviewImageFilePathHeader = \"streetview_images/\"\n",
    "\n",
    "#set up data frames\n",
    "chicagoDataFrame = pd.DataFrame(chicagoData)\n",
    "chicagoDataFrame = chicagoDataFrame.rename(columns={0 : \"ID\", 1 : \"Address\", 2 : \"SatelliteImageName\", 3 : \"StreetviewImageName\", 4 : \"Status\", 5 : \"Pool\"})\n",
    "\n",
    "indianapolisDataFrame = pd.DataFrame(indianapolisData)\n",
    "indianapolisDataFrame = indianapolisDataFrame.rename(columns={0 : \"ID\", 1 : \"Address\", 2 : \"SatelliteImageName\", 3 : \"StreetviewImageName\", 4 : \"Status\", 5 : \"Pool\"})\n",
    "\n",
    "#displaying all the stuff\n",
    "print(chicagoDataFrame)\n",
    "print(indianapolisDataFrame)\n",
    "        \n"
   ]
  },
  {
   "cell_type": "code",
   "execution_count": 3,
   "metadata": {},
   "outputs": [
    {
     "name": "stdout",
     "output_type": "stream",
     "text": [
      "      ID                    Address SatelliteImageName StreetviewImageName     Status   Pool\n",
      "0      1     13143 S Carondolet Ave              s1001              v10001  Abandoned  FALSE\n",
      "1      2          7222 S Euclid Ave              s1002              v10002  Abandoned  FALSE\n",
      "2      3          7236 S Euclid Ave              s1003              v10003      Owned  FALSE\n",
      "3      4     1344 S Springfield Ave              s1004              v10004  Abandoned  FALSE\n",
      "4      5             3853 W 14th St              s1005              v10005      Owned  FALSE\n",
      "..   ...                        ...                ...                 ...        ...    ...\n",
      "495  496  6531 S Eberhart Ave 60637             s10496              v10496      Owned  FALSE\n",
      "496  497     4342 W Wilcox St 60624             s10497              v10497      Owned  FALSE\n",
      "497  498     5331 S Honore St 60609             s10498              v10498  Abandoned  FALSE\n",
      "498  499  3641 W Douglas Blvd 60623             s10499              v10499  Abandoned  FALSE\n",
      "499  500   1438 S Millard Ave 60623             s10500              v10500      Owned  FALSE\n",
      "\n",
      "[500 rows x 6 columns]\n",
      "      ID                     Address SatelliteImageName StreetviewImageName     Status   Pool\n",
      "0      1       3319 ST PAUL ST 46237              s2001              v20001  Abandoned  FALSE\n",
      "1      2    1126 N Dearborn St 46201              s2002              v20002      Owned  FALSE\n",
      "2      3     2709 N RITTER AVE 46218              s2003              v20003  Abandoned  FALSE\n",
      "3      4      23 S Bradley Ave 46201              s2004              v20004  Abandoned  FALSE\n",
      "4      5      58 S BRADLEY AVE 46201              s2005              v20005      Owned  FALSE\n",
      "..   ...                         ...                ...                 ...        ...    ...\n",
      "286  287        4224 S Post Rd 46239             s20287              v20287      Owned  FALSE\n",
      "287  288  4366 N ARLINGTON AVE 46226             s20288              v20288  Abandoned  FALSE\n",
      "288  289        1010 W 27TH ST 46208             s20289              v20289  Abandoned  FALSE\n",
      "289  290         933 W 27th St 46208             s20290              v20290      Owned  FALSE\n",
      "290  291      948 N Holmes Ave 46222             s20291              v20291      Owned  FALSE\n",
      "\n",
      "[291 rows x 6 columns]\n"
     ]
    }
   ],
   "source": [
    "#fixing street view image formatting\n",
    "def fixStreetImage(dataFrame):\n",
    "    for i in range(dataFrame.shape[0]):\n",
    "        streetviewImageName = dataFrame.at[i, 'StreetviewImageName']\n",
    "        if(len(streetviewImageName) < 6):\n",
    "            streetviewImageName = streetviewImageName.replace('v10','v100')\n",
    "            streetviewImageName = streetviewImageName.replace('v20','v200')\n",
    "            dataFrame.at[i, 'StreetviewImageName'] = streetviewImageName\n",
    "\n",
    "    return dataFrame\n",
    "\n",
    "chicagoDataFrame = fixStreetImage(chicagoDataFrame)\n",
    "indianapolisDataFrame = fixStreetImage(indianapolisDataFrame)\n",
    "\n",
    "#displaying all the stuff\n",
    "print(chicagoDataFrame)\n",
    "print(indianapolisDataFrame)\n"
   ]
  },
  {
   "cell_type": "code",
   "execution_count": 4,
   "metadata": {},
   "outputs": [
    {
     "name": "stdout",
     "output_type": "stream",
     "text": [
      "      ID                     Address SatelliteImageName StreetviewImageName     Status   Pool\n",
      "0      1      13143 S Carondolet Ave              s1001              v10001  Abandoned  FALSE\n",
      "1      2           7222 S Euclid Ave              s1002              v10002  Abandoned  FALSE\n",
      "2      3           7236 S Euclid Ave              s1003              v10003      Owned  FALSE\n",
      "3      4      1344 S Springfield Ave              s1004              v10004  Abandoned  FALSE\n",
      "4      5              3853 W 14th St              s1005              v10005      Owned  FALSE\n",
      "..   ...                         ...                ...                 ...        ...    ...\n",
      "286  287        4224 S Post Rd 46239             s20287              v20287      Owned  FALSE\n",
      "287  288  4366 N ARLINGTON AVE 46226             s20288              v20288  Abandoned  FALSE\n",
      "288  289        1010 W 27TH ST 46208             s20289              v20289  Abandoned  FALSE\n",
      "289  290         933 W 27th St 46208             s20290              v20290      Owned  FALSE\n",
      "290  291      948 N Holmes Ave 46222             s20291              v20291      Owned  FALSE\n",
      "\n",
      "[791 rows x 6 columns]\n"
     ]
    }
   ],
   "source": [
    "#concatenates the data\n",
    "combinedDataFrame = pd.concat([chicagoDataFrame, indianapolisDataFrame])\n",
    "print(combinedDataFrame)"
   ]
  },
  {
   "cell_type": "markdown",
   "metadata": {
    "jp-MarkdownHeadingCollapsed": true
   },
   "source": [
    "# Creating classification data sets\n",
    "### (creates the folders of training/testing/validation data)"
   ]
  },
  {
   "cell_type": "code",
   "execution_count": 7,
   "metadata": {},
   "outputs": [
    {
     "name": "stdout",
     "output_type": "stream",
     "text": [
      "helper functions created\n"
     ]
    }
   ],
   "source": [
    "\n",
    "import random, os.path\n",
    "\n",
    "def createNewTrainingFileDirectory(dataFolder, datagroupFolder, classifyFolder):\n",
    "    \"\"\"\n",
    "    helper function for creating the data set directories\n",
    "\n",
    "    Parameters\n",
    "    ----------\n",
    "    dataFolder : what data set this should belong to\n",
    "    datagroupFolder : train/val/test\n",
    "    classifyFolder : what classification this belongs to\n",
    "\n",
    "    Returns\n",
    "    -------\n",
    "    string : path to the directory of the file\n",
    "        \n",
    "    \"\"\"\n",
    "    path = \"classifications/\"\n",
    "    path += dataFolder + \"/\" + datagroupFolder + \"/\" + classifyFolder\n",
    "    \n",
    "    return path\n",
    "\n",
    "def createNewTrainingFilePath(name, dataFolder, datagroupFolder, classifyFolder):\n",
    "    \"\"\"\n",
    "    helper function for creating the data set paths\n",
    "\n",
    "    Parameters\n",
    "    ----------\n",
    "    name : name of file\n",
    "    dataFolder : what data set this should belong to\n",
    "    datagroupFolder : train/val/test\n",
    "    classifyFolder : what classification this belongs to\n",
    "\n",
    "    Returns\n",
    "    -------\n",
    "    string : path the copied file should have\n",
    "        \n",
    "    \"\"\"\n",
    "    path = createNewTrainingFileDirectory(dataFolder, datagroupFolder, classifyFolder) + \"/\" + name + \"_\" + classifyFolder + \".png\"\n",
    "    \n",
    "    return path\n",
    "    \n",
    "#helper function that generates what set of data something should be in\n",
    "def generateRandomDataGroup():\n",
    "    dataGroupInt = random.randint(1, 10)\n",
    "    dataGroup = \"\"\n",
    "    if(dataGroupInt == 1):\n",
    "        dataGroup = \"val\"\n",
    "    elif(dataGroupInt == 2):\n",
    "        dataGroup = \"test\"\n",
    "    else:\n",
    "        dataGroup = \"train\"\n",
    "    return dataGroup\n",
    "\n",
    "\n",
    "#paths to folders of image data\n",
    "satelliteImageFilePathHeader = \"satellite_images/\"\n",
    "streetviewImageFilePathHeader = \"streetview_images/\"\n",
    "\n",
    "print(\"helper functions created\")"
   ]
  },
  {
   "cell_type": "code",
   "execution_count": null,
   "metadata": {},
   "outputs": [],
   "source": [
    "#abandonned vs owned streetview dataset creation\n",
    "import random, os.path\n",
    "import shutil\n",
    "from pathlib import Path\n",
    "\n",
    "random.seed(42) #consistent results when generating training data\n",
    "\n",
    "#turning the streetview image data into classification training data\n",
    "for index,row in combinedDataFrame.iterrows():\n",
    "    streetviewImageName = row['StreetviewImageName']\n",
    "    path = streetviewImageFilePathHeader + streetviewImageName + \".png\"\n",
    "\n",
    "    abandoned = row['Status'].strip().lower()\n",
    "    \n",
    "    datagroupFolder = generateRandomDataGroup()\n",
    "    \n",
    "    newPath = createNewTrainingFilePath(streetviewImageName, \"streetview_abandonedness\", datagroupFolder, abandoned)\n",
    "    newDirectory = createNewTrainingFileDirectory(\"streetview_abandonedness\", datagroupFolder, abandoned)\n",
    "\n",
    "    if(os.path.isfile(path)):\n",
    "        Path(newDirectory).mkdir(parents=True, exist_ok=True)\n",
    "        shutil.copyfile(path, newPath)\n"
   ]
  },
  {
   "cell_type": "code",
   "execution_count": null,
   "metadata": {
    "editable": true,
    "slideshow": {
     "slide_type": ""
    },
    "tags": []
   },
   "outputs": [],
   "source": [
    "#chicago vs indianapolis streetview dataset creation\n",
    "import random, os.path\n",
    "import shutil\n",
    "\n",
    "random.seed(13)#consistent results when generating training data\n",
    "\n",
    "#turning the streetview image data into classification training data\n",
    "for i in range(chicagoDataFrame.shape[0]):\n",
    "    streetviewImageName = chicagoDataFrame.at[i, 'StreetviewImageName']\n",
    "    path = streetviewImageFilePathHeader + streetviewImageName + \".png\"\n",
    "\n",
    "    dataGroup = generateRandomDataGroup()\n",
    "    \n",
    "    newPath = createNewTrainingFilePath(streetviewImageName, \"chi_vs_ind\", dataGroup, 'chicago')\n",
    "    \n",
    "    shutil.copyfile(path, newPath)\n",
    "\n",
    "for i in range(indianapolisDataFrame.shape[0]):\n",
    "    streetviewImageName = indianapolisDataFrame.at[i, 'StreetviewImageName']\n",
    "    path = streetviewImageFilePathHeader + streetviewImageName + \".png\"\n",
    "\n",
    "    dataGroup = generateRandomDataGroup()\n",
    "    \n",
    "    newPath = createNewTrainingFilePath(streetviewImageName, \"chi_vs_ind\", dataGroup, 'indianapolis')\n",
    "\n",
    "    if(os.path.isfile(path)):\n",
    "        shutil.copyfile(path, newPath)\n"
   ]
  },
  {
   "cell_type": "code",
   "execution_count": null,
   "metadata": {
    "editable": true,
    "slideshow": {
     "slide_type": ""
    },
    "tags": []
   },
   "outputs": [],
   "source": [
    "#street view vs satellite view dataset creation\n",
    "import random\n",
    "from pathlib import Path\n",
    "import shutil\n",
    "\n",
    "#helper function for creating the data set paths\n",
    "def createNewTrainingFilePath(name, dataFolder, satellite, validating):\n",
    "    path = \"classifications/\"\n",
    "    path += dataFolder + \"/\"\n",
    "    \n",
    "    if(not validating):\n",
    "        path += \"train/\"\n",
    "    else:\n",
    "        path += \"val/\"\n",
    "    \n",
    "    if(satellite):\n",
    "        path += \"satellite/\" + name + \"_sat\"\n",
    "    else:\n",
    "        path += \"streetview/\" + name + \"_str\"\n",
    "\n",
    "    path += \".png\"\n",
    "    \n",
    "    return path\n",
    "\n",
    "\n",
    "#turning the streetview and satellite image data into classification training data\n",
    "for i in range(chicagoDataFrame.shape[0]):\n",
    "    satelliteviewImageName = chicagoDataFrame.at[i, 'SatelliteImageName']\n",
    "    path = satelliteImageFilePathHeader + satelliteviewImageName + \".png\"\n",
    "    \n",
    "    validating = random.randint(1, 8) == 1\n",
    "    newPath = createNewTrainingFilePath(satelliteviewImageName, \"satellite_vs_street\", True, validating)\n",
    "    \n",
    "    shutil.copyfile(path, newPath)\n",
    "    \n",
    "    streetviewImageName = chicagoDataFrame.at[i, 'StreetviewImageName']\n",
    "    path = streetviewImageFilePathHeader + streetviewImageName + \".png\"\n",
    "    \n",
    "    validating = random.randint(1, 8) == 1\n",
    "    newPath = createNewTrainingFilePath(streetviewImageName, \"satellite_vs_street\", False, validating)\n",
    "    \n",
    "    shutil.copyfile(path, newPath)"
   ]
  },
  {
   "cell_type": "code",
   "execution_count": null,
   "metadata": {
    "editable": true,
    "slideshow": {
     "slide_type": ""
    },
    "tags": []
   },
   "outputs": [],
   "source": [
    "#pool vs no pool dataset creation\n",
    "import random\n",
    "from pathlib import Path\n",
    "import shutil\n",
    "\n",
    "#helper function for creating the data set paths\n",
    "def createNewTrainingFilePath(name, dataFolder, pool, validating):\n",
    "    path = \"classifications/\"\n",
    "    path += dataFolder + \"/\"\n",
    "    \n",
    "    if(not validating):\n",
    "        path += \"train/\"\n",
    "    else:\n",
    "        path += \"val/\"\n",
    "    \n",
    "    if(pool):\n",
    "        path += \"pool/\" + name + \"_pool\"\n",
    "    else:\n",
    "        path += \"no_pool/\" + name + \"_poolless\"\n",
    "\n",
    "    path += \".png\"\n",
    "    \n",
    "    return path\n",
    "\n",
    "\n",
    "#turning the streetview image data into classification training data\n",
    "for i in range(chicagoDataFrame.shape[0]):\n",
    "    satelliteviewImageName = chicagoDataFrame.at[i, 'SatelliteImageName']\n",
    "    path = satelliteImageFilePathHeader + satelliteviewImageName + \".png\"\n",
    "\n",
    "    hasPool = chicagoDataFrame.at[i, 'Pool'] == 'TRUE'\n",
    "    validating = random.randint(1, 8) == 1\n",
    "    newPath = createNewTrainingFilePath(satelliteviewImageName, \"satellite_poolhaving\", hasPool, validating)\n",
    "    \n",
    "    shutil.copyfile(path, newPath)\n",
    "    "
   ]
  },
  {
   "cell_type": "markdown",
   "metadata": {},
   "source": [
    "# Abadonness Classification Model"
   ]
  },
  {
   "cell_type": "code",
   "execution_count": null,
   "metadata": {
    "editable": true,
    "slideshow": {
     "slide_type": ""
    },
    "tags": []
   },
   "outputs": [],
   "source": [
    "#training abandonnessModel\n",
    "\n",
    "modelPath = \"yolov8m-cls.pt\"\n",
    "abandonnessModel = YOLO(modelPath) #uncomment to restart training from scratch\n",
    "abandonnessModel.train(data=\"classifications/streetview_abandonedness\", epochs = 200, device = [0,1], model = modelPath)"
   ]
  },
  {
   "cell_type": "code",
   "execution_count": 11,
   "metadata": {
    "editable": true,
    "slideshow": {
     "slide_type": ""
    },
    "tags": []
   },
   "outputs": [],
   "source": [
    "#getting pretrained model\n",
    "modelPath = \"abandonnessmodelbest.pt\"\n",
    "abandonnessModel = YOLO(modelPath)"
   ]
  },
  {
   "cell_type": "code",
   "execution_count": 12,
   "metadata": {
    "editable": true,
    "slideshow": {
     "slide_type": ""
    },
    "tags": []
   },
   "outputs": [
    {
     "name": "stdout",
     "output_type": "stream",
     "text": [
      "\n",
      "image 1/47 c:\\Users\\sirun\\Documents\\grad school stuff\\Research Assistant Work\\satelliteview\\classifications\\streetview_abandonedness\\test\\abandoned\\v10001_abandoned.png: 224x224 abandoned 0.91, owned 0.09, .ipynb_checkpoints 0.00, 58.5ms\n",
      "image 2/47 c:\\Users\\sirun\\Documents\\grad school stuff\\Research Assistant Work\\satelliteview\\classifications\\streetview_abandonedness\\test\\abandoned\\v10007_abandoned.png: 224x224 abandoned 0.72, owned 0.28, .ipynb_checkpoints 0.00, 50.2ms\n",
      "image 3/47 c:\\Users\\sirun\\Documents\\grad school stuff\\Research Assistant Work\\satelliteview\\classifications\\streetview_abandonedness\\test\\abandoned\\v10009_abandoned.png: 224x224 abandoned 1.00, owned 0.00, .ipynb_checkpoints 0.00, 53.0ms\n",
      "image 4/47 c:\\Users\\sirun\\Documents\\grad school stuff\\Research Assistant Work\\satelliteview\\classifications\\streetview_abandonedness\\test\\abandoned\\v10036_abandoned.png: 224x224 abandoned 0.94, owned 0.05, .ipynb_checkpoints 0.00, 49.6ms\n",
      "image 5/47 c:\\Users\\sirun\\Documents\\grad school stuff\\Research Assistant Work\\satelliteview\\classifications\\streetview_abandonedness\\test\\abandoned\\v10037_abandoned.png: 224x224 abandoned 1.00, owned 0.00, .ipynb_checkpoints 0.00, 48.8ms\n",
      "image 6/47 c:\\Users\\sirun\\Documents\\grad school stuff\\Research Assistant Work\\satelliteview\\classifications\\streetview_abandonedness\\test\\abandoned\\v10039_abandoned.png: 224x224 owned 0.90, abandoned 0.10, .ipynb_checkpoints 0.00, 51.0ms\n",
      "image 7/47 c:\\Users\\sirun\\Documents\\grad school stuff\\Research Assistant Work\\satelliteview\\classifications\\streetview_abandonedness\\test\\abandoned\\v10049_abandoned.png: 224x224 abandoned 0.94, owned 0.06, .ipynb_checkpoints 0.00, 50.0ms\n",
      "image 8/47 c:\\Users\\sirun\\Documents\\grad school stuff\\Research Assistant Work\\satelliteview\\classifications\\streetview_abandonedness\\test\\abandoned\\v10056_abandoned.png: 224x224 abandoned 1.00, owned 0.00, .ipynb_checkpoints 0.00, 49.4ms\n",
      "image 9/47 c:\\Users\\sirun\\Documents\\grad school stuff\\Research Assistant Work\\satelliteview\\classifications\\streetview_abandonedness\\test\\abandoned\\v10060_abandoned.png: 224x224 owned 0.95, abandoned 0.05, .ipynb_checkpoints 0.00, 48.4ms\n",
      "image 10/47 c:\\Users\\sirun\\Documents\\grad school stuff\\Research Assistant Work\\satelliteview\\classifications\\streetview_abandonedness\\test\\abandoned\\v10072_abandoned.png: 224x224 owned 1.00, abandoned 0.00, .ipynb_checkpoints 0.00, 50.3ms\n",
      "image 11/47 c:\\Users\\sirun\\Documents\\grad school stuff\\Research Assistant Work\\satelliteview\\classifications\\streetview_abandonedness\\test\\abandoned\\v10116_abandoned.png: 224x224 abandoned 0.89, owned 0.11, .ipynb_checkpoints 0.00, 52.6ms\n",
      "image 12/47 c:\\Users\\sirun\\Documents\\grad school stuff\\Research Assistant Work\\satelliteview\\classifications\\streetview_abandonedness\\test\\abandoned\\v10130_abandoned.png: 224x224 abandoned 0.87, owned 0.13, .ipynb_checkpoints 0.00, 59.0ms\n",
      "image 13/47 c:\\Users\\sirun\\Documents\\grad school stuff\\Research Assistant Work\\satelliteview\\classifications\\streetview_abandonedness\\test\\abandoned\\v10134_abandoned.png: 224x224 owned 0.91, abandoned 0.09, .ipynb_checkpoints 0.00, 55.4ms\n",
      "image 14/47 c:\\Users\\sirun\\Documents\\grad school stuff\\Research Assistant Work\\satelliteview\\classifications\\streetview_abandonedness\\test\\abandoned\\v10166_abandoned.png: 224x224 abandoned 1.00, owned 0.00, .ipynb_checkpoints 0.00, 53.2ms\n",
      "image 15/47 c:\\Users\\sirun\\Documents\\grad school stuff\\Research Assistant Work\\satelliteview\\classifications\\streetview_abandonedness\\test\\abandoned\\v10189_abandoned.png: 224x224 abandoned 0.99, owned 0.01, .ipynb_checkpoints 0.00, 50.7ms\n",
      "image 16/47 c:\\Users\\sirun\\Documents\\grad school stuff\\Research Assistant Work\\satelliteview\\classifications\\streetview_abandonedness\\test\\abandoned\\v10192_abandoned.png: 224x224 abandoned 1.00, owned 0.00, .ipynb_checkpoints 0.00, 54.4ms\n",
      "image 17/47 c:\\Users\\sirun\\Documents\\grad school stuff\\Research Assistant Work\\satelliteview\\classifications\\streetview_abandonedness\\test\\abandoned\\v10201_abandoned.png: 224x224 abandoned 0.80, owned 0.20, .ipynb_checkpoints 0.00, 52.9ms\n",
      "image 18/47 c:\\Users\\sirun\\Documents\\grad school stuff\\Research Assistant Work\\satelliteview\\classifications\\streetview_abandonedness\\test\\abandoned\\v10204_abandoned.png: 224x224 abandoned 0.87, owned 0.13, .ipynb_checkpoints 0.00, 51.3ms\n",
      "image 19/47 c:\\Users\\sirun\\Documents\\grad school stuff\\Research Assistant Work\\satelliteview\\classifications\\streetview_abandonedness\\test\\abandoned\\v10222_abandoned.png: 224x224 abandoned 0.96, owned 0.04, .ipynb_checkpoints 0.00, 52.8ms\n",
      "image 20/47 c:\\Users\\sirun\\Documents\\grad school stuff\\Research Assistant Work\\satelliteview\\classifications\\streetview_abandonedness\\test\\abandoned\\v10230_abandoned.png: 224x224 abandoned 1.00, owned 0.00, .ipynb_checkpoints 0.00, 50.5ms\n",
      "image 21/47 c:\\Users\\sirun\\Documents\\grad school stuff\\Research Assistant Work\\satelliteview\\classifications\\streetview_abandonedness\\test\\abandoned\\v10234_abandoned.png: 224x224 abandoned 1.00, owned 0.00, .ipynb_checkpoints 0.00, 54.3ms\n",
      "image 22/47 c:\\Users\\sirun\\Documents\\grad school stuff\\Research Assistant Work\\satelliteview\\classifications\\streetview_abandonedness\\test\\abandoned\\v10290_abandoned.png: 224x224 abandoned 1.00, owned 0.00, .ipynb_checkpoints 0.00, 52.7ms\n",
      "image 23/47 c:\\Users\\sirun\\Documents\\grad school stuff\\Research Assistant Work\\satelliteview\\classifications\\streetview_abandonedness\\test\\abandoned\\v10292_abandoned.png: 224x224 abandoned 1.00, owned 0.00, .ipynb_checkpoints 0.00, 60.4ms\n",
      "image 24/47 c:\\Users\\sirun\\Documents\\grad school stuff\\Research Assistant Work\\satelliteview\\classifications\\streetview_abandonedness\\test\\abandoned\\v10294_abandoned.png: 224x224 abandoned 1.00, owned 0.00, .ipynb_checkpoints 0.00, 51.5ms\n",
      "image 25/47 c:\\Users\\sirun\\Documents\\grad school stuff\\Research Assistant Work\\satelliteview\\classifications\\streetview_abandonedness\\test\\abandoned\\v10297_abandoned.png: 224x224 abandoned 1.00, owned 0.00, .ipynb_checkpoints 0.00, 52.4ms\n",
      "image 26/47 c:\\Users\\sirun\\Documents\\grad school stuff\\Research Assistant Work\\satelliteview\\classifications\\streetview_abandonedness\\test\\abandoned\\v10325_abandoned.png: 224x224 owned 0.78, abandoned 0.22, .ipynb_checkpoints 0.00, 51.9ms\n",
      "image 27/47 c:\\Users\\sirun\\Documents\\grad school stuff\\Research Assistant Work\\satelliteview\\classifications\\streetview_abandonedness\\test\\abandoned\\v10333_abandoned.png: 224x224 abandoned 1.00, owned 0.00, .ipynb_checkpoints 0.00, 52.5ms\n",
      "image 28/47 c:\\Users\\sirun\\Documents\\grad school stuff\\Research Assistant Work\\satelliteview\\classifications\\streetview_abandonedness\\test\\abandoned\\v10346_abandoned.png: 224x224 abandoned 0.97, owned 0.03, .ipynb_checkpoints 0.00, 53.4ms\n",
      "image 29/47 c:\\Users\\sirun\\Documents\\grad school stuff\\Research Assistant Work\\satelliteview\\classifications\\streetview_abandonedness\\test\\abandoned\\v10350_abandoned.png: 224x224 owned 0.99, abandoned 0.01, .ipynb_checkpoints 0.00, 51.8ms\n",
      "image 30/47 c:\\Users\\sirun\\Documents\\grad school stuff\\Research Assistant Work\\satelliteview\\classifications\\streetview_abandonedness\\test\\abandoned\\v10364_abandoned.png: 224x224 owned 0.95, abandoned 0.05, .ipynb_checkpoints 0.00, 52.1ms\n",
      "image 31/47 c:\\Users\\sirun\\Documents\\grad school stuff\\Research Assistant Work\\satelliteview\\classifications\\streetview_abandonedness\\test\\abandoned\\v10378_abandoned.png: 224x224 abandoned 0.82, owned 0.18, .ipynb_checkpoints 0.00, 55.7ms\n",
      "image 32/47 c:\\Users\\sirun\\Documents\\grad school stuff\\Research Assistant Work\\satelliteview\\classifications\\streetview_abandonedness\\test\\abandoned\\v10379_abandoned.png: 224x224 abandoned 0.99, owned 0.01, .ipynb_checkpoints 0.00, 52.0ms\n",
      "image 33/47 c:\\Users\\sirun\\Documents\\grad school stuff\\Research Assistant Work\\satelliteview\\classifications\\streetview_abandonedness\\test\\abandoned\\v10437_abandoned.png: 224x224 abandoned 1.00, owned 0.00, .ipynb_checkpoints 0.00, 47.4ms\n",
      "image 34/47 c:\\Users\\sirun\\Documents\\grad school stuff\\Research Assistant Work\\satelliteview\\classifications\\streetview_abandonedness\\test\\abandoned\\v10451_abandoned.png: 224x224 abandoned 1.00, owned 0.00, .ipynb_checkpoints 0.00, 48.5ms\n",
      "image 35/47 c:\\Users\\sirun\\Documents\\grad school stuff\\Research Assistant Work\\satelliteview\\classifications\\streetview_abandonedness\\test\\abandoned\\v10468_abandoned.png: 224x224 abandoned 0.99, owned 0.01, .ipynb_checkpoints 0.00, 49.6ms\n",
      "image 36/47 c:\\Users\\sirun\\Documents\\grad school stuff\\Research Assistant Work\\satelliteview\\classifications\\streetview_abandonedness\\test\\abandoned\\v20007_abandoned.png: 224x224 owned 0.88, abandoned 0.12, .ipynb_checkpoints 0.00, 51.5ms\n",
      "image 37/47 c:\\Users\\sirun\\Documents\\grad school stuff\\Research Assistant Work\\satelliteview\\classifications\\streetview_abandonedness\\test\\abandoned\\v20018_abandoned.png: 224x224 abandoned 0.96, owned 0.04, .ipynb_checkpoints 0.00, 46.1ms\n",
      "image 38/47 c:\\Users\\sirun\\Documents\\grad school stuff\\Research Assistant Work\\satelliteview\\classifications\\streetview_abandonedness\\test\\abandoned\\v20029_abandoned.png: 224x224 abandoned 0.99, owned 0.01, .ipynb_checkpoints 0.00, 48.9ms\n",
      "image 39/47 c:\\Users\\sirun\\Documents\\grad school stuff\\Research Assistant Work\\satelliteview\\classifications\\streetview_abandonedness\\test\\abandoned\\v20038_abandoned.png: 224x224 abandoned 0.96, owned 0.04, .ipynb_checkpoints 0.00, 58.3ms\n",
      "image 40/47 c:\\Users\\sirun\\Documents\\grad school stuff\\Research Assistant Work\\satelliteview\\classifications\\streetview_abandonedness\\test\\abandoned\\v20063_abandoned.png: 224x224 abandoned 1.00, owned 0.00, .ipynb_checkpoints 0.00, 51.0ms\n",
      "image 41/47 c:\\Users\\sirun\\Documents\\grad school stuff\\Research Assistant Work\\satelliteview\\classifications\\streetview_abandonedness\\test\\abandoned\\v20121_abandoned.png: 224x224 abandoned 1.00, owned 0.00, .ipynb_checkpoints 0.00, 51.8ms\n",
      "image 42/47 c:\\Users\\sirun\\Documents\\grad school stuff\\Research Assistant Work\\satelliteview\\classifications\\streetview_abandonedness\\test\\abandoned\\v20138_abandoned.png: 224x224 abandoned 1.00, owned 0.00, .ipynb_checkpoints 0.00, 49.3ms\n",
      "image 43/47 c:\\Users\\sirun\\Documents\\grad school stuff\\Research Assistant Work\\satelliteview\\classifications\\streetview_abandonedness\\test\\abandoned\\v20145_abandoned.png: 224x224 owned 0.95, abandoned 0.05, .ipynb_checkpoints 0.00, 52.0ms\n",
      "image 44/47 c:\\Users\\sirun\\Documents\\grad school stuff\\Research Assistant Work\\satelliteview\\classifications\\streetview_abandonedness\\test\\abandoned\\v20165_abandoned.png: 224x224 abandoned 1.00, owned 0.00, .ipynb_checkpoints 0.00, 52.8ms\n",
      "image 45/47 c:\\Users\\sirun\\Documents\\grad school stuff\\Research Assistant Work\\satelliteview\\classifications\\streetview_abandonedness\\test\\abandoned\\v20182_abandoned.png: 224x224 abandoned 1.00, owned 0.00, .ipynb_checkpoints 0.00, 52.9ms\n",
      "image 46/47 c:\\Users\\sirun\\Documents\\grad school stuff\\Research Assistant Work\\satelliteview\\classifications\\streetview_abandonedness\\test\\abandoned\\v20238_abandoned.png: 224x224 abandoned 1.00, owned 0.00, .ipynb_checkpoints 0.00, 49.1ms\n",
      "image 47/47 c:\\Users\\sirun\\Documents\\grad school stuff\\Research Assistant Work\\satelliteview\\classifications\\streetview_abandonedness\\test\\abandoned\\v20248_abandoned.png: 224x224 owned 0.86, abandoned 0.14, .ipynb_checkpoints 0.00, 49.8ms\n",
      "Speed: 5.1ms preprocess, 51.9ms inference, 0.0ms postprocess per image at shape (1, 3, 224, 224)\n",
      "\n",
      "image 1/34 c:\\Users\\sirun\\Documents\\grad school stuff\\Research Assistant Work\\satelliteview\\classifications\\streetview_abandonedness\\test\\owned\\v10014_owned.png: 224x224 owned 0.86, abandoned 0.14, .ipynb_checkpoints 0.00, 48.8ms\n",
      "image 2/34 c:\\Users\\sirun\\Documents\\grad school stuff\\Research Assistant Work\\satelliteview\\classifications\\streetview_abandonedness\\test\\owned\\v10047_owned.png: 224x224 abandoned 0.95, owned 0.05, .ipynb_checkpoints 0.00, 48.9ms\n",
      "image 3/34 c:\\Users\\sirun\\Documents\\grad school stuff\\Research Assistant Work\\satelliteview\\classifications\\streetview_abandonedness\\test\\owned\\v10062_owned.png: 224x224 abandoned 1.00, owned 0.00, .ipynb_checkpoints 0.00, 53.2ms\n",
      "image 4/34 c:\\Users\\sirun\\Documents\\grad school stuff\\Research Assistant Work\\satelliteview\\classifications\\streetview_abandonedness\\test\\owned\\v10090_owned.png: 224x224 abandoned 0.87, owned 0.12, .ipynb_checkpoints 0.00, 52.0ms\n",
      "image 5/34 c:\\Users\\sirun\\Documents\\grad school stuff\\Research Assistant Work\\satelliteview\\classifications\\streetview_abandonedness\\test\\owned\\v10114_owned.png: 224x224 abandoned 1.00, owned 0.00, .ipynb_checkpoints 0.00, 52.3ms\n",
      "image 6/34 c:\\Users\\sirun\\Documents\\grad school stuff\\Research Assistant Work\\satelliteview\\classifications\\streetview_abandonedness\\test\\owned\\v10121_owned.png: 224x224 owned 0.96, abandoned 0.04, .ipynb_checkpoints 0.00, 50.1ms\n",
      "image 7/34 c:\\Users\\sirun\\Documents\\grad school stuff\\Research Assistant Work\\satelliteview\\classifications\\streetview_abandonedness\\test\\owned\\v10144_owned.png: 224x224 owned 1.00, abandoned 0.00, .ipynb_checkpoints 0.00, 51.8ms\n",
      "image 8/34 c:\\Users\\sirun\\Documents\\grad school stuff\\Research Assistant Work\\satelliteview\\classifications\\streetview_abandonedness\\test\\owned\\v10159_owned.png: 224x224 owned 1.00, abandoned 0.00, .ipynb_checkpoints 0.00, 53.2ms\n",
      "image 9/34 c:\\Users\\sirun\\Documents\\grad school stuff\\Research Assistant Work\\satelliteview\\classifications\\streetview_abandonedness\\test\\owned\\v10167_owned.png: 224x224 owned 0.67, abandoned 0.33, .ipynb_checkpoints 0.00, 48.7ms\n",
      "image 10/34 c:\\Users\\sirun\\Documents\\grad school stuff\\Research Assistant Work\\satelliteview\\classifications\\streetview_abandonedness\\test\\owned\\v10169_owned.png: 224x224 owned 1.00, abandoned 0.00, .ipynb_checkpoints 0.00, 51.1ms\n",
      "image 11/34 c:\\Users\\sirun\\Documents\\grad school stuff\\Research Assistant Work\\satelliteview\\classifications\\streetview_abandonedness\\test\\owned\\v10207_owned.png: 224x224 abandoned 0.93, owned 0.07, .ipynb_checkpoints 0.00, 59.3ms\n",
      "image 12/34 c:\\Users\\sirun\\Documents\\grad school stuff\\Research Assistant Work\\satelliteview\\classifications\\streetview_abandonedness\\test\\owned\\v10223_owned.png: 224x224 abandoned 0.97, owned 0.03, .ipynb_checkpoints 0.00, 56.4ms\n",
      "image 13/34 c:\\Users\\sirun\\Documents\\grad school stuff\\Research Assistant Work\\satelliteview\\classifications\\streetview_abandonedness\\test\\owned\\v10246_owned.png: 224x224 owned 0.99, abandoned 0.01, .ipynb_checkpoints 0.00, 56.6ms\n",
      "image 14/34 c:\\Users\\sirun\\Documents\\grad school stuff\\Research Assistant Work\\satelliteview\\classifications\\streetview_abandonedness\\test\\owned\\v10249_owned.png: 224x224 owned 1.00, abandoned 0.00, .ipynb_checkpoints 0.00, 53.1ms\n",
      "image 15/34 c:\\Users\\sirun\\Documents\\grad school stuff\\Research Assistant Work\\satelliteview\\classifications\\streetview_abandonedness\\test\\owned\\v10253_owned.png: 224x224 owned 1.00, abandoned 0.00, .ipynb_checkpoints 0.00, 52.9ms\n",
      "image 16/34 c:\\Users\\sirun\\Documents\\grad school stuff\\Research Assistant Work\\satelliteview\\classifications\\streetview_abandonedness\\test\\owned\\v10304_owned.png: 224x224 owned 1.00, abandoned 0.00, .ipynb_checkpoints 0.00, 49.2ms\n",
      "image 17/34 c:\\Users\\sirun\\Documents\\grad school stuff\\Research Assistant Work\\satelliteview\\classifications\\streetview_abandonedness\\test\\owned\\v10320_owned.png: 224x224 owned 1.00, abandoned 0.00, .ipynb_checkpoints 0.00, 50.4ms\n",
      "image 18/34 c:\\Users\\sirun\\Documents\\grad school stuff\\Research Assistant Work\\satelliteview\\classifications\\streetview_abandonedness\\test\\owned\\v10326_owned.png: 224x224 owned 1.00, abandoned 0.00, .ipynb_checkpoints 0.00, 50.1ms\n",
      "image 19/34 c:\\Users\\sirun\\Documents\\grad school stuff\\Research Assistant Work\\satelliteview\\classifications\\streetview_abandonedness\\test\\owned\\v10349_owned.png: 224x224 owned 0.69, abandoned 0.31, .ipynb_checkpoints 0.00, 50.8ms\n",
      "image 20/34 c:\\Users\\sirun\\Documents\\grad school stuff\\Research Assistant Work\\satelliteview\\classifications\\streetview_abandonedness\\test\\owned\\v10396_owned.png: 224x224 owned 1.00, abandoned 0.00, .ipynb_checkpoints 0.00, 51.0ms\n",
      "image 21/34 c:\\Users\\sirun\\Documents\\grad school stuff\\Research Assistant Work\\satelliteview\\classifications\\streetview_abandonedness\\test\\owned\\v10413_owned.png: 224x224 owned 0.97, abandoned 0.03, .ipynb_checkpoints 0.00, 47.7ms\n",
      "image 22/34 c:\\Users\\sirun\\Documents\\grad school stuff\\Research Assistant Work\\satelliteview\\classifications\\streetview_abandonedness\\test\\owned\\v10429_owned.png: 224x224 abandoned 1.00, owned 0.00, .ipynb_checkpoints 0.00, 49.8ms\n",
      "image 23/34 c:\\Users\\sirun\\Documents\\grad school stuff\\Research Assistant Work\\satelliteview\\classifications\\streetview_abandonedness\\test\\owned\\v10443_owned.png: 224x224 owned 1.00, abandoned 0.00, .ipynb_checkpoints 0.00, 53.1ms\n",
      "image 24/34 c:\\Users\\sirun\\Documents\\grad school stuff\\Research Assistant Work\\satelliteview\\classifications\\streetview_abandonedness\\test\\owned\\v10464_owned.png: 224x224 owned 0.99, abandoned 0.01, .ipynb_checkpoints 0.00, 49.3ms\n",
      "image 25/34 c:\\Users\\sirun\\Documents\\grad school stuff\\Research Assistant Work\\satelliteview\\classifications\\streetview_abandonedness\\test\\owned\\v20002_owned.png: 224x224 owned 1.00, abandoned 0.00, .ipynb_checkpoints 0.00, 49.5ms\n",
      "image 26/34 c:\\Users\\sirun\\Documents\\grad school stuff\\Research Assistant Work\\satelliteview\\classifications\\streetview_abandonedness\\test\\owned\\v20070_owned.png: 224x224 abandoned 0.96, owned 0.04, .ipynb_checkpoints 0.00, 48.5ms\n",
      "image 27/34 c:\\Users\\sirun\\Documents\\grad school stuff\\Research Assistant Work\\satelliteview\\classifications\\streetview_abandonedness\\test\\owned\\v20077_owned.png: 224x224 owned 1.00, abandoned 0.00, .ipynb_checkpoints 0.00, 50.8ms\n",
      "image 28/34 c:\\Users\\sirun\\Documents\\grad school stuff\\Research Assistant Work\\satelliteview\\classifications\\streetview_abandonedness\\test\\owned\\v20156_owned.png: 224x224 owned 1.00, abandoned 0.00, .ipynb_checkpoints 0.00, 52.0ms\n",
      "image 29/34 c:\\Users\\sirun\\Documents\\grad school stuff\\Research Assistant Work\\satelliteview\\classifications\\streetview_abandonedness\\test\\owned\\v20168_owned.png: 224x224 owned 1.00, abandoned 0.00, .ipynb_checkpoints 0.00, 52.1ms\n",
      "image 30/34 c:\\Users\\sirun\\Documents\\grad school stuff\\Research Assistant Work\\satelliteview\\classifications\\streetview_abandonedness\\test\\owned\\v20176_owned.png: 224x224 abandoned 0.85, owned 0.15, .ipynb_checkpoints 0.00, 48.0ms\n",
      "image 31/34 c:\\Users\\sirun\\Documents\\grad school stuff\\Research Assistant Work\\satelliteview\\classifications\\streetview_abandonedness\\test\\owned\\v20179_owned.png: 224x224 abandoned 0.99, owned 0.01, .ipynb_checkpoints 0.00, 51.3ms\n",
      "image 32/34 c:\\Users\\sirun\\Documents\\grad school stuff\\Research Assistant Work\\satelliteview\\classifications\\streetview_abandonedness\\test\\owned\\v20189_owned.png: 224x224 abandoned 1.00, owned 0.00, .ipynb_checkpoints 0.00, 49.2ms\n",
      "image 33/34 c:\\Users\\sirun\\Documents\\grad school stuff\\Research Assistant Work\\satelliteview\\classifications\\streetview_abandonedness\\test\\owned\\v20195_owned.png: 224x224 abandoned 0.79, owned 0.21, .ipynb_checkpoints 0.00, 50.7ms\n",
      "image 34/34 c:\\Users\\sirun\\Documents\\grad school stuff\\Research Assistant Work\\satelliteview\\classifications\\streetview_abandonedness\\test\\owned\\v20213_owned.png: 224x224 owned 0.61, abandoned 0.39, .ipynb_checkpoints 0.00, 51.2ms\n",
      "Speed: 5.1ms preprocess, 51.3ms inference, 0.0ms postprocess per image at shape (1, 3, 224, 224)\n"
     ]
    }
   ],
   "source": [
    "#predicting from test data\n",
    "testFolderPath = \"classifications/streetview_abandonedness/test/abandoned\"\n",
    "abandonedTestResults = abandonnessModel.predict(testFolderPath)\n",
    "testFolderPath = \"classifications/streetview_abandonedness/test/owned\"\n",
    "ownedTestResults = abandonnessModel.predict(testFolderPath)\n"
   ]
  },
  {
   "cell_type": "code",
   "execution_count": 13,
   "metadata": {},
   "outputs": [
    {
     "name": "stdout",
     "output_type": "stream",
     "text": [
      "Accuracy:  59 / 81  =  0.728\n",
      "\n",
      "Abandonness precision:  0.755\n",
      "Owned precision:  0.688\n",
      "Abandonness recall:  0.787\n",
      "Owned recall:  0.647\n",
      "\n",
      "Abandonness f1 score:  0.771\n",
      "Owned f1 score:  0.667\n"
     ]
    }
   ],
   "source": [
    "#analyzing test data\n",
    "correctAbandons = 0\n",
    "correctOwneds = 0\n",
    "falseAbandons = 0\n",
    "falseOwneds = 0\n",
    "totalTests = 0\n",
    "\n",
    "for result in abandonedTestResults:\n",
    "    if(result.names[result.probs.top1] == 'abandoned'):\n",
    "        correctAbandons += 1\n",
    "    else:\n",
    "        falseOwneds += 1\n",
    "    totalTests += 1\n",
    "\n",
    "\n",
    "for result in ownedTestResults:\n",
    "    if(result.names[result.probs.top1] == 'owned'):\n",
    "        correctOwneds += 1\n",
    "    else:\n",
    "        falseAbandons += 1\n",
    "    totalTests += 1\n",
    "\n",
    "#calculating accuracy (how accurate the model is at getting the correct results)\n",
    "correctTests = correctAbandons + correctOwneds\n",
    "accuracy = correctTests/totalTests\n",
    "\n",
    "#calculating precision (how good the model is at avoiding false positives)\n",
    "abandonnessPrecision = correctAbandons / (correctAbandons + falseAbandons)\n",
    "ownedPrecision = correctOwneds / (correctOwneds + falseOwneds)\n",
    "\n",
    "#calculating recall (how good the model is at avoiding false negatives)\n",
    "abandonnessRecall = correctAbandons / (correctAbandons + falseOwneds)\n",
    "ownedRecall = correctOwneds / (correctOwneds + falseAbandons) \n",
    "\n",
    "#calculating f1 score \n",
    "abandonnessF1 = 2 * (abandonnessRecall * abandonnessPrecision)/(abandonnessRecall + abandonnessPrecision)\n",
    "ownedF1 = 2 * (ownedRecall * ownedPrecision)/(ownedRecall + ownedPrecision)\n",
    "\n",
    "print(\"Accuracy: \", correctTests, \"/\", totalTests, \" = \", round(accuracy, 3))\n",
    "print()\n",
    "print(\"Abandonness precision: \", round(abandonnessPrecision, 3))\n",
    "print(\"Owned precision: \", round(ownedPrecision, 3))\n",
    "print(\"Abandonness recall: \", round(abandonnessRecall, 3))\n",
    "print(\"Owned recall: \", round(ownedRecall, 3))\n",
    "print()\n",
    "print(\"Abandonness f1 score: \", round(abandonnessF1, 3))\n",
    "print(\"Owned f1 score: \", round(ownedF1, 3))"
   ]
  },
  {
   "cell_type": "markdown",
   "metadata": {},
   "source": [
    "# Satellite vs Street view classification model"
   ]
  },
  {
   "cell_type": "code",
   "execution_count": null,
   "metadata": {},
   "outputs": [],
   "source": [
    "\n",
    "satvsstrModel = YOLO(\"yolov8m-cls.pt\")\n",
    "satvsstrModel.train(data=\"classifications/satellite_vs_street\", epochs = 20)"
   ]
  },
  {
   "cell_type": "code",
   "execution_count": null,
   "metadata": {},
   "outputs": [],
   "source": [
    "satvsstrModel.val()"
   ]
  },
  {
   "cell_type": "code",
   "execution_count": null,
   "metadata": {},
   "outputs": [],
   "source": [
    "\n",
    "streetViewPaths = [streetviewImageFilePathHeader + path + \".png\" for path in indianapolisDataFrame.loc[:100, 'StreetviewImageName']]\n",
    "satelliteViewPaths = [satelliteImageFilePathHeader + path + \".png\" for path in indianapolisDataFrame.loc[:100, 'SatelliteImageName']]\n",
    "\n",
    "results = satvsstrModel.predict(streetViewPaths + satelliteViewPaths)"
   ]
  },
  {
   "cell_type": "markdown",
   "metadata": {},
   "source": [
    "# Pool vs no pool classification model\n",
    "(not enough \"pool\" data for this one probably)"
   ]
  },
  {
   "cell_type": "code",
   "execution_count": null,
   "metadata": {
    "editable": true,
    "slideshow": {
     "slide_type": ""
    },
    "tags": []
   },
   "outputs": [],
   "source": [
    "#poolModel = YOLO(\"yolov8m-cls.pt\")\n",
    "poolModel.train(data=\"classifications/satellite_poolhaving\", epochs = 50)"
   ]
  },
  {
   "cell_type": "code",
   "execution_count": null,
   "metadata": {},
   "outputs": [],
   "source": [
    "\n",
    "#old helper function I used when testing results\n",
    "def predictFromData(model, dataFrame, start, end, comparisonColumn, streetview = True):\n",
    "    for i in range(start, end):\n",
    "        if(streetview):\n",
    "            fullPath = streetviewImageFilePathHeader + dataFrame.loc[i, 'StreetviewImageName'] + \".png\"\n",
    "        else:\n",
    "            fullPath = satelliteImageFilePathHeader + dataFrame.loc[i, 'SatelliteImageName'] + \".png\"\n",
    "        results = model.predict(fullPath)\n",
    "        result = results[0]\n",
    "        print(\"For id: \", dataFrame.at[i, 'ID'], \" model guessed \", result.names[result.probs.top1], \" with confidence \", round(result.probs.top1conf.item(), 3), \". Actual data: \", dataFrame.at[i, comparisonColumn])\n",
    "\n",
    "#reading prediction data to manually check model accuracy\n",
    "predictFromData(poolModel, indianapolisDataFrame, 10, 20, 'Pool', False)"
   ]
  },
  {
   "cell_type": "markdown",
   "metadata": {
    "jp-MarkdownHeadingCollapsed": true
   },
   "source": [
    "# City classification model"
   ]
  },
  {
   "cell_type": "code",
   "execution_count": null,
   "metadata": {
    "editable": true,
    "slideshow": {
     "slide_type": ""
    },
    "tags": []
   },
   "outputs": [],
   "source": [
    "#cityModel = YOLO(\"yolov8m-cls.pt\")\n",
    "cityModel.train(data=\"classifications/chi_vs_ind\", epochs = 100, device=[0, 1])"
   ]
  },
  {
   "cell_type": "code",
   "execution_count": null,
   "metadata": {
    "editable": true,
    "slideshow": {
     "slide_type": ""
    },
    "tags": []
   },
   "outputs": [],
   "source": [
    "'''\n",
    "cityModel = YOLO('runs/classify/train62/weights/best.pt')\n",
    "\n",
    "paths =  [streetviewImageFilePathHeader + path + \".png\" for path in chicagoDataFrame.loc[60:80, 'StreetviewImageName']]\n",
    "paths += [streetviewImageFilePathHeader + path + \".png\" for path in indianapolisDataFrame.loc[60:80, 'StreetviewImageName']]\n",
    "\n",
    "results = cityModel.predict(paths)\n",
    "\n",
    "for i in range(len(paths)):\n",
    "    result = results[i]\n",
    "    print(\"for image \", paths[i], \" model predicted\", result.names[result.probs.top1], \" with confidence \", round(result.probs.top1conf.item(), 3))\n",
    "'''\n",
    "\n",
    "cityModel = YOLO('runs/classify/train16/weights/best.pt')\n",
    "\n",
    "results = cityModel.predict('classifications/chi_vs_ind/test/chicago')\n",
    "results += cityModel.predict('classifications/chi_vs_ind/test/indianapolis')\n"
   ]
  },
  {
   "cell_type": "markdown",
   "metadata": {
    "jp-MarkdownHeadingCollapsed": true
   },
   "source": [
    "# Untrained YOLO v8 detection"
   ]
  },
  {
   "cell_type": "code",
   "execution_count": null,
   "metadata": {
    "editable": true,
    "slideshow": {
     "slide_type": ""
    },
    "tags": []
   },
   "outputs": [],
   "source": [
    "detectionModel = YOLO(\"yolov8m.pt\")\n",
    "\n",
    "paths = [streetviewImageFilePathHeader + path + \".png\" for path in indianapolisDataFrame.loc[:100, 'StreetviewImageName']]\n",
    "results = model.predict(paths)\n",
    "for result in results:\n",
    "    if len(result.boxes) > 0:\n",
    "        print(\"---\")\n",
    "        print(\"Found in \", result.path)\n",
    "        for box in result.boxes:\n",
    "            print(\"---\")\n",
    "            cords = box.xyxy[0].tolist()\n",
    "            cords = [round(x, 1) for x in cords] # rounds each coordinate\n",
    "            class_id = result.names[box.cls[0].item()] # gets the name of identified object from dictionary of all objects YOLO can identify\n",
    "            conf = round(box.conf[0].item(), 2) # rounds to 2 digits\n",
    "            \n",
    "            print(\"Object type:\", class_id)\n",
    "            print(\"Coordinates:\", cords)\n",
    "            print(\"Probability:\", conf)\n",
    "            \n",
    "        result.save(\"object_detection_results/\" + result.path)\n",
    "            "
   ]
  },
  {
   "cell_type": "markdown",
   "metadata": {
    "jp-MarkdownHeadingCollapsed": true
   },
   "source": [
    "# Detection Model \n",
    "(old, data set too small and annoying to create)"
   ]
  },
  {
   "cell_type": "code",
   "execution_count": null,
   "metadata": {},
   "outputs": [],
   "source": [
    "#training detection model\n",
    "model = YOLO(\"yolov8m.pt\")\n",
    "model.train(data=r\"./detection_datasets/data.yaml\", epochs = 200)"
   ]
  },
  {
   "cell_type": "code",
   "execution_count": null,
   "metadata": {},
   "outputs": [],
   "source": [
    "abandonnessModel = YOLO(\"runs/detect/train15/weights/best.pt\")\n",
    "\n",
    "results = abandonnessModel.predict(\"streetview_images/v10070.png\")\n",
    "results[0]"
   ]
  },
  {
   "cell_type": "code",
   "execution_count": null,
   "metadata": {},
   "outputs": [],
   "source": [
    "paths = [streetviewImageFilePathHeader + path + \".png\" for path in chicagoDataFrame.loc[100:130, 'StreetviewImageName']]\n",
    "results = abandonnessModel.predict(paths)"
   ]
  },
  {
   "cell_type": "code",
   "execution_count": null,
   "metadata": {},
   "outputs": [],
   "source": [
    "\n",
    "for i in range(len(results)):\n",
    "    result = results[i]\n",
    "    for box in result.boxes:\n",
    "        print(\"---\")\n",
    "        cords = box.xyxy[0].tolist()\n",
    "        cords = [round(x, 1) for x in cords] # rounds each coordinate\n",
    "        class_id = result.names[box.cls[0].item()] # gets the name of identified object from dictionary of all objects YOLO can identify\n",
    "        conf = round(box.conf[0].item(), 2) # rounds to 2 digits\n",
    "        print(\"Said ID: \",(100 + i), \" was \", class_id, \". Actual status: \", chicagoDataFrame.at[100 + i, 'Status'])\n",
    "        "
   ]
  },
  {
   "cell_type": "code",
   "execution_count": null,
   "metadata": {},
   "outputs": [],
   "source": [
    "#extra training model\n",
    "abandonnessModel.train(data=\"datasets/data.yaml\", epochs = 5)"
   ]
  }
 ],
 "metadata": {
  "kernelspec": {
   "display_name": "Python 3",
   "language": "python",
   "name": "python3"
  },
  "language_info": {
   "codemirror_mode": {
    "name": "ipython",
    "version": 3
   },
   "file_extension": ".py",
   "mimetype": "text/x-python",
   "name": "python",
   "nbconvert_exporter": "python",
   "pygments_lexer": "ipython3",
   "version": "3.13.2"
  }
 },
 "nbformat": 4,
 "nbformat_minor": 4
}
